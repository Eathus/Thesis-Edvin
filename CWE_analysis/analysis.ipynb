{
 "cells": [
  {
   "cell_type": "markdown",
   "metadata": {},
   "source": [
    "# CWE Analysis\n",
    "The purpose of this pipeline is to collect metadata about the CWE. In particular view CWE-1003 as it's contains the weaknesses the NVD use for labeling. However we may also take a look at view CWE-1000 for completeness. "
   ]
  },
  {
   "cell_type": "code",
   "execution_count": 45,
   "metadata": {},
   "outputs": [
    {
     "name": "stdout",
     "output_type": "stream",
     "text": [
      "Data successfully written to 'tmp/view_CWE-1003.json'\n",
      "37\n",
      "Data successfully written to 'tmp/view_CWE-1003_desc_CWE-74.json'\n",
      "Data successfully written to 'tmp/view_CWE-1003_children_CWE-74.json'\n",
      "Data successfully written to 'tmp/CWE-20,74_weakness.json'\n",
      "Data successfully written to 'tmp/url_leaf1284.json'\n"
     ]
    },
    {
     "data": {
      "text/plain": [
       "[]"
      ]
     },
     "execution_count": 45,
     "metadata": {},
     "output_type": "execute_result"
    }
   ],
   "source": [
    "import requests\n",
    "import json\n",
    "\n",
    "def req_CWE(url, jfile = None, printj = True) :\n",
    "    headers = {\n",
    "        'User-Agent': 'Mozilla/5.0 (X11; Linux x86_64; rv:109.0) Gecko/20100101 Firefox/115.0'\n",
    "    }\n",
    "    try:\n",
    "        # Make the request\n",
    "        reply = requests.get(url, headers=headers, timeout=100)\n",
    "        jreply = reply.json()\n",
    "\n",
    "        if not printj :\n",
    "            return jreply\n",
    "        # Write the JSON response to a file\n",
    "        if jfile is None : \n",
    "            print(json.dump(jreply, indent=4))\n",
    "        else :\n",
    "            with open('tmp/' + jfile, 'w') as file:\n",
    "                json.dump(jreply, file, indent=4)  # Write JSON data to the file with indentation\n",
    "            print(\"Data successfully written to 'tmp/\" + jfile + \"'\")\n",
    "        return jreply\n",
    "    except Exception as exp:\n",
    "        # Handle exceptions and write error details to the file\n",
    "        if jfile is None  :\n",
    "            print(f\"Exception -> {exp}\")\n",
    "            print(f\"Request status -> {reply.status_code}\")\n",
    "        else :\n",
    "            with open('tmp/' + jfile, 'w') as file:\n",
    "                error_message = {\n",
    "                    \"error\": str(exp),\n",
    "                    \"status_code\": reply.status_code if 'reply' in locals() else None\n",
    "                }\n",
    "                json.dump(error_message, file, indent=4)\n",
    "            print(f\"Exception occurred. Details written to 'tmp/\" + jfile + \"'\")\n",
    "\n",
    "# temporary\n",
    "url_view1003 = 'https://cwe-api.mitre.org/api/v1/cwe/view/1003'\n",
    "url_view1003_des = 'https://cwe-api.mitre.org/api/v1/cwe/74/descendants?view=1003'\n",
    "url_view1003_children = 'https://cwe-api.mitre.org/api/v1/cwe/74/children?view=1003'\n",
    "url_CWE_20_74_inf = 'https://cwe-api.mitre.org/api/v1/cwe/weakness/20,74'\n",
    "#url_CWE_all1003_inf = 'https://cwe-api.mitre.org/api/v1/cwe/weakness?view=1003'\n",
    "url_leaf1284 = 'https://cwe-api.mitre.org/api/v1/cwe/1284/children?view=1003'\n",
    "print(len(req_CWE(url_view1003, 'view_CWE-1003.json')['Views'][0]['Members']))\n",
    "req_CWE(url_view1003_des, 'view_CWE-1003_desc_CWE-74.json')\n",
    "req_CWE(url_view1003_children, 'view_CWE-1003_children_CWE-74.json')\n",
    "req_CWE(url_CWE_20_74_inf, 'CWE-20,74_weakness.json')\n",
    "#req_CWE(url_CWE_all1003_inf, 'CWE-1003_weakness.json')\n",
    "req_CWE(url_leaf1284, 'url_leaf1284.json')"
   ]
  },
  {
   "cell_type": "code",
   "execution_count": null,
   "metadata": {},
   "outputs": [
    {
     "name": "stdout",
     "output_type": "stream",
     "text": [
      "130\n",
      "https://cwe-api.mitre.org/api/v1/cwe/weakness/20,1284,129,74,1236,77,78,79,88,89,91,917,94,116,838,119,120,125,787,824,200,203,209,532,269,287,290,294,295,306,307,521,522,640,798,311,312,319,326,327,916,330,331,335,338,345,346,347,352,354,924,362,367,400,770,920,404,401,459,763,772,407,1333,436,444,610,1021,384,601,611,918,662,667,665,1188,908,909,668,134,426,427,428,552,669,212,434,494,565,829,670,617,672,415,416,613,674,776,682,131,190,191,193,369,697,704,681,843,706,178,22,59,732,276,281,754,252,273,476,755,834,835,862,425,863,639,913,1321,470,502,92\n",
      "Data successfully written to 'tmp/view_CWE-1003_all_weaknesses.json'\n"
     ]
    }
   ],
   "source": [
    "def rec_expand(view, cweID) : \n",
    "    childrenURL = 'https://cwe-api.mitre.org/api/v1/cwe/' + cweID + '/children?view=' + view\n",
    "    childrenj = req_CWE(childrenURL, printj=False)\n",
    "    id_list = []\n",
    "    for child in childrenj : \n",
    "        headID = child['ID']\n",
    "        id_list.append(headID)\n",
    "        id_list += rec_expand(view, headID)\n",
    "    \n",
    "    return id_list\n",
    "\n",
    "def get_weaknesses_from_view(view, expand = False, save=False) :\n",
    "    viewURL = 'https://cwe-api.mitre.org/api/v1/cwe/view/' + view\n",
    "    weaknessesURL = 'https://cwe-api.mitre.org/api/v1/cwe/weakness/'\n",
    "    id_list = []\n",
    "    jview = req_CWE(viewURL, printj=False)\n",
    "    for member in jview['Views'][0]['Members'] :\n",
    "        headID = member['CweID']\n",
    "        id_list.append(headID)\n",
    "        if expand : \n",
    "            id_list += rec_expand(view, headID)\n",
    "    weaknessesURL += \",\".join(id_list)\n",
    "    \n",
    "    print(\"Number of weaknesses extracted:\\t\" + len(id_list))\n",
    "    #print(\"resulting API request\" + weaknessesURL)\n",
    "\n",
    "    fsave_name = \"view_CWE-\" + view + (\"_all_weaknesses\" if expand else \"_head_weaknesses\") + \".json\"\n",
    "    jview_complete = req_CWE(weaknessesURL, fsave_name, save)\n",
    "    return jview_complete\n",
    "\n",
    "jview1003_complete = get_weaknesses_from_view('1003', True, True)\n",
    "\n"
   ]
  },
  {
   "cell_type": "code",
   "execution_count": 53,
   "metadata": {},
   "outputs": [
    {
     "name": "stdout",
     "output_type": "stream",
     "text": [
      "130\n"
     ]
    }
   ],
   "source": [
    "print(len(jview1003_complete['Weaknesses']))"
   ]
  }
 ],
 "metadata": {
  "kernelspec": {
   "display_name": "mthesis_pyenv",
   "language": "python",
   "name": "python3"
  },
  "language_info": {
   "codemirror_mode": {
    "name": "ipython",
    "version": 3
   },
   "file_extension": ".py",
   "mimetype": "text/x-python",
   "name": "python",
   "nbconvert_exporter": "python",
   "pygments_lexer": "ipython3",
   "version": "3.12.3"
  }
 },
 "nbformat": 4,
 "nbformat_minor": 2
}
