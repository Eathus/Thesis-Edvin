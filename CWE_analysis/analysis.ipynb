{
 "cells": [
  {
   "cell_type": "markdown",
   "metadata": {},
   "source": [
    "# CWE Analysis\n",
    "The purpose of this pipeline is to collect metadata about the CWE. In particular view CWE-1003 as it's contains the weaknesses the NVD use for labeling. However we may also take a look at view CWE-1000 for completeness. "
   ]
  },
  {
   "cell_type": "code",
   "execution_count": null,
   "metadata": {},
   "outputs": [
    {
     "name": "stdout",
     "output_type": "stream",
     "text": [
      "Data successfully written to 'tmp/view_CWE-1003.json'\n"
     ]
    }
   ],
   "source": [
    "import requests\n",
    "import json\n",
    "\n",
    "url = 'https://cwe-api.mitre.org/api/v1/cwe/view/1003'\n",
    "headers = {\n",
    "    'User-Agent': 'Mozilla/5.0 (X11; Linux x86_64; rv:109.0) Gecko/20100101 Firefox/115.0'\n",
    "}\n",
    "\n",
    "try:\n",
    "    # Make the request\n",
    "    reply = requests.get(url, headers=headers, timeout=100)\n",
    "    j_reply = reply.json()\n",
    "\n",
    "    # Write the JSON response to a file\n",
    "    with open('tmp/view_CWE-1003.json', 'w') as file:\n",
    "        json.dump(j_reply, file, indent=4)  # Write JSON data to the file with indentation\n",
    "    print(\"Data successfully written to 'tmp/view_CWE-1003.json'\")\n",
    "\n",
    "except Exception as exp:\n",
    "    # Handle exceptions and write error details to the file\n",
    "    with open('tmp/view_CWE-1003.json', 'w') as file:\n",
    "        error_message = {\n",
    "            \"error\": str(exp),\n",
    "            \"status_code\": reply.status_code if 'reply' in locals() else None\n",
    "        }\n",
    "        json.dump(error_message, file, indent=4)\n",
    "    print(f\"Exception occurred. Details written to 'tmp/view_CWE-1003.json'\")"
   ]
  }
 ],
 "metadata": {
  "kernelspec": {
   "display_name": "mthesis_pyenv",
   "language": "python",
   "name": "python3"
  },
  "language_info": {
   "codemirror_mode": {
    "name": "ipython",
    "version": 3
   },
   "file_extension": ".py",
   "mimetype": "text/x-python",
   "name": "python",
   "nbconvert_exporter": "python",
   "pygments_lexer": "ipython3",
   "version": "3.12.3"
  }
 },
 "nbformat": 4,
 "nbformat_minor": 2
}
