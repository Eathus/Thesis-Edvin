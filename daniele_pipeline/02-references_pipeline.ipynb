{
 "cells": [
  {
   "cell_type": "markdown",
   "id": "ae2b699d8daaa509",
   "metadata": {
    "collapsed": false
   },
   "source": [
    "# References pipeline\n",
    "The main scope of this pipeline is:\n",
    "- Filter useful CVE, based on the validation status\n",
    "- Extract the references list from them\n",
    "- Data analysis and selection of the repos under investigation "
   ]
  },
  {
   "cell_type": "code",
   "execution_count": 3,
   "id": "60b8735e37651a1f",
   "metadata": {
    "ExecuteTime": {
     "end_time": "2024-08-10T23:18:11.865532Z",
     "start_time": "2024-08-10T23:18:11.858615Z"
    },
    "collapsed": false
   },
   "outputs": [
    {
     "data": {
      "text/plain": [
       "'/home/edvinn/KTH/DA231X-ex/Thesis-Edvin'"
      ]
     },
     "execution_count": 3,
     "metadata": {},
     "output_type": "execute_result"
    }
   ],
   "source": [
    "import os\n",
    "\n",
    "os.chdir(\"..\")\n",
    "os.getcwd()"
   ]
  },
  {
   "cell_type": "code",
   "execution_count": 1,
   "id": "2b84f4bd7c4d2045",
   "metadata": {
    "ExecuteTime": {
     "end_time": "2024-08-10T23:18:23.109363Z",
     "start_time": "2024-08-10T23:18:11.936387Z"
    },
    "collapsed": false
   },
   "outputs": [],
   "source": [
    "import pandas as pd\n",
    "from datasets import load_dataset\n",
    "\n",
    "ds = load_dataset(\"Eathus/nvd_raw_list\", split=\"train\")\n",
    "raw_df = ds.to_pandas()"
   ]
  },
  {
   "cell_type": "code",
   "execution_count": 2,
   "id": "377fa082",
   "metadata": {},
   "outputs": [],
   "source": [
    "import pandas as pd\n",
    "from datasets import load_dataset\n",
    "\n",
    "ds = load_dataset(\"Eathus/cwe_view1000_raw_list\", split=\"train\")\n",
    "cwe_1000_df = ds.to_pandas()\n",
    "ds = load_dataset(\"Eathus/cwe_view1003_raw_list\", split=\"train\")\n",
    "cwe_1003_df = ds.to_pandas()"
   ]
  },
  {
   "cell_type": "code",
   "execution_count": 3,
   "id": "b74450693fa2e860",
   "metadata": {
    "ExecuteTime": {
     "end_time": "2024-08-10T23:18:23.118200Z",
     "start_time": "2024-08-10T23:18:23.110931Z"
    },
    "collapsed": false
   },
   "outputs": [
    {
     "data": {
      "text/plain": [
       "vulnStatus\n",
       "Modified               118041\n",
       "Awaiting Analysis       22514\n",
       "Analyzed                15110\n",
       "Rejected                 8816\n",
       "Received                 1259\n",
       "Undergoing Analysis       777\n",
       "Name: count, dtype: int64"
      ]
     },
     "execution_count": 3,
     "metadata": {},
     "output_type": "execute_result"
    }
   ],
   "source": [
    "raw_df[\"vulnStatus\"].value_counts()"
   ]
  },
  {
   "cell_type": "markdown",
   "id": "d1a288c47dfc1df5",
   "metadata": {},
   "source": [
    "| NVD Status         | Description                                                                                                    |\n",
    "|--------------------|----------------------------------------------------------------------------------------------------------------|\n",
    "| Received           | CVE has been recently published to the CVE List and has been received by the NVD.                              |\n",
    "| Awaiting Analysis  | CVE has been marked for Analysis. Normally once in this state the CVE will be analyzed by NVD staff within 24 hours. |\n",
    "| Undergoing Analysis| CVE is currently being analyzed by NVD staff, this process results in association of reference link tags, CVSS metrics, CWE association, and CPE applicability statements. |\n",
    "| Analyzed           | CVE has had analysis completed and all data associations made. Each Analysis has three sub-types, Initial, Modified and Reanalysis. Analyzed CVEs do not show a banner on the vulnerability detail page. |\n",
    "| Initial            | Used to show the first time analysis was performed on a given CVE.                                              |\n",
    "| Modified           | Used to show that analysis was performed due to a modification of the CVE’s information.                        |\n",
    "| Reanalysis         | Used to show that new analysis occurred, but was not due to a modification from an external source.             |\n",
    "| Modified           | CVE has been amended by a source (CVE Primary CNA or another CNA). Analysis data supplied by the NVD may no longer be accurate due to these changes. |\n",
    "| Deferred           | When a CVE is given this status the NVD does not plan to analyze or re-analyze this CVE due to resource or other concerns. |\n",
    "| Rejected           | CVE has been marked as \"**REJECT**\" in the CVE List. These CVEs are stored in the NVD, but do not show up in search results. |\n"
   ]
  },
  {
   "cell_type": "code",
   "execution_count": 4,
   "id": "6f4fccdc39b45938",
   "metadata": {
    "ExecuteTime": {
     "end_time": "2024-08-10T23:18:23.238784Z",
     "start_time": "2024-08-10T23:18:23.119022Z"
    }
   },
   "outputs": [
    {
     "data": {
      "text/plain": [
       "vulnStatus\n",
       "Modified    118041\n",
       "Analyzed     15110\n",
       "Name: count, dtype: int64"
      ]
     },
     "execution_count": 4,
     "metadata": {},
     "output_type": "execute_result"
    }
   ],
   "source": [
    "filtered_df = raw_df[\n",
    "    raw_df[\"vulnStatus\"].str.contains(\"Analyzed|Modified\", na=False)\n",
    "].copy()\n",
    "filtered_df[\"vulnStatus\"].value_counts()"
   ]
  },
  {
   "cell_type": "code",
   "execution_count": 5,
   "id": "d9e28a0fc230ca64",
   "metadata": {
    "ExecuteTime": {
     "end_time": "2024-08-10T23:18:23.337173Z",
     "start_time": "2024-08-10T23:18:23.241216Z"
    },
    "collapsed": false
   },
   "outputs": [
    {
     "data": {
      "text/html": [
       "<div>\n",
       "<style scoped>\n",
       "    .dataframe tbody tr th:only-of-type {\n",
       "        vertical-align: middle;\n",
       "    }\n",
       "\n",
       "    .dataframe tbody tr th {\n",
       "        vertical-align: top;\n",
       "    }\n",
       "\n",
       "    .dataframe thead th {\n",
       "        text-align: right;\n",
       "    }\n",
       "</style>\n",
       "<table border=\"1\" class=\"dataframe\">\n",
       "  <thead>\n",
       "    <tr style=\"text-align: right;\">\n",
       "      <th></th>\n",
       "      <th>id</th>\n",
       "      <th>published</th>\n",
       "      <th>descriptions</th>\n",
       "      <th>metrics</th>\n",
       "      <th>weaknesses</th>\n",
       "      <th>references</th>\n",
       "      <th>configurations</th>\n",
       "    </tr>\n",
       "  </thead>\n",
       "  <tbody>\n",
       "    <tr>\n",
       "      <th>0</th>\n",
       "      <td>CVE-2019-3494</td>\n",
       "      <td>2019-01-01T15:29:00.240</td>\n",
       "      <td>Simply-Blog through 2019-01-01 has SQL Injecti...</td>\n",
       "      <td>{'cvssMetricV2': [{'acInsufInfo': False, 'base...</td>\n",
       "      <td>[{'description': [{'lang': 'en', 'value': 'CWE...</td>\n",
       "      <td>[{'source': 'cve@mitre.org', 'tags': ['Exploit...</td>\n",
       "      <td>[{'nodes': [{'cpeMatch': array([{'criteria': '...</td>\n",
       "    </tr>\n",
       "    <tr>\n",
       "      <th>1</th>\n",
       "      <td>CVE-2018-20650</td>\n",
       "      <td>2019-01-01T16:29:00.233</td>\n",
       "      <td>A reachable Object::dictLookup assertion in Po...</td>\n",
       "      <td>{'cvssMetricV2': [{'acInsufInfo': False, 'base...</td>\n",
       "      <td>[{'description': [{'lang': 'en', 'value': 'CWE...</td>\n",
       "      <td>[{'source': 'cve@mitre.org', 'tags': ['Third P...</td>\n",
       "      <td>[{'nodes': [{'cpeMatch': array([{'criteria': '...</td>\n",
       "    </tr>\n",
       "    <tr>\n",
       "      <th>2</th>\n",
       "      <td>CVE-2018-20651</td>\n",
       "      <td>2019-01-01T16:29:00.343</td>\n",
       "      <td>A NULL pointer dereference was discovered in e...</td>\n",
       "      <td>{'cvssMetricV2': [{'acInsufInfo': False, 'base...</td>\n",
       "      <td>[{'description': [{'lang': 'en', 'value': 'CWE...</td>\n",
       "      <td>[{'source': 'cve@mitre.org', 'tags': None, 'ur...</td>\n",
       "      <td>[{'nodes': [{'cpeMatch': array([{'criteria': '...</td>\n",
       "    </tr>\n",
       "    <tr>\n",
       "      <th>3</th>\n",
       "      <td>CVE-2018-20652</td>\n",
       "      <td>2019-01-01T16:29:00.403</td>\n",
       "      <td>An attempted excessive memory allocation was d...</td>\n",
       "      <td>{'cvssMetricV2': [{'acInsufInfo': False, 'base...</td>\n",
       "      <td>[{'description': [{'lang': 'en', 'value': 'CWE...</td>\n",
       "      <td>[{'source': 'cve@mitre.org', 'tags': ['Exploit...</td>\n",
       "      <td>[{'nodes': [{'cpeMatch': array([{'criteria': '...</td>\n",
       "    </tr>\n",
       "    <tr>\n",
       "      <th>4</th>\n",
       "      <td>CVE-2019-3500</td>\n",
       "      <td>2019-01-02T07:29:00.197</td>\n",
       "      <td>aria2c in aria2 1.33.1, when --log is used, ca...</td>\n",
       "      <td>{'cvssMetricV2': [{'acInsufInfo': False, 'base...</td>\n",
       "      <td>[{'description': [{'lang': 'en', 'value': 'CWE...</td>\n",
       "      <td>[{'source': 'cve@mitre.org', 'tags': ['Patch',...</td>\n",
       "      <td>[{'nodes': [{'cpeMatch': array([{'criteria': '...</td>\n",
       "    </tr>\n",
       "    <tr>\n",
       "      <th>...</th>\n",
       "      <td>...</td>\n",
       "      <td>...</td>\n",
       "      <td>...</td>\n",
       "      <td>...</td>\n",
       "      <td>...</td>\n",
       "      <td>...</td>\n",
       "      <td>...</td>\n",
       "    </tr>\n",
       "    <tr>\n",
       "      <th>165230</th>\n",
       "      <td>CVE-2025-25192</td>\n",
       "      <td>2025-02-25T18:15:27.583</td>\n",
       "      <td>GLPI is a free asset and IT management softwar...</td>\n",
       "      <td>{'cvssMetricV2': None, 'cvssMetricV30': None, ...</td>\n",
       "      <td>[{'description': [{'lang': 'en', 'value': 'CWE...</td>\n",
       "      <td>[{'source': 'security-advisories@github.com', ...</td>\n",
       "      <td>[{'nodes': [{'cpeMatch': array([{'criteria': '...</td>\n",
       "    </tr>\n",
       "    <tr>\n",
       "      <th>165231</th>\n",
       "      <td>CVE-2024-36259</td>\n",
       "      <td>2025-02-25T19:15:14.343</td>\n",
       "      <td>Improper access control in mail module of Odoo...</td>\n",
       "      <td>{'cvssMetricV2': None, 'cvssMetricV30': None, ...</td>\n",
       "      <td>[{'description': [{'lang': 'en', 'value': 'CWE...</td>\n",
       "      <td>[{'source': 'security@odoo.com', 'tags': ['Exp...</td>\n",
       "      <td>[{'nodes': [{'cpeMatch': array([{'criteria': '...</td>\n",
       "    </tr>\n",
       "    <tr>\n",
       "      <th>165239</th>\n",
       "      <td>CVE-2025-27110</td>\n",
       "      <td>2025-02-25T20:15:37.517</td>\n",
       "      <td>Libmodsecurity is one component of the ModSecu...</td>\n",
       "      <td>{'cvssMetricV2': None, 'cvssMetricV30': None, ...</td>\n",
       "      <td>[{'description': [{'lang': 'en', 'value': 'CWE...</td>\n",
       "      <td>[{'source': 'security-advisories@github.com', ...</td>\n",
       "      <td>[{'nodes': [{'cpeMatch': array([{'criteria': '...</td>\n",
       "    </tr>\n",
       "    <tr>\n",
       "      <th>165240</th>\n",
       "      <td>CVE-2025-27139</td>\n",
       "      <td>2025-02-25T20:15:37.693</td>\n",
       "      <td>Combodo iTop is a web based IT service managem...</td>\n",
       "      <td>{'cvssMetricV2': None, 'cvssMetricV30': None, ...</td>\n",
       "      <td>[{'description': [{'lang': 'en', 'value': 'CWE...</td>\n",
       "      <td>[{'source': 'security-advisories@github.com', ...</td>\n",
       "      <td>[{'nodes': [{'cpeMatch': array([{'criteria': '...</td>\n",
       "    </tr>\n",
       "    <tr>\n",
       "      <th>165241</th>\n",
       "      <td>CVE-2025-27142</td>\n",
       "      <td>2025-02-25T20:15:37.847</td>\n",
       "      <td>LocalSend is a free, open-source app that allo...</td>\n",
       "      <td>{'cvssMetricV2': None, 'cvssMetricV30': None, ...</td>\n",
       "      <td>[{'description': [{'lang': 'en', 'value': 'CWE...</td>\n",
       "      <td>[{'source': 'security-advisories@github.com', ...</td>\n",
       "      <td>[{'nodes': [{'cpeMatch': array([{'criteria': '...</td>\n",
       "    </tr>\n",
       "  </tbody>\n",
       "</table>\n",
       "<p>133151 rows × 7 columns</p>\n",
       "</div>"
      ],
      "text/plain": [
       "                    id                published  \\\n",
       "0        CVE-2019-3494  2019-01-01T15:29:00.240   \n",
       "1       CVE-2018-20650  2019-01-01T16:29:00.233   \n",
       "2       CVE-2018-20651  2019-01-01T16:29:00.343   \n",
       "3       CVE-2018-20652  2019-01-01T16:29:00.403   \n",
       "4        CVE-2019-3500  2019-01-02T07:29:00.197   \n",
       "...                ...                      ...   \n",
       "165230  CVE-2025-25192  2025-02-25T18:15:27.583   \n",
       "165231  CVE-2024-36259  2025-02-25T19:15:14.343   \n",
       "165239  CVE-2025-27110  2025-02-25T20:15:37.517   \n",
       "165240  CVE-2025-27139  2025-02-25T20:15:37.693   \n",
       "165241  CVE-2025-27142  2025-02-25T20:15:37.847   \n",
       "\n",
       "                                             descriptions  \\\n",
       "0       Simply-Blog through 2019-01-01 has SQL Injecti...   \n",
       "1       A reachable Object::dictLookup assertion in Po...   \n",
       "2       A NULL pointer dereference was discovered in e...   \n",
       "3       An attempted excessive memory allocation was d...   \n",
       "4       aria2c in aria2 1.33.1, when --log is used, ca...   \n",
       "...                                                   ...   \n",
       "165230  GLPI is a free asset and IT management softwar...   \n",
       "165231  Improper access control in mail module of Odoo...   \n",
       "165239  Libmodsecurity is one component of the ModSecu...   \n",
       "165240  Combodo iTop is a web based IT service managem...   \n",
       "165241  LocalSend is a free, open-source app that allo...   \n",
       "\n",
       "                                                  metrics  \\\n",
       "0       {'cvssMetricV2': [{'acInsufInfo': False, 'base...   \n",
       "1       {'cvssMetricV2': [{'acInsufInfo': False, 'base...   \n",
       "2       {'cvssMetricV2': [{'acInsufInfo': False, 'base...   \n",
       "3       {'cvssMetricV2': [{'acInsufInfo': False, 'base...   \n",
       "4       {'cvssMetricV2': [{'acInsufInfo': False, 'base...   \n",
       "...                                                   ...   \n",
       "165230  {'cvssMetricV2': None, 'cvssMetricV30': None, ...   \n",
       "165231  {'cvssMetricV2': None, 'cvssMetricV30': None, ...   \n",
       "165239  {'cvssMetricV2': None, 'cvssMetricV30': None, ...   \n",
       "165240  {'cvssMetricV2': None, 'cvssMetricV30': None, ...   \n",
       "165241  {'cvssMetricV2': None, 'cvssMetricV30': None, ...   \n",
       "\n",
       "                                               weaknesses  \\\n",
       "0       [{'description': [{'lang': 'en', 'value': 'CWE...   \n",
       "1       [{'description': [{'lang': 'en', 'value': 'CWE...   \n",
       "2       [{'description': [{'lang': 'en', 'value': 'CWE...   \n",
       "3       [{'description': [{'lang': 'en', 'value': 'CWE...   \n",
       "4       [{'description': [{'lang': 'en', 'value': 'CWE...   \n",
       "...                                                   ...   \n",
       "165230  [{'description': [{'lang': 'en', 'value': 'CWE...   \n",
       "165231  [{'description': [{'lang': 'en', 'value': 'CWE...   \n",
       "165239  [{'description': [{'lang': 'en', 'value': 'CWE...   \n",
       "165240  [{'description': [{'lang': 'en', 'value': 'CWE...   \n",
       "165241  [{'description': [{'lang': 'en', 'value': 'CWE...   \n",
       "\n",
       "                                               references  \\\n",
       "0       [{'source': 'cve@mitre.org', 'tags': ['Exploit...   \n",
       "1       [{'source': 'cve@mitre.org', 'tags': ['Third P...   \n",
       "2       [{'source': 'cve@mitre.org', 'tags': None, 'ur...   \n",
       "3       [{'source': 'cve@mitre.org', 'tags': ['Exploit...   \n",
       "4       [{'source': 'cve@mitre.org', 'tags': ['Patch',...   \n",
       "...                                                   ...   \n",
       "165230  [{'source': 'security-advisories@github.com', ...   \n",
       "165231  [{'source': 'security@odoo.com', 'tags': ['Exp...   \n",
       "165239  [{'source': 'security-advisories@github.com', ...   \n",
       "165240  [{'source': 'security-advisories@github.com', ...   \n",
       "165241  [{'source': 'security-advisories@github.com', ...   \n",
       "\n",
       "                                           configurations  \n",
       "0       [{'nodes': [{'cpeMatch': array([{'criteria': '...  \n",
       "1       [{'nodes': [{'cpeMatch': array([{'criteria': '...  \n",
       "2       [{'nodes': [{'cpeMatch': array([{'criteria': '...  \n",
       "3       [{'nodes': [{'cpeMatch': array([{'criteria': '...  \n",
       "4       [{'nodes': [{'cpeMatch': array([{'criteria': '...  \n",
       "...                                                   ...  \n",
       "165230  [{'nodes': [{'cpeMatch': array([{'criteria': '...  \n",
       "165231  [{'nodes': [{'cpeMatch': array([{'criteria': '...  \n",
       "165239  [{'nodes': [{'cpeMatch': array([{'criteria': '...  \n",
       "165240  [{'nodes': [{'cpeMatch': array([{'criteria': '...  \n",
       "165241  [{'nodes': [{'cpeMatch': array([{'criteria': '...  \n",
       "\n",
       "[133151 rows x 7 columns]"
      ]
     },
     "metadata": {},
     "output_type": "display_data"
    },
    {
     "data": {
      "text/plain": [
       "array([{'description': array([{'lang': 'en', 'value': 'CWE-89'}], dtype=object), 'source': 'nvd@nist.gov', 'type': 'Primary'}],\n",
       "      dtype=object)"
      ]
     },
     "metadata": {},
     "output_type": "display_data"
    }
   ],
   "source": [
    "filtered_df[\"descriptions\"] = filtered_df[\"descriptions\"].map(lambda x: x[0][\"value\"])\n",
    "filtered_df[\"cvssData\"] = filtered_df[\"metrics\"].map(\n",
    "    lambda x: x[\"cvssMetricV31\"] if \"cvssMetricV31\" in x.keys() else None\n",
    ")\n",
    "vulnerabilities_df = filtered_df[\n",
    "    [\n",
    "        \"id\",\n",
    "        \"published\",\n",
    "        \"descriptions\",\n",
    "        \"metrics\",\n",
    "        \"weaknesses\",\n",
    "        \"references\",\n",
    "        \"configurations\",\n",
    "    ]\n",
    "]\n",
    "display(vulnerabilities_df)\n",
    "display(vulnerabilities_df[\"weaknesses\"].iloc[0])"
   ]
  },
  {
   "cell_type": "code",
   "execution_count": 34,
   "id": "505a681a",
   "metadata": {},
   "outputs": [
    {
     "data": {
      "text/plain": [
       "'\\ndf_cve_weaknesses = vulnerabilities_df[[\"id\", \"weaknesses\"]].copy()\\n# display(df_cve_weaknesses.drop_duplicates(subset=\"id\"))\\ndf_cve_weaknesses_expanded = df_cve_weaknesses.explode(\"weaknesses\")\\ndisplay(df_cve_weaknesses_expanded)\\ndf_weaknesses_normalized = pd.json_normalize(df_cve_weaknesses_expanded[\"weaknesses\"])\\n\\n# Combine the normalized weaknesses with the original id column\\ndf_cve_wd = pd.concat(\\n    [df_cve_weaknesses_expanded[\"id\"].reset_index(drop=True), df_weaknesses_normalized],\\n    axis=1,\\n)\\ndf_cve_wd_exp = df_cve_wd.explode(\"description\")\\ndf_cve_wd_norm = pd.json_normalize(df_cve_wd_exp[\"description\"])\\ndf_cve_weak_final = pd.concat(\\n    [df_cve_wd_exp[[\"id\", \"source\", \"type\"]].reset_index(drop=True), df_cve_wd_norm],\\n    axis=1,\\n)\\n\\ndf_cve_weak_final = df_cve_weak_final[\\n    df_cve_weak_final[\"value\"].astype(str).str.contains(\"CWE\\\\-[0-9]+\", regex=True)\\n].reset_index(drop=True)\\n# Display the final DataFrame\\ndisplay(df_cve_wd_exp)\\ndisplay(df_cve_weak_final)\\nprint(len(df_cve_weak_final.drop_duplicates(subset=\"id\")))\\n# display(pd.DataFrame(weaknesses_list_tmp))\\'\\n'"
      ]
     },
     "execution_count": 34,
     "metadata": {},
     "output_type": "execute_result"
    }
   ],
   "source": [
    "\"\"\"\n",
    "df_cve_weaknesses = vulnerabilities_df[[\"id\", \"weaknesses\"]].copy()\n",
    "# display(df_cve_weaknesses.drop_duplicates(subset=\"id\"))\n",
    "df_cve_weaknesses_expanded = df_cve_weaknesses.explode(\"weaknesses\")\n",
    "display(df_cve_weaknesses_expanded)\n",
    "df_weaknesses_normalized = pd.json_normalize(df_cve_weaknesses_expanded[\"weaknesses\"])\n",
    "\n",
    "# Combine the normalized weaknesses with the original id column\n",
    "df_cve_wd = pd.concat(\n",
    "    [df_cve_weaknesses_expanded[\"id\"].reset_index(drop=True), df_weaknesses_normalized],\n",
    "    axis=1,\n",
    ")\n",
    "df_cve_wd_exp = df_cve_wd.explode(\"description\")\n",
    "df_cve_wd_norm = pd.json_normalize(df_cve_wd_exp[\"description\"])\n",
    "df_cve_weak_final = pd.concat(\n",
    "    [df_cve_wd_exp[[\"id\", \"source\", \"type\"]].reset_index(drop=True), df_cve_wd_norm],\n",
    "    axis=1,\n",
    ")\n",
    "\n",
    "df_cve_weak_final = df_cve_weak_final[\n",
    "    df_cve_weak_final[\"value\"].astype(str).str.contains(\"CWE\\\\-[0-9]+\", regex=True)\n",
    "].reset_index(drop=True)\n",
    "# Display the final DataFrame\n",
    "display(df_cve_wd_exp)\n",
    "display(df_cve_weak_final)\n",
    "print(len(df_cve_weak_final.drop_duplicates(subset=\"id\")))\n",
    "# display(pd.DataFrame(weaknesses_list_tmp))'\n",
    "\"\"\""
   ]
  },
  {
   "cell_type": "code",
   "execution_count": 8,
   "id": "75259712",
   "metadata": {},
   "outputs": [
    {
     "ename": "TypeError",
     "evalue": "'NoneType' object is not iterable",
     "output_type": "error",
     "traceback": [
      "\u001b[0;31m---------------------------------------------------------------------------\u001b[0m",
      "\u001b[0;31mTypeError\u001b[0m                                 Traceback (most recent call last)",
      "Cell \u001b[0;32mIn[8], line 3\u001b[0m\n\u001b[1;32m      1\u001b[0m display(\n\u001b[1;32m      2\u001b[0m     \u001b[38;5;241m*\u001b[39mvulnerabilities_df[\n\u001b[0;32m----> 3\u001b[0m         \u001b[43mvulnerabilities_df\u001b[49m\u001b[43m[\u001b[49m\u001b[38;5;124;43m\"\u001b[39;49m\u001b[38;5;124;43mweaknesses\u001b[39;49m\u001b[38;5;124;43m\"\u001b[39;49m\u001b[43m]\u001b[49m\u001b[38;5;241;43m.\u001b[39;49m\u001b[43mapply\u001b[49m\u001b[43m(\u001b[49m\n\u001b[1;32m      4\u001b[0m \u001b[43m            \u001b[49m\u001b[38;5;28;43;01mlambda\u001b[39;49;00m\u001b[43m \u001b[49m\u001b[43mx\u001b[49m\u001b[43m:\u001b[49m\u001b[43m \u001b[49m\u001b[38;5;28;43mall\u001b[39;49m\u001b[43m(\u001b[49m\u001b[43m[\u001b[49m\u001b[43my\u001b[49m\u001b[43m[\u001b[49m\u001b[38;5;124;43m\"\u001b[39;49m\u001b[38;5;124;43mtype\u001b[39;49m\u001b[38;5;124;43m\"\u001b[39;49m\u001b[43m]\u001b[49m\u001b[43m \u001b[49m\u001b[38;5;241;43m==\u001b[39;49m\u001b[43m \u001b[49m\u001b[38;5;124;43m\"\u001b[39;49m\u001b[38;5;124;43mSecondary\u001b[39;49m\u001b[38;5;124;43m\"\u001b[39;49m\u001b[43m \u001b[49m\u001b[38;5;28;43;01mfor\u001b[39;49;00m\u001b[43m \u001b[49m\u001b[43my\u001b[49m\u001b[43m \u001b[49m\u001b[38;5;129;43;01min\u001b[39;49;00m\u001b[43m \u001b[49m\u001b[43mx\u001b[49m\u001b[43m]\u001b[49m\u001b[43m)\u001b[49m\n\u001b[1;32m      5\u001b[0m \u001b[43m        \u001b[49m\u001b[43m)\u001b[49m\n\u001b[1;32m      6\u001b[0m     ][\u001b[38;5;124m\"\u001b[39m\u001b[38;5;124mweaknesses\u001b[39m\u001b[38;5;124m\"\u001b[39m]\u001b[38;5;241m.\u001b[39mhead()\n\u001b[1;32m      7\u001b[0m )\n",
      "File \u001b[0;32m~/KTH/DA231X-ex/mthesis_pyenv/lib/python3.12/site-packages/pandas/core/series.py:4924\u001b[0m, in \u001b[0;36mSeries.apply\u001b[0;34m(self, func, convert_dtype, args, by_row, **kwargs)\u001b[0m\n\u001b[1;32m   4789\u001b[0m \u001b[38;5;28;01mdef\u001b[39;00m\u001b[38;5;250m \u001b[39m\u001b[38;5;21mapply\u001b[39m(\n\u001b[1;32m   4790\u001b[0m     \u001b[38;5;28mself\u001b[39m,\n\u001b[1;32m   4791\u001b[0m     func: AggFuncType,\n\u001b[0;32m   (...)\u001b[0m\n\u001b[1;32m   4796\u001b[0m     \u001b[38;5;241m*\u001b[39m\u001b[38;5;241m*\u001b[39mkwargs,\n\u001b[1;32m   4797\u001b[0m ) \u001b[38;5;241m-\u001b[39m\u001b[38;5;241m>\u001b[39m DataFrame \u001b[38;5;241m|\u001b[39m Series:\n\u001b[1;32m   4798\u001b[0m \u001b[38;5;250m    \u001b[39m\u001b[38;5;124;03m\"\"\"\u001b[39;00m\n\u001b[1;32m   4799\u001b[0m \u001b[38;5;124;03m    Invoke function on values of Series.\u001b[39;00m\n\u001b[1;32m   4800\u001b[0m \n\u001b[0;32m   (...)\u001b[0m\n\u001b[1;32m   4915\u001b[0m \u001b[38;5;124;03m    dtype: float64\u001b[39;00m\n\u001b[1;32m   4916\u001b[0m \u001b[38;5;124;03m    \"\"\"\u001b[39;00m\n\u001b[1;32m   4917\u001b[0m     \u001b[38;5;28;01mreturn\u001b[39;00m \u001b[43mSeriesApply\u001b[49m\u001b[43m(\u001b[49m\n\u001b[1;32m   4918\u001b[0m \u001b[43m        \u001b[49m\u001b[38;5;28;43mself\u001b[39;49m\u001b[43m,\u001b[49m\n\u001b[1;32m   4919\u001b[0m \u001b[43m        \u001b[49m\u001b[43mfunc\u001b[49m\u001b[43m,\u001b[49m\n\u001b[1;32m   4920\u001b[0m \u001b[43m        \u001b[49m\u001b[43mconvert_dtype\u001b[49m\u001b[38;5;241;43m=\u001b[39;49m\u001b[43mconvert_dtype\u001b[49m\u001b[43m,\u001b[49m\n\u001b[1;32m   4921\u001b[0m \u001b[43m        \u001b[49m\u001b[43mby_row\u001b[49m\u001b[38;5;241;43m=\u001b[39;49m\u001b[43mby_row\u001b[49m\u001b[43m,\u001b[49m\n\u001b[1;32m   4922\u001b[0m \u001b[43m        \u001b[49m\u001b[43margs\u001b[49m\u001b[38;5;241;43m=\u001b[39;49m\u001b[43margs\u001b[49m\u001b[43m,\u001b[49m\n\u001b[1;32m   4923\u001b[0m \u001b[43m        \u001b[49m\u001b[43mkwargs\u001b[49m\u001b[38;5;241;43m=\u001b[39;49m\u001b[43mkwargs\u001b[49m\u001b[43m,\u001b[49m\n\u001b[0;32m-> 4924\u001b[0m \u001b[43m    \u001b[49m\u001b[43m)\u001b[49m\u001b[38;5;241;43m.\u001b[39;49m\u001b[43mapply\u001b[49m\u001b[43m(\u001b[49m\u001b[43m)\u001b[49m\n",
      "File \u001b[0;32m~/KTH/DA231X-ex/mthesis_pyenv/lib/python3.12/site-packages/pandas/core/apply.py:1427\u001b[0m, in \u001b[0;36mSeriesApply.apply\u001b[0;34m(self)\u001b[0m\n\u001b[1;32m   1424\u001b[0m     \u001b[38;5;28;01mreturn\u001b[39;00m \u001b[38;5;28mself\u001b[39m\u001b[38;5;241m.\u001b[39mapply_compat()\n\u001b[1;32m   1426\u001b[0m \u001b[38;5;66;03m# self.func is Callable\u001b[39;00m\n\u001b[0;32m-> 1427\u001b[0m \u001b[38;5;28;01mreturn\u001b[39;00m \u001b[38;5;28;43mself\u001b[39;49m\u001b[38;5;241;43m.\u001b[39;49m\u001b[43mapply_standard\u001b[49m\u001b[43m(\u001b[49m\u001b[43m)\u001b[49m\n",
      "File \u001b[0;32m~/KTH/DA231X-ex/mthesis_pyenv/lib/python3.12/site-packages/pandas/core/apply.py:1507\u001b[0m, in \u001b[0;36mSeriesApply.apply_standard\u001b[0;34m(self)\u001b[0m\n\u001b[1;32m   1501\u001b[0m \u001b[38;5;66;03m# row-wise access\u001b[39;00m\n\u001b[1;32m   1502\u001b[0m \u001b[38;5;66;03m# apply doesn't have a `na_action` keyword and for backward compat reasons\u001b[39;00m\n\u001b[1;32m   1503\u001b[0m \u001b[38;5;66;03m# we need to give `na_action=\"ignore\"` for categorical data.\u001b[39;00m\n\u001b[1;32m   1504\u001b[0m \u001b[38;5;66;03m# TODO: remove the `na_action=\"ignore\"` when that default has been changed in\u001b[39;00m\n\u001b[1;32m   1505\u001b[0m \u001b[38;5;66;03m#  Categorical (GH51645).\u001b[39;00m\n\u001b[1;32m   1506\u001b[0m action \u001b[38;5;241m=\u001b[39m \u001b[38;5;124m\"\u001b[39m\u001b[38;5;124mignore\u001b[39m\u001b[38;5;124m\"\u001b[39m \u001b[38;5;28;01mif\u001b[39;00m \u001b[38;5;28misinstance\u001b[39m(obj\u001b[38;5;241m.\u001b[39mdtype, CategoricalDtype) \u001b[38;5;28;01melse\u001b[39;00m \u001b[38;5;28;01mNone\u001b[39;00m\n\u001b[0;32m-> 1507\u001b[0m mapped \u001b[38;5;241m=\u001b[39m \u001b[43mobj\u001b[49m\u001b[38;5;241;43m.\u001b[39;49m\u001b[43m_map_values\u001b[49m\u001b[43m(\u001b[49m\n\u001b[1;32m   1508\u001b[0m \u001b[43m    \u001b[49m\u001b[43mmapper\u001b[49m\u001b[38;5;241;43m=\u001b[39;49m\u001b[43mcurried\u001b[49m\u001b[43m,\u001b[49m\u001b[43m \u001b[49m\u001b[43mna_action\u001b[49m\u001b[38;5;241;43m=\u001b[39;49m\u001b[43maction\u001b[49m\u001b[43m,\u001b[49m\u001b[43m \u001b[49m\u001b[43mconvert\u001b[49m\u001b[38;5;241;43m=\u001b[39;49m\u001b[38;5;28;43mself\u001b[39;49m\u001b[38;5;241;43m.\u001b[39;49m\u001b[43mconvert_dtype\u001b[49m\n\u001b[1;32m   1509\u001b[0m \u001b[43m\u001b[49m\u001b[43m)\u001b[49m\n\u001b[1;32m   1511\u001b[0m \u001b[38;5;28;01mif\u001b[39;00m \u001b[38;5;28mlen\u001b[39m(mapped) \u001b[38;5;129;01mand\u001b[39;00m \u001b[38;5;28misinstance\u001b[39m(mapped[\u001b[38;5;241m0\u001b[39m], ABCSeries):\n\u001b[1;32m   1512\u001b[0m     \u001b[38;5;66;03m# GH#43986 Need to do list(mapped) in order to get treated as nested\u001b[39;00m\n\u001b[1;32m   1513\u001b[0m     \u001b[38;5;66;03m#  See also GH#25959 regarding EA support\u001b[39;00m\n\u001b[1;32m   1514\u001b[0m     \u001b[38;5;28;01mreturn\u001b[39;00m obj\u001b[38;5;241m.\u001b[39m_constructor_expanddim(\u001b[38;5;28mlist\u001b[39m(mapped), index\u001b[38;5;241m=\u001b[39mobj\u001b[38;5;241m.\u001b[39mindex)\n",
      "File \u001b[0;32m~/KTH/DA231X-ex/mthesis_pyenv/lib/python3.12/site-packages/pandas/core/base.py:921\u001b[0m, in \u001b[0;36mIndexOpsMixin._map_values\u001b[0;34m(self, mapper, na_action, convert)\u001b[0m\n\u001b[1;32m    918\u001b[0m \u001b[38;5;28;01mif\u001b[39;00m \u001b[38;5;28misinstance\u001b[39m(arr, ExtensionArray):\n\u001b[1;32m    919\u001b[0m     \u001b[38;5;28;01mreturn\u001b[39;00m arr\u001b[38;5;241m.\u001b[39mmap(mapper, na_action\u001b[38;5;241m=\u001b[39mna_action)\n\u001b[0;32m--> 921\u001b[0m \u001b[38;5;28;01mreturn\u001b[39;00m \u001b[43malgorithms\u001b[49m\u001b[38;5;241;43m.\u001b[39;49m\u001b[43mmap_array\u001b[49m\u001b[43m(\u001b[49m\u001b[43marr\u001b[49m\u001b[43m,\u001b[49m\u001b[43m \u001b[49m\u001b[43mmapper\u001b[49m\u001b[43m,\u001b[49m\u001b[43m \u001b[49m\u001b[43mna_action\u001b[49m\u001b[38;5;241;43m=\u001b[39;49m\u001b[43mna_action\u001b[49m\u001b[43m,\u001b[49m\u001b[43m \u001b[49m\u001b[43mconvert\u001b[49m\u001b[38;5;241;43m=\u001b[39;49m\u001b[43mconvert\u001b[49m\u001b[43m)\u001b[49m\n",
      "File \u001b[0;32m~/KTH/DA231X-ex/mthesis_pyenv/lib/python3.12/site-packages/pandas/core/algorithms.py:1743\u001b[0m, in \u001b[0;36mmap_array\u001b[0;34m(arr, mapper, na_action, convert)\u001b[0m\n\u001b[1;32m   1741\u001b[0m values \u001b[38;5;241m=\u001b[39m arr\u001b[38;5;241m.\u001b[39mastype(\u001b[38;5;28mobject\u001b[39m, copy\u001b[38;5;241m=\u001b[39m\u001b[38;5;28;01mFalse\u001b[39;00m)\n\u001b[1;32m   1742\u001b[0m \u001b[38;5;28;01mif\u001b[39;00m na_action \u001b[38;5;129;01mis\u001b[39;00m \u001b[38;5;28;01mNone\u001b[39;00m:\n\u001b[0;32m-> 1743\u001b[0m     \u001b[38;5;28;01mreturn\u001b[39;00m \u001b[43mlib\u001b[49m\u001b[38;5;241;43m.\u001b[39;49m\u001b[43mmap_infer\u001b[49m\u001b[43m(\u001b[49m\u001b[43mvalues\u001b[49m\u001b[43m,\u001b[49m\u001b[43m \u001b[49m\u001b[43mmapper\u001b[49m\u001b[43m,\u001b[49m\u001b[43m \u001b[49m\u001b[43mconvert\u001b[49m\u001b[38;5;241;43m=\u001b[39;49m\u001b[43mconvert\u001b[49m\u001b[43m)\u001b[49m\n\u001b[1;32m   1744\u001b[0m \u001b[38;5;28;01melse\u001b[39;00m:\n\u001b[1;32m   1745\u001b[0m     \u001b[38;5;28;01mreturn\u001b[39;00m lib\u001b[38;5;241m.\u001b[39mmap_infer_mask(\n\u001b[1;32m   1746\u001b[0m         values, mapper, mask\u001b[38;5;241m=\u001b[39misna(values)\u001b[38;5;241m.\u001b[39mview(np\u001b[38;5;241m.\u001b[39muint8), convert\u001b[38;5;241m=\u001b[39mconvert\n\u001b[1;32m   1747\u001b[0m     )\n",
      "File \u001b[0;32mlib.pyx:2972\u001b[0m, in \u001b[0;36mpandas._libs.lib.map_infer\u001b[0;34m()\u001b[0m\n",
      "Cell \u001b[0;32mIn[8], line 4\u001b[0m, in \u001b[0;36m<lambda>\u001b[0;34m(x)\u001b[0m\n\u001b[1;32m      1\u001b[0m display(\n\u001b[1;32m      2\u001b[0m     \u001b[38;5;241m*\u001b[39mvulnerabilities_df[\n\u001b[1;32m      3\u001b[0m         vulnerabilities_df[\u001b[38;5;124m\"\u001b[39m\u001b[38;5;124mweaknesses\u001b[39m\u001b[38;5;124m\"\u001b[39m]\u001b[38;5;241m.\u001b[39mapply(\n\u001b[0;32m----> 4\u001b[0m             \u001b[38;5;28;01mlambda\u001b[39;00m x: \u001b[38;5;28mall\u001b[39m(\u001b[43m[\u001b[49m\u001b[43my\u001b[49m\u001b[43m[\u001b[49m\u001b[38;5;124;43m\"\u001b[39;49m\u001b[38;5;124;43mtype\u001b[39;49m\u001b[38;5;124;43m\"\u001b[39;49m\u001b[43m]\u001b[49m\u001b[43m \u001b[49m\u001b[38;5;241;43m==\u001b[39;49m\u001b[43m \u001b[49m\u001b[38;5;124;43m\"\u001b[39;49m\u001b[38;5;124;43mSecondary\u001b[39;49m\u001b[38;5;124;43m\"\u001b[39;49m\u001b[43m \u001b[49m\u001b[38;5;28;43;01mfor\u001b[39;49;00m\u001b[43m \u001b[49m\u001b[43my\u001b[49m\u001b[43m \u001b[49m\u001b[38;5;129;43;01min\u001b[39;49;00m\u001b[43m \u001b[49m\u001b[43mx\u001b[49m\u001b[43m]\u001b[49m)\n\u001b[1;32m      5\u001b[0m         )\n\u001b[1;32m      6\u001b[0m     ][\u001b[38;5;124m\"\u001b[39m\u001b[38;5;124mweaknesses\u001b[39m\u001b[38;5;124m\"\u001b[39m]\u001b[38;5;241m.\u001b[39mhead()\n\u001b[1;32m      7\u001b[0m )\n",
      "\u001b[0;31mTypeError\u001b[0m: 'NoneType' object is not iterable"
     ]
    }
   ],
   "source": [
    "display(\n",
    "    *vulnerabilities_df[\n",
    "        vulnerabilities_df[\"weaknesses\"].apply(\n",
    "            lambda x: all([y[\"type\"] == \"Secondary\" for y in x])\n",
    "        )\n",
    "    ][\"weaknesses\"].head()\n",
    ")"
   ]
  },
  {
   "cell_type": "code",
   "execution_count": 9,
   "id": "8347ea45",
   "metadata": {},
   "outputs": [],
   "source": [
    "def filter_cwe(nvd_df, cwe_df, primary_only=False, collect_stats=False):\n",
    "    df = nvd_df.copy()\n",
    "    stats = pd.DataFrame()\n",
    "    stats[\"nvd_count\"] = [len(df)] if collect_stats else [None]\n",
    "    df = df.dropna(subset=\"weaknesses\")\n",
    "    stats[\"weaknesses_count\"] = [len(df)] if collect_stats else [None]\n",
    "    df[\"weaknesses\"] = df[\"weaknesses\"].apply(\n",
    "        lambda x: [\n",
    "            y\n",
    "            for y in x\n",
    "            if all(\n",
    "                [\n",
    "                    z[\"value\"] != \"NVD-CWE-Other\" and z[\"value\"] != \"NVD-CWE-noinfo\"\n",
    "                    for z in y[\"description\"]\n",
    "                ]\n",
    "            )\n",
    "            and ((y[\"type\"] == \"Primary\") if primary_only else True)\n",
    "        ]\n",
    "    )\n",
    "    stats[\"assigned_weaknesses_count\"] = (\n",
    "        [len(df[df[\"weaknesses\"].apply(len) > 0])] if collect_stats else [None]\n",
    "    )\n",
    "    if not primary_only:\n",
    "        df[\"weaknesses\"] = df[\"weaknesses\"].apply(\n",
    "            lambda x: (\n",
    "                [y for y in x if y[\"type\"] == \"Primary\"]  # Keep only 'Primary'\n",
    "                if any(y[\"type\"] == \"Primary\" for y in x)\n",
    "                else x\n",
    "            )\n",
    "        )\n",
    "    df[\"weaknesses\"] = df[\"weaknesses\"].apply(\n",
    "        lambda x: (\n",
    "            [y for y in x if y[\"source\"] == \"nvd@nist.gov\"]  # Keep only 'Primary'\n",
    "            if any(\n",
    "                y[\"source\"] == \"nvd@nist.gov\" for y in x\n",
    "            )  # Check if at least one 'Primary' exists\n",
    "            else x\n",
    "        )\n",
    "    )\n",
    "    df[\"weaknesses\"] = df[\"weaknesses\"].apply(\n",
    "        lambda x: (\n",
    "            [x[0]]\n",
    "            if len(set([str([z[\"value\"] for z in y[\"description\"]]) for y in x])) == 1\n",
    "            else []\n",
    "        )\n",
    "    )\n",
    "    \"\"\"\n",
    "    print(*df[df[\"weaknesses\"].apply(lambda x: (\n",
    "            any([\n",
    "                not y[\"value\"][4:] in cwe_df['ID'].values\n",
    "                for y in x[0][\"description\"] \n",
    "            ]) if x != [] else False\n",
    "        ))\n",
    "        ]['weaknesses'].head()\n",
    "    )\n",
    "    \"\"\"\n",
    "    usage_dict = pd.Series(cwe_df.MappingNotes_Usage.values, index=cwe_df.ID).to_dict()\n",
    "    df[\"cwe_list\"] = df[\"weaknesses\"].map(\n",
    "        lambda x: (\n",
    "            [\n",
    "                y[\"value\"][4:]\n",
    "                for y in x[0][\"description\"]\n",
    "                if y[\"value\"][4:] in usage_dict\n",
    "                and usage_dict[y[\"value\"][4:]] != \"Prohibited\"\n",
    "            ]\n",
    "            if x != []\n",
    "            else []\n",
    "        )\n",
    "    )\n",
    "    df = df[df[\"cwe_list\"].apply(len) > 0].reset_index(drop=True)\n",
    "    stats[\"filtered_weaknesses_count\"] = (\n",
    "        [len(df[\"cwe_list\"])] if collect_stats else [None]\n",
    "    )\n",
    "    df[\"primary_cwe\"] = df[\"cwe_list\"].map(lambda x: x[0] if len(x) == 1 else None)\n",
    "    stats[\"single_cwe_weaknesses_count\"] = (\n",
    "        [len(df[df[\"primary_cwe\"].notna()])]\n",
    "        if collect_stats\n",
    "        else [None]\n",
    "    )\n",
    "    # df = df[]\n",
    "    return df, stats"
   ]
  },
  {
   "cell_type": "code",
   "execution_count": 10,
   "id": "354ac0327dbbe286",
   "metadata": {
    "ExecuteTime": {
     "end_time": "2024-08-10T23:19:55.434479Z",
     "start_time": "2024-08-10T23:18:40.796205Z"
    }
   },
   "outputs": [
    {
     "data": {
      "text/html": [
       "<div>\n",
       "<style scoped>\n",
       "    .dataframe tbody tr th:only-of-type {\n",
       "        vertical-align: middle;\n",
       "    }\n",
       "\n",
       "    .dataframe tbody tr th {\n",
       "        vertical-align: top;\n",
       "    }\n",
       "\n",
       "    .dataframe thead th {\n",
       "        text-align: right;\n",
       "    }\n",
       "</style>\n",
       "<table border=\"1\" class=\"dataframe\">\n",
       "  <thead>\n",
       "    <tr style=\"text-align: right;\">\n",
       "      <th></th>\n",
       "      <th>nvd_count</th>\n",
       "      <th>weaknesses_count</th>\n",
       "      <th>assigned_weaknesses_count</th>\n",
       "      <th>filtered_weaknesses_count</th>\n",
       "      <th>single_cwe_weaknesses_count</th>\n",
       "    </tr>\n",
       "  </thead>\n",
       "  <tbody>\n",
       "    <tr>\n",
       "      <th>0</th>\n",
       "      <td>133151</td>\n",
       "      <td>131855</td>\n",
       "      <td>115765</td>\n",
       "      <td>115230</td>\n",
       "      <td>112759</td>\n",
       "    </tr>\n",
       "  </tbody>\n",
       "</table>\n",
       "</div>"
      ],
      "text/plain": [
       "   nvd_count  weaknesses_count  assigned_weaknesses_count  \\\n",
       "0     133151            131855                     115765   \n",
       "\n",
       "   filtered_weaknesses_count  single_cwe_weaknesses_count  \n",
       "0                     115230                       112759  "
      ]
     },
     "metadata": {},
     "output_type": "display_data"
    },
    {
     "name": "stderr",
     "output_type": "stream",
     "text": [
      "/tmp/ipykernel_27773/2720154840.py:20: FutureWarning: Calling float on a single element Series is deprecated and will raise a TypeError in the future. Use float(ser.iloc[0]) instead\n",
      "  percentages = percentages.astype(float)\n"
     ]
    },
    {
     "data": {
      "text/html": [
       "<div>\n",
       "<style scoped>\n",
       "    .dataframe tbody tr th:only-of-type {\n",
       "        vertical-align: middle;\n",
       "    }\n",
       "\n",
       "    .dataframe tbody tr th {\n",
       "        vertical-align: top;\n",
       "    }\n",
       "\n",
       "    .dataframe thead th {\n",
       "        text-align: right;\n",
       "    }\n",
       "</style>\n",
       "<table border=\"1\" class=\"dataframe\">\n",
       "  <thead>\n",
       "    <tr style=\"text-align: right;\">\n",
       "      <th></th>\n",
       "      <th>percentage of assigned_weaknesses_count</th>\n",
       "    </tr>\n",
       "  </thead>\n",
       "  <tbody>\n",
       "    <tr>\n",
       "      <th>filtered_weakness_count</th>\n",
       "      <td>0.995379</td>\n",
       "    </tr>\n",
       "    <tr>\n",
       "      <th>single_cwe_weakness_count</th>\n",
       "      <td>0.974034</td>\n",
       "    </tr>\n",
       "  </tbody>\n",
       "</table>\n",
       "</div>"
      ],
      "text/plain": [
       "                           percentage of assigned_weaknesses_count\n",
       "filtered_weakness_count                                   0.995379\n",
       "single_cwe_weakness_count                                 0.974034"
      ]
     },
     "metadata": {},
     "output_type": "display_data"
    }
   ],
   "source": [
    "import pandas as pd\n",
    "import numpy as np\n",
    "\n",
    "df = pd.DataFrame(vulnerabilities_df)\n",
    "df, filter_cwe_stats = filter_cwe(df, cwe_1000_df, collect_stats=True)\n",
    "display(filter_cwe_stats)\n",
    "percentages = pd.DataFrame(\n",
    "    {\n",
    "        \"percentage of assigned_weaknesses_count\": [\n",
    "            filter_cwe_stats[\"filtered_weaknesses_count\"]\n",
    "            / filter_cwe_stats[\"assigned_weaknesses_count\"],\n",
    "            filter_cwe_stats[\"single_cwe_weaknesses_count\"]\n",
    "            / filter_cwe_stats[\"assigned_weaknesses_count\"],\n",
    "        ]\n",
    "    },\n",
    "    index=[\"filtered_weakness_count\", \"single_cwe_weakness_count\"],\n",
    ")\n",
    "# percentages['assigned weaknesses %'] = np.ndarray([filter_cwe_stats['filtered_weaknesses_count'][0].value, filter_cwe_stats['single_cwe_weaknesses_count'][0]]) / filter_cwe_stats['assigned_weaknesses_count']\n",
    "# percentages =percentages.set_index('type')\n",
    "percentages = percentages.astype(float)\n",
    "display(percentages)"
   ]
  },
  {
   "cell_type": "code",
   "execution_count": 26,
   "id": "dbb82a67",
   "metadata": {},
   "outputs": [
    {
     "data": {
      "text/html": [
       "<div>\n",
       "<style scoped>\n",
       "    .dataframe tbody tr th:only-of-type {\n",
       "        vertical-align: middle;\n",
       "    }\n",
       "\n",
       "    .dataframe tbody tr th {\n",
       "        vertical-align: top;\n",
       "    }\n",
       "\n",
       "    .dataframe thead th {\n",
       "        text-align: right;\n",
       "    }\n",
       "</style>\n",
       "<table border=\"1\" class=\"dataframe\">\n",
       "  <thead>\n",
       "    <tr style=\"text-align: right;\">\n",
       "      <th></th>\n",
       "      <th>CWE</th>\n",
       "      <th>Proportion</th>\n",
       "    </tr>\n",
       "  </thead>\n",
       "  <tbody>\n",
       "    <tr>\n",
       "      <th>0</th>\n",
       "      <td>79</td>\n",
       "      <td>0.167481</td>\n",
       "    </tr>\n",
       "    <tr>\n",
       "      <th>1</th>\n",
       "      <td>787</td>\n",
       "      <td>0.080668</td>\n",
       "    </tr>\n",
       "    <tr>\n",
       "      <th>2</th>\n",
       "      <td>89</td>\n",
       "      <td>0.064953</td>\n",
       "    </tr>\n",
       "    <tr>\n",
       "      <th>3</th>\n",
       "      <td>125</td>\n",
       "      <td>0.040325</td>\n",
       "    </tr>\n",
       "    <tr>\n",
       "      <th>4</th>\n",
       "      <td>352</td>\n",
       "      <td>0.032556</td>\n",
       "    </tr>\n",
       "    <tr>\n",
       "      <th>5</th>\n",
       "      <td>20</td>\n",
       "      <td>0.030986</td>\n",
       "    </tr>\n",
       "    <tr>\n",
       "      <th>6</th>\n",
       "      <td>416</td>\n",
       "      <td>0.030774</td>\n",
       "    </tr>\n",
       "    <tr>\n",
       "      <th>7</th>\n",
       "      <td>22</td>\n",
       "      <td>0.029825</td>\n",
       "    </tr>\n",
       "    <tr>\n",
       "      <th>8</th>\n",
       "      <td>78</td>\n",
       "      <td>0.024610</td>\n",
       "    </tr>\n",
       "    <tr>\n",
       "      <th>9</th>\n",
       "      <td>862</td>\n",
       "      <td>0.024069</td>\n",
       "    </tr>\n",
       "  </tbody>\n",
       "</table>\n",
       "</div>"
      ],
      "text/plain": [
       "   CWE  Proportion\n",
       "0   79    0.167481\n",
       "1  787    0.080668\n",
       "2   89    0.064953\n",
       "3  125    0.040325\n",
       "4  352    0.032556\n",
       "5   20    0.030986\n",
       "6  416    0.030774\n",
       "7   22    0.029825\n",
       "8   78    0.024610\n",
       "9  862    0.024069"
      ]
     },
     "metadata": {},
     "output_type": "display_data"
    },
    {
     "name": "stdout",
     "output_type": "stream",
     "text": [
      "508\n"
     ]
    },
    {
     "data": {
      "image/png": "[encoded data removed]",
      "text/plain": [
       "<Figure size 1000x600 with 1 Axes>"
      ]
     },
     "metadata": {},
     "output_type": "display_data"
    }
   ],
   "source": [
    "import seaborn as sns\n",
    "import matplotlib.pyplot as plt\n",
    "\n",
    "k = 40\n",
    "data = (\n",
    "    df[df[\"primary_cwe\"].apply(lambda x: x != None)][\"primary_cwe\"]\n",
    "    .value_counts(normalize=True)\n",
    ")\n",
    "data_df = data.reset_index()\n",
    "data_df.columns = [\"CWE\", \"Proportion\"]\n",
    "display(data_df.head(10))\n",
    "print(len(data_df['CWE']))\n",
    "# Plotting\n",
    "plt.figure(figsize=(10, 6))\n",
    "sns.barplot(x=\"CWE\", y=\"Proportion\", hue=\"CWE\", data=data_df.head(k), palette=\"viridis\")\n",
    "\n",
    "# Add labels and title\n",
    "plt.xticks(rotation=45, ha=\"right\")\n",
    "plt.title(f\"Proportion of top {k} CWEs\")\n",
    "\n",
    "# Show the plot\n",
    "plt.tight_layout()\n",
    "plt.show()"
   ]
  },
  {
   "cell_type": "code",
   "execution_count": null,
   "id": "f2703712",
   "metadata": {},
   "outputs": [
    {
     "name": "stdout",
     "output_type": "stream",
     "text": [
      "108394\n",
      "94\n",
      "0.9494949494949495\n"
     ]
    },
    {
     "data": {
      "text/html": [
       "<div>\n",
       "<style scoped>\n",
       "    .dataframe tbody tr th:only-of-type {\n",
       "        vertical-align: middle;\n",
       "    }\n",
       "\n",
       "    .dataframe tbody tr th {\n",
       "        vertical-align: top;\n",
       "    }\n",
       "\n",
       "    .dataframe thead th {\n",
       "        text-align: right;\n",
       "    }\n",
       "</style>\n",
       "<table border=\"1\" class=\"dataframe\">\n",
       "  <thead>\n",
       "    <tr style=\"text-align: right;\">\n",
       "      <th></th>\n",
       "      <th>CWE</th>\n",
       "      <th>Proportion</th>\n",
       "    </tr>\n",
       "  </thead>\n",
       "  <tbody>\n",
       "    <tr>\n",
       "      <th>0</th>\n",
       "      <td>79</td>\n",
       "      <td>18885</td>\n",
       "    </tr>\n",
       "    <tr>\n",
       "      <th>1</th>\n",
       "      <td>787</td>\n",
       "      <td>9096</td>\n",
       "    </tr>\n",
       "    <tr>\n",
       "      <th>2</th>\n",
       "      <td>89</td>\n",
       "      <td>7324</td>\n",
       "    </tr>\n",
       "    <tr>\n",
       "      <th>3</th>\n",
       "      <td>125</td>\n",
       "      <td>4547</td>\n",
       "    </tr>\n",
       "    <tr>\n",
       "      <th>4</th>\n",
       "      <td>352</td>\n",
       "      <td>3671</td>\n",
       "    </tr>\n",
       "    <tr>\n",
       "      <th>5</th>\n",
       "      <td>20</td>\n",
       "      <td>3494</td>\n",
       "    </tr>\n",
       "    <tr>\n",
       "      <th>6</th>\n",
       "      <td>416</td>\n",
       "      <td>3470</td>\n",
       "    </tr>\n",
       "    <tr>\n",
       "      <th>7</th>\n",
       "      <td>22</td>\n",
       "      <td>3363</td>\n",
       "    </tr>\n",
       "    <tr>\n",
       "      <th>8</th>\n",
       "      <td>78</td>\n",
       "      <td>2775</td>\n",
       "    </tr>\n",
       "    <tr>\n",
       "      <th>9</th>\n",
       "      <td>862</td>\n",
       "      <td>2714</td>\n",
       "    </tr>\n",
       "  </tbody>\n",
       "</table>\n",
       "</div>"
      ],
      "text/plain": [
       "   CWE  Proportion\n",
       "0   79       18885\n",
       "1  787        9096\n",
       "2   89        7324\n",
       "3  125        4547\n",
       "4  352        3671\n",
       "5   20        3494\n",
       "6  416        3470\n",
       "7   22        3363\n",
       "8   78        2775\n",
       "9  862        2714"
      ]
     },
     "metadata": {},
     "output_type": "display_data"
    },
    {
     "name": "stdout",
     "output_type": "stream",
     "text": [
      "99\n"
     ]
    },
    {
     "data": {
      "image/png": "[encoded data removed]",
      "text/plain": [
       "<Figure size 1000x600 with 1 Axes>"
      ]
     },
     "metadata": {},
     "output_type": "display_data"
    }
   ],
   "source": [
    "import seaborn as sns\n",
    "import matplotlib.pyplot as plt\n",
    "\n",
    "k = 40\n",
    "data = (\n",
    "    df[df[\"primary_cwe\"].apply(lambda x: x != None)][\"primary_cwe\"]\n",
    "    .value_counts(normalize=False)\n",
    ")\n",
    "data_df = data.reset_index()\n",
    "data_df.columns = [\"CWE\", \"Proportion\"]\n",
    "data_df = data_df[data_df['Proportion'] > 30]\n",
    "print(sum(data_df['Proportion']))\n",
    "\n",
    "len(data_df['CWE'].value_counts())\n",
    "usage_dict_1003 = pd.Series(\n",
    "    cwe_1003_df.MappingNotes_Usage.values, index=cwe_1003_df.ID\n",
    ").to_dict()\n",
    "in_1003 = len(data_df[data_df['CWE'].isin(usage_dict_1003)])\n",
    "print(in_1003)\n",
    "print(in_1003/len(data_df))\n",
    "\n",
    "display(data_df.head(10))\n",
    "print(len(data_df['CWE']))\n",
    "# Plotting\n",
    "plt.figure(figsize=(10, 6))\n",
    "sns.barplot(x=\"CWE\", y=\"Proportion\", hue=\"CWE\", data=data_df.head(k), palette=\"viridis\")\n",
    "\n",
    "# Add labels and title\n",
    "plt.xticks(rotation=45, ha=\"right\")\n",
    "plt.title(f\"Proportion of top {k} CWEs\")\n",
    "\n",
    "# Show the plot\n",
    "plt.tight_layout()\n",
    "plt.show()"
   ]
  },
  {
   "cell_type": "code",
   "execution_count": null,
   "id": "854cdf55",
   "metadata": {},
   "outputs": [
    {
     "data": {
      "text/html": [
       "<div>\n",
       "<style scoped>\n",
       "    .dataframe tbody tr th:only-of-type {\n",
       "        vertical-align: middle;\n",
       "    }\n",
       "\n",
       "    .dataframe tbody tr th {\n",
       "        vertical-align: top;\n",
       "    }\n",
       "\n",
       "    .dataframe thead th {\n",
       "        text-align: right;\n",
       "    }\n",
       "</style>\n",
       "<table border=\"1\" class=\"dataframe\">\n",
       "  <thead>\n",
       "    <tr style=\"text-align: right;\">\n",
       "      <th></th>\n",
       "      <th>Usage</th>\n",
       "      <th>Count</th>\n",
       "    </tr>\n",
       "  </thead>\n",
       "  <tbody>\n",
       "    <tr>\n",
       "      <th>0</th>\n",
       "      <td>Allowed</td>\n",
       "      <td>405</td>\n",
       "    </tr>\n",
       "    <tr>\n",
       "      <th>1</th>\n",
       "      <td>Allowed-with-Review</td>\n",
       "      <td>65</td>\n",
       "    </tr>\n",
       "    <tr>\n",
       "      <th>2</th>\n",
       "      <td>Discouraged</td>\n",
       "      <td>38</td>\n",
       "    </tr>\n",
       "  </tbody>\n",
       "</table>\n",
       "</div>"
      ],
      "text/plain": [
       "                 Usage  Count\n",
       "0              Allowed    405\n",
       "1  Allowed-with-Review     65\n",
       "2          Discouraged     38"
      ]
     },
     "metadata": {},
     "output_type": "display_data"
    },
    {
     "name": "stdout",
     "output_type": "stream",
     "text": [
      "508\n"
     ]
    },
    {
     "data": {
      "image/png": "[encoded data removed]",
      "text/plain": [
       "<Figure size 1000x600 with 1 Axes>"
      ]
     },
     "metadata": {},
     "output_type": "display_data"
    }
   ],
   "source": [
    "cwes = df[df[\"primary_cwe\"].apply(lambda x: x != None)][\"primary_cwe\"].value_counts()\n",
    "df_plot = cwe_1000_df[cwe_1000_df[\"ID\"].isin(cwes.index)]\n",
    "data = df_plot[\"MappingNotes_Usage\"].value_counts(normalize=False)\n",
    "\n",
    "data_df = data.reset_index()\n",
    "data_df.columns = [\"Usage\", \"Count\"]\n",
    "display(data_df)\n",
    "# Plotting\n",
    "plt.figure(figsize=(10, 6))\n",
    "sns.barplot(x=\"Usage\", y=\"Count\", hue=\"Usage\", data=data_df, palette=\"viridis\")\n",
    "\n",
    "# Add labels and title\n",
    "plt.title(\"Proportion of Usage Amongst The Present CWEs\")\n",
    "\n",
    "# Show the plot\n",
    "plt.tight_layout()\n",
    "plt.show()"
   ]
  },
  {
   "cell_type": "code",
   "execution_count": 17,
   "id": "52eeb3a8",
   "metadata": {},
   "outputs": [
    {
     "data": {
      "text/html": [
       "<div>\n",
       "<style scoped>\n",
       "    .dataframe tbody tr th:only-of-type {\n",
       "        vertical-align: middle;\n",
       "    }\n",
       "\n",
       "    .dataframe tbody tr th {\n",
       "        vertical-align: top;\n",
       "    }\n",
       "\n",
       "    .dataframe thead th {\n",
       "        text-align: right;\n",
       "    }\n",
       "</style>\n",
       "<table border=\"1\" class=\"dataframe\">\n",
       "  <thead>\n",
       "    <tr style=\"text-align: right;\">\n",
       "      <th></th>\n",
       "      <th>primary_cwe</th>\n",
       "      <th>Usage</th>\n",
       "    </tr>\n",
       "  </thead>\n",
       "  <tbody>\n",
       "    <tr>\n",
       "      <th>0</th>\n",
       "      <td>89</td>\n",
       "      <td>Allowed</td>\n",
       "    </tr>\n",
       "    <tr>\n",
       "      <th>1</th>\n",
       "      <td>20</td>\n",
       "      <td>Discouraged</td>\n",
       "    </tr>\n",
       "    <tr>\n",
       "      <th>2</th>\n",
       "      <td>476</td>\n",
       "      <td>Allowed</td>\n",
       "    </tr>\n",
       "    <tr>\n",
       "      <th>3</th>\n",
       "      <td>770</td>\n",
       "      <td>Allowed</td>\n",
       "    </tr>\n",
       "    <tr>\n",
       "      <th>4</th>\n",
       "      <td>532</td>\n",
       "      <td>Allowed</td>\n",
       "    </tr>\n",
       "  </tbody>\n",
       "</table>\n",
       "</div>"
      ],
      "text/plain": [
       "  primary_cwe        Usage\n",
       "0          89      Allowed\n",
       "1          20  Discouraged\n",
       "2         476      Allowed\n",
       "3         770      Allowed\n",
       "4         532      Allowed"
      ]
     },
     "metadata": {},
     "output_type": "display_data"
    }
   ],
   "source": [
    "import pandas as pd\n",
    "\n",
    "usage_dict = pd.Series(\n",
    "    cwe_1000_df.MappingNotes_Usage.values, index=cwe_1000_df.ID\n",
    ").to_dict()\n",
    "usage = df[df[\"primary_cwe\"].notna()][[\"primary_cwe\"]]\n",
    "usage[\"Usage\"] = usage[\"primary_cwe\"].map(lambda x: usage_dict[x])\n",
    "display(usage.head())"
   ]
  },
  {
   "cell_type": "code",
   "execution_count": 18,
   "id": "1611ee8f",
   "metadata": {},
   "outputs": [
    {
     "data": {
      "text/html": [
       "<div>\n",
       "<style scoped>\n",
       "    .dataframe tbody tr th:only-of-type {\n",
       "        vertical-align: middle;\n",
       "    }\n",
       "\n",
       "    .dataframe tbody tr th {\n",
       "        vertical-align: top;\n",
       "    }\n",
       "\n",
       "    .dataframe thead th {\n",
       "        text-align: right;\n",
       "    }\n",
       "</style>\n",
       "<table border=\"1\" class=\"dataframe\">\n",
       "  <thead>\n",
       "    <tr style=\"text-align: right;\">\n",
       "      <th></th>\n",
       "      <th>Usage</th>\n",
       "      <th>Proportion</th>\n",
       "    </tr>\n",
       "  </thead>\n",
       "  <tbody>\n",
       "    <tr>\n",
       "      <th>0</th>\n",
       "      <td>Allowed</td>\n",
       "      <td>0.735649</td>\n",
       "    </tr>\n",
       "    <tr>\n",
       "      <th>1</th>\n",
       "      <td>Discouraged</td>\n",
       "      <td>0.139058</td>\n",
       "    </tr>\n",
       "    <tr>\n",
       "      <th>2</th>\n",
       "      <td>Allowed-with-Review</td>\n",
       "      <td>0.125294</td>\n",
       "    </tr>\n",
       "  </tbody>\n",
       "</table>\n",
       "</div>"
      ],
      "text/plain": [
       "                 Usage  Proportion\n",
       "0              Allowed    0.735649\n",
       "1          Discouraged    0.139058\n",
       "2  Allowed-with-Review    0.125294"
      ]
     },
     "metadata": {},
     "output_type": "display_data"
    },
    {
     "data": {
      "image/png": "[encoded data removed]",
      "text/plain": [
       "<Figure size 1000x600 with 1 Axes>"
      ]
     },
     "metadata": {},
     "output_type": "display_data"
    }
   ],
   "source": [
    "data = usage[\"Usage\"].value_counts(normalize=True)\n",
    "\n",
    "data_df = data.reset_index()\n",
    "data_df.columns = [\"Usage\", \"Proportion\"]\n",
    "display(data_df)\n",
    "# Plotting\n",
    "plt.figure(figsize=(10, 6))\n",
    "sns.barplot(x=\"Usage\", y=\"Proportion\", hue=\"Usage\", data=data_df, palette=\"viridis\")\n",
    "\n",
    "# Add labels and title\n",
    "plt.title(\"Proportion of Usage across all CWE Assigned NVDs\")\n",
    "\n",
    "# Show the plot\n",
    "plt.tight_layout()\n",
    "plt.show()"
   ]
  },
  {
   "cell_type": "code",
   "execution_count": 19,
   "id": "d53c50dd",
   "metadata": {},
   "outputs": [
    {
     "data": {
      "text/html": [
       "<div>\n",
       "<style scoped>\n",
       "    .dataframe tbody tr th:only-of-type {\n",
       "        vertical-align: middle;\n",
       "    }\n",
       "\n",
       "    .dataframe tbody tr th {\n",
       "        vertical-align: top;\n",
       "    }\n",
       "\n",
       "    .dataframe thead th {\n",
       "        text-align: right;\n",
       "    }\n",
       "</style>\n",
       "<table border=\"1\" class=\"dataframe\">\n",
       "  <thead>\n",
       "    <tr style=\"text-align: right;\">\n",
       "      <th></th>\n",
       "      <th>id</th>\n",
       "      <th>published</th>\n",
       "      <th>descriptions</th>\n",
       "      <th>metrics</th>\n",
       "      <th>weaknesses</th>\n",
       "      <th>references</th>\n",
       "      <th>configurations</th>\n",
       "      <th>cwe_list</th>\n",
       "      <th>primary_cwe</th>\n",
       "    </tr>\n",
       "  </thead>\n",
       "  <tbody>\n",
       "    <tr>\n",
       "      <th>0</th>\n",
       "      <td>CVE-2019-3494</td>\n",
       "      <td>2019-01-01T15:29:00.240</td>\n",
       "      <td>Simply-Blog through 2019-01-01 has SQL Injecti...</td>\n",
       "      <td>{'cvssMetricV2': [{'acInsufInfo': False, 'base...</td>\n",
       "      <td>[{'description': [{'lang': 'en', 'value': 'CWE...</td>\n",
       "      <td>[{'source': 'cve@mitre.org', 'tags': ['Exploit...</td>\n",
       "      <td>[{'nodes': [{'cpeMatch': array([{'criteria': '...</td>\n",
       "      <td>[89]</td>\n",
       "      <td>89</td>\n",
       "    </tr>\n",
       "    <tr>\n",
       "      <th>1</th>\n",
       "      <td>CVE-2018-20650</td>\n",
       "      <td>2019-01-01T16:29:00.233</td>\n",
       "      <td>A reachable Object::dictLookup assertion in Po...</td>\n",
       "      <td>{'cvssMetricV2': [{'acInsufInfo': False, 'base...</td>\n",
       "      <td>[{'description': [{'lang': 'en', 'value': 'CWE...</td>\n",
       "      <td>[{'source': 'cve@mitre.org', 'tags': ['Third P...</td>\n",
       "      <td>[{'nodes': [{'cpeMatch': array([{'criteria': '...</td>\n",
       "      <td>[20]</td>\n",
       "      <td>20</td>\n",
       "    </tr>\n",
       "    <tr>\n",
       "      <th>2</th>\n",
       "      <td>CVE-2018-20651</td>\n",
       "      <td>2019-01-01T16:29:00.343</td>\n",
       "      <td>A NULL pointer dereference was discovered in e...</td>\n",
       "      <td>{'cvssMetricV2': [{'acInsufInfo': False, 'base...</td>\n",
       "      <td>[{'description': [{'lang': 'en', 'value': 'CWE...</td>\n",
       "      <td>[{'source': 'cve@mitre.org', 'tags': None, 'ur...</td>\n",
       "      <td>[{'nodes': [{'cpeMatch': array([{'criteria': '...</td>\n",
       "      <td>[476]</td>\n",
       "      <td>476</td>\n",
       "    </tr>\n",
       "    <tr>\n",
       "      <th>3</th>\n",
       "      <td>CVE-2018-20652</td>\n",
       "      <td>2019-01-01T16:29:00.403</td>\n",
       "      <td>An attempted excessive memory allocation was d...</td>\n",
       "      <td>{'cvssMetricV2': [{'acInsufInfo': False, 'base...</td>\n",
       "      <td>[{'description': [{'lang': 'en', 'value': 'CWE...</td>\n",
       "      <td>[{'source': 'cve@mitre.org', 'tags': ['Exploit...</td>\n",
       "      <td>[{'nodes': [{'cpeMatch': array([{'criteria': '...</td>\n",
       "      <td>[770]</td>\n",
       "      <td>770</td>\n",
       "    </tr>\n",
       "    <tr>\n",
       "      <th>4</th>\n",
       "      <td>CVE-2019-3500</td>\n",
       "      <td>2019-01-02T07:29:00.197</td>\n",
       "      <td>aria2c in aria2 1.33.1, when --log is used, ca...</td>\n",
       "      <td>{'cvssMetricV2': [{'acInsufInfo': False, 'base...</td>\n",
       "      <td>[{'description': [{'lang': 'en', 'value': 'CWE...</td>\n",
       "      <td>[{'source': 'cve@mitre.org', 'tags': ['Patch',...</td>\n",
       "      <td>[{'nodes': [{'cpeMatch': array([{'criteria': '...</td>\n",
       "      <td>[532]</td>\n",
       "      <td>532</td>\n",
       "    </tr>\n",
       "  </tbody>\n",
       "</table>\n",
       "</div>"
      ],
      "text/plain": [
       "               id                published  \\\n",
       "0   CVE-2019-3494  2019-01-01T15:29:00.240   \n",
       "1  CVE-2018-20650  2019-01-01T16:29:00.233   \n",
       "2  CVE-2018-20651  2019-01-01T16:29:00.343   \n",
       "3  CVE-2018-20652  2019-01-01T16:29:00.403   \n",
       "4   CVE-2019-3500  2019-01-02T07:29:00.197   \n",
       "\n",
       "                                        descriptions  \\\n",
       "0  Simply-Blog through 2019-01-01 has SQL Injecti...   \n",
       "1  A reachable Object::dictLookup assertion in Po...   \n",
       "2  A NULL pointer dereference was discovered in e...   \n",
       "3  An attempted excessive memory allocation was d...   \n",
       "4  aria2c in aria2 1.33.1, when --log is used, ca...   \n",
       "\n",
       "                                             metrics  \\\n",
       "0  {'cvssMetricV2': [{'acInsufInfo': False, 'base...   \n",
       "1  {'cvssMetricV2': [{'acInsufInfo': False, 'base...   \n",
       "2  {'cvssMetricV2': [{'acInsufInfo': False, 'base...   \n",
       "3  {'cvssMetricV2': [{'acInsufInfo': False, 'base...   \n",
       "4  {'cvssMetricV2': [{'acInsufInfo': False, 'base...   \n",
       "\n",
       "                                          weaknesses  \\\n",
       "0  [{'description': [{'lang': 'en', 'value': 'CWE...   \n",
       "1  [{'description': [{'lang': 'en', 'value': 'CWE...   \n",
       "2  [{'description': [{'lang': 'en', 'value': 'CWE...   \n",
       "3  [{'description': [{'lang': 'en', 'value': 'CWE...   \n",
       "4  [{'description': [{'lang': 'en', 'value': 'CWE...   \n",
       "\n",
       "                                          references  \\\n",
       "0  [{'source': 'cve@mitre.org', 'tags': ['Exploit...   \n",
       "1  [{'source': 'cve@mitre.org', 'tags': ['Third P...   \n",
       "2  [{'source': 'cve@mitre.org', 'tags': None, 'ur...   \n",
       "3  [{'source': 'cve@mitre.org', 'tags': ['Exploit...   \n",
       "4  [{'source': 'cve@mitre.org', 'tags': ['Patch',...   \n",
       "\n",
       "                                      configurations cwe_list primary_cwe  \n",
       "0  [{'nodes': [{'cpeMatch': array([{'criteria': '...     [89]          89  \n",
       "1  [{'nodes': [{'cpeMatch': array([{'criteria': '...     [20]          20  \n",
       "2  [{'nodes': [{'cpeMatch': array([{'criteria': '...    [476]         476  \n",
       "3  [{'nodes': [{'cpeMatch': array([{'criteria': '...    [770]         770  \n",
       "4  [{'nodes': [{'cpeMatch': array([{'criteria': '...    [532]         532  "
      ]
     },
     "metadata": {},
     "output_type": "display_data"
    }
   ],
   "source": [
    "display(df.head())"
   ]
  },
  {
   "cell_type": "code",
   "execution_count": 21,
   "id": "0ed7a83d",
   "metadata": {},
   "outputs": [
    {
     "name": "stdout",
     "output_type": "stream",
     "text": [
      "0.9360062483728195\n"
     ]
    }
   ],
   "source": [
    "usage_dict_1003 = pd.Series(\n",
    "    cwe_1003_df.MappingNotes_Usage.values, index=cwe_1003_df.ID\n",
    ").to_dict()\n",
    "print(len(df[df['primary_cwe'].isin(usage_dict_1003)])/len(df))"
   ]
  },
  {
   "cell_type": "code",
   "execution_count": 132,
   "id": "384b9636",
   "metadata": {},
   "outputs": [
    {
     "name": "stderr",
     "output_type": "stream",
     "text": [
      "Creating parquet from Arrow format: 100%|██████████| 116/116 [00:00<00:00, 146.57ba/s]\n",
      "Uploading the dataset shards: 100%|██████████| 1/1 [00:06<00:00,  6.68s/it]\n"
     ]
    },
    {
     "data": {
      "text/plain": [
       "CommitInfo(commit_url='https://huggingface.co/datasets/Eathus/filtered-vulnerabilities/commit/e02b40545c72c9e2f9d6063156a116664ed2c42f', commit_message='Upload dataset', commit_description='', oid='e02b40545c72c9e2f9d6063156a116664ed2c42f', pr_url=None, repo_url=RepoUrl('https://huggingface.co/datasets/Eathus/filtered-vulnerabilities', endpoint='https://huggingface.co', repo_type='dataset', repo_id='Eathus/filtered-vulnerabilities'), pr_revision=None, pr_num=None)"
      ]
     },
     "execution_count": 132,
     "metadata": {},
     "output_type": "execute_result"
    }
   ],
   "source": [
    "import pandas as pd\n",
    "from datasets import Dataset\n",
    "\n",
    "ds = Dataset.from_pandas(df)\n",
    "ds.push_to_hub(\"Eathus/filtered-vulnerabilities\")"
   ]
  },
  {
   "cell_type": "markdown",
   "id": "cc22e918cefff610",
   "metadata": {
    "collapsed": false
   },
   "source": [
    "# References pipeline"
   ]
  },
  {
   "cell_type": "code",
   "execution_count": 53,
   "id": "114325f52d9bb782",
   "metadata": {
    "ExecuteTime": {
     "end_time": "2024-08-10T23:20:09.525002Z",
     "start_time": "2024-08-10T23:20:09.510452Z"
    },
    "collapsed": false
   },
   "outputs": [],
   "source": [
    "references_df = vulnerabilities_df[[\"id\", \"published\", \"references\"]]"
   ]
  },
  {
   "cell_type": "code",
   "execution_count": 54,
   "id": "dffdf3d866e0185e",
   "metadata": {
    "ExecuteTime": {
     "end_time": "2024-08-10T23:20:09.811947Z",
     "start_time": "2024-08-10T23:20:09.574947Z"
    },
    "collapsed": false
   },
   "outputs": [
    {
     "data": {
      "text/html": [
       "<div>\n",
       "<style scoped>\n",
       "    .dataframe tbody tr th:only-of-type {\n",
       "        vertical-align: middle;\n",
       "    }\n",
       "\n",
       "    .dataframe tbody tr th {\n",
       "        vertical-align: top;\n",
       "    }\n",
       "\n",
       "    .dataframe thead th {\n",
       "        text-align: right;\n",
       "    }\n",
       "</style>\n",
       "<table border=\"1\" class=\"dataframe\">\n",
       "  <thead>\n",
       "    <tr style=\"text-align: right;\">\n",
       "      <th></th>\n",
       "      <th>id</th>\n",
       "      <th>published</th>\n",
       "      <th>url</th>\n",
       "      <th>tags</th>\n",
       "    </tr>\n",
       "  </thead>\n",
       "  <tbody>\n",
       "    <tr>\n",
       "      <th>0</th>\n",
       "      <td>CVE-2019-3494</td>\n",
       "      <td>2019-01-01T15:29:00.240</td>\n",
       "      <td>https://github.com/Paroxyste/Simply-Blog/issues/1</td>\n",
       "      <td>[Exploit, Issue Tracking, Third Party Advisory]</td>\n",
       "    </tr>\n",
       "    <tr>\n",
       "      <th>1</th>\n",
       "      <td>CVE-2019-3494</td>\n",
       "      <td>2019-01-01T15:29:00.240</td>\n",
       "      <td>https://github.com/Paroxyste/Simply-Blog/issues/1</td>\n",
       "      <td>[Exploit, Issue Tracking, Third Party Advisory]</td>\n",
       "    </tr>\n",
       "    <tr>\n",
       "      <th>2</th>\n",
       "      <td>CVE-2018-20650</td>\n",
       "      <td>2019-01-01T16:29:00.233</td>\n",
       "      <td>http://www.securityfocus.com/bid/106459</td>\n",
       "      <td>[Third Party Advisory, VDB Entry]</td>\n",
       "    </tr>\n",
       "    <tr>\n",
       "      <th>3</th>\n",
       "      <td>CVE-2018-20650</td>\n",
       "      <td>2019-01-01T16:29:00.233</td>\n",
       "      <td>https://access.redhat.com/errata/RHSA-2019:2022</td>\n",
       "      <td>[Third Party Advisory]</td>\n",
       "    </tr>\n",
       "    <tr>\n",
       "      <th>4</th>\n",
       "      <td>CVE-2018-20650</td>\n",
       "      <td>2019-01-01T16:29:00.233</td>\n",
       "      <td>https://access.redhat.com/errata/RHSA-2019:2713</td>\n",
       "      <td>[Third Party Advisory]</td>\n",
       "    </tr>\n",
       "  </tbody>\n",
       "</table>\n",
       "</div>"
      ],
      "text/plain": [
       "               id                published  \\\n",
       "0   CVE-2019-3494  2019-01-01T15:29:00.240   \n",
       "1   CVE-2019-3494  2019-01-01T15:29:00.240   \n",
       "2  CVE-2018-20650  2019-01-01T16:29:00.233   \n",
       "3  CVE-2018-20650  2019-01-01T16:29:00.233   \n",
       "4  CVE-2018-20650  2019-01-01T16:29:00.233   \n",
       "\n",
       "                                                 url  \\\n",
       "0  https://github.com/Paroxyste/Simply-Blog/issues/1   \n",
       "1  https://github.com/Paroxyste/Simply-Blog/issues/1   \n",
       "2            http://www.securityfocus.com/bid/106459   \n",
       "3    https://access.redhat.com/errata/RHSA-2019:2022   \n",
       "4    https://access.redhat.com/errata/RHSA-2019:2713   \n",
       "\n",
       "                                              tags  \n",
       "0  [Exploit, Issue Tracking, Third Party Advisory]  \n",
       "1  [Exploit, Issue Tracking, Third Party Advisory]  \n",
       "2                [Third Party Advisory, VDB Entry]  \n",
       "3                           [Third Party Advisory]  \n",
       "4                           [Third Party Advisory]  "
      ]
     },
     "execution_count": 54,
     "metadata": {},
     "output_type": "execute_result"
    }
   ],
   "source": [
    "test_df = references_df.explode(\"references\")\n",
    "test_df[\"tags\"] = test_df[\"references\"].map(\n",
    "    lambda x: x[\"tags\"] if \"tags\" in x.keys() else None\n",
    ")\n",
    "test_df[\"url\"] = test_df[\"references\"].map(lambda x: x[\"url\"])\n",
    "references_df = test_df[[\"id\", \"published\", \"url\", \"tags\"]].reset_index(drop=True)\n",
    "references_df.head()"
   ]
  },
  {
   "cell_type": "code",
   "execution_count": 55,
   "id": "aa36ec0783968679",
   "metadata": {
    "ExecuteTime": {
     "end_time": "2024-08-10T23:20:09.844111Z",
     "start_time": "2024-08-10T23:20:09.813167Z"
    },
    "collapsed": false
   },
   "outputs": [],
   "source": [
    "references_df = references_df.drop_duplicates(subset=\"url\")"
   ]
  },
  {
   "cell_type": "code",
   "execution_count": 56,
   "id": "cf0175bdde1c3dad",
   "metadata": {
    "ExecuteTime": {
     "end_time": "2024-08-10T23:20:10.085117Z",
     "start_time": "2024-08-10T23:20:09.844840Z"
    }
   },
   "outputs": [
    {
     "data": {
      "text/plain": [
       "tags\n",
       "Third Party Advisory      98331\n",
       "Patch                     48221\n",
       "Vendor Advisory           43907\n",
       "Exploit                   39296\n",
       "VDB Entry                 16440\n",
       "Issue Tracking            13463\n",
       "Permissions Required       9403\n",
       "Mailing List               8988\n",
       "Release Notes              6229\n",
       "Product                    6018\n",
       "Broken Link                3319\n",
       "Mitigation                 1823\n",
       "US Government Resource     1061\n",
       "Technical Description       715\n",
       "Not Applicable              662\n",
       "Press/Media Coverage        114\n",
       "URL Repurposed               97\n",
       "Tool Signature               25\n",
       "Related                      15\n",
       "Name: count, dtype: int64"
      ]
     },
     "execution_count": 56,
     "metadata": {},
     "output_type": "execute_result"
    }
   ],
   "source": [
    "references_df.tags.dropna().map(list).explode().value_counts()"
   ]
  },
  {
   "cell_type": "code",
   "execution_count": 57,
   "id": "b09ce0d1bf1f2bf2",
   "metadata": {
    "ExecuteTime": {
     "end_time": "2024-08-10T23:20:11.183133Z",
     "start_time": "2024-08-10T23:20:10.086840Z"
    }
   },
   "outputs": [
    {
     "data": {
      "text/plain": [
       "domain\n",
       "github.com                      43053\n",
       "git.kernel.org                  14716\n",
       "vuldb.com                       12120\n",
       "lists.fedoraproject.org          4758\n",
       "plugins.trac.wordpress.org       4624\n",
       "patchstack.com                   4093\n",
       "lists.apache.org                 3793\n",
       "www.wordfence.com                3619\n",
       "packetstormsecurity.com          3458\n",
       "msrc.microsoft.com               3341\n",
       "portal.msrc.microsoft.com        3295\n",
       "www.zerodayinitiative.com        3264\n",
       "wpscan.com                       3231\n",
       "exchange.xforce.ibmcloud.com     3108\n",
       "www.openwall.com                 2726\n",
       "Name: count, dtype: int64"
      ]
     },
     "execution_count": 57,
     "metadata": {},
     "output_type": "execute_result"
    }
   ],
   "source": [
    "from urllib.parse import urlparse\n",
    "\n",
    "references_df[\"domain\"] = references_df[\"url\"].map(lambda x: urlparse(x).netloc)\n",
    "references_df.domain.value_counts().head(15)"
   ]
  },
  {
   "cell_type": "code",
   "execution_count": 138,
   "id": "dc133937e33bf6db",
   "metadata": {
    "ExecuteTime": {
     "end_time": "2024-08-10T23:20:19.274448Z",
     "start_time": "2024-08-10T23:20:11.186887Z"
    }
   },
   "outputs": [
    {
     "name": "stderr",
     "output_type": "stream",
     "text": [
      "Creating parquet from Arrow format: 100%|██████████| 200/200 [00:00<00:00, 2166.22ba/s]\n",
      "Uploading the dataset shards: 100%|██████████| 1/1 [00:00<00:00,  1.06it/s]\n",
      "No files have been modified since last commit. Skipping to prevent empty commit.\n"
     ]
    },
    {
     "data": {
      "text/plain": [
       "CommitInfo(commit_url='https://huggingface.co/datasets/Eathus/cve-references-list/commit/cb7454443a794f1095ae4006e75dc6e18df97beb', commit_message='Upload dataset', commit_description='', oid='cb7454443a794f1095ae4006e75dc6e18df97beb', pr_url=None, repo_url=RepoUrl('https://huggingface.co/datasets/Eathus/cve-references-list', endpoint='https://huggingface.co', repo_type='dataset', repo_id='Eathus/cve-references-list'), pr_revision=None, pr_num=None)"
      ]
     },
     "execution_count": 138,
     "metadata": {},
     "output_type": "execute_result"
    }
   ],
   "source": [
    "from datasets import Dataset\n",
    "\n",
    "df = pd.DataFrame(references_df)\n",
    "\n",
    "ds = Dataset.from_pandas(df)\n",
    "ds.push_to_hub(\"Eathus/cve-references-list\")"
   ]
  }
 ],
 "metadata": {
  "kernelspec": {
   "display_name": "mthesis_pyenv",
   "language": "python",
   "name": "python3"
  },
  "language_info": {
   "codemirror_mode": {
    "name": "ipython",
    "version": 3
   },
   "file_extension": ".py",
   "mimetype": "text/x-python",
   "name": "python",
   "nbconvert_exporter": "python",
   "pygments_lexer": "ipython3",
   "version": "3.12.3"
  }
 },
 "nbformat": 4,
 "nbformat_minor": 5
}
