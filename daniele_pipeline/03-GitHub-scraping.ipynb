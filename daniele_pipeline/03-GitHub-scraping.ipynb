{
 "cells": [
  {
   "cell_type": "markdown",
   "id": "48a5e236d2adbc17",
   "metadata": {},
   "source": [
    "## Repository selection\n",
    "We want to list and select repositories high number of CVEs references to them.   "
   ]
  },
  {
   "cell_type": "code",
   "execution_count": 1,
   "id": "913e7a91d272702b",
   "metadata": {
    "ExecuteTime": {
     "end_time": "2024-08-12T16:55:59.205286Z",
     "start_time": "2024-08-12T16:55:59.192622Z"
    }
   },
   "outputs": [
    {
     "name": "stdout",
     "output_type": "stream",
     "text": [
      "/Users/daniele/rise/Thesis-daniele/Vulnerability_prediction\n"
     ]
    }
   ],
   "source": [
    "from dotenv import load_dotenv\n",
    "import os\n",
    "\n",
    "os.chdir(\"..\")\n",
    "os.getcwd()\n",
    "load_dotenv()\n",
    "\n",
    "print(os.getcwd())"
   ]
  },
  {
   "cell_type": "code",
   "execution_count": 2,
   "id": "e8d4b8534a8bccdb",
   "metadata": {
    "ExecuteTime": {
     "end_time": "2024-08-21T14:14:32.112095Z",
     "start_time": "2024-08-21T14:14:25.140890Z"
    }
   },
   "outputs": [
    {
     "name": "stderr",
     "output_type": "stream",
     "text": [
      "/home/edvinn/KTH/DA231X-ex/mthesis_pyenv/lib/python3.12/site-packages/tqdm/auto.py:21: TqdmWarning: IProgress not found. Please update jupyter and ipywidgets. See https://ipywidgets.readthedocs.io/en/stable/user_install.html\n",
      "  from .autonotebook import tqdm as notebook_tqdm\n"
     ]
    }
   ],
   "source": [
    "import pandas as pd\n",
    "from  datasets import load_dataset\n",
    "\n",
    "ds = load_dataset('Eathus/cve-references-list', split='train')\n",
    "references_df = ds.to_pandas()\n",
    "\n",
    "ds = load_dataset('Eathus/filtered-vulnerabilities', split='train')\n",
    "vulnerabilities_df = ds.to_pandas()"
   ]
  },
  {
   "cell_type": "code",
   "execution_count": 3,
   "id": "f364a1a87df1cc03",
   "metadata": {
    "ExecuteTime": {
     "end_time": "2024-08-21T14:14:32.175893Z",
     "start_time": "2024-08-21T14:14:32.113486Z"
    }
   },
   "outputs": [],
   "source": [
    "ref_df = references_df[references_df['url'].str.contains('github.*issues')]\n",
    "ref_df = ref_df[pd.to_datetime(ref_df.published) > pd.to_datetime('2023-05-01')]"
   ]
  },
  {
   "cell_type": "code",
   "execution_count": 4,
   "id": "94db206c5111822a",
   "metadata": {
    "ExecuteTime": {
     "end_time": "2024-08-21T14:14:32.183961Z",
     "start_time": "2024-08-21T14:14:32.176781Z"
    }
   },
   "outputs": [
    {
     "name": "stderr",
     "output_type": "stream",
     "text": [
      "1696it [00:00, 64952.56it/s]"
     ]
    },
    {
     "name": "stdout",
     "output_type": "stream",
     "text": [
      "1601\n"
     ]
    },
    {
     "name": "stderr",
     "output_type": "stream",
     "text": [
      "\n"
     ]
    }
   ],
   "source": [
    "import re \n",
    "from tqdm import tqdm\n",
    "\n",
    "repos = set()\n",
    "\n",
    "for id, url in tqdm(ref_df[['id','url']].itertuples(index=False)):\n",
    "    \n",
    "    pattern = r'https://github.com/([^/]+)/([^/]+)/issues/'\n",
    "    match = re.match(pattern, url)\n",
    "    if match:\n",
    "        owner = match.group(1)\n",
    "        repo = match.group(2)\n",
    "        repos.add((owner, repo, id))\n",
    "        \n",
    "print(len(repos))"
   ]
  },
  {
   "cell_type": "code",
   "execution_count": 5,
   "id": "7fd66769d8586eed",
   "metadata": {
    "ExecuteTime": {
     "end_time": "2024-08-12T17:20:21.710633Z",
     "start_time": "2024-08-12T17:20:21.675410Z"
    }
   },
   "outputs": [
    {
     "data": {
      "text/html": [
       "<div>\n",
       "<style scoped>\n",
       "    .dataframe tbody tr th:only-of-type {\n",
       "        vertical-align: middle;\n",
       "    }\n",
       "\n",
       "    .dataframe tbody tr th {\n",
       "        vertical-align: top;\n",
       "    }\n",
       "\n",
       "    .dataframe thead th {\n",
       "        text-align: right;\n",
       "    }\n",
       "</style>\n",
       "<table border=\"1\" class=\"dataframe\">\n",
       "  <thead>\n",
       "    <tr style=\"text-align: right;\">\n",
       "      <th></th>\n",
       "      <th></th>\n",
       "      <th>cve</th>\n",
       "    </tr>\n",
       "    <tr>\n",
       "      <th>owner</th>\n",
       "      <th>repo_name</th>\n",
       "      <th></th>\n",
       "    </tr>\n",
       "  </thead>\n",
       "  <tbody>\n",
       "    <tr>\n",
       "      <th>openlink</th>\n",
       "      <th>virtuoso-opensource</th>\n",
       "      <td>33</td>\n",
       "    </tr>\n",
       "    <tr>\n",
       "      <th>gpac</th>\n",
       "      <th>gpac</th>\n",
       "      <td>32</td>\n",
       "    </tr>\n",
       "    <tr>\n",
       "      <th>ppp-src</th>\n",
       "      <th>CVE</th>\n",
       "      <td>27</td>\n",
       "    </tr>\n",
       "    <tr>\n",
       "      <th>CveSecLook</th>\n",
       "      <th>cve</th>\n",
       "      <td>23</td>\n",
       "    </tr>\n",
       "    <tr>\n",
       "      <th>Hebing123</th>\n",
       "      <th>cve</th>\n",
       "      <td>21</td>\n",
       "    </tr>\n",
       "    <tr>\n",
       "      <th>jerryscript-project</th>\n",
       "      <th>jerryscript</th>\n",
       "      <td>18</td>\n",
       "    </tr>\n",
       "    <tr>\n",
       "      <th>LvZCh</th>\n",
       "      <th>td</th>\n",
       "      <td>17</td>\n",
       "    </tr>\n",
       "    <tr>\n",
       "      <th>Hacker0xone</th>\n",
       "      <th>CVE</th>\n",
       "      <td>16</td>\n",
       "    </tr>\n",
       "    <tr>\n",
       "      <th>ppp-src</th>\n",
       "      <th>a</th>\n",
       "      <td>16</td>\n",
       "    </tr>\n",
       "    <tr>\n",
       "      <th>anhdq201</th>\n",
       "      <th>netbox</th>\n",
       "      <td>16</td>\n",
       "    </tr>\n",
       "    <tr>\n",
       "      <th>weng-xianhu</th>\n",
       "      <th>eyoucms</th>\n",
       "      <td>16</td>\n",
       "    </tr>\n",
       "    <tr>\n",
       "      <th>yasm</th>\n",
       "      <th>yasm</th>\n",
       "      <td>13</td>\n",
       "    </tr>\n",
       "    <tr>\n",
       "      <th>Lanxiy7th</th>\n",
       "      <th>lx_CVE_report-</th>\n",
       "      <td>13</td>\n",
       "    </tr>\n",
       "    <tr>\n",
       "      <th>matthiaskramm</th>\n",
       "      <th>swftools</th>\n",
       "      <td>12</td>\n",
       "    </tr>\n",
       "    <tr>\n",
       "      <th>libming</th>\n",
       "      <th>libming</th>\n",
       "      <td>12</td>\n",
       "    </tr>\n",
       "    <tr>\n",
       "      <th>ChurchCRM</th>\n",
       "      <th>CRM</th>\n",
       "      <td>12</td>\n",
       "    </tr>\n",
       "    <tr>\n",
       "      <th>ros-navigation</th>\n",
       "      <th>navigation2</th>\n",
       "      <td>11</td>\n",
       "    </tr>\n",
       "    <tr>\n",
       "      <th>MonetDB</th>\n",
       "      <th>MonetDB</th>\n",
       "      <td>10</td>\n",
       "    </tr>\n",
       "    <tr>\n",
       "      <th>kubernetes</th>\n",
       "      <th>kubernetes</th>\n",
       "      <td>10</td>\n",
       "    </tr>\n",
       "    <tr>\n",
       "      <th>emqx</th>\n",
       "      <th>nanomq</th>\n",
       "      <td>10</td>\n",
       "    </tr>\n",
       "    <tr>\n",
       "      <th>funadmin</th>\n",
       "      <th>funadmin</th>\n",
       "      <td>10</td>\n",
       "    </tr>\n",
       "    <tr>\n",
       "      <th>cesanta</th>\n",
       "      <th>mjs</th>\n",
       "      <td>9</td>\n",
       "    </tr>\n",
       "    <tr>\n",
       "      <th>python</th>\n",
       "      <th>cpython</th>\n",
       "      <td>9</td>\n",
       "    </tr>\n",
       "    <tr>\n",
       "      <th>axiomatic-systems</th>\n",
       "      <th>Bento4</th>\n",
       "      <td>9</td>\n",
       "    </tr>\n",
       "    <tr>\n",
       "      <th>emlog</th>\n",
       "      <th>emlog</th>\n",
       "      <td>7</td>\n",
       "    </tr>\n",
       "    <tr>\n",
       "      <th>llvm</th>\n",
       "      <th>llvm-project</th>\n",
       "      <td>7</td>\n",
       "    </tr>\n",
       "    <tr>\n",
       "      <th>jeecgboot</th>\n",
       "      <th>jeecg-boot</th>\n",
       "      <td>7</td>\n",
       "    </tr>\n",
       "    <tr>\n",
       "      <th>Num-Nine</th>\n",
       "      <th>CVE</th>\n",
       "      <td>7</td>\n",
       "    </tr>\n",
       "    <tr>\n",
       "      <th>wangyuan-ui</th>\n",
       "      <th>CVE</th>\n",
       "      <td>6</td>\n",
       "    </tr>\n",
       "    <tr>\n",
       "      <th>t4rrega</th>\n",
       "      <th>cve</th>\n",
       "      <td>6</td>\n",
       "    </tr>\n",
       "    <tr>\n",
       "      <th>MiczFlor</th>\n",
       "      <th>RPi-Jukebox-RFID</th>\n",
       "      <td>6</td>\n",
       "    </tr>\n",
       "    <tr>\n",
       "      <th>HryspaHodor</th>\n",
       "      <th>CVE</th>\n",
       "      <td>6</td>\n",
       "    </tr>\n",
       "    <tr>\n",
       "      <th>ImageMagick</th>\n",
       "      <th>ImageMagick</th>\n",
       "      <td>6</td>\n",
       "    </tr>\n",
       "    <tr>\n",
       "      <th>ppp-src</th>\n",
       "      <th>ha</th>\n",
       "      <td>6</td>\n",
       "    </tr>\n",
       "    <tr>\n",
       "      <th>schollz</th>\n",
       "      <th>croc</th>\n",
       "      <td>6</td>\n",
       "    </tr>\n",
       "    <tr>\n",
       "      <th>hwchase17</th>\n",
       "      <th>langchain</th>\n",
       "      <td>6</td>\n",
       "    </tr>\n",
       "    <tr>\n",
       "      <th>xuxueli</th>\n",
       "      <th>xxl-job</th>\n",
       "      <td>6</td>\n",
       "    </tr>\n",
       "    <tr>\n",
       "      <th>greenpau</th>\n",
       "      <th>caddy-security</th>\n",
       "      <td>6</td>\n",
       "    </tr>\n",
       "    <tr>\n",
       "      <th>Piwigo</th>\n",
       "      <th>Piwigo</th>\n",
       "      <td>6</td>\n",
       "    </tr>\n",
       "    <tr>\n",
       "      <th>OpenRapid</th>\n",
       "      <th>rapidcms</th>\n",
       "      <td>6</td>\n",
       "    </tr>\n",
       "    <tr>\n",
       "      <th>dromara</th>\n",
       "      <th>hutool</th>\n",
       "      <td>6</td>\n",
       "    </tr>\n",
       "    <tr>\n",
       "      <th>espeak-ng</th>\n",
       "      <th>espeak-ng</th>\n",
       "      <td>5</td>\n",
       "    </tr>\n",
       "    <tr>\n",
       "      <th>free5gc</th>\n",
       "      <th>free5gc</th>\n",
       "      <td>5</td>\n",
       "    </tr>\n",
       "    <tr>\n",
       "      <th>micropython</th>\n",
       "      <th>micropython</th>\n",
       "      <td>5</td>\n",
       "    </tr>\n",
       "    <tr>\n",
       "      <th>WebAssembly</th>\n",
       "      <th>wabt</th>\n",
       "      <td>5</td>\n",
       "    </tr>\n",
       "    <tr>\n",
       "      <th>wqywfvc</th>\n",
       "      <th>CVE</th>\n",
       "      <td>5</td>\n",
       "    </tr>\n",
       "    <tr>\n",
       "      <th>daylightstudio</th>\n",
       "      <th>FUEL-CMS</th>\n",
       "      <td>5</td>\n",
       "    </tr>\n",
       "    <tr>\n",
       "      <th>chakra-core</th>\n",
       "      <th>ChakraCore</th>\n",
       "      <td>5</td>\n",
       "    </tr>\n",
       "    <tr>\n",
       "      <th>magic2353112890</th>\n",
       "      <th>cve</th>\n",
       "      <td>5</td>\n",
       "    </tr>\n",
       "    <tr>\n",
       "      <th>LibreDWG</th>\n",
       "      <th>libredwg</th>\n",
       "      <td>5</td>\n",
       "    </tr>\n",
       "  </tbody>\n",
       "</table>\n",
       "</div>"
      ],
      "text/plain": [
       "                                         cve\n",
       "owner               repo_name               \n",
       "openlink            virtuoso-opensource   33\n",
       "gpac                gpac                  32\n",
       "ppp-src             CVE                   27\n",
       "CveSecLook          cve                   23\n",
       "Hebing123           cve                   21\n",
       "jerryscript-project jerryscript           18\n",
       "LvZCh               td                    17\n",
       "Hacker0xone         CVE                   16\n",
       "ppp-src             a                     16\n",
       "anhdq201            netbox                16\n",
       "weng-xianhu         eyoucms               16\n",
       "yasm                yasm                  13\n",
       "Lanxiy7th           lx_CVE_report-        13\n",
       "matthiaskramm       swftools              12\n",
       "libming             libming               12\n",
       "ChurchCRM           CRM                   12\n",
       "ros-navigation      navigation2           11\n",
       "MonetDB             MonetDB               10\n",
       "kubernetes          kubernetes            10\n",
       "emqx                nanomq                10\n",
       "funadmin            funadmin              10\n",
       "cesanta             mjs                    9\n",
       "python              cpython                9\n",
       "axiomatic-systems   Bento4                 9\n",
       "emlog               emlog                  7\n",
       "llvm                llvm-project           7\n",
       "jeecgboot           jeecg-boot             7\n",
       "Num-Nine            CVE                    7\n",
       "wangyuan-ui         CVE                    6\n",
       "t4rrega             cve                    6\n",
       "MiczFlor            RPi-Jukebox-RFID       6\n",
       "HryspaHodor         CVE                    6\n",
       "ImageMagick         ImageMagick            6\n",
       "ppp-src             ha                     6\n",
       "schollz             croc                   6\n",
       "hwchase17           langchain              6\n",
       "xuxueli             xxl-job                6\n",
       "greenpau            caddy-security         6\n",
       "Piwigo              Piwigo                 6\n",
       "OpenRapid           rapidcms               6\n",
       "dromara             hutool                 6\n",
       "espeak-ng           espeak-ng              5\n",
       "free5gc             free5gc                5\n",
       "micropython         micropython            5\n",
       "WebAssembly         wabt                   5\n",
       "wqywfvc             CVE                    5\n",
       "daylightstudio      FUEL-CMS               5\n",
       "chakra-core         ChakraCore             5\n",
       "magic2353112890     cve                    5\n",
       "LibreDWG            libredwg               5"
      ]
     },
     "metadata": {},
     "output_type": "display_data"
    }
   ],
   "source": [
    "df = pd.DataFrame(repos, columns=['owner', 'repo_name', 'cve'])\n",
    "df_group = df.groupby(['owner', 'repo_name']).count()\n",
    "df_group_sorted = df_group.sort_values(by='cve', ascending=False)\n",
    "top_50_groups = df_group_sorted.head(50)\n",
    "top_50_groups.head(50)\n",
    "display(df_group_sorted.head(50))"
   ]
  },
  {
   "cell_type": "code",
   "execution_count": 6,
   "id": "84e2fc00d41ee562",
   "metadata": {
    "ExecuteTime": {
     "end_time": "2024-08-12T17:20:23.703119Z",
     "start_time": "2024-08-12T17:20:23.700106Z"
    }
   },
   "outputs": [
    {
     "data": {
      "text/plain": [
       "{('ChurchCRM', 'CRM'),\n",
       " ('CveSecLook', 'cve'),\n",
       " ('Hacker0xone', 'CVE'),\n",
       " ('Hebing123', 'cve'),\n",
       " ('HryspaHodor', 'CVE'),\n",
       " ('ImageMagick', 'ImageMagick'),\n",
       " ('Lanxiy7th', 'lx_CVE_report-'),\n",
       " ('LibreDWG', 'libredwg'),\n",
       " ('LvZCh', 'td'),\n",
       " ('MiczFlor', 'RPi-Jukebox-RFID'),\n",
       " ('MonetDB', 'MonetDB'),\n",
       " ('Num-Nine', 'CVE'),\n",
       " ('OpenRapid', 'rapidcms'),\n",
       " ('Piwigo', 'Piwigo'),\n",
       " ('WebAssembly', 'wabt'),\n",
       " ('anhdq201', 'netbox'),\n",
       " ('axiomatic-systems', 'Bento4'),\n",
       " ('cesanta', 'mjs'),\n",
       " ('chakra-core', 'ChakraCore'),\n",
       " ('daylightstudio', 'FUEL-CMS'),\n",
       " ('dromara', 'hutool'),\n",
       " ('emlog', 'emlog'),\n",
       " ('emqx', 'nanomq'),\n",
       " ('espeak-ng', 'espeak-ng'),\n",
       " ('free5gc', 'free5gc'),\n",
       " ('funadmin', 'funadmin'),\n",
       " ('gpac', 'gpac'),\n",
       " ('greenpau', 'caddy-security'),\n",
       " ('hwchase17', 'langchain'),\n",
       " ('jeecgboot', 'jeecg-boot'),\n",
       " ('jerryscript-project', 'jerryscript'),\n",
       " ('kubernetes', 'kubernetes'),\n",
       " ('libming', 'libming'),\n",
       " ('llvm', 'llvm-project'),\n",
       " ('magic2353112890', 'cve'),\n",
       " ('matthiaskramm', 'swftools'),\n",
       " ('micropython', 'micropython'),\n",
       " ('openlink', 'virtuoso-opensource'),\n",
       " ('ppp-src', 'CVE'),\n",
       " ('ppp-src', 'a'),\n",
       " ('ppp-src', 'ha'),\n",
       " ('python', 'cpython'),\n",
       " ('ros-navigation', 'navigation2'),\n",
       " ('schollz', 'croc'),\n",
       " ('t4rrega', 'cve'),\n",
       " ('wangyuan-ui', 'CVE'),\n",
       " ('weng-xianhu', 'eyoucms'),\n",
       " ('wqywfvc', 'CVE'),\n",
       " ('xuxueli', 'xxl-job'),\n",
       " ('yasm', 'yasm')}"
      ]
     },
     "metadata": {},
     "output_type": "display_data"
    }
   ],
   "source": [
    "repos_set = set(top_50_groups.index)\n",
    "display(repos_set)"
   ]
  },
  {
   "cell_type": "markdown",
   "id": "d6f88ae21f23a697",
   "metadata": {},
   "source": [
    "## Select all the issues/pull form  CVEs references that are linked to one of those repos "
   ]
  },
  {
   "cell_type": "code",
   "execution_count": 7,
   "id": "e308572b60bb83d9",
   "metadata": {
    "ExecuteTime": {
     "end_time": "2024-08-12T17:20:39.470558Z",
     "start_time": "2024-08-12T17:20:39.345628Z"
    }
   },
   "outputs": [
    {
     "data": {
      "text/html": [
       "<div>\n",
       "<style scoped>\n",
       "    .dataframe tbody tr th:only-of-type {\n",
       "        vertical-align: middle;\n",
       "    }\n",
       "\n",
       "    .dataframe tbody tr th {\n",
       "        vertical-align: top;\n",
       "    }\n",
       "\n",
       "    .dataframe thead th {\n",
       "        text-align: right;\n",
       "    }\n",
       "</style>\n",
       "<table border=\"1\" class=\"dataframe\">\n",
       "  <thead>\n",
       "    <tr style=\"text-align: right;\">\n",
       "      <th></th>\n",
       "      <th>id</th>\n",
       "      <th>published</th>\n",
       "      <th>url</th>\n",
       "      <th>tags</th>\n",
       "      <th>domain</th>\n",
       "      <th>__index_level_0__</th>\n",
       "      <th>owner_repo</th>\n",
       "    </tr>\n",
       "  </thead>\n",
       "  <tbody>\n",
       "    <tr>\n",
       "      <th>43820</th>\n",
       "      <td>CVE-2020-24345</td>\n",
       "      <td>2020-08-13T19:15:13.807</td>\n",
       "      <td>https://github.com/jerryscript-project/jerrysc...</td>\n",
       "      <td>[Exploit, Issue Tracking, Patch, Third Party A...</td>\n",
       "      <td>github.com</td>\n",
       "      <td>155052</td>\n",
       "      <td>(jerryscript-project, jerryscript)</td>\n",
       "    </tr>\n",
       "    <tr>\n",
       "      <th>65210</th>\n",
       "      <td>CVE-2020-23308</td>\n",
       "      <td>2021-06-10T23:15:07.843</td>\n",
       "      <td>https://github.com/jerryscript-project/jerrysc...</td>\n",
       "      <td>[Exploit, Issue Tracking, Patch, Third Party A...</td>\n",
       "      <td>github.com</td>\n",
       "      <td>225114</td>\n",
       "      <td>(jerryscript-project, jerryscript)</td>\n",
       "    </tr>\n",
       "    <tr>\n",
       "      <th>119776</th>\n",
       "      <td>CVE-2023-27119</td>\n",
       "      <td>2023-03-10T02:15:58.600</td>\n",
       "      <td>https://github.com/WebAssembly/wabt/issues/1990</td>\n",
       "      <td>[Exploit, Issue Tracking]</td>\n",
       "      <td>github.com</td>\n",
       "      <td>392177</td>\n",
       "      <td>(WebAssembly, wabt)</td>\n",
       "    </tr>\n",
       "    <tr>\n",
       "      <th>80300</th>\n",
       "      <td>CVE-2021-36414</td>\n",
       "      <td>2022-01-10T23:15:09.223</td>\n",
       "      <td>https://github.com/gpac/gpac/issues/1840</td>\n",
       "      <td>[Exploit, Issue Tracking, Patch, Third Party A...</td>\n",
       "      <td>github.com</td>\n",
       "      <td>275294</td>\n",
       "      <td>(gpac, gpac)</td>\n",
       "    </tr>\n",
       "    <tr>\n",
       "      <th>77447</th>\n",
       "      <td>CVE-2021-28236</td>\n",
       "      <td>2021-12-02T22:15:08.893</td>\n",
       "      <td>https://github.com/LibreDWG/libredwg/issues/324</td>\n",
       "      <td>[Exploit, Third Party Advisory]</td>\n",
       "      <td>github.com</td>\n",
       "      <td>265944</td>\n",
       "      <td>(LibreDWG, libredwg)</td>\n",
       "    </tr>\n",
       "  </tbody>\n",
       "</table>\n",
       "</div>"
      ],
      "text/plain": [
       "                    id                published  \\\n",
       "43820   CVE-2020-24345  2020-08-13T19:15:13.807   \n",
       "65210   CVE-2020-23308  2021-06-10T23:15:07.843   \n",
       "119776  CVE-2023-27119  2023-03-10T02:15:58.600   \n",
       "80300   CVE-2021-36414  2022-01-10T23:15:09.223   \n",
       "77447   CVE-2021-28236  2021-12-02T22:15:08.893   \n",
       "\n",
       "                                                      url  \\\n",
       "43820   https://github.com/jerryscript-project/jerrysc...   \n",
       "65210   https://github.com/jerryscript-project/jerrysc...   \n",
       "119776    https://github.com/WebAssembly/wabt/issues/1990   \n",
       "80300            https://github.com/gpac/gpac/issues/1840   \n",
       "77447     https://github.com/LibreDWG/libredwg/issues/324   \n",
       "\n",
       "                                                     tags      domain  \\\n",
       "43820   [Exploit, Issue Tracking, Patch, Third Party A...  github.com   \n",
       "65210   [Exploit, Issue Tracking, Patch, Third Party A...  github.com   \n",
       "119776                          [Exploit, Issue Tracking]  github.com   \n",
       "80300   [Exploit, Issue Tracking, Patch, Third Party A...  github.com   \n",
       "77447                     [Exploit, Third Party Advisory]  github.com   \n",
       "\n",
       "        __index_level_0__                          owner_repo  \n",
       "43820              155052  (jerryscript-project, jerryscript)  \n",
       "65210              225114  (jerryscript-project, jerryscript)  \n",
       "119776             392177                 (WebAssembly, wabt)  \n",
       "80300              275294                        (gpac, gpac)  \n",
       "77447              265944                (LibreDWG, libredwg)  "
      ]
     },
     "execution_count": 7,
     "metadata": {},
     "output_type": "execute_result"
    }
   ],
   "source": [
    "filtered_references_df_tmp = references_df[\n",
    "    references_df['url'].str.contains('github.com/[^/]+/[^/]+/issues/[0-9]+', regex=True)].copy()\n",
    "\n",
    "\n",
    "def funct(url):\n",
    "    pattern = r'https://github.com/([^/]+)/([^/]+)/'\n",
    "    match = re.match(pattern, url)\n",
    "    if match:\n",
    "        owner = match.group(1)\n",
    "        repo = match.group(2)\n",
    "        return (owner, repo)\n",
    "    return None\n",
    "\n",
    "\n",
    "filtered_references_df_tmp['owner_repo'] = filtered_references_df_tmp['url'].map(funct)\n",
    "filtered_references_df = filtered_references_df_tmp[filtered_references_df_tmp.owner_repo.isin(repos_set)]\n",
    "filtered_references_df.sample(5)"
   ]
  },
  {
   "cell_type": "code",
   "execution_count": 8,
   "id": "f777a71394274ab6",
   "metadata": {
    "ExecuteTime": {
     "end_time": "2024-08-12T17:20:41.020674Z",
     "start_time": "2024-08-12T17:20:41.009730Z"
    }
   },
   "outputs": [
    {
     "name": "stdout",
     "output_type": "stream",
     "text": [
      "filtered_references_df len:\t 1383\n"
     ]
    }
   ],
   "source": [
    "print('filtered_references_df len:\\t', len(filtered_references_df))"
   ]
  },
  {
   "cell_type": "markdown",
   "id": "761008705eb247b0",
   "metadata": {},
   "source": [
    "## Scrape issues from GitHub referenced Issues"
   ]
  },
  {
   "cell_type": "code",
   "execution_count": 9,
   "id": "4f44060ea71ef56d",
   "metadata": {
    "ExecuteTime": {
     "end_time": "2024-08-12T17:20:54.865825Z",
     "start_time": "2024-08-12T17:20:54.857664Z"
    }
   },
   "outputs": [],
   "source": [
    "import requests\n",
    "import os\n",
    "USER_MAIN = os.getenv(\"GITHUB_USER_MAIN\")\n",
    "USER_PRIV = os.getenv(\"GITHUB_USER_PRIV\")\n",
    "USER_SCHOOL = os.getenv(\"GITHUB_USER_SCHOOL\")\n",
    "\n",
    "API_KEY_MAIN = os.getenv(\"GITHUB_API_KEY_MAIN\")\n",
    "API_KEY_PRIV = os.getenv(\"GITHUB_API_KEY_PRIV\")\n",
    "API_KEY_SCHOOL = os.getenv(\"GITHUB_API_KEY_SCHOOL\")\n",
    "counter = 0\n",
    "dict_auth = [\n",
    "    {\n",
    "        'user': USER_MAIN,\n",
    "        'secret': API_KEY_MAIN\n",
    "\n",
    "    },\n",
    "    {\n",
    "        'user': USER_PRIV,\n",
    "        'secret': API_KEY_PRIV\n",
    "    },\n",
    "    {\n",
    "        'user': USER_SCHOOL,\n",
    "        'secret': API_KEY_SCHOOL\n",
    "    }\n",
    "]\n",
    "\n",
    "\n",
    "def get_issue(url_html):\n",
    "    \n",
    "    url = url_html.replace(\"github.com\", \"api.github.com/repos\")\n",
    "    return _getter(url, url_html)\n",
    "\n",
    "\n",
    "def _getter(url, html_url):\n",
    "    global counter\n",
    "\n",
    "    counter += 1\n",
    "    auth = (dict_auth[counter % 3]['user'], dict_auth[counter % 3]['secret'])\n",
    "    response = requests.get(url, auth=auth)\n",
    "\n",
    "    if response.status_code != 200:\n",
    "        print(f\"Error for URL: {url}\")\n",
    "        print(f\"Status Code: {response.status_code}\")\n",
    "        print(f\"Response: {response.json()}\")\n",
    "        return  # Skip this URL\n",
    "    \n",
    "    res = response.json()\n",
    "    try:\n",
    "        yield {\n",
    "            \"url\": html_url,\n",
    "            \"body\": res['body'],\n",
    "            \"title\": res['title'],\n",
    "            \"comments_url\": res['comments_url'],\n",
    "            \"comments_count\": res['comments'],\n",
    "            \"created_at\": res['created_at'],\n",
    "            \"updated_at\": res[\"updated_at\"],\n",
    "            \"html_url\": res[\"html_url\"],\n",
    "            \"github_id\": res[\"id\"],\n",
    "            \"number\": res[\"number\"]\n",
    "    \n",
    "        }\n",
    "    except Exception as e:\n",
    "        print(url)\n",
    "        print(f\"Exception: {e}\")\n"
   ]
  },
  {
   "cell_type": "code",
   "execution_count": 10,
   "id": "816a529c63dfa574",
   "metadata": {
    "ExecuteTime": {
     "end_time": "2024-08-12T17:24:58.309213Z",
     "start_time": "2024-08-12T17:20:55.505648Z"
    }
   },
   "outputs": [
    {
     "name": "stderr",
     "output_type": "stream",
     "text": [
      "197it [00:50,  4.63it/s]"
     ]
    },
    {
     "name": "stdout",
     "output_type": "stream",
     "text": [
      "Error for URL: https://api.github.com/repos/emlog/emlog/issues/62\n",
      "Status Code: 410\n",
      "Response: {'message': 'This issue was deleted', 'documentation_url': 'https://docs.github.com/rest/issues/issues#get-an-issue', 'status': '410'}\n"
     ]
    },
    {
     "name": "stderr",
     "output_type": "stream",
     "text": [
      "204it [00:52,  4.25it/s]"
     ]
    },
    {
     "name": "stdout",
     "output_type": "stream",
     "text": [
      "Error for URL: https://api.github.com/repos/emlog/emlog/issues/54\n",
      "Status Code: 410\n",
      "Response: {'message': 'This issue was deleted', 'documentation_url': 'https://docs.github.com/rest/issues/issues#get-an-issue', 'status': '410'}\n"
     ]
    },
    {
     "name": "stderr",
     "output_type": "stream",
     "text": [
      "234it [00:59,  4.98it/s]"
     ]
    },
    {
     "name": "stdout",
     "output_type": "stream",
     "text": [
      "Error for URL: https://api.github.com/repos/emlog/emlog/issues/79\n",
      "Status Code: 410\n",
      "Response: {'message': 'This issue was deleted', 'documentation_url': 'https://docs.github.com/rest/issues/issues#get-an-issue', 'status': '410'}\n",
      "Error for URL: https://api.github.com/repos/emlog/emlog/issues/82\n",
      "Status Code: 410\n",
      "Response: {'message': 'This issue was deleted', 'documentation_url': 'https://docs.github.com/rest/issues/issues#get-an-issue', 'status': '410'}\n"
     ]
    },
    {
     "name": "stderr",
     "output_type": "stream",
     "text": [
      "259it [01:05,  4.22it/s]"
     ]
    },
    {
     "name": "stdout",
     "output_type": "stream",
     "text": [
      "Error for URL: https://api.github.com/repos/emlog/emlog/issues/74\n",
      "Status Code: 410\n",
      "Response: {'message': 'This issue was deleted', 'documentation_url': 'https://docs.github.com/rest/issues/issues#get-an-issue', 'status': '410'}\n"
     ]
    },
    {
     "name": "stderr",
     "output_type": "stream",
     "text": [
      "333it [01:24,  4.65it/s]"
     ]
    },
    {
     "name": "stdout",
     "output_type": "stream",
     "text": [
      "Error for URL: https://api.github.com/repos/emlog/emlog/issues/50\n",
      "Status Code: 410\n",
      "Response: {'message': 'This issue was deleted', 'documentation_url': 'https://docs.github.com/rest/issues/issues#get-an-issue', 'status': '410'}\n"
     ]
    },
    {
     "name": "stderr",
     "output_type": "stream",
     "text": [
      "388it [01:43,  4.79it/s]"
     ]
    },
    {
     "name": "stdout",
     "output_type": "stream",
     "text": [
      "Error for URL: https://api.github.com/repos/emlog/emlog/issues/52\n",
      "Status Code: 410\n",
      "Response: {'message': 'This issue was deleted', 'documentation_url': 'https://docs.github.com/rest/issues/issues#get-an-issue', 'status': '410'}\n",
      "Error for URL: https://api.github.com/repos/emlog/emlog/issues/53\n",
      "Status Code: 410\n",
      "Response: {'message': 'This issue was deleted', 'documentation_url': 'https://docs.github.com/rest/issues/issues#get-an-issue', 'status': '410'}\n"
     ]
    },
    {
     "name": "stderr",
     "output_type": "stream",
     "text": [
      "389it [01:43,  5.01it/s]"
     ]
    },
    {
     "name": "stdout",
     "output_type": "stream",
     "text": [
      "Error for URL: https://api.github.com/repos/emlog/emlog/issues/55\n",
      "Status Code: 410\n",
      "Response: {'message': 'This issue was deleted', 'documentation_url': 'https://docs.github.com/rest/issues/issues#get-an-issue', 'status': '410'}\n"
     ]
    },
    {
     "name": "stderr",
     "output_type": "stream",
     "text": [
      "401it [01:46,  4.76it/s]"
     ]
    },
    {
     "name": "stdout",
     "output_type": "stream",
     "text": [
      "Error for URL: https://api.github.com/repos/emlog/emlog/issues/108\n",
      "Status Code: 410\n",
      "Response: {'message': 'This issue was deleted', 'documentation_url': 'https://docs.github.com/rest/issues/issues#get-an-issue', 'status': '410'}\n"
     ]
    },
    {
     "name": "stderr",
     "output_type": "stream",
     "text": [
      "426it [01:52,  4.86it/s]"
     ]
    },
    {
     "name": "stdout",
     "output_type": "stream",
     "text": [
      "Error for URL: https://api.github.com/repos/emlog/emlog/issues/113\n",
      "Status Code: 410\n",
      "Response: {'message': 'This issue was deleted', 'documentation_url': 'https://docs.github.com/rest/issues/issues#get-an-issue', 'status': '410'}\n"
     ]
    },
    {
     "name": "stderr",
     "output_type": "stream",
     "text": [
      "549it [02:23,  4.61it/s]"
     ]
    },
    {
     "name": "stdout",
     "output_type": "stream",
     "text": [
      "Error for URL: https://api.github.com/repos/emlog/emlog/issues/147\n",
      "Status Code: 410\n",
      "Response: {'message': 'This issue was deleted', 'documentation_url': 'https://docs.github.com/rest/issues/issues#get-an-issue', 'status': '410'}\n"
     ]
    },
    {
     "name": "stderr",
     "output_type": "stream",
     "text": [
      "552it [02:23,  4.50it/s]"
     ]
    },
    {
     "name": "stdout",
     "output_type": "stream",
     "text": [
      "Error for URL: https://api.github.com/repos/emlog/emlog/issues/144\n",
      "Status Code: 410\n",
      "Response: {'message': 'This issue was deleted', 'documentation_url': 'https://docs.github.com/rest/issues/issues#get-an-issue', 'status': '410'}\n"
     ]
    },
    {
     "name": "stderr",
     "output_type": "stream",
     "text": [
      "1258it [05:36,  2.08it/s]"
     ]
    },
    {
     "name": "stdout",
     "output_type": "stream",
     "text": [
      "Error for URL: https://api.github.com/repos/ppp-src/CVE/issues/8\n",
      "Status Code: 410\n",
      "Response: {'message': 'This issue was deleted', 'documentation_url': 'https://docs.github.com/rest/issues/issues#get-an-issue', 'status': '410'}\n"
     ]
    },
    {
     "name": "stderr",
     "output_type": "stream",
     "text": [
      "1297it [05:45,  4.22it/s]"
     ]
    },
    {
     "name": "stdout",
     "output_type": "stream",
     "text": [
      "Error for URL: https://api.github.com/repos/LvZCh/td/issues/1\n",
      "Status Code: 404\n",
      "Response: {'message': 'Not Found', 'documentation_url': 'https://docs.github.com/rest/issues/issues#get-an-issue', 'status': '404'}\n",
      "Error for URL: https://api.github.com/repos/LvZCh/td/issues/2\n",
      "Status Code: 404\n",
      "Response: {'message': 'Not Found', 'documentation_url': 'https://docs.github.com/rest/issues/issues#get-an-issue', 'status': '404'}\n"
     ]
    },
    {
     "name": "stderr",
     "output_type": "stream",
     "text": [
      "1299it [05:45,  4.83it/s]"
     ]
    },
    {
     "name": "stdout",
     "output_type": "stream",
     "text": [
      "Error for URL: https://api.github.com/repos/LvZCh/td/issues/3\n",
      "Status Code: 404\n",
      "Response: {'message': 'Not Found', 'documentation_url': 'https://docs.github.com/rest/issues/issues#get-an-issue', 'status': '404'}\n",
      "Error for URL: https://api.github.com/repos/LvZCh/td/issues/4\n",
      "Status Code: 404\n",
      "Response: {'message': 'Not Found', 'documentation_url': 'https://docs.github.com/rest/issues/issues#get-an-issue', 'status': '404'}\n"
     ]
    },
    {
     "name": "stderr",
     "output_type": "stream",
     "text": [
      "1300it [05:46,  5.11it/s]"
     ]
    },
    {
     "name": "stdout",
     "output_type": "stream",
     "text": [
      "Error for URL: https://api.github.com/repos/LvZCh/td/issues/5\n",
      "Status Code: 404\n",
      "Response: {'message': 'Not Found', 'documentation_url': 'https://docs.github.com/rest/issues/issues#get-an-issue', 'status': '404'}\n"
     ]
    },
    {
     "name": "stderr",
     "output_type": "stream",
     "text": [
      "1302it [05:46,  5.10it/s]"
     ]
    },
    {
     "name": "stdout",
     "output_type": "stream",
     "text": [
      "Error for URL: https://api.github.com/repos/LvZCh/td/issues/6\n",
      "Status Code: 404\n",
      "Response: {'message': 'Not Found', 'documentation_url': 'https://docs.github.com/rest/issues/issues#get-an-issue', 'status': '404'}\n"
     ]
    },
    {
     "name": "stderr",
     "output_type": "stream",
     "text": [
      "1304it [05:46,  5.07it/s]"
     ]
    },
    {
     "name": "stdout",
     "output_type": "stream",
     "text": [
      "Error for URL: https://api.github.com/repos/LvZCh/td/issues/7\n",
      "Status Code: 404\n",
      "Response: {'message': 'Not Found', 'documentation_url': 'https://docs.github.com/rest/issues/issues#get-an-issue', 'status': '404'}\n",
      "Error for URL: https://api.github.com/repos/LvZCh/td/issues/8\n",
      "Status Code: 404\n",
      "Response: {'message': 'Not Found', 'documentation_url': 'https://docs.github.com/rest/issues/issues#get-an-issue', 'status': '404'}\n"
     ]
    },
    {
     "name": "stderr",
     "output_type": "stream",
     "text": [
      "1306it [05:47,  5.33it/s]"
     ]
    },
    {
     "name": "stdout",
     "output_type": "stream",
     "text": [
      "Error for URL: https://api.github.com/repos/LvZCh/td/issues/9\n",
      "Status Code: 404\n",
      "Response: {'message': 'Not Found', 'documentation_url': 'https://docs.github.com/rest/issues/issues#get-an-issue', 'status': '404'}\n",
      "Error for URL: https://api.github.com/repos/LvZCh/td/issues/10\n",
      "Status Code: 404\n",
      "Response: {'message': 'Not Found', 'documentation_url': 'https://docs.github.com/rest/issues/issues#get-an-issue', 'status': '404'}\n"
     ]
    },
    {
     "name": "stderr",
     "output_type": "stream",
     "text": [
      "1308it [05:47,  5.26it/s]"
     ]
    },
    {
     "name": "stdout",
     "output_type": "stream",
     "text": [
      "Error for URL: https://api.github.com/repos/LvZCh/td/issues/11\n",
      "Status Code: 404\n",
      "Response: {'message': 'Not Found', 'documentation_url': 'https://docs.github.com/rest/issues/issues#get-an-issue', 'status': '404'}\n",
      "Error for URL: https://api.github.com/repos/LvZCh/td/issues/12\n",
      "Status Code: 404\n",
      "Response: {'message': 'Not Found', 'documentation_url': 'https://docs.github.com/rest/issues/issues#get-an-issue', 'status': '404'}\n"
     ]
    },
    {
     "name": "stderr",
     "output_type": "stream",
     "text": [
      "1310it [05:48,  5.43it/s]"
     ]
    },
    {
     "name": "stdout",
     "output_type": "stream",
     "text": [
      "Error for URL: https://api.github.com/repos/LvZCh/td/issues/13\n",
      "Status Code: 404\n",
      "Response: {'message': 'Not Found', 'documentation_url': 'https://docs.github.com/rest/issues/issues#get-an-issue', 'status': '404'}\n",
      "Error for URL: https://api.github.com/repos/LvZCh/td/issues/14\n",
      "Status Code: 404\n",
      "Response: {'message': 'Not Found', 'documentation_url': 'https://docs.github.com/rest/issues/issues#get-an-issue', 'status': '404'}\n"
     ]
    },
    {
     "name": "stderr",
     "output_type": "stream",
     "text": [
      "1312it [05:48,  5.26it/s]"
     ]
    },
    {
     "name": "stdout",
     "output_type": "stream",
     "text": [
      "Error for URL: https://api.github.com/repos/LvZCh/td/issues/15\n",
      "Status Code: 404\n",
      "Response: {'message': 'Not Found', 'documentation_url': 'https://docs.github.com/rest/issues/issues#get-an-issue', 'status': '404'}\n",
      "Error for URL: https://api.github.com/repos/LvZCh/td/issues/16\n",
      "Status Code: 404\n",
      "Response: {'message': 'Not Found', 'documentation_url': 'https://docs.github.com/rest/issues/issues#get-an-issue', 'status': '404'}\n"
     ]
    },
    {
     "name": "stderr",
     "output_type": "stream",
     "text": [
      "1313it [05:48,  5.35it/s]"
     ]
    },
    {
     "name": "stdout",
     "output_type": "stream",
     "text": [
      "Error for URL: https://api.github.com/repos/LvZCh/td/issues/17\n",
      "Status Code: 404\n",
      "Response: {'message': 'Not Found', 'documentation_url': 'https://docs.github.com/rest/issues/issues#get-an-issue', 'status': '404'}\n"
     ]
    },
    {
     "name": "stderr",
     "output_type": "stream",
     "text": [
      "1340it [05:54,  4.85it/s]"
     ]
    },
    {
     "name": "stdout",
     "output_type": "stream",
     "text": [
      "Error for URL: https://api.github.com/repos/wqywfvc/CVE/issues/2\n",
      "Status Code: 404\n",
      "Response: {'message': 'Not Found', 'documentation_url': 'https://docs.github.com/rest', 'status': '404'}\n"
     ]
    },
    {
     "name": "stderr",
     "output_type": "stream",
     "text": [
      "1381it [06:04,  5.06it/s]"
     ]
    },
    {
     "name": "stdout",
     "output_type": "stream",
     "text": [
      "Error for URL: https://api.github.com/repos/wqywfvc/CVE/issues/10\n",
      "Status Code: 404\n",
      "Response: {'message': 'Not Found', 'documentation_url': 'https://docs.github.com/rest', 'status': '404'}\n",
      "Error for URL: https://api.github.com/repos/wqywfvc/CVE/issues/11\n",
      "Status Code: 404\n",
      "Response: {'message': 'Not Found', 'documentation_url': 'https://docs.github.com/rest', 'status': '404'}\n"
     ]
    },
    {
     "name": "stderr",
     "output_type": "stream",
     "text": [
      "1383it [06:04,  3.79it/s]"
     ]
    },
    {
     "name": "stdout",
     "output_type": "stream",
     "text": [
      "Error for URL: https://api.github.com/repos/wqywfvc/CVE/issues/12\n",
      "Status Code: 404\n",
      "Response: {'message': 'Not Found', 'documentation_url': 'https://docs.github.com/rest', 'status': '404'}\n",
      "Error for URL: https://api.github.com/repos/wqywfvc/CVE/issues/16\n",
      "Status Code: 404\n",
      "Response: {'message': 'Not Found', 'documentation_url': 'https://docs.github.com/rest', 'status': '404'}\n"
     ]
    },
    {
     "name": "stderr",
     "output_type": "stream",
     "text": [
      "\n"
     ]
    }
   ],
   "source": [
    "data = []\n",
    "\n",
    "for index, row in tqdm(filtered_references_df.iterrows()):\n",
    "    for item in get_issue(row['url']):\n",
    "        data.append(item)"
   ]
  },
  {
   "cell_type": "code",
   "execution_count": 11,
   "id": "ce757151",
   "metadata": {},
   "outputs": [
    {
     "data": {
      "text/html": [
       "<div>\n",
       "<style scoped>\n",
       "    .dataframe tbody tr th:only-of-type {\n",
       "        vertical-align: middle;\n",
       "    }\n",
       "\n",
       "    .dataframe tbody tr th {\n",
       "        vertical-align: top;\n",
       "    }\n",
       "\n",
       "    .dataframe thead th {\n",
       "        text-align: right;\n",
       "    }\n",
       "</style>\n",
       "<table border=\"1\" class=\"dataframe\">\n",
       "  <thead>\n",
       "    <tr style=\"text-align: right;\">\n",
       "      <th></th>\n",
       "      <th>url</th>\n",
       "      <th>body</th>\n",
       "      <th>title</th>\n",
       "      <th>comments_url</th>\n",
       "      <th>comments_count</th>\n",
       "      <th>created_at</th>\n",
       "      <th>updated_at</th>\n",
       "      <th>html_url</th>\n",
       "      <th>github_id</th>\n",
       "      <th>number</th>\n",
       "    </tr>\n",
       "  </thead>\n",
       "  <tbody>\n",
       "    <tr>\n",
       "      <th>0</th>\n",
       "      <td>https://github.com/libming/libming/issues/169</td>\n",
       "      <td>I found a a heap-buffer-overflow problem in fu...</td>\n",
       "      <td>a heap-buffer-overflow problem in function wri...</td>\n",
       "      <td>https://api.github.com/repos/libming/libming/i...</td>\n",
       "      <td>1</td>\n",
       "      <td>2018-12-28T10:35:44Z</td>\n",
       "      <td>2019-01-07T16:23:12Z</td>\n",
       "      <td>https://github.com/libming/libming/issues/169</td>\n",
       "      <td>394605758</td>\n",
       "      <td>169</td>\n",
       "    </tr>\n",
       "    <tr>\n",
       "      <th>1</th>\n",
       "      <td>https://github.com/axiomatic-systems/Bento4/is...</td>\n",
       "      <td>A crafted input will lead to Memory allocation...</td>\n",
       "      <td>Allocate for large amounts of memory failed in...</td>\n",
       "      <td>https://api.github.com/repos/axiomatic-systems...</td>\n",
       "      <td>2</td>\n",
       "      <td>2018-12-31T15:52:26Z</td>\n",
       "      <td>2019-01-12T21:14:48Z</td>\n",
       "      <td>https://github.com/axiomatic-systems/Bento4/is...</td>\n",
       "      <td>394998583</td>\n",
       "      <td>350</td>\n",
       "    </tr>\n",
       "    <tr>\n",
       "      <th>2</th>\n",
       "      <td>https://github.com/axiomatic-systems/Bento4/is...</td>\n",
       "      <td>there is memory leaks in Ap4String.cpp\\r\\n\\r\\n...</td>\n",
       "      <td>memory leaks in Ap4String.cpp</td>\n",
       "      <td>https://api.github.com/repos/axiomatic-systems...</td>\n",
       "      <td>1</td>\n",
       "      <td>2019-01-10T17:00:31Z</td>\n",
       "      <td>2019-01-12T09:36:13Z</td>\n",
       "      <td>https://github.com/axiomatic-systems/Bento4/is...</td>\n",
       "      <td>397925621</td>\n",
       "      <td>357</td>\n",
       "    </tr>\n",
       "    <tr>\n",
       "      <th>3</th>\n",
       "      <td>https://github.com/axiomatic-systems/Bento4/is...</td>\n",
       "      <td>A crafted input will lead to  failed  allocate...</td>\n",
       "      <td>failed to allocate LargeMmapAllocator in Ap4A...</td>\n",
       "      <td>https://api.github.com/repos/axiomatic-systems...</td>\n",
       "      <td>1</td>\n",
       "      <td>2019-01-25T07:49:22Z</td>\n",
       "      <td>2019-12-26T14:50:59Z</td>\n",
       "      <td>https://github.com/axiomatic-systems/Bento4/is...</td>\n",
       "      <td>403042062</td>\n",
       "      <td>361</td>\n",
       "    </tr>\n",
       "    <tr>\n",
       "      <th>4</th>\n",
       "      <td>https://github.com/ImageMagick/ImageMagick/iss...</td>\n",
       "      <td>### Prerequisites\\r\\n\\r\\n- [x] I have written ...</td>\n",
       "      <td>memory leak in WritePSDChannel in coders/psd.c</td>\n",
       "      <td>https://api.github.com/repos/ImageMagick/Image...</td>\n",
       "      <td>2</td>\n",
       "      <td>2019-01-17T03:11:55Z</td>\n",
       "      <td>2019-02-12T01:45:47Z</td>\n",
       "      <td>https://github.com/ImageMagick/ImageMagick/iss...</td>\n",
       "      <td>400092278</td>\n",
       "      <td>1451</td>\n",
       "    </tr>\n",
       "  </tbody>\n",
       "</table>\n",
       "</div>"
      ],
      "text/plain": [
       "                                                 url  \\\n",
       "0      https://github.com/libming/libming/issues/169   \n",
       "1  https://github.com/axiomatic-systems/Bento4/is...   \n",
       "2  https://github.com/axiomatic-systems/Bento4/is...   \n",
       "3  https://github.com/axiomatic-systems/Bento4/is...   \n",
       "4  https://github.com/ImageMagick/ImageMagick/iss...   \n",
       "\n",
       "                                                body  \\\n",
       "0  I found a a heap-buffer-overflow problem in fu...   \n",
       "1  A crafted input will lead to Memory allocation...   \n",
       "2  there is memory leaks in Ap4String.cpp\\r\\n\\r\\n...   \n",
       "3  A crafted input will lead to  failed  allocate...   \n",
       "4  ### Prerequisites\\r\\n\\r\\n- [x] I have written ...   \n",
       "\n",
       "                                               title  \\\n",
       "0  a heap-buffer-overflow problem in function wri...   \n",
       "1  Allocate for large amounts of memory failed in...   \n",
       "2                      memory leaks in Ap4String.cpp   \n",
       "3   failed to allocate LargeMmapAllocator in Ap4A...   \n",
       "4     memory leak in WritePSDChannel in coders/psd.c   \n",
       "\n",
       "                                        comments_url  comments_count  \\\n",
       "0  https://api.github.com/repos/libming/libming/i...               1   \n",
       "1  https://api.github.com/repos/axiomatic-systems...               2   \n",
       "2  https://api.github.com/repos/axiomatic-systems...               1   \n",
       "3  https://api.github.com/repos/axiomatic-systems...               1   \n",
       "4  https://api.github.com/repos/ImageMagick/Image...               2   \n",
       "\n",
       "             created_at            updated_at  \\\n",
       "0  2018-12-28T10:35:44Z  2019-01-07T16:23:12Z   \n",
       "1  2018-12-31T15:52:26Z  2019-01-12T21:14:48Z   \n",
       "2  2019-01-10T17:00:31Z  2019-01-12T09:36:13Z   \n",
       "3  2019-01-25T07:49:22Z  2019-12-26T14:50:59Z   \n",
       "4  2019-01-17T03:11:55Z  2019-02-12T01:45:47Z   \n",
       "\n",
       "                                            html_url  github_id  number  \n",
       "0      https://github.com/libming/libming/issues/169  394605758     169  \n",
       "1  https://github.com/axiomatic-systems/Bento4/is...  394998583     350  \n",
       "2  https://github.com/axiomatic-systems/Bento4/is...  397925621     357  \n",
       "3  https://github.com/axiomatic-systems/Bento4/is...  403042062     361  \n",
       "4  https://github.com/ImageMagick/ImageMagick/iss...  400092278    1451  "
      ]
     },
     "metadata": {},
     "output_type": "display_data"
    },
    {
     "name": "stdout",
     "output_type": "stream",
     "text": [
      "1347\n"
     ]
    }
   ],
   "source": [
    "display(pd.DataFrame(data).head())\n",
    "print(len(pd.DataFrame(data)))"
   ]
  },
  {
   "cell_type": "code",
   "execution_count": 12,
   "id": "27f5efefaf0cd3ca",
   "metadata": {
    "ExecuteTime": {
     "end_time": "2024-08-12T17:07:56.059235Z",
     "start_time": "2024-08-12T17:07:56.015721Z"
    }
   },
   "outputs": [
    {
     "name": "stdout",
     "output_type": "stream",
     "text": [
      "1347\n"
     ]
    }
   ],
   "source": [
    "issues_reference_df = pd.merge(\n",
    "    filtered_references_df,\n",
    "    pd.DataFrame(data),\n",
    "    on='url'\n",
    ")\n",
    "print(len(issues_reference_df))"
   ]
  },
  {
   "cell_type": "code",
   "execution_count": 13,
   "id": "74a84223",
   "metadata": {},
   "outputs": [
    {
     "data": {
      "text/html": [
       "<div>\n",
       "<style scoped>\n",
       "    .dataframe tbody tr th:only-of-type {\n",
       "        vertical-align: middle;\n",
       "    }\n",
       "\n",
       "    .dataframe tbody tr th {\n",
       "        vertical-align: top;\n",
       "    }\n",
       "\n",
       "    .dataframe thead th {\n",
       "        text-align: right;\n",
       "    }\n",
       "</style>\n",
       "<table border=\"1\" class=\"dataframe\">\n",
       "  <thead>\n",
       "    <tr style=\"text-align: right;\">\n",
       "      <th></th>\n",
       "      <th>id</th>\n",
       "      <th>published</th>\n",
       "      <th>url</th>\n",
       "      <th>tags</th>\n",
       "      <th>domain</th>\n",
       "      <th>__index_level_0__</th>\n",
       "      <th>owner_repo</th>\n",
       "      <th>body</th>\n",
       "      <th>title</th>\n",
       "      <th>comments_url</th>\n",
       "      <th>comments_count</th>\n",
       "      <th>created_at</th>\n",
       "      <th>updated_at</th>\n",
       "      <th>html_url</th>\n",
       "      <th>github_id</th>\n",
       "      <th>number</th>\n",
       "    </tr>\n",
       "  </thead>\n",
       "  <tbody>\n",
       "    <tr>\n",
       "      <th>0</th>\n",
       "      <td>CVE-2019-3572</td>\n",
       "      <td>2019-01-02T15:29:00.330</td>\n",
       "      <td>https://github.com/libming/libming/issues/169</td>\n",
       "      <td>[Exploit, Third Party Advisory]</td>\n",
       "      <td>github.com</td>\n",
       "      <td>82</td>\n",
       "      <td>(libming, libming)</td>\n",
       "      <td>I found a a heap-buffer-overflow problem in fu...</td>\n",
       "      <td>a heap-buffer-overflow problem in function wri...</td>\n",
       "      <td>https://api.github.com/repos/libming/libming/i...</td>\n",
       "      <td>1</td>\n",
       "      <td>2018-12-28T10:35:44Z</td>\n",
       "      <td>2019-01-07T16:23:12Z</td>\n",
       "      <td>https://github.com/libming/libming/issues/169</td>\n",
       "      <td>394605758</td>\n",
       "      <td>169</td>\n",
       "    </tr>\n",
       "  </tbody>\n",
       "</table>\n",
       "</div>"
      ],
      "text/plain": [
       "              id                published  \\\n",
       "0  CVE-2019-3572  2019-01-02T15:29:00.330   \n",
       "\n",
       "                                             url  \\\n",
       "0  https://github.com/libming/libming/issues/169   \n",
       "\n",
       "                              tags      domain  __index_level_0__  \\\n",
       "0  [Exploit, Third Party Advisory]  github.com                 82   \n",
       "\n",
       "           owner_repo                                               body  \\\n",
       "0  (libming, libming)  I found a a heap-buffer-overflow problem in fu...   \n",
       "\n",
       "                                               title  \\\n",
       "0  a heap-buffer-overflow problem in function wri...   \n",
       "\n",
       "                                        comments_url  comments_count  \\\n",
       "0  https://api.github.com/repos/libming/libming/i...               1   \n",
       "\n",
       "             created_at            updated_at  \\\n",
       "0  2018-12-28T10:35:44Z  2019-01-07T16:23:12Z   \n",
       "\n",
       "                                        html_url  github_id  number  \n",
       "0  https://github.com/libming/libming/issues/169  394605758     169  "
      ]
     },
     "execution_count": 13,
     "metadata": {},
     "output_type": "execute_result"
    }
   ],
   "source": [
    "issues_reference_df.head(1)"
   ]
  },
  {
   "cell_type": "code",
   "execution_count": 14,
   "id": "5a49b86546846384",
   "metadata": {
    "ExecuteTime": {
     "end_time": "2024-08-12T17:07:56.717512Z",
     "start_time": "2024-08-12T17:07:56.665079Z"
    }
   },
   "outputs": [
    {
     "data": {
      "text/html": [
       "<div>\n",
       "<style scoped>\n",
       "    .dataframe tbody tr th:only-of-type {\n",
       "        vertical-align: middle;\n",
       "    }\n",
       "\n",
       "    .dataframe tbody tr th {\n",
       "        vertical-align: top;\n",
       "    }\n",
       "\n",
       "    .dataframe thead th {\n",
       "        text-align: right;\n",
       "    }\n",
       "</style>\n",
       "<table border=\"1\" class=\"dataframe\">\n",
       "  <thead>\n",
       "    <tr style=\"text-align: right;\">\n",
       "      <th></th>\n",
       "      <th>id</th>\n",
       "      <th>published_x</th>\n",
       "      <th>descriptions</th>\n",
       "      <th>metrics</th>\n",
       "      <th>weaknesses</th>\n",
       "      <th>references</th>\n",
       "      <th>configurations</th>\n",
       "      <th>cwe_list</th>\n",
       "      <th>primary_cwe</th>\n",
       "      <th>url</th>\n",
       "      <th>...</th>\n",
       "      <th>owner_repo</th>\n",
       "      <th>body</th>\n",
       "      <th>title</th>\n",
       "      <th>comments_url</th>\n",
       "      <th>comments_count</th>\n",
       "      <th>created_at</th>\n",
       "      <th>updated_at</th>\n",
       "      <th>html_url</th>\n",
       "      <th>github_id</th>\n",
       "      <th>number</th>\n",
       "    </tr>\n",
       "  </thead>\n",
       "  <tbody>\n",
       "    <tr>\n",
       "      <th>0</th>\n",
       "      <td>CVE-2019-3572</td>\n",
       "      <td>2019-01-02T15:29:00.330</td>\n",
       "      <td>An issue was discovered in libming 0.4.8. Ther...</td>\n",
       "      <td>{'cvssMetricV2': [{'acInsufInfo': False, 'base...</td>\n",
       "      <td>[{'description': [{'lang': 'en', 'value': 'CWE...</td>\n",
       "      <td>[{'source': 'cve@mitre.org', 'tags': ['Exploit...</td>\n",
       "      <td>[{'nodes': [{'cpeMatch': array([{'criteria': '...</td>\n",
       "      <td>[125, 787]</td>\n",
       "      <td>None</td>\n",
       "      <td>https://github.com/libming/libming/issues/169</td>\n",
       "      <td>...</td>\n",
       "      <td>(libming, libming)</td>\n",
       "      <td>I found a a heap-buffer-overflow problem in fu...</td>\n",
       "      <td>a heap-buffer-overflow problem in function wri...</td>\n",
       "      <td>https://api.github.com/repos/libming/libming/i...</td>\n",
       "      <td>1</td>\n",
       "      <td>2018-12-28T10:35:44Z</td>\n",
       "      <td>2019-01-07T16:23:12Z</td>\n",
       "      <td>https://github.com/libming/libming/issues/169</td>\n",
       "      <td>394605758</td>\n",
       "      <td>169</td>\n",
       "    </tr>\n",
       "    <tr>\n",
       "      <th>1</th>\n",
       "      <td>CVE-2018-20659</td>\n",
       "      <td>2019-01-02T17:29:00.220</td>\n",
       "      <td>An issue was discovered in Bento4 1.5.1-627. T...</td>\n",
       "      <td>{'cvssMetricV2': [{'acInsufInfo': False, 'base...</td>\n",
       "      <td>[{'description': [{'lang': 'en', 'value': 'CWE...</td>\n",
       "      <td>[{'source': 'cve@mitre.org', 'tags': ['Exploit...</td>\n",
       "      <td>[{'nodes': [{'cpeMatch': array([{'criteria': '...</td>\n",
       "      <td>[770]</td>\n",
       "      <td>770</td>\n",
       "      <td>https://github.com/axiomatic-systems/Bento4/is...</td>\n",
       "      <td>...</td>\n",
       "      <td>(axiomatic-systems, Bento4)</td>\n",
       "      <td>A crafted input will lead to Memory allocation...</td>\n",
       "      <td>Allocate for large amounts of memory failed in...</td>\n",
       "      <td>https://api.github.com/repos/axiomatic-systems...</td>\n",
       "      <td>2</td>\n",
       "      <td>2018-12-31T15:52:26Z</td>\n",
       "      <td>2019-01-12T21:14:48Z</td>\n",
       "      <td>https://github.com/axiomatic-systems/Bento4/is...</td>\n",
       "      <td>394998583</td>\n",
       "      <td>350</td>\n",
       "    </tr>\n",
       "    <tr>\n",
       "      <th>2</th>\n",
       "      <td>CVE-2019-6132</td>\n",
       "      <td>2019-01-11T05:29:01.763</td>\n",
       "      <td>An issue was discovered in Bento4 v1.5.1-627. ...</td>\n",
       "      <td>{'cvssMetricV2': [{'acInsufInfo': False, 'base...</td>\n",
       "      <td>[{'description': [{'lang': 'en', 'value': 'CWE...</td>\n",
       "      <td>[{'source': 'cve@mitre.org', 'tags': ['Exploit...</td>\n",
       "      <td>[{'nodes': [{'cpeMatch': array([{'criteria': '...</td>\n",
       "      <td>[401]</td>\n",
       "      <td>401</td>\n",
       "      <td>https://github.com/axiomatic-systems/Bento4/is...</td>\n",
       "      <td>...</td>\n",
       "      <td>(axiomatic-systems, Bento4)</td>\n",
       "      <td>there is memory leaks in Ap4String.cpp\\r\\n\\r\\n...</td>\n",
       "      <td>memory leaks in Ap4String.cpp</td>\n",
       "      <td>https://api.github.com/repos/axiomatic-systems...</td>\n",
       "      <td>1</td>\n",
       "      <td>2019-01-10T17:00:31Z</td>\n",
       "      <td>2019-01-12T09:36:13Z</td>\n",
       "      <td>https://github.com/axiomatic-systems/Bento4/is...</td>\n",
       "      <td>397925621</td>\n",
       "      <td>357</td>\n",
       "    </tr>\n",
       "    <tr>\n",
       "      <th>3</th>\n",
       "      <td>CVE-2019-6966</td>\n",
       "      <td>2019-01-25T23:29:00.237</td>\n",
       "      <td>An issue was discovered in Bento4 1.5.1-628. T...</td>\n",
       "      <td>{'cvssMetricV2': [{'acInsufInfo': False, 'base...</td>\n",
       "      <td>[{'description': [{'lang': 'en', 'value': 'CWE...</td>\n",
       "      <td>[{'source': 'cve@mitre.org', 'tags': ['Exploit...</td>\n",
       "      <td>[{'nodes': [{'cpeMatch': array([{'criteria': '...</td>\n",
       "      <td>[770]</td>\n",
       "      <td>770</td>\n",
       "      <td>https://github.com/axiomatic-systems/Bento4/is...</td>\n",
       "      <td>...</td>\n",
       "      <td>(axiomatic-systems, Bento4)</td>\n",
       "      <td>A crafted input will lead to  failed  allocate...</td>\n",
       "      <td>failed to allocate LargeMmapAllocator in Ap4A...</td>\n",
       "      <td>https://api.github.com/repos/axiomatic-systems...</td>\n",
       "      <td>1</td>\n",
       "      <td>2019-01-25T07:49:22Z</td>\n",
       "      <td>2019-12-26T14:50:59Z</td>\n",
       "      <td>https://github.com/axiomatic-systems/Bento4/is...</td>\n",
       "      <td>403042062</td>\n",
       "      <td>361</td>\n",
       "    </tr>\n",
       "    <tr>\n",
       "      <th>4</th>\n",
       "      <td>CVE-2019-7395</td>\n",
       "      <td>2019-02-05T00:29:00.400</td>\n",
       "      <td>In ImageMagick before 7.0.8-25, a memory leak ...</td>\n",
       "      <td>{'cvssMetricV2': [{'acInsufInfo': False, 'base...</td>\n",
       "      <td>[{'description': [{'lang': 'en', 'value': 'CWE...</td>\n",
       "      <td>[{'source': 'cve@mitre.org', 'tags': ['Broken ...</td>\n",
       "      <td>[{'nodes': [{'cpeMatch': array([{'criteria': '...</td>\n",
       "      <td>[401]</td>\n",
       "      <td>401</td>\n",
       "      <td>https://github.com/ImageMagick/ImageMagick/iss...</td>\n",
       "      <td>...</td>\n",
       "      <td>(ImageMagick, ImageMagick)</td>\n",
       "      <td>### Prerequisites\\r\\n\\r\\n- [x] I have written ...</td>\n",
       "      <td>memory leak in WritePSDChannel in coders/psd.c</td>\n",
       "      <td>https://api.github.com/repos/ImageMagick/Image...</td>\n",
       "      <td>2</td>\n",
       "      <td>2019-01-17T03:11:55Z</td>\n",
       "      <td>2019-02-12T01:45:47Z</td>\n",
       "      <td>https://github.com/ImageMagick/ImageMagick/iss...</td>\n",
       "      <td>400092278</td>\n",
       "      <td>1451</td>\n",
       "    </tr>\n",
       "  </tbody>\n",
       "</table>\n",
       "<p>5 rows × 23 columns</p>\n",
       "</div>"
      ],
      "text/plain": [
       "               id              published_x  \\\n",
       "0   CVE-2019-3572  2019-01-02T15:29:00.330   \n",
       "1  CVE-2018-20659  2019-01-02T17:29:00.220   \n",
       "2   CVE-2019-6132  2019-01-11T05:29:01.763   \n",
       "3   CVE-2019-6966  2019-01-25T23:29:00.237   \n",
       "4   CVE-2019-7395  2019-02-05T00:29:00.400   \n",
       "\n",
       "                                        descriptions  \\\n",
       "0  An issue was discovered in libming 0.4.8. Ther...   \n",
       "1  An issue was discovered in Bento4 1.5.1-627. T...   \n",
       "2  An issue was discovered in Bento4 v1.5.1-627. ...   \n",
       "3  An issue was discovered in Bento4 1.5.1-628. T...   \n",
       "4  In ImageMagick before 7.0.8-25, a memory leak ...   \n",
       "\n",
       "                                             metrics  \\\n",
       "0  {'cvssMetricV2': [{'acInsufInfo': False, 'base...   \n",
       "1  {'cvssMetricV2': [{'acInsufInfo': False, 'base...   \n",
       "2  {'cvssMetricV2': [{'acInsufInfo': False, 'base...   \n",
       "3  {'cvssMetricV2': [{'acInsufInfo': False, 'base...   \n",
       "4  {'cvssMetricV2': [{'acInsufInfo': False, 'base...   \n",
       "\n",
       "                                          weaknesses  \\\n",
       "0  [{'description': [{'lang': 'en', 'value': 'CWE...   \n",
       "1  [{'description': [{'lang': 'en', 'value': 'CWE...   \n",
       "2  [{'description': [{'lang': 'en', 'value': 'CWE...   \n",
       "3  [{'description': [{'lang': 'en', 'value': 'CWE...   \n",
       "4  [{'description': [{'lang': 'en', 'value': 'CWE...   \n",
       "\n",
       "                                          references  \\\n",
       "0  [{'source': 'cve@mitre.org', 'tags': ['Exploit...   \n",
       "1  [{'source': 'cve@mitre.org', 'tags': ['Exploit...   \n",
       "2  [{'source': 'cve@mitre.org', 'tags': ['Exploit...   \n",
       "3  [{'source': 'cve@mitre.org', 'tags': ['Exploit...   \n",
       "4  [{'source': 'cve@mitre.org', 'tags': ['Broken ...   \n",
       "\n",
       "                                      configurations    cwe_list primary_cwe  \\\n",
       "0  [{'nodes': [{'cpeMatch': array([{'criteria': '...  [125, 787]        None   \n",
       "1  [{'nodes': [{'cpeMatch': array([{'criteria': '...       [770]         770   \n",
       "2  [{'nodes': [{'cpeMatch': array([{'criteria': '...       [401]         401   \n",
       "3  [{'nodes': [{'cpeMatch': array([{'criteria': '...       [770]         770   \n",
       "4  [{'nodes': [{'cpeMatch': array([{'criteria': '...       [401]         401   \n",
       "\n",
       "                                                 url  ...  \\\n",
       "0      https://github.com/libming/libming/issues/169  ...   \n",
       "1  https://github.com/axiomatic-systems/Bento4/is...  ...   \n",
       "2  https://github.com/axiomatic-systems/Bento4/is...  ...   \n",
       "3  https://github.com/axiomatic-systems/Bento4/is...  ...   \n",
       "4  https://github.com/ImageMagick/ImageMagick/iss...  ...   \n",
       "\n",
       "                    owner_repo  \\\n",
       "0           (libming, libming)   \n",
       "1  (axiomatic-systems, Bento4)   \n",
       "2  (axiomatic-systems, Bento4)   \n",
       "3  (axiomatic-systems, Bento4)   \n",
       "4   (ImageMagick, ImageMagick)   \n",
       "\n",
       "                                                body  \\\n",
       "0  I found a a heap-buffer-overflow problem in fu...   \n",
       "1  A crafted input will lead to Memory allocation...   \n",
       "2  there is memory leaks in Ap4String.cpp\\r\\n\\r\\n...   \n",
       "3  A crafted input will lead to  failed  allocate...   \n",
       "4  ### Prerequisites\\r\\n\\r\\n- [x] I have written ...   \n",
       "\n",
       "                                               title  \\\n",
       "0  a heap-buffer-overflow problem in function wri...   \n",
       "1  Allocate for large amounts of memory failed in...   \n",
       "2                      memory leaks in Ap4String.cpp   \n",
       "3   failed to allocate LargeMmapAllocator in Ap4A...   \n",
       "4     memory leak in WritePSDChannel in coders/psd.c   \n",
       "\n",
       "                                        comments_url comments_count  \\\n",
       "0  https://api.github.com/repos/libming/libming/i...              1   \n",
       "1  https://api.github.com/repos/axiomatic-systems...              2   \n",
       "2  https://api.github.com/repos/axiomatic-systems...              1   \n",
       "3  https://api.github.com/repos/axiomatic-systems...              1   \n",
       "4  https://api.github.com/repos/ImageMagick/Image...              2   \n",
       "\n",
       "             created_at            updated_at  \\\n",
       "0  2018-12-28T10:35:44Z  2019-01-07T16:23:12Z   \n",
       "1  2018-12-31T15:52:26Z  2019-01-12T21:14:48Z   \n",
       "2  2019-01-10T17:00:31Z  2019-01-12T09:36:13Z   \n",
       "3  2019-01-25T07:49:22Z  2019-12-26T14:50:59Z   \n",
       "4  2019-01-17T03:11:55Z  2019-02-12T01:45:47Z   \n",
       "\n",
       "                                            html_url  github_id number  \n",
       "0      https://github.com/libming/libming/issues/169  394605758    169  \n",
       "1  https://github.com/axiomatic-systems/Bento4/is...  394998583    350  \n",
       "2  https://github.com/axiomatic-systems/Bento4/is...  397925621    357  \n",
       "3  https://github.com/axiomatic-systems/Bento4/is...  403042062    361  \n",
       "4  https://github.com/ImageMagick/ImageMagick/iss...  400092278   1451  \n",
       "\n",
       "[5 rows x 23 columns]"
      ]
     },
     "metadata": {},
     "output_type": "display_data"
    },
    {
     "name": "stdout",
     "output_type": "stream",
     "text": [
      "non filtered issue count\t 1347\n",
      "filtered issue count:\t 1261\n",
      "non na issue count:\t 1250\n",
      "percentage of filtered:\t 0.9912767644726408\n",
      "percentage of non filtered:\t 0.9279881217520416\n"
     ]
    }
   ],
   "source": [
    "non_filtered_count = len(issues_reference_df)\n",
    "total_df = pd.merge(vulnerabilities_df, issues_reference_df, on='id')\n",
    "total_df = total_df.drop('published_y', axis=1)\n",
    "display(total_df.head(5))\n",
    "non_na_count = len(total_df.dropna(subset='primary_cwe'))\n",
    "print('non filtered issue count\\t', non_filtered_count)\n",
    "print('filtered issue count:\\t', len(total_df))\n",
    "print('non na issue count:\\t', non_na_count)\n",
    "print('percentage of filtered:\\t', non_na_count / len(total_df))\n",
    "print('percentage of non filtered:\\t', non_na_count / non_filtered_count)"
   ]
  },
  {
   "cell_type": "code",
   "execution_count": 17,
   "id": "d594846b",
   "metadata": {},
   "outputs": [
    {
     "data": {
      "text/plain": [
       "Index(['id', 'published_x', 'descriptions', 'metrics', 'weaknesses',\n",
       "       'references', 'configurations', 'cwe_list', 'primary_cwe', 'url',\n",
       "       'tags', 'domain', 'owner_repo', 'body', 'title', 'comments_url',\n",
       "       'comments_count', 'created_at', 'updated_at', 'html_url', 'github_id',\n",
       "       'number'],\n",
       "      dtype='object')"
      ]
     },
     "execution_count": 17,
     "metadata": {},
     "output_type": "execute_result"
    }
   ],
   "source": [
    "total_df.columns"
   ]
  },
  {
   "cell_type": "code",
   "execution_count": 16,
   "id": "ed0762662077a523",
   "metadata": {
    "ExecuteTime": {
     "end_time": "2024-08-12T17:07:57.129124Z",
     "start_time": "2024-08-12T17:07:57.122Z"
    }
   },
   "outputs": [
    {
     "data": {
      "text/plain": [
       "Index(['id', 'published_x', 'descriptions', 'metrics', 'weaknesses',\n",
       "       'references', 'configurations', 'cwe_list', 'primary_cwe', 'url',\n",
       "       'tags', 'domain', 'owner_repo', 'body', 'title', 'comments_url',\n",
       "       'comments_count', 'created_at', 'updated_at', 'html_url', 'github_id',\n",
       "       'number'],\n",
       "      dtype='object')"
      ]
     },
     "execution_count": 16,
     "metadata": {},
     "output_type": "execute_result"
    }
   ],
   "source": [
    "total_df = total_df.drop(columns=['__index_level_0__'])\n",
    "total_df.columns"
   ]
  },
  {
   "cell_type": "code",
   "execution_count": 18,
   "id": "88e6b66b",
   "metadata": {},
   "outputs": [],
   "source": [
    "total_df = total_df.drop(columns=['weaknesses', ])"
   ]
  },
  {
   "cell_type": "code",
   "execution_count": 19,
   "id": "1763da199dddc20",
   "metadata": {
    "ExecuteTime": {
     "end_time": "2024-08-12T17:08:03.048447Z",
     "start_time": "2024-08-12T17:08:03.025553Z"
    }
   },
   "outputs": [
    {
     "data": {
      "text/html": [
       "<div>\n",
       "<style scoped>\n",
       "    .dataframe tbody tr th:only-of-type {\n",
       "        vertical-align: middle;\n",
       "    }\n",
       "\n",
       "    .dataframe tbody tr th {\n",
       "        vertical-align: top;\n",
       "    }\n",
       "\n",
       "    .dataframe thead th {\n",
       "        text-align: right;\n",
       "    }\n",
       "</style>\n",
       "<table border=\"1\" class=\"dataframe\">\n",
       "  <thead>\n",
       "    <tr style=\"text-align: right;\">\n",
       "      <th></th>\n",
       "      <th>cve_id</th>\n",
       "      <th>cve_published</th>\n",
       "      <th>cve_descriptions</th>\n",
       "      <th>cve_metrics</th>\n",
       "      <th>cve_references</th>\n",
       "      <th>cve_configurations</th>\n",
       "      <th>cve_cwe_list</th>\n",
       "      <th>cve_primary_cwe</th>\n",
       "      <th>url</th>\n",
       "      <th>cve_tags</th>\n",
       "      <th>...</th>\n",
       "      <th>issue_owner_repo</th>\n",
       "      <th>issue_body</th>\n",
       "      <th>issue_title</th>\n",
       "      <th>issue_comments_url</th>\n",
       "      <th>issue_comments_count</th>\n",
       "      <th>issue_created_at</th>\n",
       "      <th>issue_updated_at</th>\n",
       "      <th>issue_html_url</th>\n",
       "      <th>issue_github_id</th>\n",
       "      <th>issue_number</th>\n",
       "    </tr>\n",
       "  </thead>\n",
       "  <tbody>\n",
       "    <tr>\n",
       "      <th>854</th>\n",
       "      <td>CVE-2023-33797</td>\n",
       "      <td>2023-05-24T20:15:10.893</td>\n",
       "      <td>A stored cross-site scripting (XSS) vulnerabil...</td>\n",
       "      <td>{'cvssMetricV2': None, 'cvssMetricV30': None, ...</td>\n",
       "      <td>[{'source': 'cve@mitre.org', 'tags': ['Exploit...</td>\n",
       "      <td>[{'nodes': [{'cpeMatch': array([{'criteria': '...</td>\n",
       "      <td>[79]</td>\n",
       "      <td>79</td>\n",
       "      <td>https://github.com/anhdq201/netbox/issues/12</td>\n",
       "      <td>[Exploit, Issue Tracking]</td>\n",
       "      <td>...</td>\n",
       "      <td>(anhdq201, netbox)</td>\n",
       "      <td># Version: 3.5.1\\r\\n\\r\\n# Description\\r\\nAn au...</td>\n",
       "      <td>Stored Cross Site Scripting Vulnerability in \"...</td>\n",
       "      <td>https://api.github.com/repos/anhdq201/netbox/i...</td>\n",
       "      <td>0</td>\n",
       "      <td>2023-05-18T16:34:34Z</td>\n",
       "      <td>2023-05-18T16:34:34Z</td>\n",
       "      <td>https://github.com/anhdq201/netbox/issues/12</td>\n",
       "      <td>1715930151</td>\n",
       "      <td>12</td>\n",
       "    </tr>\n",
       "  </tbody>\n",
       "</table>\n",
       "<p>1 rows × 21 columns</p>\n",
       "</div>"
      ],
      "text/plain": [
       "             cve_id            cve_published  \\\n",
       "854  CVE-2023-33797  2023-05-24T20:15:10.893   \n",
       "\n",
       "                                      cve_descriptions  \\\n",
       "854  A stored cross-site scripting (XSS) vulnerabil...   \n",
       "\n",
       "                                           cve_metrics  \\\n",
       "854  {'cvssMetricV2': None, 'cvssMetricV30': None, ...   \n",
       "\n",
       "                                        cve_references  \\\n",
       "854  [{'source': 'cve@mitre.org', 'tags': ['Exploit...   \n",
       "\n",
       "                                    cve_configurations cve_cwe_list  \\\n",
       "854  [{'nodes': [{'cpeMatch': array([{'criteria': '...         [79]   \n",
       "\n",
       "    cve_primary_cwe                                           url  \\\n",
       "854              79  https://github.com/anhdq201/netbox/issues/12   \n",
       "\n",
       "                      cve_tags  ...    issue_owner_repo  \\\n",
       "854  [Exploit, Issue Tracking]  ...  (anhdq201, netbox)   \n",
       "\n",
       "                                            issue_body  \\\n",
       "854  # Version: 3.5.1\\r\\n\\r\\n# Description\\r\\nAn au...   \n",
       "\n",
       "                                           issue_title  \\\n",
       "854  Stored Cross Site Scripting Vulnerability in \"...   \n",
       "\n",
       "                                    issue_comments_url issue_comments_count  \\\n",
       "854  https://api.github.com/repos/anhdq201/netbox/i...                    0   \n",
       "\n",
       "         issue_created_at      issue_updated_at  \\\n",
       "854  2023-05-18T16:34:34Z  2023-05-18T16:34:34Z   \n",
       "\n",
       "                                   issue_html_url issue_github_id  \\\n",
       "854  https://github.com/anhdq201/netbox/issues/12      1715930151   \n",
       "\n",
       "     issue_number  \n",
       "854            12  \n",
       "\n",
       "[1 rows x 21 columns]"
      ]
     },
     "metadata": {},
     "output_type": "display_data"
    },
    {
     "data": {
      "text/plain": [
       "1261"
      ]
     },
     "execution_count": 19,
     "metadata": {},
     "output_type": "execute_result"
    }
   ],
   "source": [
    "d = {\n",
    "    'id': 'cve_id',\n",
    "    'published_x': 'cve_published',\n",
    "    'descriptions': 'cve_descriptions',\n",
    "    'metrics': 'cve_metrics',\n",
    "    'references': 'cve_references',\n",
    "    'configurations': 'cve_configurations',\n",
    "    'cwe_list': 'cve_cwe_list',\n",
    "    'primary_cwe': 'cve_primary_cwe',\n",
    "    'tags': 'cve_tags',\n",
    "    'owner_repo': 'issue_owner_repo',\n",
    "    'body': 'issue_body',\n",
    "    'title': 'issue_title',\n",
    "    'comments_url': 'issue_comments_url',\n",
    "    'comments_count': 'issue_comments_count',\n",
    "    'created_at': 'issue_created_at',\n",
    "    'updated_at': 'issue_updated_at',\n",
    "    'html_url': 'issue_html_url',\n",
    "    'github_id': 'issue_github_id',\n",
    "    'number': 'issue_number'\n",
    "}\n",
    "total_df =total_df.rename(columns=d)\n",
    "display(total_df.sample(1))\n",
    "len(total_df)"
   ]
  },
  {
   "cell_type": "code",
   "execution_count": 26,
   "id": "ca42e66d",
   "metadata": {},
   "outputs": [
    {
     "data": {
      "text/plain": [
       "Index(['cve_id', 'cve_published', 'cve_descriptions', 'cve_metrics',\n",
       "       'cve_references', 'cve_configurations', 'cve_cwe_list',\n",
       "       'cve_primary_cwe', 'url', 'cve_tags', 'domain', 'issue_owner_repo',\n",
       "       'issue_body', 'issue_title', 'issue_comments_url',\n",
       "       'issue_comments_count', 'issue_created_at', 'issue_updated_at',\n",
       "       'issue_html_url', 'issue_github_id', 'issue_number'],\n",
       "      dtype='object')"
      ]
     },
     "metadata": {},
     "output_type": "display_data"
    },
    {
     "data": {
      "text/plain": [
       "1250"
      ]
     },
     "execution_count": 26,
     "metadata": {},
     "output_type": "execute_result"
    }
   ],
   "source": [
    "total_df = total_df.dropna(subset='cve_primary_cwe')\n",
    "display(total_df.columns)\n",
    "len(total_df)"
   ]
  },
  {
   "cell_type": "code",
   "execution_count": 31,
   "id": "eae40da6533ea2da",
   "metadata": {
    "ExecuteTime": {
     "end_time": "2024-08-12T17:08:30.221902Z",
     "start_time": "2024-08-12T17:08:25.566652Z"
    }
   },
   "outputs": [
    {
     "name": "stderr",
     "output_type": "stream",
     "text": [
      "Creating parquet from Arrow format: 100%|██████████| 2/2 [00:00<00:00, 104.89ba/s]\n",
      "Uploading the dataset shards: 100%|██████████| 1/1 [00:01<00:00,  1.51s/it]\n"
     ]
    },
    {
     "data": {
      "text/plain": [
       "CommitInfo(commit_url='https://huggingface.co/datasets/Eathus/github-issues-references/commit/097815ab096e6fe3d5c5c9b4e19477035fd7ab98', commit_message='Upload dataset', commit_description='', oid='097815ab096e6fe3d5c5c9b4e19477035fd7ab98', pr_url=None, repo_url=RepoUrl('https://huggingface.co/datasets/Eathus/github-issues-references', endpoint='https://huggingface.co', repo_type='dataset', repo_id='Eathus/github-issues-references'), pr_revision=None, pr_num=None)"
      ]
     },
     "execution_count": 31,
     "metadata": {},
     "output_type": "execute_result"
    }
   ],
   "source": [
    "import datasets\n",
    "\n",
    "dataset = datasets.Dataset.from_pandas(total_df)\n",
    "dataset = ds.remove_columns(['__index_level_0__'])\n",
    "dataset.push_to_hub(\"Eathus/github-issues-references\")"
   ]
  },
  {
   "cell_type": "markdown",
   "id": "c62d05bc4f3d006d",
   "metadata": {},
   "source": [
    "## All issues of top 50 repos (negative + positive dataset)"
   ]
  },
  {
   "cell_type": "code",
   "execution_count": 32,
   "id": "d25989753ef31539",
   "metadata": {
    "ExecuteTime": {
     "end_time": "2024-08-12T17:08:30.237081Z",
     "start_time": "2024-08-12T17:08:30.227813Z"
    }
   },
   "outputs": [],
   "source": [
    "import requests\n",
    "import os\n",
    "\n",
    "counter = 0\n",
    "USER_MAIN = os.getenv(\"GITHUB_USER_MAIN\")\n",
    "USER_PRIV = os.getenv(\"GITHUB_USER_PRIV\")\n",
    "USER_SCHOOL = os.getenv(\"GITHUB_USER_SCHOOL\")\n",
    "\n",
    "API_KEY_MAIN = os.getenv(\"GITHUB_API_KEY_MAIN\")\n",
    "API_KEY_PRIV = os.getenv(\"GITHUB_API_KEY_PRIV\")\n",
    "API_KEY_SCHOOL = os.getenv(\"GITHUB_API_KEY_SCHOOL\")\n",
    "counter = 0\n",
    "dict_auth = [\n",
    "    {\n",
    "        'user': USER_MAIN,\n",
    "        'secret': API_KEY_MAIN\n",
    "\n",
    "    },\n",
    "    {\n",
    "        'user': USER_PRIV,\n",
    "        'secret': API_KEY_PRIV\n",
    "    },\n",
    "    {\n",
    "        'user': USER_SCHOOL,\n",
    "        'secret': API_KEY_SCHOOL\n",
    "    }\n",
    "]\n",
    "    \n",
    "def get_issues(username, repo):\n",
    "    \n",
    "    \n",
    "    tmpl = \"https://api.github.com/repos/{username}/{repo}/issues?state=all&page=1&per_page=100\"\n",
    "    url = tmpl.format(username=username, repo=repo)\n",
    "    return _getter(url)\n",
    "\n",
    "\n",
    "def _getter(url):\n",
    "    global  counter\n",
    "\n",
    "    counter += 1\n",
    "    link = dict(next=url)\n",
    "    while 'next' in link:\n",
    "        auth = (dict_auth[counter%3]['user'], dict_auth[counter%3]['secret'])\n",
    "        response = requests.get(link['next'], auth=auth, timeout=100)\n",
    "    \n",
    "        if response.status_code != 200:\n",
    "            print(f\"Error for URL: {url}\")\n",
    "            print(f\"Status Code: {response.status_code}\")\n",
    "            print(f\"Response: {response.json()}\")\n",
    "            return  # Skip this URL\n",
    "    \n",
    "        '''\n",
    "        if response.status_code != 200:\n",
    "            raise IOError(\n",
    "                \"Non-200 status code %r; %r; %r\" % (\n",
    "                    response.status_code, url, response.json()))\n",
    "        '''\n",
    "        for result in response.json():\n",
    "            yield result\n",
    "    \n",
    "        link = _link_field_to_dict(response.headers.get('link', None))\n",
    "\n",
    "def _link_field_to_dict(field):\n",
    "\n",
    "    if not field:\n",
    "        return dict()\n",
    "\n",
    "    return dict([\n",
    "        (\n",
    "            part.split('; ')[1][5:-1],\n",
    "            part.split('; ')[0][1:-1],\n",
    "        ) for part in field.split(', ')\n",
    "    ])\n"
   ]
  },
  {
   "cell_type": "code",
   "execution_count": 36,
   "id": "2761a846eb68bdc0",
   "metadata": {},
   "outputs": [
    {
     "name": "stdout",
     "output_type": "stream",
     "text": [
      "Data loaded successfully:\n"
     ]
    },
    {
     "name": "stderr",
     "output_type": "stream",
     "text": [
      "130167it [18:06, 119.86it/s]\n",
      "2548it [00:19, 132.26it/s]\n"
     ]
    }
   ],
   "source": [
    "from time import sleep\n",
    "import pickle\n",
    "repos_lists = []\n",
    "\n",
    "file_path = \"tmp/neg_issues.pkl\"\n",
    "if os.path.exists(file_path):\n",
    "    try:\n",
    "        # Load the object from the pickle file\n",
    "        with open(file_path, \"rb\") as file:\n",
    "            issues = pickle.load(file)\n",
    "        print(\"Data loaded successfully:\")\n",
    "    except pickle.PickleError as e:\n",
    "        print(f\"Error loading the pickle file: {e}\")\n",
    "    except Exception as e:\n",
    "        print(f\"An unexpected error occurred: {e}\")\n",
    "else:\n",
    "    print(f\"The file '{file_path}' does not exist. issues = empty dict\")\n",
    "    issues = {}\n",
    "for owner, repo in repos_set:\n",
    "    \n",
    "    if (owner, repo) in issues : \n",
    "        continue\n",
    "    repo_issues = []\n",
    "    with tqdm(get_issues(owner, repo)) as pbar:\n",
    "        for issue in pbar:\n",
    "            if \"pull_request\" not in issue.keys():\n",
    "                item = {\n",
    "                    \"issue_owner_repo\": (owner, repo),\n",
    "                    \"issue_body\": issue['body'],\n",
    "                    \"issue_title\":issue['title'],\n",
    "                    \"issue_comments_url\": issue['comments_url'],\n",
    "                    \"issue_comments_count\": issue['comments'],\n",
    "                    \"issue_created_at\": issue['created_at'],\n",
    "                    \"issue_updated_at\": issue[\"updated_at\"],\n",
    "                    \"issue_html_url\": issue[\"html_url\"],\n",
    "                    \"issue_github_id\": issue[\"id\"],\n",
    "                    \"issue_number\": issue[\"number\"],\n",
    "                }\n",
    "                repo_issues.append(item)\n",
    "    issues[(owner, repo)] = repo_issues\n",
    "    with open(file_path, \"wb\") as file:  # 'wb' mode writes in binary format\n",
    "        pickle.dump(issues, file)\n",
    "                \n",
    "                \n",
    "df = pd.DataFrame(sum(issues.values(), []))"
   ]
  },
  {
   "cell_type": "code",
   "execution_count": 43,
   "id": "3a1d9b7e8094e10",
   "metadata": {},
   "outputs": [
    {
     "data": {
      "text/plain": [
       "260782"
      ]
     },
     "metadata": {},
     "output_type": "display_data"
    },
    {
     "data": {
      "text/html": [
       "<div>\n",
       "<style scoped>\n",
       "    .dataframe tbody tr th:only-of-type {\n",
       "        vertical-align: middle;\n",
       "    }\n",
       "\n",
       "    .dataframe tbody tr th {\n",
       "        vertical-align: top;\n",
       "    }\n",
       "\n",
       "    .dataframe thead th {\n",
       "        text-align: right;\n",
       "    }\n",
       "</style>\n",
       "<table border=\"1\" class=\"dataframe\">\n",
       "  <thead>\n",
       "    <tr style=\"text-align: right;\">\n",
       "      <th></th>\n",
       "      <th>issue_owner_repo</th>\n",
       "      <th>issue_body</th>\n",
       "      <th>issue_title</th>\n",
       "      <th>issue_comments_url</th>\n",
       "      <th>issue_comments_count</th>\n",
       "      <th>issue_created_at</th>\n",
       "      <th>issue_updated_at</th>\n",
       "      <th>issue_html_url</th>\n",
       "      <th>issue_github_id</th>\n",
       "      <th>issue_number</th>\n",
       "    </tr>\n",
       "  </thead>\n",
       "  <tbody>\n",
       "    <tr>\n",
       "      <th>0</th>\n",
       "      <td>(HryspaHodor, CVE)</td>\n",
       "      <td># Itsourcecode Vehicle Management System Proje...</td>\n",
       "      <td>Itsourcecode Vehicle Management System Project...</td>\n",
       "      <td>https://api.github.com/repos/HryspaHodor/CVE/i...</td>\n",
       "      <td>0</td>\n",
       "      <td>2024-06-20T06:07:24Z</td>\n",
       "      <td>2024-06-20T06:07:24Z</td>\n",
       "      <td>https://github.com/HryspaHodor/CVE/issues/7</td>\n",
       "      <td>2363597038</td>\n",
       "      <td>7</td>\n",
       "    </tr>\n",
       "    <tr>\n",
       "      <th>1</th>\n",
       "      <td>(HryspaHodor, CVE)</td>\n",
       "      <td># Itsourcecode Tailoring Management System Pro...</td>\n",
       "      <td>Itsourcecode Tailoring Management System Proje...</td>\n",
       "      <td>https://api.github.com/repos/HryspaHodor/CVE/i...</td>\n",
       "      <td>0</td>\n",
       "      <td>2024-06-18T06:06:04Z</td>\n",
       "      <td>2024-06-18T06:06:05Z</td>\n",
       "      <td>https://github.com/HryspaHodor/CVE/issues/6</td>\n",
       "      <td>2358990403</td>\n",
       "      <td>6</td>\n",
       "    </tr>\n",
       "    <tr>\n",
       "      <th>2</th>\n",
       "      <td>(HryspaHodor, CVE)</td>\n",
       "      <td># Itsourcecode Vehicle Management System Proje...</td>\n",
       "      <td>Itsourcecode Vehicle Management System Project...</td>\n",
       "      <td>https://api.github.com/repos/HryspaHodor/CVE/i...</td>\n",
       "      <td>0</td>\n",
       "      <td>2024-06-18T06:01:51Z</td>\n",
       "      <td>2024-06-18T06:01:51Z</td>\n",
       "      <td>https://github.com/HryspaHodor/CVE/issues/5</td>\n",
       "      <td>2358984521</td>\n",
       "      <td>5</td>\n",
       "    </tr>\n",
       "    <tr>\n",
       "      <th>3</th>\n",
       "      <td>(HryspaHodor, CVE)</td>\n",
       "      <td># Itsourcecode \"Loan Management System Project...</td>\n",
       "      <td># Itsourcecode \"Loan Management System Project...</td>\n",
       "      <td>https://api.github.com/repos/HryspaHodor/CVE/i...</td>\n",
       "      <td>0</td>\n",
       "      <td>2024-06-18T05:57:17Z</td>\n",
       "      <td>2024-06-18T05:57:17Z</td>\n",
       "      <td>https://github.com/HryspaHodor/CVE/issues/4</td>\n",
       "      <td>2358978656</td>\n",
       "      <td>4</td>\n",
       "    </tr>\n",
       "    <tr>\n",
       "      <th>4</th>\n",
       "      <td>(HryspaHodor, CVE)</td>\n",
       "      <td># Itsourcecode \"Student Management System \" in...</td>\n",
       "      <td>Itsourcecode \"Student Management System \" in P...</td>\n",
       "      <td>https://api.github.com/repos/HryspaHodor/CVE/i...</td>\n",
       "      <td>0</td>\n",
       "      <td>2024-06-18T05:51:27Z</td>\n",
       "      <td>2024-06-18T05:51:27Z</td>\n",
       "      <td>https://github.com/HryspaHodor/CVE/issues/3</td>\n",
       "      <td>2358970853</td>\n",
       "      <td>3</td>\n",
       "    </tr>\n",
       "  </tbody>\n",
       "</table>\n",
       "</div>"
      ],
      "text/plain": [
       "     issue_owner_repo                                         issue_body  \\\n",
       "0  (HryspaHodor, CVE)  # Itsourcecode Vehicle Management System Proje...   \n",
       "1  (HryspaHodor, CVE)  # Itsourcecode Tailoring Management System Pro...   \n",
       "2  (HryspaHodor, CVE)  # Itsourcecode Vehicle Management System Proje...   \n",
       "3  (HryspaHodor, CVE)  # Itsourcecode \"Loan Management System Project...   \n",
       "4  (HryspaHodor, CVE)  # Itsourcecode \"Student Management System \" in...   \n",
       "\n",
       "                                         issue_title  \\\n",
       "0  Itsourcecode Vehicle Management System Project...   \n",
       "1  Itsourcecode Tailoring Management System Proje...   \n",
       "2  Itsourcecode Vehicle Management System Project...   \n",
       "3  # Itsourcecode \"Loan Management System Project...   \n",
       "4  Itsourcecode \"Student Management System \" in P...   \n",
       "\n",
       "                                  issue_comments_url  issue_comments_count  \\\n",
       "0  https://api.github.com/repos/HryspaHodor/CVE/i...                     0   \n",
       "1  https://api.github.com/repos/HryspaHodor/CVE/i...                     0   \n",
       "2  https://api.github.com/repos/HryspaHodor/CVE/i...                     0   \n",
       "3  https://api.github.com/repos/HryspaHodor/CVE/i...                     0   \n",
       "4  https://api.github.com/repos/HryspaHodor/CVE/i...                     0   \n",
       "\n",
       "       issue_created_at      issue_updated_at  \\\n",
       "0  2024-06-20T06:07:24Z  2024-06-20T06:07:24Z   \n",
       "1  2024-06-18T06:06:04Z  2024-06-18T06:06:05Z   \n",
       "2  2024-06-18T06:01:51Z  2024-06-18T06:01:51Z   \n",
       "3  2024-06-18T05:57:17Z  2024-06-18T05:57:17Z   \n",
       "4  2024-06-18T05:51:27Z  2024-06-18T05:51:27Z   \n",
       "\n",
       "                                issue_html_url  issue_github_id  issue_number  \n",
       "0  https://github.com/HryspaHodor/CVE/issues/7       2363597038             7  \n",
       "1  https://github.com/HryspaHodor/CVE/issues/6       2358990403             6  \n",
       "2  https://github.com/HryspaHodor/CVE/issues/5       2358984521             5  \n",
       "3  https://github.com/HryspaHodor/CVE/issues/4       2358978656             4  \n",
       "4  https://github.com/HryspaHodor/CVE/issues/3       2358970853             3  "
      ]
     },
     "metadata": {},
     "output_type": "display_data"
    }
   ],
   "source": [
    "df = pd.DataFrame(sum(issues.values(), []))\n",
    "display(len(df))\n",
    "display(df.head())"
   ]
  },
  {
   "cell_type": "code",
   "execution_count": 44,
   "id": "c88af6daf927b507",
   "metadata": {},
   "outputs": [
    {
     "name": "stderr",
     "output_type": "stream",
     "text": [
      "Creating parquet from Arrow format: 100%|██████████| 131/131 [00:00<00:00, 237.93ba/s]\n",
      "Creating parquet from Arrow format: 100%|██████████| 131/131 [00:00<00:00, 240.65ba/s]\n",
      "Uploading the dataset shards: 100%|██████████| 2/2 [00:20<00:00, 10.44s/it]\n"
     ]
    },
    {
     "data": {
      "text/plain": [
       "CommitInfo(commit_url='https://huggingface.co/datasets/Eathus/github-issues-negatives/commit/162569cb7ce0a805d0dafbc0fa81ac6bbb5e5cae', commit_message='Upload dataset', commit_description='', oid='162569cb7ce0a805d0dafbc0fa81ac6bbb5e5cae', pr_url=None, repo_url=RepoUrl('https://huggingface.co/datasets/Eathus/github-issues-negatives', endpoint='https://huggingface.co', repo_type='dataset', repo_id='Eathus/github-issues-negatives'), pr_revision=None, pr_num=None)"
      ]
     },
     "execution_count": 44,
     "metadata": {},
     "output_type": "execute_result"
    }
   ],
   "source": [
    "import datasets\n",
    "\n",
    "dataset = datasets.Dataset.from_pandas(df)\n",
    "dataset.push_to_hub(\"Eathus/github-issues-negatives\")"
   ]
  }
 ],
 "metadata": {
  "kernelspec": {
   "display_name": "mthesis_pyenv",
   "language": "python",
   "name": "python3"
  },
  "language_info": {
   "codemirror_mode": {
    "name": "ipython",
    "version": 3
   },
   "file_extension": ".py",
   "mimetype": "text/x-python",
   "name": "python",
   "nbconvert_exporter": "python",
   "pygments_lexer": "ipython3",
   "version": "3.12.3"
  }
 },
 "nbformat": 4,
 "nbformat_minor": 5
}
