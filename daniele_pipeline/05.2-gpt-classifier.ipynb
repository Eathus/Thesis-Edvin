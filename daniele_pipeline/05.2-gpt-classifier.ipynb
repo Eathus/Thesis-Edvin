{
 "cells": [
  {
   "cell_type": "markdown",
   "id": "3a51593310147e72",
   "metadata": {},
   "source": [
    "## GPT Classifier\n",
    "In this pipeline we will classify as relevant or not each element of the test-set"
   ]
  },
  {
   "cell_type": "code",
   "execution_count": null,
   "id": "d4e379537f07214e",
   "metadata": {
    "ExecuteTime": {
     "end_time": "2024-08-13T07:31:22.730070Z",
     "start_time": "2024-08-13T07:31:22.720018Z"
    }
   },
   "outputs": [],
   "source": [
    "import sys\n",
    "from pathlib import Path\n",
    "# Get parent directory (Thesis-Edvin)\n",
    "sys.path.append(str(Path.cwd().parent))"
   ]
  },
  {
   "cell_type": "code",
   "execution_count": 1,
   "id": "59170826ea95e55a",
   "metadata": {
    "ExecuteTime": {
     "end_time": "2024-08-13T07:31:28.703486Z",
     "start_time": "2024-08-13T07:31:22.774332Z"
    }
   },
   "outputs": [],
   "source": [
    "from datasets import load_dataset\n",
    "\n",
    "test = load_dataset(\"Eathus/github-issues-vul-detection\", split=\"test\")\n",
    "test_df = test.to_pandas()"
   ]
  },
  {
   "cell_type": "markdown",
   "id": "9bada38b",
   "metadata": {},
   "source": [
    "### Comparison between Eathus data and DanCip data"
   ]
  },
  {
   "cell_type": "code",
   "execution_count": null,
   "id": "64c9afdc",
   "metadata": {},
   "outputs": [],
   "source": [
    "from datasets import load_dataset\n",
    "\n",
    "test_dan = load_dataset(\"DanCip/github-issues-vul-detection\", split=\"test\")\n",
    "test_df_dan = test_dan.to_pandas()"
   ]
  },
  {
   "cell_type": "code",
   "execution_count": null,
   "id": "c48bbea0",
   "metadata": {},
   "outputs": [],
   "source": [
    "print(\"len(test_df_dan):\", len(test_df_dan))\n",
    "print(\"len(test_df):\", len(test_df))\n",
    "\n",
    "print(\"Dan posetive count:\", len(test_df_dan[test_df_dan['label']]))\n",
    "print(\"Eathus posetive count:\", len(test_df[test_df['label']]))"
   ]
  },
  {
   "cell_type": "markdown",
   "id": "9bee566ab1cd4ee7",
   "metadata": {},
   "source": [
    "## Zero-shot learning"
   ]
  },
  {
   "cell_type": "code",
   "execution_count": 2,
   "id": "f8909888383fe579",
   "metadata": {
    "ExecuteTime": {
     "end_time": "2024-08-13T07:31:28.708661Z",
     "start_time": "2024-08-13T07:31:28.704505Z"
    }
   },
   "outputs": [
    {
     "data": {
      "text/plain": [
       "np.float64(0.50932515)"
      ]
     },
     "execution_count": 2,
     "metadata": {},
     "output_type": "execute_result"
    }
   ],
   "source": [
    "# Cost only of the input\n",
    "(test_df.issue_msg_n_tokens.sum() / 1000000) * 0.15"
   ]
  },
  {
   "cell_type": "code",
   "execution_count": 2,
   "id": "f4a43606e1efdc20",
   "metadata": {
    "ExecuteTime": {
     "end_time": "2024-08-13T07:31:29.371625Z",
     "start_time": "2024-08-13T07:31:28.709554Z"
    }
   },
   "outputs": [],
   "source": [
    "import os\n",
    "from langchain_groq import ChatGroq  # Groq's LangChain integration\n",
    "from langchain_openai import ChatOpenAI\n",
    "from langchain_core.prompts import ChatPromptTemplate\n",
    "from pydantic import BaseModel, Field\n",
    "from utils import *\n",
    "\n",
    "GROQ_API_KEY = os.getenv(\"GROQ_API_KEY\")\n",
    "\n",
    "class ReplySchema(BaseModel):\n",
    "    gpt_description: str = Field(\n",
    "        description=\"Describe the vulnerability detected, if any; otherwise, write None\"\n",
    "    )\n",
    "    gpt_vulnerability: str = Field(\n",
    "        description=\"Describe the general type of vulnerability detected, if any; otherwise, write None\"\n",
    "    )\n",
    "    gpt_confidence: int = Field(\n",
    "        description=\"An integer from 1 to 5 indicating your level of confidence  (1 = very low, 2 = low, 3 = medium, 4 = high, 5 = very high).\"\n",
    "    )\n",
    "    gpt_is_relevant: bool = Field(\n",
    "        description=\"Boolean that states if there is a vulnerability\"\n",
    "    )\n",
    "\n",
    "'''\n",
    "llm = ChatGroq(\n",
    "    temperature=0.0,\n",
    "    model_name=\"llama3-70b-8192\",  # Groq's fastest Llama 3 70B endpoint\n",
    "    api_key=GROQ_API_KEY     # Replace with your Groq key\n",
    ")\n",
    "'''\n",
    "\n",
    "llm = ChatOpenAI(model=\"gpt-4o-mini\", temperature=0.0, max_tokens=15500) # maybe set max_token to 14000\n",
    "\n",
    "prompts_dict = load_prompts(os.getcwd() + \"/../utils/prompts\")\n",
    "\n",
    "prompt = ChatPromptTemplate.from_messages(\n",
    "    [(\"system\", prompts_dict[\"system_setupd_detailed_desc\"]), (\"human\", \"{msg}\")],\n",
    ")\n",
    "\n",
    "\n",
    "def parser(message: ReplySchema):\n",
    "    return message.model_dump_json()\n",
    "\n",
    "\n",
    "llm = llm.with_structured_output(ReplySchema)\n",
    "chain = prompt | llm | parser"
   ]
  },
  {
   "cell_type": "code",
   "execution_count": 2,
   "id": "d88307ff",
   "metadata": {},
   "outputs": [
    {
     "name": "stdout",
     "output_type": "stream",
     "text": [
      "['/usr/lib/python312.zip', '/usr/lib/python3.12', '/usr/lib/python3.12/lib-dynload', '', '/home/edvinn/KTH/DA231X-ex/mthesis_pyenv/lib/python3.12/site-packages', '/home/edvinn/KTH/DA231X-ex/Thesis-Edvin']\n"
     ]
    }
   ],
   "source": [
    "print(sys.path)"
   ]
  },
  {
   "cell_type": "code",
   "execution_count": 19,
   "id": "ed5ecc63",
   "metadata": {},
   "outputs": [
    {
     "name": "stdout",
     "output_type": "stream",
     "text": [
      "prompt=PromptTemplate(input_variables=['msg'], input_types={}, partial_variables={}, template='{msg}') additional_kwargs={}\n"
     ]
    }
   ],
   "source": [
    "print(prompt.messages[1])"
   ]
  },
  {
   "cell_type": "code",
   "execution_count": null,
   "id": "c9f3edab",
   "metadata": {},
   "outputs": [
    {
     "name": "stdout",
     "output_type": "stream",
     "text": [
      "Token count for prompt: 4639\n"
     ]
    }
   ],
   "source": [
    "import tiktoken\n",
    "from langchain_core.messages import HumanMessage, SystemMessage\n",
    "\n",
    "# --- Token counting function ---\n",
    "def count_tokens(messages, model_name=\"gpt-4\"):\n",
    "    enc = tiktoken.encoding_for_model(model_name)\n",
    "    total_tokens = 0\n",
    "    for msg in messages:\n",
    "        role_tokens = 4  # system/human/assistant structure adds overhead\n",
    "        total_tokens += role_tokens + len(enc.encode(msg.content))\n",
    "    total_tokens += 2  # additional overhead for the assistant priming\n",
    "    return total_tokens\n",
    "\n",
    "example_input = \"Here's a snippet of Python code to check for vulnerabilities.\"\n",
    "filled_prompt = prompt.format_messages(msg=example_input)\n",
    "# --- Count tokens in the filled prompt ---\n",
    "token_count = count_tokens(filled_prompt)\n",
    "print(f\"Token count for prompt: {token_count}\")"
   ]
  },
  {
   "cell_type": "code",
   "execution_count": 9,
   "id": "d9ec935b07f09552",
   "metadata": {
    "ExecuteTime": {
     "end_time": "2024-08-13T07:31:30.197688Z",
     "start_time": "2024-08-13T07:31:29.373217Z"
    }
   },
   "outputs": [],
   "source": [
    "example = chain.invoke('''This is a GitHub Issue\\nrepo: ZipArchive\\nowner: ZipArchive\\nTitle : Unhandled edge case in _sanitizedPath #680 \\n\\n--- start body ---\\nDescription:\\n\\nThere is an unhandeled edge case where we can crash the application when it tries to unzip a specially crafted zip file\\n\\nTechnical details:\\n\\nBelow is a code snippet from the _sanitizedPath function used to sanitize file paths coming from zip entries before extraction to prevent path traversal, the function prepends file:/// to the provided path, standardizes it using NSURL and then removes the prepended file:///, when provided with the following path however /.., the standardized path returned by NSURL becomes file://, which has 7 characters, the package however expects at least 8 characters (length of the prepended text), this results in crashing the application.\\n\\n// Add scheme \\\"file:///\\\" to support sanitation on names with a colon like \\\"file:a/../../../usr/bin\\\"\\nstrPath = [@\\\"file:///\\\" stringByAppendingString:strPath];\\n\\n// Sanitize path traversal characters to prevent directory backtracking. Ignoring these characters mimicks the default behavior of the Unarchiving tool on macOS.\\n// \\\"../../../../../../../../../../../tmp/test.txt\\\" -> \\\"tmp/test.txt\\\"\\n// \\\"a/b/../c.txt\\\" -> \\\"a/c.txt\\\"\\nstrPath = [NSURL URLWithString:strPath].standardizedURL.absoluteString;\\n\\n// Remove the \\\"file:///\\\" scheme\\nstrPath = [strPath substringFromIndex:8];\\nPoC:\\n\\nimport zipfile\\n\\ndef compress_file(filename):\\n    with zipfile.ZipFile('payload.zip', 'w') as zipf:\\n        zipf.writestr(filename, \\\"Test payload\\\")\\n\\nfilename = '/..'\\n\\ncompress_file(filename)\\n--- end body ---''')"
   ]
  },
  {
   "cell_type": "code",
   "execution_count": 10,
   "id": "8d75e215",
   "metadata": {},
   "outputs": [],
   "source": [
    "import json\n",
    "import pandas as pd\n",
    "\n",
    "examplej = json.loads(example)"
   ]
  },
  {
   "cell_type": "code",
   "execution_count": 11,
   "id": "caf7f840",
   "metadata": {},
   "outputs": [
    {
     "data": {
      "text/markdown": [
       "# Denial of Service (DoS) Vulnerability\n",
       "## Description\n",
       "A Denial of Service (DoS) vulnerability occurs when an attacker can cause a system to become unavailable to legitimate users, typically by crashing the application or exhausting resources.\n",
       "## Extended Description\n",
       "In this case, the application crashes when it encounters a specific input that the sanitization function does not handle properly. This can be exploited by an attacker to create a specially crafted zip file that, when processed, leads to application failure.\n",
       "## Demonstrative Scenario\n",
       "### Scenario\n",
       "An attacker creates a zip file containing a path that triggers the unhandled edge case in the _sanitizedPath function, causing the application to crash when it attempts to extract the contents.\n",
       "### Vulnerable Objective-C Code:\n",
       "```objective-c\n",
       "// Add scheme \"file:///\" to support sanitation on names with a colon like \"file:a/../../../usr/bin\"\n",
       "strPath = [@\"file:///\" stringByAppendingString:strPath];\n",
       "\n",
       "// Sanitize path traversal characters to prevent directory backtracking.\n",
       "strPath = [NSURL URLWithString:strPath].standardizedURL.absoluteString;\n",
       "\n",
       "// Remove the \"file:///\" scheme\n",
       "strPath = [strPath substringFromIndex:8];\n",
       "```\n",
       "### Analysis\n",
       "The vulnerability arises from the assumption that the standardized URL will always return a string of sufficient length. When the input is '/..', the resulting string is 'file://', which is only 7 characters long. The subsequent call to substringFromIndex:8 leads to an out-of-bounds error, causing the application to crash. This demonstrates a failure to validate input properly, leading to a Denial of Service condition."
      ],
      "text/plain": [
       "<IPython.core.display.Markdown object>"
      ]
     },
     "metadata": {},
     "output_type": "display_data"
    }
   ],
   "source": [
    "from IPython.display import display, Markdown, Latex\n",
    "display(Markdown(examplej['gpt_vulnerability']))"
   ]
  },
  {
   "cell_type": "code",
   "execution_count": 30,
   "id": "ecd41b14",
   "metadata": {},
   "outputs": [
    {
     "name": "stdout",
     "output_type": "stream",
     "text": [
      "INFO: Pandarallel will run on 15 workers.\n",
      "INFO: Pandarallel will use Memory file system to transfer data between the main process and workers.\n"
     ]
    }
   ],
   "source": [
    "from utils import *\n",
    "from pandarallel import pandarallel\n",
    "from tenacity import retry, stop_after_attempt, wait_exponential, retry_if_exception_type\n",
    "from openai import OpenAIError, RateLimitError  # Explicitly import errors\n",
    "\n",
    "pandarallel.initialize(progress_bar=True, nb_workers=15)\n",
    "\n",
    "@retry(\n",
    "    stop=stop_after_attempt(5),  # Retry up to 5 times\n",
    "    wait=wait_exponential(multiplier=2, min=1, max=60),  # Exponential backoff\n",
    "    retry=retry_if_exception_type(RateLimitError),  # Retry only on rate limit errors\n",
    ")\n",
    "def _gpt_classify(msg):\n",
    "    if not msg or not isinstance(msg, str):  # Check for empty/invalid messages\n",
    "        return None\n",
    "    return chain.invoke({\"msg\": msg})  # Adjusted for OpenAI API format\n",
    "\n",
    "def gpt_classify(msg):\n",
    "    try:\n",
    "        return _gpt_classify(msg)\n",
    "    except OpenAIError as e:  # Catch all OpenAI-specific errors\n",
    "        print(f\"OpenAI API error: {e}\")\n",
    "    except Exception as e:\n",
    "        print(f\"General error processing message: {e}\")\n",
    "    return None\n"
   ]
  },
  {
   "cell_type": "code",
   "execution_count": null,
   "id": "02a482f0",
   "metadata": {},
   "outputs": [
    {
     "name": "stdout",
     "output_type": "stream",
     "text": [
      "Pickle file loaded successfully!\n"
     ]
    }
   ],
   "source": [
    "import pickle\n",
    "import os\n",
    "file_path = \"tmp/gpt_response_zero_cwe_df.pkl\"\n",
    "\n",
    "# Define the path to your pickle file\n",
    "\n",
    "# Check if the file exists\n",
    "if os.path.exists(file_path):\n",
    "    with open(file_path, 'rb') as file:\n",
    "        data = pickle.load(file)\n",
    "    print(\"Pickle file loaded successfully!\")\n",
    "else:\n",
    "    print(f\"The file at {file_path} does not exist. Setting gpt_response to 'None'\")\n",
    "    test_df['gpt_response'] = None\n",
    "\n"
   ]
  },
  {
   "cell_type": "code",
   "execution_count": 1,
   "id": "e34590c1",
   "metadata": {},
   "outputs": [
    {
     "data": {
      "application/vnd.jupyter.widget-view+json": {
       "model_id": "c7b0142b49fe42fba03f81d7f0cd2cc7",
       "version_major": 2,
       "version_minor": 0
      },
      "text/plain": [
       "README.md:   0%|          | 0.00/7.31k [00:00<?, ?B/s]"
      ]
     },
     "metadata": {},
     "output_type": "display_data"
    },
    {
     "data": {
      "application/vnd.jupyter.widget-view+json": {
       "model_id": "7c686b007a2d4a3ea5b858f831a60dea",
       "version_major": 2,
       "version_minor": 0
      },
      "text/plain": [
       "test-00000-of-00001.parquet:   0%|          | 0.00/35.7M [00:00<?, ?B/s]"
      ]
     },
     "metadata": {},
     "output_type": "display_data"
    },
    {
     "data": {
      "application/vnd.jupyter.widget-view+json": {
       "model_id": "6340a44e4163459bb1a7039be8977b7b",
       "version_major": 2,
       "version_minor": 0
      },
      "text/plain": [
       "Generating test split:   0%|          | 0/1778 [00:00<?, ? examples/s]"
      ]
     },
     "metadata": {},
     "output_type": "display_data"
    }
   ],
   "source": [
    "from datasets import load_dataset\n",
    "\n",
    "test = load_dataset(\"Eathus/github-issues-vul-detection-gpt-zero-results\", split=\"test\")\n",
    "test_df = test.to_pandas()"
   ]
  },
  {
   "cell_type": "code",
   "execution_count": 5,
   "id": "b25ebb08",
   "metadata": {},
   "outputs": [],
   "source": [
    "import json\n",
    "import pandas as pd\n",
    "\n",
    "# Step 1: Combine the normalized columns back into a dictionary\n",
    "test_df['gpt_response'] = test_df.apply(\n",
    "    lambda row: json.dumps({\n",
    "        'gpt_description': row['gpt_description'],\n",
    "        'gpt_confidence': row['gpt_confidence'],\n",
    "        'gpt_is_relevant': row['gpt_is_relevant']\n",
    "    }) if pd.notna(row['gpt_description']) else None,\n",
    "    axis=1\n",
    ")\n",
    "\n",
    "# Step 2: Drop the individual normalized columns (optional)\n",
    "test_df = test_df.drop(columns=['gpt_description', 'gpt_confidence', 'gpt_is_relevant'])"
   ]
  },
  {
   "cell_type": "code",
   "execution_count": null,
   "id": "547bee16",
   "metadata": {},
   "outputs": [],
   "source": [
    "len(test_df[test_df.gpt_response.isna()])"
   ]
  },
  {
   "cell_type": "code",
   "execution_count": 32,
   "id": "8d0be477",
   "metadata": {},
   "outputs": [
    {
     "data": {
      "application/vnd.jupyter.widget-view+json": {
       "model_id": "01b2ceb17fe4423ebd422fbcf9f50b35",
       "version_major": 2,
       "version_minor": 0
      },
      "text/plain": [
       "VBox(children=(HBox(children=(IntProgress(value=0, description='0.00%', max=119), Label(value='0 / 119'))), HB…"
      ]
     },
     "metadata": {},
     "output_type": "display_data"
    },
    {
     "name": "stdout",
     "output_type": "stream",
     "text": [
      "General error processing message: RetryError[<Future at 0x7f3dfc49e8d0 state=finished raised RateLimitError>]\n",
      "OpenAI API error: Could not parse response content as the length limit was reached - CompletionUsage(completion_tokens=108, prompt_tokens=1986, total_tokens=2094, completion_tokens_details=CompletionTokensDetails(accepted_prediction_tokens=0, audio_tokens=0, reasoning_tokens=0, rejected_prediction_tokens=0), prompt_tokens_details=PromptTokensDetails(audio_tokens=0, cached_tokens=0))\n",
      "General error processing message: RetryError[<Future at 0x7f3dfc49eba0 state=finished raised RateLimitError>]\n",
      "General error processing message: RetryError[<Future at 0x7f3dfc4bfaa0 state=finished raised RateLimitError>]\n",
      "General error processing message: RetryError[<Future at 0x7f3dfdfee780 state=finished raised RateLimitError>]\n",
      "General error processing message: RetryError[<Future at 0x7f3df751ffe0 state=finished raised RateLimitError>]\n",
      "General error processing message: RetryError[<Future at 0x7f3dfc581550 state=finished raised RateLimitError>]\n",
      "General error processing message: RetryError[<Future at 0x7f3df6fcb980 state=finished raised RateLimitError>]\n",
      "General error processing message: RetryError[<Future at 0x7f3dfc5bf740 state=finished raised RateLimitError>]\n",
      "General error processing message: RetryError[<Future at 0x7f3dfc4c3ef0 state=finished raised RateLimitError>]\n",
      "General error processing message: RetryError[<Future at 0x7f3dfc4c2750 state=finished raised RateLimitError>]\n",
      "General error processing message: RetryError[<Future at 0x7f3dfc4bfb00 state=finished raised RateLimitError>]\n",
      "General error processing message: RetryError[<Future at 0x7f3dfc581c10 state=finished raised RateLimitError>]\n",
      "OpenAI API error: Could not parse response content as the length limit was reached - CompletionUsage(completion_tokens=15500, prompt_tokens=1323, total_tokens=16823, completion_tokens_details=CompletionTokensDetails(accepted_prediction_tokens=0, audio_tokens=0, reasoning_tokens=0, rejected_prediction_tokens=0), prompt_tokens_details=PromptTokensDetails(audio_tokens=0, cached_tokens=0))\n",
      "Retry 1: Processed 1778 rows\n"
     ]
    },
    {
     "data": {
      "application/vnd.jupyter.widget-view+json": {
       "model_id": "2199a543d13c486fb6540c2dc9030fdd",
       "version_major": 2,
       "version_minor": 0
      },
      "text/plain": [
       "VBox(children=(HBox(children=(IntProgress(value=0, description='0.00%', max=1), Label(value='0 / 1'))), HBox(c…"
      ]
     },
     "metadata": {},
     "output_type": "display_data"
    },
    {
     "name": "stdout",
     "output_type": "stream",
     "text": [
      "Retry 2: Processed 14 rows\n"
     ]
    }
   ],
   "source": [
    "import pickle \n",
    "import time\n",
    "\n",
    "retries = 0\n",
    "max_retries = 10\n",
    "file_path = \"tmp/gpt_response_zero_cwe_df.pkl\"\n",
    "DELAY = 60 \n",
    "#test_df['gpt_response'] = None\n",
    "while not test_df[test_df.gpt_response.isna()].empty and retries < max_retries :\n",
    "    # Get indices of rows needing processing\n",
    "    na_indices = test_df[test_df.gpt_response.isna()].index\n",
    "    \n",
    "    if len(na_indices) == 0:\n",
    "        break\n",
    "    \n",
    "    # Process ONLY those rows and assign directly to original DF\n",
    "    test_df.loc[na_indices, 'gpt_response'] = \\\n",
    "        test_df.loc[na_indices, 'issue_msg'].parallel_apply(gpt_classify)\n",
    "    \n",
    "    with open(file_path, \"wb\") as file:  # 'wb' mode writes in binary format\n",
    "        pickle.dump(test_df, file)\n",
    "    retries += 1\n",
    "    print(f\"Retry {retries}: Processed {len(na_indices)} rows\")\n",
    "    time.sleep(DELAY)"
   ]
  },
  {
   "cell_type": "code",
   "execution_count": 34,
   "id": "651c069ee29da956",
   "metadata": {
    "ExecuteTime": {
     "end_time": "2024-08-13T07:34:28.860090Z",
     "start_time": "2024-08-13T07:34:28.837645Z"
    }
   },
   "outputs": [
    {
     "name": "stdout",
     "output_type": "stream",
     "text": [
      "{\"gpt_description\":\"The issue describes a stack overflow occurring in the `GetCodecString` method of the `AP4_AvcSampleDescription` class. This is likely due to a recursive call that does not have a proper base case, leading to excessive memory consumption and eventually crashing the program. Such stack overflows can be exploited to cause denial of service or potentially execute arbitrary code if the overflow can be controlled. Therefore, this indicates a potential security vulnerability.\",\"gpt_vulnerability\":\"# Stack Overflow\\n## Description\\nA stack overflow occurs when a program uses more stack memory than is allocated, typically due to excessive recursion or deep function calls without a proper exit condition.\\n## Extended Description\\nStack overflows can lead to crashes and can be exploited in certain contexts to execute arbitrary code or cause denial of service. They often arise from programming errors such as infinite recursion or excessive memory allocation on the stack.\\n## Demonstrative Scenario\\n### Scenario\\nA function that recursively calls itself without a proper termination condition can lead to a stack overflow, causing the application to crash.\\n### Vulnerable C++ Code:\\n```cpp\\nvoid recursiveFunction() {\\n    recursiveFunction(); // No base case to stop recursion\\n}\\n```\\n### Analysis\\nIn the example, `recursiveFunction` calls itself indefinitely, leading to a stack overflow. The lack of a base case means that the function will continue to consume stack space until the program crashes. This is similar to the issue described in the GitHub issue, where the `GetCodecString` method likely calls itself recursively without a proper exit condition, leading to a stack overflow and application crash.\",\"gpt_confidence\":4,\"gpt_is_relevant\":true} {\"gpt_description\":\"The issue describes a problem with the application not starting due to a bean named 'dataSource' being registered multiple times. This indicates a configuration issue rather than a security vulnerability. The error is related to application functionality and does not expose any security risks.\",\"gpt_vulnerability\":\"None\",\"gpt_confidence\":5,\"gpt_is_relevant\":false} {\"gpt_description\":\"The issue describes a problem with installing the GPAC software due to a missing dependency on the SDL package. This is a common installation issue and does not indicate a security vulnerability. The problem lies in the software's dependency management rather than a flaw that could be exploited for malicious purposes.\",\"gpt_vulnerability\":\"None\",\"gpt_confidence\":5,\"gpt_is_relevant\":false}\n"
     ]
    },
    {
     "data": {
      "text/plain": [
       "1604    {\"gpt_description\":\"The issue discusses the pr...\n",
       "1764    {\"gpt_description\":\"The issue describes a prob...\n",
       "126     {\"gpt_description\":\"The issue describes a prob...\n",
       "Name: gpt_response, dtype: object"
      ]
     },
     "metadata": {},
     "output_type": "display_data"
    }
   ],
   "source": [
    "print(*test_df.sample(3)['gpt_response'])\n",
    "display(test_df.sample(3)['gpt_response'])"
   ]
  },
  {
   "cell_type": "code",
   "execution_count": 37,
   "id": "4343daec0ed6edd6",
   "metadata": {
    "ExecuteTime": {
     "end_time": "2024-08-13T07:34:28.868045Z",
     "start_time": "2024-08-13T07:34:28.861147Z"
    }
   },
   "outputs": [],
   "source": [
    "import json\n",
    "import pandas as pd\n",
    "\n",
    "test_df['gpt_response'] = test_df['gpt_response'].map(\n",
    "    lambda x: json.loads(x) if pd.notna(x) else None\n",
    ")"
   ]
  },
  {
   "cell_type": "code",
   "execution_count": 38,
   "id": "66a59237",
   "metadata": {},
   "outputs": [
    {
     "name": "stdout",
     "output_type": "stream",
     "text": [
      "{'gpt_description': 'The issue discusses a request to embed the `espeak-ng-data` folder within the espeak C library for use in another project. This request does not indicate any security vulnerability; rather, it is a feature request related to functionality and integration. There are no indications of security risks or vulnerabilities present in this issue.', 'gpt_vulnerability': 'None', 'gpt_confidence': 5, 'gpt_is_relevant': False} {'gpt_description': 'The issue discusses simplifying the watch cache implementation in Kubernetes by removing a redundant method and replacing it with another. It focuses on code maintenance and performance optimization rather than security. There are no indications of a security vulnerability present in this issue.', 'gpt_vulnerability': 'None', 'gpt_confidence': 5, 'gpt_is_relevant': False} {'gpt_description': 'The issue discusses a potential out-of-bounds access in the processing of WAV files due to the manipulation of `wav_factor` in the `DoSample2` function. The author raises concerns about the logic used to prevent out-of-bounds access, specifically questioning the appropriateness of subtracting 3/4 of the maximum WAV data length. This indicates a potential vulnerability related to memory access, as improper handling of array indices can lead to buffer overflows or access violations, which are common security issues.', 'gpt_vulnerability': '# Out-of-Bounds Access\\n## Description\\nOut-of-bounds access occurs when a program attempts to read or write outside the boundaries of allocated memory. This can lead to undefined behavior, crashes, or security vulnerabilities such as data corruption or arbitrary code execution.\\n## Extended Description\\nWhen a program accesses memory outside the allocated range, it can overwrite critical data or execute unintended code paths. This is particularly dangerous in languages like C or C++ where memory management is manual, and there are no built-in safeguards against such operations.\\n## Demonstrative Scenario\\n### Scenario\\nA function processes an array of data, but due to incorrect index calculations, it attempts to access an index that is beyond the allocated size of the array. This can lead to reading garbage values or writing to memory locations that the program should not access.\\n### Vulnerable C Code:\\n```c\\nint array[10];\\nint index = 15; // Incorrect index\\nint value = array[index]; // Out-of-bounds access\\n```\\n### Analysis\\nIn this scenario, the index variable is set to 15, which exceeds the bounds of the `array` that only has 10 elements. Accessing `array[15]` results in undefined behavior, which can lead to crashes or security vulnerabilities. The code does not check if the index is within the valid range, making it a classic example of an out-of-bounds access vulnerability.', 'gpt_confidence': 4, 'gpt_is_relevant': True}\n"
     ]
    },
    {
     "data": {
      "text/plain": [
       "dict"
      ]
     },
     "metadata": {},
     "output_type": "display_data"
    }
   ],
   "source": [
    "print(*test_df.sample(3)['gpt_response'])\n",
    "display(type(test_df['gpt_response'][0]))"
   ]
  },
  {
   "cell_type": "code",
   "execution_count": 39,
   "id": "35178f715636c756",
   "metadata": {
    "ExecuteTime": {
     "end_time": "2024-08-13T07:34:28.881795Z",
     "start_time": "2024-08-13T07:34:28.868885Z"
    }
   },
   "outputs": [],
   "source": [
    "import pandas as pd\n",
    "\n",
    "tmp = pd.json_normalize(test_df[\"gpt_response\"])\n",
    "test_df = pd.concat([test_df.drop(columns=[\"gpt_response\"]), tmp], axis=1)"
   ]
  },
  {
   "cell_type": "code",
   "execution_count": 43,
   "id": "3c804ba7",
   "metadata": {},
   "outputs": [
    {
     "data": {
      "text/html": [
       "<div>\n",
       "<style scoped>\n",
       "    .dataframe tbody tr th:only-of-type {\n",
       "        vertical-align: middle;\n",
       "    }\n",
       "\n",
       "    .dataframe tbody tr th {\n",
       "        vertical-align: top;\n",
       "    }\n",
       "\n",
       "    .dataframe thead th {\n",
       "        text-align: right;\n",
       "    }\n",
       "</style>\n",
       "<table border=\"1\" class=\"dataframe\">\n",
       "  <thead>\n",
       "    <tr style=\"text-align: right;\">\n",
       "      <th></th>\n",
       "      <th>cve_id</th>\n",
       "      <th>cve_published</th>\n",
       "      <th>cve_descriptions</th>\n",
       "      <th>cve_metrics</th>\n",
       "      <th>cve_references</th>\n",
       "      <th>cve_configurations</th>\n",
       "      <th>cve_primary_cwe</th>\n",
       "      <th>cve_tags</th>\n",
       "      <th>issue_owner_repo</th>\n",
       "      <th>issue_body</th>\n",
       "      <th>...</th>\n",
       "      <th>issue_number</th>\n",
       "      <th>label</th>\n",
       "      <th>issue_msg</th>\n",
       "      <th>issue_msg_n_tokens</th>\n",
       "      <th>issue_embedding</th>\n",
       "      <th>__index_level_0__</th>\n",
       "      <th>gpt_description</th>\n",
       "      <th>gpt_vulnerability</th>\n",
       "      <th>gpt_confidence</th>\n",
       "      <th>gpt_is_relevant</th>\n",
       "    </tr>\n",
       "  </thead>\n",
       "  <tbody>\n",
       "    <tr>\n",
       "      <th>0</th>\n",
       "      <td>None</td>\n",
       "      <td>None</td>\n",
       "      <td>None</td>\n",
       "      <td>None</td>\n",
       "      <td>None</td>\n",
       "      <td>None</td>\n",
       "      <td>No_CWE</td>\n",
       "      <td>None</td>\n",
       "      <td>[llvm, llvm-project]</td>\n",
       "      <td>I don't think we are using `std::memcmp` in `l...</td>\n",
       "      <td>...</td>\n",
       "      <td>129325</td>\n",
       "      <td>False</td>\n",
       "      <td>This is a GitHub Issue\\nrepo:llvm-project\\nown...</td>\n",
       "      <td>297</td>\n",
       "      <td>[0.0001077328051906079, 0.0041412957943975925,...</td>\n",
       "      <td>4464</td>\n",
       "      <td>The issue discusses the optimization of the `s...</td>\n",
       "      <td>None</td>\n",
       "      <td>5</td>\n",
       "      <td>False</td>\n",
       "    </tr>\n",
       "    <tr>\n",
       "      <th>1</th>\n",
       "      <td>None</td>\n",
       "      <td>None</td>\n",
       "      <td>None</td>\n",
       "      <td>None</td>\n",
       "      <td>None</td>\n",
       "      <td>None</td>\n",
       "      <td>No_CWE</td>\n",
       "      <td>None</td>\n",
       "      <td>[cesanta, mjs]</td>\n",
       "      <td># s2o\\r\\n## Environment\\r\\nUbuntu 22.04.3 LTS\\...</td>\n",
       "      <td>...</td>\n",
       "      <td>281</td>\n",
       "      <td>False</td>\n",
       "      <td>This is a GitHub Issue\\nrepo:mjs\\nowner:cesant...</td>\n",
       "      <td>1673</td>\n",
       "      <td>[-0.01231892965734005, -0.0185470562428236, 0....</td>\n",
       "      <td>3444</td>\n",
       "      <td>The issue describes a segmentation fault (SEGV...</td>\n",
       "      <td># Memory Corruption\\n## Description\\nMemory co...</td>\n",
       "      <td>4</td>\n",
       "      <td>True</td>\n",
       "    </tr>\n",
       "    <tr>\n",
       "      <th>2</th>\n",
       "      <td>None</td>\n",
       "      <td>None</td>\n",
       "      <td>None</td>\n",
       "      <td>None</td>\n",
       "      <td>None</td>\n",
       "      <td>None</td>\n",
       "      <td>No_CWE</td>\n",
       "      <td>None</td>\n",
       "      <td>[xuxueli, xxl-job]</td>\n",
       "      <td>1. 提供创建、修改、查询、删除任务的openapi，带页面支持签名验签\\n2. app启动...</td>\n",
       "      <td>...</td>\n",
       "      <td>3641</td>\n",
       "      <td>False</td>\n",
       "      <td>This is a GitHub Issue\\nrepo:xxl-job\\nowner:xu...</td>\n",
       "      <td>181</td>\n",
       "      <td>[0.02733539044857025, -0.015366464853286743, -...</td>\n",
       "      <td>4204</td>\n",
       "      <td>The issue describes a feature request for an O...</td>\n",
       "      <td>None</td>\n",
       "      <td>5</td>\n",
       "      <td>False</td>\n",
       "    </tr>\n",
       "    <tr>\n",
       "      <th>3</th>\n",
       "      <td>None</td>\n",
       "      <td>None</td>\n",
       "      <td>None</td>\n",
       "      <td>None</td>\n",
       "      <td>None</td>\n",
       "      <td>None</td>\n",
       "      <td>No_CWE</td>\n",
       "      <td>None</td>\n",
       "      <td>[gpac, gpac]</td>\n",
       "      <td>Excuse me, I want to ask how to call [session....</td>\n",
       "      <td>...</td>\n",
       "      <td>2241</td>\n",
       "      <td>False</td>\n",
       "      <td>This is a GitHub Issue\\nrepo:gpac\\nowner:gpac\\...</td>\n",
       "      <td>391</td>\n",
       "      <td>[-0.036246322095394135, 0.033608801662921906, ...</td>\n",
       "      <td>1513</td>\n",
       "      <td>The issue describes a user inquiry about how t...</td>\n",
       "      <td>None</td>\n",
       "      <td>5</td>\n",
       "      <td>False</td>\n",
       "    </tr>\n",
       "    <tr>\n",
       "      <th>4</th>\n",
       "      <td>CVE-2021-39528</td>\n",
       "      <td>2021-09-20T16:15:12.077</td>\n",
       "      <td>An issue was discovered in libredwg through v0...</td>\n",
       "      <td>{'cvssMetricV2': [{'acInsufInfo': False, 'base...</td>\n",
       "      <td>[{'source': 'cve@mitre.org', 'tags': ['Exploit...</td>\n",
       "      <td>[{'nodes': [{'cpeMatch': array([{'criteria': '...</td>\n",
       "      <td>415</td>\n",
       "      <td>[Exploit, Issue Tracking, Patch, Third Party A...</td>\n",
       "      <td>[LibreDWG, libredwg]</td>\n",
       "      <td>## System info\\r\\n\\r\\nUbuntu X64, gcc (Ubuntu ...</td>\n",
       "      <td>...</td>\n",
       "      <td>256</td>\n",
       "      <td>True</td>\n",
       "      <td>This is a GitHub Issue\\nrepo:libredwg\\nowner:L...</td>\n",
       "      <td>2400</td>\n",
       "      <td>[-0.03039676696062088, 0.01844700239598751, -0...</td>\n",
       "      <td>308</td>\n",
       "      <td>The issue describes a double free vulnerabilit...</td>\n",
       "      <td># Double Free Vulnerability\\n## Description\\nA...</td>\n",
       "      <td>5</td>\n",
       "      <td>True</td>\n",
       "    </tr>\n",
       "  </tbody>\n",
       "</table>\n",
       "<p>5 rows × 27 columns</p>\n",
       "</div>"
      ],
      "text/plain": [
       "           cve_id            cve_published  \\\n",
       "0            None                     None   \n",
       "1            None                     None   \n",
       "2            None                     None   \n",
       "3            None                     None   \n",
       "4  CVE-2021-39528  2021-09-20T16:15:12.077   \n",
       "\n",
       "                                    cve_descriptions  \\\n",
       "0                                               None   \n",
       "1                                               None   \n",
       "2                                               None   \n",
       "3                                               None   \n",
       "4  An issue was discovered in libredwg through v0...   \n",
       "\n",
       "                                         cve_metrics  \\\n",
       "0                                               None   \n",
       "1                                               None   \n",
       "2                                               None   \n",
       "3                                               None   \n",
       "4  {'cvssMetricV2': [{'acInsufInfo': False, 'base...   \n",
       "\n",
       "                                      cve_references  \\\n",
       "0                                               None   \n",
       "1                                               None   \n",
       "2                                               None   \n",
       "3                                               None   \n",
       "4  [{'source': 'cve@mitre.org', 'tags': ['Exploit...   \n",
       "\n",
       "                                  cve_configurations cve_primary_cwe  \\\n",
       "0                                               None          No_CWE   \n",
       "1                                               None          No_CWE   \n",
       "2                                               None          No_CWE   \n",
       "3                                               None          No_CWE   \n",
       "4  [{'nodes': [{'cpeMatch': array([{'criteria': '...             415   \n",
       "\n",
       "                                            cve_tags      issue_owner_repo  \\\n",
       "0                                               None  [llvm, llvm-project]   \n",
       "1                                               None        [cesanta, mjs]   \n",
       "2                                               None    [xuxueli, xxl-job]   \n",
       "3                                               None          [gpac, gpac]   \n",
       "4  [Exploit, Issue Tracking, Patch, Third Party A...  [LibreDWG, libredwg]   \n",
       "\n",
       "                                          issue_body  ... issue_number  label  \\\n",
       "0  I don't think we are using `std::memcmp` in `l...  ...       129325  False   \n",
       "1  # s2o\\r\\n## Environment\\r\\nUbuntu 22.04.3 LTS\\...  ...          281  False   \n",
       "2  1. 提供创建、修改、查询、删除任务的openapi，带页面支持签名验签\\n2. app启动...  ...         3641  False   \n",
       "3  Excuse me, I want to ask how to call [session....  ...         2241  False   \n",
       "4  ## System info\\r\\n\\r\\nUbuntu X64, gcc (Ubuntu ...  ...          256   True   \n",
       "\n",
       "                                           issue_msg issue_msg_n_tokens  \\\n",
       "0  This is a GitHub Issue\\nrepo:llvm-project\\nown...                297   \n",
       "1  This is a GitHub Issue\\nrepo:mjs\\nowner:cesant...               1673   \n",
       "2  This is a GitHub Issue\\nrepo:xxl-job\\nowner:xu...                181   \n",
       "3  This is a GitHub Issue\\nrepo:gpac\\nowner:gpac\\...                391   \n",
       "4  This is a GitHub Issue\\nrepo:libredwg\\nowner:L...               2400   \n",
       "\n",
       "                                     issue_embedding __index_level_0__  \\\n",
       "0  [0.0001077328051906079, 0.0041412957943975925,...              4464   \n",
       "1  [-0.01231892965734005, -0.0185470562428236, 0....              3444   \n",
       "2  [0.02733539044857025, -0.015366464853286743, -...              4204   \n",
       "3  [-0.036246322095394135, 0.033608801662921906, ...              1513   \n",
       "4  [-0.03039676696062088, 0.01844700239598751, -0...               308   \n",
       "\n",
       "                                     gpt_description  \\\n",
       "0  The issue discusses the optimization of the `s...   \n",
       "1  The issue describes a segmentation fault (SEGV...   \n",
       "2  The issue describes a feature request for an O...   \n",
       "3  The issue describes a user inquiry about how t...   \n",
       "4  The issue describes a double free vulnerabilit...   \n",
       "\n",
       "                                   gpt_vulnerability  gpt_confidence  \\\n",
       "0                                               None               5   \n",
       "1  # Memory Corruption\\n## Description\\nMemory co...               4   \n",
       "2                                               None               5   \n",
       "3                                               None               5   \n",
       "4  # Double Free Vulnerability\\n## Description\\nA...               5   \n",
       "\n",
       "  gpt_is_relevant  \n",
       "0           False  \n",
       "1            True  \n",
       "2           False  \n",
       "3           False  \n",
       "4            True  \n",
       "\n",
       "[5 rows x 27 columns]"
      ]
     },
     "metadata": {},
     "output_type": "display_data"
    }
   ],
   "source": [
    "display(test_df.head())"
   ]
  },
  {
   "cell_type": "code",
   "execution_count": 45,
   "id": "513cc36089c3490a",
   "metadata": {
    "ExecuteTime": {
     "end_time": "2024-08-13T07:34:54.277104Z",
     "start_time": "2024-08-13T07:34:28.882591Z"
    }
   },
   "outputs": [
    {
     "data": {
      "application/vnd.jupyter.widget-view+json": {
       "model_id": "f836c71785cf478f964cd2ef1ceff567",
       "version_major": 2,
       "version_minor": 0
      },
      "text/plain": [
       "Uploading the dataset shards:   0%|          | 0/1 [00:00<?, ?it/s]"
      ]
     },
     "metadata": {},
     "output_type": "display_data"
    },
    {
     "data": {
      "application/vnd.jupyter.widget-view+json": {
       "model_id": "01845d8ae3d6407886e1734a73cd1499",
       "version_major": 2,
       "version_minor": 0
      },
      "text/plain": [
       "Creating parquet from Arrow format:   0%|          | 0/2 [00:00<?, ?ba/s]"
      ]
     },
     "metadata": {},
     "output_type": "display_data"
    },
    {
     "data": {
      "text/plain": [
       "CommitInfo(commit_url='https://huggingface.co/datasets/Eathus/github-issues-vul-detection-gpt-zero-vul-desc-results/commit/54042ab17b90209a8d14ef22987add0dc5be3641', commit_message='Upload dataset', commit_description='', oid='54042ab17b90209a8d14ef22987add0dc5be3641', pr_url=None, repo_url=RepoUrl('https://huggingface.co/datasets/Eathus/github-issues-vul-detection-gpt-zero-vul-desc-results', endpoint='https://huggingface.co', repo_type='dataset', repo_id='Eathus/github-issues-vul-detection-gpt-zero-vul-desc-results'), pr_revision=None, pr_num=None)"
      ]
     },
     "execution_count": 45,
     "metadata": {},
     "output_type": "execute_result"
    }
   ],
   "source": [
    "from datasets import Dataset\n",
    "\n",
    "# test\n",
    "ds = Dataset.from_pandas(test_df)\n",
    "ds.push_to_hub(\"Eathus/github-issues-vul-detection-gpt-zero-vul-desc-results\", split=\"test\")"
   ]
  },
  {
   "cell_type": "code",
   "execution_count": 2,
   "id": "dc11cef0",
   "metadata": {},
   "outputs": [
    {
     "data": {
      "text/plain": [
       "(np.int64(328), np.int64(1778))"
      ]
     },
     "execution_count": 2,
     "metadata": {},
     "output_type": "execute_result"
    }
   ],
   "source": [
    "test_df[\n",
    "    test_df.gpt_confidence == 5\n",
    "].gpt_is_relevant.sum(), test_df.gpt_is_relevant.count()"
   ]
  },
  {
   "cell_type": "code",
   "execution_count": 3,
   "id": "aa7c05fc",
   "metadata": {},
   "outputs": [
    {
     "name": "stdout",
     "output_type": "stream",
     "text": [
      "Accuracy: 0.813273340832396\n",
      "Classification Report:\n",
      "              precision    recall  f1-score   support\n",
      "\n",
      "       False       0.97      0.79      0.87      1457\n",
      "        True       0.49      0.90      0.63       321\n",
      "\n",
      "    accuracy                           0.81      1778\n",
      "   macro avg       0.73      0.85      0.75      1778\n",
      "weighted avg       0.89      0.81      0.83      1778\n",
      "\n"
     ]
    }
   ],
   "source": [
    "from sklearn.metrics import accuracy_score, classification_report\n",
    "\n",
    "y_test = test_df.label.values\n",
    "y_pred = test_df.gpt_is_relevant.values\n",
    "\n",
    "# Evaluate the model\n",
    "accuracy = accuracy_score(y_test, y_pred)\n",
    "report = classification_report(y_test, y_pred)\n",
    "\n",
    "print(f\"Accuracy: {accuracy}\")\n",
    "print(\"Classification Report:\")\n",
    "print(report)"
   ]
  },
  {
   "cell_type": "markdown",
   "id": "d6fb2efb796d0c2c",
   "metadata": {},
   "source": [
    "## Few-shot learning"
   ]
  },
  {
   "cell_type": "code",
   "execution_count": 1,
   "id": "651c9ae9",
   "metadata": {},
   "outputs": [],
   "source": [
    "import sys\n",
    "from pathlib import Path\n",
    "\n",
    "# Get parent directory (Thesis-Edvin)\n",
    "sys.path.append(str(Path.cwd().parent))"
   ]
  },
  {
   "cell_type": "code",
   "execution_count": 2,
   "id": "2ec91ee4bbe5f570",
   "metadata": {
    "ExecuteTime": {
     "end_time": "2024-08-13T07:34:57.081727Z",
     "start_time": "2024-08-13T07:34:54.283296Z"
    }
   },
   "outputs": [],
   "source": [
    "from datasets import load_dataset\n",
    "\n",
    "test = load_dataset(\"Eathus/github-issues-vul-detection-max\", split=\"train\")\n",
    "test_df = test.to_pandas()"
   ]
  },
  {
   "cell_type": "code",
   "execution_count": 3,
   "id": "a2ac3f7a79d99516",
   "metadata": {
    "ExecuteTime": {
     "end_time": "2024-08-13T07:34:57.086612Z",
     "start_time": "2024-08-13T07:34:57.082547Z"
    }
   },
   "outputs": [
    {
     "data": {
      "text/plain": [
       "2.98881675"
      ]
     },
     "execution_count": 3,
     "metadata": {},
     "output_type": "execute_result"
    }
   ],
   "source": [
    "# Cost only of the input\n",
    "(test_df.issue_msg_n_tokens.sum() / 1000000) * 0.15"
   ]
  },
  {
   "cell_type": "code",
   "execution_count": 4,
   "id": "ab346b40b6d83f6c",
   "metadata": {
    "ExecuteTime": {
     "end_time": "2024-08-13T07:43:10.985264Z",
     "start_time": "2024-08-13T07:43:10.952572Z"
    }
   },
   "outputs": [],
   "source": [
    "from utils import *\n",
    "from langchain_openai import ChatOpenAI\n",
    "from langchain_core.prompts import ChatPromptTemplate\n",
    "from pydantic import BaseModel, Field\n",
    "\n",
    "\n",
    "class ReplySchema(BaseModel):\n",
    "    gpt_description: str = Field(\n",
    "        description=\"Describe the vulnerability detected, if any; otherwise, write None\"\n",
    "    )\n",
    "    gpt_vulnerability: str = Field(\n",
    "        description=\"Describe the general type of vulnerability detected, if any; otherwise, write None\"\n",
    "    )\n",
    "    gpt_confidence: int = Field(\n",
    "        description=\"An integer from 1 to 5 indicating your level of confidence  (1 = very low, 2 = low, 3 = medium, 4 = high, 5 = very high).\"\n",
    "    )\n",
    "    gpt_is_relevant: bool = Field(\n",
    "        description=\"boolean that states if there is a vulnerability\"\n",
    "    )\n",
    "\n",
    "\n",
    "llm = ChatOpenAI(model=\"gpt-4o-mini\", temperature=0.0, api_key=OPENAI_API_KEY_KTH )\n",
    "\n",
    "prompts_dict = load_prompts(os.getcwd() + \"/../utils/prompts\")\n",
    "\n",
    "prompt = ChatPromptTemplate.from_messages(\n",
    "    [\n",
    "        (\"system\", prompts_dict[\"system_setupd_detailed_desc\"]),\n",
    "        (\n",
    "            \"human\",\n",
    "            \"\"\"\n",
    "                aac\\nIssue date:\\n\\n--- start body ---\\nHi, developers of Bento4:\\r\\nIn the test of the binary mp42aac instrumented with ASAN. There are some inputs causing heap-buffer-overflow. Here is the ASAN mode output:\\r\\n\\r\\n=================================================================\\r\\n==4695==ERROR: AddressSanitizer: heap-buffer-overflow on address 0x6190000027a0 at pc 0x7ffff6ef6964 bp 0x7fffffffdea0 sp 0x7fffffffd648\\r\\nWRITE of size 4294967288 at 0x6190000027a0 thread T0\\r\\n    #0 0x7ffff6ef6963 in __asan_memcpy (\\\\/usr\\\\/lib\\\\/x86_64-linux-gnu\\\\/libasan.so.2+0x8c963)\\r\\n    #1 0x409ed4 in AP4_MemoryByteStream::WritePartial(void const*, unsigned int, unsigned int&) \\\\/home\\\\/ferry\\\\/dp\\\\/Bento4\\\\/Source\\\\/C++\\\\/Core\\\\/Ap4ByteStream.cpp:785\\r\\n    #2 0x40d9e3 in AP4_ByteStream::Write(void const*, unsigned int) \\\\/home\\\\/ferry\\\\/dp\\\\/Bento4\\\\/Source\\\\/C++\\\\/Core\\\\/Ap4ByteStream.cpp:77\\r\\n    #3 0x4eb601 in AP4_Atom::Write(AP4_ByteStream&) \\\\/home\\\\/ferry\\\\/dp\\\\/Bento4\\\\/Source\\\\/C++\\\\/Core\\\\/Ap4Atom.cpp:229\\r\\n    #4 0x4eb601 in AP4_Atom::Clone() \\\\/home\\\\/ferry\\\\/dp\\\\/Bento4\\\\/Source\\\\/C++\\\\/Core\\\\/Ap4Atom.cpp:316\\r\\n    #5 0x446d7a in AP4_SampleDescription::AP4_SampleDescription(AP4_SampleDescription::Type, unsigned int, AP4_AtomParent*) \\\\/home\\\\/ferry\\\\/dp\\\\/Bento4\\\\/Source\\\\/C++\\\\/Core\\\\/Ap4SampleDescription.cpp:138\\r\\n    #6 0x461a8f in AP4_GenericAudioSampleDescription::AP4_GenericAudioSampleDescription(unsigned int, unsigned int, unsigned short, unsigned short, AP4_AtomParent*) \\\\/home\\\\/ferry\\\\/dp\\\\/Bento4\\\\/Source\\\\/C++\\\\/Core\\\\/Ap4SampleDescription.h:259\\r\\n    #7 0x461a8f in AP4_AudioSampleEntry::ToSampleDescription() \\\\/home\\\\/ferry\\\\/dp\\\\/Bento4\\\\/Source\\\\/C++\\\\/Core\\\\/Ap4SampleEntry.cpp:630\\r\\n    #8 0x48ca03 in AP4_StsdAtom::GetSampleDescription(unsigned int) \\\\/home\\\\/ferry\\\\/dp\\\\/Bento4\\\\/Source\\\\/C++\\\\/Core\\\\/Ap4StsdAtom.cpp:181\\r\\n    #9 0x4040b6 in main \\\\/home\\\\/ferry\\\\/dp\\\\/Bento4\\\\/Source\\\\/C++\\\\/Apps\\\\/Mp42Aac\\\\/Mp42Aac.cpp:268\\r\\n    #10 0x7ffff61bb83f in __libc_start_main (\\\\/lib\\\\/x86_64-linux-gnu\\\\/libc.so.6+0x2083f)\\r\\n    #11 0x408338 in _start (\\\\/home\\\\/ferry\\\\/dp\\\\/Bento4\\\\/mp42aac+0x408338)\\r\\n\\r\\n0x6190000027a0 is located 0 bytes to the right of 1056-byte region [0x619000002380,0x6190000027a0)\\r\\nallocated by thread T0 here:\\r\\n    #0 0x7ffff6f03712 in operator new[](unsigned long) (\\\\/usr\\\\/lib\\\\/x86_64-linux-gnu\\\\/libasan.so.2+0x99712)\\r\\n    #1 0x414c8e in AP4_DataBuffer::ReallocateBuffer(unsigned int) \\\\/home\\\\/ferry\\\\/dp\\\\/Bento4\\\\/Source\\\\/C++\\\\/Core\\\\/Ap4DataBuffer.cpp:210\\r\\n    #2 0x414c8e in AP4_DataBuffer::SetBufferSize(unsigned int) \\\\/home\\\\/ferry\\\\/dp\\\\/Bento4\\\\/Source\\\\/C++\\\\/Core\\\\/Ap4DataBuffer.cpp:136\\r\\n    #3 0x414c8e in AP4_DataBuffer::Reserve(unsigned int) \\\\/home\\\\/ferry\\\\/dp\\\\/Bento4\\\\/Source\\\\/C++\\\\/Core\\\\/Ap4DataBuffer.cpp:107\\r\\n\\r\\nSUMMARY: AddressSanitizer: heap-buffer-overflow ??:0 __asan_memcpy\\r\\nShadow bytes around the buggy address:\\r\\n  0x0c327fff84a0: 00 00 00 00 00 00 00 00 00 00 00 00 00 00 00 00\\r\\n  0x0c327fff84b0: 00 00 00 00 00 00 00 00 00 00 00 00 00 00 00 00\\r\\n  0x0c327fff84c0: 00 00 00 00 00 00 00 00 00 00 00 00 00 00 00 00\\r\\n  0x0c327fff84d0: 00 00 00 00 00 00 00 00 00 00 00 00 00 00 00 00\\r\\n  0x0c327fff84e0: 00 00 00 00 00 00 00 00 00 00 00 00 00 00 00 00\\r\\n=>0x0c327fff84f0: 00 00 00 00[fa]fa fa fa fa fa fa fa fa fa fa fa\\r\\n  0x0c327fff8500: fa fa fa fa fa fa fa fa fa fa fa fa fa fa fa fa\\r\\n  0x0c327fff8510: fa fa fa fa fa fa fa fa fa fa fa fa fa fa fa fa\\r\\n  0x0c327fff8520: fa fa fa fa fa fa fa fa fa fa fa fa fa fa fa fa\\r\\n  0x0c327fff8530: fa fa fa fa fa fa fa fa fa fa fa fa fa fa fa fa\\r\\n  0x0c327fff8540: fa fa fa fa fa fa fa fa fa fa fa fa fa fa fa fa\\r\\nShadow byte legend (one shadow byte represents 8 application bytes):\\r\\n  Addressable:           00\\r\\n  Partially addressable: 01 02 03 04 05 06 07 \\r\\n  Heap left redzone:       fa\\r\\n  Heap right redzone:      fb\\r\\n  Freed heap region:       fd\\r\\n  Stack left redzone:      f1\\r\\n  Stack mid redzone:       f2\\r\\n  Stack right redzone:     f3\\r\\n  Stack partial redzone:   f4\\r\\n  Stack after return:      f5\\r\\n  Stack use after scope:   f8\\r\\n  Global redzone:          f9\\r\\n  Global init order:       f6\\r\\n  Poisoned by user:        f7\\r\\n  Container overflow:      fc\\r\\n  Array cookie:            ac\\r\\n  Intra object redzone:    bb\\r\\n  ASan internal:           fe\\r\\n==4695==ABORTING\\r\\n\\r\\n### Crash input\\r\\nhttps:\\\\/\\\\/github.com\\\\/17ssDP\\\\/fuzzer_crashes\\\\/blob\\\\/main\\\\/Bento4\\\\/input2\\r\\n\\r\\n### Validation steps\\r\\n```\\r\\ngit clone https:\\\\/\\\\/github.com\\\\/axiomatic-systems\\\\/Bento4\\r\\ncd Bento4\\\\/\\r\\nmkdir check_build && cd check_build\\r\\ncmake ..\\\\/ -DCMAKE_C_COMPILER=clang  -DCMAKE_CXX_COMPILER=clang++ -DCMAKE_C_FLAGS=\\\"-fsanitize=address\\\" -DCMAKE_CXX_FLAGS=\\\"-fsanitize=address\\\" -DCMAKE_BUILD_TYPE=Release\\r\\nmake -j \\r\\n.\\\\/mp42aac input2 \\\\/dev\\\\/null\\r\\n```\\r\\n### Environment\\r\\nUbuntu 16.04\\r\\nClang 10.0.1\\r\\ngcc 5.5\\r\\n\\r\\n\\n--- end body ---\\n\n",
    "            \"\"\",\n",
    "        ),\n",
    "        (\n",
    "            \"ai\",\n",
    "            \"\"\"\n",
    "            \\\"gpt_description\\\": \\\"Buffer overflow vulnerability in function AP4_MemoryByteStream::WritePartial in mp42aac in Bento4 v1.6.0-639, allows attackers to cause a denial of service via a crafted file.\\\", \\\"gpt_vulnerability\\\": \\\"# Buffer Copy without Checking Size of Input (\\'Classic Buffer Overflow\\')\\n\\n## Description\\nThe product copies an input buffer to an output buffer without verifying that the size of the input buffer is less than the size of the output buffer, leading to a buffer overflow.\\n\\n## Extended Description\\nA buffer overflow condition exists when a product attempts to put more data in a buffer than it can hold, or when it attempts to put data in a memory area outside of the boundaries of a buffer. The simplest type of error, and the most common cause of buffer overflows, is the \"classic\" case in which the product copies the buffer without restricting how much is copied. Other variants exist, but the existence of a classic overflow strongly suggests that the programmer is not considering even the most basic of security protections.\\n\\n## Demonstrative Scenario\\n\\n### Scenario\\nThe following code asks the user to enter their last name and then attempts to store the value entered in the last_name array.\\n\\n### Vulnerable C Code\\n```c\\nchar last_name[20];\\n\\tprintf (\"Enter your last name: \");\\n\\tscanf (\"%s\", last_name);\\n```\\n\\n### Analysis\\n\\nThe problem with the code above is that it does not restrict or limit the size of the name entered by the user. If the user enters \"Very_very_long_last_name\" which is 24 characters long, then a buffer overflow will occur since the array can only hold 20 characters total.\\\", \\\"gpt_confidence\\\": 5, \\\"gpt_is_relevant\\\": true\n",
    "            \"\"\",\n",
    "        ),\n",
    "        (\n",
    "            \"human\",\n",
    "            \"\"\"\n",
    "            This is a GitHub Issue\\nrepo:MonetDB\\nowner:MonetDB\\nTitle : MonetDB server 11.46.0 crashes at list_append #7383\\n\\nIssue date:\\n\\n--- start body ---\\nDescribe the bug\\nMonetDB server 11.46.0 crashes at list_append after executing SQL statements through mclient.\\n\\nTo Reproduce\\n\\ncreate table t1(c1 int auto_increment primary key NOT NULL);\\ncreate trigger i1 after insert on t1 for each row insert into t1 values(NULL);\\ninsert into t1 values(NULL);\\nExpected behavior\\nThis crash is strange. From the backtrace as follows, we can know that the crash is caused by infinite recursion.\\n\\nHowever, if we change the first statement into create table t1(c1 int);, the MonetDB will return the message Query too complex: running out of stack space when executing the third stmt. So, MonetDB handles out of stack space, but it does not work with some special table definitions?\\n\\nWhat's more, the definition of the table contains the NOT NULL constraint, which should fail the third stmt. If we remove the create trigger statement, MonetDB will return the message INSERT INTO: NOT NULL constraint violated for column t1.c1 when executing the insert stmt. But with the create trigger stmt, it crashes instead.\\n\\nAnyway, I think the expected behavior is to return the error message Query too complex: running out of stack space or INSERT INTO: NOT NULL constraint violated for column t1.c1, instead of crashing straightly.\\n\\nBacktrace\\n\\n#0 0x7f0c3760dbda (list_append+0x1a)\\n#1 0x7f0c376669c6 (rel_insert+0x196)\\n#2 0x7f0c3766abb3 (rel_updates+0x1ce3)\\n#3 0x7f0c376c6c11 (sequential_block+0x121)\\n#4 0x7f0c376c52dc (rel_psm+0x131c)\\n#5 0x7f0c37653091 (rel_semantic+0x91)\\n#6 0x7f0c37652e6a (rel_parse+0x19a)\\n#7 0x7f0c37563102 (sql_insert_triggers+0x232)\\n#8 0x7f0c3755bb5e (rel2bin_insert+0x148e)\\n#9 0x7f0c37554539 (subrel_bin+0xd69)\\n#10 0x7f0c3755f218 (exp_bin+0x29e8)\\n#11 0x7f0c37558567 (subrel_bin+0x4d97)\\n#12 0x7f0c37563162 (sql_insert_triggers+0x292)\\n#13 0x7f0c3755bb5e (rel2bin_insert+0x148e)\\n#14 0x7f0c37554539 (subrel_bin+0xd69)\\n#15 0x7f0c3755f218 (exp_bin+0x29e8)\\n#16 0x7f0c37558567 (subrel_bin+0x4d97)\\n#17 0x7f0c37563162 (sql_insert_triggers+0x292)\\n...\\n#7407 0x7f0c37563162 (sql_insert_triggers+0x292)\\n#7408 0x7f0c3755bb5e (rel2bin_insert+0x148e)\\n#7409 0x7f0c37554539 (subrel_bin+0xd69)\\n#7410 0x7f0c3755373b (output_rel_bin+0x6b)\\n#7411 0x7f0c3757f9d9 (backend_dumpstmt+0x199)\\n#7412 0x7f0c3754a367 (SQLparser+0x5d7)\\n#7413 0x7f0c3754987b (SQLengine_+0x59b)\\n#7414 0x7f0c37548343 (SQLengine+0x23)\\n#7415 0x7f0c378d76cf (runScenario+0x4f)\\n#7416 0x7f0c378d816c (MSscheduleClient+0x68c)\\n#7417 0x7f0c3797fc2b (doChallenge+0xfb)\\n#7418 0x7f0c37ffeba0 (THRstarter+0x100)\\n#7419 0x7f0c3806ecc4 (thread_starter+0x34)\\n#7420 0x7f0c373e3609 (start_thread+0xd9)\\n#7421 0x7f0c37308133 (clone+0x43)\\nSoftware versions\\n\\nMonetDB server version: 11.46.0 (hg id: 63a42c2) (pulled from the master branch)\\nMonetDB client version: mclient, version 11.48.0 (hg id: 63a42c2)\\nOS and version: ubuntu 20.04\\nSelf-installed and compiled. The command line of compilation: CC=clang-12 CXX=clang++-12 cmake /root/monetdb_master -DCMAKE_BUILD_TYPE=RelWithDebInfo\\nIssue labeling\\nbug\\n\\nAdditional context\\nThe MonetDB here runs in-memory database. The command line of starting MonetDB server is mserver5 --in-memory.\\n--- end body ---\\n\n",
    "            \"\"\",\n",
    "        ),\n",
    "        (\n",
    "            \"ai\",\n",
    "            \"\"\"\n",
    "            \\\"gpt_description\\\": \\\"An issue in the list_append component of MonetDB Server v11.45.17 and v11.46.0 allows attackers to cause a Denial of Service (DoS) via crafted SQL statements.\\\", \\\"gpt_vulnerability\\\": \\\"# Allocation of Resources Without Limits or Throttling\\n\\n## Description\\nThe product allocates a reusable resource or group of resources on behalf of an actor without imposing any restrictions on the size or number of resources that can be allocated, in violation of the intended security policy for that actor.\\n\\n## Extended Description\\n\\n\\nCode frequently has to work with limited resources, so programmers must be careful to ensure that resources are not consumed too quickly, or too easily. Without use of quotas, resource limits, or other protection mechanisms, it can be easy for an attacker to consume many resources by rapidly making many requests, or causing larger resources to be used than is needed. When too many resources are allocated, or if a single resource is too large, then it can prevent the code from working correctly, possibly leading to a denial of service.\\n\\n## Demonstrative Scenario\\n\\n### Scenario\\nThis code allocates a socket and forks each time it receives a new connection.\\n\\n### Vulnerable C Code\\n```c\\nsock=socket(AF_INET, SOCK_STREAM, 0);\\n\\twhile (1) {{\\n\\t\\tnewsock=accept(sock, ...);\\n\\t\\tprintf(\"A connection has been accepted\\\\n\");\\n\\t\\tpid = fork();\\n\\t}}\\n```\\n\\n### Analysis\\n\\nThe program does not track how many connections have been made, and it does not limit the number of connections. Because forking is a relatively expensive operation, an attacker would be able to cause the system to run out of CPU, processes, or memory by making a large number of connections. Alternatively, an attacker could consume all available connections, preventing others from accessing the system remotely.\\\", \\\"gpt_confidence\\\": 5, \\\"gpt_is_relevant\\\": true\n",
    "            \"\"\",\n",
    "        ),\n",
    "        (\n",
    "            \"human\",\n",
    "            \"\"\"\n",
    "            This is a GitHub Issue repo:libredwg owner:LibreDWG Title : Segmentation fault in acds_private Issue date: --- start body --- [2.zip](https://github.com/LibreDWG/libredwg/files/11244857/2.zip) ``` (gdb) (gdb) r -v9 /home/user/out/default/crashes/2* The program being debugged has been started already. Start it from the beginning? (y or n) y Starting program: /home/user/libredwg/dwgread -v9 /home/user/out/default/crashes/2* Reading DWG file /home/user/out/default/crashes/2.dwg Program received signal SIGSEGV, Segmentation fault. 0xb6c8eb26 in acds_private (dat=0xbfffe330, dwg=0xbfffe578) at src/acds.spec:215 215 SUB_FIELD_RL (schidx.props[rcount2],index, 0); (gdb) ``` --- end body ---\n",
    "            \"\"\",\n",
    "        ),\n",
    "        (\n",
    "            \"ai\",\n",
    "            \"\"\"\n",
    "            \\\"gpt_description\\\": \\\"\\\", \\\"gpt_vulnerability\\\": \\\"\\\", \\\"gpt_confidence\\\": 2,\\n    \\\"gpt_is_relevant\\\": false\n",
    "            \"\"\",\n",
    "        ),\n",
    "        (\"human\", \"{msg}\"),\n",
    "    ]\n",
    ")\n",
    "\n",
    "\n",
    "def parser(message: ReplySchema):\n",
    "    return message.model_dump_json()\n",
    "\n",
    "\n",
    "llm = llm.with_structured_output(ReplySchema)\n",
    "chain = prompt | llm | parser"
   ]
  },
  {
   "cell_type": "code",
   "execution_count": 5,
   "id": "c298c1a876e4bc2",
   "metadata": {
    "ExecuteTime": {
     "end_time": "2024-08-13T07:43:18.894525Z",
     "start_time": "2024-08-13T07:43:17.399808Z"
    }
   },
   "outputs": [],
   "source": [
    "example = chain.invoke('''This is a GitHub Issue\\nrepo: ZipArchive\\nowner: ZipArchive\\nTitle : Unhandled edge case in _sanitizedPath #680 \\n\\n--- start body ---\\nDescription:\\n\\nThere is an unhandeled edge case where we can crash the application when it tries to unzip a specially crafted zip file\\n\\nTechnical details:\\n\\nBelow is a code snippet from the _sanitizedPath function used to sanitize file paths coming from zip entries before extraction to prevent path traversal, the function prepends file:/// to the provided path, standardizes it using NSURL and then removes the prepended file:///, when provided with the following path however /.., the standardized path returned by NSURL becomes file://, which has 7 characters, the package however expects at least 8 characters (length of the prepended text), this results in crashing the application.\\n\\n// Add scheme \\\"file:///\\\" to support sanitation on names with a colon like \\\"file:a/../../../usr/bin\\\"\\nstrPath = [@\\\"file:///\\\" stringByAppendingString:strPath];\\n\\n// Sanitize path traversal characters to prevent directory backtracking. Ignoring these characters mimicks the default behavior of the Unarchiving tool on macOS.\\n// \\\"../../../../../../../../../../../tmp/test.txt\\\" -> \\\"tmp/test.txt\\\"\\n// \\\"a/b/../c.txt\\\" -> \\\"a/c.txt\\\"\\nstrPath = [NSURL URLWithString:strPath].standardizedURL.absoluteString;\\n\\n// Remove the \\\"file:///\\\" scheme\\nstrPath = [strPath substringFromIndex:8];\\nPoC:\\n\\nimport zipfile\\n\\ndef compress_file(filename):\\n    with zipfile.ZipFile('payload.zip', 'w') as zipf:\\n        zipf.writestr(filename, \\\"Test payload\\\")\\n\\nfilename = '/..'\\n\\ncompress_file(filename)\\n--- end body ---''')"
   ]
  },
  {
   "cell_type": "code",
   "execution_count": 6,
   "id": "1994db6c",
   "metadata": {},
   "outputs": [],
   "source": [
    "import json\n",
    "import pandas as pd\n",
    "\n",
    "examplej = json.loads(example)"
   ]
  },
  {
   "cell_type": "code",
   "execution_count": 7,
   "id": "c4f8c6e3",
   "metadata": {},
   "outputs": [
    {
     "data": {
      "text/markdown": [
       "# Improper Input Validation\n",
       "\n",
       "## Summary\n",
       "The product does not properly validate input data, leading to unexpected behavior or crashes when handling edge cases. \n",
       "\n",
       "## Extended Description\n",
       "Improper input validation occurs when a program does not adequately check the data it receives before processing it. This can lead to various issues, including crashes, security vulnerabilities, or unexpected behavior. In this case, the application fails to handle a specific input that results in a path length mismatch, causing a segmentation fault. Such vulnerabilities can be exploited by attackers to crash the application or potentially execute arbitrary code, depending on the context. \n",
       "\n",
       "## Demonstrative Example\n",
       "\n",
       "### Intro\n",
       "The following code attempts to read a file path and sanitize it for further processing. However, it does not account for certain edge cases that can lead to crashes.\n",
       "\n",
       "### Vulnerable Code\n",
       "```swift\n",
       "// Add scheme \"file:///\" to support sanitation on names with a colon like \"file:a/../../../usr/bin\"\n",
       "strPath = [@\"file:///\" stringByAppendingString:strPath];\n",
       "\n",
       "// Sanitize path traversal characters to prevent directory backtracking.\n",
       "strPath = [NSURL URLWithString:strPath].standardizedURL.absoluteString;\n",
       "\n",
       "// Remove the \"file:///\" scheme\n",
       "strPath = [strPath substringFromIndex:8];\n",
       "```\n",
       "\n",
       "### Analysis\n",
       "The code does not check the length of the resulting standardized URL before attempting to remove the \"file:///\" scheme. If the input path is such that the standardized URL is shorter than expected, this will lead to an out-of-bounds access when trying to create a substring, resulting in a crash. This demonstrates a classic case of improper input validation, where the application fails to handle unexpected or malformed input gracefully."
      ],
      "text/plain": [
       "<IPython.core.display.Markdown object>"
      ]
     },
     "metadata": {},
     "output_type": "display_data"
    }
   ],
   "source": [
    "from IPython.display import display, Markdown, Latex\n",
    "display(Markdown(examplej['gpt_vulnerability']))"
   ]
  },
  {
   "cell_type": "code",
   "execution_count": 5,
   "id": "f630395e",
   "metadata": {},
   "outputs": [
    {
     "ename": "TypeError",
     "evalue": "expected string or buffer",
     "output_type": "error",
     "traceback": [
      "\u001b[0;31m---------------------------------------------------------------------------\u001b[0m",
      "\u001b[0;31mTypeError\u001b[0m                                 Traceback (most recent call last)",
      "Cell \u001b[0;32mIn[5], line 4\u001b[0m\n\u001b[1;32m      2\u001b[0m filled_prompt \u001b[38;5;241m=\u001b[39m prompt\u001b[38;5;241m.\u001b[39mformat_messages(msg\u001b[38;5;241m=\u001b[39mexample_input)\n\u001b[1;32m      3\u001b[0m \u001b[38;5;66;03m# --- Count tokens in the filled prompt ---\u001b[39;00m\n\u001b[0;32m----> 4\u001b[0m token_count \u001b[38;5;241m=\u001b[39m \u001b[43mcount_tokens\u001b[49m\u001b[43m(\u001b[49m\u001b[43mfilled_prompt\u001b[49m\u001b[43m,\u001b[49m\u001b[43m \u001b[49m\u001b[38;5;124;43m'\u001b[39;49m\u001b[38;5;124;43mgpt-4o-mini\u001b[39;49m\u001b[38;5;124;43m'\u001b[39;49m\u001b[43m)\u001b[49m\n\u001b[1;32m      5\u001b[0m \u001b[38;5;28mprint\u001b[39m(\u001b[38;5;124mf\u001b[39m\u001b[38;5;124m\"\u001b[39m\u001b[38;5;124mToken count for prompt: \u001b[39m\u001b[38;5;132;01m{\u001b[39;00mtoken_count\u001b[38;5;132;01m}\u001b[39;00m\u001b[38;5;124m\"\u001b[39m)\n",
      "File \u001b[0;32m~/KTH/DA231X-ex/Thesis-Edvin/utils/utils.py:62\u001b[0m, in \u001b[0;36mcount_tokens\u001b[0;34m(text, model, echo)\u001b[0m\n\u001b[1;32m     60\u001b[0m     \u001b[38;5;28mprint\u001b[39m(\u001b[38;5;124m\"\u001b[39m\u001b[38;5;124minvalid input model:\u001b[39m\u001b[38;5;124m\"\u001b[39m, model \u001b[38;5;241m+\u001b[39m \u001b[38;5;124m\"\u001b[39m\u001b[38;5;124m.\u001b[39m\u001b[38;5;124m\"\u001b[39m, \u001b[38;5;124m\"\u001b[39m\u001b[38;5;124mDefaulting to cl100k_base\u001b[39m\u001b[38;5;124m\"\u001b[39m)\n\u001b[1;32m     61\u001b[0m     encoding \u001b[38;5;241m=\u001b[39m tiktoken\u001b[38;5;241m.\u001b[39mget_encoding(\u001b[38;5;124m\"\u001b[39m\u001b[38;5;124mcl100k_base\u001b[39m\u001b[38;5;124m\"\u001b[39m)  \u001b[38;5;66;03m# Fallback for most models\u001b[39;00m\n\u001b[0;32m---> 62\u001b[0m \u001b[38;5;28;01mreturn\u001b[39;00m \u001b[38;5;28mlen\u001b[39m(\u001b[43mencoding\u001b[49m\u001b[38;5;241;43m.\u001b[39;49m\u001b[43mencode\u001b[49m\u001b[43m(\u001b[49m\u001b[43mtext\u001b[49m\u001b[43m)\u001b[49m)\n",
      "File \u001b[0;32m~/anaconda3/envs/mthesis_cpyenv/lib/python3.10/site-packages/tiktoken/core.py:120\u001b[0m, in \u001b[0;36mEncoding.encode\u001b[0;34m(self, text, allowed_special, disallowed_special)\u001b[0m\n\u001b[1;32m    118\u001b[0m     \u001b[38;5;28;01mif\u001b[39;00m \u001b[38;5;129;01mnot\u001b[39;00m \u001b[38;5;28misinstance\u001b[39m(disallowed_special, \u001b[38;5;28mfrozenset\u001b[39m):\n\u001b[1;32m    119\u001b[0m         disallowed_special \u001b[38;5;241m=\u001b[39m \u001b[38;5;28mfrozenset\u001b[39m(disallowed_special)\n\u001b[0;32m--> 120\u001b[0m     \u001b[38;5;28;01mif\u001b[39;00m match \u001b[38;5;241m:=\u001b[39m \u001b[43m_special_token_regex\u001b[49m\u001b[43m(\u001b[49m\u001b[43mdisallowed_special\u001b[49m\u001b[43m)\u001b[49m\u001b[38;5;241;43m.\u001b[39;49m\u001b[43msearch\u001b[49m\u001b[43m(\u001b[49m\u001b[43mtext\u001b[49m\u001b[43m)\u001b[49m:\n\u001b[1;32m    121\u001b[0m         raise_disallowed_special_token(match\u001b[38;5;241m.\u001b[39mgroup())\n\u001b[1;32m    123\u001b[0m \u001b[38;5;28;01mtry\u001b[39;00m:\n",
      "\u001b[0;31mTypeError\u001b[0m: expected string or buffer"
     ]
    }
   ],
   "source": [
    "example_input = \"Here's a snippet of Python code to check for vulnerabilities.\"\n",
    "filled_prompt = prompt.format_messages(msg=example_input)\n",
    "# --- Count tokens in the filled prompt ---\n",
    "token_count = count_tokens(filled_prompt, 'gpt-4o-mini')\n",
    "print(f\"Token count for prompt: {token_count}\")"
   ]
  },
  {
   "cell_type": "code",
   "execution_count": 7,
   "id": "6df3821e",
   "metadata": {},
   "outputs": [
    {
     "name": "stdout",
     "output_type": "stream",
     "text": [
      "INFO: Pandarallel will run on 15 workers.\n",
      "INFO: Pandarallel will use Memory file system to transfer data between the main process and workers.\n"
     ]
    }
   ],
   "source": [
    "from utils import *\n",
    "from pandarallel import pandarallel\n",
    "from tenacity import retry, stop_after_attempt, wait_exponential, retry_if_exception_type\n",
    "from openai import OpenAIError, RateLimitError  # Explicitly import errors\n",
    "\n",
    "pandarallel.initialize(progress_bar=True, nb_workers=15)\n",
    "\n",
    "@retry(\n",
    "    stop=stop_after_attempt(5),  # Retry up to 5 times\n",
    "    wait=wait_exponential(multiplier=2, min=1, max=60),  # Exponential backoff\n",
    "    retry=retry_if_exception_type(RateLimitError),  # Retry only on rate limit errors\n",
    ")\n",
    "def _gpt_classify(msg):\n",
    "    if not msg or not isinstance(msg, str):  # Check for empty/invalid messages\n",
    "        return None\n",
    "    return chain.invoke({\"msg\": msg})  # Adjusted for OpenAI API format\n",
    "\n",
    "def gpt_classify(msg):\n",
    "    try:\n",
    "        return _gpt_classify(msg)\n",
    "    except OpenAIError as e:  # Catch all OpenAI-specific errors\n",
    "        print(f\"OpenAI API error: {e}\")\n",
    "    except Exception as e:\n",
    "        print(f\"General error processing message: {e}\")\n",
    "    return None\n"
   ]
  },
  {
   "cell_type": "code",
   "execution_count": 8,
   "id": "9cfa3a24",
   "metadata": {},
   "outputs": [
    {
     "name": "stdout",
     "output_type": "stream",
     "text": [
      "Pickle file loaded successfully!\n"
     ]
    }
   ],
   "source": [
    "import pickle\n",
    "import os\n",
    "file_path = \"tmp/gpt_response_few_cwe_train_df.pkl\"\n",
    "\n",
    "# Define the path to your pickle file\n",
    "\n",
    "# Check if the file exists\n",
    "if os.path.exists(file_path):\n",
    "    with open(file_path, 'rb') as file:\n",
    "        test_df = pickle.load(file)\n",
    "    print(\"Pickle file loaded successfully!\")\n",
    "else:\n",
    "    print(f\"The file at {file_path} does not exist. Setting gpt_response to 'None'\")\n",
    "    test_df['gpt_response'] = None\n",
    "\n"
   ]
  },
  {
   "cell_type": "code",
   "execution_count": 28,
   "id": "46273045",
   "metadata": {},
   "outputs": [
    {
     "data": {
      "application/vnd.jupyter.widget-view+json": {
       "model_id": "858a698dddea44c68021b8e596a4b67b",
       "version_major": 2,
       "version_minor": 0
      },
      "text/plain": [
       "README.md:   0%|          | 0.00/7.31k [00:00<?, ?B/s]"
      ]
     },
     "metadata": {},
     "output_type": "display_data"
    },
    {
     "data": {
      "application/vnd.jupyter.widget-view+json": {
       "model_id": "cf525e635c8c453d9b7c71a856999af0",
       "version_major": 2,
       "version_minor": 0
      },
      "text/plain": [
       "test-00000-of-00001.parquet:   0%|          | 0.00/35.3M [00:00<?, ?B/s]"
      ]
     },
     "metadata": {},
     "output_type": "display_data"
    },
    {
     "data": {
      "application/vnd.jupyter.widget-view+json": {
       "model_id": "b3e27c51f44d45d3a2abe056aa9e2538",
       "version_major": 2,
       "version_minor": 0
      },
      "text/plain": [
       "Generating test split:   0%|          | 0/1778 [00:00<?, ? examples/s]"
      ]
     },
     "metadata": {},
     "output_type": "display_data"
    }
   ],
   "source": [
    "from datasets import load_dataset\n",
    "\n",
    "test = load_dataset(\"Eathus/github-issues-vul-detection-gpt-few-results\", split=\"test\")\n",
    "test_df = test.to_pandas()"
   ]
  },
  {
   "cell_type": "code",
   "execution_count": 29,
   "id": "d3b12d9f",
   "metadata": {},
   "outputs": [],
   "source": [
    "import json\n",
    "import pandas as pd\n",
    "\n",
    "# Step 1: Combine the normalized columns back into a dictionary\n",
    "test_df['gpt_response'] = test_df.apply(\n",
    "    lambda row: json.dumps({\n",
    "        'gpt_description': row['gpt_description'],\n",
    "        'gpt_confidence': row['gpt_confidence'],\n",
    "        'gpt_is_relevant': row['gpt_is_relevant']\n",
    "    }) if pd.notna(row['gpt_description']) else None,\n",
    "    axis=1\n",
    ")\n",
    "\n",
    "# Step 2: Drop the individual normalized columns (optional)\n",
    "test_df = test_df.drop(columns=['gpt_description', 'gpt_confidence', 'gpt_is_relevant'])"
   ]
  },
  {
   "cell_type": "code",
   "execution_count": 17,
   "id": "246099ae",
   "metadata": {},
   "outputs": [
    {
     "ename": "AttributeError",
     "evalue": "'DataFrame' object has no attribute 'gpt_response'",
     "output_type": "error",
     "traceback": [
      "\u001b[0;31m---------------------------------------------------------------------------\u001b[0m",
      "\u001b[0;31mAttributeError\u001b[0m                            Traceback (most recent call last)",
      "\u001b[0;32m/tmp/ipykernel_13277/1742036786.py\u001b[0m in \u001b[0;36m?\u001b[0;34m()\u001b[0m\n\u001b[0;32m----> 1\u001b[0;31m \u001b[0mlen\u001b[0m\u001b[0;34m(\u001b[0m\u001b[0mtest_df\u001b[0m\u001b[0;34m[\u001b[0m\u001b[0mtest_df\u001b[0m\u001b[0;34m.\u001b[0m\u001b[0mgpt_response\u001b[0m\u001b[0;34m.\u001b[0m\u001b[0misna\u001b[0m\u001b[0;34m(\u001b[0m\u001b[0;34m)\u001b[0m\u001b[0;34m]\u001b[0m\u001b[0;34m)\u001b[0m\u001b[0;34m\u001b[0m\u001b[0;34m\u001b[0m\u001b[0m\n\u001b[0m",
      "\u001b[0;32m~/anaconda3/envs/mthesis_cpyenv/lib/python3.10/site-packages/pandas/core/generic.py\u001b[0m in \u001b[0;36m?\u001b[0;34m(self, name)\u001b[0m\n\u001b[1;32m   6295\u001b[0m             \u001b[0;32mand\u001b[0m \u001b[0mname\u001b[0m \u001b[0;32mnot\u001b[0m \u001b[0;32min\u001b[0m \u001b[0mself\u001b[0m\u001b[0;34m.\u001b[0m\u001b[0m_accessors\u001b[0m\u001b[0;34m\u001b[0m\u001b[0;34m\u001b[0m\u001b[0m\n\u001b[1;32m   6296\u001b[0m             \u001b[0;32mand\u001b[0m \u001b[0mself\u001b[0m\u001b[0;34m.\u001b[0m\u001b[0m_info_axis\u001b[0m\u001b[0;34m.\u001b[0m\u001b[0m_can_hold_identifiers_and_holds_name\u001b[0m\u001b[0;34m(\u001b[0m\u001b[0mname\u001b[0m\u001b[0;34m)\u001b[0m\u001b[0;34m\u001b[0m\u001b[0;34m\u001b[0m\u001b[0m\n\u001b[1;32m   6297\u001b[0m         ):\n\u001b[1;32m   6298\u001b[0m             \u001b[0;32mreturn\u001b[0m \u001b[0mself\u001b[0m\u001b[0;34m[\u001b[0m\u001b[0mname\u001b[0m\u001b[0;34m]\u001b[0m\u001b[0;34m\u001b[0m\u001b[0;34m\u001b[0m\u001b[0m\n\u001b[0;32m-> 6299\u001b[0;31m         \u001b[0;32mreturn\u001b[0m \u001b[0mobject\u001b[0m\u001b[0;34m.\u001b[0m\u001b[0m__getattribute__\u001b[0m\u001b[0;34m(\u001b[0m\u001b[0mself\u001b[0m\u001b[0;34m,\u001b[0m \u001b[0mname\u001b[0m\u001b[0;34m)\u001b[0m\u001b[0;34m\u001b[0m\u001b[0;34m\u001b[0m\u001b[0m\n\u001b[0m",
      "\u001b[0;31mAttributeError\u001b[0m: 'DataFrame' object has no attribute 'gpt_response'"
     ]
    }
   ],
   "source": [
    "len(test_df[test_df.gpt_response.isna()])"
   ]
  },
  {
   "cell_type": "code",
   "execution_count": 9,
   "id": "4b6a8704",
   "metadata": {},
   "outputs": [],
   "source": [
    "test_df['gpt_response'] = None"
   ]
  },
  {
   "cell_type": "code",
   "execution_count": 9,
   "id": "91ec6585",
   "metadata": {},
   "outputs": [],
   "source": [
    "import pickle \n",
    "import time\n",
    "\n",
    "retries = 0\n",
    "max_retries = 10\n",
    "file_path = \"tmp/gpt_response_few_cwe_train_df.pkl\"\n",
    "DELAY = 60 \n",
    "#test_df['gpt_response'] = None\n",
    "while not test_df[test_df.gpt_response.isna()].empty and retries < max_retries :\n",
    "    # Get indices of rows needing processing\n",
    "    na_indices = test_df[test_df.gpt_response.isna()].index\n",
    "    \n",
    "    if len(na_indices) == 0:\n",
    "        break\n",
    "    \n",
    "    # Process ONLY those rows and assign directly to original DF\n",
    "    test_df.loc[na_indices, 'gpt_response'] = \\\n",
    "        test_df.loc[na_indices, 'issue_msg'].parallel_apply(gpt_classify)\n",
    "    \n",
    "    with open(file_path, \"wb\") as file:  # 'wb' mode writes in binary format\n",
    "        pickle.dump(test_df, file)\n",
    "    retries += 1\n",
    "    print(f\"Retry {retries}: Processed {len(na_indices)} rows\")\n",
    "    time.sleep(DELAY)"
   ]
  },
  {
   "cell_type": "code",
   "execution_count": 11,
   "id": "31d0b283e72af700",
   "metadata": {
    "ExecuteTime": {
     "end_time": "2024-08-13T07:46:13.088428Z",
     "start_time": "2024-08-13T07:46:13.070303Z"
    }
   },
   "outputs": [
    {
     "data": {
      "text/html": [
       "<div>\n",
       "<style scoped>\n",
       "    .dataframe tbody tr th:only-of-type {\n",
       "        vertical-align: middle;\n",
       "    }\n",
       "\n",
       "    .dataframe tbody tr th {\n",
       "        vertical-align: top;\n",
       "    }\n",
       "\n",
       "    .dataframe thead th {\n",
       "        text-align: right;\n",
       "    }\n",
       "</style>\n",
       "<table border=\"1\" class=\"dataframe\">\n",
       "  <thead>\n",
       "    <tr style=\"text-align: right;\">\n",
       "      <th></th>\n",
       "      <th>cve_id</th>\n",
       "      <th>cve_published</th>\n",
       "      <th>cve_descriptions</th>\n",
       "      <th>cve_metrics</th>\n",
       "      <th>cve_references</th>\n",
       "      <th>cve_configurations</th>\n",
       "      <th>cve_primary_cwe</th>\n",
       "      <th>cve_tags</th>\n",
       "      <th>issue_owner_repo</th>\n",
       "      <th>issue_body</th>\n",
       "      <th>...</th>\n",
       "      <th>issue_updated_at</th>\n",
       "      <th>issue_html_url</th>\n",
       "      <th>issue_github_id</th>\n",
       "      <th>issue_number</th>\n",
       "      <th>label</th>\n",
       "      <th>issue_msg</th>\n",
       "      <th>issue_msg_n_tokens</th>\n",
       "      <th>issue_embedding</th>\n",
       "      <th>__index_level_0__</th>\n",
       "      <th>gpt_response</th>\n",
       "    </tr>\n",
       "  </thead>\n",
       "  <tbody>\n",
       "    <tr>\n",
       "      <th>6030</th>\n",
       "      <td>CVE-2022-34000</td>\n",
       "      <td>2022-06-19T20:15:08.243</td>\n",
       "      <td>libjxl 0.6.1 has an assertion failure in LowMe...</td>\n",
       "      <td>{'cvssMetricV2': [{'acInsufInfo': False, 'base...</td>\n",
       "      <td>[{'source': 'cve@mitre.org', 'tags': ['Exploit...</td>\n",
       "      <td>[{'nodes': [{'cpeMatch': array([{'criteria': '...</td>\n",
       "      <td>617</td>\n",
       "      <td>[Exploit, Issue Tracking, Patch, Third Party A...</td>\n",
       "      <td>[libjxl, libjxl]</td>\n",
       "      <td>## desc\\r\\nThere is a assert failure in libjxl...</td>\n",
       "      <td>...</td>\n",
       "      <td>2022-09-26T08:10:29Z</td>\n",
       "      <td>https://github.com/libjxl/libjxl/issues/1477</td>\n",
       "      <td>1261520060</td>\n",
       "      <td>1477</td>\n",
       "      <td>True</td>\n",
       "      <td>This is a GitHub Issue\\nrepo:libjxl\\nowner:lib...</td>\n",
       "      <td>2379</td>\n",
       "      <td>[-0.00391628872603178, 0.018415294587612152, -...</td>\n",
       "      <td>2506</td>\n",
       "      <td>{\"gpt_description\":\"The issue describes an ass...</td>\n",
       "    </tr>\n",
       "    <tr>\n",
       "      <th>9421</th>\n",
       "      <td>None</td>\n",
       "      <td>None</td>\n",
       "      <td>None</td>\n",
       "      <td>None</td>\n",
       "      <td>None</td>\n",
       "      <td>None</td>\n",
       "      <td>No_CWE</td>\n",
       "      <td>None</td>\n",
       "      <td>[strukturag, libde265]</td>\n",
       "      <td>When I run enc265 binary with the main sample ...</td>\n",
       "      <td>...</td>\n",
       "      <td>2024-02-28T08:16:06Z</td>\n",
       "      <td>https://github.com/strukturag/libde265/issues/449</td>\n",
       "      <td>2158366957</td>\n",
       "      <td>449</td>\n",
       "      <td>False</td>\n",
       "      <td>This is a GitHub Issue\\nrepo:libde265\\nowner:s...</td>\n",
       "      <td>776</td>\n",
       "      <td>[-0.007609690073877573, 0.04152611643075943, -...</td>\n",
       "      <td>6595</td>\n",
       "      <td>{\"gpt_description\":\"The issue describes a cras...</td>\n",
       "    </tr>\n",
       "    <tr>\n",
       "      <th>14</th>\n",
       "      <td>CVE-2021-40574</td>\n",
       "      <td>2022-01-13T19:15:08.317</td>\n",
       "      <td>The binary MP4Box in Gpac 1.0.1 has a double-f...</td>\n",
       "      <td>{'cvssMetricV2': [{'acInsufInfo': False, 'base...</td>\n",
       "      <td>[{'source': 'cve@mitre.org', 'tags': ['Patch',...</td>\n",
       "      <td>[{'nodes': [{'cpeMatch': array([{'criteria': '...</td>\n",
       "      <td>415</td>\n",
       "      <td>[Exploit, Issue Tracking, Third Party Advisory]</td>\n",
       "      <td>[gpac, gpac]</td>\n",
       "      <td>- [x] I looked for a similar issue and couldn'...</td>\n",
       "      <td>...</td>\n",
       "      <td>2021-08-30T15:33:45Z</td>\n",
       "      <td>https://github.com/gpac/gpac/issues/1897</td>\n",
       "      <td>980128523</td>\n",
       "      <td>1897</td>\n",
       "      <td>True</td>\n",
       "      <td>This is a GitHub Issue\\nrepo:gpac\\nowner:gpac\\...</td>\n",
       "      <td>2637</td>\n",
       "      <td>[-0.019911469891667366, 0.03988103196024895, -...</td>\n",
       "      <td>1930</td>\n",
       "      <td>{\"gpt_description\":\"The issue describes a buff...</td>\n",
       "    </tr>\n",
       "  </tbody>\n",
       "</table>\n",
       "<p>3 rows × 24 columns</p>\n",
       "</div>"
      ],
      "text/plain": [
       "              cve_id            cve_published  \\\n",
       "6030  CVE-2022-34000  2022-06-19T20:15:08.243   \n",
       "9421            None                     None   \n",
       "14    CVE-2021-40574  2022-01-13T19:15:08.317   \n",
       "\n",
       "                                       cve_descriptions  \\\n",
       "6030  libjxl 0.6.1 has an assertion failure in LowMe...   \n",
       "9421                                               None   \n",
       "14    The binary MP4Box in Gpac 1.0.1 has a double-f...   \n",
       "\n",
       "                                            cve_metrics  \\\n",
       "6030  {'cvssMetricV2': [{'acInsufInfo': False, 'base...   \n",
       "9421                                               None   \n",
       "14    {'cvssMetricV2': [{'acInsufInfo': False, 'base...   \n",
       "\n",
       "                                         cve_references  \\\n",
       "6030  [{'source': 'cve@mitre.org', 'tags': ['Exploit...   \n",
       "9421                                               None   \n",
       "14    [{'source': 'cve@mitre.org', 'tags': ['Patch',...   \n",
       "\n",
       "                                     cve_configurations cve_primary_cwe  \\\n",
       "6030  [{'nodes': [{'cpeMatch': array([{'criteria': '...             617   \n",
       "9421                                               None          No_CWE   \n",
       "14    [{'nodes': [{'cpeMatch': array([{'criteria': '...             415   \n",
       "\n",
       "                                               cve_tags  \\\n",
       "6030  [Exploit, Issue Tracking, Patch, Third Party A...   \n",
       "9421                                               None   \n",
       "14      [Exploit, Issue Tracking, Third Party Advisory]   \n",
       "\n",
       "            issue_owner_repo  \\\n",
       "6030        [libjxl, libjxl]   \n",
       "9421  [strukturag, libde265]   \n",
       "14              [gpac, gpac]   \n",
       "\n",
       "                                             issue_body  ...  \\\n",
       "6030  ## desc\\r\\nThere is a assert failure in libjxl...  ...   \n",
       "9421  When I run enc265 binary with the main sample ...  ...   \n",
       "14    - [x] I looked for a similar issue and couldn'...  ...   \n",
       "\n",
       "          issue_updated_at                                     issue_html_url  \\\n",
       "6030  2022-09-26T08:10:29Z       https://github.com/libjxl/libjxl/issues/1477   \n",
       "9421  2024-02-28T08:16:06Z  https://github.com/strukturag/libde265/issues/449   \n",
       "14    2021-08-30T15:33:45Z           https://github.com/gpac/gpac/issues/1897   \n",
       "\n",
       "      issue_github_id issue_number  label  \\\n",
       "6030       1261520060         1477   True   \n",
       "9421       2158366957          449  False   \n",
       "14          980128523         1897   True   \n",
       "\n",
       "                                              issue_msg  issue_msg_n_tokens  \\\n",
       "6030  This is a GitHub Issue\\nrepo:libjxl\\nowner:lib...                2379   \n",
       "9421  This is a GitHub Issue\\nrepo:libde265\\nowner:s...                 776   \n",
       "14    This is a GitHub Issue\\nrepo:gpac\\nowner:gpac\\...                2637   \n",
       "\n",
       "                                        issue_embedding  __index_level_0__  \\\n",
       "6030  [-0.00391628872603178, 0.018415294587612152, -...               2506   \n",
       "9421  [-0.007609690073877573, 0.04152611643075943, -...               6595   \n",
       "14    [-0.019911469891667366, 0.03988103196024895, -...               1930   \n",
       "\n",
       "                                           gpt_response  \n",
       "6030  {\"gpt_description\":\"The issue describes an ass...  \n",
       "9421  {\"gpt_description\":\"The issue describes a cras...  \n",
       "14    {\"gpt_description\":\"The issue describes a buff...  \n",
       "\n",
       "[3 rows x 24 columns]"
      ]
     },
     "execution_count": 11,
     "metadata": {},
     "output_type": "execute_result"
    }
   ],
   "source": [
    "test_df.sample(3)"
   ]
  },
  {
   "cell_type": "code",
   "execution_count": 10,
   "id": "d216d4b4",
   "metadata": {},
   "outputs": [
    {
     "data": {
      "text/plain": [
       "12643"
      ]
     },
     "execution_count": 10,
     "metadata": {},
     "output_type": "execute_result"
    }
   ],
   "source": [
    "len(test_df[~test_df.gpt_response.isna()])"
   ]
  },
  {
   "cell_type": "code",
   "execution_count": 12,
   "id": "84a4ed39da666bd",
   "metadata": {
    "ExecuteTime": {
     "end_time": "2024-08-13T07:46:13.095314Z",
     "start_time": "2024-08-13T07:46:13.089247Z"
    }
   },
   "outputs": [],
   "source": [
    "import json\n",
    "import pandas as pd\n",
    "\n",
    "test_df['gpt_response'] = test_df['gpt_response'].map(\n",
    "    lambda x: json.loads(x) if pd.notna(x) else None\n",
    ")"
   ]
  },
  {
   "cell_type": "code",
   "execution_count": 13,
   "id": "59c0c40356e9791c",
   "metadata": {
    "ExecuteTime": {
     "end_time": "2024-08-13T07:46:13.110070Z",
     "start_time": "2024-08-13T07:46:13.096869Z"
    }
   },
   "outputs": [],
   "source": [
    "import pandas as pd\n",
    "\n",
    "tmp = pd.json_normalize(test_df[\"gpt_response\"])\n",
    "test_df = pd.concat([test_df.drop(columns=[\"gpt_response\"]), tmp], axis=1)"
   ]
  },
  {
   "cell_type": "code",
   "execution_count": 14,
   "id": "f516c66c9f94e841",
   "metadata": {
    "ExecuteTime": {
     "end_time": "2024-08-13T07:46:13.119327Z",
     "start_time": "2024-08-13T07:46:13.111094Z"
    }
   },
   "outputs": [
    {
     "data": {
      "text/html": [
       "<div>\n",
       "<style scoped>\n",
       "    .dataframe tbody tr th:only-of-type {\n",
       "        vertical-align: middle;\n",
       "    }\n",
       "\n",
       "    .dataframe tbody tr th {\n",
       "        vertical-align: top;\n",
       "    }\n",
       "\n",
       "    .dataframe thead th {\n",
       "        text-align: right;\n",
       "    }\n",
       "</style>\n",
       "<table border=\"1\" class=\"dataframe\">\n",
       "  <thead>\n",
       "    <tr style=\"text-align: right;\">\n",
       "      <th></th>\n",
       "      <th>cve_id</th>\n",
       "      <th>cve_published</th>\n",
       "      <th>cve_descriptions</th>\n",
       "      <th>cve_metrics</th>\n",
       "      <th>cve_references</th>\n",
       "      <th>cve_configurations</th>\n",
       "      <th>cve_primary_cwe</th>\n",
       "      <th>cve_tags</th>\n",
       "      <th>issue_owner_repo</th>\n",
       "      <th>issue_body</th>\n",
       "      <th>...</th>\n",
       "      <th>issue_number</th>\n",
       "      <th>label</th>\n",
       "      <th>issue_msg</th>\n",
       "      <th>issue_msg_n_tokens</th>\n",
       "      <th>issue_embedding</th>\n",
       "      <th>__index_level_0__</th>\n",
       "      <th>gpt_description</th>\n",
       "      <th>gpt_vulnerability</th>\n",
       "      <th>gpt_confidence</th>\n",
       "      <th>gpt_is_relevant</th>\n",
       "    </tr>\n",
       "  </thead>\n",
       "  <tbody>\n",
       "    <tr>\n",
       "      <th>4130</th>\n",
       "      <td>None</td>\n",
       "      <td>None</td>\n",
       "      <td>None</td>\n",
       "      <td>None</td>\n",
       "      <td>None</td>\n",
       "      <td>None</td>\n",
       "      <td>No_CWE</td>\n",
       "      <td>None</td>\n",
       "      <td>[zeromq, libzmq]</td>\n",
       "      <td>Hey everyone, \\r\\nSorry for creating another i...</td>\n",
       "      <td>...</td>\n",
       "      <td>4766</td>\n",
       "      <td>False</td>\n",
       "      <td>This is a GitHub Issue\\nrepo:libzmq\\nowner:zer...</td>\n",
       "      <td>4047</td>\n",
       "      <td>[0.007064376957714558, 0.009980733506381512, -...</td>\n",
       "      <td>16902</td>\n",
       "      <td>The issue describes a problem with message los...</td>\n",
       "      <td>None</td>\n",
       "      <td>3</td>\n",
       "      <td>False</td>\n",
       "    </tr>\n",
       "  </tbody>\n",
       "</table>\n",
       "<p>1 rows × 27 columns</p>\n",
       "</div>"
      ],
      "text/plain": [
       "     cve_id cve_published cve_descriptions cve_metrics cve_references  \\\n",
       "4130   None          None             None        None           None   \n",
       "\n",
       "     cve_configurations cve_primary_cwe cve_tags  issue_owner_repo  \\\n",
       "4130               None          No_CWE     None  [zeromq, libzmq]   \n",
       "\n",
       "                                             issue_body  ... issue_number  \\\n",
       "4130  Hey everyone, \\r\\nSorry for creating another i...  ...         4766   \n",
       "\n",
       "      label                                          issue_msg  \\\n",
       "4130  False  This is a GitHub Issue\\nrepo:libzmq\\nowner:zer...   \n",
       "\n",
       "     issue_msg_n_tokens                                    issue_embedding  \\\n",
       "4130               4047  [0.007064376957714558, 0.009980733506381512, -...   \n",
       "\n",
       "     __index_level_0__                                    gpt_description  \\\n",
       "4130             16902  The issue describes a problem with message los...   \n",
       "\n",
       "      gpt_vulnerability  gpt_confidence gpt_is_relevant  \n",
       "4130               None               3           False  \n",
       "\n",
       "[1 rows x 27 columns]"
      ]
     },
     "execution_count": 14,
     "metadata": {},
     "output_type": "execute_result"
    }
   ],
   "source": [
    "test_df.sample(1)"
   ]
  },
  {
   "cell_type": "code",
   "execution_count": 15,
   "id": "9d97c5a64e2e6d29",
   "metadata": {
    "ExecuteTime": {
     "end_time": "2024-08-13T07:46:39.325693Z",
     "start_time": "2024-08-13T07:46:13.120167Z"
    }
   },
   "outputs": [
    {
     "data": {
      "application/vnd.jupyter.widget-view+json": {
       "model_id": "000c71ddbf7446a1a9c0e60acfa175f1",
       "version_major": 2,
       "version_minor": 0
      },
      "text/plain": [
       "Uploading the dataset shards:   0%|          | 0/1 [00:00<?, ?it/s]"
      ]
     },
     "metadata": {},
     "output_type": "display_data"
    },
    {
     "data": {
      "application/vnd.jupyter.widget-view+json": {
       "model_id": "bf435f08c1ba40fbb27bde4e94f9d4dd",
       "version_major": 2,
       "version_minor": 0
      },
      "text/plain": [
       "Creating parquet from Arrow format:   0%|          | 0/13 [00:00<?, ?ba/s]"
      ]
     },
     "metadata": {},
     "output_type": "display_data"
    },
    {
     "data": {
      "text/plain": [
       "CommitInfo(commit_url='https://huggingface.co/datasets/Eathus/github-issues-vul-max-detection-gpt-few-results/commit/47bb2af1611664b04d3ea5e93091d7b60d12e0f1', commit_message='Upload dataset', commit_description='', oid='47bb2af1611664b04d3ea5e93091d7b60d12e0f1', pr_url=None, repo_url=RepoUrl('https://huggingface.co/datasets/Eathus/github-issues-vul-max-detection-gpt-few-results', endpoint='https://huggingface.co', repo_type='dataset', repo_id='Eathus/github-issues-vul-max-detection-gpt-few-results'), pr_revision=None, pr_num=None)"
      ]
     },
     "execution_count": 15,
     "metadata": {},
     "output_type": "execute_result"
    }
   ],
   "source": [
    "from datasets import Dataset\n",
    "\n",
    "# test\n",
    "ds = Dataset.from_pandas(test_df)\n",
    "ds.push_to_hub(\"Eathus/github-issues-vul-max-detection-gpt-few-results\", split=\"train\")"
   ]
  },
  {
   "cell_type": "code",
   "execution_count": 16,
   "id": "746bd0f2",
   "metadata": {},
   "outputs": [
    {
     "data": {
      "text/html": [
       "<div>\n",
       "<style scoped>\n",
       "    .dataframe tbody tr th:only-of-type {\n",
       "        vertical-align: middle;\n",
       "    }\n",
       "\n",
       "    .dataframe tbody tr th {\n",
       "        vertical-align: top;\n",
       "    }\n",
       "\n",
       "    .dataframe thead th {\n",
       "        text-align: right;\n",
       "    }\n",
       "</style>\n",
       "<table border=\"1\" class=\"dataframe\">\n",
       "  <thead>\n",
       "    <tr style=\"text-align: right;\">\n",
       "      <th></th>\n",
       "      <th>cve_id</th>\n",
       "      <th>cve_published</th>\n",
       "      <th>cve_descriptions</th>\n",
       "      <th>cve_metrics</th>\n",
       "      <th>cve_references</th>\n",
       "      <th>cve_configurations</th>\n",
       "      <th>cve_primary_cwe</th>\n",
       "      <th>cve_tags</th>\n",
       "      <th>issue_owner_repo</th>\n",
       "      <th>issue_body</th>\n",
       "      <th>...</th>\n",
       "      <th>issue_number</th>\n",
       "      <th>label</th>\n",
       "      <th>issue_msg</th>\n",
       "      <th>issue_msg_n_tokens</th>\n",
       "      <th>issue_embedding</th>\n",
       "      <th>__index_level_0__</th>\n",
       "      <th>gpt_description</th>\n",
       "      <th>gpt_vulnerability</th>\n",
       "      <th>gpt_confidence</th>\n",
       "      <th>gpt_is_relevant</th>\n",
       "    </tr>\n",
       "  </thead>\n",
       "  <tbody>\n",
       "    <tr>\n",
       "      <th>0</th>\n",
       "      <td>None</td>\n",
       "      <td>None</td>\n",
       "      <td>None</td>\n",
       "      <td>None</td>\n",
       "      <td>None</td>\n",
       "      <td>None</td>\n",
       "      <td>No_CWE</td>\n",
       "      <td>None</td>\n",
       "      <td>[jerryscript-project, jerryscript]</td>\n",
       "      <td>https://openj9-jenkins.osuosl.org/job/Test_ope...</td>\n",
       "      <td>...</td>\n",
       "      <td>18809</td>\n",
       "      <td>False</td>\n",
       "      <td>This is a GitHub Issue\\nrepo:jerryscript\\nowne...</td>\n",
       "      <td>1433</td>\n",
       "      <td>[0.03234964236617088, -0.013492912985384464, -...</td>\n",
       "      <td>5427</td>\n",
       "      <td>The issue describes a failure in a Java test c...</td>\n",
       "      <td>None</td>\n",
       "      <td>3</td>\n",
       "      <td>False</td>\n",
       "    </tr>\n",
       "    <tr>\n",
       "      <th>1</th>\n",
       "      <td>None</td>\n",
       "      <td>None</td>\n",
       "      <td>None</td>\n",
       "      <td>None</td>\n",
       "      <td>None</td>\n",
       "      <td>None</td>\n",
       "      <td>No_CWE</td>\n",
       "      <td>None</td>\n",
       "      <td>[wasm3, wasm3]</td>\n",
       "      <td>### Description\\r\\nwasm3 does not enforce type...</td>\n",
       "      <td>...</td>\n",
       "      <td>522</td>\n",
       "      <td>False</td>\n",
       "      <td>This is a GitHub Issue\\nrepo:wasm3\\nowner:wasm...</td>\n",
       "      <td>1499</td>\n",
       "      <td>[0.01817885786294937, 0.010736639611423016, -0...</td>\n",
       "      <td>13572</td>\n",
       "      <td>The issue describes a lack of type validation ...</td>\n",
       "      <td># Type Confusion Vulnerability\\n\\n## Descripti...</td>\n",
       "      <td>5</td>\n",
       "      <td>True</td>\n",
       "    </tr>\n",
       "    <tr>\n",
       "      <th>2</th>\n",
       "      <td>None</td>\n",
       "      <td>None</td>\n",
       "      <td>None</td>\n",
       "      <td>None</td>\n",
       "      <td>None</td>\n",
       "      <td>None</td>\n",
       "      <td>No_CWE</td>\n",
       "      <td>None</td>\n",
       "      <td>[OctopusDeploy, Issues]</td>\n",
       "      <td>### Severity\\n\\n_No response_\\n\\n### Version\\n...</td>\n",
       "      <td>...</td>\n",
       "      <td>9220</td>\n",
       "      <td>False</td>\n",
       "      <td>This is a GitHub Issue\\nrepo:Issues\\nowner:Oct...</td>\n",
       "      <td>1186</td>\n",
       "      <td>[-0.02857031486928463, 0.006708947010338306, -...</td>\n",
       "      <td>10122</td>\n",
       "      <td>The issue describes a problem with auto-deploy...</td>\n",
       "      <td>None</td>\n",
       "      <td>3</td>\n",
       "      <td>False</td>\n",
       "    </tr>\n",
       "    <tr>\n",
       "      <th>3</th>\n",
       "      <td>CVE-2018-20723</td>\n",
       "      <td>2019-01-16T16:29:00.510</td>\n",
       "      <td>A cross-site scripting (XSS) vulnerability exi...</td>\n",
       "      <td>{'cvssMetricV2': [{'acInsufInfo': False, 'base...</td>\n",
       "      <td>[{'source': 'cve@mitre.org', 'tags': None, 'ur...</td>\n",
       "      <td>[{'nodes': [{'cpeMatch': array([{'criteria': '...</td>\n",
       "      <td>79</td>\n",
       "      <td>[Exploit, Issue Tracking, Third Party Advisory]</td>\n",
       "      <td>[Cacti, cacti]</td>\n",
       "      <td>**Description** - \\r\\nThere's no escape being ...</td>\n",
       "      <td>...</td>\n",
       "      <td>2215</td>\n",
       "      <td>True</td>\n",
       "      <td>This is a GitHub Issue\\nrepo:cacti\\nowner:Cact...</td>\n",
       "      <td>928</td>\n",
       "      <td>[-0.03691984713077545, -0.010362207889556885, ...</td>\n",
       "      <td>127</td>\n",
       "      <td>The issue describes a stored Cross-Site Script...</td>\n",
       "      <td># Stored Cross-Site Scripting (XSS)\\n\\n## Desc...</td>\n",
       "      <td>5</td>\n",
       "      <td>True</td>\n",
       "    </tr>\n",
       "    <tr>\n",
       "      <th>4</th>\n",
       "      <td>None</td>\n",
       "      <td>None</td>\n",
       "      <td>None</td>\n",
       "      <td>None</td>\n",
       "      <td>None</td>\n",
       "      <td>None</td>\n",
       "      <td>No_CWE</td>\n",
       "      <td>None</td>\n",
       "      <td>[WebAssembly, binaryen]</td>\n",
       "      <td>wasm-opt crashes when I try to optimize the Wa...</td>\n",
       "      <td>...</td>\n",
       "      <td>7053</td>\n",
       "      <td>False</td>\n",
       "      <td>This is a GitHub Issue\\nrepo:binaryen\\nowner:W...</td>\n",
       "      <td>876</td>\n",
       "      <td>[-0.03437240794301033, -0.004714954644441605, ...</td>\n",
       "      <td>9450</td>\n",
       "      <td>The issue describes a crash in the wasm-opt to...</td>\n",
       "      <td>None</td>\n",
       "      <td>4</td>\n",
       "      <td>False</td>\n",
       "    </tr>\n",
       "    <tr>\n",
       "      <th>...</th>\n",
       "      <td>...</td>\n",
       "      <td>...</td>\n",
       "      <td>...</td>\n",
       "      <td>...</td>\n",
       "      <td>...</td>\n",
       "      <td>...</td>\n",
       "      <td>...</td>\n",
       "      <td>...</td>\n",
       "      <td>...</td>\n",
       "      <td>...</td>\n",
       "      <td>...</td>\n",
       "      <td>...</td>\n",
       "      <td>...</td>\n",
       "      <td>...</td>\n",
       "      <td>...</td>\n",
       "      <td>...</td>\n",
       "      <td>...</td>\n",
       "      <td>...</td>\n",
       "      <td>...</td>\n",
       "      <td>...</td>\n",
       "      <td>...</td>\n",
       "    </tr>\n",
       "    <tr>\n",
       "      <th>12638</th>\n",
       "      <td>None</td>\n",
       "      <td>None</td>\n",
       "      <td>None</td>\n",
       "      <td>None</td>\n",
       "      <td>None</td>\n",
       "      <td>None</td>\n",
       "      <td>No_CWE</td>\n",
       "      <td>None</td>\n",
       "      <td>[Chanzhaoyu, chatgpt-web]</td>\n",
       "      <td>现在的布局是用naiveUI的layout构成的吧，想尝试自己改变布局发现改不了，如何在最左...</td>\n",
       "      <td>...</td>\n",
       "      <td>2117</td>\n",
       "      <td>False</td>\n",
       "      <td>This is a GitHub Issue\\nrepo:chatgpt-web\\nowne...</td>\n",
       "      <td>195</td>\n",
       "      <td>[0.02314615063369274, 0.014598208479583263, -0...</td>\n",
       "      <td>21556</td>\n",
       "      <td>The issue is a request for assistance in modif...</td>\n",
       "      <td>None</td>\n",
       "      <td>1</td>\n",
       "      <td>False</td>\n",
       "    </tr>\n",
       "    <tr>\n",
       "      <th>12639</th>\n",
       "      <td>None</td>\n",
       "      <td>None</td>\n",
       "      <td>None</td>\n",
       "      <td>None</td>\n",
       "      <td>None</td>\n",
       "      <td>None</td>\n",
       "      <td>No_CWE</td>\n",
       "      <td>None</td>\n",
       "      <td>[gpac, gpac]</td>\n",
       "      <td>https://openj9-jenkins.osuosl.org/job/Test_ope...</td>\n",
       "      <td>...</td>\n",
       "      <td>18809</td>\n",
       "      <td>False</td>\n",
       "      <td>This is a GitHub Issue\\nrepo:gpac\\nowner:gpac\\...</td>\n",
       "      <td>1411</td>\n",
       "      <td>[0.02873867191374302, -0.009329655207693577, -...</td>\n",
       "      <td>4534</td>\n",
       "      <td>The issue describes a failure in a Java test c...</td>\n",
       "      <td>None</td>\n",
       "      <td>3</td>\n",
       "      <td>False</td>\n",
       "    </tr>\n",
       "    <tr>\n",
       "      <th>12640</th>\n",
       "      <td>None</td>\n",
       "      <td>None</td>\n",
       "      <td>None</td>\n",
       "      <td>None</td>\n",
       "      <td>None</td>\n",
       "      <td>None</td>\n",
       "      <td>No_CWE</td>\n",
       "      <td>None</td>\n",
       "      <td>[ImageMagick, ImageMagick]</td>\n",
       "      <td>https://openj9-jenkins.osuosl.org/job/Test_ope...</td>\n",
       "      <td>...</td>\n",
       "      <td>18809</td>\n",
       "      <td>False</td>\n",
       "      <td>This is a GitHub Issue\\nrepo:ImageMagick\\nowne...</td>\n",
       "      <td>1425</td>\n",
       "      <td>[0.03024117834866047, -0.017206188291311264, -...</td>\n",
       "      <td>6025</td>\n",
       "      <td>The issue describes a failure in a Java test c...</td>\n",
       "      <td>None</td>\n",
       "      <td>2</td>\n",
       "      <td>False</td>\n",
       "    </tr>\n",
       "    <tr>\n",
       "      <th>12641</th>\n",
       "      <td>None</td>\n",
       "      <td>None</td>\n",
       "      <td>None</td>\n",
       "      <td>None</td>\n",
       "      <td>None</td>\n",
       "      <td>None</td>\n",
       "      <td>No_CWE</td>\n",
       "      <td>None</td>\n",
       "      <td>[Cacti, cacti]</td>\n",
       "      <td>im getting this in my log when every poller ru...</td>\n",
       "      <td>...</td>\n",
       "      <td>6047</td>\n",
       "      <td>False</td>\n",
       "      <td>This is a GitHub Issue\\nrepo:cacti\\nowner:Cact...</td>\n",
       "      <td>610</td>\n",
       "      <td>[-0.028580479323863983, 0.012252683751285076, ...</td>\n",
       "      <td>9352</td>\n",
       "      <td>The issue reported indicates an uncaught error...</td>\n",
       "      <td>None</td>\n",
       "      <td>4</td>\n",
       "      <td>False</td>\n",
       "    </tr>\n",
       "    <tr>\n",
       "      <th>12642</th>\n",
       "      <td>None</td>\n",
       "      <td>None</td>\n",
       "      <td>None</td>\n",
       "      <td>None</td>\n",
       "      <td>None</td>\n",
       "      <td>None</td>\n",
       "      <td>No_CWE</td>\n",
       "      <td>None</td>\n",
       "      <td>[LibreCAD, LibreCAD]</td>\n",
       "      <td>FEATURE REQUEST\\n\\nI have always felt it would...</td>\n",
       "      <td>...</td>\n",
       "      <td>2042</td>\n",
       "      <td>False</td>\n",
       "      <td>This is a GitHub Issue\\nrepo:LibreCAD\\nowner:L...</td>\n",
       "      <td>1077</td>\n",
       "      <td>[-0.02622830867767334, 0.0009009363711811602, ...</td>\n",
       "      <td>14311</td>\n",
       "      <td>This issue is a feature request for adding a s...</td>\n",
       "      <td>None</td>\n",
       "      <td>1</td>\n",
       "      <td>False</td>\n",
       "    </tr>\n",
       "  </tbody>\n",
       "</table>\n",
       "<p>12643 rows × 27 columns</p>\n",
       "</div>"
      ],
      "text/plain": [
       "               cve_id            cve_published  \\\n",
       "0                None                     None   \n",
       "1                None                     None   \n",
       "2                None                     None   \n",
       "3      CVE-2018-20723  2019-01-16T16:29:00.510   \n",
       "4                None                     None   \n",
       "...               ...                      ...   \n",
       "12638            None                     None   \n",
       "12639            None                     None   \n",
       "12640            None                     None   \n",
       "12641            None                     None   \n",
       "12642            None                     None   \n",
       "\n",
       "                                        cve_descriptions  \\\n",
       "0                                                   None   \n",
       "1                                                   None   \n",
       "2                                                   None   \n",
       "3      A cross-site scripting (XSS) vulnerability exi...   \n",
       "4                                                   None   \n",
       "...                                                  ...   \n",
       "12638                                               None   \n",
       "12639                                               None   \n",
       "12640                                               None   \n",
       "12641                                               None   \n",
       "12642                                               None   \n",
       "\n",
       "                                             cve_metrics  \\\n",
       "0                                                   None   \n",
       "1                                                   None   \n",
       "2                                                   None   \n",
       "3      {'cvssMetricV2': [{'acInsufInfo': False, 'base...   \n",
       "4                                                   None   \n",
       "...                                                  ...   \n",
       "12638                                               None   \n",
       "12639                                               None   \n",
       "12640                                               None   \n",
       "12641                                               None   \n",
       "12642                                               None   \n",
       "\n",
       "                                          cve_references  \\\n",
       "0                                                   None   \n",
       "1                                                   None   \n",
       "2                                                   None   \n",
       "3      [{'source': 'cve@mitre.org', 'tags': None, 'ur...   \n",
       "4                                                   None   \n",
       "...                                                  ...   \n",
       "12638                                               None   \n",
       "12639                                               None   \n",
       "12640                                               None   \n",
       "12641                                               None   \n",
       "12642                                               None   \n",
       "\n",
       "                                      cve_configurations cve_primary_cwe  \\\n",
       "0                                                   None          No_CWE   \n",
       "1                                                   None          No_CWE   \n",
       "2                                                   None          No_CWE   \n",
       "3      [{'nodes': [{'cpeMatch': array([{'criteria': '...              79   \n",
       "4                                                   None          No_CWE   \n",
       "...                                                  ...             ...   \n",
       "12638                                               None          No_CWE   \n",
       "12639                                               None          No_CWE   \n",
       "12640                                               None          No_CWE   \n",
       "12641                                               None          No_CWE   \n",
       "12642                                               None          No_CWE   \n",
       "\n",
       "                                              cve_tags  \\\n",
       "0                                                 None   \n",
       "1                                                 None   \n",
       "2                                                 None   \n",
       "3      [Exploit, Issue Tracking, Third Party Advisory]   \n",
       "4                                                 None   \n",
       "...                                                ...   \n",
       "12638                                             None   \n",
       "12639                                             None   \n",
       "12640                                             None   \n",
       "12641                                             None   \n",
       "12642                                             None   \n",
       "\n",
       "                         issue_owner_repo  \\\n",
       "0      [jerryscript-project, jerryscript]   \n",
       "1                          [wasm3, wasm3]   \n",
       "2                 [OctopusDeploy, Issues]   \n",
       "3                          [Cacti, cacti]   \n",
       "4                 [WebAssembly, binaryen]   \n",
       "...                                   ...   \n",
       "12638           [Chanzhaoyu, chatgpt-web]   \n",
       "12639                        [gpac, gpac]   \n",
       "12640          [ImageMagick, ImageMagick]   \n",
       "12641                      [Cacti, cacti]   \n",
       "12642                [LibreCAD, LibreCAD]   \n",
       "\n",
       "                                              issue_body  ... issue_number  \\\n",
       "0      https://openj9-jenkins.osuosl.org/job/Test_ope...  ...        18809   \n",
       "1      ### Description\\r\\nwasm3 does not enforce type...  ...          522   \n",
       "2      ### Severity\\n\\n_No response_\\n\\n### Version\\n...  ...         9220   \n",
       "3      **Description** - \\r\\nThere's no escape being ...  ...         2215   \n",
       "4      wasm-opt crashes when I try to optimize the Wa...  ...         7053   \n",
       "...                                                  ...  ...          ...   \n",
       "12638  现在的布局是用naiveUI的layout构成的吧，想尝试自己改变布局发现改不了，如何在最左...  ...         2117   \n",
       "12639  https://openj9-jenkins.osuosl.org/job/Test_ope...  ...        18809   \n",
       "12640  https://openj9-jenkins.osuosl.org/job/Test_ope...  ...        18809   \n",
       "12641  im getting this in my log when every poller ru...  ...         6047   \n",
       "12642  FEATURE REQUEST\\n\\nI have always felt it would...  ...         2042   \n",
       "\n",
       "       label                                          issue_msg  \\\n",
       "0      False  This is a GitHub Issue\\nrepo:jerryscript\\nowne...   \n",
       "1      False  This is a GitHub Issue\\nrepo:wasm3\\nowner:wasm...   \n",
       "2      False  This is a GitHub Issue\\nrepo:Issues\\nowner:Oct...   \n",
       "3       True  This is a GitHub Issue\\nrepo:cacti\\nowner:Cact...   \n",
       "4      False  This is a GitHub Issue\\nrepo:binaryen\\nowner:W...   \n",
       "...      ...                                                ...   \n",
       "12638  False  This is a GitHub Issue\\nrepo:chatgpt-web\\nowne...   \n",
       "12639  False  This is a GitHub Issue\\nrepo:gpac\\nowner:gpac\\...   \n",
       "12640  False  This is a GitHub Issue\\nrepo:ImageMagick\\nowne...   \n",
       "12641  False  This is a GitHub Issue\\nrepo:cacti\\nowner:Cact...   \n",
       "12642  False  This is a GitHub Issue\\nrepo:LibreCAD\\nowner:L...   \n",
       "\n",
       "      issue_msg_n_tokens                                    issue_embedding  \\\n",
       "0                   1433  [0.03234964236617088, -0.013492912985384464, -...   \n",
       "1                   1499  [0.01817885786294937, 0.010736639611423016, -0...   \n",
       "2                   1186  [-0.02857031486928463, 0.006708947010338306, -...   \n",
       "3                    928  [-0.03691984713077545, -0.010362207889556885, ...   \n",
       "4                    876  [-0.03437240794301033, -0.004714954644441605, ...   \n",
       "...                  ...                                                ...   \n",
       "12638                195  [0.02314615063369274, 0.014598208479583263, -0...   \n",
       "12639               1411  [0.02873867191374302, -0.009329655207693577, -...   \n",
       "12640               1425  [0.03024117834866047, -0.017206188291311264, -...   \n",
       "12641                610  [-0.028580479323863983, 0.012252683751285076, ...   \n",
       "12642               1077  [-0.02622830867767334, 0.0009009363711811602, ...   \n",
       "\n",
       "      __index_level_0__                                    gpt_description  \\\n",
       "0                  5427  The issue describes a failure in a Java test c...   \n",
       "1                 13572  The issue describes a lack of type validation ...   \n",
       "2                 10122  The issue describes a problem with auto-deploy...   \n",
       "3                   127  The issue describes a stored Cross-Site Script...   \n",
       "4                  9450  The issue describes a crash in the wasm-opt to...   \n",
       "...                 ...                                                ...   \n",
       "12638             21556  The issue is a request for assistance in modif...   \n",
       "12639              4534  The issue describes a failure in a Java test c...   \n",
       "12640              6025  The issue describes a failure in a Java test c...   \n",
       "12641              9352  The issue reported indicates an uncaught error...   \n",
       "12642             14311  This issue is a feature request for adding a s...   \n",
       "\n",
       "                                       gpt_vulnerability  gpt_confidence  \\\n",
       "0                                                   None               3   \n",
       "1      # Type Confusion Vulnerability\\n\\n## Descripti...               5   \n",
       "2                                                   None               3   \n",
       "3      # Stored Cross-Site Scripting (XSS)\\n\\n## Desc...               5   \n",
       "4                                                   None               4   \n",
       "...                                                  ...             ...   \n",
       "12638                                               None               1   \n",
       "12639                                               None               3   \n",
       "12640                                               None               2   \n",
       "12641                                               None               4   \n",
       "12642                                               None               1   \n",
       "\n",
       "      gpt_is_relevant  \n",
       "0               False  \n",
       "1                True  \n",
       "2               False  \n",
       "3                True  \n",
       "4               False  \n",
       "...               ...  \n",
       "12638           False  \n",
       "12639           False  \n",
       "12640           False  \n",
       "12641           False  \n",
       "12642           False  \n",
       "\n",
       "[12643 rows x 27 columns]"
      ]
     },
     "execution_count": 16,
     "metadata": {},
     "output_type": "execute_result"
    }
   ],
   "source": [
    "test_df[~test_df.issue_msg.isna()]"
   ]
  },
  {
   "cell_type": "code",
   "execution_count": 32,
   "id": "0366a92d",
   "metadata": {},
   "outputs": [
    {
     "data": {
      "text/markdown": [
       "# Improper Limitation of a Pathname to a Restricted Directory ('Path Traversal')\n",
       "\n",
       "## Summary\n",
       "The product does not properly validate input, allowing an attacker to access memory outside of the intended bounds, leading to a segmentation fault.\n",
       "\n",
       "## Extended Description\n",
       "Segmentation faults occur when a program attempts to read or write to a memory location that it is not allowed to access. This can happen due to various reasons, including improper handling of user input, such as array indices that exceed the allocated size. In this case, the JavaScript code provided as input causes the interpreter to attempt to access an invalid memory location, which can lead to crashes or other unintended behavior. This type of vulnerability can be exploited by attackers to cause denial of service or potentially execute arbitrary code if they can control the input.\n",
       "\n",
       "## Demonstrative Example\n",
       "\n",
       "### Intro\n",
       "The following code attempts to access an array element based on user input without validating the index.\n",
       "\n",
       "### Vulnerable Code\n",
       "```c\n",
       "int arr[10];\n",
       "int index = get_user_input(); // Assume this function gets an index from user input\n",
       "if (index < 0 || index >= 10) {\n",
       "    // No validation, potential out-of-bounds access\n",
       "}\n",
       "int value = arr[index]; // This line can cause a segmentation fault if index is out of bounds\n",
       "```\n",
       "\n",
       "### Analysis\n",
       "In the example above, if the user provides an index that is less than 0 or greater than or equal to 10, the program will attempt to access memory outside the bounds of the array, leading to a segmentation fault. This is similar to the issue described in the GitHub report, where the JavaScript input causes the interpreter to access invalid memory, resulting in a crash."
      ],
      "text/plain": [
       "<IPython.core.display.Markdown object>"
      ]
     },
     "metadata": {},
     "output_type": "display_data"
    }
   ],
   "source": [
    "display(Markdown('''# Improper Limitation of a Pathname to a Restricted Directory ('Path Traversal')\n",
    "\n",
    "## Summary\n",
    "The product does not properly validate input, allowing an attacker to access memory outside of the intended bounds, leading to a segmentation fault.\n",
    "\n",
    "## Extended Description\n",
    "Segmentation faults occur when a program attempts to read or write to a memory location that it is not allowed to access. This can happen due to various reasons, including improper handling of user input, such as array indices that exceed the allocated size. In this case, the JavaScript code provided as input causes the interpreter to attempt to access an invalid memory location, which can lead to crashes or other unintended behavior. This type of vulnerability can be exploited by attackers to cause denial of service or potentially execute arbitrary code if they can control the input.\n",
    "\n",
    "## Demonstrative Example\n",
    "\n",
    "### Intro\n",
    "The following code attempts to access an array element based on user input without validating the index.\n",
    "\n",
    "### Vulnerable Code\n",
    "```c\n",
    "int arr[10];\n",
    "int index = get_user_input(); // Assume this function gets an index from user input\n",
    "if (index < 0 || index >= 10) {\n",
    "    // No validation, potential out-of-bounds access\n",
    "}\n",
    "int value = arr[index]; // This line can cause a segmentation fault if index is out of bounds\n",
    "```\n",
    "\n",
    "### Analysis\n",
    "In the example above, if the user provides an index that is less than 0 or greater than or equal to 10, the program will attempt to access memory outside the bounds of the array, leading to a segmentation fault. This is similar to the issue described in the GitHub report, where the JavaScript input causes the interpreter to access invalid memory, resulting in a crash.'''))"
   ]
  },
  {
   "cell_type": "markdown",
   "id": "10a4ab7aca0ecb82",
   "metadata": {},
   "source": [
    "## Results"
   ]
  },
  {
   "cell_type": "code",
   "execution_count": null,
   "id": "8c587d29",
   "metadata": {},
   "outputs": [
    {
     "data": {
      "application/vnd.jupyter.widget-view+json": {
       "model_id": "8d09ef617b7d403ab82c335f8c8d8eba",
       "version_major": 2,
       "version_minor": 0
      },
      "text/plain": [
       "README.md: 0.00B [00:00, ?B/s]"
      ]
     },
     "metadata": {},
     "output_type": "display_data"
    },
    {
     "data": {
      "application/vnd.jupyter.widget-view+json": {
       "model_id": "a1790816393447f398c20cfc40df516c",
       "version_major": 2,
       "version_minor": 0
      },
      "text/plain": [
       "train-00000-of-00001.parquet:   0%|          | 0.00/248M [00:00<?, ?B/s]"
      ]
     },
     "metadata": {},
     "output_type": "display_data"
    },
    {
     "data": {
      "application/vnd.jupyter.widget-view+json": {
       "model_id": "77457c70a8d54d659998621118c7a2e9",
       "version_major": 2,
       "version_minor": 0
      },
      "text/plain": [
       "Generating test split:   0%|          | 0/8430 [00:00<?, ? examples/s]"
      ]
     },
     "metadata": {},
     "output_type": "display_data"
    },
    {
     "data": {
      "application/vnd.jupyter.widget-view+json": {
       "model_id": "532644424271469980d63c350bbd8f37",
       "version_major": 2,
       "version_minor": 0
      },
      "text/plain": [
       "Generating train split:   0%|          | 0/12643 [00:00<?, ? examples/s]"
      ]
     },
     "metadata": {},
     "output_type": "display_data"
    }
   ],
   "source": [
    "from datasets import load_dataset\n",
    "\n",
    "test = load_dataset(\n",
    "    \"Eathus/github-issues-vul-detection-gpt-few-strict-vul-desc-results\", split=\"test\"\n",
    ")\n",
    "test_df = test.to_pandas()"
   ]
  },
  {
   "cell_type": "code",
   "execution_count": 18,
   "id": "165f13f7a5a48a6e",
   "metadata": {
    "ExecuteTime": {
     "end_time": "2024-08-13T07:46:39.413536Z",
     "start_time": "2024-08-13T07:46:39.406348Z"
    }
   },
   "outputs": [
    {
     "data": {
      "text/plain": [
       "(1904, 12643)"
      ]
     },
     "execution_count": 18,
     "metadata": {},
     "output_type": "execute_result"
    }
   ],
   "source": [
    "test_df[\n",
    "    test_df.gpt_confidence == 5\n",
    "].gpt_is_relevant.sum(), test_df.gpt_is_relevant.count()"
   ]
  },
  {
   "cell_type": "code",
   "execution_count": 19,
   "id": "5f34d14ef40bf9c9",
   "metadata": {
    "ExecuteTime": {
     "end_time": "2024-08-13T07:46:39.880648Z",
     "start_time": "2024-08-13T07:46:39.414255Z"
    }
   },
   "outputs": [
    {
     "name": "stdout",
     "output_type": "stream",
     "text": [
      "Accuracy: 0.9318199794352606\n",
      "Classification Report:\n",
      "              precision    recall  f1-score   support\n",
      "\n",
      "       False       0.98      0.93      0.96     10597\n",
      "        True       0.73      0.93      0.81      2046\n",
      "\n",
      "    accuracy                           0.93     12643\n",
      "   macro avg       0.86      0.93      0.89     12643\n",
      "weighted avg       0.94      0.93      0.93     12643\n",
      "\n"
     ]
    }
   ],
   "source": [
    "from sklearn.metrics import accuracy_score, classification_report\n",
    "\n",
    "y_test = test_df.label.values\n",
    "y_pred = test_df.gpt_is_relevant.values\n",
    "\n",
    "# Evaluate the model\n",
    "accuracy = accuracy_score(y_test, y_pred)\n",
    "report = classification_report(y_test, y_pred)\n",
    "\n",
    "print(f\"Accuracy: {accuracy}\")\n",
    "print(\"Classification Report:\")\n",
    "print(report)"
   ]
  },
  {
   "cell_type": "code",
   "execution_count": 20,
   "id": "f29f620e7a7c4517",
   "metadata": {
    "ExecuteTime": {
     "end_time": "2024-08-13T07:46:40.380057Z",
     "start_time": "2024-08-13T07:46:39.881385Z"
    }
   },
   "outputs": [
    {
     "data": {
      "text/plain": [
       "<sklearn.metrics._plot.confusion_matrix.ConfusionMatrixDisplay at 0x7717c923f220>"
      ]
     },
     "execution_count": 20,
     "metadata": {},
     "output_type": "execute_result"
    },
    {
     "data": {
      "image/png": "[encoded data removed]",
      "text/plain": [
       "<Figure size 640x480 with 2 Axes>"
      ]
     },
     "metadata": {},
     "output_type": "display_data"
    }
   ],
   "source": [
    "from sklearn.metrics import confusion_matrix, ConfusionMatrixDisplay\n",
    "\n",
    "\n",
    "cm = confusion_matrix(y_test, y_pred)\n",
    "ConfusionMatrixDisplay(cm).plot(cmap=\"Blues\")"
   ]
  },
  {
   "cell_type": "code",
   "execution_count": 21,
   "id": "7e6e6f51628bdec5",
   "metadata": {
    "ExecuteTime": {
     "end_time": "2024-08-13T07:46:40.391923Z",
     "start_time": "2024-08-13T07:46:40.382439Z"
    }
   },
   "outputs": [
    {
     "data": {
      "text/plain": [
       "count    12643.000000\n",
       "mean         3.093807\n",
       "std          1.380611\n",
       "min          1.000000\n",
       "25%          2.000000\n",
       "50%          3.000000\n",
       "75%          4.000000\n",
       "max          5.000000\n",
       "Name: gpt_confidence, dtype: float64"
      ]
     },
     "execution_count": 21,
     "metadata": {},
     "output_type": "execute_result"
    }
   ],
   "source": [
    "test_df.gpt_confidence.describe()"
   ]
  }
 ],
 "metadata": {
  "kernelspec": {
   "display_name": "mthesis_cpyenv",
   "language": "python",
   "name": "python3"
  },
  "language_info": {
   "codemirror_mode": {
    "name": "ipython",
    "version": 3
   },
   "file_extension": ".py",
   "mimetype": "text/x-python",
   "name": "python",
   "nbconvert_exporter": "python",
   "pygments_lexer": "ipython3",
   "version": "3.10.16"
  }
 },
 "nbformat": 4,
 "nbformat_minor": 5
}
