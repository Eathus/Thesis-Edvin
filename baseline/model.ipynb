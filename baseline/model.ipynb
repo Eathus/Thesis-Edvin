{
 "cells": [
  {
   "cell_type": "code",
   "execution_count": 1,
   "id": "9d286137",
   "metadata": {},
   "outputs": [],
   "source": [
    "import sys\n",
    "from pathlib import Path\n",
    "\n",
    "# Get parent directory (Thesis-Edvin)\n",
    "sys.path.append(str(Path.cwd().parent))"
   ]
  },
  {
   "cell_type": "code",
   "execution_count": 2,
   "id": "12e4b52c",
   "metadata": {},
   "outputs": [
    {
     "name": "stdout",
     "output_type": "stream",
     "text": [
      "52\n"
     ]
    }
   ],
   "source": [
    "with open(\"tmp/cwe_output.json\", \"r\") as file:\n",
    "    file_id = file.fileno()\n",
    "    print(file_id)"
   ]
  },
  {
   "cell_type": "code",
   "execution_count": 3,
   "id": "1b08e2b1",
   "metadata": {},
   "outputs": [
    {
     "name": "stdout",
     "output_type": "stream",
     "text": [
      "940\n",
      "881\n"
     ]
    }
   ],
   "source": [
    "import pandas as pd\n",
    "import json\n",
    "\n",
    "with open(\"tmp/view_CWE-1000_all_weaknesses.json\", \"r\") as file:\n",
    "    data = json.load(file)\n",
    "\n",
    "cwes = data[\"Weaknesses\"]\n",
    "print(len(cwes))\n",
    "cwes = [w for w in cwes if w[\"MappingNotes\"][\"Usage\"] != \"Prohibited\"]\n",
    "print(len(cwes))"
   ]
  },
  {
   "cell_type": "code",
   "execution_count": 4,
   "id": "025326e6",
   "metadata": {},
   "outputs": [],
   "source": [
    "import os\n",
    "from langchain_openai import ChatOpenAI\n",
    "from langchain_core.prompts import ChatPromptTemplate\n",
    "from pydantic import BaseModel, Field\n",
    "from utils import *\n",
    "\n",
    "\n",
    "class ReplySchema(BaseModel):\n",
    "    gpt_cwe: str = Field(\n",
    "        description=\"The CWE-ID (number) of the CWE entry that best fits the vulnerability description if any; otherwise, write None\"\n",
    "    )\n",
    "    gpt_cwe_confidence: int = Field(\n",
    "        description=\"An integer from 1 to 5 indicating your level of confidence  (1 = very low, 2 = low, 3 = medium, 4 = high, 5 = very high).\"\n",
    "    )\n",
    "\n",
    "\n",
    "llm = ChatOpenAI(\n",
    "    model=\"gpt-40-mini\",\n",
    "    temperature=0.0,\n",
    "    api_key=OPENAI_API_KEY_KTH,  # <- this overrides the default\n",
    ")  # maybe set max_token to 14000\n",
    "\n",
    "prompts_dict = load_prompts(os.getcwd() + \"/../utils/prompts\")\n",
    "\n",
    "prompt = ChatPromptTemplate.from_messages(\n",
    "    [(\"system\", prompts_dict[\"baseline_system_setup\"]), (\"human\", \"{desc}\")],\n",
    ")\n",
    "\n",
    "\n",
    "def parser(message: ReplySchema):\n",
    "    return message.model_dump_json()\n",
    "\n",
    "\n",
    "llm = llm.with_structured_output(ReplySchema)\n",
    "chain = prompt | llm | parser"
   ]
  },
  {
   "cell_type": "code",
   "execution_count": 5,
   "id": "a02a0f8e",
   "metadata": {},
   "outputs": [],
   "source": [
    "from utils import *\n",
    "from pandarallel import pandarallel\n",
    "from tenacity import (\n",
    "    retry,\n",
    "    stop_after_attempt,\n",
    "    wait_exponential,\n",
    "    retry_if_exception_type,\n",
    ")\n",
    "from openai import OpenAIError, RateLimitError  # Explicitly import errors\n",
    "\n",
    "\n",
    "@retry(\n",
    "    stop=stop_after_attempt(5),  # Retry up to 5 times\n",
    "    wait=wait_exponential(multiplier=2, min=1, max=60),  # Exponential backoff\n",
    "    retry=retry_if_exception_type(RateLimitError),  # Retry only on rate limit errors\n",
    ")\n",
    "def _gpt_classify(desc, cwe_entries):\n",
    "    if (\n",
    "        not desc\n",
    "        or not isinstance(desc, str)\n",
    "        or not cwe_entries\n",
    "        or not isinstance(cwe_entries, str)\n",
    "    ):  # Check for empty/invalid messages\n",
    "        return None\n",
    "    return chain.invoke(\n",
    "        {\n",
    "            \"cwe_entries\": cwe_entries,\n",
    "            \"desc\": desc,\n",
    "        }\n",
    "    )  # Adjusted for OpenAI API format\n",
    "\n",
    "\n",
    "def gpt_classify(desc, cwe_entries):\n",
    "    try:\n",
    "        return _gpt_classify(desc, cwe_entries)\n",
    "    except OpenAIError as e:  # Catch all OpenAI-specific errors\n",
    "        print(f\"OpenAI API error: {e}\")\n",
    "    except Exception as e:\n",
    "        print(f\"General error processing message: {e}\")\n",
    "    return None"
   ]
  },
  {
   "cell_type": "code",
   "execution_count": 6,
   "id": "7dcccd5b",
   "metadata": {},
   "outputs": [],
   "source": [
    "def cwe_list_to_json(cwes, indent=4):\n",
    "    return json.dumps({\"Weaknesses\": cwes}, indent=indent)"
   ]
  },
  {
   "cell_type": "code",
   "execution_count": 7,
   "id": "ff5f4318",
   "metadata": {},
   "outputs": [],
   "source": [
    "import tiktoken\n",
    "\n",
    "\n",
    "def count_tokens(text: str, model: str = \"gpt-4\", echo=False) -> int:\n",
    "    \"\"\"Count tokens for OpenAI models using tiktoken\"\"\"\n",
    "    try:\n",
    "        encoding = tiktoken.encoding_for_model(model)\n",
    "        if echo:\n",
    "            print(\"Finished encoding using model:\", model)\n",
    "    except KeyError:\n",
    "        print(\"invalid input model:\", model + \".\", \"Defaulting to cl100k_base\")\n",
    "        encoding = tiktoken.get_encoding(\"cl100k_base\")  # Fallback for most models\n",
    "    return len(encoding.encode(text))"
   ]
  },
  {
   "cell_type": "code",
   "execution_count": 8,
   "id": "dd612cbb",
   "metadata": {},
   "outputs": [
    {
     "name": "stdout",
     "output_type": "stream",
     "text": [
      "[4737, 5705, 3561, 1596, 1860, 3281, 2473, 2149, 1636, 2307, 2259, 4172, 3826, 1327, 2799, 2229, 2850, 1906, 2076, 2465, 1607, 1461, 2451, 2022, 1218, 2103, 1994, 1832, 1919, 1517, 1608, 1624, 2055, 3196, 1543, 1552, 1100, 5818, 8131, 2736, 2523, 1233, 1156, 1636, 3391, 2017, 2461, 2337, 3157, 3739, 3023, 1891, 2167, 1985, 2006, 1781, 8077, 677, 1832, 1632, 3487, 2197, 1585, 3396, 1832, 2161, 1349, 1374, 1491, 1203, 1479, 1603, 1108, 10124, 2431, 3761, 1398, 1303, 1939, 1461, 2852, 7058, 1832, 3334, 2265, 1668, 2359, 6271, 3646, 1346, 3242, 2128, 2122, 1471, 3240, 2413, 2901, 1489, 1121, 8522, 1583, 3543, 1614, 2098, 1028, 2731, 2149, 8835, 6391, 3928, 2743, 2714, 2299, 3062, 2292, 2002, 4053, 2039, 2303, 2490, 1338, 1806, 1405, 4772, 2198, 2441, 4628, 3786, 2634, 2538, 1998, 1346, 2440, 1620, 1434, 1794, 2037, 2219, 2773, 1306, 5434, 3703, 5037, 2201, 3187, 2083, 1970, 7561, 3135, 2769, 2138, 1609, 3926, 2198, 2548, 1807, 4096, 1831, 1972, 2563, 2387, 3220, 1293, 2587, 1631, 2082, 1811, 2423, 902, 1730, 2294, 3289, 2300, 1304, 3167, 6312, 1454, 1363, 5563, 1936, 1635, 2241, 1326, 2545, 1711, 11447, 10762, 2233, 5537, 3459, 1829, 1770, 2948, 3654, 9751, 5500, 6012, 3436, 4338, 8384, 4377, 2460, 2950, 2864, 2373, 4386, 6706, 674, 2176, 2424, 1897, 1509, 1803, 2040, 3531, 2580, 2820, 1648, 1297, 2222, 3607, 1812, 1594, 2659, 2743, 4346, 3251, 2381, 1442, 9503, 1675, 1993, 4330, 896, 915, 908, 908, 932, 880, 2480, 3156, 3289, 1733, 1865, 3164, 8773, 1660, 1583, 4718, 1855, 1450, 1647, 1214, 5652, 1283, 2926, 5578, 3095, 1954, 1811, 2022, 2403, 2365, 2430, 1642, 4101, 3351, 3063, 3032, 4842, 903, 4667, 2021, 2512, 2356, 4091, 1715, 1366, 1615, 2234, 1773, 1808, 1803, 2639, 3027, 3353, 4146, 3336, 3761, 6315, 4148, 4976, 3083, 3443, 992, 2198, 3059, 1580, 5677, 2639, 2663, 3116, 3671, 1595, 1118, 2251, 1446, 1340, 982, 2228, 1817, 1004, 2118, 2539, 1250, 860, 1745, 1836, 1842, 5896, 1637, 4049, 925, 1492, 1863, 4397, 2619, 1573, 3562, 4809, 2613, 1533, 5275, 1894, 1894, 3123, 2030, 2004, 1041, 1299, 2485, 2271, 2040, 1427, 1639, 2479, 6197, 8073, 2846, 1686, 1614, 2822, 1741, 5341, 6297, 2879, 3202, 1718, 1673, 1542, 3610, 1666, 6875, 2191, 3250, 1231, 1513, 2456, 1236, 2379, 2422, 5088, 3643, 2220, 1921, 2256, 3407, 1940, 1442, 1618, 1877, 1762, 13307, 7895, 2247, 2171, 2092, 2191, 2567, 2346, 2270, 2455, 2868, 2580, 2552, 2516, 4711, 2536, 2379, 2982, 2190, 3017, 2058, 3614, 2283, 2875, 1455, 2341, 1619, 7707, 2811, 2434, 1970, 6277, 2388, 2373, 2143, 1966, 1463, 1550, 1737, 1878, 1606, 5910, 5756, 2508, 2736, 1738, 1626, 3556, 6544, 7110, 4658, 5733, 3504, 2275, 8263, 5846, 5987, 1498, 1722, 7246, 1535, 3333, 3038, 1481, 3572, 3398, 3494, 4159, 2164, 4008, 3373, 1489, 4102, 1444, 6477, 1581, 1320, 1275, 1360, 1951, 1195, 1503, 1765, 1968, 1401, 1467, 1367, 1586, 1737, 1481, 1766, 1903, 5862, 2179, 3138, 2666, 2410, 1904, 2095, 3064, 2154, 2004, 2095, 1607, 6063, 1881, 2244, 2132, 5229, 2388, 8129, 2332, 6595, 3524, 1524, 1560, 7182, 2377, 1429, 2037, 1782, 1494, 1496, 2279, 1076, 4796, 2454, 10668, 3332, 2061, 3647, 3186, 10036, 1645, 2874, 5711, 3405, 2307, 2697, 2784, 2604, 3419, 9417, 1634, 3393, 4648, 1304, 3612, 2181, 2965, 5263, 2020, 1826, 1869, 1860, 1773, 2662, 4340, 3262, 2408, 3437, 2398, 2852, 2559, 1983, 2651, 2897, 1669, 967, 3064, 2687, 2131, 2516, 2883, 1865, 2160, 2319, 1408, 1822, 1766, 1275, 2726, 857, 3032, 3976, 3397, 2437, 1739, 1532, 1493, 1903, 1719, 1443, 2131, 2894, 2887, 1730, 2898, 4392, 1635, 7914, 6632, 1606, 2066, 2969, 5789, 4803, 5556, 4337, 8439, 5082, 1686, 6982, 3207, 3507, 2062, 2419, 2662, 2003, 2418, 2597, 2720, 2866, 2985, 2502, 2840, 1926, 2457, 2089, 2180, 2313, 1855, 2077, 2931, 1571, 2652, 2147, 1493, 1243, 7387, 2558, 2333, 1766, 2013, 1888, 2262, 996, 1069, 1590, 2046, 4408, 3124, 2840, 2725, 2872, 1879, 5302, 3268, 2013, 2640, 5049, 4540, 868, 1062, 2820, 2742, 975, 2376, 3767, 1486, 3220, 2004, 1787, 3687, 1936, 4425, 2094, 2978, 1698, 2246, 2250, 2437, 2112, 1066, 2087, 1294, 1686, 1719, 3004, 1442, 1357, 990, 1330, 1471, 2024, 5001, 2265, 2385, 7962, 7836, 2591, 2194, 1953, 7535, 2529, 2282, 4735, 2539, 1582, 2621, 1580, 2346, 2131, 2146, 7547, 4066, 2278, 2980, 3269, 2376, 2401, 2303, 2368, 2504, 2458, 2348, 2621, 2025, 2226, 3170, 2591, 2461, 2336, 2509, 2578, 2505, 2326, 3442, 2502, 2402, 2430, 2645, 2466, 2277, 2285, 2101, 1230, 1317, 1382, 1297, 1381, 1854, 1251, 1273, 2261, 4718, 2608, 2174, 2449, 2006, 3010, 3113, 13764, 1186, 2151, 3216, 2798, 1891, 1970, 676, 1495, 1960, 2620, 2822, 10318, 2539, 1482, 2583, 1210, 1107, 1585, 1728, 2018, 6534, 2070, 1406, 1687, 8017, 4488, 1813, 13446, 7898, 2358, 14735, 3215, 2807, 2984, 2435, 2695, 2317, 2607, 2914, 3169, 2245, 3556, 2908, 12717, 2065, 3241, 3886, 1854, 1862, 1695, 1306, 1497, 800, 1017, 1494, 1475, 2053, 845, 845, 843, 982, 1788, 1991, 621, 678, 878, 792, 612, 636, 1230, 2584, 1364, 1913, 2203, 3490, 2061, 1525, 3051, 4201, 1692, 2651, 1000, 3405, 2960, 1974, 2968, 1997, 1427, 2970, 2525, 2538, 1723, 1946, 2056, 1776, 2562, 1605, 1727, 1733, 1896, 1364, 1793, 2193, 3129, 2309, 3139, 2168, 2118, 1975, 2603, 2010, 3287, 1194, 3794, 2283, 1823, 1526, 2122, 1701, 3122, 1584, 1088, 1310, 1278, 2465, 1941, 1261, 1306, 1919, 1799, 1149, 2221, 859, 1899, 1769, 2450]\n",
      "Mean token count:\t\t 2766.0771850170263\n",
      "Median token count:\t\t 2262\n",
      "Max token count:\t\t 14735\n",
      "Min token count:\t\t 612\n",
      "Total token count:\t\t 2436914\n",
      "Total packaged token count:\t 2436925\n"
     ]
    }
   ],
   "source": [
    "import statistics as stat\n",
    "\n",
    "cwe_token_counts = [count_tokens(json.dumps(cwe, indent=4)) + 2 for cwe in cwes]\n",
    "print(cwe_token_counts)\n",
    "print(\"Mean token count:\\t\\t\", stat.mean(cwe_token_counts))\n",
    "print(\"Median token count:\\t\\t\", stat.median(cwe_token_counts))\n",
    "print(\"Max token count:\\t\\t\", max(cwe_token_counts))\n",
    "print(\"Min token count:\\t\\t\", min(cwe_token_counts))\n",
    "print(\"Total token count:\\t\\t\", sum(cwe_token_counts))\n",
    "print(\"Total packaged token count:\\t\", count_tokens(cwe_list_to_json(cwes)))"
   ]
  },
  {
   "cell_type": "code",
   "execution_count": 9,
   "id": "04416114",
   "metadata": {},
   "outputs": [
    {
     "data": {
      "text/plain": [
       "251702"
      ]
     },
     "execution_count": 9,
     "metadata": {},
     "output_type": "execute_result"
    }
   ],
   "source": [
    "cwe_chunk_json = cwe_list_to_json(cwes[130:210])\n",
    "count_tokens(cwe_chunk_json)"
   ]
  },
  {
   "cell_type": "code",
   "execution_count": 33,
   "id": "c48a063f",
   "metadata": {},
   "outputs": [
    {
     "name": "stdout",
     "output_type": "stream",
     "text": [
      "all cves:\t\t\t 1778\n",
      "non duplicate issues cves:\t 1763\n"
     ]
    }
   ],
   "source": [
    "from datasets import load_dataset\n",
    "\n",
    "test_few = load_dataset(\n",
    "    \"Eathus/github-issues-vul-detection-gpt-few-vul-desc-results\", split=\"test\"\n",
    ")\n",
    "test_few_df = test_few.to_pandas()\n",
    "print(\"all cves:\\t\\t\\t\", len(test_few_df))\n",
    "test_few_df = test_few_df[~test_few_df.duplicated(subset=\"issue_github_id\", keep=False)]\n",
    "print(\"non duplicate issues cves:\\t\", len(test_few_df))"
   ]
  },
  {
   "cell_type": "code",
   "execution_count": 34,
   "id": "3671d4ae",
   "metadata": {},
   "outputs": [
    {
     "name": "stdout",
     "output_type": "stream",
     "text": [
      "true pssetive count:\t 294\n",
      "false posetive count:\t 323\n",
      "TP + FP count:\t\t 617\n"
     ]
    }
   ],
   "source": [
    "true_pos_few = test_few_df[test_few_df.gpt_is_relevant & ~test_few_df.cve_id.isna()]\n",
    "false_pos_few = test_few_df[test_few_df.gpt_is_relevant & test_few_df.cve_id.isna()]\n",
    "all_true_few = test_few_df[test_few_df.gpt_is_relevant]\n",
    "\n",
    "print(\"true pssetive count:\\t\", len(true_pos_few))\n",
    "print(\"false posetive count:\\t\", len(false_pos_few))\n",
    "print(\"TP + FP count:\\t\\t\", len(all_true_few))"
   ]
  },
  {
   "cell_type": "code",
   "execution_count": 12,
   "id": "e5a0369d",
   "metadata": {},
   "outputs": [
    {
     "name": "stdout",
     "output_type": "stream",
     "text": [
      "1767\n",
      "1767\n",
      "1767\n",
      "298\n",
      "298\n",
      "298\n",
      "0\n"
     ]
    },
    {
     "data": {
      "text/html": [
       "<div>\n",
       "<style scoped>\n",
       "    .dataframe tbody tr th:only-of-type {\n",
       "        vertical-align: middle;\n",
       "    }\n",
       "\n",
       "    .dataframe tbody tr th {\n",
       "        vertical-align: top;\n",
       "    }\n",
       "\n",
       "    .dataframe thead th {\n",
       "        text-align: right;\n",
       "    }\n",
       "</style>\n",
       "<table border=\"1\" class=\"dataframe\">\n",
       "  <thead>\n",
       "    <tr style=\"text-align: right;\">\n",
       "      <th></th>\n",
       "      <th>cve_id</th>\n",
       "      <th>issue_github_id</th>\n",
       "      <th>issue_number</th>\n",
       "      <th>cve_primary_cwe</th>\n",
       "    </tr>\n",
       "  </thead>\n",
       "  <tbody>\n",
       "  </tbody>\n",
       "</table>\n",
       "</div>"
      ],
      "text/plain": [
       "Empty DataFrame\n",
       "Columns: [cve_id, issue_github_id, issue_number, cve_primary_cwe]\n",
       "Index: []"
      ]
     },
     "metadata": {},
     "output_type": "display_data"
    }
   ],
   "source": [
    "print(len(test_few_df))\n",
    "print(len(test_few_df.drop_duplicates(subset=\"issue_github_id\")))\n",
    "print(len(test_few_df.drop_duplicates(subset=[\"issue_github_id\", \"cve_id\"])))\n",
    "\n",
    "print(len(true_pos_few))\n",
    "print(len(true_pos_few.drop_duplicates(subset=\"issue_github_id\")))\n",
    "print(len(true_pos_few.drop_duplicates(subset=[\"issue_github_id\", \"cve_id\"])))\n",
    "\n",
    "dupes = test_few_df[\n",
    "    test_few_df.duplicated(subset=\"issue_github_id\", keep=False)\n",
    "].sort_values(\"issue_github_id\")\n",
    "print(len(dupes))\n",
    "display(dupes[[\"cve_id\", \"issue_github_id\", \"issue_number\", \"cve_primary_cwe\"]])"
   ]
  },
  {
   "cell_type": "code",
   "execution_count": 13,
   "id": "1b5704f8",
   "metadata": {},
   "outputs": [
    {
     "name": "stdout",
     "output_type": "stream",
     "text": [
      "The issue describes a double free vulnerability in the LibreDWG library, specifically in the function `dwg_free_MATERIAL_private` at line 7662 of `dwg.spec`. The AddressSanitizer output indicates that the program attempts to free a memory region that has already been freed, which can lead to undefined behavior, crashes, or potential exploitation by an attacker.\n",
      "415\n"
     ]
    }
   ],
   "source": [
    "print(true_pos_few.iloc[0].gpt_description)\n",
    "print(true_pos_few.iloc[0].cve_primary_cwe)"
   ]
  },
  {
   "cell_type": "code",
   "execution_count": 14,
   "id": "4e2189cb",
   "metadata": {},
   "outputs": [],
   "source": [
    "import tiktoken\n",
    "\n",
    "\n",
    "def count_chat_tokens(messages, model=\"gpt-4\", echo=False):\n",
    "    try:\n",
    "        encoding = tiktoken.encoding_for_model(model)\n",
    "        if echo:\n",
    "            print(\"Finished encoding using model:\", model)\n",
    "\n",
    "    except KeyError:\n",
    "        print(\"invalid input model:\", model + \".\", \"Defaulting to cl100k_base\")\n",
    "        encoding = tiktoken.get_encoding(\"cl100k_base\")\n",
    "\n",
    "    tokens_per_message = 3\n",
    "    tokens_per_name = 1\n",
    "\n",
    "    total_tokens = 0\n",
    "    for msg in messages:\n",
    "        total_tokens += tokens_per_message\n",
    "        for key, value in msg.items():\n",
    "            total_tokens += len(encoding.encode(value))\n",
    "            if key == \"name\":\n",
    "                total_tokens += tokens_per_name\n",
    "    total_tokens += 3  # priming\n",
    "    return total_tokens"
   ]
  },
  {
   "cell_type": "code",
   "execution_count": 15,
   "id": "1dc28838",
   "metadata": {},
   "outputs": [
    {
     "name": "stdout",
     "output_type": "stream",
     "text": [
      "251995\n",
      "293\n",
      "251702\n"
     ]
    }
   ],
   "source": [
    "formatted_system_prompt = prompts_dict[\"baseline_system_setup\"].format(\n",
    "    cwe_entries=cwe_chunk_json\n",
    ")\n",
    "messages = [\n",
    "    {\"role\": \"system\", \"content\": formatted_system_prompt},\n",
    "    {\"role\": \"user\", \"content\": true_pos_few.iloc[0].gpt_description},\n",
    "]\n",
    "\n",
    "print(count_chat_tokens(messages))\n",
    "formatted_system_prompt = prompts_dict[\"baseline_system_setup\"].format(cwe_entries=\"\")\n",
    "messages = [\n",
    "    {\"role\": \"system\", \"content\": formatted_system_prompt},\n",
    "    {\"role\": \"user\", \"content\": true_pos_few.iloc[0].gpt_description},\n",
    "]\n",
    "print(count_chat_tokens(messages))\n",
    "print(count_tokens(cwe_chunk_json))"
   ]
  },
  {
   "cell_type": "code",
   "execution_count": 16,
   "id": "615ab4b8",
   "metadata": {},
   "outputs": [
    {
     "data": {
      "text/plain": [
       "Index(['cve_id', 'cve_published', 'cve_descriptions', 'cve_metrics',\n",
       "       'cve_references', 'cve_configurations', 'cve_primary_cwe', 'cve_tags',\n",
       "       'issue_owner_repo', 'issue_body', 'issue_title', 'issue_comments_url',\n",
       "       'issue_comments_count', 'issue_created_at', 'issue_updated_at',\n",
       "       'issue_html_url', 'issue_github_id', 'issue_number', 'label',\n",
       "       'issue_msg', 'issue_msg_n_tokens', 'issue_embedding',\n",
       "       '__index_level_0__', 'gpt_description', 'gpt_vulnerability',\n",
       "       'gpt_confidence', 'gpt_is_relevant'],\n",
       "      dtype='object')"
      ]
     },
     "execution_count": 16,
     "metadata": {},
     "output_type": "execute_result"
    }
   ],
   "source": [
    "true_pos_few.columns"
   ]
  },
  {
   "cell_type": "code",
   "execution_count": null,
   "id": "f92b8aa3",
   "metadata": {},
   "outputs": [],
   "source": [
    "import json\n",
    "import os\n",
    "import pickle\n",
    "import pandas as pd\n",
    "from tqdm.notebook import tqdm\n",
    "from utils import *\n",
    "import time\n",
    "\n",
    "\n",
    "def find_cwe_list(high, low, cwes, max_request_size, cwe_tc_list, msg_tc):\n",
    "    # Recursive binary search function\n",
    "    mid = low + (high - low) // 2\n",
    "    token_count = sum(cwe_tc_list[:mid]) + msg_tc + 11\n",
    "\n",
    "    if low == high:\n",
    "        return [], 0, token_count\n",
    "\n",
    "    if token_count == max_request_size:\n",
    "        return cwes[:mid], mid, token_count\n",
    "    if high - low == 1:\n",
    "        max_tc = token_count + cwe_tc_list[mid]\n",
    "        if max_tc < max_request_size:\n",
    "            return cwes[:high], high, max_tc\n",
    "        return cwes[:mid], mid, token_count\n",
    "\n",
    "    if token_count < max_request_size:\n",
    "        return find_cwe_list(high, mid, cwes, max_request_size, cwe_tc_list, msg_tc)\n",
    "    else:\n",
    "        return find_cwe_list(mid, low, cwes, max_request_size, cwe_tc_list, msg_tc)\n",
    "\n",
    "\n",
    "def get_prompt_preamble_tc(desc, prompts_dict, ignore_user=False):\n",
    "    formatted_system_prompt = prompts_dict[\"baseline_system_setup\"].format(\n",
    "        cwe_entries=\"\"\n",
    "    )\n",
    "    messages = [\n",
    "        {\"role\": \"system\", \"content\": formatted_system_prompt},\n",
    "        {\"role\": \"user\", \"content\": (\"\" if ignore_user else desc)},\n",
    "    ]\n",
    "    return count_chat_tokens(messages)\n",
    "\n",
    "\n",
    "def filter_possible_cwes(cwes):\n",
    "    possible_cwes = [resp for resp in cwes if resp[\"gpt_cwe\"] != \"None\"]\n",
    "\n",
    "    if possible_cwes == []:\n",
    "        return [min(cwes, key=(lambda x: x[\"gpt_cwe_confidence\"]))]\n",
    "\n",
    "    max_conf = max(possible_cwes, key=(lambda x: x[\"gpt_cwe_confidence\"]))[\n",
    "        \"gpt_cwe_confidence\"\n",
    "    ]\n",
    "    possible_cwes = [\n",
    "        resp for resp in possible_cwes if resp[\"gpt_cwe_confidence\"] == max_conf\n",
    "    ]\n",
    "    possible_cwes = list({p[\"gpt_cwe\"]: p for p in possible_cwes}.values())\n",
    "    return possible_cwes\n",
    "\n",
    "\n",
    "def get_gpt_cwe(cwes, desc, max_request_size, echo=False):\n",
    "    prompts_dict = load_prompts(os.getcwd() + \"/../utils/prompts\")\n",
    "    cwe_dict = {cwe[\"ID\"]: cwe for cwe in cwes}\n",
    "    msg_tc = get_prompt_preamble_tc(desc, prompts_dict)\n",
    "\n",
    "    while True:\n",
    "        i = 0\n",
    "        responses = []\n",
    "        # print(\"cwes:\\n\", len(cwes))\n",
    "        inner_pbar = tqdm(\n",
    "            total=len(cwes),\n",
    "            desc=\"Processing CWE chunks\",\n",
    "            leave=False,\n",
    "            disable=not echo,\n",
    "        )\n",
    "\n",
    "        while i < len(cwes):\n",
    "            # print(\"i:\", i)\n",
    "            cwe_chunk, next_i, _ = find_cwe_list(\n",
    "                len(cwes[i:]),\n",
    "                0,\n",
    "                cwes[i:],\n",
    "                max_request_size,\n",
    "                cwe_token_counts[i:],\n",
    "                msg_tc,\n",
    "            )\n",
    "            # print(any(cwe['ID'] == '415' for cwe in cwe_chunk))\n",
    "            i += next_i\n",
    "\n",
    "            response = '{\"gpt_cwe\":\"415\",\"gpt_cwe_confidence\":5}'\n",
    "            time.sleep(0.5)\n",
    "            # response = gpt_classify(desc, cwe_list_to_json(cwe_chunk))\n",
    "\n",
    "            response = json.loads(response)\n",
    "            # print(response)\n",
    "            responses.append(response)\n",
    "\n",
    "            inner_pbar.update(next_i)\n",
    "\n",
    "        inner_pbar.close()\n",
    "\n",
    "        poss_cwes = filter_possible_cwes(responses)\n",
    "        if len(poss_cwes) == 1:\n",
    "            return poss_cwes[0]\n",
    "\n",
    "        cwes = [cwe_dict[cwe[\"gpt_cwe\"]] for cwe in poss_cwes]\n",
    "\n",
    "\n",
    "def classify_issues(cwes, data_df, max_request_size, echo=False):\n",
    "    issue_dict = {\n",
    "        dat.issue_github_id: ([], dat.gpt_description)\n",
    "        for (_, dat) in data_df.iterrows()\n",
    "    }\n",
    "    cwe_dict = {cwe[\"ID\"]: cwe for cwe in cwes}\n",
    "\n",
    "    prompts_dict = load_prompts(os.getcwd() + \"/../utils/prompts\")\n",
    "    msg_tc = get_prompt_preamble_tc(\"\", prompts_dict, True)\n",
    "\n",
    "    i = 0\n",
    "    req_number = 0\n",
    "    chunks = []\n",
    "    while i < len(cwes):\n",
    "        # print(\"i:\", i)\n",
    "        cwe_chunk, next_i, _ = find_cwe_list(\n",
    "            len(cwes[i:]),\n",
    "            0,\n",
    "            cwes[i:],\n",
    "            max_request_size,\n",
    "            cwe_token_counts[i:],\n",
    "            msg_tc,\n",
    "        )\n",
    "        i += next_i\n",
    "\n",
    "        chunks.append(cwe_chunk)\n",
    "        req_number += 1\n",
    "\n",
    "    chunk_iter = tqdm(chunks, desc=\"Processing CWE chunks\", disable=not echo)\n",
    "    for chunk in chunk_iter:\n",
    "        data_iter = tqdm(\n",
    "            data_df.iterrows(),\n",
    "            total=len(data_df),\n",
    "            desc=\"Classifying issues\",\n",
    "            leave=False,\n",
    "            disable=not echo,\n",
    "        )\n",
    "        for _, dat in data_iter:\n",
    "            # response = gpt_classify(dat.gpt_description, cwe_list_to_json(chunk))\n",
    "            # issue_dict[dat.issue_github_id][0].append(response)\n",
    "\n",
    "            time.sleep(0.001)\n",
    "            issue_dict[dat.issue_github_id][0].extend(\n",
    "                [\n",
    "                    {\"gpt_cwe\": \"415\", \"gpt_cwe_confidence\": 5},\n",
    "                    {\"gpt_cwe\": \"664\", \"gpt_cwe_confidence\": 5},\n",
    "                    {\"gpt_cwe\": \"666\", \"gpt_cwe_confidence\": 5},\n",
    "                    {\"gpt_cwe\": \"416\", \"gpt_cwe_confidence\": 5},\n",
    "                    {\"gpt_cwe\": \"1341\", \"gpt_cwe_confidence\": 5},\n",
    "                ]\n",
    "            )\n",
    "\n",
    "    data_iter = tqdm(\n",
    "        issue_dict.items(),\n",
    "        desc=\"Re-classifying issues\",\n",
    "        disable=not echo,\n",
    "        leave=False,\n",
    "    )\n",
    "    for key, val in data_iter:\n",
    "        poss_cwes = filter_possible_cwes(val[0])\n",
    "        if len(poss_cwes) == 1:\n",
    "            issue_dict[key] = poss_cwes[0]\n",
    "        else:\n",
    "            remaining_cwes = [cwe_dict[cwe[\"gpt_cwe\"]] for cwe in poss_cwes]\n",
    "            issue_dict[key] = get_gpt_cwe(\n",
    "                remaining_cwes, val[1], max_request_size, echo\n",
    "            )\n",
    "\n",
    "    return issue_dict\n",
    "\n",
    "\n",
    "def batch_cwe_request(cwes, desc, git_issue_id, max_request_size, model=\"gpt-40-mini\", echo=True):\n",
    "    prompts_dict = load_prompts(os.getcwd() + \"/../utils/prompts\")\n",
    "    msg_tc = get_prompt_preamble_tc(desc, prompts_dict)\n",
    "\n",
    "    i = 0\n",
    "    req_number = 0\n",
    "    requests = []\n",
    "\n",
    "    inner_pbar = tqdm(\n",
    "        total=len(cwes),\n",
    "        desc=f\"Gathering CWE requests for issue {git_issue_id}\",\n",
    "        leave=False,\n",
    "        disable=not echo,\n",
    "    )\n",
    "    while i < len(cwes):\n",
    "        # print(\"i:\", i)\n",
    "        cwe_chunk, next_i, _ = find_cwe_list(\n",
    "            len(cwes[i:]),\n",
    "            0,\n",
    "            cwes[i:],\n",
    "            max_request_size,\n",
    "            cwe_token_counts[i:],\n",
    "            msg_tc,\n",
    "        )\n",
    "        i += next_i\n",
    "\n",
    "        formatted_system_prompt = prompts_dict[\"baseline_system_setup\"].format(\n",
    "            cwe_entries=cwe_list_to_json(cwe_chunk)\n",
    "        )\n",
    "        request = {\n",
    "            \"custom_id\": str(git_issue_id) + \"-\" + str(req_number),\n",
    "            \"method\": \"POST\",\n",
    "            \"url\": \"/v1/chat/completions\",\n",
    "            \"body\": {\n",
    "                \"model\": model,\n",
    "                \"messages\": [\n",
    "                    {\"role\": \"system\", \"content\": formatted_system_prompt},\n",
    "                    {\"role\": \"user\", \"content\": desc},\n",
    "                ],\n",
    "                \"max_tokens\": 1000,\n",
    "            },\n",
    "        }\n",
    "        requests.append(request)\n",
    "        req_number += 1\n",
    "\n",
    "\n",
    "        inner_pbar.update(next_i)\n",
    "\n",
    "    inner_pbar.close()\n",
    "\n",
    "    return requests\n",
    "\n",
    "\n",
    "def generate_batch_post_files(\n",
    "    cwes,\n",
    "    data_df,\n",
    "    max_request_size,\n",
    "    post_folder_path='tmp',\n",
    "    max_size_mb=150,\n",
    "    output_dir=\"batches\",\n",
    "    output_prefix=\"batch\",\n",
    "    echo=True\n",
    "):\n",
    "    output_dir = os.path.join(post_folder_path, output_dir)\n",
    "    os.makedirs(output_dir, exist_ok=True)\n",
    "    \n",
    "    #requests = []\n",
    "    batch_info_dict = {}\n",
    "\n",
    "    max_size_bytes = max_size_mb * 1024 * 1024\n",
    "    part_num = 1\n",
    "    current_size = 0\n",
    "\n",
    "    output_path = os.path.join(output_dir, f\"{output_prefix}_{part_num}.jsonl\")\n",
    "    output_file = open(output_path, 'w', encoding='utf-8')\n",
    "\n",
    "    data_iter = tqdm(\n",
    "        data_df.iterrows(),\n",
    "        total=len(data_df),\n",
    "        desc=\"Writing batch files\",\n",
    "        disable=not echo,\n",
    "    )\n",
    "    for _, row in data_iter:\n",
    "        requests = batch_cwe_request(\n",
    "            cwes, row.gpt_description, row.issue_github_id, max_request_size\n",
    "        ) \n",
    "        req_iter = tqdm(\n",
    "            requests,\n",
    "            desc=f\"Writing issue {row.issue_github_id} batch files\",\n",
    "            leave=False,\n",
    "            disable=not echo,\n",
    "        )\n",
    "        for req in req_iter:\n",
    "            req_line = json.dumps(req) + \"\\n\"\n",
    "            line_size = len(req_line.encode('utf-8'))\n",
    "            if current_size + line_size > max_size_bytes:\n",
    "                    output_file.close()\n",
    "                    part_num += 1\n",
    "                    output_path = os.path.join(output_dir, f\"{output_prefix}_{part_num}.jsonl\")\n",
    "                    output_file = open(output_path, 'w', encoding='utf-8')\n",
    "                    current_size = 0\n",
    "            output_file.write(req_line)\n",
    "            current_size += line_size\n",
    "        del requests\n",
    "\n",
    "    output_file.close()\n",
    "    batch_info_dict['batch_count'] = part_num\n",
    "    batch_info_dict['batch_prefix'] = output_prefix\n",
    "    batch_info_dict['batch_size'] = max_size_mb\n",
    "    batch_info_dict['batch_issues'] = data_df['issue_github_id'].tolist()\n",
    "\n",
    "    pickle_file = os.path.join(output_dir, 'batch_info.pkl')\n",
    "    with open(pickle_file, 'wb') as file:\n",
    "        pickle.dump(batch_info_dict, file)\n",
    "\n",
    "def post_batches(\n",
    "    post_folder_path='tmp',\n",
    "    batches_dir=\"batches\",\n",
    ") :\n",
    "    batches_dir = os.path.join(post_folder_path, batches_dir)\n",
    "    pickle_file = os.path.join(batches_dir, 'batch_info.pkl')\n",
    "    with open(pickle_file, 'rb') as file:\n",
    "        batch_info_dict = pickle.load(file)\n",
    "    \n",
    "    #files = []\n",
    "    batches = []\n",
    "    for i in range(1, batch_info_dict['batch_count'] + 1) :\n",
    "        path = os.path.join(batches_dir, f\"{batch_info_dict['batch_prefix']}_{i}.jsonl\")\n",
    "        file = client.files.create(\n",
    "            file=open(path, \"rb\"),\n",
    "            purpose=\"batch\"\n",
    "        )\n",
    "        #files.append(file)\n",
    "        batch = client.batches.create(\n",
    "            input_file_id=file.id,\n",
    "            endpoint=\"/v1/chat/completions\",\n",
    "            completion_window=\"24h\",\n",
    "            metadata={\n",
    "                \"batch_name\": f\"{batch_info_dict['batch_prefix']}_{i}\"\n",
    "            }\n",
    "        )\n",
    "        batches.append(batch['id'])\n",
    "    \n",
    "    batch_info_dict['batch_ids'] = batches\n",
    "    with open(pickle_file, 'wb') as file:\n",
    "        pickle.dump(batch_info_dict, file)\n",
    "\n",
    "def retrieve_batch_res(\n",
    "    post_folder_path='tmp',\n",
    "    batches_dir=\"batches\",\n",
    "    output_dir='responses'\n",
    "\n",
    ") :\n",
    "    batches_dir = os.path.join(post_folder_path, batches_dir)\n",
    "    output_dir = os.path.join(post_folder_path, output_dir)\n",
    "\n",
    "    pickle_file = os.path.join(batches_dir, 'batch_info.pkl')\n",
    "    with open(pickle_file, 'rb') as file:\n",
    "        batch_info_dict = pickle.load(file)\n",
    "    \n",
    "    statuses = {}\n",
    "    for batch_id in batch_info_dict['batch_ids'] :\n",
    "        batch = client.batches.retrieve(batch_id)\n",
    "        status = batch['status'] \n",
    "        statuses[batch['metadata']['batch_name']] = status\n",
    "        if status == 'completed' :\n",
    "            file_response = client.files.content(batch['id'])\n",
    "            output_file = os.path.join(output_dir, batch['metadata']['batch_name'] + 'response')\n",
    "            with open(output_file, \"w\", encoding=\"utf-8\") as f:\n",
    "                f.write(file_response.text)\n",
    "            batch_info_dict['batch_ids'].remove(batch_id)\n",
    "        else :\n",
    "            print('batch,', batch['metadata']['batch_name'], 'status:\\t', status)\n",
    "    \n",
    "    return statuses"
   ]
  },
  {
   "cell_type": "code",
   "execution_count": 19,
   "id": "72c67bde",
   "metadata": {},
   "outputs": [
    {
     "data": {
      "text/plain": [
       "list"
      ]
     },
     "execution_count": 19,
     "metadata": {},
     "output_type": "execute_result"
    }
   ],
   "source": [
    "type(true_pos_few['issue_github_id'].tolist())"
   ]
  },
  {
   "cell_type": "code",
   "execution_count": 21,
   "id": "da6faff3",
   "metadata": {},
   "outputs": [
    {
     "data": {
      "application/vnd.jupyter.widget-view+json": {
       "model_id": "a31b34b4776248978d563c630cd661d7",
       "version_major": 2,
       "version_minor": 0
      },
      "text/plain": [
       "Writing batch files:   0%|          | 0/621 [00:00<?, ?it/s]"
      ]
     },
     "metadata": {},
     "output_type": "display_data"
    },
    {
     "data": {
      "application/vnd.jupyter.widget-view+json": {
       "model_id": "4b619622991143dc92713f201c250b36",
       "version_major": 2,
       "version_minor": 0
      },
      "text/plain": [
       "Gathering CWE requests for issue 2269395062:   0%|          | 0/881 [00:00<?, ?it/s]"
      ]
     },
     "metadata": {},
     "output_type": "display_data"
    },
    {
     "data": {
      "application/vnd.jupyter.widget-view+json": {
       "model_id": "04fcc3bbf1b34e89a945d6de2ec7540f",
       "version_major": 2,
       "version_minor": 0
      },
      "text/plain": [
       "Writing issue 2269395062 batch files:   0%|          | 0/25 [00:00<?, ?it/s]"
      ]
     },
     "metadata": {},
     "output_type": "display_data"
    },
    {
     "data": {
      "application/vnd.jupyter.widget-view+json": {
       "model_id": "2cc5a5dc1d5d479ca3a3774d7616f47f",
       "version_major": 2,
       "version_minor": 0
      },
      "text/plain": [
       "Gathering CWE requests for issue 670848928:   0%|          | 0/881 [00:00<?, ?it/s]"
      ]
     },
     "metadata": {},
     "output_type": "display_data"
    },
    {
     "data": {
      "application/vnd.jupyter.widget-view+json": {
       "model_id": "e4202d69377c4d5a8ea903dda681d418",
       "version_major": 2,
       "version_minor": 0
      },
      "text/plain": [
       "Writing issue 670848928 batch files:   0%|          | 0/25 [00:00<?, ?it/s]"
      ]
     },
     "metadata": {},
     "output_type": "display_data"
    },
    {
     "data": {
      "application/vnd.jupyter.widget-view+json": {
       "model_id": "992869ba287a4d8fa2b530b22f4f42ea",
       "version_major": 2,
       "version_minor": 0
      },
      "text/plain": [
       "Gathering CWE requests for issue 2581924154:   0%|          | 0/881 [00:00<?, ?it/s]"
      ]
     },
     "metadata": {},
     "output_type": "display_data"
    },
    {
     "data": {
      "application/vnd.jupyter.widget-view+json": {
       "model_id": "1fe7fff09e554c17b2d4eb19175e17b6",
       "version_major": 2,
       "version_minor": 0
      },
      "text/plain": [
       "Writing issue 2581924154 batch files:   0%|          | 0/25 [00:00<?, ?it/s]"
      ]
     },
     "metadata": {},
     "output_type": "display_data"
    },
    {
     "data": {
      "application/vnd.jupyter.widget-view+json": {
       "model_id": "0ba880becf8843d88bb5debc5586ecdf",
       "version_major": 2,
       "version_minor": 0
      },
      "text/plain": [
       "Gathering CWE requests for issue 1653437952:   0%|          | 0/881 [00:00<?, ?it/s]"
      ]
     },
     "metadata": {},
     "output_type": "display_data"
    },
    {
     "data": {
      "application/vnd.jupyter.widget-view+json": {
       "model_id": "59b2bd6d32954fa38d35a59ab01a9c12",
       "version_major": 2,
       "version_minor": 0
      },
      "text/plain": [
       "Writing issue 1653437952 batch files:   0%|          | 0/25 [00:00<?, ?it/s]"
      ]
     },
     "metadata": {},
     "output_type": "display_data"
    },
    {
     "data": {
      "application/vnd.jupyter.widget-view+json": {
       "model_id": "c817f11d50654766b224d64ec65a72f6",
       "version_major": 2,
       "version_minor": 0
      },
      "text/plain": [
       "Gathering CWE requests for issue 1110212655:   0%|          | 0/881 [00:00<?, ?it/s]"
      ]
     },
     "metadata": {},
     "output_type": "display_data"
    },
    {
     "data": {
      "application/vnd.jupyter.widget-view+json": {
       "model_id": "0699d063695342969da425a0e2d88b40",
       "version_major": 2,
       "version_minor": 0
      },
      "text/plain": [
       "Writing issue 1110212655 batch files:   0%|          | 0/25 [00:00<?, ?it/s]"
      ]
     },
     "metadata": {},
     "output_type": "display_data"
    },
    {
     "data": {
      "application/vnd.jupyter.widget-view+json": {
       "model_id": "1422ca5cf1d14747b5e8f62dfa07a144",
       "version_major": 2,
       "version_minor": 0
      },
      "text/plain": [
       "Gathering CWE requests for issue 1116226346:   0%|          | 0/881 [00:00<?, ?it/s]"
      ]
     },
     "metadata": {},
     "output_type": "display_data"
    },
    {
     "data": {
      "application/vnd.jupyter.widget-view+json": {
       "model_id": "84d1a82b5ba04326a148adeea2d0319f",
       "version_major": 2,
       "version_minor": 0
      },
      "text/plain": [
       "Writing issue 1116226346 batch files:   0%|          | 0/25 [00:00<?, ?it/s]"
      ]
     },
     "metadata": {},
     "output_type": "display_data"
    },
    {
     "data": {
      "application/vnd.jupyter.widget-view+json": {
       "model_id": "e6e209e8b5ef460c86a596129deba49f",
       "version_major": 2,
       "version_minor": 0
      },
      "text/plain": [
       "Gathering CWE requests for issue 1238916903:   0%|          | 0/881 [00:00<?, ?it/s]"
      ]
     },
     "metadata": {},
     "output_type": "display_data"
    },
    {
     "data": {
      "application/vnd.jupyter.widget-view+json": {
       "model_id": "775f6fbfcba14e68b9357e568df49989",
       "version_major": 2,
       "version_minor": 0
      },
      "text/plain": [
       "Writing issue 1238916903 batch files:   0%|          | 0/25 [00:00<?, ?it/s]"
      ]
     },
     "metadata": {},
     "output_type": "display_data"
    },
    {
     "data": {
      "application/vnd.jupyter.widget-view+json": {
       "model_id": "fda5944cf7b54eaa85cf6bb7fd18b1e8",
       "version_major": 2,
       "version_minor": 0
      },
      "text/plain": [
       "Gathering CWE requests for issue 1643268712:   0%|          | 0/881 [00:00<?, ?it/s]"
      ]
     },
     "metadata": {},
     "output_type": "display_data"
    },
    {
     "data": {
      "application/vnd.jupyter.widget-view+json": {
       "model_id": "3872f73bc28c4b2aaac66750b549b538",
       "version_major": 2,
       "version_minor": 0
      },
      "text/plain": [
       "Writing issue 1643268712 batch files:   0%|          | 0/25 [00:00<?, ?it/s]"
      ]
     },
     "metadata": {},
     "output_type": "display_data"
    },
    {
     "data": {
      "application/vnd.jupyter.widget-view+json": {
       "model_id": "882ead489d0647c4b37959795917d44a",
       "version_major": 2,
       "version_minor": 0
      },
      "text/plain": [
       "Gathering CWE requests for issue 1428405742:   0%|          | 0/881 [00:00<?, ?it/s]"
      ]
     },
     "metadata": {},
     "output_type": "display_data"
    },
    {
     "data": {
      "application/vnd.jupyter.widget-view+json": {
       "model_id": "59e78138271341c78ce33a8bc47757b3",
       "version_major": 2,
       "version_minor": 0
      },
      "text/plain": [
       "Writing issue 1428405742 batch files:   0%|          | 0/25 [00:00<?, ?it/s]"
      ]
     },
     "metadata": {},
     "output_type": "display_data"
    },
    {
     "data": {
      "application/vnd.jupyter.widget-view+json": {
       "model_id": "56897a5f24cf40c2bbabec771ceed9a9",
       "version_major": 2,
       "version_minor": 0
      },
      "text/plain": [
       "Gathering CWE requests for issue 1465902126:   0%|          | 0/881 [00:00<?, ?it/s]"
      ]
     },
     "metadata": {},
     "output_type": "display_data"
    },
    {
     "data": {
      "application/vnd.jupyter.widget-view+json": {
       "model_id": "be5b0abe36574570a02e3f6686b6c52b",
       "version_major": 2,
       "version_minor": 0
      },
      "text/plain": [
       "Writing issue 1465902126 batch files:   0%|          | 0/25 [00:00<?, ?it/s]"
      ]
     },
     "metadata": {},
     "output_type": "display_data"
    },
    {
     "data": {
      "application/vnd.jupyter.widget-view+json": {
       "model_id": "bba71a9ce6b1465ba8f98e3e19040f03",
       "version_major": 2,
       "version_minor": 0
      },
      "text/plain": [
       "Gathering CWE requests for issue 2834784884:   0%|          | 0/881 [00:00<?, ?it/s]"
      ]
     },
     "metadata": {},
     "output_type": "display_data"
    },
    {
     "data": {
      "application/vnd.jupyter.widget-view+json": {
       "model_id": "06a73add52124b0186776b97df5a36de",
       "version_major": 2,
       "version_minor": 0
      },
      "text/plain": [
       "Writing issue 2834784884 batch files:   0%|          | 0/25 [00:00<?, ?it/s]"
      ]
     },
     "metadata": {},
     "output_type": "display_data"
    },
    {
     "data": {
      "application/vnd.jupyter.widget-view+json": {
       "model_id": "99cf3ece27f343049f5550b721ec2f1b",
       "version_major": 2,
       "version_minor": 0
      },
      "text/plain": [
       "Gathering CWE requests for issue 842748388:   0%|          | 0/881 [00:00<?, ?it/s]"
      ]
     },
     "metadata": {},
     "output_type": "display_data"
    },
    {
     "data": {
      "application/vnd.jupyter.widget-view+json": {
       "model_id": "9c841b8d5d744a05828c241e498a491c",
       "version_major": 2,
       "version_minor": 0
      },
      "text/plain": [
       "Writing issue 842748388 batch files:   0%|          | 0/25 [00:00<?, ?it/s]"
      ]
     },
     "metadata": {},
     "output_type": "display_data"
    },
    {
     "data": {
      "application/vnd.jupyter.widget-view+json": {
       "model_id": "860ec32df5b64e2fae195f2a81532c31",
       "version_major": 2,
       "version_minor": 0
      },
      "text/plain": [
       "Gathering CWE requests for issue 2718269469:   0%|          | 0/881 [00:00<?, ?it/s]"
      ]
     },
     "metadata": {},
     "output_type": "display_data"
    },
    {
     "data": {
      "application/vnd.jupyter.widget-view+json": {
       "model_id": "f21acc9aa955459881383b8ecb5446ab",
       "version_major": 2,
       "version_minor": 0
      },
      "text/plain": [
       "Writing issue 2718269469 batch files:   0%|          | 0/25 [00:00<?, ?it/s]"
      ]
     },
     "metadata": {},
     "output_type": "display_data"
    },
    {
     "data": {
      "application/vnd.jupyter.widget-view+json": {
       "model_id": "e71d2230c5334056862dbc18e6091d80",
       "version_major": 2,
       "version_minor": 0
      },
      "text/plain": [
       "Gathering CWE requests for issue 457432764:   0%|          | 0/881 [00:00<?, ?it/s]"
      ]
     },
     "metadata": {},
     "output_type": "display_data"
    },
    {
     "data": {
      "application/vnd.jupyter.widget-view+json": {
       "model_id": "2f9b73be43574dcfae260d9bfc979685",
       "version_major": 2,
       "version_minor": 0
      },
      "text/plain": [
       "Writing issue 457432764 batch files:   0%|          | 0/25 [00:00<?, ?it/s]"
      ]
     },
     "metadata": {},
     "output_type": "display_data"
    },
    {
     "data": {
      "application/vnd.jupyter.widget-view+json": {
       "model_id": "1ae82250c0a0457b8d5c9fcb6e313d40",
       "version_major": 2,
       "version_minor": 0
      },
      "text/plain": [
       "Gathering CWE requests for issue 1573731822:   0%|          | 0/881 [00:00<?, ?it/s]"
      ]
     },
     "metadata": {},
     "output_type": "display_data"
    },
    {
     "data": {
      "application/vnd.jupyter.widget-view+json": {
       "model_id": "89b30859929c4550b52c4585ad2b3de4",
       "version_major": 2,
       "version_minor": 0
      },
      "text/plain": [
       "Writing issue 1573731822 batch files:   0%|          | 0/25 [00:00<?, ?it/s]"
      ]
     },
     "metadata": {},
     "output_type": "display_data"
    },
    {
     "data": {
      "application/vnd.jupyter.widget-view+json": {
       "model_id": "3cb1200fde8d4f42968f33e007d4d37e",
       "version_major": 2,
       "version_minor": 0
      },
      "text/plain": [
       "Gathering CWE requests for issue 895163896:   0%|          | 0/881 [00:00<?, ?it/s]"
      ]
     },
     "metadata": {},
     "output_type": "display_data"
    },
    {
     "data": {
      "application/vnd.jupyter.widget-view+json": {
       "model_id": "bf11cd4394e74151af309335e961bc1f",
       "version_major": 2,
       "version_minor": 0
      },
      "text/plain": [
       "Writing issue 895163896 batch files:   0%|          | 0/25 [00:00<?, ?it/s]"
      ]
     },
     "metadata": {},
     "output_type": "display_data"
    },
    {
     "data": {
      "application/vnd.jupyter.widget-view+json": {
       "model_id": "8bc793e84e3846ae85ab4cf0c57596c5",
       "version_major": 2,
       "version_minor": 0
      },
      "text/plain": [
       "Gathering CWE requests for issue 1563517965:   0%|          | 0/881 [00:00<?, ?it/s]"
      ]
     },
     "metadata": {},
     "output_type": "display_data"
    },
    {
     "data": {
      "application/vnd.jupyter.widget-view+json": {
       "model_id": "9e03629ddf05400996d6fac068f906f5",
       "version_major": 2,
       "version_minor": 0
      },
      "text/plain": [
       "Writing issue 1563517965 batch files:   0%|          | 0/25 [00:00<?, ?it/s]"
      ]
     },
     "metadata": {},
     "output_type": "display_data"
    },
    {
     "data": {
      "application/vnd.jupyter.widget-view+json": {
       "model_id": "b263256d8e8f4a1e9a5cdd8345090615",
       "version_major": 2,
       "version_minor": 0
      },
      "text/plain": [
       "Gathering CWE requests for issue 1908864725:   0%|          | 0/881 [00:00<?, ?it/s]"
      ]
     },
     "metadata": {},
     "output_type": "display_data"
    },
    {
     "data": {
      "application/vnd.jupyter.widget-view+json": {
       "model_id": "f5b9b54bfdd2480fbcba313082511e14",
       "version_major": 2,
       "version_minor": 0
      },
      "text/plain": [
       "Writing issue 1908864725 batch files:   0%|          | 0/25 [00:00<?, ?it/s]"
      ]
     },
     "metadata": {},
     "output_type": "display_data"
    },
    {
     "data": {
      "application/vnd.jupyter.widget-view+json": {
       "model_id": "79a7eefd0ae441f8969d8137be6d475f",
       "version_major": 2,
       "version_minor": 0
      },
      "text/plain": [
       "Gathering CWE requests for issue 1583115861:   0%|          | 0/881 [00:00<?, ?it/s]"
      ]
     },
     "metadata": {},
     "output_type": "display_data"
    },
    {
     "data": {
      "application/vnd.jupyter.widget-view+json": {
       "model_id": "0b1cf8e8d51b451c99c18d6d09664747",
       "version_major": 2,
       "version_minor": 0
      },
      "text/plain": [
       "Writing issue 1583115861 batch files:   0%|          | 0/25 [00:00<?, ?it/s]"
      ]
     },
     "metadata": {},
     "output_type": "display_data"
    },
    {
     "data": {
      "application/vnd.jupyter.widget-view+json": {
       "model_id": "c16353ae627a4c5590343f1d04f262a4",
       "version_major": 2,
       "version_minor": 0
      },
      "text/plain": [
       "Gathering CWE requests for issue 619450232:   0%|          | 0/881 [00:00<?, ?it/s]"
      ]
     },
     "metadata": {},
     "output_type": "display_data"
    },
    {
     "data": {
      "application/vnd.jupyter.widget-view+json": {
       "model_id": "b1717fa3b19f4fc38c5f8667a1ef3ac0",
       "version_major": 2,
       "version_minor": 0
      },
      "text/plain": [
       "Writing issue 619450232 batch files:   0%|          | 0/25 [00:00<?, ?it/s]"
      ]
     },
     "metadata": {},
     "output_type": "display_data"
    },
    {
     "data": {
      "application/vnd.jupyter.widget-view+json": {
       "model_id": "05f47b9b6f6741ff9e96efe7139e561c",
       "version_major": 2,
       "version_minor": 0
      },
      "text/plain": [
       "Gathering CWE requests for issue 393636571:   0%|          | 0/881 [00:00<?, ?it/s]"
      ]
     },
     "metadata": {},
     "output_type": "display_data"
    },
    {
     "data": {
      "application/vnd.jupyter.widget-view+json": {
       "model_id": "68e093368eac432b9441e891d0ae87b2",
       "version_major": 2,
       "version_minor": 0
      },
      "text/plain": [
       "Writing issue 393636571 batch files:   0%|          | 0/25 [00:00<?, ?it/s]"
      ]
     },
     "metadata": {},
     "output_type": "display_data"
    },
    {
     "data": {
      "application/vnd.jupyter.widget-view+json": {
       "model_id": "50f09fc5eb2541fb9930cd45b0e74988",
       "version_major": 2,
       "version_minor": 0
      },
      "text/plain": [
       "Gathering CWE requests for issue 1262614234:   0%|          | 0/881 [00:00<?, ?it/s]"
      ]
     },
     "metadata": {},
     "output_type": "display_data"
    },
    {
     "data": {
      "application/vnd.jupyter.widget-view+json": {
       "model_id": "f8d376d6ab584b1fa41948458b2cf95c",
       "version_major": 2,
       "version_minor": 0
      },
      "text/plain": [
       "Writing issue 1262614234 batch files:   0%|          | 0/25 [00:00<?, ?it/s]"
      ]
     },
     "metadata": {},
     "output_type": "display_data"
    },
    {
     "data": {
      "application/vnd.jupyter.widget-view+json": {
       "model_id": "9727d53c86994e1aa646c839cfa1d62b",
       "version_major": 2,
       "version_minor": 0
      },
      "text/plain": [
       "Gathering CWE requests for issue 1636693033:   0%|          | 0/881 [00:00<?, ?it/s]"
      ]
     },
     "metadata": {},
     "output_type": "display_data"
    },
    {
     "data": {
      "application/vnd.jupyter.widget-view+json": {
       "model_id": "6a0a363ed57c49118ff5bad8db8c87a9",
       "version_major": 2,
       "version_minor": 0
      },
      "text/plain": [
       "Writing issue 1636693033 batch files:   0%|          | 0/25 [00:00<?, ?it/s]"
      ]
     },
     "metadata": {},
     "output_type": "display_data"
    },
    {
     "data": {
      "application/vnd.jupyter.widget-view+json": {
       "model_id": "46fbbcdc76e948a298e3b8bd6971e62f",
       "version_major": 2,
       "version_minor": 0
      },
      "text/plain": [
       "Gathering CWE requests for issue 1815127533:   0%|          | 0/881 [00:00<?, ?it/s]"
      ]
     },
     "metadata": {},
     "output_type": "display_data"
    },
    {
     "data": {
      "application/vnd.jupyter.widget-view+json": {
       "model_id": "8e3888ea57b84d5cbc26ec9a7addf76f",
       "version_major": 2,
       "version_minor": 0
      },
      "text/plain": [
       "Writing issue 1815127533 batch files:   0%|          | 0/25 [00:00<?, ?it/s]"
      ]
     },
     "metadata": {},
     "output_type": "display_data"
    },
    {
     "data": {
      "application/vnd.jupyter.widget-view+json": {
       "model_id": "7de1af610afd4859aea51a7c16994728",
       "version_major": 2,
       "version_minor": 0
      },
      "text/plain": [
       "Gathering CWE requests for issue 2807259684:   0%|          | 0/881 [00:00<?, ?it/s]"
      ]
     },
     "metadata": {},
     "output_type": "display_data"
    },
    {
     "data": {
      "application/vnd.jupyter.widget-view+json": {
       "model_id": "533b1cc09f7d4bbfb4ffb0ad1d42f08e",
       "version_major": 2,
       "version_minor": 0
      },
      "text/plain": [
       "Writing issue 2807259684 batch files:   0%|          | 0/25 [00:00<?, ?it/s]"
      ]
     },
     "metadata": {},
     "output_type": "display_data"
    },
    {
     "data": {
      "application/vnd.jupyter.widget-view+json": {
       "model_id": "391090cdd0b448e39571ba9232274510",
       "version_major": 2,
       "version_minor": 0
      },
      "text/plain": [
       "Gathering CWE requests for issue 1727638418:   0%|          | 0/881 [00:00<?, ?it/s]"
      ]
     },
     "metadata": {},
     "output_type": "display_data"
    },
    {
     "data": {
      "application/vnd.jupyter.widget-view+json": {
       "model_id": "ff3332f7dbb4426e83b26869ed0a777a",
       "version_major": 2,
       "version_minor": 0
      },
      "text/plain": [
       "Writing issue 1727638418 batch files:   0%|          | 0/25 [00:00<?, ?it/s]"
      ]
     },
     "metadata": {},
     "output_type": "display_data"
    },
    {
     "data": {
      "application/vnd.jupyter.widget-view+json": {
       "model_id": "e96c77a62a4d46b0a3854b822fd27482",
       "version_major": 2,
       "version_minor": 0
      },
      "text/plain": [
       "Gathering CWE requests for issue 1091469110:   0%|          | 0/881 [00:00<?, ?it/s]"
      ]
     },
     "metadata": {},
     "output_type": "display_data"
    },
    {
     "data": {
      "application/vnd.jupyter.widget-view+json": {
       "model_id": "e0e114eec90743c5b8d40363681d13fa",
       "version_major": 2,
       "version_minor": 0
      },
      "text/plain": [
       "Writing issue 1091469110 batch files:   0%|          | 0/25 [00:00<?, ?it/s]"
      ]
     },
     "metadata": {},
     "output_type": "display_data"
    },
    {
     "data": {
      "application/vnd.jupyter.widget-view+json": {
       "model_id": "63c42541e9ca47c59df90be29940f68f",
       "version_major": 2,
       "version_minor": 0
      },
      "text/plain": [
       "Gathering CWE requests for issue 599474018:   0%|          | 0/881 [00:00<?, ?it/s]"
      ]
     },
     "metadata": {},
     "output_type": "display_data"
    },
    {
     "data": {
      "application/vnd.jupyter.widget-view+json": {
       "model_id": "1cb54d0a6db6445ab978bee0bd2ea10e",
       "version_major": 2,
       "version_minor": 0
      },
      "text/plain": [
       "Writing issue 599474018 batch files:   0%|          | 0/25 [00:00<?, ?it/s]"
      ]
     },
     "metadata": {},
     "output_type": "display_data"
    },
    {
     "data": {
      "application/vnd.jupyter.widget-view+json": {
       "model_id": "8ddbf26627ba4a27acfc35872d2c41fc",
       "version_major": 2,
       "version_minor": 0
      },
      "text/plain": [
       "Gathering CWE requests for issue 616789021:   0%|          | 0/881 [00:00<?, ?it/s]"
      ]
     },
     "metadata": {},
     "output_type": "display_data"
    },
    {
     "data": {
      "application/vnd.jupyter.widget-view+json": {
       "model_id": "6742c648901e4114b21fcd646cd94131",
       "version_major": 2,
       "version_minor": 0
      },
      "text/plain": [
       "Writing issue 616789021 batch files:   0%|          | 0/25 [00:00<?, ?it/s]"
      ]
     },
     "metadata": {},
     "output_type": "display_data"
    },
    {
     "data": {
      "application/vnd.jupyter.widget-view+json": {
       "model_id": "efa99d8824654dd7b9331347181e3a77",
       "version_major": 2,
       "version_minor": 0
      },
      "text/plain": [
       "Gathering CWE requests for issue 865638887:   0%|          | 0/881 [00:00<?, ?it/s]"
      ]
     },
     "metadata": {},
     "output_type": "display_data"
    },
    {
     "data": {
      "application/vnd.jupyter.widget-view+json": {
       "model_id": "2cf6093259a743429d5550bcef0fe5a9",
       "version_major": 2,
       "version_minor": 0
      },
      "text/plain": [
       "Writing issue 865638887 batch files:   0%|          | 0/25 [00:00<?, ?it/s]"
      ]
     },
     "metadata": {},
     "output_type": "display_data"
    },
    {
     "data": {
      "application/vnd.jupyter.widget-view+json": {
       "model_id": "49c68c27d4cb4982a5604c6c7eb7d2ff",
       "version_major": 2,
       "version_minor": 0
      },
      "text/plain": [
       "Gathering CWE requests for issue 477418481:   0%|          | 0/881 [00:00<?, ?it/s]"
      ]
     },
     "metadata": {},
     "output_type": "display_data"
    },
    {
     "data": {
      "application/vnd.jupyter.widget-view+json": {
       "model_id": "48735250004a489593da60c26a4b3b5c",
       "version_major": 2,
       "version_minor": 0
      },
      "text/plain": [
       "Writing issue 477418481 batch files:   0%|          | 0/25 [00:00<?, ?it/s]"
      ]
     },
     "metadata": {},
     "output_type": "display_data"
    },
    {
     "data": {
      "application/vnd.jupyter.widget-view+json": {
       "model_id": "4eb404713b0a4c25a573d3444a898282",
       "version_major": 2,
       "version_minor": 0
      },
      "text/plain": [
       "Gathering CWE requests for issue 1931890315:   0%|          | 0/881 [00:00<?, ?it/s]"
      ]
     },
     "metadata": {},
     "output_type": "display_data"
    },
    {
     "data": {
      "application/vnd.jupyter.widget-view+json": {
       "model_id": "fb514a10c4ae4246a9819f3993ecc292",
       "version_major": 2,
       "version_minor": 0
      },
      "text/plain": [
       "Writing issue 1931890315 batch files:   0%|          | 0/25 [00:00<?, ?it/s]"
      ]
     },
     "metadata": {},
     "output_type": "display_data"
    },
    {
     "data": {
      "application/vnd.jupyter.widget-view+json": {
       "model_id": "dcdde2ad4aad48c7a2cfd22062563b78",
       "version_major": 2,
       "version_minor": 0
      },
      "text/plain": [
       "Gathering CWE requests for issue 2441416502:   0%|          | 0/881 [00:00<?, ?it/s]"
      ]
     },
     "metadata": {},
     "output_type": "display_data"
    },
    {
     "data": {
      "application/vnd.jupyter.widget-view+json": {
       "model_id": "3b27684ee7704aec9b1857f99217ea0f",
       "version_major": 2,
       "version_minor": 0
      },
      "text/plain": [
       "Writing issue 2441416502 batch files:   0%|          | 0/25 [00:00<?, ?it/s]"
      ]
     },
     "metadata": {},
     "output_type": "display_data"
    },
    {
     "data": {
      "application/vnd.jupyter.widget-view+json": {
       "model_id": "5c29d8d20c0f4a6e8446e08263360efa",
       "version_major": 2,
       "version_minor": 0
      },
      "text/plain": [
       "Gathering CWE requests for issue 1778084597:   0%|          | 0/881 [00:00<?, ?it/s]"
      ]
     },
     "metadata": {},
     "output_type": "display_data"
    },
    {
     "data": {
      "application/vnd.jupyter.widget-view+json": {
       "model_id": "fec4b05a5bb6428ea55332b9d2477877",
       "version_major": 2,
       "version_minor": 0
      },
      "text/plain": [
       "Writing issue 1778084597 batch files:   0%|          | 0/25 [00:00<?, ?it/s]"
      ]
     },
     "metadata": {},
     "output_type": "display_data"
    },
    {
     "data": {
      "application/vnd.jupyter.widget-view+json": {
       "model_id": "2c7ef49dc4b64f3ebb6147cabc11f53d",
       "version_major": 2,
       "version_minor": 0
      },
      "text/plain": [
       "Gathering CWE requests for issue 2192023149:   0%|          | 0/881 [00:00<?, ?it/s]"
      ]
     },
     "metadata": {},
     "output_type": "display_data"
    },
    {
     "data": {
      "application/vnd.jupyter.widget-view+json": {
       "model_id": "4a2a9ee7f37b4c9babfe2449fc5608e7",
       "version_major": 2,
       "version_minor": 0
      },
      "text/plain": [
       "Writing issue 2192023149 batch files:   0%|          | 0/25 [00:00<?, ?it/s]"
      ]
     },
     "metadata": {},
     "output_type": "display_data"
    },
    {
     "data": {
      "application/vnd.jupyter.widget-view+json": {
       "model_id": "2c4ed8db34404063af6c16da895bb1aa",
       "version_major": 2,
       "version_minor": 0
      },
      "text/plain": [
       "Gathering CWE requests for issue 990148297:   0%|          | 0/881 [00:00<?, ?it/s]"
      ]
     },
     "metadata": {},
     "output_type": "display_data"
    },
    {
     "data": {
      "application/vnd.jupyter.widget-view+json": {
       "model_id": "993cd1e683d1471f95c7982c299f2b53",
       "version_major": 2,
       "version_minor": 0
      },
      "text/plain": [
       "Writing issue 990148297 batch files:   0%|          | 0/25 [00:00<?, ?it/s]"
      ]
     },
     "metadata": {},
     "output_type": "display_data"
    },
    {
     "data": {
      "application/vnd.jupyter.widget-view+json": {
       "model_id": "0a884a7164a743319110ec872c9c759c",
       "version_major": 2,
       "version_minor": 0
      },
      "text/plain": [
       "Gathering CWE requests for issue 1228908313:   0%|          | 0/881 [00:00<?, ?it/s]"
      ]
     },
     "metadata": {},
     "output_type": "display_data"
    },
    {
     "data": {
      "application/vnd.jupyter.widget-view+json": {
       "model_id": "0818c765e71b435ca4172c20da8a6ce9",
       "version_major": 2,
       "version_minor": 0
      },
      "text/plain": [
       "Writing issue 1228908313 batch files:   0%|          | 0/25 [00:00<?, ?it/s]"
      ]
     },
     "metadata": {},
     "output_type": "display_data"
    },
    {
     "data": {
      "application/vnd.jupyter.widget-view+json": {
       "model_id": "68bda29c7ad24898a3de543a2d4cc1e1",
       "version_major": 2,
       "version_minor": 0
      },
      "text/plain": [
       "Gathering CWE requests for issue 949277101:   0%|          | 0/881 [00:00<?, ?it/s]"
      ]
     },
     "metadata": {},
     "output_type": "display_data"
    },
    {
     "data": {
      "application/vnd.jupyter.widget-view+json": {
       "model_id": "111342a0d27f4a4cb13099f866f67e6c",
       "version_major": 2,
       "version_minor": 0
      },
      "text/plain": [
       "Writing issue 949277101 batch files:   0%|          | 0/25 [00:00<?, ?it/s]"
      ]
     },
     "metadata": {},
     "output_type": "display_data"
    },
    {
     "data": {
      "application/vnd.jupyter.widget-view+json": {
       "model_id": "45e10aae364a47aaad76041899d2e6a2",
       "version_major": 2,
       "version_minor": 0
      },
      "text/plain": [
       "Gathering CWE requests for issue 2605775559:   0%|          | 0/881 [00:00<?, ?it/s]"
      ]
     },
     "metadata": {},
     "output_type": "display_data"
    },
    {
     "data": {
      "application/vnd.jupyter.widget-view+json": {
       "model_id": "faba26f7d5d741708dc30994888a768c",
       "version_major": 2,
       "version_minor": 0
      },
      "text/plain": [
       "Writing issue 2605775559 batch files:   0%|          | 0/25 [00:00<?, ?it/s]"
      ]
     },
     "metadata": {},
     "output_type": "display_data"
    },
    {
     "data": {
      "application/vnd.jupyter.widget-view+json": {
       "model_id": "85b1dc07cc694ea19de2d03ec7dd8d0d",
       "version_major": 2,
       "version_minor": 0
      },
      "text/plain": [
       "Gathering CWE requests for issue 1582019406:   0%|          | 0/881 [00:00<?, ?it/s]"
      ]
     },
     "metadata": {},
     "output_type": "display_data"
    },
    {
     "data": {
      "application/vnd.jupyter.widget-view+json": {
       "model_id": "108f113127114e3992912bf99decff37",
       "version_major": 2,
       "version_minor": 0
      },
      "text/plain": [
       "Writing issue 1582019406 batch files:   0%|          | 0/25 [00:00<?, ?it/s]"
      ]
     },
     "metadata": {},
     "output_type": "display_data"
    },
    {
     "data": {
      "application/vnd.jupyter.widget-view+json": {
       "model_id": "169d0dd82ff34eec8fce7a150356dfd6",
       "version_major": 2,
       "version_minor": 0
      },
      "text/plain": [
       "Gathering CWE requests for issue 1093037283:   0%|          | 0/881 [00:00<?, ?it/s]"
      ]
     },
     "metadata": {},
     "output_type": "display_data"
    },
    {
     "data": {
      "application/vnd.jupyter.widget-view+json": {
       "model_id": "fde13422db3f4a11ad1385b92fd20578",
       "version_major": 2,
       "version_minor": 0
      },
      "text/plain": [
       "Writing issue 1093037283 batch files:   0%|          | 0/25 [00:00<?, ?it/s]"
      ]
     },
     "metadata": {},
     "output_type": "display_data"
    },
    {
     "data": {
      "application/vnd.jupyter.widget-view+json": {
       "model_id": "4bb5f9fc0c164f0d97af032da3f0a5bc",
       "version_major": 2,
       "version_minor": 0
      },
      "text/plain": [
       "Gathering CWE requests for issue 456713579:   0%|          | 0/881 [00:00<?, ?it/s]"
      ]
     },
     "metadata": {},
     "output_type": "display_data"
    },
    {
     "data": {
      "application/vnd.jupyter.widget-view+json": {
       "model_id": "dd31cf63d8bd44c49ad4c6c4d5cd0a00",
       "version_major": 2,
       "version_minor": 0
      },
      "text/plain": [
       "Writing issue 456713579 batch files:   0%|          | 0/25 [00:00<?, ?it/s]"
      ]
     },
     "metadata": {},
     "output_type": "display_data"
    },
    {
     "data": {
      "application/vnd.jupyter.widget-view+json": {
       "model_id": "ead53f016d3846cc8ab160cb0c81920f",
       "version_major": 2,
       "version_minor": 0
      },
      "text/plain": [
       "Gathering CWE requests for issue 2079829395:   0%|          | 0/881 [00:00<?, ?it/s]"
      ]
     },
     "metadata": {},
     "output_type": "display_data"
    },
    {
     "data": {
      "application/vnd.jupyter.widget-view+json": {
       "model_id": "c593b231afa849b889b98adc508f3e9c",
       "version_major": 2,
       "version_minor": 0
      },
      "text/plain": [
       "Writing issue 2079829395 batch files:   0%|          | 0/25 [00:00<?, ?it/s]"
      ]
     },
     "metadata": {},
     "output_type": "display_data"
    },
    {
     "data": {
      "application/vnd.jupyter.widget-view+json": {
       "model_id": "6025dd2986e0484d96e4d3d25840fe38",
       "version_major": 2,
       "version_minor": 0
      },
      "text/plain": [
       "Gathering CWE requests for issue 777469465:   0%|          | 0/881 [00:00<?, ?it/s]"
      ]
     },
     "metadata": {},
     "output_type": "display_data"
    },
    {
     "data": {
      "application/vnd.jupyter.widget-view+json": {
       "model_id": "c3dda9b387b74b959b2bac7b6e210b47",
       "version_major": 2,
       "version_minor": 0
      },
      "text/plain": [
       "Writing issue 777469465 batch files:   0%|          | 0/25 [00:00<?, ?it/s]"
      ]
     },
     "metadata": {},
     "output_type": "display_data"
    },
    {
     "data": {
      "application/vnd.jupyter.widget-view+json": {
       "model_id": "2434d5db7c2d4d3f8744edecbcb26a4b",
       "version_major": 2,
       "version_minor": 0
      },
      "text/plain": [
       "Gathering CWE requests for issue 2818694741:   0%|          | 0/881 [00:00<?, ?it/s]"
      ]
     },
     "metadata": {},
     "output_type": "display_data"
    },
    {
     "data": {
      "application/vnd.jupyter.widget-view+json": {
       "model_id": "ea009438c18c4bccb551d1c4de5fbeeb",
       "version_major": 2,
       "version_minor": 0
      },
      "text/plain": [
       "Writing issue 2818694741 batch files:   0%|          | 0/25 [00:00<?, ?it/s]"
      ]
     },
     "metadata": {},
     "output_type": "display_data"
    },
    {
     "data": {
      "application/vnd.jupyter.widget-view+json": {
       "model_id": "2abc9c97aa5543e3b2a5056bcca5f10b",
       "version_major": 2,
       "version_minor": 0
      },
      "text/plain": [
       "Gathering CWE requests for issue 1989827779:   0%|          | 0/881 [00:00<?, ?it/s]"
      ]
     },
     "metadata": {},
     "output_type": "display_data"
    },
    {
     "data": {
      "application/vnd.jupyter.widget-view+json": {
       "model_id": "f51ebd02db434e9fb9488b072e699c1c",
       "version_major": 2,
       "version_minor": 0
      },
      "text/plain": [
       "Writing issue 1989827779 batch files:   0%|          | 0/25 [00:00<?, ?it/s]"
      ]
     },
     "metadata": {},
     "output_type": "display_data"
    },
    {
     "data": {
      "application/vnd.jupyter.widget-view+json": {
       "model_id": "4015376d73074f2e9cea6fd53e61f1d3",
       "version_major": 2,
       "version_minor": 0
      },
      "text/plain": [
       "Gathering CWE requests for issue 1214594854:   0%|          | 0/881 [00:00<?, ?it/s]"
      ]
     },
     "metadata": {},
     "output_type": "display_data"
    },
    {
     "data": {
      "application/vnd.jupyter.widget-view+json": {
       "model_id": "f90b84729551433684de3719da663bc7",
       "version_major": 2,
       "version_minor": 0
      },
      "text/plain": [
       "Writing issue 1214594854 batch files:   0%|          | 0/25 [00:00<?, ?it/s]"
      ]
     },
     "metadata": {},
     "output_type": "display_data"
    },
    {
     "data": {
      "application/vnd.jupyter.widget-view+json": {
       "model_id": "962805b06d844aac9a9e3b4e9432f999",
       "version_major": 2,
       "version_minor": 0
      },
      "text/plain": [
       "Gathering CWE requests for issue 1501315390:   0%|          | 0/881 [00:00<?, ?it/s]"
      ]
     },
     "metadata": {},
     "output_type": "display_data"
    },
    {
     "data": {
      "application/vnd.jupyter.widget-view+json": {
       "model_id": "c47f8dd1fb1046f2bcb2fce5231e8339",
       "version_major": 2,
       "version_minor": 0
      },
      "text/plain": [
       "Writing issue 1501315390 batch files:   0%|          | 0/25 [00:00<?, ?it/s]"
      ]
     },
     "metadata": {},
     "output_type": "display_data"
    },
    {
     "data": {
      "application/vnd.jupyter.widget-view+json": {
       "model_id": "f5b56cf00c6943ebb7092e798d4fddb3",
       "version_major": 2,
       "version_minor": 0
      },
      "text/plain": [
       "Gathering CWE requests for issue 1093038878:   0%|          | 0/881 [00:00<?, ?it/s]"
      ]
     },
     "metadata": {},
     "output_type": "display_data"
    },
    {
     "data": {
      "application/vnd.jupyter.widget-view+json": {
       "model_id": "84cab123f961406682fc15f64a44e55d",
       "version_major": 2,
       "version_minor": 0
      },
      "text/plain": [
       "Writing issue 1093038878 batch files:   0%|          | 0/25 [00:00<?, ?it/s]"
      ]
     },
     "metadata": {},
     "output_type": "display_data"
    },
    {
     "data": {
      "application/vnd.jupyter.widget-view+json": {
       "model_id": "39b997b7eff7457b8186e54888c5b804",
       "version_major": 2,
       "version_minor": 0
      },
      "text/plain": [
       "Gathering CWE requests for issue 722704051:   0%|          | 0/881 [00:00<?, ?it/s]"
      ]
     },
     "metadata": {},
     "output_type": "display_data"
    },
    {
     "data": {
      "application/vnd.jupyter.widget-view+json": {
       "model_id": "22b658c03f2a47e594871b41528e55b5",
       "version_major": 2,
       "version_minor": 0
      },
      "text/plain": [
       "Writing issue 722704051 batch files:   0%|          | 0/25 [00:00<?, ?it/s]"
      ]
     },
     "metadata": {},
     "output_type": "display_data"
    },
    {
     "data": {
      "application/vnd.jupyter.widget-view+json": {
       "model_id": "588d66d2541545338c8d1bb5b19f14a3",
       "version_major": 2,
       "version_minor": 0
      },
      "text/plain": [
       "Gathering CWE requests for issue 889698306:   0%|          | 0/881 [00:00<?, ?it/s]"
      ]
     },
     "metadata": {},
     "output_type": "display_data"
    },
    {
     "data": {
      "application/vnd.jupyter.widget-view+json": {
       "model_id": "ebdc701364e3469bad3cef9255c2df4f",
       "version_major": 2,
       "version_minor": 0
      },
      "text/plain": [
       "Writing issue 889698306 batch files:   0%|          | 0/25 [00:00<?, ?it/s]"
      ]
     },
     "metadata": {},
     "output_type": "display_data"
    },
    {
     "data": {
      "application/vnd.jupyter.widget-view+json": {
       "model_id": "341ece1626e34ff187fd740458654c80",
       "version_major": 2,
       "version_minor": 0
      },
      "text/plain": [
       "Gathering CWE requests for issue 1659733406:   0%|          | 0/881 [00:00<?, ?it/s]"
      ]
     },
     "metadata": {},
     "output_type": "display_data"
    },
    {
     "data": {
      "application/vnd.jupyter.widget-view+json": {
       "model_id": "8909504b63e9402eb52bb291fc6d438f",
       "version_major": 2,
       "version_minor": 0
      },
      "text/plain": [
       "Writing issue 1659733406 batch files:   0%|          | 0/25 [00:00<?, ?it/s]"
      ]
     },
     "metadata": {},
     "output_type": "display_data"
    },
    {
     "data": {
      "application/vnd.jupyter.widget-view+json": {
       "model_id": "9d7282165ad347c4b097d8bdd8b36e9a",
       "version_major": 2,
       "version_minor": 0
      },
      "text/plain": [
       "Gathering CWE requests for issue 2278260913:   0%|          | 0/881 [00:00<?, ?it/s]"
      ]
     },
     "metadata": {},
     "output_type": "display_data"
    },
    {
     "data": {
      "application/vnd.jupyter.widget-view+json": {
       "model_id": "de881fb4657b4d26a9b44c117013cc06",
       "version_major": 2,
       "version_minor": 0
      },
      "text/plain": [
       "Writing issue 2278260913 batch files:   0%|          | 0/25 [00:00<?, ?it/s]"
      ]
     },
     "metadata": {},
     "output_type": "display_data"
    },
    {
     "data": {
      "application/vnd.jupyter.widget-view+json": {
       "model_id": "8791f6da7c934557b5b0eb964371691d",
       "version_major": 2,
       "version_minor": 0
      },
      "text/plain": [
       "Gathering CWE requests for issue 783354413:   0%|          | 0/881 [00:00<?, ?it/s]"
      ]
     },
     "metadata": {},
     "output_type": "display_data"
    },
    {
     "data": {
      "application/vnd.jupyter.widget-view+json": {
       "model_id": "44352665d8474cad8029628007f0dbc6",
       "version_major": 2,
       "version_minor": 0
      },
      "text/plain": [
       "Writing issue 783354413 batch files:   0%|          | 0/25 [00:00<?, ?it/s]"
      ]
     },
     "metadata": {},
     "output_type": "display_data"
    },
    {
     "data": {
      "application/vnd.jupyter.widget-view+json": {
       "model_id": "abdf66a3a7134e10b20aa65beb329879",
       "version_major": 2,
       "version_minor": 0
      },
      "text/plain": [
       "Gathering CWE requests for issue 1717809940:   0%|          | 0/881 [00:00<?, ?it/s]"
      ]
     },
     "metadata": {},
     "output_type": "display_data"
    },
    {
     "data": {
      "application/vnd.jupyter.widget-view+json": {
       "model_id": "a8c1e0d1762248bcb00d3fddcb2f92f6",
       "version_major": 2,
       "version_minor": 0
      },
      "text/plain": [
       "Writing issue 1717809940 batch files:   0%|          | 0/25 [00:00<?, ?it/s]"
      ]
     },
     "metadata": {},
     "output_type": "display_data"
    },
    {
     "data": {
      "application/vnd.jupyter.widget-view+json": {
       "model_id": "f1f843da69394303855a35789b4e2ca3",
       "version_major": 2,
       "version_minor": 0
      },
      "text/plain": [
       "Gathering CWE requests for issue 2269326866:   0%|          | 0/881 [00:00<?, ?it/s]"
      ]
     },
     "metadata": {},
     "output_type": "display_data"
    },
    {
     "data": {
      "application/vnd.jupyter.widget-view+json": {
       "model_id": "30b3a6b141ea4e1aa1dccde5bb506091",
       "version_major": 2,
       "version_minor": 0
      },
      "text/plain": [
       "Writing issue 2269326866 batch files:   0%|          | 0/25 [00:00<?, ?it/s]"
      ]
     },
     "metadata": {},
     "output_type": "display_data"
    },
    {
     "data": {
      "application/vnd.jupyter.widget-view+json": {
       "model_id": "b8c0b37c609b468bb6e9d76205b26aca",
       "version_major": 2,
       "version_minor": 0
      },
      "text/plain": [
       "Gathering CWE requests for issue 2269383999:   0%|          | 0/881 [00:00<?, ?it/s]"
      ]
     },
     "metadata": {},
     "output_type": "display_data"
    },
    {
     "data": {
      "application/vnd.jupyter.widget-view+json": {
       "model_id": "fa7c0a60452949499038f879d3b5c062",
       "version_major": 2,
       "version_minor": 0
      },
      "text/plain": [
       "Writing issue 2269383999 batch files:   0%|          | 0/25 [00:00<?, ?it/s]"
      ]
     },
     "metadata": {},
     "output_type": "display_data"
    },
    {
     "data": {
      "application/vnd.jupyter.widget-view+json": {
       "model_id": "d092071b8ce84751a90b15adf9372855",
       "version_major": 2,
       "version_minor": 0
      },
      "text/plain": [
       "Gathering CWE requests for issue 2320431178:   0%|          | 0/881 [00:00<?, ?it/s]"
      ]
     },
     "metadata": {},
     "output_type": "display_data"
    },
    {
     "data": {
      "application/vnd.jupyter.widget-view+json": {
       "model_id": "eacc5a6602854df79034e652f05e01ec",
       "version_major": 2,
       "version_minor": 0
      },
      "text/plain": [
       "Writing issue 2320431178 batch files:   0%|          | 0/25 [00:00<?, ?it/s]"
      ]
     },
     "metadata": {},
     "output_type": "display_data"
    },
    {
     "data": {
      "application/vnd.jupyter.widget-view+json": {
       "model_id": "bd215fe2fb934447ba3d28659c17cc87",
       "version_major": 2,
       "version_minor": 0
      },
      "text/plain": [
       "Gathering CWE requests for issue 1323933263:   0%|          | 0/881 [00:00<?, ?it/s]"
      ]
     },
     "metadata": {},
     "output_type": "display_data"
    },
    {
     "data": {
      "application/vnd.jupyter.widget-view+json": {
       "model_id": "f3b5d264e7734696ba686e5af19f9dbd",
       "version_major": 2,
       "version_minor": 0
      },
      "text/plain": [
       "Writing issue 1323933263 batch files:   0%|          | 0/25 [00:00<?, ?it/s]"
      ]
     },
     "metadata": {},
     "output_type": "display_data"
    },
    {
     "data": {
      "application/vnd.jupyter.widget-view+json": {
       "model_id": "25841a719c4e496287c6f24c97615a88",
       "version_major": 2,
       "version_minor": 0
      },
      "text/plain": [
       "Gathering CWE requests for issue 853054686:   0%|          | 0/881 [00:00<?, ?it/s]"
      ]
     },
     "metadata": {},
     "output_type": "display_data"
    },
    {
     "data": {
      "application/vnd.jupyter.widget-view+json": {
       "model_id": "1cb011ab59bc47d5882a3afbdd3712c3",
       "version_major": 2,
       "version_minor": 0
      },
      "text/plain": [
       "Writing issue 853054686 batch files:   0%|          | 0/25 [00:00<?, ?it/s]"
      ]
     },
     "metadata": {},
     "output_type": "display_data"
    },
    {
     "data": {
      "application/vnd.jupyter.widget-view+json": {
       "model_id": "26662c007a1346d4b2c42cf58b651bb9",
       "version_major": 2,
       "version_minor": 0
      },
      "text/plain": [
       "Gathering CWE requests for issue 1091423443:   0%|          | 0/881 [00:00<?, ?it/s]"
      ]
     },
     "metadata": {},
     "output_type": "display_data"
    },
    {
     "data": {
      "application/vnd.jupyter.widget-view+json": {
       "model_id": "637710542c6540d19787acc5a0a650e8",
       "version_major": 2,
       "version_minor": 0
      },
      "text/plain": [
       "Writing issue 1091423443 batch files:   0%|          | 0/25 [00:00<?, ?it/s]"
      ]
     },
     "metadata": {},
     "output_type": "display_data"
    },
    {
     "data": {
      "application/vnd.jupyter.widget-view+json": {
       "model_id": "00309a522efd46bb8b2623fce9224801",
       "version_major": 2,
       "version_minor": 0
      },
      "text/plain": [
       "Gathering CWE requests for issue 2038192181:   0%|          | 0/881 [00:00<?, ?it/s]"
      ]
     },
     "metadata": {},
     "output_type": "display_data"
    },
    {
     "data": {
      "application/vnd.jupyter.widget-view+json": {
       "model_id": "2fd1a09f74694a19b90ecca580e46fd7",
       "version_major": 2,
       "version_minor": 0
      },
      "text/plain": [
       "Writing issue 2038192181 batch files:   0%|          | 0/25 [00:00<?, ?it/s]"
      ]
     },
     "metadata": {},
     "output_type": "display_data"
    },
    {
     "data": {
      "application/vnd.jupyter.widget-view+json": {
       "model_id": "f30025c476f64eb0aa7b8db1b6e9f332",
       "version_major": 2,
       "version_minor": 0
      },
      "text/plain": [
       "Gathering CWE requests for issue 1665136195:   0%|          | 0/881 [00:00<?, ?it/s]"
      ]
     },
     "metadata": {},
     "output_type": "display_data"
    },
    {
     "data": {
      "application/vnd.jupyter.widget-view+json": {
       "model_id": "2f456c6fb06d4ceca4a9f5fe1864d80d",
       "version_major": 2,
       "version_minor": 0
      },
      "text/plain": [
       "Writing issue 1665136195 batch files:   0%|          | 0/25 [00:00<?, ?it/s]"
      ]
     },
     "metadata": {},
     "output_type": "display_data"
    },
    {
     "data": {
      "application/vnd.jupyter.widget-view+json": {
       "model_id": "17611c16e5cd432e8a241bfcbe97453f",
       "version_major": 2,
       "version_minor": 0
      },
      "text/plain": [
       "Gathering CWE requests for issue 1126772982:   0%|          | 0/881 [00:00<?, ?it/s]"
      ]
     },
     "metadata": {},
     "output_type": "display_data"
    },
    {
     "data": {
      "application/vnd.jupyter.widget-view+json": {
       "model_id": "f970747da6104998881681af01484988",
       "version_major": 2,
       "version_minor": 0
      },
      "text/plain": [
       "Writing issue 1126772982 batch files:   0%|          | 0/25 [00:00<?, ?it/s]"
      ]
     },
     "metadata": {},
     "output_type": "display_data"
    },
    {
     "data": {
      "application/vnd.jupyter.widget-view+json": {
       "model_id": "cad6c3337d8a42f4862184ed8b5968d3",
       "version_major": 2,
       "version_minor": 0
      },
      "text/plain": [
       "Gathering CWE requests for issue 549961224:   0%|          | 0/881 [00:00<?, ?it/s]"
      ]
     },
     "metadata": {},
     "output_type": "display_data"
    },
    {
     "data": {
      "application/vnd.jupyter.widget-view+json": {
       "model_id": "12f3795c2e964d918fc1a061f25a9bc3",
       "version_major": 2,
       "version_minor": 0
      },
      "text/plain": [
       "Writing issue 549961224 batch files:   0%|          | 0/25 [00:00<?, ?it/s]"
      ]
     },
     "metadata": {},
     "output_type": "display_data"
    },
    {
     "data": {
      "application/vnd.jupyter.widget-view+json": {
       "model_id": "0bbfb0ebc13143638aa038cb7d516985",
       "version_major": 2,
       "version_minor": 0
      },
      "text/plain": [
       "Gathering CWE requests for issue 1695904246:   0%|          | 0/881 [00:00<?, ?it/s]"
      ]
     },
     "metadata": {},
     "output_type": "display_data"
    },
    {
     "data": {
      "application/vnd.jupyter.widget-view+json": {
       "model_id": "ee2aa26ebd154237ac43af22c9ee1741",
       "version_major": 2,
       "version_minor": 0
      },
      "text/plain": [
       "Writing issue 1695904246 batch files:   0%|          | 0/25 [00:00<?, ?it/s]"
      ]
     },
     "metadata": {},
     "output_type": "display_data"
    },
    {
     "data": {
      "application/vnd.jupyter.widget-view+json": {
       "model_id": "a68214434bc34131a952cf2b050e66e6",
       "version_major": 2,
       "version_minor": 0
      },
      "text/plain": [
       "Gathering CWE requests for issue 990150575:   0%|          | 0/881 [00:00<?, ?it/s]"
      ]
     },
     "metadata": {},
     "output_type": "display_data"
    },
    {
     "data": {
      "application/vnd.jupyter.widget-view+json": {
       "model_id": "b0557667ab074119b7543e1540ca821c",
       "version_major": 2,
       "version_minor": 0
      },
      "text/plain": [
       "Writing issue 990150575 batch files:   0%|          | 0/25 [00:00<?, ?it/s]"
      ]
     },
     "metadata": {},
     "output_type": "display_data"
    },
    {
     "data": {
      "application/vnd.jupyter.widget-view+json": {
       "model_id": "80c121c5550b4dfa8359bd4b22fe5a06",
       "version_major": 2,
       "version_minor": 0
      },
      "text/plain": [
       "Gathering CWE requests for issue 778896339:   0%|          | 0/881 [00:00<?, ?it/s]"
      ]
     },
     "metadata": {},
     "output_type": "display_data"
    },
    {
     "data": {
      "application/vnd.jupyter.widget-view+json": {
       "model_id": "a7871a37a2f3469b9bf150b73ed87022",
       "version_major": 2,
       "version_minor": 0
      },
      "text/plain": [
       "Writing issue 778896339 batch files:   0%|          | 0/25 [00:00<?, ?it/s]"
      ]
     },
     "metadata": {},
     "output_type": "display_data"
    },
    {
     "data": {
      "application/vnd.jupyter.widget-view+json": {
       "model_id": "50087fc308014055a78542811e568d41",
       "version_major": 2,
       "version_minor": 0
      },
      "text/plain": [
       "Gathering CWE requests for issue 880296904:   0%|          | 0/881 [00:00<?, ?it/s]"
      ]
     },
     "metadata": {},
     "output_type": "display_data"
    },
    {
     "data": {
      "application/vnd.jupyter.widget-view+json": {
       "model_id": "51347303d8c54ebbbdbfd2fa1d140ba8",
       "version_major": 2,
       "version_minor": 0
      },
      "text/plain": [
       "Writing issue 880296904 batch files:   0%|          | 0/25 [00:00<?, ?it/s]"
      ]
     },
     "metadata": {},
     "output_type": "display_data"
    },
    {
     "data": {
      "application/vnd.jupyter.widget-view+json": {
       "model_id": "f8b1fe4936c848059adee6cead2fa08a",
       "version_major": 2,
       "version_minor": 0
      },
      "text/plain": [
       "Gathering CWE requests for issue 1353276173:   0%|          | 0/881 [00:00<?, ?it/s]"
      ]
     },
     "metadata": {},
     "output_type": "display_data"
    },
    {
     "data": {
      "application/vnd.jupyter.widget-view+json": {
       "model_id": "e354ed46f708436a81cd1e2680155e67",
       "version_major": 2,
       "version_minor": 0
      },
      "text/plain": [
       "Writing issue 1353276173 batch files:   0%|          | 0/25 [00:00<?, ?it/s]"
      ]
     },
     "metadata": {},
     "output_type": "display_data"
    },
    {
     "data": {
      "application/vnd.jupyter.widget-view+json": {
       "model_id": "5175782d84824fb9882e63eaa21fa817",
       "version_major": 2,
       "version_minor": 0
      },
      "text/plain": [
       "Gathering CWE requests for issue 2070717442:   0%|          | 0/881 [00:00<?, ?it/s]"
      ]
     },
     "metadata": {},
     "output_type": "display_data"
    },
    {
     "data": {
      "application/vnd.jupyter.widget-view+json": {
       "model_id": "90c1026d92434a58aabde32336838b36",
       "version_major": 2,
       "version_minor": 0
      },
      "text/plain": [
       "Writing issue 2070717442 batch files:   0%|          | 0/25 [00:00<?, ?it/s]"
      ]
     },
     "metadata": {},
     "output_type": "display_data"
    },
    {
     "data": {
      "application/vnd.jupyter.widget-view+json": {
       "model_id": "8824dc31b2604c67b17af8d2e45325d7",
       "version_major": 2,
       "version_minor": 0
      },
      "text/plain": [
       "Gathering CWE requests for issue 1982577272:   0%|          | 0/881 [00:00<?, ?it/s]"
      ]
     },
     "metadata": {},
     "output_type": "display_data"
    },
    {
     "data": {
      "application/vnd.jupyter.widget-view+json": {
       "model_id": "59f25889f1964db3ab83904cdbca3402",
       "version_major": 2,
       "version_minor": 0
      },
      "text/plain": [
       "Writing issue 1982577272 batch files:   0%|          | 0/25 [00:00<?, ?it/s]"
      ]
     },
     "metadata": {},
     "output_type": "display_data"
    },
    {
     "data": {
      "application/vnd.jupyter.widget-view+json": {
       "model_id": "257207016622453298fec7c2612a9a15",
       "version_major": 2,
       "version_minor": 0
      },
      "text/plain": [
       "Gathering CWE requests for issue 440418682:   0%|          | 0/881 [00:00<?, ?it/s]"
      ]
     },
     "metadata": {},
     "output_type": "display_data"
    },
    {
     "data": {
      "application/vnd.jupyter.widget-view+json": {
       "model_id": "2fbd7e34120e4dc3afb7196bf6a8eb0a",
       "version_major": 2,
       "version_minor": 0
      },
      "text/plain": [
       "Writing issue 440418682 batch files:   0%|          | 0/25 [00:00<?, ?it/s]"
      ]
     },
     "metadata": {},
     "output_type": "display_data"
    },
    {
     "data": {
      "application/vnd.jupyter.widget-view+json": {
       "model_id": "d3f480839a89435488e379e4ad2905bb",
       "version_major": 2,
       "version_minor": 0
      },
      "text/plain": [
       "Gathering CWE requests for issue 1680085092:   0%|          | 0/881 [00:00<?, ?it/s]"
      ]
     },
     "metadata": {},
     "output_type": "display_data"
    },
    {
     "data": {
      "application/vnd.jupyter.widget-view+json": {
       "model_id": "fbdb4040e04549598161ce3836371e3c",
       "version_major": 2,
       "version_minor": 0
      },
      "text/plain": [
       "Writing issue 1680085092 batch files:   0%|          | 0/25 [00:00<?, ?it/s]"
      ]
     },
     "metadata": {},
     "output_type": "display_data"
    },
    {
     "data": {
      "application/vnd.jupyter.widget-view+json": {
       "model_id": "fa00e78a633d4b2c83f77b902fa2b753",
       "version_major": 2,
       "version_minor": 0
      },
      "text/plain": [
       "Gathering CWE requests for issue 1076656843:   0%|          | 0/881 [00:00<?, ?it/s]"
      ]
     },
     "metadata": {},
     "output_type": "display_data"
    },
    {
     "data": {
      "application/vnd.jupyter.widget-view+json": {
       "model_id": "bb375317297a4b61b4fff855faf51a9d",
       "version_major": 2,
       "version_minor": 0
      },
      "text/plain": [
       "Writing issue 1076656843 batch files:   0%|          | 0/25 [00:00<?, ?it/s]"
      ]
     },
     "metadata": {},
     "output_type": "display_data"
    },
    {
     "data": {
      "application/vnd.jupyter.widget-view+json": {
       "model_id": "16cc76b2577645f4902e1cc18ddb5cce",
       "version_major": 2,
       "version_minor": 0
      },
      "text/plain": [
       "Gathering CWE requests for issue 1376646543:   0%|          | 0/881 [00:00<?, ?it/s]"
      ]
     },
     "metadata": {},
     "output_type": "display_data"
    },
    {
     "data": {
      "application/vnd.jupyter.widget-view+json": {
       "model_id": "5d42506d33c0467d81731b0b9d6f8944",
       "version_major": 2,
       "version_minor": 0
      },
      "text/plain": [
       "Writing issue 1376646543 batch files:   0%|          | 0/25 [00:00<?, ?it/s]"
      ]
     },
     "metadata": {},
     "output_type": "display_data"
    },
    {
     "data": {
      "application/vnd.jupyter.widget-view+json": {
       "model_id": "2955ebb7433d4c7fb7f4d711fe38d0a0",
       "version_major": 2,
       "version_minor": 0
      },
      "text/plain": [
       "Gathering CWE requests for issue 945118917:   0%|          | 0/881 [00:00<?, ?it/s]"
      ]
     },
     "metadata": {},
     "output_type": "display_data"
    },
    {
     "data": {
      "application/vnd.jupyter.widget-view+json": {
       "model_id": "a4166053d5114dd78bd0b444d146322d",
       "version_major": 2,
       "version_minor": 0
      },
      "text/plain": [
       "Writing issue 945118917 batch files:   0%|          | 0/25 [00:00<?, ?it/s]"
      ]
     },
     "metadata": {},
     "output_type": "display_data"
    },
    {
     "data": {
      "application/vnd.jupyter.widget-view+json": {
       "model_id": "1bfee23a1fb045cd8f56d1dd3cf42ce5",
       "version_major": 2,
       "version_minor": 0
      },
      "text/plain": [
       "Gathering CWE requests for issue 1091462280:   0%|          | 0/881 [00:00<?, ?it/s]"
      ]
     },
     "metadata": {},
     "output_type": "display_data"
    },
    {
     "data": {
      "application/vnd.jupyter.widget-view+json": {
       "model_id": "b5ab44fc3bd74fde9579a220ab996ac5",
       "version_major": 2,
       "version_minor": 0
      },
      "text/plain": [
       "Writing issue 1091462280 batch files:   0%|          | 0/25 [00:00<?, ?it/s]"
      ]
     },
     "metadata": {},
     "output_type": "display_data"
    },
    {
     "data": {
      "application/vnd.jupyter.widget-view+json": {
       "model_id": "0030992c306c48d48757375267159a40",
       "version_major": 2,
       "version_minor": 0
      },
      "text/plain": [
       "Gathering CWE requests for issue 1075250208:   0%|          | 0/881 [00:00<?, ?it/s]"
      ]
     },
     "metadata": {},
     "output_type": "display_data"
    },
    {
     "data": {
      "application/vnd.jupyter.widget-view+json": {
       "model_id": "3f162b5e74084d509422a6ac6a9b24b3",
       "version_major": 2,
       "version_minor": 0
      },
      "text/plain": [
       "Writing issue 1075250208 batch files:   0%|          | 0/25 [00:00<?, ?it/s]"
      ]
     },
     "metadata": {},
     "output_type": "display_data"
    },
    {
     "data": {
      "application/vnd.jupyter.widget-view+json": {
       "model_id": "222f6a9ada804c0185df061247450d37",
       "version_major": 2,
       "version_minor": 0
      },
      "text/plain": [
       "Gathering CWE requests for issue 1776376880:   0%|          | 0/881 [00:00<?, ?it/s]"
      ]
     },
     "metadata": {},
     "output_type": "display_data"
    },
    {
     "data": {
      "application/vnd.jupyter.widget-view+json": {
       "model_id": "25e1e6c095fc46618a0a436013d7c8d3",
       "version_major": 2,
       "version_minor": 0
      },
      "text/plain": [
       "Writing issue 1776376880 batch files:   0%|          | 0/25 [00:00<?, ?it/s]"
      ]
     },
     "metadata": {},
     "output_type": "display_data"
    },
    {
     "data": {
      "application/vnd.jupyter.widget-view+json": {
       "model_id": "95954fd98b084b7da2729b017d90e4e0",
       "version_major": 2,
       "version_minor": 0
      },
      "text/plain": [
       "Gathering CWE requests for issue 871724292:   0%|          | 0/881 [00:00<?, ?it/s]"
      ]
     },
     "metadata": {},
     "output_type": "display_data"
    },
    {
     "data": {
      "application/vnd.jupyter.widget-view+json": {
       "model_id": "74811e2f889d4a58a9427458a0f0055d",
       "version_major": 2,
       "version_minor": 0
      },
      "text/plain": [
       "Writing issue 871724292 batch files:   0%|          | 0/25 [00:00<?, ?it/s]"
      ]
     },
     "metadata": {},
     "output_type": "display_data"
    },
    {
     "data": {
      "application/vnd.jupyter.widget-view+json": {
       "model_id": "2ccb879635be47b797027e8a8b7dac39",
       "version_major": 2,
       "version_minor": 0
      },
      "text/plain": [
       "Gathering CWE requests for issue 1414350784:   0%|          | 0/881 [00:00<?, ?it/s]"
      ]
     },
     "metadata": {},
     "output_type": "display_data"
    },
    {
     "data": {
      "application/vnd.jupyter.widget-view+json": {
       "model_id": "a515ac77be4a4989a998897d1b707654",
       "version_major": 2,
       "version_minor": 0
      },
      "text/plain": [
       "Writing issue 1414350784 batch files:   0%|          | 0/25 [00:00<?, ?it/s]"
      ]
     },
     "metadata": {},
     "output_type": "display_data"
    },
    {
     "data": {
      "application/vnd.jupyter.widget-view+json": {
       "model_id": "72cefd7ac50840a39dba45a9d4d33413",
       "version_major": 2,
       "version_minor": 0
      },
      "text/plain": [
       "Gathering CWE requests for issue 977822133:   0%|          | 0/881 [00:00<?, ?it/s]"
      ]
     },
     "metadata": {},
     "output_type": "display_data"
    },
    {
     "data": {
      "application/vnd.jupyter.widget-view+json": {
       "model_id": "d32b6317f612421a813bb0bd7d154bd1",
       "version_major": 2,
       "version_minor": 0
      },
      "text/plain": [
       "Writing issue 977822133 batch files:   0%|          | 0/25 [00:00<?, ?it/s]"
      ]
     },
     "metadata": {},
     "output_type": "display_data"
    },
    {
     "data": {
      "application/vnd.jupyter.widget-view+json": {
       "model_id": "5392c12df3fc4ac8b0f35ea5c383c567",
       "version_major": 2,
       "version_minor": 0
      },
      "text/plain": [
       "Gathering CWE requests for issue 2832140688:   0%|          | 0/881 [00:00<?, ?it/s]"
      ]
     },
     "metadata": {},
     "output_type": "display_data"
    },
    {
     "data": {
      "application/vnd.jupyter.widget-view+json": {
       "model_id": "51bbd02ba515449c85171fe76a2f3f8b",
       "version_major": 2,
       "version_minor": 0
      },
      "text/plain": [
       "Writing issue 2832140688 batch files:   0%|          | 0/25 [00:00<?, ?it/s]"
      ]
     },
     "metadata": {},
     "output_type": "display_data"
    },
    {
     "data": {
      "application/vnd.jupyter.widget-view+json": {
       "model_id": "5c8decffac5943b9b2c263f66a0cc96e",
       "version_major": 2,
       "version_minor": 0
      },
      "text/plain": [
       "Gathering CWE requests for issue 871728422:   0%|          | 0/881 [00:00<?, ?it/s]"
      ]
     },
     "metadata": {},
     "output_type": "display_data"
    },
    {
     "data": {
      "application/vnd.jupyter.widget-view+json": {
       "model_id": "bf965fd6d155499e8b31c246ce0b36fc",
       "version_major": 2,
       "version_minor": 0
      },
      "text/plain": [
       "Writing issue 871728422 batch files:   0%|          | 0/25 [00:00<?, ?it/s]"
      ]
     },
     "metadata": {},
     "output_type": "display_data"
    },
    {
     "data": {
      "application/vnd.jupyter.widget-view+json": {
       "model_id": "9c2a0c61bfb248beaa5bc0f36fedd25c",
       "version_major": 2,
       "version_minor": 0
      },
      "text/plain": [
       "Gathering CWE requests for issue 2267101090:   0%|          | 0/881 [00:00<?, ?it/s]"
      ]
     },
     "metadata": {},
     "output_type": "display_data"
    },
    {
     "data": {
      "application/vnd.jupyter.widget-view+json": {
       "model_id": "93f03b120ebf4349ae44358d699eb6fc",
       "version_major": 2,
       "version_minor": 0
      },
      "text/plain": [
       "Writing issue 2267101090 batch files:   0%|          | 0/25 [00:00<?, ?it/s]"
      ]
     },
     "metadata": {},
     "output_type": "display_data"
    },
    {
     "data": {
      "application/vnd.jupyter.widget-view+json": {
       "model_id": "b06e1711d975411b9747b16cb258bb19",
       "version_major": 2,
       "version_minor": 0
      },
      "text/plain": [
       "Gathering CWE requests for issue 2769121557:   0%|          | 0/881 [00:00<?, ?it/s]"
      ]
     },
     "metadata": {},
     "output_type": "display_data"
    },
    {
     "data": {
      "application/vnd.jupyter.widget-view+json": {
       "model_id": "908328e627db4107a0516e21ada733bd",
       "version_major": 2,
       "version_minor": 0
      },
      "text/plain": [
       "Writing issue 2769121557 batch files:   0%|          | 0/25 [00:00<?, ?it/s]"
      ]
     },
     "metadata": {},
     "output_type": "display_data"
    },
    {
     "data": {
      "application/vnd.jupyter.widget-view+json": {
       "model_id": "ced3a7841a4e45dfb00d716a72b5e3b3",
       "version_major": 2,
       "version_minor": 0
      },
      "text/plain": [
       "Gathering CWE requests for issue 872168928:   0%|          | 0/881 [00:00<?, ?it/s]"
      ]
     },
     "metadata": {},
     "output_type": "display_data"
    },
    {
     "data": {
      "application/vnd.jupyter.widget-view+json": {
       "model_id": "a8614cbbec0f4828965a193596b79808",
       "version_major": 2,
       "version_minor": 0
      },
      "text/plain": [
       "Writing issue 872168928 batch files:   0%|          | 0/25 [00:00<?, ?it/s]"
      ]
     },
     "metadata": {},
     "output_type": "display_data"
    },
    {
     "data": {
      "application/vnd.jupyter.widget-view+json": {
       "model_id": "858348c4772d41ea9ef5b9ceb4f6dbec",
       "version_major": 2,
       "version_minor": 0
      },
      "text/plain": [
       "Gathering CWE requests for issue 2834398972:   0%|          | 0/881 [00:00<?, ?it/s]"
      ]
     },
     "metadata": {},
     "output_type": "display_data"
    },
    {
     "data": {
      "application/vnd.jupyter.widget-view+json": {
       "model_id": "88ab74a0fd1948908db50f015abab03e",
       "version_major": 2,
       "version_minor": 0
      },
      "text/plain": [
       "Writing issue 2834398972 batch files:   0%|          | 0/25 [00:00<?, ?it/s]"
      ]
     },
     "metadata": {},
     "output_type": "display_data"
    },
    {
     "data": {
      "application/vnd.jupyter.widget-view+json": {
       "model_id": "d19b40d20ad541c9a348737993df16d2",
       "version_major": 2,
       "version_minor": 0
      },
      "text/plain": [
       "Gathering CWE requests for issue 2192265867:   0%|          | 0/881 [00:00<?, ?it/s]"
      ]
     },
     "metadata": {},
     "output_type": "display_data"
    },
    {
     "data": {
      "application/vnd.jupyter.widget-view+json": {
       "model_id": "c39eb962af1b4b159d80d3470b4adafe",
       "version_major": 2,
       "version_minor": 0
      },
      "text/plain": [
       "Writing issue 2192265867 batch files:   0%|          | 0/25 [00:00<?, ?it/s]"
      ]
     },
     "metadata": {},
     "output_type": "display_data"
    },
    {
     "data": {
      "application/vnd.jupyter.widget-view+json": {
       "model_id": "dc078220bf7e411ba8d4148409f9d17d",
       "version_major": 2,
       "version_minor": 0
      },
      "text/plain": [
       "Gathering CWE requests for issue 1076718691:   0%|          | 0/881 [00:00<?, ?it/s]"
      ]
     },
     "metadata": {},
     "output_type": "display_data"
    },
    {
     "data": {
      "application/vnd.jupyter.widget-view+json": {
       "model_id": "821717bcece84969b1f45ddab46146e9",
       "version_major": 2,
       "version_minor": 0
      },
      "text/plain": [
       "Writing issue 1076718691 batch files:   0%|          | 0/25 [00:00<?, ?it/s]"
      ]
     },
     "metadata": {},
     "output_type": "display_data"
    },
    {
     "data": {
      "application/vnd.jupyter.widget-view+json": {
       "model_id": "65a90bc5f5f6474488a509f6b01c12c1",
       "version_major": 2,
       "version_minor": 0
      },
      "text/plain": [
       "Gathering CWE requests for issue 671412127:   0%|          | 0/881 [00:00<?, ?it/s]"
      ]
     },
     "metadata": {},
     "output_type": "display_data"
    },
    {
     "data": {
      "application/vnd.jupyter.widget-view+json": {
       "model_id": "4b7df6b132c841069ce2af0694572fdf",
       "version_major": 2,
       "version_minor": 0
      },
      "text/plain": [
       "Writing issue 671412127 batch files:   0%|          | 0/25 [00:00<?, ?it/s]"
      ]
     },
     "metadata": {},
     "output_type": "display_data"
    },
    {
     "data": {
      "application/vnd.jupyter.widget-view+json": {
       "model_id": "88bc8ec45d894c1d9b1fce8693f38467",
       "version_major": 2,
       "version_minor": 0
      },
      "text/plain": [
       "Gathering CWE requests for issue 2034997552:   0%|          | 0/881 [00:00<?, ?it/s]"
      ]
     },
     "metadata": {},
     "output_type": "display_data"
    },
    {
     "data": {
      "application/vnd.jupyter.widget-view+json": {
       "model_id": "c66799775d444e42ba1fb5fabf8c66bd",
       "version_major": 2,
       "version_minor": 0
      },
      "text/plain": [
       "Writing issue 2034997552 batch files:   0%|          | 0/25 [00:00<?, ?it/s]"
      ]
     },
     "metadata": {},
     "output_type": "display_data"
    },
    {
     "data": {
      "application/vnd.jupyter.widget-view+json": {
       "model_id": "7a27a648edb843dc9d1076f7e3267914",
       "version_major": 2,
       "version_minor": 0
      },
      "text/plain": [
       "Gathering CWE requests for issue 978804732:   0%|          | 0/881 [00:00<?, ?it/s]"
      ]
     },
     "metadata": {},
     "output_type": "display_data"
    },
    {
     "data": {
      "application/vnd.jupyter.widget-view+json": {
       "model_id": "222b8280dc794fc8bb13fbca0f02eeae",
       "version_major": 2,
       "version_minor": 0
      },
      "text/plain": [
       "Writing issue 978804732 batch files:   0%|          | 0/25 [00:00<?, ?it/s]"
      ]
     },
     "metadata": {},
     "output_type": "display_data"
    },
    {
     "data": {
      "application/vnd.jupyter.widget-view+json": {
       "model_id": "3b138d1773b34c5688a83e97e276a396",
       "version_major": 2,
       "version_minor": 0
      },
      "text/plain": [
       "Gathering CWE requests for issue 2839508441:   0%|          | 0/881 [00:00<?, ?it/s]"
      ]
     },
     "metadata": {},
     "output_type": "display_data"
    },
    {
     "data": {
      "application/vnd.jupyter.widget-view+json": {
       "model_id": "d55e25ee8d86451a8a7c742bedd498d9",
       "version_major": 2,
       "version_minor": 0
      },
      "text/plain": [
       "Writing issue 2839508441 batch files:   0%|          | 0/25 [00:00<?, ?it/s]"
      ]
     },
     "metadata": {},
     "output_type": "display_data"
    },
    {
     "data": {
      "application/vnd.jupyter.widget-view+json": {
       "model_id": "1392d3ada5bb4896b36d0672bafbc881",
       "version_major": 2,
       "version_minor": 0
      },
      "text/plain": [
       "Gathering CWE requests for issue 1117165790:   0%|          | 0/881 [00:00<?, ?it/s]"
      ]
     },
     "metadata": {},
     "output_type": "display_data"
    },
    {
     "data": {
      "application/vnd.jupyter.widget-view+json": {
       "model_id": "5836826e4d8f4e1ea7c182684d68fe1b",
       "version_major": 2,
       "version_minor": 0
      },
      "text/plain": [
       "Writing issue 1117165790 batch files:   0%|          | 0/25 [00:00<?, ?it/s]"
      ]
     },
     "metadata": {},
     "output_type": "display_data"
    },
    {
     "data": {
      "application/vnd.jupyter.widget-view+json": {
       "model_id": "b31f55d4562243508ace15554e96205f",
       "version_major": 2,
       "version_minor": 0
      },
      "text/plain": [
       "Gathering CWE requests for issue 1363336565:   0%|          | 0/881 [00:00<?, ?it/s]"
      ]
     },
     "metadata": {},
     "output_type": "display_data"
    },
    {
     "data": {
      "application/vnd.jupyter.widget-view+json": {
       "model_id": "1261c16b6ee241d3953b81889b072776",
       "version_major": 2,
       "version_minor": 0
      },
      "text/plain": [
       "Writing issue 1363336565 batch files:   0%|          | 0/25 [00:00<?, ?it/s]"
      ]
     },
     "metadata": {},
     "output_type": "display_data"
    },
    {
     "data": {
      "application/vnd.jupyter.widget-view+json": {
       "model_id": "f9a1b767a3f14e0a943b62745a7cd46e",
       "version_major": 2,
       "version_minor": 0
      },
      "text/plain": [
       "Gathering CWE requests for issue 2835305435:   0%|          | 0/881 [00:00<?, ?it/s]"
      ]
     },
     "metadata": {},
     "output_type": "display_data"
    },
    {
     "data": {
      "application/vnd.jupyter.widget-view+json": {
       "model_id": "1a14bd2dc21b43a49a369b9b3631c06d",
       "version_major": 2,
       "version_minor": 0
      },
      "text/plain": [
       "Writing issue 2835305435 batch files:   0%|          | 0/25 [00:00<?, ?it/s]"
      ]
     },
     "metadata": {},
     "output_type": "display_data"
    },
    {
     "data": {
      "application/vnd.jupyter.widget-view+json": {
       "model_id": "53ad47515271437ab98bd1aa73edadf5",
       "version_major": 2,
       "version_minor": 0
      },
      "text/plain": [
       "Gathering CWE requests for issue 2480088698:   0%|          | 0/881 [00:00<?, ?it/s]"
      ]
     },
     "metadata": {},
     "output_type": "display_data"
    },
    {
     "data": {
      "application/vnd.jupyter.widget-view+json": {
       "model_id": "2c3f0e82622c4bd3b4199b04df61c770",
       "version_major": 2,
       "version_minor": 0
      },
      "text/plain": [
       "Writing issue 2480088698 batch files:   0%|          | 0/25 [00:00<?, ?it/s]"
      ]
     },
     "metadata": {},
     "output_type": "display_data"
    },
    {
     "data": {
      "application/vnd.jupyter.widget-view+json": {
       "model_id": "35c47efe85b94b9c8aa8531815e102fc",
       "version_major": 2,
       "version_minor": 0
      },
      "text/plain": [
       "Gathering CWE requests for issue 864665765:   0%|          | 0/881 [00:00<?, ?it/s]"
      ]
     },
     "metadata": {},
     "output_type": "display_data"
    },
    {
     "data": {
      "application/vnd.jupyter.widget-view+json": {
       "model_id": "36fbfc1abd584784b8dd51f958077537",
       "version_major": 2,
       "version_minor": 0
      },
      "text/plain": [
       "Writing issue 864665765 batch files:   0%|          | 0/25 [00:00<?, ?it/s]"
      ]
     },
     "metadata": {},
     "output_type": "display_data"
    },
    {
     "data": {
      "application/vnd.jupyter.widget-view+json": {
       "model_id": "974ba5b0fc0d4c16821e3bb3b4db522c",
       "version_major": 2,
       "version_minor": 0
      },
      "text/plain": [
       "Gathering CWE requests for issue 933627098:   0%|          | 0/881 [00:00<?, ?it/s]"
      ]
     },
     "metadata": {},
     "output_type": "display_data"
    },
    {
     "data": {
      "application/vnd.jupyter.widget-view+json": {
       "model_id": "44a7ba6db1fc426bacb519d8241f5708",
       "version_major": 2,
       "version_minor": 0
      },
      "text/plain": [
       "Writing issue 933627098 batch files:   0%|          | 0/25 [00:00<?, ?it/s]"
      ]
     },
     "metadata": {},
     "output_type": "display_data"
    },
    {
     "data": {
      "application/vnd.jupyter.widget-view+json": {
       "model_id": "80a474869c9e4800b817487227c0b564",
       "version_major": 2,
       "version_minor": 0
      },
      "text/plain": [
       "Gathering CWE requests for issue 2843101104:   0%|          | 0/881 [00:00<?, ?it/s]"
      ]
     },
     "metadata": {},
     "output_type": "display_data"
    },
    {
     "data": {
      "application/vnd.jupyter.widget-view+json": {
       "model_id": "dcea5eeb8e0a4c72a24d22433816e483",
       "version_major": 2,
       "version_minor": 0
      },
      "text/plain": [
       "Writing issue 2843101104 batch files:   0%|          | 0/25 [00:00<?, ?it/s]"
      ]
     },
     "metadata": {},
     "output_type": "display_data"
    },
    {
     "data": {
      "application/vnd.jupyter.widget-view+json": {
       "model_id": "9a07a467427344d6a27fb5284df47fdb",
       "version_major": 2,
       "version_minor": 0
      },
      "text/plain": [
       "Gathering CWE requests for issue 1724968984:   0%|          | 0/881 [00:00<?, ?it/s]"
      ]
     },
     "metadata": {},
     "output_type": "display_data"
    },
    {
     "data": {
      "application/vnd.jupyter.widget-view+json": {
       "model_id": "b8b93595651249ceb15a9cde83c0bdba",
       "version_major": 2,
       "version_minor": 0
      },
      "text/plain": [
       "Writing issue 1724968984 batch files:   0%|          | 0/25 [00:00<?, ?it/s]"
      ]
     },
     "metadata": {},
     "output_type": "display_data"
    },
    {
     "data": {
      "application/vnd.jupyter.widget-view+json": {
       "model_id": "d49dec03399c477190de782e4bd12691",
       "version_major": 2,
       "version_minor": 0
      },
      "text/plain": [
       "Gathering CWE requests for issue 2267099120:   0%|          | 0/881 [00:00<?, ?it/s]"
      ]
     },
     "metadata": {},
     "output_type": "display_data"
    },
    {
     "data": {
      "application/vnd.jupyter.widget-view+json": {
       "model_id": "8ca3237fcbe4440f9b767aeeb8d65849",
       "version_major": 2,
       "version_minor": 0
      },
      "text/plain": [
       "Writing issue 2267099120 batch files:   0%|          | 0/25 [00:00<?, ?it/s]"
      ]
     },
     "metadata": {},
     "output_type": "display_data"
    },
    {
     "data": {
      "application/vnd.jupyter.widget-view+json": {
       "model_id": "16f70ecfc76547759dba70c0f9f94aaa",
       "version_major": 2,
       "version_minor": 0
      },
      "text/plain": [
       "Gathering CWE requests for issue 1388166902:   0%|          | 0/881 [00:00<?, ?it/s]"
      ]
     },
     "metadata": {},
     "output_type": "display_data"
    },
    {
     "data": {
      "application/vnd.jupyter.widget-view+json": {
       "model_id": "294c397e10ee48348338c6ac62b2982b",
       "version_major": 2,
       "version_minor": 0
      },
      "text/plain": [
       "Writing issue 1388166902 batch files:   0%|          | 0/25 [00:00<?, ?it/s]"
      ]
     },
     "metadata": {},
     "output_type": "display_data"
    },
    {
     "data": {
      "application/vnd.jupyter.widget-view+json": {
       "model_id": "da6dc618b572470eb409bcd9d75405fd",
       "version_major": 2,
       "version_minor": 0
      },
      "text/plain": [
       "Gathering CWE requests for issue 949846615:   0%|          | 0/881 [00:00<?, ?it/s]"
      ]
     },
     "metadata": {},
     "output_type": "display_data"
    },
    {
     "data": {
      "application/vnd.jupyter.widget-view+json": {
       "model_id": "9564bbd25e3c442c9081a38b469fe480",
       "version_major": 2,
       "version_minor": 0
      },
      "text/plain": [
       "Writing issue 949846615 batch files:   0%|          | 0/25 [00:00<?, ?it/s]"
      ]
     },
     "metadata": {},
     "output_type": "display_data"
    },
    {
     "data": {
      "application/vnd.jupyter.widget-view+json": {
       "model_id": "3593eff74845411f8501cadb2f7e99ee",
       "version_major": 2,
       "version_minor": 0
      },
      "text/plain": [
       "Gathering CWE requests for issue 2017756263:   0%|          | 0/881 [00:00<?, ?it/s]"
      ]
     },
     "metadata": {},
     "output_type": "display_data"
    },
    {
     "data": {
      "application/vnd.jupyter.widget-view+json": {
       "model_id": "80ad66c0f6444629a6431cbc39f533b0",
       "version_major": 2,
       "version_minor": 0
      },
      "text/plain": [
       "Writing issue 2017756263 batch files:   0%|          | 0/25 [00:00<?, ?it/s]"
      ]
     },
     "metadata": {},
     "output_type": "display_data"
    },
    {
     "data": {
      "application/vnd.jupyter.widget-view+json": {
       "model_id": "f462f9943a4c4fe9b196f9f89822e076",
       "version_major": 2,
       "version_minor": 0
      },
      "text/plain": [
       "Gathering CWE requests for issue 2229652667:   0%|          | 0/881 [00:00<?, ?it/s]"
      ]
     },
     "metadata": {},
     "output_type": "display_data"
    },
    {
     "data": {
      "application/vnd.jupyter.widget-view+json": {
       "model_id": "246d4c657afa4c0bb27238061dffd6d3",
       "version_major": 2,
       "version_minor": 0
      },
      "text/plain": [
       "Writing issue 2229652667 batch files:   0%|          | 0/25 [00:00<?, ?it/s]"
      ]
     },
     "metadata": {},
     "output_type": "display_data"
    },
    {
     "data": {
      "application/vnd.jupyter.widget-view+json": {
       "model_id": "e6436b9ac8da4d2883d812545b0f398a",
       "version_major": 2,
       "version_minor": 0
      },
      "text/plain": [
       "Gathering CWE requests for issue 1075625398:   0%|          | 0/881 [00:00<?, ?it/s]"
      ]
     },
     "metadata": {},
     "output_type": "display_data"
    },
    {
     "data": {
      "application/vnd.jupyter.widget-view+json": {
       "model_id": "766c58df71dc42e9a9f32f757864a3ce",
       "version_major": 2,
       "version_minor": 0
      },
      "text/plain": [
       "Writing issue 1075625398 batch files:   0%|          | 0/25 [00:00<?, ?it/s]"
      ]
     },
     "metadata": {},
     "output_type": "display_data"
    },
    {
     "data": {
      "application/vnd.jupyter.widget-view+json": {
       "model_id": "04098363703946e7997ce45029fdce38",
       "version_major": 2,
       "version_minor": 0
      },
      "text/plain": [
       "Gathering CWE requests for issue 629668362:   0%|          | 0/881 [00:00<?, ?it/s]"
      ]
     },
     "metadata": {},
     "output_type": "display_data"
    },
    {
     "data": {
      "application/vnd.jupyter.widget-view+json": {
       "model_id": "17fc3cbfd19b47fb962483477676faa9",
       "version_major": 2,
       "version_minor": 0
      },
      "text/plain": [
       "Writing issue 629668362 batch files:   0%|          | 0/25 [00:00<?, ?it/s]"
      ]
     },
     "metadata": {},
     "output_type": "display_data"
    },
    {
     "data": {
      "application/vnd.jupyter.widget-view+json": {
       "model_id": "db9ddbb7680f4fe9896389852378a58b",
       "version_major": 2,
       "version_minor": 0
      },
      "text/plain": [
       "Gathering CWE requests for issue 547887727:   0%|          | 0/881 [00:00<?, ?it/s]"
      ]
     },
     "metadata": {},
     "output_type": "display_data"
    },
    {
     "data": {
      "application/vnd.jupyter.widget-view+json": {
       "model_id": "eca5ead270ad462a85d8afe0c8d672a3",
       "version_major": 2,
       "version_minor": 0
      },
      "text/plain": [
       "Writing issue 547887727 batch files:   0%|          | 0/25 [00:00<?, ?it/s]"
      ]
     },
     "metadata": {},
     "output_type": "display_data"
    },
    {
     "data": {
      "application/vnd.jupyter.widget-view+json": {
       "model_id": "573df757e004418395255aedb7ffd925",
       "version_major": 2,
       "version_minor": 0
      },
      "text/plain": [
       "Gathering CWE requests for issue 1387303483:   0%|          | 0/881 [00:00<?, ?it/s]"
      ]
     },
     "metadata": {},
     "output_type": "display_data"
    },
    {
     "data": {
      "application/vnd.jupyter.widget-view+json": {
       "model_id": "663175f02b4b4248918ab67cba89ea60",
       "version_major": 2,
       "version_minor": 0
      },
      "text/plain": [
       "Writing issue 1387303483 batch files:   0%|          | 0/25 [00:00<?, ?it/s]"
      ]
     },
     "metadata": {},
     "output_type": "display_data"
    },
    {
     "data": {
      "application/vnd.jupyter.widget-view+json": {
       "model_id": "6bb1d430f57a42c980b1fb0fed2a20b5",
       "version_major": 2,
       "version_minor": 0
      },
      "text/plain": [
       "Gathering CWE requests for issue 1091462899:   0%|          | 0/881 [00:00<?, ?it/s]"
      ]
     },
     "metadata": {},
     "output_type": "display_data"
    },
    {
     "data": {
      "application/vnd.jupyter.widget-view+json": {
       "model_id": "e3c8ab6d63454d669945213c40bbcda6",
       "version_major": 2,
       "version_minor": 0
      },
      "text/plain": [
       "Writing issue 1091462899 batch files:   0%|          | 0/25 [00:00<?, ?it/s]"
      ]
     },
     "metadata": {},
     "output_type": "display_data"
    },
    {
     "data": {
      "application/vnd.jupyter.widget-view+json": {
       "model_id": "f3c0284adb13475e80bb4efa57d2e1f2",
       "version_major": 2,
       "version_minor": 0
      },
      "text/plain": [
       "Gathering CWE requests for issue 1091466611:   0%|          | 0/881 [00:00<?, ?it/s]"
      ]
     },
     "metadata": {},
     "output_type": "display_data"
    },
    {
     "data": {
      "application/vnd.jupyter.widget-view+json": {
       "model_id": "db0988c3fecd4d37a820e7a8d59d4810",
       "version_major": 2,
       "version_minor": 0
      },
      "text/plain": [
       "Writing issue 1091466611 batch files:   0%|          | 0/25 [00:00<?, ?it/s]"
      ]
     },
     "metadata": {},
     "output_type": "display_data"
    },
    {
     "data": {
      "application/vnd.jupyter.widget-view+json": {
       "model_id": "880d18f034a847669b2dc937e24a0e9f",
       "version_major": 2,
       "version_minor": 0
      },
      "text/plain": [
       "Gathering CWE requests for issue 405641344:   0%|          | 0/881 [00:00<?, ?it/s]"
      ]
     },
     "metadata": {},
     "output_type": "display_data"
    },
    {
     "data": {
      "application/vnd.jupyter.widget-view+json": {
       "model_id": "9a1ca6edf7734834b7032359da5ae312",
       "version_major": 2,
       "version_minor": 0
      },
      "text/plain": [
       "Writing issue 405641344 batch files:   0%|          | 0/25 [00:00<?, ?it/s]"
      ]
     },
     "metadata": {},
     "output_type": "display_data"
    },
    {
     "data": {
      "application/vnd.jupyter.widget-view+json": {
       "model_id": "0bd42f19eef64d58afbf67dc82609e23",
       "version_major": 2,
       "version_minor": 0
      },
      "text/plain": [
       "Gathering CWE requests for issue 913238141:   0%|          | 0/881 [00:00<?, ?it/s]"
      ]
     },
     "metadata": {},
     "output_type": "display_data"
    },
    {
     "data": {
      "application/vnd.jupyter.widget-view+json": {
       "model_id": "255e5cdd1d7c460eb2faac0f716b04a4",
       "version_major": 2,
       "version_minor": 0
      },
      "text/plain": [
       "Writing issue 913238141 batch files:   0%|          | 0/25 [00:00<?, ?it/s]"
      ]
     },
     "metadata": {},
     "output_type": "display_data"
    },
    {
     "data": {
      "application/vnd.jupyter.widget-view+json": {
       "model_id": "99d069b487604e23a7a02b1c9a828b79",
       "version_major": 2,
       "version_minor": 0
      },
      "text/plain": [
       "Gathering CWE requests for issue 2038176215:   0%|          | 0/881 [00:00<?, ?it/s]"
      ]
     },
     "metadata": {},
     "output_type": "display_data"
    },
    {
     "data": {
      "application/vnd.jupyter.widget-view+json": {
       "model_id": "9a940ee6b3544977ab2ed07a9f158053",
       "version_major": 2,
       "version_minor": 0
      },
      "text/plain": [
       "Writing issue 2038176215 batch files:   0%|          | 0/25 [00:00<?, ?it/s]"
      ]
     },
     "metadata": {},
     "output_type": "display_data"
    },
    {
     "data": {
      "application/vnd.jupyter.widget-view+json": {
       "model_id": "b994a91864994992985129cde91c3db8",
       "version_major": 2,
       "version_minor": 0
      },
      "text/plain": [
       "Gathering CWE requests for issue 956813566:   0%|          | 0/881 [00:00<?, ?it/s]"
      ]
     },
     "metadata": {},
     "output_type": "display_data"
    },
    {
     "data": {
      "application/vnd.jupyter.widget-view+json": {
       "model_id": "cb8ecb655acc4e31a6090d7011cbdc10",
       "version_major": 2,
       "version_minor": 0
      },
      "text/plain": [
       "Writing issue 956813566 batch files:   0%|          | 0/25 [00:00<?, ?it/s]"
      ]
     },
     "metadata": {},
     "output_type": "display_data"
    },
    {
     "data": {
      "application/vnd.jupyter.widget-view+json": {
       "model_id": "0e22dfc106e8430cad54f024656dac92",
       "version_major": 2,
       "version_minor": 0
      },
      "text/plain": [
       "Gathering CWE requests for issue 393636374:   0%|          | 0/881 [00:00<?, ?it/s]"
      ]
     },
     "metadata": {},
     "output_type": "display_data"
    },
    {
     "data": {
      "application/vnd.jupyter.widget-view+json": {
       "model_id": "d6fb70fc5be64acebd25a4017fb765dd",
       "version_major": 2,
       "version_minor": 0
      },
      "text/plain": [
       "Writing issue 393636374 batch files:   0%|          | 0/25 [00:00<?, ?it/s]"
      ]
     },
     "metadata": {},
     "output_type": "display_data"
    },
    {
     "data": {
      "application/vnd.jupyter.widget-view+json": {
       "model_id": "0cd783b4fb0648cb86d5a49ae47491c7",
       "version_major": 2,
       "version_minor": 0
      },
      "text/plain": [
       "Gathering CWE requests for issue 722706304:   0%|          | 0/881 [00:00<?, ?it/s]"
      ]
     },
     "metadata": {},
     "output_type": "display_data"
    },
    {
     "data": {
      "application/vnd.jupyter.widget-view+json": {
       "model_id": "ff39a5af38604ec6a6133c88c95c114f",
       "version_major": 2,
       "version_minor": 0
      },
      "text/plain": [
       "Writing issue 722706304 batch files:   0%|          | 0/25 [00:00<?, ?it/s]"
      ]
     },
     "metadata": {},
     "output_type": "display_data"
    },
    {
     "data": {
      "application/vnd.jupyter.widget-view+json": {
       "model_id": "b72f6f7925ce43deab34b8ec4be8a144",
       "version_major": 2,
       "version_minor": 0
      },
      "text/plain": [
       "Gathering CWE requests for issue 2069054927:   0%|          | 0/881 [00:00<?, ?it/s]"
      ]
     },
     "metadata": {},
     "output_type": "display_data"
    },
    {
     "data": {
      "application/vnd.jupyter.widget-view+json": {
       "model_id": "1ace7fdd3c734a4390a282c3b05d98be",
       "version_major": 2,
       "version_minor": 0
      },
      "text/plain": [
       "Writing issue 2069054927 batch files:   0%|          | 0/25 [00:00<?, ?it/s]"
      ]
     },
     "metadata": {},
     "output_type": "display_data"
    },
    {
     "data": {
      "application/vnd.jupyter.widget-view+json": {
       "model_id": "d383ab9d9c8c4178b8c12d7f2ece5f61",
       "version_major": 2,
       "version_minor": 0
      },
      "text/plain": [
       "Gathering CWE requests for issue 2822759258:   0%|          | 0/881 [00:00<?, ?it/s]"
      ]
     },
     "metadata": {},
     "output_type": "display_data"
    },
    {
     "data": {
      "application/vnd.jupyter.widget-view+json": {
       "model_id": "1cec99a6001446fd907043be617f070c",
       "version_major": 2,
       "version_minor": 0
      },
      "text/plain": [
       "Writing issue 2822759258 batch files:   0%|          | 0/25 [00:00<?, ?it/s]"
      ]
     },
     "metadata": {},
     "output_type": "display_data"
    },
    {
     "data": {
      "application/vnd.jupyter.widget-view+json": {
       "model_id": "b67f702f575f406cb4cda0c2e7a37865",
       "version_major": 2,
       "version_minor": 0
      },
      "text/plain": [
       "Gathering CWE requests for issue 710666807:   0%|          | 0/881 [00:00<?, ?it/s]"
      ]
     },
     "metadata": {},
     "output_type": "display_data"
    },
    {
     "data": {
      "application/vnd.jupyter.widget-view+json": {
       "model_id": "ac98780cf03743aab39fd8c3f4eb8c13",
       "version_major": 2,
       "version_minor": 0
      },
      "text/plain": [
       "Writing issue 710666807 batch files:   0%|          | 0/25 [00:00<?, ?it/s]"
      ]
     },
     "metadata": {},
     "output_type": "display_data"
    },
    {
     "data": {
      "application/vnd.jupyter.widget-view+json": {
       "model_id": "cb2184f15abb4d9fa3ead46bd671e230",
       "version_major": 2,
       "version_minor": 0
      },
      "text/plain": [
       "Gathering CWE requests for issue 2192035335:   0%|          | 0/881 [00:00<?, ?it/s]"
      ]
     },
     "metadata": {},
     "output_type": "display_data"
    },
    {
     "data": {
      "application/vnd.jupyter.widget-view+json": {
       "model_id": "6eec9b3c7120417f975caff658f5fe77",
       "version_major": 2,
       "version_minor": 0
      },
      "text/plain": [
       "Writing issue 2192035335 batch files:   0%|          | 0/25 [00:00<?, ?it/s]"
      ]
     },
     "metadata": {},
     "output_type": "display_data"
    },
    {
     "data": {
      "application/vnd.jupyter.widget-view+json": {
       "model_id": "e06613bca39e4ace864dde322970df3a",
       "version_major": 2,
       "version_minor": 0
      },
      "text/plain": [
       "Gathering CWE requests for issue 1668392801:   0%|          | 0/881 [00:00<?, ?it/s]"
      ]
     },
     "metadata": {},
     "output_type": "display_data"
    },
    {
     "data": {
      "application/vnd.jupyter.widget-view+json": {
       "model_id": "9a5c18be585c4e098870fc150dec953a",
       "version_major": 2,
       "version_minor": 0
      },
      "text/plain": [
       "Writing issue 1668392801 batch files:   0%|          | 0/25 [00:00<?, ?it/s]"
      ]
     },
     "metadata": {},
     "output_type": "display_data"
    },
    {
     "data": {
      "application/vnd.jupyter.widget-view+json": {
       "model_id": "94f78e75c4a841bc8d9f1e4ebff138f3",
       "version_major": 2,
       "version_minor": 0
      },
      "text/plain": [
       "Gathering CWE requests for issue 2445948332:   0%|          | 0/881 [00:00<?, ?it/s]"
      ]
     },
     "metadata": {},
     "output_type": "display_data"
    },
    {
     "data": {
      "application/vnd.jupyter.widget-view+json": {
       "model_id": "43c8eb0a13044ca99246aa81b8a35c74",
       "version_major": 2,
       "version_minor": 0
      },
      "text/plain": [
       "Writing issue 2445948332 batch files:   0%|          | 0/25 [00:00<?, ?it/s]"
      ]
     },
     "metadata": {},
     "output_type": "display_data"
    },
    {
     "data": {
      "application/vnd.jupyter.widget-view+json": {
       "model_id": "cea5fbb9951c40a496a3b04baec65c63",
       "version_major": 2,
       "version_minor": 0
      },
      "text/plain": [
       "Gathering CWE requests for issue 1223107663:   0%|          | 0/881 [00:00<?, ?it/s]"
      ]
     },
     "metadata": {},
     "output_type": "display_data"
    },
    {
     "data": {
      "application/vnd.jupyter.widget-view+json": {
       "model_id": "09896569d1d249a2b32e4281a4dd89bf",
       "version_major": 2,
       "version_minor": 0
      },
      "text/plain": [
       "Writing issue 1223107663 batch files:   0%|          | 0/25 [00:00<?, ?it/s]"
      ]
     },
     "metadata": {},
     "output_type": "display_data"
    },
    {
     "data": {
      "application/vnd.jupyter.widget-view+json": {
       "model_id": "790de8a4ee074891b4c398b7bf9bf093",
       "version_major": 2,
       "version_minor": 0
      },
      "text/plain": [
       "Gathering CWE requests for issue 2792714844:   0%|          | 0/881 [00:00<?, ?it/s]"
      ]
     },
     "metadata": {},
     "output_type": "display_data"
    },
    {
     "data": {
      "application/vnd.jupyter.widget-view+json": {
       "model_id": "99e3b66405c84f3383bc2fc1aac73cea",
       "version_major": 2,
       "version_minor": 0
      },
      "text/plain": [
       "Writing issue 2792714844 batch files:   0%|          | 0/25 [00:00<?, ?it/s]"
      ]
     },
     "metadata": {},
     "output_type": "display_data"
    },
    {
     "data": {
      "application/vnd.jupyter.widget-view+json": {
       "model_id": "91cfaa6d13de49338b297ea32ea71ddf",
       "version_major": 2,
       "version_minor": 0
      },
      "text/plain": [
       "Gathering CWE requests for issue 2035052078:   0%|          | 0/881 [00:00<?, ?it/s]"
      ]
     },
     "metadata": {},
     "output_type": "display_data"
    },
    {
     "data": {
      "application/vnd.jupyter.widget-view+json": {
       "model_id": "dda894f6e3fb401cb5a2c97605fa9d6b",
       "version_major": 2,
       "version_minor": 0
      },
      "text/plain": [
       "Writing issue 2035052078 batch files:   0%|          | 0/25 [00:00<?, ?it/s]"
      ]
     },
     "metadata": {},
     "output_type": "display_data"
    },
    {
     "data": {
      "application/vnd.jupyter.widget-view+json": {
       "model_id": "ffb3fcf5eb2b418f84504d0d089b8163",
       "version_major": 2,
       "version_minor": 0
      },
      "text/plain": [
       "Gathering CWE requests for issue 2872897885:   0%|          | 0/881 [00:00<?, ?it/s]"
      ]
     },
     "metadata": {},
     "output_type": "display_data"
    },
    {
     "data": {
      "application/vnd.jupyter.widget-view+json": {
       "model_id": "00a09e10b7244d158cab7fd2a3c938af",
       "version_major": 2,
       "version_minor": 0
      },
      "text/plain": [
       "Writing issue 2872897885 batch files:   0%|          | 0/25 [00:00<?, ?it/s]"
      ]
     },
     "metadata": {},
     "output_type": "display_data"
    },
    {
     "data": {
      "application/vnd.jupyter.widget-view+json": {
       "model_id": "93f0644f8d664e81b626a3b784574590",
       "version_major": 2,
       "version_minor": 0
      },
      "text/plain": [
       "Gathering CWE requests for issue 434967981:   0%|          | 0/881 [00:00<?, ?it/s]"
      ]
     },
     "metadata": {},
     "output_type": "display_data"
    },
    {
     "data": {
      "application/vnd.jupyter.widget-view+json": {
       "model_id": "0e2f7fe18b624c60a11d9ee6e7182773",
       "version_major": 2,
       "version_minor": 0
      },
      "text/plain": [
       "Writing issue 434967981 batch files:   0%|          | 0/25 [00:00<?, ?it/s]"
      ]
     },
     "metadata": {},
     "output_type": "display_data"
    },
    {
     "data": {
      "application/vnd.jupyter.widget-view+json": {
       "model_id": "9816619b79c24157971f0c16dd9016c7",
       "version_major": 2,
       "version_minor": 0
      },
      "text/plain": [
       "Gathering CWE requests for issue 933615929:   0%|          | 0/881 [00:00<?, ?it/s]"
      ]
     },
     "metadata": {},
     "output_type": "display_data"
    },
    {
     "data": {
      "application/vnd.jupyter.widget-view+json": {
       "model_id": "0de30ce6c6bc470caa9aba59575d24ee",
       "version_major": 2,
       "version_minor": 0
      },
      "text/plain": [
       "Writing issue 933615929 batch files:   0%|          | 0/25 [00:00<?, ?it/s]"
      ]
     },
     "metadata": {},
     "output_type": "display_data"
    },
    {
     "data": {
      "application/vnd.jupyter.widget-view+json": {
       "model_id": "59b421ead33646a08ea4768b9ea0b2f3",
       "version_major": 2,
       "version_minor": 0
      },
      "text/plain": [
       "Gathering CWE requests for issue 2526487082:   0%|          | 0/881 [00:00<?, ?it/s]"
      ]
     },
     "metadata": {},
     "output_type": "display_data"
    },
    {
     "data": {
      "application/vnd.jupyter.widget-view+json": {
       "model_id": "3a24a0808da84ff2a9fb92b03dbb7d9b",
       "version_major": 2,
       "version_minor": 0
      },
      "text/plain": [
       "Writing issue 2526487082 batch files:   0%|          | 0/25 [00:00<?, ?it/s]"
      ]
     },
     "metadata": {},
     "output_type": "display_data"
    },
    {
     "data": {
      "application/vnd.jupyter.widget-view+json": {
       "model_id": "965333a3bb2c4e36bd9dfe30e8381e01",
       "version_major": 2,
       "version_minor": 0
      },
      "text/plain": [
       "Gathering CWE requests for issue 257947117:   0%|          | 0/881 [00:00<?, ?it/s]"
      ]
     },
     "metadata": {},
     "output_type": "display_data"
    },
    {
     "data": {
      "application/vnd.jupyter.widget-view+json": {
       "model_id": "4e81a5e6edd84a50abc39b3aaef18332",
       "version_major": 2,
       "version_minor": 0
      },
      "text/plain": [
       "Writing issue 257947117 batch files:   0%|          | 0/25 [00:00<?, ?it/s]"
      ]
     },
     "metadata": {},
     "output_type": "display_data"
    },
    {
     "data": {
      "application/vnd.jupyter.widget-view+json": {
       "model_id": "05d8c091f5f9423ba865c251104c758d",
       "version_major": 2,
       "version_minor": 0
      },
      "text/plain": [
       "Gathering CWE requests for issue 2267099750:   0%|          | 0/881 [00:00<?, ?it/s]"
      ]
     },
     "metadata": {},
     "output_type": "display_data"
    },
    {
     "data": {
      "application/vnd.jupyter.widget-view+json": {
       "model_id": "fc5255c8e85343b789c4bc819471401f",
       "version_major": 2,
       "version_minor": 0
      },
      "text/plain": [
       "Writing issue 2267099750 batch files:   0%|          | 0/25 [00:00<?, ?it/s]"
      ]
     },
     "metadata": {},
     "output_type": "display_data"
    },
    {
     "data": {
      "application/vnd.jupyter.widget-view+json": {
       "model_id": "d174d261e13041f994894e0937c2dcdd",
       "version_major": 2,
       "version_minor": 0
      },
      "text/plain": [
       "Gathering CWE requests for issue 2278248286:   0%|          | 0/881 [00:00<?, ?it/s]"
      ]
     },
     "metadata": {},
     "output_type": "display_data"
    },
    {
     "data": {
      "application/vnd.jupyter.widget-view+json": {
       "model_id": "35ebc94a24324e2ba98a5708ae18e878",
       "version_major": 2,
       "version_minor": 0
      },
      "text/plain": [
       "Writing issue 2278248286 batch files:   0%|          | 0/25 [00:00<?, ?it/s]"
      ]
     },
     "metadata": {},
     "output_type": "display_data"
    },
    {
     "data": {
      "application/vnd.jupyter.widget-view+json": {
       "model_id": "a1f5f865ccc949608e0db1e9ef99bf85",
       "version_major": 2,
       "version_minor": 0
      },
      "text/plain": [
       "Gathering CWE requests for issue 1422048340:   0%|          | 0/881 [00:00<?, ?it/s]"
      ]
     },
     "metadata": {},
     "output_type": "display_data"
    },
    {
     "data": {
      "application/vnd.jupyter.widget-view+json": {
       "model_id": "25e027396fb5493a9150e363818249bc",
       "version_major": 2,
       "version_minor": 0
      },
      "text/plain": [
       "Writing issue 1422048340 batch files:   0%|          | 0/25 [00:00<?, ?it/s]"
      ]
     },
     "metadata": {},
     "output_type": "display_data"
    },
    {
     "data": {
      "application/vnd.jupyter.widget-view+json": {
       "model_id": "3ea96e05d8f349fba78ad561c7954c2d",
       "version_major": 2,
       "version_minor": 0
      },
      "text/plain": [
       "Gathering CWE requests for issue 464799415:   0%|          | 0/881 [00:00<?, ?it/s]"
      ]
     },
     "metadata": {},
     "output_type": "display_data"
    },
    {
     "data": {
      "application/vnd.jupyter.widget-view+json": {
       "model_id": "4a273f009f364ae794c7810971f9963a",
       "version_major": 2,
       "version_minor": 0
      },
      "text/plain": [
       "Writing issue 464799415 batch files:   0%|          | 0/25 [00:00<?, ?it/s]"
      ]
     },
     "metadata": {},
     "output_type": "display_data"
    },
    {
     "data": {
      "application/vnd.jupyter.widget-view+json": {
       "model_id": "d46ad8a4ab87407a8a3e04db0bd03742",
       "version_major": 2,
       "version_minor": 0
      },
      "text/plain": [
       "Gathering CWE requests for issue 1093046641:   0%|          | 0/881 [00:00<?, ?it/s]"
      ]
     },
     "metadata": {},
     "output_type": "display_data"
    },
    {
     "data": {
      "application/vnd.jupyter.widget-view+json": {
       "model_id": "4a2d1caa500d47308f5ab646585b9d1f",
       "version_major": 2,
       "version_minor": 0
      },
      "text/plain": [
       "Writing issue 1093046641 batch files:   0%|          | 0/25 [00:00<?, ?it/s]"
      ]
     },
     "metadata": {},
     "output_type": "display_data"
    },
    {
     "data": {
      "application/vnd.jupyter.widget-view+json": {
       "model_id": "dbf9e54e6e12470abc1a8f3cfc881ab3",
       "version_major": 2,
       "version_minor": 0
      },
      "text/plain": [
       "Gathering CWE requests for issue 1689419943:   0%|          | 0/881 [00:00<?, ?it/s]"
      ]
     },
     "metadata": {},
     "output_type": "display_data"
    },
    {
     "data": {
      "application/vnd.jupyter.widget-view+json": {
       "model_id": "9d23c8554041410e9ca8ceb91761eec8",
       "version_major": 2,
       "version_minor": 0
      },
      "text/plain": [
       "Writing issue 1689419943 batch files:   0%|          | 0/25 [00:00<?, ?it/s]"
      ]
     },
     "metadata": {},
     "output_type": "display_data"
    },
    {
     "data": {
      "application/vnd.jupyter.widget-view+json": {
       "model_id": "706cb4fc55444e6daba20ab0af66e6d7",
       "version_major": 2,
       "version_minor": 0
      },
      "text/plain": [
       "Gathering CWE requests for issue 1732652910:   0%|          | 0/881 [00:00<?, ?it/s]"
      ]
     },
     "metadata": {},
     "output_type": "display_data"
    },
    {
     "data": {
      "application/vnd.jupyter.widget-view+json": {
       "model_id": "d853176e42eb4dea88559fc710aa67e1",
       "version_major": 2,
       "version_minor": 0
      },
      "text/plain": [
       "Writing issue 1732652910 batch files:   0%|          | 0/25 [00:00<?, ?it/s]"
      ]
     },
     "metadata": {},
     "output_type": "display_data"
    },
    {
     "data": {
      "application/vnd.jupyter.widget-view+json": {
       "model_id": "5b0b2358fca0495cb237303c0d5c5e7b",
       "version_major": 2,
       "version_minor": 0
      },
      "text/plain": [
       "Gathering CWE requests for issue 520405629:   0%|          | 0/881 [00:00<?, ?it/s]"
      ]
     },
     "metadata": {},
     "output_type": "display_data"
    },
    {
     "data": {
      "application/vnd.jupyter.widget-view+json": {
       "model_id": "d9337ef32ac64284ab1d2da908140598",
       "version_major": 2,
       "version_minor": 0
      },
      "text/plain": [
       "Writing issue 520405629 batch files:   0%|          | 0/25 [00:00<?, ?it/s]"
      ]
     },
     "metadata": {},
     "output_type": "display_data"
    },
    {
     "data": {
      "application/vnd.jupyter.widget-view+json": {
       "model_id": "c916f4f3ee284a9caab724948d8e1624",
       "version_major": 2,
       "version_minor": 0
      },
      "text/plain": [
       "Gathering CWE requests for issue 1110622644:   0%|          | 0/881 [00:00<?, ?it/s]"
      ]
     },
     "metadata": {},
     "output_type": "display_data"
    },
    {
     "data": {
      "application/vnd.jupyter.widget-view+json": {
       "model_id": "4d3d9bc496424058868ff7cf15095175",
       "version_major": 2,
       "version_minor": 0
      },
      "text/plain": [
       "Writing issue 1110622644 batch files:   0%|          | 0/25 [00:00<?, ?it/s]"
      ]
     },
     "metadata": {},
     "output_type": "display_data"
    },
    {
     "data": {
      "application/vnd.jupyter.widget-view+json": {
       "model_id": "be9669efd1614b62acb456d142b7cfd1",
       "version_major": 2,
       "version_minor": 0
      },
      "text/plain": [
       "Gathering CWE requests for issue 1090923314:   0%|          | 0/881 [00:00<?, ?it/s]"
      ]
     },
     "metadata": {},
     "output_type": "display_data"
    },
    {
     "data": {
      "application/vnd.jupyter.widget-view+json": {
       "model_id": "0a9c27a0a0e741858f2a613432edabb7",
       "version_major": 2,
       "version_minor": 0
      },
      "text/plain": [
       "Writing issue 1090923314 batch files:   0%|          | 0/25 [00:00<?, ?it/s]"
      ]
     },
     "metadata": {},
     "output_type": "display_data"
    },
    {
     "data": {
      "application/vnd.jupyter.widget-view+json": {
       "model_id": "b3b18b3dc64942aeaddceb6f70d4347c",
       "version_major": 2,
       "version_minor": 0
      },
      "text/plain": [
       "Gathering CWE requests for issue 2839516802:   0%|          | 0/881 [00:00<?, ?it/s]"
      ]
     },
     "metadata": {},
     "output_type": "display_data"
    },
    {
     "data": {
      "application/vnd.jupyter.widget-view+json": {
       "model_id": "fe3afac667ae4899a3832510ed089659",
       "version_major": 2,
       "version_minor": 0
      },
      "text/plain": [
       "Writing issue 2839516802 batch files:   0%|          | 0/25 [00:00<?, ?it/s]"
      ]
     },
     "metadata": {},
     "output_type": "display_data"
    },
    {
     "data": {
      "application/vnd.jupyter.widget-view+json": {
       "model_id": "64302d469856433481a1fbde836420ef",
       "version_major": 2,
       "version_minor": 0
      },
      "text/plain": [
       "Gathering CWE requests for issue 1079632902:   0%|          | 0/881 [00:00<?, ?it/s]"
      ]
     },
     "metadata": {},
     "output_type": "display_data"
    },
    {
     "data": {
      "application/vnd.jupyter.widget-view+json": {
       "model_id": "c611cdde3d0c4f45bff9f7ac890fad6f",
       "version_major": 2,
       "version_minor": 0
      },
      "text/plain": [
       "Writing issue 1079632902 batch files:   0%|          | 0/25 [00:00<?, ?it/s]"
      ]
     },
     "metadata": {},
     "output_type": "display_data"
    },
    {
     "data": {
      "application/vnd.jupyter.widget-view+json": {
       "model_id": "22d443f92ed34a729ed27b4c12d14b65",
       "version_major": 2,
       "version_minor": 0
      },
      "text/plain": [
       "Gathering CWE requests for issue 1117163616:   0%|          | 0/881 [00:00<?, ?it/s]"
      ]
     },
     "metadata": {},
     "output_type": "display_data"
    },
    {
     "data": {
      "application/vnd.jupyter.widget-view+json": {
       "model_id": "6f46191873064f24ad6e10edffbccd0b",
       "version_major": 2,
       "version_minor": 0
      },
      "text/plain": [
       "Writing issue 1117163616 batch files:   0%|          | 0/25 [00:00<?, ?it/s]"
      ]
     },
     "metadata": {},
     "output_type": "display_data"
    },
    {
     "data": {
      "application/vnd.jupyter.widget-view+json": {
       "model_id": "4c6925b4eefc4303ac2bcf6d6c6ec69b",
       "version_major": 2,
       "version_minor": 0
      },
      "text/plain": [
       "Gathering CWE requests for issue 1469153510:   0%|          | 0/881 [00:00<?, ?it/s]"
      ]
     },
     "metadata": {},
     "output_type": "display_data"
    },
    {
     "data": {
      "application/vnd.jupyter.widget-view+json": {
       "model_id": "803c22c5dbba4db6a648a326262fc443",
       "version_major": 2,
       "version_minor": 0
      },
      "text/plain": [
       "Writing issue 1469153510 batch files:   0%|          | 0/25 [00:00<?, ?it/s]"
      ]
     },
     "metadata": {},
     "output_type": "display_data"
    },
    {
     "data": {
      "application/vnd.jupyter.widget-view+json": {
       "model_id": "f91555461e97443c8a6d69a664973f3a",
       "version_major": 2,
       "version_minor": 0
      },
      "text/plain": [
       "Gathering CWE requests for issue 2122303806:   0%|          | 0/881 [00:00<?, ?it/s]"
      ]
     },
     "metadata": {},
     "output_type": "display_data"
    },
    {
     "data": {
      "application/vnd.jupyter.widget-view+json": {
       "model_id": "d02a83d80144426b9a57df4fd37a02ed",
       "version_major": 2,
       "version_minor": 0
      },
      "text/plain": [
       "Writing issue 2122303806 batch files:   0%|          | 0/25 [00:00<?, ?it/s]"
      ]
     },
     "metadata": {},
     "output_type": "display_data"
    },
    {
     "data": {
      "application/vnd.jupyter.widget-view+json": {
       "model_id": "04767b9c21564136a11da2d2cf627d8c",
       "version_major": 2,
       "version_minor": 0
      },
      "text/plain": [
       "Gathering CWE requests for issue 1815116346:   0%|          | 0/881 [00:00<?, ?it/s]"
      ]
     },
     "metadata": {},
     "output_type": "display_data"
    },
    {
     "data": {
      "application/vnd.jupyter.widget-view+json": {
       "model_id": "5a31f2289cf84e76941d737c9292ddfb",
       "version_major": 2,
       "version_minor": 0
      },
      "text/plain": [
       "Writing issue 1815116346 batch files:   0%|          | 0/25 [00:00<?, ?it/s]"
      ]
     },
     "metadata": {},
     "output_type": "display_data"
    },
    {
     "data": {
      "application/vnd.jupyter.widget-view+json": {
       "model_id": "e980e6664bf64874aa117128fe4c92c7",
       "version_major": 2,
       "version_minor": 0
      },
      "text/plain": [
       "Gathering CWE requests for issue 1670181443:   0%|          | 0/881 [00:00<?, ?it/s]"
      ]
     },
     "metadata": {},
     "output_type": "display_data"
    },
    {
     "data": {
      "application/vnd.jupyter.widget-view+json": {
       "model_id": "42405c2c38914baa91b55f9f881a3fa3",
       "version_major": 2,
       "version_minor": 0
      },
      "text/plain": [
       "Writing issue 1670181443 batch files:   0%|          | 0/25 [00:00<?, ?it/s]"
      ]
     },
     "metadata": {},
     "output_type": "display_data"
    },
    {
     "data": {
      "application/vnd.jupyter.widget-view+json": {
       "model_id": "e989bdcae1c344889b21929a6badfb62",
       "version_major": 2,
       "version_minor": 0
      },
      "text/plain": [
       "Gathering CWE requests for issue 1887469185:   0%|          | 0/881 [00:00<?, ?it/s]"
      ]
     },
     "metadata": {},
     "output_type": "display_data"
    },
    {
     "data": {
      "application/vnd.jupyter.widget-view+json": {
       "model_id": "b9009bb7a3a644e0b8a6c97a4ab3a1d1",
       "version_major": 2,
       "version_minor": 0
      },
      "text/plain": [
       "Writing issue 1887469185 batch files:   0%|          | 0/25 [00:00<?, ?it/s]"
      ]
     },
     "metadata": {},
     "output_type": "display_data"
    },
    {
     "data": {
      "application/vnd.jupyter.widget-view+json": {
       "model_id": "ee993e176a0f4d70b6f919677f91a84d",
       "version_major": 2,
       "version_minor": 0
      },
      "text/plain": [
       "Gathering CWE requests for issue 1568208539:   0%|          | 0/881 [00:00<?, ?it/s]"
      ]
     },
     "metadata": {},
     "output_type": "display_data"
    },
    {
     "data": {
      "application/vnd.jupyter.widget-view+json": {
       "model_id": "4d291dd006c74735ae091251525e0c94",
       "version_major": 2,
       "version_minor": 0
      },
      "text/plain": [
       "Writing issue 1568208539 batch files:   0%|          | 0/25 [00:00<?, ?it/s]"
      ]
     },
     "metadata": {},
     "output_type": "display_data"
    },
    {
     "data": {
      "application/vnd.jupyter.widget-view+json": {
       "model_id": "bfa0f245b6854e6cb756a8e607059e72",
       "version_major": 2,
       "version_minor": 0
      },
      "text/plain": [
       "Gathering CWE requests for issue 441604948:   0%|          | 0/881 [00:00<?, ?it/s]"
      ]
     },
     "metadata": {},
     "output_type": "display_data"
    },
    {
     "data": {
      "application/vnd.jupyter.widget-view+json": {
       "model_id": "1df4b630cebe443fbd5efa8008357a84",
       "version_major": 2,
       "version_minor": 0
      },
      "text/plain": [
       "Writing issue 441604948 batch files:   0%|          | 0/25 [00:00<?, ?it/s]"
      ]
     },
     "metadata": {},
     "output_type": "display_data"
    },
    {
     "data": {
      "application/vnd.jupyter.widget-view+json": {
       "model_id": "7f6e605c1ff947a3a96fdea3d91dca26",
       "version_major": 2,
       "version_minor": 0
      },
      "text/plain": [
       "Gathering CWE requests for issue 426565379:   0%|          | 0/881 [00:00<?, ?it/s]"
      ]
     },
     "metadata": {},
     "output_type": "display_data"
    },
    {
     "data": {
      "application/vnd.jupyter.widget-view+json": {
       "model_id": "069f2901060e4524a345ab7783f38e45",
       "version_major": 2,
       "version_minor": 0
      },
      "text/plain": [
       "Writing issue 426565379 batch files:   0%|          | 0/25 [00:00<?, ?it/s]"
      ]
     },
     "metadata": {},
     "output_type": "display_data"
    },
    {
     "data": {
      "application/vnd.jupyter.widget-view+json": {
       "model_id": "6c318d430f6d457a92afcb031b423ab8",
       "version_major": 2,
       "version_minor": 0
      },
      "text/plain": [
       "Gathering CWE requests for issue 2069055434:   0%|          | 0/881 [00:00<?, ?it/s]"
      ]
     },
     "metadata": {},
     "output_type": "display_data"
    },
    {
     "data": {
      "application/vnd.jupyter.widget-view+json": {
       "model_id": "f9af7e9aaec94197becb75dd59608c76",
       "version_major": 2,
       "version_minor": 0
      },
      "text/plain": [
       "Writing issue 2069055434 batch files:   0%|          | 0/25 [00:00<?, ?it/s]"
      ]
     },
     "metadata": {},
     "output_type": "display_data"
    },
    {
     "data": {
      "application/vnd.jupyter.widget-view+json": {
       "model_id": "5acd4b85bac7484087415627d68bef8a",
       "version_major": 2,
       "version_minor": 0
      },
      "text/plain": [
       "Gathering CWE requests for issue 1713528731:   0%|          | 0/881 [00:00<?, ?it/s]"
      ]
     },
     "metadata": {},
     "output_type": "display_data"
    },
    {
     "data": {
      "application/vnd.jupyter.widget-view+json": {
       "model_id": "b5983438a5f84c7c8db1319ddcd085c9",
       "version_major": 2,
       "version_minor": 0
      },
      "text/plain": [
       "Writing issue 1713528731 batch files:   0%|          | 0/25 [00:00<?, ?it/s]"
      ]
     },
     "metadata": {},
     "output_type": "display_data"
    },
    {
     "data": {
      "application/vnd.jupyter.widget-view+json": {
       "model_id": "80c59f0a5f94427293472fb9aa5080d5",
       "version_major": 2,
       "version_minor": 0
      },
      "text/plain": [
       "Gathering CWE requests for issue 1091423222:   0%|          | 0/881 [00:00<?, ?it/s]"
      ]
     },
     "metadata": {},
     "output_type": "display_data"
    },
    {
     "data": {
      "application/vnd.jupyter.widget-view+json": {
       "model_id": "708ace8eb7274f0299faac4ec0e5f3f0",
       "version_major": 2,
       "version_minor": 0
      },
      "text/plain": [
       "Writing issue 1091423222 batch files:   0%|          | 0/25 [00:00<?, ?it/s]"
      ]
     },
     "metadata": {},
     "output_type": "display_data"
    },
    {
     "data": {
      "application/vnd.jupyter.widget-view+json": {
       "model_id": "b2bb03c317a042a590b493b90a179876",
       "version_major": 2,
       "version_minor": 0
      },
      "text/plain": [
       "Gathering CWE requests for issue 633297568:   0%|          | 0/881 [00:00<?, ?it/s]"
      ]
     },
     "metadata": {},
     "output_type": "display_data"
    },
    {
     "data": {
      "application/vnd.jupyter.widget-view+json": {
       "model_id": "5111c712538545068c8d18b3980c2848",
       "version_major": 2,
       "version_minor": 0
      },
      "text/plain": [
       "Writing issue 633297568 batch files:   0%|          | 0/25 [00:00<?, ?it/s]"
      ]
     },
     "metadata": {},
     "output_type": "display_data"
    },
    {
     "data": {
      "application/vnd.jupyter.widget-view+json": {
       "model_id": "cfb7a3e0d7a94e57809bb7f191feb07c",
       "version_major": 2,
       "version_minor": 0
      },
      "text/plain": [
       "Gathering CWE requests for issue 459025805:   0%|          | 0/881 [00:00<?, ?it/s]"
      ]
     },
     "metadata": {},
     "output_type": "display_data"
    },
    {
     "data": {
      "application/vnd.jupyter.widget-view+json": {
       "model_id": "e65567b706d5443081d582e1eba02916",
       "version_major": 2,
       "version_minor": 0
      },
      "text/plain": [
       "Writing issue 459025805 batch files:   0%|          | 0/25 [00:00<?, ?it/s]"
      ]
     },
     "metadata": {},
     "output_type": "display_data"
    },
    {
     "data": {
      "application/vnd.jupyter.widget-view+json": {
       "model_id": "6e487f84289b47cfb1aa62d61e96f31c",
       "version_major": 2,
       "version_minor": 0
      },
      "text/plain": [
       "Gathering CWE requests for issue 896531931:   0%|          | 0/881 [00:00<?, ?it/s]"
      ]
     },
     "metadata": {},
     "output_type": "display_data"
    },
    {
     "data": {
      "application/vnd.jupyter.widget-view+json": {
       "model_id": "9439868da0604fba9461ae606d77b169",
       "version_major": 2,
       "version_minor": 0
      },
      "text/plain": [
       "Writing issue 896531931 batch files:   0%|          | 0/25 [00:00<?, ?it/s]"
      ]
     },
     "metadata": {},
     "output_type": "display_data"
    },
    {
     "data": {
      "application/vnd.jupyter.widget-view+json": {
       "model_id": "89c28ddc03774bdc9fc5d75fa9b77099",
       "version_major": 2,
       "version_minor": 0
      },
      "text/plain": [
       "Gathering CWE requests for issue 2877066606:   0%|          | 0/881 [00:00<?, ?it/s]"
      ]
     },
     "metadata": {},
     "output_type": "display_data"
    },
    {
     "data": {
      "application/vnd.jupyter.widget-view+json": {
       "model_id": "782a3a51c9734ba7aa6188329135954b",
       "version_major": 2,
       "version_minor": 0
      },
      "text/plain": [
       "Writing issue 2877066606 batch files:   0%|          | 0/25 [00:00<?, ?it/s]"
      ]
     },
     "metadata": {},
     "output_type": "display_data"
    },
    {
     "data": {
      "application/vnd.jupyter.widget-view+json": {
       "model_id": "f67563cd6dad4970922e48fa856c26a0",
       "version_major": 2,
       "version_minor": 0
      },
      "text/plain": [
       "Gathering CWE requests for issue 1931902480:   0%|          | 0/881 [00:00<?, ?it/s]"
      ]
     },
     "metadata": {},
     "output_type": "display_data"
    },
    {
     "data": {
      "application/vnd.jupyter.widget-view+json": {
       "model_id": "9674d867069d48d8a172aa1c756820e3",
       "version_major": 2,
       "version_minor": 0
      },
      "text/plain": [
       "Writing issue 1931902480 batch files:   0%|          | 0/25 [00:00<?, ?it/s]"
      ]
     },
     "metadata": {},
     "output_type": "display_data"
    },
    {
     "data": {
      "application/vnd.jupyter.widget-view+json": {
       "model_id": "62d81c6256454a1b9e98c37be9cbfddd",
       "version_major": 2,
       "version_minor": 0
      },
      "text/plain": [
       "Gathering CWE requests for issue 2057955798:   0%|          | 0/881 [00:00<?, ?it/s]"
      ]
     },
     "metadata": {},
     "output_type": "display_data"
    },
    {
     "data": {
      "application/vnd.jupyter.widget-view+json": {
       "model_id": "b0a76e16ca0948c79a3627577f583292",
       "version_major": 2,
       "version_minor": 0
      },
      "text/plain": [
       "Writing issue 2057955798 batch files:   0%|          | 0/25 [00:00<?, ?it/s]"
      ]
     },
     "metadata": {},
     "output_type": "display_data"
    },
    {
     "data": {
      "application/vnd.jupyter.widget-view+json": {
       "model_id": "2504cd7cf3754ce3a601b10397a52634",
       "version_major": 2,
       "version_minor": 0
      },
      "text/plain": [
       "Gathering CWE requests for issue 2191994114:   0%|          | 0/881 [00:00<?, ?it/s]"
      ]
     },
     "metadata": {},
     "output_type": "display_data"
    },
    {
     "data": {
      "application/vnd.jupyter.widget-view+json": {
       "model_id": "5cffbb85506a4e8c822a5d14a8f5104b",
       "version_major": 2,
       "version_minor": 0
      },
      "text/plain": [
       "Writing issue 2191994114 batch files:   0%|          | 0/25 [00:00<?, ?it/s]"
      ]
     },
     "metadata": {},
     "output_type": "display_data"
    },
    {
     "data": {
      "application/vnd.jupyter.widget-view+json": {
       "model_id": "de34d3abe15e4c0e80db92d26bd3bc46",
       "version_major": 2,
       "version_minor": 0
      },
      "text/plain": [
       "Gathering CWE requests for issue 1713682055:   0%|          | 0/881 [00:00<?, ?it/s]"
      ]
     },
     "metadata": {},
     "output_type": "display_data"
    },
    {
     "data": {
      "application/vnd.jupyter.widget-view+json": {
       "model_id": "08755c206e5149a9a9a693bbb5dc7ae6",
       "version_major": 2,
       "version_minor": 0
      },
      "text/plain": [
       "Writing issue 1713682055 batch files:   0%|          | 0/25 [00:00<?, ?it/s]"
      ]
     },
     "metadata": {},
     "output_type": "display_data"
    },
    {
     "data": {
      "application/vnd.jupyter.widget-view+json": {
       "model_id": "0157cffabcd04526ab583854620d03b1",
       "version_major": 2,
       "version_minor": 0
      },
      "text/plain": [
       "Gathering CWE requests for issue 1566541369:   0%|          | 0/881 [00:00<?, ?it/s]"
      ]
     },
     "metadata": {},
     "output_type": "display_data"
    },
    {
     "data": {
      "application/vnd.jupyter.widget-view+json": {
       "model_id": "251fbcdb2fa84838bddd11613b2b24ce",
       "version_major": 2,
       "version_minor": 0
      },
      "text/plain": [
       "Writing issue 1566541369 batch files:   0%|          | 0/25 [00:00<?, ?it/s]"
      ]
     },
     "metadata": {},
     "output_type": "display_data"
    },
    {
     "data": {
      "application/vnd.jupyter.widget-view+json": {
       "model_id": "737be91649d045cba00c1429d7012334",
       "version_major": 2,
       "version_minor": 0
      },
      "text/plain": [
       "Gathering CWE requests for issue 393637600:   0%|          | 0/881 [00:00<?, ?it/s]"
      ]
     },
     "metadata": {},
     "output_type": "display_data"
    },
    {
     "data": {
      "application/vnd.jupyter.widget-view+json": {
       "model_id": "c06010038d9849959c40b8cb67595fb5",
       "version_major": 2,
       "version_minor": 0
      },
      "text/plain": [
       "Writing issue 393637600 batch files:   0%|          | 0/25 [00:00<?, ?it/s]"
      ]
     },
     "metadata": {},
     "output_type": "display_data"
    },
    {
     "data": {
      "application/vnd.jupyter.widget-view+json": {
       "model_id": "e791cdc5d168431485478fa832c8581f",
       "version_major": 2,
       "version_minor": 0
      },
      "text/plain": [
       "Gathering CWE requests for issue 2052058671:   0%|          | 0/881 [00:00<?, ?it/s]"
      ]
     },
     "metadata": {},
     "output_type": "display_data"
    },
    {
     "data": {
      "application/vnd.jupyter.widget-view+json": {
       "model_id": "7e31f03f0c3c453aaf5f19628e484d50",
       "version_major": 2,
       "version_minor": 0
      },
      "text/plain": [
       "Writing issue 2052058671 batch files:   0%|          | 0/25 [00:00<?, ?it/s]"
      ]
     },
     "metadata": {},
     "output_type": "display_data"
    },
    {
     "data": {
      "application/vnd.jupyter.widget-view+json": {
       "model_id": "291fa0c783bd4dd497d9a3e4c1b7ad3d",
       "version_major": 2,
       "version_minor": 0
      },
      "text/plain": [
       "Gathering CWE requests for issue 877588711:   0%|          | 0/881 [00:00<?, ?it/s]"
      ]
     },
     "metadata": {},
     "output_type": "display_data"
    },
    {
     "data": {
      "application/vnd.jupyter.widget-view+json": {
       "model_id": "e249f089f4f042cf9c9167a129bf63f7",
       "version_major": 2,
       "version_minor": 0
      },
      "text/plain": [
       "Writing issue 877588711 batch files:   0%|          | 0/25 [00:00<?, ?it/s]"
      ]
     },
     "metadata": {},
     "output_type": "display_data"
    },
    {
     "data": {
      "application/vnd.jupyter.widget-view+json": {
       "model_id": "f9016135b90b44e781e93151a99fcbd0",
       "version_major": 2,
       "version_minor": 0
      },
      "text/plain": [
       "Gathering CWE requests for issue 2827319905:   0%|          | 0/881 [00:00<?, ?it/s]"
      ]
     },
     "metadata": {},
     "output_type": "display_data"
    },
    {
     "data": {
      "application/vnd.jupyter.widget-view+json": {
       "model_id": "48ffa4ce623b4ec79e92b8bb838c7106",
       "version_major": 2,
       "version_minor": 0
      },
      "text/plain": [
       "Writing issue 2827319905 batch files:   0%|          | 0/25 [00:00<?, ?it/s]"
      ]
     },
     "metadata": {},
     "output_type": "display_data"
    },
    {
     "data": {
      "application/vnd.jupyter.widget-view+json": {
       "model_id": "e8d7506637ec4e6682a27ca65c7dc8bd",
       "version_major": 2,
       "version_minor": 0
      },
      "text/plain": [
       "Gathering CWE requests for issue 853037318:   0%|          | 0/881 [00:00<?, ?it/s]"
      ]
     },
     "metadata": {},
     "output_type": "display_data"
    },
    {
     "data": {
      "application/vnd.jupyter.widget-view+json": {
       "model_id": "1f6e45f2f37a4bd18a6d10e305b75f9e",
       "version_major": 2,
       "version_minor": 0
      },
      "text/plain": [
       "Writing issue 853037318 batch files:   0%|          | 0/25 [00:00<?, ?it/s]"
      ]
     },
     "metadata": {},
     "output_type": "display_data"
    },
    {
     "data": {
      "application/vnd.jupyter.widget-view+json": {
       "model_id": "1bd1db8464d647d2876c32b67a26e039",
       "version_major": 2,
       "version_minor": 0
      },
      "text/plain": [
       "Gathering CWE requests for issue 1931900558:   0%|          | 0/881 [00:00<?, ?it/s]"
      ]
     },
     "metadata": {},
     "output_type": "display_data"
    },
    {
     "data": {
      "application/vnd.jupyter.widget-view+json": {
       "model_id": "15908cc0dd1e4dd38d99ceb1e2abd4e5",
       "version_major": 2,
       "version_minor": 0
      },
      "text/plain": [
       "Writing issue 1931900558 batch files:   0%|          | 0/25 [00:00<?, ?it/s]"
      ]
     },
     "metadata": {},
     "output_type": "display_data"
    },
    {
     "data": {
      "application/vnd.jupyter.widget-view+json": {
       "model_id": "649c1198f4ed41fba8d80b864cddfc44",
       "version_major": 2,
       "version_minor": 0
      },
      "text/plain": [
       "Gathering CWE requests for issue 2192013811:   0%|          | 0/881 [00:00<?, ?it/s]"
      ]
     },
     "metadata": {},
     "output_type": "display_data"
    },
    {
     "data": {
      "application/vnd.jupyter.widget-view+json": {
       "model_id": "e6617f84e771440990450237e613f383",
       "version_major": 2,
       "version_minor": 0
      },
      "text/plain": [
       "Writing issue 2192013811 batch files:   0%|          | 0/25 [00:00<?, ?it/s]"
      ]
     },
     "metadata": {},
     "output_type": "display_data"
    },
    {
     "data": {
      "application/vnd.jupyter.widget-view+json": {
       "model_id": "27a2b451493e4040bb5a0607f58c79fd",
       "version_major": 2,
       "version_minor": 0
      },
      "text/plain": [
       "Gathering CWE requests for issue 1598184264:   0%|          | 0/881 [00:00<?, ?it/s]"
      ]
     },
     "metadata": {},
     "output_type": "display_data"
    },
    {
     "data": {
      "application/vnd.jupyter.widget-view+json": {
       "model_id": "6ae9c1cd5f244e3bbe1551282332ee57",
       "version_major": 2,
       "version_minor": 0
      },
      "text/plain": [
       "Writing issue 1598184264 batch files:   0%|          | 0/25 [00:00<?, ?it/s]"
      ]
     },
     "metadata": {},
     "output_type": "display_data"
    },
    {
     "data": {
      "application/vnd.jupyter.widget-view+json": {
       "model_id": "3d78e49c7ae3435fa750d64d805ad9df",
       "version_major": 2,
       "version_minor": 0
      },
      "text/plain": [
       "Gathering CWE requests for issue 1117248312:   0%|          | 0/881 [00:00<?, ?it/s]"
      ]
     },
     "metadata": {},
     "output_type": "display_data"
    },
    {
     "data": {
      "application/vnd.jupyter.widget-view+json": {
       "model_id": "9ee612d6ee9d41099e725fdf0f3ee959",
       "version_major": 2,
       "version_minor": 0
      },
      "text/plain": [
       "Writing issue 1117248312 batch files:   0%|          | 0/25 [00:00<?, ?it/s]"
      ]
     },
     "metadata": {},
     "output_type": "display_data"
    },
    {
     "data": {
      "application/vnd.jupyter.widget-view+json": {
       "model_id": "e2689740cc454ad3abd88cbd7d0dc862",
       "version_major": 2,
       "version_minor": 0
      },
      "text/plain": [
       "Gathering CWE requests for issue 544834443:   0%|          | 0/881 [00:00<?, ?it/s]"
      ]
     },
     "metadata": {},
     "output_type": "display_data"
    },
    {
     "data": {
      "application/vnd.jupyter.widget-view+json": {
       "model_id": "5dc84d42ed784c0f81f6a38fca322389",
       "version_major": 2,
       "version_minor": 0
      },
      "text/plain": [
       "Writing issue 544834443 batch files:   0%|          | 0/25 [00:00<?, ?it/s]"
      ]
     },
     "metadata": {},
     "output_type": "display_data"
    },
    {
     "data": {
      "application/vnd.jupyter.widget-view+json": {
       "model_id": "439c74fb65484d51bd47e63f8a076b3d",
       "version_major": 2,
       "version_minor": 0
      },
      "text/plain": [
       "Gathering CWE requests for issue 586428637:   0%|          | 0/881 [00:00<?, ?it/s]"
      ]
     },
     "metadata": {},
     "output_type": "display_data"
    },
    {
     "data": {
      "application/vnd.jupyter.widget-view+json": {
       "model_id": "0a11f27e753a468eb73aababf0a485b7",
       "version_major": 2,
       "version_minor": 0
      },
      "text/plain": [
       "Writing issue 586428637 batch files:   0%|          | 0/25 [00:00<?, ?it/s]"
      ]
     },
     "metadata": {},
     "output_type": "display_data"
    },
    {
     "data": {
      "application/vnd.jupyter.widget-view+json": {
       "model_id": "1c93caa3e2ba4ed9a7046523c87d3655",
       "version_major": 2,
       "version_minor": 0
      },
      "text/plain": [
       "Gathering CWE requests for issue 2872901109:   0%|          | 0/881 [00:00<?, ?it/s]"
      ]
     },
     "metadata": {},
     "output_type": "display_data"
    },
    {
     "data": {
      "application/vnd.jupyter.widget-view+json": {
       "model_id": "7989e78226c941a3926032ddf335a3b4",
       "version_major": 2,
       "version_minor": 0
      },
      "text/plain": [
       "Writing issue 2872901109 batch files:   0%|          | 0/25 [00:00<?, ?it/s]"
      ]
     },
     "metadata": {},
     "output_type": "display_data"
    },
    {
     "data": {
      "application/vnd.jupyter.widget-view+json": {
       "model_id": "ffafeae0e8934fb18c3fe37e2a7e038f",
       "version_major": 2,
       "version_minor": 0
      },
      "text/plain": [
       "Gathering CWE requests for issue 1931896942:   0%|          | 0/881 [00:00<?, ?it/s]"
      ]
     },
     "metadata": {},
     "output_type": "display_data"
    },
    {
     "data": {
      "application/vnd.jupyter.widget-view+json": {
       "model_id": "3a7301dd655e4d079d3c7edff2c9f24e",
       "version_major": 2,
       "version_minor": 0
      },
      "text/plain": [
       "Writing issue 1931896942 batch files:   0%|          | 0/25 [00:00<?, ?it/s]"
      ]
     },
     "metadata": {},
     "output_type": "display_data"
    },
    {
     "data": {
      "application/vnd.jupyter.widget-view+json": {
       "model_id": "1b03c6a7ccce4401a36569fccdeb2fab",
       "version_major": 2,
       "version_minor": 0
      },
      "text/plain": [
       "Gathering CWE requests for issue 1646878719:   0%|          | 0/881 [00:00<?, ?it/s]"
      ]
     },
     "metadata": {},
     "output_type": "display_data"
    },
    {
     "data": {
      "application/vnd.jupyter.widget-view+json": {
       "model_id": "31fec2a52d4b4c10899c7a4385cb4482",
       "version_major": 2,
       "version_minor": 0
      },
      "text/plain": [
       "Writing issue 1646878719 batch files:   0%|          | 0/25 [00:00<?, ?it/s]"
      ]
     },
     "metadata": {},
     "output_type": "display_data"
    },
    {
     "data": {
      "application/vnd.jupyter.widget-view+json": {
       "model_id": "343be7b2967e47f3aba45e2207732e75",
       "version_major": 2,
       "version_minor": 0
      },
      "text/plain": [
       "Gathering CWE requests for issue 1189714047:   0%|          | 0/881 [00:00<?, ?it/s]"
      ]
     },
     "metadata": {},
     "output_type": "display_data"
    },
    {
     "data": {
      "application/vnd.jupyter.widget-view+json": {
       "model_id": "3e4e4b5b7df64acaa7b70d211105fb8b",
       "version_major": 2,
       "version_minor": 0
      },
      "text/plain": [
       "Writing issue 1189714047 batch files:   0%|          | 0/25 [00:00<?, ?it/s]"
      ]
     },
     "metadata": {},
     "output_type": "display_data"
    },
    {
     "data": {
      "application/vnd.jupyter.widget-view+json": {
       "model_id": "1d1617c1bfe949b69ee3b6d14d545f0a",
       "version_major": 2,
       "version_minor": 0
      },
      "text/plain": [
       "Gathering CWE requests for issue 797331128:   0%|          | 0/881 [00:00<?, ?it/s]"
      ]
     },
     "metadata": {},
     "output_type": "display_data"
    },
    {
     "data": {
      "application/vnd.jupyter.widget-view+json": {
       "model_id": "1abe74fd278e42699189ad61f067d870",
       "version_major": 2,
       "version_minor": 0
      },
      "text/plain": [
       "Writing issue 797331128 batch files:   0%|          | 0/25 [00:00<?, ?it/s]"
      ]
     },
     "metadata": {},
     "output_type": "display_data"
    },
    {
     "data": {
      "application/vnd.jupyter.widget-view+json": {
       "model_id": "88105f18a17640c3bd0f7a24aded1867",
       "version_major": 2,
       "version_minor": 0
      },
      "text/plain": [
       "Gathering CWE requests for issue 974639707:   0%|          | 0/881 [00:00<?, ?it/s]"
      ]
     },
     "metadata": {},
     "output_type": "display_data"
    },
    {
     "data": {
      "application/vnd.jupyter.widget-view+json": {
       "model_id": "b71d3578fedb49c88367cc1dc99867a2",
       "version_major": 2,
       "version_minor": 0
      },
      "text/plain": [
       "Writing issue 974639707 batch files:   0%|          | 0/25 [00:00<?, ?it/s]"
      ]
     },
     "metadata": {},
     "output_type": "display_data"
    },
    {
     "data": {
      "application/vnd.jupyter.widget-view+json": {
       "model_id": "2f82d693226e415fbb920e2a5e541b3a",
       "version_major": 2,
       "version_minor": 0
      },
      "text/plain": [
       "Gathering CWE requests for issue 1989826100:   0%|          | 0/881 [00:00<?, ?it/s]"
      ]
     },
     "metadata": {},
     "output_type": "display_data"
    },
    {
     "data": {
      "application/vnd.jupyter.widget-view+json": {
       "model_id": "7a11a1339aa44d15b03b8dc7745edd1f",
       "version_major": 2,
       "version_minor": 0
      },
      "text/plain": [
       "Writing issue 1989826100 batch files:   0%|          | 0/25 [00:00<?, ?it/s]"
      ]
     },
     "metadata": {},
     "output_type": "display_data"
    },
    {
     "data": {
      "application/vnd.jupyter.widget-view+json": {
       "model_id": "d607a8e90f554665bea6f2eda2e53046",
       "version_major": 2,
       "version_minor": 0
      },
      "text/plain": [
       "Gathering CWE requests for issue 2035020188:   0%|          | 0/881 [00:00<?, ?it/s]"
      ]
     },
     "metadata": {},
     "output_type": "display_data"
    },
    {
     "data": {
      "application/vnd.jupyter.widget-view+json": {
       "model_id": "d7e7892ce4bf4ff09f9e190fd6ffedd7",
       "version_major": 2,
       "version_minor": 0
      },
      "text/plain": [
       "Writing issue 2035020188 batch files:   0%|          | 0/25 [00:00<?, ?it/s]"
      ]
     },
     "metadata": {},
     "output_type": "display_data"
    },
    {
     "data": {
      "application/vnd.jupyter.widget-view+json": {
       "model_id": "52a2a67789de4816b42293502bfd8d32",
       "version_major": 2,
       "version_minor": 0
      },
      "text/plain": [
       "Gathering CWE requests for issue 1376791202:   0%|          | 0/881 [00:00<?, ?it/s]"
      ]
     },
     "metadata": {},
     "output_type": "display_data"
    },
    {
     "data": {
      "application/vnd.jupyter.widget-view+json": {
       "model_id": "8a4982e88df1448c868ef0b562ffc0dc",
       "version_major": 2,
       "version_minor": 0
      },
      "text/plain": [
       "Writing issue 1376791202 batch files:   0%|          | 0/25 [00:00<?, ?it/s]"
      ]
     },
     "metadata": {},
     "output_type": "display_data"
    },
    {
     "data": {
      "application/vnd.jupyter.widget-view+json": {
       "model_id": "979a61d5819b43dbbd07332d9b8ae66a",
       "version_major": 2,
       "version_minor": 0
      },
      "text/plain": [
       "Gathering CWE requests for issue 786923609:   0%|          | 0/881 [00:00<?, ?it/s]"
      ]
     },
     "metadata": {},
     "output_type": "display_data"
    },
    {
     "data": {
      "application/vnd.jupyter.widget-view+json": {
       "model_id": "c7674a78303641038bcff8d5ca8824ea",
       "version_major": 2,
       "version_minor": 0
      },
      "text/plain": [
       "Writing issue 786923609 batch files:   0%|          | 0/25 [00:00<?, ?it/s]"
      ]
     },
     "metadata": {},
     "output_type": "display_data"
    },
    {
     "data": {
      "application/vnd.jupyter.widget-view+json": {
       "model_id": "d3f9b6274d1b4252a9c6e38845866c21",
       "version_major": 2,
       "version_minor": 0
      },
      "text/plain": [
       "Gathering CWE requests for issue 1665072694:   0%|          | 0/881 [00:00<?, ?it/s]"
      ]
     },
     "metadata": {},
     "output_type": "display_data"
    },
    {
     "data": {
      "application/vnd.jupyter.widget-view+json": {
       "model_id": "9e2262bcf00e495faed8568ee84c6176",
       "version_major": 2,
       "version_minor": 0
      },
      "text/plain": [
       "Writing issue 1665072694 batch files:   0%|          | 0/25 [00:00<?, ?it/s]"
      ]
     },
     "metadata": {},
     "output_type": "display_data"
    },
    {
     "data": {
      "application/vnd.jupyter.widget-view+json": {
       "model_id": "37f12c0dd9b5479ba105f43ab2748231",
       "version_major": 2,
       "version_minor": 0
      },
      "text/plain": [
       "Gathering CWE requests for issue 838131404:   0%|          | 0/881 [00:00<?, ?it/s]"
      ]
     },
     "metadata": {},
     "output_type": "display_data"
    },
    {
     "data": {
      "application/vnd.jupyter.widget-view+json": {
       "model_id": "ba94518f31764a05844356ec14fbbe91",
       "version_major": 2,
       "version_minor": 0
      },
      "text/plain": [
       "Writing issue 838131404 batch files:   0%|          | 0/25 [00:00<?, ?it/s]"
      ]
     },
     "metadata": {},
     "output_type": "display_data"
    },
    {
     "data": {
      "application/vnd.jupyter.widget-view+json": {
       "model_id": "eeb85ec8e4724adb9b910d0ef522e654",
       "version_major": 2,
       "version_minor": 0
      },
      "text/plain": [
       "Gathering CWE requests for issue 2267100415:   0%|          | 0/881 [00:00<?, ?it/s]"
      ]
     },
     "metadata": {},
     "output_type": "display_data"
    },
    {
     "data": {
      "application/vnd.jupyter.widget-view+json": {
       "model_id": "05ff55b4f00a45369753b22950ca7665",
       "version_major": 2,
       "version_minor": 0
      },
      "text/plain": [
       "Writing issue 2267100415 batch files:   0%|          | 0/25 [00:00<?, ?it/s]"
      ]
     },
     "metadata": {},
     "output_type": "display_data"
    },
    {
     "data": {
      "application/vnd.jupyter.widget-view+json": {
       "model_id": "10744dba166148c8a5120a8d44ecb14d",
       "version_major": 2,
       "version_minor": 0
      },
      "text/plain": [
       "Gathering CWE requests for issue 984701234:   0%|          | 0/881 [00:00<?, ?it/s]"
      ]
     },
     "metadata": {},
     "output_type": "display_data"
    },
    {
     "data": {
      "application/vnd.jupyter.widget-view+json": {
       "model_id": "46293211cca24d91b7145cff8b3147bd",
       "version_major": 2,
       "version_minor": 0
      },
      "text/plain": [
       "Writing issue 984701234 batch files:   0%|          | 0/25 [00:00<?, ?it/s]"
      ]
     },
     "metadata": {},
     "output_type": "display_data"
    },
    {
     "data": {
      "application/vnd.jupyter.widget-view+json": {
       "model_id": "5e942282c30a41ef90a47180a0c32b0b",
       "version_major": 2,
       "version_minor": 0
      },
      "text/plain": [
       "Gathering CWE requests for issue 1429110423:   0%|          | 0/881 [00:00<?, ?it/s]"
      ]
     },
     "metadata": {},
     "output_type": "display_data"
    },
    {
     "data": {
      "application/vnd.jupyter.widget-view+json": {
       "model_id": "3724cdaf3ed24b07aab5dab8a74c37d1",
       "version_major": 2,
       "version_minor": 0
      },
      "text/plain": [
       "Writing issue 1429110423 batch files:   0%|          | 0/25 [00:00<?, ?it/s]"
      ]
     },
     "metadata": {},
     "output_type": "display_data"
    },
    {
     "data": {
      "application/vnd.jupyter.widget-view+json": {
       "model_id": "538c7ce2c050430588b57ed09edfd852",
       "version_major": 2,
       "version_minor": 0
      },
      "text/plain": [
       "Gathering CWE requests for issue 1091467592:   0%|          | 0/881 [00:00<?, ?it/s]"
      ]
     },
     "metadata": {},
     "output_type": "display_data"
    },
    {
     "data": {
      "application/vnd.jupyter.widget-view+json": {
       "model_id": "d403b6d7a56b40e4ba710530a341aa0e",
       "version_major": 2,
       "version_minor": 0
      },
      "text/plain": [
       "Writing issue 1091467592 batch files:   0%|          | 0/25 [00:00<?, ?it/s]"
      ]
     },
     "metadata": {},
     "output_type": "display_data"
    },
    {
     "data": {
      "application/vnd.jupyter.widget-view+json": {
       "model_id": "2ac6efb44f764296aad9bfb3eb9353fb",
       "version_major": 2,
       "version_minor": 0
      },
      "text/plain": [
       "Gathering CWE requests for issue 1105820033:   0%|          | 0/881 [00:00<?, ?it/s]"
      ]
     },
     "metadata": {},
     "output_type": "display_data"
    },
    {
     "data": {
      "application/vnd.jupyter.widget-view+json": {
       "model_id": "485bd06b3c6e4b9d98d9c1b20e32f1e5",
       "version_major": 2,
       "version_minor": 0
      },
      "text/plain": [
       "Writing issue 1105820033 batch files:   0%|          | 0/25 [00:00<?, ?it/s]"
      ]
     },
     "metadata": {},
     "output_type": "display_data"
    },
    {
     "data": {
      "application/vnd.jupyter.widget-view+json": {
       "model_id": "e7ab019c06724a80ad0b3ba2475af4bd",
       "version_major": 2,
       "version_minor": 0
      },
      "text/plain": [
       "Gathering CWE requests for issue 400102085:   0%|          | 0/881 [00:00<?, ?it/s]"
      ]
     },
     "metadata": {},
     "output_type": "display_data"
    },
    {
     "data": {
      "application/vnd.jupyter.widget-view+json": {
       "model_id": "c279d6e2ee7c42ef9cd632d08fe11120",
       "version_major": 2,
       "version_minor": 0
      },
      "text/plain": [
       "Writing issue 400102085 batch files:   0%|          | 0/25 [00:00<?, ?it/s]"
      ]
     },
     "metadata": {},
     "output_type": "display_data"
    },
    {
     "data": {
      "application/vnd.jupyter.widget-view+json": {
       "model_id": "0f7a5199463c4955b225f4ee46210da7",
       "version_major": 2,
       "version_minor": 0
      },
      "text/plain": [
       "Gathering CWE requests for issue 2570129601:   0%|          | 0/881 [00:00<?, ?it/s]"
      ]
     },
     "metadata": {},
     "output_type": "display_data"
    },
    {
     "data": {
      "application/vnd.jupyter.widget-view+json": {
       "model_id": "0c9e497f50a4453a9dba770c5dadbb70",
       "version_major": 2,
       "version_minor": 0
      },
      "text/plain": [
       "Writing issue 2570129601 batch files:   0%|          | 0/25 [00:00<?, ?it/s]"
      ]
     },
     "metadata": {},
     "output_type": "display_data"
    },
    {
     "data": {
      "application/vnd.jupyter.widget-view+json": {
       "model_id": "c899fb17db4544fe985a8649f846805e",
       "version_major": 2,
       "version_minor": 0
      },
      "text/plain": [
       "Gathering CWE requests for issue 2158322827:   0%|          | 0/881 [00:00<?, ?it/s]"
      ]
     },
     "metadata": {},
     "output_type": "display_data"
    },
    {
     "data": {
      "application/vnd.jupyter.widget-view+json": {
       "model_id": "6bb847ece0eb45edbf1cc0d87dfd1a63",
       "version_major": 2,
       "version_minor": 0
      },
      "text/plain": [
       "Writing issue 2158322827 batch files:   0%|          | 0/25 [00:00<?, ?it/s]"
      ]
     },
     "metadata": {},
     "output_type": "display_data"
    },
    {
     "data": {
      "application/vnd.jupyter.widget-view+json": {
       "model_id": "7df1309be0e343a39e2c75f01cc8f66c",
       "version_major": 2,
       "version_minor": 0
      },
      "text/plain": [
       "Gathering CWE requests for issue 1635357898:   0%|          | 0/881 [00:00<?, ?it/s]"
      ]
     },
     "metadata": {},
     "output_type": "display_data"
    },
    {
     "data": {
      "application/vnd.jupyter.widget-view+json": {
       "model_id": "b9e14a6faaaa4b5c8fa8ee35694dad76",
       "version_major": 2,
       "version_minor": 0
      },
      "text/plain": [
       "Writing issue 1635357898 batch files:   0%|          | 0/25 [00:00<?, ?it/s]"
      ]
     },
     "metadata": {},
     "output_type": "display_data"
    },
    {
     "data": {
      "application/vnd.jupyter.widget-view+json": {
       "model_id": "d72893027d994c2c9f2c7dc828d4d6cb",
       "version_major": 2,
       "version_minor": 0
      },
      "text/plain": [
       "Gathering CWE requests for issue 1120361825:   0%|          | 0/881 [00:00<?, ?it/s]"
      ]
     },
     "metadata": {},
     "output_type": "display_data"
    },
    {
     "data": {
      "application/vnd.jupyter.widget-view+json": {
       "model_id": "32e5edc4fcaa4636ba3d4497e0f957fd",
       "version_major": 2,
       "version_minor": 0
      },
      "text/plain": [
       "Writing issue 1120361825 batch files:   0%|          | 0/25 [00:00<?, ?it/s]"
      ]
     },
     "metadata": {},
     "output_type": "display_data"
    },
    {
     "data": {
      "application/vnd.jupyter.widget-view+json": {
       "model_id": "fc4a995b9f22482abf513e7287cda369",
       "version_major": 2,
       "version_minor": 0
      },
      "text/plain": [
       "Gathering CWE requests for issue 562020033:   0%|          | 0/881 [00:00<?, ?it/s]"
      ]
     },
     "metadata": {},
     "output_type": "display_data"
    },
    {
     "data": {
      "application/vnd.jupyter.widget-view+json": {
       "model_id": "cbd3d6ef380b4d349f1ec51f39c186de",
       "version_major": 2,
       "version_minor": 0
      },
      "text/plain": [
       "Writing issue 562020033 batch files:   0%|          | 0/25 [00:00<?, ?it/s]"
      ]
     },
     "metadata": {},
     "output_type": "display_data"
    },
    {
     "data": {
      "application/vnd.jupyter.widget-view+json": {
       "model_id": "8bf9b2fed81f4f0cbe4c11e2d313cf2f",
       "version_major": 2,
       "version_minor": 0
      },
      "text/plain": [
       "Gathering CWE requests for issue 1680087624:   0%|          | 0/881 [00:00<?, ?it/s]"
      ]
     },
     "metadata": {},
     "output_type": "display_data"
    },
    {
     "data": {
      "application/vnd.jupyter.widget-view+json": {
       "model_id": "ddb492e20227426b9fa8207b1ef2fb44",
       "version_major": 2,
       "version_minor": 0
      },
      "text/plain": [
       "Writing issue 1680087624 batch files:   0%|          | 0/25 [00:00<?, ?it/s]"
      ]
     },
     "metadata": {},
     "output_type": "display_data"
    },
    {
     "data": {
      "application/vnd.jupyter.widget-view+json": {
       "model_id": "46553d191d804d3595c1cc980de68106",
       "version_major": 2,
       "version_minor": 0
      },
      "text/plain": [
       "Gathering CWE requests for issue 1931886016:   0%|          | 0/881 [00:00<?, ?it/s]"
      ]
     },
     "metadata": {},
     "output_type": "display_data"
    },
    {
     "data": {
      "application/vnd.jupyter.widget-view+json": {
       "model_id": "a916da97357342efbb93dcf4c0d1e8ac",
       "version_major": 2,
       "version_minor": 0
      },
      "text/plain": [
       "Writing issue 1931886016 batch files:   0%|          | 0/25 [00:00<?, ?it/s]"
      ]
     },
     "metadata": {},
     "output_type": "display_data"
    },
    {
     "data": {
      "application/vnd.jupyter.widget-view+json": {
       "model_id": "563538b55abd4d7f998ec1782460f59c",
       "version_major": 2,
       "version_minor": 0
      },
      "text/plain": [
       "Gathering CWE requests for issue 2010974674:   0%|          | 0/881 [00:00<?, ?it/s]"
      ]
     },
     "metadata": {},
     "output_type": "display_data"
    },
    {
     "data": {
      "application/vnd.jupyter.widget-view+json": {
       "model_id": "7722ae8ac2bf4e5eb4c8a51ae3e57696",
       "version_major": 2,
       "version_minor": 0
      },
      "text/plain": [
       "Writing issue 2010974674 batch files:   0%|          | 0/25 [00:00<?, ?it/s]"
      ]
     },
     "metadata": {},
     "output_type": "display_data"
    },
    {
     "data": {
      "application/vnd.jupyter.widget-view+json": {
       "model_id": "b349a892f900435c8b48075708173330",
       "version_major": 2,
       "version_minor": 0
      },
      "text/plain": [
       "Gathering CWE requests for issue 865639263:   0%|          | 0/881 [00:00<?, ?it/s]"
      ]
     },
     "metadata": {},
     "output_type": "display_data"
    },
    {
     "data": {
      "application/vnd.jupyter.widget-view+json": {
       "model_id": "3ff9bf4f9820473d8469ac1e330deeb4",
       "version_major": 2,
       "version_minor": 0
      },
      "text/plain": [
       "Writing issue 865639263 batch files:   0%|          | 0/25 [00:00<?, ?it/s]"
      ]
     },
     "metadata": {},
     "output_type": "display_data"
    },
    {
     "data": {
      "application/vnd.jupyter.widget-view+json": {
       "model_id": "5cf0d02d17374ce6993635f734aae651",
       "version_major": 2,
       "version_minor": 0
      },
      "text/plain": [
       "Gathering CWE requests for issue 521931348:   0%|          | 0/881 [00:00<?, ?it/s]"
      ]
     },
     "metadata": {},
     "output_type": "display_data"
    },
    {
     "data": {
      "application/vnd.jupyter.widget-view+json": {
       "model_id": "d01671b093ab4b68bf842f2c2bdb2db9",
       "version_major": 2,
       "version_minor": 0
      },
      "text/plain": [
       "Writing issue 521931348 batch files:   0%|          | 0/25 [00:00<?, ?it/s]"
      ]
     },
     "metadata": {},
     "output_type": "display_data"
    },
    {
     "data": {
      "application/vnd.jupyter.widget-view+json": {
       "model_id": "cb6f231554864cb0b0b4046532089b6f",
       "version_major": 2,
       "version_minor": 0
      },
      "text/plain": [
       "Gathering CWE requests for issue 414272146:   0%|          | 0/881 [00:00<?, ?it/s]"
      ]
     },
     "metadata": {},
     "output_type": "display_data"
    },
    {
     "data": {
      "application/vnd.jupyter.widget-view+json": {
       "model_id": "c11ea67377ac4397a8e5753f9f1ece45",
       "version_major": 2,
       "version_minor": 0
      },
      "text/plain": [
       "Writing issue 414272146 batch files:   0%|          | 0/25 [00:00<?, ?it/s]"
      ]
     },
     "metadata": {},
     "output_type": "display_data"
    },
    {
     "data": {
      "application/vnd.jupyter.widget-view+json": {
       "model_id": "b402376826b1444f9293fb3feeafdbe0",
       "version_major": 2,
       "version_minor": 0
      },
      "text/plain": [
       "Gathering CWE requests for issue 1713432787:   0%|          | 0/881 [00:00<?, ?it/s]"
      ]
     },
     "metadata": {},
     "output_type": "display_data"
    },
    {
     "data": {
      "application/vnd.jupyter.widget-view+json": {
       "model_id": "d6c9444aad284fcaa907a43174569d93",
       "version_major": 2,
       "version_minor": 0
      },
      "text/plain": [
       "Writing issue 1713432787 batch files:   0%|          | 0/25 [00:00<?, ?it/s]"
      ]
     },
     "metadata": {},
     "output_type": "display_data"
    },
    {
     "data": {
      "application/vnd.jupyter.widget-view+json": {
       "model_id": "6065fb46abc34e49ada1b846efcf7a68",
       "version_major": 2,
       "version_minor": 0
      },
      "text/plain": [
       "Gathering CWE requests for issue 2562065523:   0%|          | 0/881 [00:00<?, ?it/s]"
      ]
     },
     "metadata": {},
     "output_type": "display_data"
    },
    {
     "data": {
      "application/vnd.jupyter.widget-view+json": {
       "model_id": "f5c841d087214733ae85915b7c524dc0",
       "version_major": 2,
       "version_minor": 0
      },
      "text/plain": [
       "Writing issue 2562065523 batch files:   0%|          | 0/25 [00:00<?, ?it/s]"
      ]
     },
     "metadata": {},
     "output_type": "display_data"
    },
    {
     "data": {
      "application/vnd.jupyter.widget-view+json": {
       "model_id": "fc70a352e780401e9c29dcbd724604d7",
       "version_major": 2,
       "version_minor": 0
      },
      "text/plain": [
       "Gathering CWE requests for issue 685379611:   0%|          | 0/881 [00:00<?, ?it/s]"
      ]
     },
     "metadata": {},
     "output_type": "display_data"
    },
    {
     "data": {
      "application/vnd.jupyter.widget-view+json": {
       "model_id": "29758ead70e7413dbfabea0b738e4719",
       "version_major": 2,
       "version_minor": 0
      },
      "text/plain": [
       "Writing issue 685379611 batch files:   0%|          | 0/25 [00:00<?, ?it/s]"
      ]
     },
     "metadata": {},
     "output_type": "display_data"
    },
    {
     "data": {
      "application/vnd.jupyter.widget-view+json": {
       "model_id": "f3cc6c20149e4ebdb33e760e3af8f63b",
       "version_major": 2,
       "version_minor": 0
      },
      "text/plain": [
       "Gathering CWE requests for issue 1126775651:   0%|          | 0/881 [00:00<?, ?it/s]"
      ]
     },
     "metadata": {},
     "output_type": "display_data"
    },
    {
     "data": {
      "application/vnd.jupyter.widget-view+json": {
       "model_id": "59de78d5ab814143a428694e4fd73572",
       "version_major": 2,
       "version_minor": 0
      },
      "text/plain": [
       "Writing issue 1126775651 batch files:   0%|          | 0/25 [00:00<?, ?it/s]"
      ]
     },
     "metadata": {},
     "output_type": "display_data"
    },
    {
     "data": {
      "application/vnd.jupyter.widget-view+json": {
       "model_id": "52d21954c90147338627ed7670142b30",
       "version_major": 2,
       "version_minor": 0
      },
      "text/plain": [
       "Gathering CWE requests for issue 933487858:   0%|          | 0/881 [00:00<?, ?it/s]"
      ]
     },
     "metadata": {},
     "output_type": "display_data"
    },
    {
     "data": {
      "application/vnd.jupyter.widget-view+json": {
       "model_id": "6651cf8568924ab58b570132dc6c8ecd",
       "version_major": 2,
       "version_minor": 0
      },
      "text/plain": [
       "Writing issue 933487858 batch files:   0%|          | 0/25 [00:00<?, ?it/s]"
      ]
     },
     "metadata": {},
     "output_type": "display_data"
    },
    {
     "data": {
      "application/vnd.jupyter.widget-view+json": {
       "model_id": "e8dc5ee0326d4b7ea720215a61b08db3",
       "version_major": 2,
       "version_minor": 0
      },
      "text/plain": [
       "Gathering CWE requests for issue 2691025626:   0%|          | 0/881 [00:00<?, ?it/s]"
      ]
     },
     "metadata": {},
     "output_type": "display_data"
    },
    {
     "data": {
      "application/vnd.jupyter.widget-view+json": {
       "model_id": "860b6caf597640e0ad84640a7d1a15e6",
       "version_major": 2,
       "version_minor": 0
      },
      "text/plain": [
       "Writing issue 2691025626 batch files:   0%|          | 0/25 [00:00<?, ?it/s]"
      ]
     },
     "metadata": {},
     "output_type": "display_data"
    },
    {
     "data": {
      "application/vnd.jupyter.widget-view+json": {
       "model_id": "5b253e616d6547b9be034cf631bfd8d5",
       "version_major": 2,
       "version_minor": 0
      },
      "text/plain": [
       "Gathering CWE requests for issue 1292941893:   0%|          | 0/881 [00:00<?, ?it/s]"
      ]
     },
     "metadata": {},
     "output_type": "display_data"
    },
    {
     "data": {
      "application/vnd.jupyter.widget-view+json": {
       "model_id": "5a9239150f184e6cb06a7852d3790391",
       "version_major": 2,
       "version_minor": 0
      },
      "text/plain": [
       "Writing issue 1292941893 batch files:   0%|          | 0/25 [00:00<?, ?it/s]"
      ]
     },
     "metadata": {},
     "output_type": "display_data"
    },
    {
     "data": {
      "application/vnd.jupyter.widget-view+json": {
       "model_id": "d032161e7789453ca77f06f9662d076d",
       "version_major": 2,
       "version_minor": 0
      },
      "text/plain": [
       "Gathering CWE requests for issue 984803968:   0%|          | 0/881 [00:00<?, ?it/s]"
      ]
     },
     "metadata": {},
     "output_type": "display_data"
    },
    {
     "data": {
      "application/vnd.jupyter.widget-view+json": {
       "model_id": "8aa7c8ab75094c2ca05dc5ecfeb2fe7c",
       "version_major": 2,
       "version_minor": 0
      },
      "text/plain": [
       "Writing issue 984803968 batch files:   0%|          | 0/25 [00:00<?, ?it/s]"
      ]
     },
     "metadata": {},
     "output_type": "display_data"
    },
    {
     "data": {
      "application/vnd.jupyter.widget-view+json": {
       "model_id": "063915b2867448389901eef457774409",
       "version_major": 2,
       "version_minor": 0
      },
      "text/plain": [
       "Gathering CWE requests for issue 871729530:   0%|          | 0/881 [00:00<?, ?it/s]"
      ]
     },
     "metadata": {},
     "output_type": "display_data"
    },
    {
     "data": {
      "application/vnd.jupyter.widget-view+json": {
       "model_id": "49d0fdfa7aea48f88447709bf9a17e33",
       "version_major": 2,
       "version_minor": 0
      },
      "text/plain": [
       "Writing issue 871729530 batch files:   0%|          | 0/25 [00:00<?, ?it/s]"
      ]
     },
     "metadata": {},
     "output_type": "display_data"
    },
    {
     "data": {
      "application/vnd.jupyter.widget-view+json": {
       "model_id": "5c8e5201f3164b378fcfdc0976a98731",
       "version_major": 2,
       "version_minor": 0
      },
      "text/plain": [
       "Gathering CWE requests for issue 2879599579:   0%|          | 0/881 [00:00<?, ?it/s]"
      ]
     },
     "metadata": {},
     "output_type": "display_data"
    },
    {
     "data": {
      "application/vnd.jupyter.widget-view+json": {
       "model_id": "9cdce9c18d674512ba29df5570be12ad",
       "version_major": 2,
       "version_minor": 0
      },
      "text/plain": [
       "Writing issue 2879599579 batch files:   0%|          | 0/25 [00:00<?, ?it/s]"
      ]
     },
     "metadata": {},
     "output_type": "display_data"
    },
    {
     "data": {
      "application/vnd.jupyter.widget-view+json": {
       "model_id": "84fa565299c6422da464faf7172bf4fb",
       "version_major": 2,
       "version_minor": 0
      },
      "text/plain": [
       "Gathering CWE requests for issue 1078289153:   0%|          | 0/881 [00:00<?, ?it/s]"
      ]
     },
     "metadata": {},
     "output_type": "display_data"
    },
    {
     "data": {
      "application/vnd.jupyter.widget-view+json": {
       "model_id": "37f1699b5e824462b3c7afc77ffe2ad7",
       "version_major": 2,
       "version_minor": 0
      },
      "text/plain": [
       "Writing issue 1078289153 batch files:   0%|          | 0/25 [00:00<?, ?it/s]"
      ]
     },
     "metadata": {},
     "output_type": "display_data"
    },
    {
     "data": {
      "application/vnd.jupyter.widget-view+json": {
       "model_id": "215569e8bd964642bbae0a352a85a4ea",
       "version_major": 2,
       "version_minor": 0
      },
      "text/plain": [
       "Gathering CWE requests for issue 619458135:   0%|          | 0/881 [00:00<?, ?it/s]"
      ]
     },
     "metadata": {},
     "output_type": "display_data"
    },
    {
     "data": {
      "application/vnd.jupyter.widget-view+json": {
       "model_id": "68762810b49740deb8e5c0809269eba3",
       "version_major": 2,
       "version_minor": 0
      },
      "text/plain": [
       "Writing issue 619458135 batch files:   0%|          | 0/25 [00:00<?, ?it/s]"
      ]
     },
     "metadata": {},
     "output_type": "display_data"
    },
    {
     "data": {
      "application/vnd.jupyter.widget-view+json": {
       "model_id": "85833460796844dda56a20853ab1c14a",
       "version_major": 2,
       "version_minor": 0
      },
      "text/plain": [
       "Gathering CWE requests for issue 1091459262:   0%|          | 0/881 [00:00<?, ?it/s]"
      ]
     },
     "metadata": {},
     "output_type": "display_data"
    },
    {
     "data": {
      "application/vnd.jupyter.widget-view+json": {
       "model_id": "6020f84eb6c3433892b620f476ed3250",
       "version_major": 2,
       "version_minor": 0
      },
      "text/plain": [
       "Writing issue 1091459262 batch files:   0%|          | 0/25 [00:00<?, ?it/s]"
      ]
     },
     "metadata": {},
     "output_type": "display_data"
    },
    {
     "data": {
      "application/vnd.jupyter.widget-view+json": {
       "model_id": "afdf7c36bf254df9b4c2e63a6eb6aac8",
       "version_major": 2,
       "version_minor": 0
      },
      "text/plain": [
       "Gathering CWE requests for issue 2037012931:   0%|          | 0/881 [00:00<?, ?it/s]"
      ]
     },
     "metadata": {},
     "output_type": "display_data"
    },
    {
     "data": {
      "application/vnd.jupyter.widget-view+json": {
       "model_id": "1882527ad4ca41fcab01bb5afa0efe37",
       "version_major": 2,
       "version_minor": 0
      },
      "text/plain": [
       "Writing issue 2037012931 batch files:   0%|          | 0/25 [00:00<?, ?it/s]"
      ]
     },
     "metadata": {},
     "output_type": "display_data"
    },
    {
     "data": {
      "application/vnd.jupyter.widget-view+json": {
       "model_id": "77e06799ec35429ba32f9007ee113e46",
       "version_major": 2,
       "version_minor": 0
      },
      "text/plain": [
       "Gathering CWE requests for issue 1381022528:   0%|          | 0/881 [00:00<?, ?it/s]"
      ]
     },
     "metadata": {},
     "output_type": "display_data"
    },
    {
     "data": {
      "application/vnd.jupyter.widget-view+json": {
       "model_id": "4da42a83208842bc9c64e56573dacd67",
       "version_major": 2,
       "version_minor": 0
      },
      "text/plain": [
       "Writing issue 1381022528 batch files:   0%|          | 0/25 [00:00<?, ?it/s]"
      ]
     },
     "metadata": {},
     "output_type": "display_data"
    },
    {
     "data": {
      "application/vnd.jupyter.widget-view+json": {
       "model_id": "7156525b040642fdb1221753fbd36d8b",
       "version_major": 2,
       "version_minor": 0
      },
      "text/plain": [
       "Gathering CWE requests for issue 685385426:   0%|          | 0/881 [00:00<?, ?it/s]"
      ]
     },
     "metadata": {},
     "output_type": "display_data"
    },
    {
     "data": {
      "application/vnd.jupyter.widget-view+json": {
       "model_id": "099a063377d94928a54cd90341d42a8d",
       "version_major": 2,
       "version_minor": 0
      },
      "text/plain": [
       "Writing issue 685385426 batch files:   0%|          | 0/25 [00:00<?, ?it/s]"
      ]
     },
     "metadata": {},
     "output_type": "display_data"
    },
    {
     "data": {
      "application/vnd.jupyter.widget-view+json": {
       "model_id": "6e7e1dc802994e35b4f5de9afa1e7e3e",
       "version_major": 2,
       "version_minor": 0
      },
      "text/plain": [
       "Gathering CWE requests for issue 1602439311:   0%|          | 0/881 [00:00<?, ?it/s]"
      ]
     },
     "metadata": {},
     "output_type": "display_data"
    },
    {
     "data": {
      "application/vnd.jupyter.widget-view+json": {
       "model_id": "c07afa8e02cd4450bb6b1db9b7765bfe",
       "version_major": 2,
       "version_minor": 0
      },
      "text/plain": [
       "Writing issue 1602439311 batch files:   0%|          | 0/25 [00:00<?, ?it/s]"
      ]
     },
     "metadata": {},
     "output_type": "display_data"
    },
    {
     "data": {
      "application/vnd.jupyter.widget-view+json": {
       "model_id": "0f6024dea9264ed5be038d2fbaa607cd",
       "version_major": 2,
       "version_minor": 0
      },
      "text/plain": [
       "Gathering CWE requests for issue 1236181617:   0%|          | 0/881 [00:00<?, ?it/s]"
      ]
     },
     "metadata": {},
     "output_type": "display_data"
    },
    {
     "data": {
      "application/vnd.jupyter.widget-view+json": {
       "model_id": "e8fe5ca62aef4c069563984ea0053e9f",
       "version_major": 2,
       "version_minor": 0
      },
      "text/plain": [
       "Writing issue 1236181617 batch files:   0%|          | 0/25 [00:00<?, ?it/s]"
      ]
     },
     "metadata": {},
     "output_type": "display_data"
    },
    {
     "data": {
      "application/vnd.jupyter.widget-view+json": {
       "model_id": "ef15351ebdf44648aa14dbc855829ec9",
       "version_major": 2,
       "version_minor": 0
      },
      "text/plain": [
       "Gathering CWE requests for issue 782082814:   0%|          | 0/881 [00:00<?, ?it/s]"
      ]
     },
     "metadata": {},
     "output_type": "display_data"
    },
    {
     "data": {
      "application/vnd.jupyter.widget-view+json": {
       "model_id": "71de48c6e92140f0b1e5c4c10f7af7a7",
       "version_major": 2,
       "version_minor": 0
      },
      "text/plain": [
       "Writing issue 782082814 batch files:   0%|          | 0/25 [00:00<?, ?it/s]"
      ]
     },
     "metadata": {},
     "output_type": "display_data"
    },
    {
     "data": {
      "application/vnd.jupyter.widget-view+json": {
       "model_id": "bf9bfb65cc1d48c7ae06653b2ddf7dbf",
       "version_major": 2,
       "version_minor": 0
      },
      "text/plain": [
       "Gathering CWE requests for issue 541977765:   0%|          | 0/881 [00:00<?, ?it/s]"
      ]
     },
     "metadata": {},
     "output_type": "display_data"
    },
    {
     "data": {
      "application/vnd.jupyter.widget-view+json": {
       "model_id": "73cb359385034e148f817145516e0ed7",
       "version_major": 2,
       "version_minor": 0
      },
      "text/plain": [
       "Writing issue 541977765 batch files:   0%|          | 0/25 [00:00<?, ?it/s]"
      ]
     },
     "metadata": {},
     "output_type": "display_data"
    },
    {
     "data": {
      "application/vnd.jupyter.widget-view+json": {
       "model_id": "fcc79f1d46d543f89369819f7f3cb804",
       "version_major": 2,
       "version_minor": 0
      },
      "text/plain": [
       "Gathering CWE requests for issue 2069052613:   0%|          | 0/881 [00:00<?, ?it/s]"
      ]
     },
     "metadata": {},
     "output_type": "display_data"
    },
    {
     "data": {
      "application/vnd.jupyter.widget-view+json": {
       "model_id": "48671ff7ca534355ab24b0b823e8ae87",
       "version_major": 2,
       "version_minor": 0
      },
      "text/plain": [
       "Writing issue 2069052613 batch files:   0%|          | 0/25 [00:00<?, ?it/s]"
      ]
     },
     "metadata": {},
     "output_type": "display_data"
    },
    {
     "data": {
      "application/vnd.jupyter.widget-view+json": {
       "model_id": "fdc862d75cb04f539f9239b777d2c604",
       "version_major": 2,
       "version_minor": 0
      },
      "text/plain": [
       "Gathering CWE requests for issue 1912998606:   0%|          | 0/881 [00:00<?, ?it/s]"
      ]
     },
     "metadata": {},
     "output_type": "display_data"
    },
    {
     "data": {
      "application/vnd.jupyter.widget-view+json": {
       "model_id": "4c2e557df1c24ab29363d7c645a12cd4",
       "version_major": 2,
       "version_minor": 0
      },
      "text/plain": [
       "Writing issue 1912998606 batch files:   0%|          | 0/25 [00:00<?, ?it/s]"
      ]
     },
     "metadata": {},
     "output_type": "display_data"
    },
    {
     "data": {
      "application/vnd.jupyter.widget-view+json": {
       "model_id": "e06602bd526c4148ad02b89c0287f83d",
       "version_major": 2,
       "version_minor": 0
      },
      "text/plain": [
       "Gathering CWE requests for issue 2620428955:   0%|          | 0/881 [00:00<?, ?it/s]"
      ]
     },
     "metadata": {},
     "output_type": "display_data"
    },
    {
     "data": {
      "application/vnd.jupyter.widget-view+json": {
       "model_id": "b89ed3d62faf45c8b529a4cce93bcf5f",
       "version_major": 2,
       "version_minor": 0
      },
      "text/plain": [
       "Writing issue 2620428955 batch files:   0%|          | 0/25 [00:00<?, ?it/s]"
      ]
     },
     "metadata": {},
     "output_type": "display_data"
    },
    {
     "data": {
      "application/vnd.jupyter.widget-view+json": {
       "model_id": "0dbdb6ba67c74fc0ad5953ad663f4c88",
       "version_major": 2,
       "version_minor": 0
      },
      "text/plain": [
       "Gathering CWE requests for issue 1657441988:   0%|          | 0/881 [00:00<?, ?it/s]"
      ]
     },
     "metadata": {},
     "output_type": "display_data"
    },
    {
     "data": {
      "application/vnd.jupyter.widget-view+json": {
       "model_id": "85799ae2fdf440679acbe8b84485163c",
       "version_major": 2,
       "version_minor": 0
      },
      "text/plain": [
       "Writing issue 1657441988 batch files:   0%|          | 0/25 [00:00<?, ?it/s]"
      ]
     },
     "metadata": {},
     "output_type": "display_data"
    },
    {
     "data": {
      "application/vnd.jupyter.widget-view+json": {
       "model_id": "2172b266a1ac4ebeb4745b70fac00ff9",
       "version_major": 2,
       "version_minor": 0
      },
      "text/plain": [
       "Gathering CWE requests for issue 1093047468:   0%|          | 0/881 [00:00<?, ?it/s]"
      ]
     },
     "metadata": {},
     "output_type": "display_data"
    },
    {
     "data": {
      "application/vnd.jupyter.widget-view+json": {
       "model_id": "60828cf8d5554cc39ca8a34efea74f6b",
       "version_major": 2,
       "version_minor": 0
      },
      "text/plain": [
       "Writing issue 1093047468 batch files:   0%|          | 0/25 [00:00<?, ?it/s]"
      ]
     },
     "metadata": {},
     "output_type": "display_data"
    },
    {
     "data": {
      "application/vnd.jupyter.widget-view+json": {
       "model_id": "23ed4f02ae944743bf14292c21629a50",
       "version_major": 2,
       "version_minor": 0
      },
      "text/plain": [
       "Gathering CWE requests for issue 1079252004:   0%|          | 0/881 [00:00<?, ?it/s]"
      ]
     },
     "metadata": {},
     "output_type": "display_data"
    },
    {
     "data": {
      "application/vnd.jupyter.widget-view+json": {
       "model_id": "bf3aff19074d406bb30a9335dc4ac615",
       "version_major": 2,
       "version_minor": 0
      },
      "text/plain": [
       "Writing issue 1079252004 batch files:   0%|          | 0/25 [00:00<?, ?it/s]"
      ]
     },
     "metadata": {},
     "output_type": "display_data"
    },
    {
     "data": {
      "application/vnd.jupyter.widget-view+json": {
       "model_id": "ad4a562af05a44f5930451e5af3df64f",
       "version_major": 2,
       "version_minor": 0
      },
      "text/plain": [
       "Gathering CWE requests for issue 2403699035:   0%|          | 0/881 [00:00<?, ?it/s]"
      ]
     },
     "metadata": {},
     "output_type": "display_data"
    },
    {
     "data": {
      "application/vnd.jupyter.widget-view+json": {
       "model_id": "5cc607463435425f8f2473a76e11a099",
       "version_major": 2,
       "version_minor": 0
      },
      "text/plain": [
       "Writing issue 2403699035 batch files:   0%|          | 0/25 [00:00<?, ?it/s]"
      ]
     },
     "metadata": {},
     "output_type": "display_data"
    },
    {
     "data": {
      "application/vnd.jupyter.widget-view+json": {
       "model_id": "5f0ec59d86964eeebe2fe66a11b62183",
       "version_major": 2,
       "version_minor": 0
      },
      "text/plain": [
       "Gathering CWE requests for issue 828599474:   0%|          | 0/881 [00:00<?, ?it/s]"
      ]
     },
     "metadata": {},
     "output_type": "display_data"
    },
    {
     "data": {
      "application/vnd.jupyter.widget-view+json": {
       "model_id": "7032755adeb042008bce90e576a5a18f",
       "version_major": 2,
       "version_minor": 0
      },
      "text/plain": [
       "Writing issue 828599474 batch files:   0%|          | 0/25 [00:00<?, ?it/s]"
      ]
     },
     "metadata": {},
     "output_type": "display_data"
    },
    {
     "data": {
      "application/vnd.jupyter.widget-view+json": {
       "model_id": "6ddcca88fb274e89b90375fe14dc6eb9",
       "version_major": 2,
       "version_minor": 0
      },
      "text/plain": [
       "Gathering CWE requests for issue 1324198698:   0%|          | 0/881 [00:00<?, ?it/s]"
      ]
     },
     "metadata": {},
     "output_type": "display_data"
    },
    {
     "data": {
      "application/vnd.jupyter.widget-view+json": {
       "model_id": "25685859005447a494964181117dda80",
       "version_major": 2,
       "version_minor": 0
      },
      "text/plain": [
       "Writing issue 1324198698 batch files:   0%|          | 0/25 [00:00<?, ?it/s]"
      ]
     },
     "metadata": {},
     "output_type": "display_data"
    },
    {
     "data": {
      "application/vnd.jupyter.widget-view+json": {
       "model_id": "0cd07ac4dfdb4b9cb3da262728155ccf",
       "version_major": 2,
       "version_minor": 0
      },
      "text/plain": [
       "Gathering CWE requests for issue 1088187746:   0%|          | 0/881 [00:00<?, ?it/s]"
      ]
     },
     "metadata": {},
     "output_type": "display_data"
    },
    {
     "data": {
      "application/vnd.jupyter.widget-view+json": {
       "model_id": "ac0410b6c02348cfaded45c445deaa83",
       "version_major": 2,
       "version_minor": 0
      },
      "text/plain": [
       "Writing issue 1088187746 batch files:   0%|          | 0/25 [00:00<?, ?it/s]"
      ]
     },
     "metadata": {},
     "output_type": "display_data"
    },
    {
     "data": {
      "application/vnd.jupyter.widget-view+json": {
       "model_id": "b4eb3d3ba3184ca5bca207d0a8978715",
       "version_major": 2,
       "version_minor": 0
      },
      "text/plain": [
       "Gathering CWE requests for issue 2830975836:   0%|          | 0/881 [00:00<?, ?it/s]"
      ]
     },
     "metadata": {},
     "output_type": "display_data"
    },
    {
     "data": {
      "application/vnd.jupyter.widget-view+json": {
       "model_id": "20e85dadd07d484d86a7955067d33e63",
       "version_major": 2,
       "version_minor": 0
      },
      "text/plain": [
       "Writing issue 2830975836 batch files:   0%|          | 0/25 [00:00<?, ?it/s]"
      ]
     },
     "metadata": {},
     "output_type": "display_data"
    },
    {
     "data": {
      "application/vnd.jupyter.widget-view+json": {
       "model_id": "636ce090acd04f00a5956b766a0d99af",
       "version_major": 2,
       "version_minor": 0
      },
      "text/plain": [
       "Gathering CWE requests for issue 1748045601:   0%|          | 0/881 [00:00<?, ?it/s]"
      ]
     },
     "metadata": {},
     "output_type": "display_data"
    },
    {
     "data": {
      "application/vnd.jupyter.widget-view+json": {
       "model_id": "92e35701e6e94c4cb444e3bc379f0e2d",
       "version_major": 2,
       "version_minor": 0
      },
      "text/plain": [
       "Writing issue 1748045601 batch files:   0%|          | 0/25 [00:00<?, ?it/s]"
      ]
     },
     "metadata": {},
     "output_type": "display_data"
    },
    {
     "data": {
      "application/vnd.jupyter.widget-view+json": {
       "model_id": "082fa228404d42aa912dbdc9240b0426",
       "version_major": 2,
       "version_minor": 0
      },
      "text/plain": [
       "Gathering CWE requests for issue 1092526001:   0%|          | 0/881 [00:00<?, ?it/s]"
      ]
     },
     "metadata": {},
     "output_type": "display_data"
    },
    {
     "data": {
      "application/vnd.jupyter.widget-view+json": {
       "model_id": "bb37e3652ca649e2b28cdff10b63fa8b",
       "version_major": 2,
       "version_minor": 0
      },
      "text/plain": [
       "Writing issue 1092526001 batch files:   0%|          | 0/25 [00:00<?, ?it/s]"
      ]
     },
     "metadata": {},
     "output_type": "display_data"
    },
    {
     "data": {
      "application/vnd.jupyter.widget-view+json": {
       "model_id": "e48eed22e0474d36909eec3cb22c4165",
       "version_major": 2,
       "version_minor": 0
      },
      "text/plain": [
       "Gathering CWE requests for issue 1636690969:   0%|          | 0/881 [00:00<?, ?it/s]"
      ]
     },
     "metadata": {},
     "output_type": "display_data"
    },
    {
     "data": {
      "application/vnd.jupyter.widget-view+json": {
       "model_id": "9d74534cafca402fa78889769215047a",
       "version_major": 2,
       "version_minor": 0
      },
      "text/plain": [
       "Writing issue 1636690969 batch files:   0%|          | 0/25 [00:00<?, ?it/s]"
      ]
     },
     "metadata": {},
     "output_type": "display_data"
    },
    {
     "data": {
      "application/vnd.jupyter.widget-view+json": {
       "model_id": "bec7fc3d79df44be8754f7b52d76d1f5",
       "version_major": 2,
       "version_minor": 0
      },
      "text/plain": [
       "Gathering CWE requests for issue 2359120145:   0%|          | 0/881 [00:00<?, ?it/s]"
      ]
     },
     "metadata": {},
     "output_type": "display_data"
    },
    {
     "data": {
      "application/vnd.jupyter.widget-view+json": {
       "model_id": "d01b2de6f3154c0083a005bbfeb54568",
       "version_major": 2,
       "version_minor": 0
      },
      "text/plain": [
       "Writing issue 2359120145 batch files:   0%|          | 0/25 [00:00<?, ?it/s]"
      ]
     },
     "metadata": {},
     "output_type": "display_data"
    },
    {
     "data": {
      "application/vnd.jupyter.widget-view+json": {
       "model_id": "32c3b7633f354fa3beeba27cd60a7326",
       "version_major": 2,
       "version_minor": 0
      },
      "text/plain": [
       "Gathering CWE requests for issue 2278345706:   0%|          | 0/881 [00:00<?, ?it/s]"
      ]
     },
     "metadata": {},
     "output_type": "display_data"
    },
    {
     "data": {
      "application/vnd.jupyter.widget-view+json": {
       "model_id": "7947bfb4a0074c4094b6d8e7b91bc95a",
       "version_major": 2,
       "version_minor": 0
      },
      "text/plain": [
       "Writing issue 2278345706 batch files:   0%|          | 0/25 [00:00<?, ?it/s]"
      ]
     },
     "metadata": {},
     "output_type": "display_data"
    },
    {
     "data": {
      "application/vnd.jupyter.widget-view+json": {
       "model_id": "723e5b1f5a98478f829506a5afec37ef",
       "version_major": 2,
       "version_minor": 0
      },
      "text/plain": [
       "Gathering CWE requests for issue 423586613:   0%|          | 0/881 [00:00<?, ?it/s]"
      ]
     },
     "metadata": {},
     "output_type": "display_data"
    },
    {
     "data": {
      "application/vnd.jupyter.widget-view+json": {
       "model_id": "55b1d114fcf84a2ab6638cb2d23233a1",
       "version_major": 2,
       "version_minor": 0
      },
      "text/plain": [
       "Writing issue 423586613 batch files:   0%|          | 0/25 [00:00<?, ?it/s]"
      ]
     },
     "metadata": {},
     "output_type": "display_data"
    },
    {
     "data": {
      "application/vnd.jupyter.widget-view+json": {
       "model_id": "d83a570b414b426998c617df20fb1eb4",
       "version_major": 2,
       "version_minor": 0
      },
      "text/plain": [
       "Gathering CWE requests for issue 1956040458:   0%|          | 0/881 [00:00<?, ?it/s]"
      ]
     },
     "metadata": {},
     "output_type": "display_data"
    },
    {
     "data": {
      "application/vnd.jupyter.widget-view+json": {
       "model_id": "6a272631a76d49a2b3ccc8c31d0abe6f",
       "version_major": 2,
       "version_minor": 0
      },
      "text/plain": [
       "Writing issue 1956040458 batch files:   0%|          | 0/25 [00:00<?, ?it/s]"
      ]
     },
     "metadata": {},
     "output_type": "display_data"
    },
    {
     "data": {
      "application/vnd.jupyter.widget-view+json": {
       "model_id": "cc9b8d76600740e69ea9ea861df8ca9e",
       "version_major": 2,
       "version_minor": 0
      },
      "text/plain": [
       "Gathering CWE requests for issue 1076993672:   0%|          | 0/881 [00:00<?, ?it/s]"
      ]
     },
     "metadata": {},
     "output_type": "display_data"
    },
    {
     "data": {
      "application/vnd.jupyter.widget-view+json": {
       "model_id": "d497f40947b3427d99c527ebb96ba380",
       "version_major": 2,
       "version_minor": 0
      },
      "text/plain": [
       "Writing issue 1076993672 batch files:   0%|          | 0/25 [00:00<?, ?it/s]"
      ]
     },
     "metadata": {},
     "output_type": "display_data"
    },
    {
     "data": {
      "application/vnd.jupyter.widget-view+json": {
       "model_id": "1a06038efc96416e92d78e3f1e36bb22",
       "version_major": 2,
       "version_minor": 0
      },
      "text/plain": [
       "Gathering CWE requests for issue 1390906871:   0%|          | 0/881 [00:00<?, ?it/s]"
      ]
     },
     "metadata": {},
     "output_type": "display_data"
    },
    {
     "data": {
      "application/vnd.jupyter.widget-view+json": {
       "model_id": "c8cf82ea857c4ac0ae9d305e22d3df1e",
       "version_major": 2,
       "version_minor": 0
      },
      "text/plain": [
       "Writing issue 1390906871 batch files:   0%|          | 0/25 [00:00<?, ?it/s]"
      ]
     },
     "metadata": {},
     "output_type": "display_data"
    },
    {
     "data": {
      "application/vnd.jupyter.widget-view+json": {
       "model_id": "21cd30ba71534d8a9fd7a0a09e15ab7e",
       "version_major": 2,
       "version_minor": 0
      },
      "text/plain": [
       "Gathering CWE requests for issue 1402687023:   0%|          | 0/881 [00:00<?, ?it/s]"
      ]
     },
     "metadata": {},
     "output_type": "display_data"
    },
    {
     "data": {
      "application/vnd.jupyter.widget-view+json": {
       "model_id": "6d6df24404134d1f871f703cd1ddee59",
       "version_major": 2,
       "version_minor": 0
      },
      "text/plain": [
       "Writing issue 1402687023 batch files:   0%|          | 0/25 [00:00<?, ?it/s]"
      ]
     },
     "metadata": {},
     "output_type": "display_data"
    },
    {
     "data": {
      "application/vnd.jupyter.widget-view+json": {
       "model_id": "4144f4cd952a42ada8b2f3cd31327f65",
       "version_major": 2,
       "version_minor": 0
      },
      "text/plain": [
       "Gathering CWE requests for issue 1183848264:   0%|          | 0/881 [00:00<?, ?it/s]"
      ]
     },
     "metadata": {},
     "output_type": "display_data"
    },
    {
     "data": {
      "application/vnd.jupyter.widget-view+json": {
       "model_id": "d07ced0c092c439e9aace1c187cf9c46",
       "version_major": 2,
       "version_minor": 0
      },
      "text/plain": [
       "Writing issue 1183848264 batch files:   0%|          | 0/25 [00:00<?, ?it/s]"
      ]
     },
     "metadata": {},
     "output_type": "display_data"
    },
    {
     "data": {
      "application/vnd.jupyter.widget-view+json": {
       "model_id": "cff6121e55ad414a828139c6b4eb20ff",
       "version_major": 2,
       "version_minor": 0
      },
      "text/plain": [
       "Gathering CWE requests for issue 1665138910:   0%|          | 0/881 [00:00<?, ?it/s]"
      ]
     },
     "metadata": {},
     "output_type": "display_data"
    },
    {
     "data": {
      "application/vnd.jupyter.widget-view+json": {
       "model_id": "d11a0fc2bb1a40c086f24bfcef243115",
       "version_major": 2,
       "version_minor": 0
      },
      "text/plain": [
       "Writing issue 1665138910 batch files:   0%|          | 0/25 [00:00<?, ?it/s]"
      ]
     },
     "metadata": {},
     "output_type": "display_data"
    },
    {
     "data": {
      "application/vnd.jupyter.widget-view+json": {
       "model_id": "b32d1a56c8d14cf586fe85cf305f60f9",
       "version_major": 2,
       "version_minor": 0
      },
      "text/plain": [
       "Gathering CWE requests for issue 2185159666:   0%|          | 0/881 [00:00<?, ?it/s]"
      ]
     },
     "metadata": {},
     "output_type": "display_data"
    },
    {
     "data": {
      "application/vnd.jupyter.widget-view+json": {
       "model_id": "d6a61bae52864333ac8ce1360075eceb",
       "version_major": 2,
       "version_minor": 0
      },
      "text/plain": [
       "Writing issue 2185159666 batch files:   0%|          | 0/25 [00:00<?, ?it/s]"
      ]
     },
     "metadata": {},
     "output_type": "display_data"
    },
    {
     "data": {
      "application/vnd.jupyter.widget-view+json": {
       "model_id": "bcbe61f8ecf14e9ea630f3f1475b0c72",
       "version_major": 2,
       "version_minor": 0
      },
      "text/plain": [
       "Gathering CWE requests for issue 1120360448:   0%|          | 0/881 [00:00<?, ?it/s]"
      ]
     },
     "metadata": {},
     "output_type": "display_data"
    },
    {
     "data": {
      "application/vnd.jupyter.widget-view+json": {
       "model_id": "57d19edba9064e53a5a54eb5c9c9e055",
       "version_major": 2,
       "version_minor": 0
      },
      "text/plain": [
       "Writing issue 1120360448 batch files:   0%|          | 0/25 [00:00<?, ?it/s]"
      ]
     },
     "metadata": {},
     "output_type": "display_data"
    },
    {
     "data": {
      "application/vnd.jupyter.widget-view+json": {
       "model_id": "479db08642d7463e9d81ba8078b4ec5c",
       "version_major": 2,
       "version_minor": 0
      },
      "text/plain": [
       "Gathering CWE requests for issue 1899819562:   0%|          | 0/881 [00:00<?, ?it/s]"
      ]
     },
     "metadata": {},
     "output_type": "display_data"
    },
    {
     "data": {
      "application/vnd.jupyter.widget-view+json": {
       "model_id": "a3dbb3983fd640caa3944ad8b7cdf269",
       "version_major": 2,
       "version_minor": 0
      },
      "text/plain": [
       "Writing issue 1899819562 batch files:   0%|          | 0/25 [00:00<?, ?it/s]"
      ]
     },
     "metadata": {},
     "output_type": "display_data"
    },
    {
     "data": {
      "application/vnd.jupyter.widget-view+json": {
       "model_id": "d60a235352fc447082e1af9fc300693b",
       "version_major": 2,
       "version_minor": 0
      },
      "text/plain": [
       "Gathering CWE requests for issue 1383377290:   0%|          | 0/881 [00:00<?, ?it/s]"
      ]
     },
     "metadata": {},
     "output_type": "display_data"
    },
    {
     "data": {
      "application/vnd.jupyter.widget-view+json": {
       "model_id": "b2b440b1a0ba43128b81900992694684",
       "version_major": 2,
       "version_minor": 0
      },
      "text/plain": [
       "Writing issue 1383377290 batch files:   0%|          | 0/25 [00:00<?, ?it/s]"
      ]
     },
     "metadata": {},
     "output_type": "display_data"
    },
    {
     "data": {
      "application/vnd.jupyter.widget-view+json": {
       "model_id": "561abdb95e39447888207dc550cd29eb",
       "version_major": 2,
       "version_minor": 0
      },
      "text/plain": [
       "Gathering CWE requests for issue 853144448:   0%|          | 0/881 [00:00<?, ?it/s]"
      ]
     },
     "metadata": {},
     "output_type": "display_data"
    },
    {
     "data": {
      "application/vnd.jupyter.widget-view+json": {
       "model_id": "26f95803c41647e18d79a0418317c1ef",
       "version_major": 2,
       "version_minor": 0
      },
      "text/plain": [
       "Writing issue 853144448 batch files:   0%|          | 0/25 [00:00<?, ?it/s]"
      ]
     },
     "metadata": {},
     "output_type": "display_data"
    },
    {
     "data": {
      "application/vnd.jupyter.widget-view+json": {
       "model_id": "bbdc763468b9443b8314e5a949610029",
       "version_major": 2,
       "version_minor": 0
      },
      "text/plain": [
       "Gathering CWE requests for issue 1815103100:   0%|          | 0/881 [00:00<?, ?it/s]"
      ]
     },
     "metadata": {},
     "output_type": "display_data"
    },
    {
     "data": {
      "application/vnd.jupyter.widget-view+json": {
       "model_id": "9265dd09bbab4a3cb8afde7fb19e1af2",
       "version_major": 2,
       "version_minor": 0
      },
      "text/plain": [
       "Writing issue 1815103100 batch files:   0%|          | 0/25 [00:00<?, ?it/s]"
      ]
     },
     "metadata": {},
     "output_type": "display_data"
    },
    {
     "data": {
      "application/vnd.jupyter.widget-view+json": {
       "model_id": "4a6682c22d61455b99f7bcc4866e4445",
       "version_major": 2,
       "version_minor": 0
      },
      "text/plain": [
       "Gathering CWE requests for issue 1007193774:   0%|          | 0/881 [00:00<?, ?it/s]"
      ]
     },
     "metadata": {},
     "output_type": "display_data"
    },
    {
     "data": {
      "application/vnd.jupyter.widget-view+json": {
       "model_id": "79b8341602d0452c823e26a760acfc39",
       "version_major": 2,
       "version_minor": 0
      },
      "text/plain": [
       "Writing issue 1007193774 batch files:   0%|          | 0/25 [00:00<?, ?it/s]"
      ]
     },
     "metadata": {},
     "output_type": "display_data"
    },
    {
     "data": {
      "application/vnd.jupyter.widget-view+json": {
       "model_id": "48927dd93636468a8f7d3f81f186677f",
       "version_major": 2,
       "version_minor": 0
      },
      "text/plain": [
       "Gathering CWE requests for issue 2361143630:   0%|          | 0/881 [00:00<?, ?it/s]"
      ]
     },
     "metadata": {},
     "output_type": "display_data"
    },
    {
     "data": {
      "application/vnd.jupyter.widget-view+json": {
       "model_id": "4997e413d7cd4c2ebdec1bb72b8586bb",
       "version_major": 2,
       "version_minor": 0
      },
      "text/plain": [
       "Writing issue 2361143630 batch files:   0%|          | 0/25 [00:00<?, ?it/s]"
      ]
     },
     "metadata": {},
     "output_type": "display_data"
    },
    {
     "data": {
      "application/vnd.jupyter.widget-view+json": {
       "model_id": "39a677a3be3b4c3081d6a3862113339f",
       "version_major": 2,
       "version_minor": 0
      },
      "text/plain": [
       "Gathering CWE requests for issue 880298140:   0%|          | 0/881 [00:00<?, ?it/s]"
      ]
     },
     "metadata": {},
     "output_type": "display_data"
    },
    {
     "data": {
      "application/vnd.jupyter.widget-view+json": {
       "model_id": "2515a2430e834f8c99998a60fda6110e",
       "version_major": 2,
       "version_minor": 0
      },
      "text/plain": [
       "Writing issue 880298140 batch files:   0%|          | 0/25 [00:00<?, ?it/s]"
      ]
     },
     "metadata": {},
     "output_type": "display_data"
    },
    {
     "data": {
      "application/vnd.jupyter.widget-view+json": {
       "model_id": "3aa284a4da9c41a08fa0a213d1d8eb37",
       "version_major": 2,
       "version_minor": 0
      },
      "text/plain": [
       "Gathering CWE requests for issue 1636691842:   0%|          | 0/881 [00:00<?, ?it/s]"
      ]
     },
     "metadata": {},
     "output_type": "display_data"
    },
    {
     "data": {
      "application/vnd.jupyter.widget-view+json": {
       "model_id": "369ab5192711456f914cf96cfaa6a517",
       "version_major": 2,
       "version_minor": 0
      },
      "text/plain": [
       "Writing issue 1636691842 batch files:   0%|          | 0/25 [00:00<?, ?it/s]"
      ]
     },
     "metadata": {},
     "output_type": "display_data"
    },
    {
     "data": {
      "application/vnd.jupyter.widget-view+json": {
       "model_id": "fab13f8bd3414580a0e41f7947f1cdc6",
       "version_major": 2,
       "version_minor": 0
      },
      "text/plain": [
       "Gathering CWE requests for issue 1262613027:   0%|          | 0/881 [00:00<?, ?it/s]"
      ]
     },
     "metadata": {},
     "output_type": "display_data"
    },
    {
     "data": {
      "application/vnd.jupyter.widget-view+json": {
       "model_id": "8761664b258346319aac412ad0adb8cf",
       "version_major": 2,
       "version_minor": 0
      },
      "text/plain": [
       "Writing issue 1262613027 batch files:   0%|          | 0/25 [00:00<?, ?it/s]"
      ]
     },
     "metadata": {},
     "output_type": "display_data"
    },
    {
     "data": {
      "application/vnd.jupyter.widget-view+json": {
       "model_id": "7a2f7e45c94846c794762c0076d86e85",
       "version_major": 2,
       "version_minor": 0
      },
      "text/plain": [
       "Gathering CWE requests for issue 1590603154:   0%|          | 0/881 [00:00<?, ?it/s]"
      ]
     },
     "metadata": {},
     "output_type": "display_data"
    },
    {
     "data": {
      "application/vnd.jupyter.widget-view+json": {
       "model_id": "2a5be8b23cca4a9584d0f40a60865397",
       "version_major": 2,
       "version_minor": 0
      },
      "text/plain": [
       "Writing issue 1590603154 batch files:   0%|          | 0/25 [00:00<?, ?it/s]"
      ]
     },
     "metadata": {},
     "output_type": "display_data"
    },
    {
     "data": {
      "application/vnd.jupyter.widget-view+json": {
       "model_id": "e379541708044fc18a6eb75c1a1f3599",
       "version_major": 2,
       "version_minor": 0
      },
      "text/plain": [
       "Gathering CWE requests for issue 974361039:   0%|          | 0/881 [00:00<?, ?it/s]"
      ]
     },
     "metadata": {},
     "output_type": "display_data"
    },
    {
     "data": {
      "application/vnd.jupyter.widget-view+json": {
       "model_id": "09aea8cb503942fcad8bcae8eafec88e",
       "version_major": 2,
       "version_minor": 0
      },
      "text/plain": [
       "Writing issue 974361039 batch files:   0%|          | 0/25 [00:00<?, ?it/s]"
      ]
     },
     "metadata": {},
     "output_type": "display_data"
    },
    {
     "data": {
      "application/vnd.jupyter.widget-view+json": {
       "model_id": "f05937a664104418b6160b79485231c8",
       "version_major": 2,
       "version_minor": 0
      },
      "text/plain": [
       "Gathering CWE requests for issue 1402194113:   0%|          | 0/881 [00:00<?, ?it/s]"
      ]
     },
     "metadata": {},
     "output_type": "display_data"
    },
    {
     "data": {
      "application/vnd.jupyter.widget-view+json": {
       "model_id": "35a645902d884972890fa8803fe431fb",
       "version_major": 2,
       "version_minor": 0
      },
      "text/plain": [
       "Writing issue 1402194113 batch files:   0%|          | 0/25 [00:00<?, ?it/s]"
      ]
     },
     "metadata": {},
     "output_type": "display_data"
    },
    {
     "data": {
      "application/vnd.jupyter.widget-view+json": {
       "model_id": "fae73a5baf394a24b8a89069073ea80d",
       "version_major": 2,
       "version_minor": 0
      },
      "text/plain": [
       "Gathering CWE requests for issue 2539469917:   0%|          | 0/881 [00:00<?, ?it/s]"
      ]
     },
     "metadata": {},
     "output_type": "display_data"
    },
    {
     "data": {
      "application/vnd.jupyter.widget-view+json": {
       "model_id": "3514ff0de8704309bb549771c5a2e594",
       "version_major": 2,
       "version_minor": 0
      },
      "text/plain": [
       "Writing issue 2539469917 batch files:   0%|          | 0/25 [00:00<?, ?it/s]"
      ]
     },
     "metadata": {},
     "output_type": "display_data"
    },
    {
     "data": {
      "application/vnd.jupyter.widget-view+json": {
       "model_id": "ae788d333e3844288379255c2e3457a6",
       "version_major": 2,
       "version_minor": 0
      },
      "text/plain": [
       "Gathering CWE requests for issue 1377242122:   0%|          | 0/881 [00:00<?, ?it/s]"
      ]
     },
     "metadata": {},
     "output_type": "display_data"
    },
    {
     "data": {
      "application/vnd.jupyter.widget-view+json": {
       "model_id": "9ece5361ad93443bbf66d326665fa176",
       "version_major": 2,
       "version_minor": 0
      },
      "text/plain": [
       "Writing issue 1377242122 batch files:   0%|          | 0/25 [00:00<?, ?it/s]"
      ]
     },
     "metadata": {},
     "output_type": "display_data"
    },
    {
     "data": {
      "application/vnd.jupyter.widget-view+json": {
       "model_id": "61d682ae3aa24aa8853098fb9b30c9a4",
       "version_major": 2,
       "version_minor": 0
      },
      "text/plain": [
       "Gathering CWE requests for issue 895167796:   0%|          | 0/881 [00:00<?, ?it/s]"
      ]
     },
     "metadata": {},
     "output_type": "display_data"
    },
    {
     "data": {
      "application/vnd.jupyter.widget-view+json": {
       "model_id": "229e872bb0204add88b561c0863bf1b9",
       "version_major": 2,
       "version_minor": 0
      },
      "text/plain": [
       "Writing issue 895167796 batch files:   0%|          | 0/25 [00:00<?, ?it/s]"
      ]
     },
     "metadata": {},
     "output_type": "display_data"
    },
    {
     "data": {
      "application/vnd.jupyter.widget-view+json": {
       "model_id": "b860d539591b47fdb832c4b660bec972",
       "version_major": 2,
       "version_minor": 0
      },
      "text/plain": [
       "Gathering CWE requests for issue 457404400:   0%|          | 0/881 [00:00<?, ?it/s]"
      ]
     },
     "metadata": {},
     "output_type": "display_data"
    },
    {
     "data": {
      "application/vnd.jupyter.widget-view+json": {
       "model_id": "ee226b2f4b1b47cfbf51b62ad70faf4b",
       "version_major": 2,
       "version_minor": 0
      },
      "text/plain": [
       "Writing issue 457404400 batch files:   0%|          | 0/25 [00:00<?, ?it/s]"
      ]
     },
     "metadata": {},
     "output_type": "display_data"
    },
    {
     "data": {
      "application/vnd.jupyter.widget-view+json": {
       "model_id": "b727280af8f041b1820340fb2f2ecb57",
       "version_major": 2,
       "version_minor": 0
      },
      "text/plain": [
       "Gathering CWE requests for issue 2278270126:   0%|          | 0/881 [00:00<?, ?it/s]"
      ]
     },
     "metadata": {},
     "output_type": "display_data"
    },
    {
     "data": {
      "application/vnd.jupyter.widget-view+json": {
       "model_id": "fadb8508c6e84da78a816e0bf6f7a7a1",
       "version_major": 2,
       "version_minor": 0
      },
      "text/plain": [
       "Writing issue 2278270126 batch files:   0%|          | 0/25 [00:00<?, ?it/s]"
      ]
     },
     "metadata": {},
     "output_type": "display_data"
    },
    {
     "data": {
      "application/vnd.jupyter.widget-view+json": {
       "model_id": "13d73210da9542cfb8cd5248e670c6dc",
       "version_major": 2,
       "version_minor": 0
      },
      "text/plain": [
       "Gathering CWE requests for issue 2069053742:   0%|          | 0/881 [00:00<?, ?it/s]"
      ]
     },
     "metadata": {},
     "output_type": "display_data"
    },
    {
     "data": {
      "application/vnd.jupyter.widget-view+json": {
       "model_id": "3084a2f60e6d4d76b94f4e5301b90d6e",
       "version_major": 2,
       "version_minor": 0
      },
      "text/plain": [
       "Writing issue 2069053742 batch files:   0%|          | 0/25 [00:00<?, ?it/s]"
      ]
     },
     "metadata": {},
     "output_type": "display_data"
    },
    {
     "data": {
      "application/vnd.jupyter.widget-view+json": {
       "model_id": "2c459847b34c4844bdcf2267e1265dfa",
       "version_major": 2,
       "version_minor": 0
      },
      "text/plain": [
       "Gathering CWE requests for issue 1471101874:   0%|          | 0/881 [00:00<?, ?it/s]"
      ]
     },
     "metadata": {},
     "output_type": "display_data"
    },
    {
     "data": {
      "application/vnd.jupyter.widget-view+json": {
       "model_id": "5005e5f36bcd4d9ab27c1e42da5a3e56",
       "version_major": 2,
       "version_minor": 0
      },
      "text/plain": [
       "Writing issue 1471101874 batch files:   0%|          | 0/25 [00:00<?, ?it/s]"
      ]
     },
     "metadata": {},
     "output_type": "display_data"
    },
    {
     "data": {
      "application/vnd.jupyter.widget-view+json": {
       "model_id": "6fb62503abf74d83a1b570fe31847ac1",
       "version_major": 2,
       "version_minor": 0
      },
      "text/plain": [
       "Gathering CWE requests for issue 913233568:   0%|          | 0/881 [00:00<?, ?it/s]"
      ]
     },
     "metadata": {},
     "output_type": "display_data"
    },
    {
     "data": {
      "application/vnd.jupyter.widget-view+json": {
       "model_id": "af5fb911f36547429eb11e2676750b94",
       "version_major": 2,
       "version_minor": 0
      },
      "text/plain": [
       "Writing issue 913233568 batch files:   0%|          | 0/25 [00:00<?, ?it/s]"
      ]
     },
     "metadata": {},
     "output_type": "display_data"
    },
    {
     "data": {
      "application/vnd.jupyter.widget-view+json": {
       "model_id": "5f0873a0a18e4c1193b286ad4ed95985",
       "version_major": 2,
       "version_minor": 0
      },
      "text/plain": [
       "Gathering CWE requests for issue 1236183647:   0%|          | 0/881 [00:00<?, ?it/s]"
      ]
     },
     "metadata": {},
     "output_type": "display_data"
    },
    {
     "data": {
      "application/vnd.jupyter.widget-view+json": {
       "model_id": "c7ab7299958c41bdb2dc945eeefe62b5",
       "version_major": 2,
       "version_minor": 0
      },
      "text/plain": [
       "Writing issue 1236183647 batch files:   0%|          | 0/25 [00:00<?, ?it/s]"
      ]
     },
     "metadata": {},
     "output_type": "display_data"
    },
    {
     "data": {
      "application/vnd.jupyter.widget-view+json": {
       "model_id": "0e9918dde5d6494e9f0344f375691724",
       "version_major": 2,
       "version_minor": 0
      },
      "text/plain": [
       "Gathering CWE requests for issue 1091054033:   0%|          | 0/881 [00:00<?, ?it/s]"
      ]
     },
     "metadata": {},
     "output_type": "display_data"
    },
    {
     "data": {
      "application/vnd.jupyter.widget-view+json": {
       "model_id": "5295771b230940dc9fc01aa5efe0b604",
       "version_major": 2,
       "version_minor": 0
      },
      "text/plain": [
       "Writing issue 1091054033 batch files:   0%|          | 0/25 [00:00<?, ?it/s]"
      ]
     },
     "metadata": {},
     "output_type": "display_data"
    },
    {
     "data": {
      "application/vnd.jupyter.widget-view+json": {
       "model_id": "ff6dc5f6d3b34f62b51daca50aa31821",
       "version_major": 2,
       "version_minor": 0
      },
      "text/plain": [
       "Gathering CWE requests for issue 400178750:   0%|          | 0/881 [00:00<?, ?it/s]"
      ]
     },
     "metadata": {},
     "output_type": "display_data"
    },
    {
     "data": {
      "application/vnd.jupyter.widget-view+json": {
       "model_id": "16bab4d13e2c43608f218279b7ace8c3",
       "version_major": 2,
       "version_minor": 0
      },
      "text/plain": [
       "Writing issue 400178750 batch files:   0%|          | 0/25 [00:00<?, ?it/s]"
      ]
     },
     "metadata": {},
     "output_type": "display_data"
    },
    {
     "data": {
      "application/vnd.jupyter.widget-view+json": {
       "model_id": "ee418e42c9744944ac0bce73dfa55b8b",
       "version_major": 2,
       "version_minor": 0
      },
      "text/plain": [
       "Gathering CWE requests for issue 2278266290:   0%|          | 0/881 [00:00<?, ?it/s]"
      ]
     },
     "metadata": {},
     "output_type": "display_data"
    },
    {
     "data": {
      "application/vnd.jupyter.widget-view+json": {
       "model_id": "b6fc21f42a82463f98f8cd8c41d2bd66",
       "version_major": 2,
       "version_minor": 0
      },
      "text/plain": [
       "Writing issue 2278266290 batch files:   0%|          | 0/25 [00:00<?, ?it/s]"
      ]
     },
     "metadata": {},
     "output_type": "display_data"
    },
    {
     "data": {
      "application/vnd.jupyter.widget-view+json": {
       "model_id": "2a48945afbf8446a901415223971b376",
       "version_major": 2,
       "version_minor": 0
      },
      "text/plain": [
       "Gathering CWE requests for issue 464790539:   0%|          | 0/881 [00:00<?, ?it/s]"
      ]
     },
     "metadata": {},
     "output_type": "display_data"
    },
    {
     "data": {
      "application/vnd.jupyter.widget-view+json": {
       "model_id": "50c5f9f8c787409abbf6ceee71eb8d17",
       "version_major": 2,
       "version_minor": 0
      },
      "text/plain": [
       "Writing issue 464790539 batch files:   0%|          | 0/25 [00:00<?, ?it/s]"
      ]
     },
     "metadata": {},
     "output_type": "display_data"
    },
    {
     "data": {
      "application/vnd.jupyter.widget-view+json": {
       "model_id": "274d430970984c6989e76066ef530469",
       "version_major": 2,
       "version_minor": 0
      },
      "text/plain": [
       "Gathering CWE requests for issue 529151827:   0%|          | 0/881 [00:00<?, ?it/s]"
      ]
     },
     "metadata": {},
     "output_type": "display_data"
    },
    {
     "data": {
      "application/vnd.jupyter.widget-view+json": {
       "model_id": "267cd0abbd194e23bf980cfe7ad2bfe6",
       "version_major": 2,
       "version_minor": 0
      },
      "text/plain": [
       "Writing issue 529151827 batch files:   0%|          | 0/25 [00:00<?, ?it/s]"
      ]
     },
     "metadata": {},
     "output_type": "display_data"
    },
    {
     "data": {
      "application/vnd.jupyter.widget-view+json": {
       "model_id": "62fba4d37f5e4e65b5bd5cdcdcadc54d",
       "version_major": 2,
       "version_minor": 0
      },
      "text/plain": [
       "Gathering CWE requests for issue 1228842488:   0%|          | 0/881 [00:00<?, ?it/s]"
      ]
     },
     "metadata": {},
     "output_type": "display_data"
    },
    {
     "data": {
      "application/vnd.jupyter.widget-view+json": {
       "model_id": "5849eb91845d4cadbf8a4ff35259630f",
       "version_major": 2,
       "version_minor": 0
      },
      "text/plain": [
       "Writing issue 1228842488 batch files:   0%|          | 0/25 [00:00<?, ?it/s]"
      ]
     },
     "metadata": {},
     "output_type": "display_data"
    },
    {
     "data": {
      "application/vnd.jupyter.widget-view+json": {
       "model_id": "cc3eef284b7049b380571046d9212ead",
       "version_major": 2,
       "version_minor": 0
      },
      "text/plain": [
       "Gathering CWE requests for issue 2441411835:   0%|          | 0/881 [00:00<?, ?it/s]"
      ]
     },
     "metadata": {},
     "output_type": "display_data"
    },
    {
     "data": {
      "application/vnd.jupyter.widget-view+json": {
       "model_id": "af9adb3a8a864e9ba07182a7931b0085",
       "version_major": 2,
       "version_minor": 0
      },
      "text/plain": [
       "Writing issue 2441411835 batch files:   0%|          | 0/25 [00:00<?, ?it/s]"
      ]
     },
     "metadata": {},
     "output_type": "display_data"
    },
    {
     "data": {
      "application/vnd.jupyter.widget-view+json": {
       "model_id": "537575ae9787497084389f76b7ce0f45",
       "version_major": 2,
       "version_minor": 0
      },
      "text/plain": [
       "Gathering CWE requests for issue 1622665090:   0%|          | 0/881 [00:00<?, ?it/s]"
      ]
     },
     "metadata": {},
     "output_type": "display_data"
    },
    {
     "data": {
      "application/vnd.jupyter.widget-view+json": {
       "model_id": "ecdf63a70f79477ab98b31f3935b24c3",
       "version_major": 2,
       "version_minor": 0
      },
      "text/plain": [
       "Writing issue 1622665090 batch files:   0%|          | 0/25 [00:00<?, ?it/s]"
      ]
     },
     "metadata": {},
     "output_type": "display_data"
    },
    {
     "data": {
      "application/vnd.jupyter.widget-view+json": {
       "model_id": "d55fd2d838c44ebb8c9595b439e8fba7",
       "version_major": 2,
       "version_minor": 0
      },
      "text/plain": [
       "Gathering CWE requests for issue 1624874619:   0%|          | 0/881 [00:00<?, ?it/s]"
      ]
     },
     "metadata": {},
     "output_type": "display_data"
    },
    {
     "data": {
      "application/vnd.jupyter.widget-view+json": {
       "model_id": "4d6b2d9e62d64fe3ba1e4f4ac7fed0ea",
       "version_major": 2,
       "version_minor": 0
      },
      "text/plain": [
       "Writing issue 1624874619 batch files:   0%|          | 0/25 [00:00<?, ?it/s]"
      ]
     },
     "metadata": {},
     "output_type": "display_data"
    },
    {
     "data": {
      "application/vnd.jupyter.widget-view+json": {
       "model_id": "b0f94ea1cd8f47f58ce18c17681e7d0b",
       "version_major": 2,
       "version_minor": 0
      },
      "text/plain": [
       "Gathering CWE requests for issue 2834735837:   0%|          | 0/881 [00:00<?, ?it/s]"
      ]
     },
     "metadata": {},
     "output_type": "display_data"
    },
    {
     "data": {
      "application/vnd.jupyter.widget-view+json": {
       "model_id": "48cbee5f762142ada809e35ecb64128f",
       "version_major": 2,
       "version_minor": 0
      },
      "text/plain": [
       "Writing issue 2834735837 batch files:   0%|          | 0/25 [00:00<?, ?it/s]"
      ]
     },
     "metadata": {},
     "output_type": "display_data"
    },
    {
     "data": {
      "application/vnd.jupyter.widget-view+json": {
       "model_id": "ea1b59730f7b44a19e262e9a2e480b27",
       "version_major": 2,
       "version_minor": 0
      },
      "text/plain": [
       "Gathering CWE requests for issue 1275924048:   0%|          | 0/881 [00:00<?, ?it/s]"
      ]
     },
     "metadata": {},
     "output_type": "display_data"
    },
    {
     "data": {
      "application/vnd.jupyter.widget-view+json": {
       "model_id": "1359bfb576d7453082629e4656946300",
       "version_major": 2,
       "version_minor": 0
      },
      "text/plain": [
       "Writing issue 1275924048 batch files:   0%|          | 0/25 [00:00<?, ?it/s]"
      ]
     },
     "metadata": {},
     "output_type": "display_data"
    },
    {
     "data": {
      "application/vnd.jupyter.widget-view+json": {
       "model_id": "cbfaaf4de2964ef280197f0cb1234c8d",
       "version_major": 2,
       "version_minor": 0
      },
      "text/plain": [
       "Gathering CWE requests for issue 2679479616:   0%|          | 0/881 [00:00<?, ?it/s]"
      ]
     },
     "metadata": {},
     "output_type": "display_data"
    },
    {
     "data": {
      "application/vnd.jupyter.widget-view+json": {
       "model_id": "f7d2f80505b2476bb4419ead8fbbe1cf",
       "version_major": 2,
       "version_minor": 0
      },
      "text/plain": [
       "Writing issue 2679479616 batch files:   0%|          | 0/25 [00:00<?, ?it/s]"
      ]
     },
     "metadata": {},
     "output_type": "display_data"
    },
    {
     "data": {
      "application/vnd.jupyter.widget-view+json": {
       "model_id": "7dd9fceff35c4ab98ccf8f84ffabda47",
       "version_major": 2,
       "version_minor": 0
      },
      "text/plain": [
       "Gathering CWE requests for issue 1126771996:   0%|          | 0/881 [00:00<?, ?it/s]"
      ]
     },
     "metadata": {},
     "output_type": "display_data"
    },
    {
     "data": {
      "application/vnd.jupyter.widget-view+json": {
       "model_id": "5e7453865de941dbb0e3d31146a67d0d",
       "version_major": 2,
       "version_minor": 0
      },
      "text/plain": [
       "Writing issue 1126771996 batch files:   0%|          | 0/25 [00:00<?, ?it/s]"
      ]
     },
     "metadata": {},
     "output_type": "display_data"
    },
    {
     "data": {
      "application/vnd.jupyter.widget-view+json": {
       "model_id": "728f4c3ef04f48ebbbf681a1dca9b534",
       "version_major": 2,
       "version_minor": 0
      },
      "text/plain": [
       "Gathering CWE requests for issue 457598033:   0%|          | 0/881 [00:00<?, ?it/s]"
      ]
     },
     "metadata": {},
     "output_type": "display_data"
    },
    {
     "data": {
      "application/vnd.jupyter.widget-view+json": {
       "model_id": "b54a7ac596b44347bd171c672d77215e",
       "version_major": 2,
       "version_minor": 0
      },
      "text/plain": [
       "Writing issue 457598033 batch files:   0%|          | 0/25 [00:00<?, ?it/s]"
      ]
     },
     "metadata": {},
     "output_type": "display_data"
    },
    {
     "data": {
      "application/vnd.jupyter.widget-view+json": {
       "model_id": "4296a1085b92428d833e122de9479ef6",
       "version_major": 2,
       "version_minor": 0
      },
      "text/plain": [
       "Gathering CWE requests for issue 2232325548:   0%|          | 0/881 [00:00<?, ?it/s]"
      ]
     },
     "metadata": {},
     "output_type": "display_data"
    },
    {
     "data": {
      "application/vnd.jupyter.widget-view+json": {
       "model_id": "e6effe55c9394c238f00542187fd8473",
       "version_major": 2,
       "version_minor": 0
      },
      "text/plain": [
       "Writing issue 2232325548 batch files:   0%|          | 0/25 [00:00<?, ?it/s]"
      ]
     },
     "metadata": {},
     "output_type": "display_data"
    },
    {
     "data": {
      "application/vnd.jupyter.widget-view+json": {
       "model_id": "56e3db567f8046c29f0da2418b67ea23",
       "version_major": 2,
       "version_minor": 0
      },
      "text/plain": [
       "Gathering CWE requests for issue 1116217066:   0%|          | 0/881 [00:00<?, ?it/s]"
      ]
     },
     "metadata": {},
     "output_type": "display_data"
    },
    {
     "data": {
      "application/vnd.jupyter.widget-view+json": {
       "model_id": "00ca868aff7b44279141460ea669727a",
       "version_major": 2,
       "version_minor": 0
      },
      "text/plain": [
       "Writing issue 1116217066 batch files:   0%|          | 0/25 [00:00<?, ?it/s]"
      ]
     },
     "metadata": {},
     "output_type": "display_data"
    },
    {
     "data": {
      "application/vnd.jupyter.widget-view+json": {
       "model_id": "fd72ebc4e7944866b2c883bd3c840f29",
       "version_major": 2,
       "version_minor": 0
      },
      "text/plain": [
       "Gathering CWE requests for issue 1421795524:   0%|          | 0/881 [00:00<?, ?it/s]"
      ]
     },
     "metadata": {},
     "output_type": "display_data"
    },
    {
     "data": {
      "application/vnd.jupyter.widget-view+json": {
       "model_id": "ea6b85075b9b4bdca2861a807ffaa718",
       "version_major": 2,
       "version_minor": 0
      },
      "text/plain": [
       "Writing issue 1421795524 batch files:   0%|          | 0/25 [00:00<?, ?it/s]"
      ]
     },
     "metadata": {},
     "output_type": "display_data"
    },
    {
     "data": {
      "application/vnd.jupyter.widget-view+json": {
       "model_id": "eeafb5be46f94826a9f4118b0a2f1e11",
       "version_major": 2,
       "version_minor": 0
      },
      "text/plain": [
       "Gathering CWE requests for issue 1738671677:   0%|          | 0/881 [00:00<?, ?it/s]"
      ]
     },
     "metadata": {},
     "output_type": "display_data"
    },
    {
     "data": {
      "application/vnd.jupyter.widget-view+json": {
       "model_id": "9413daf1699f40b5ad7d2e0fdddcfc34",
       "version_major": 2,
       "version_minor": 0
      },
      "text/plain": [
       "Writing issue 1738671677 batch files:   0%|          | 0/25 [00:00<?, ?it/s]"
      ]
     },
     "metadata": {},
     "output_type": "display_data"
    },
    {
     "data": {
      "application/vnd.jupyter.widget-view+json": {
       "model_id": "30b8572c46d64a209eff1a348fac00c9",
       "version_major": 2,
       "version_minor": 0
      },
      "text/plain": [
       "Gathering CWE requests for issue 586943552:   0%|          | 0/881 [00:00<?, ?it/s]"
      ]
     },
     "metadata": {},
     "output_type": "display_data"
    },
    {
     "data": {
      "application/vnd.jupyter.widget-view+json": {
       "model_id": "5b37f15784d1417aab07e5e7600f8696",
       "version_major": 2,
       "version_minor": 0
      },
      "text/plain": [
       "Writing issue 586943552 batch files:   0%|          | 0/25 [00:00<?, ?it/s]"
      ]
     },
     "metadata": {},
     "output_type": "display_data"
    },
    {
     "data": {
      "application/vnd.jupyter.widget-view+json": {
       "model_id": "63c8029918d249d69d43dbc4d14d364b",
       "version_major": 2,
       "version_minor": 0
      },
      "text/plain": [
       "Gathering CWE requests for issue 1331477062:   0%|          | 0/881 [00:00<?, ?it/s]"
      ]
     },
     "metadata": {},
     "output_type": "display_data"
    },
    {
     "data": {
      "application/vnd.jupyter.widget-view+json": {
       "model_id": "9a4a5277c7af414785f5dc0dbdbf50ad",
       "version_major": 2,
       "version_minor": 0
      },
      "text/plain": [
       "Writing issue 1331477062 batch files:   0%|          | 0/25 [00:00<?, ?it/s]"
      ]
     },
     "metadata": {},
     "output_type": "display_data"
    },
    {
     "data": {
      "application/vnd.jupyter.widget-view+json": {
       "model_id": "13d23f3c4dd5497f93464b16a584e6ed",
       "version_major": 2,
       "version_minor": 0
      },
      "text/plain": [
       "Gathering CWE requests for issue 438012692:   0%|          | 0/881 [00:00<?, ?it/s]"
      ]
     },
     "metadata": {},
     "output_type": "display_data"
    },
    {
     "data": {
      "application/vnd.jupyter.widget-view+json": {
       "model_id": "e2f74503d1764871ad6a9e1210905a11",
       "version_major": 2,
       "version_minor": 0
      },
      "text/plain": [
       "Writing issue 438012692 batch files:   0%|          | 0/25 [00:00<?, ?it/s]"
      ]
     },
     "metadata": {},
     "output_type": "display_data"
    },
    {
     "data": {
      "application/vnd.jupyter.widget-view+json": {
       "model_id": "345b13484f9a40bf96b4c815890e95de",
       "version_major": 2,
       "version_minor": 0
      },
      "text/plain": [
       "Gathering CWE requests for issue 2673203031:   0%|          | 0/881 [00:00<?, ?it/s]"
      ]
     },
     "metadata": {},
     "output_type": "display_data"
    },
    {
     "data": {
      "application/vnd.jupyter.widget-view+json": {
       "model_id": "e572bb4292f740e3a00cbad102e1f7ca",
       "version_major": 2,
       "version_minor": 0
      },
      "text/plain": [
       "Writing issue 2673203031 batch files:   0%|          | 0/25 [00:00<?, ?it/s]"
      ]
     },
     "metadata": {},
     "output_type": "display_data"
    },
    {
     "data": {
      "application/vnd.jupyter.widget-view+json": {
       "model_id": "4a51e5f02c8146ff938d1f25bffc343d",
       "version_major": 2,
       "version_minor": 0
      },
      "text/plain": [
       "Gathering CWE requests for issue 2212821982:   0%|          | 0/881 [00:00<?, ?it/s]"
      ]
     },
     "metadata": {},
     "output_type": "display_data"
    },
    {
     "data": {
      "application/vnd.jupyter.widget-view+json": {
       "model_id": "cc65e1d82ce749c9a3c322a9603aaa07",
       "version_major": 2,
       "version_minor": 0
      },
      "text/plain": [
       "Writing issue 2212821982 batch files:   0%|          | 0/25 [00:00<?, ?it/s]"
      ]
     },
     "metadata": {},
     "output_type": "display_data"
    },
    {
     "data": {
      "application/vnd.jupyter.widget-view+json": {
       "model_id": "c0380515e8e44a0b9a24238e184f083d",
       "version_major": 2,
       "version_minor": 0
      },
      "text/plain": [
       "Gathering CWE requests for issue 2448066504:   0%|          | 0/881 [00:00<?, ?it/s]"
      ]
     },
     "metadata": {},
     "output_type": "display_data"
    },
    {
     "data": {
      "application/vnd.jupyter.widget-view+json": {
       "model_id": "fa6c50e0d9ff44f4b9483446551398a4",
       "version_major": 2,
       "version_minor": 0
      },
      "text/plain": [
       "Writing issue 2448066504 batch files:   0%|          | 0/25 [00:00<?, ?it/s]"
      ]
     },
     "metadata": {},
     "output_type": "display_data"
    },
    {
     "data": {
      "application/vnd.jupyter.widget-view+json": {
       "model_id": "a18d07e975664ec58d980b846bb01686",
       "version_major": 2,
       "version_minor": 0
      },
      "text/plain": [
       "Gathering CWE requests for issue 989561835:   0%|          | 0/881 [00:00<?, ?it/s]"
      ]
     },
     "metadata": {},
     "output_type": "display_data"
    },
    {
     "data": {
      "application/vnd.jupyter.widget-view+json": {
       "model_id": "4d10156fa2144508a1de6bf3b5ef09b3",
       "version_major": 2,
       "version_minor": 0
      },
      "text/plain": [
       "Writing issue 989561835 batch files:   0%|          | 0/25 [00:00<?, ?it/s]"
      ]
     },
     "metadata": {},
     "output_type": "display_data"
    },
    {
     "data": {
      "application/vnd.jupyter.widget-view+json": {
       "model_id": "cce674be29c24ef6bbff47ad80a4b0c5",
       "version_major": 2,
       "version_minor": 0
      },
      "text/plain": [
       "Gathering CWE requests for issue 1729493887:   0%|          | 0/881 [00:00<?, ?it/s]"
      ]
     },
     "metadata": {},
     "output_type": "display_data"
    },
    {
     "data": {
      "application/vnd.jupyter.widget-view+json": {
       "model_id": "bddb403c49a64ff28f632da673e570da",
       "version_major": 2,
       "version_minor": 0
      },
      "text/plain": [
       "Writing issue 1729493887 batch files:   0%|          | 0/25 [00:00<?, ?it/s]"
      ]
     },
     "metadata": {},
     "output_type": "display_data"
    },
    {
     "data": {
      "application/vnd.jupyter.widget-view+json": {
       "model_id": "efe6d6dfdd7f4a7f84091c03dd67d3b5",
       "version_major": 2,
       "version_minor": 0
      },
      "text/plain": [
       "Gathering CWE requests for issue 1446725478:   0%|          | 0/881 [00:00<?, ?it/s]"
      ]
     },
     "metadata": {},
     "output_type": "display_data"
    },
    {
     "data": {
      "application/vnd.jupyter.widget-view+json": {
       "model_id": "1f4874c03f074abba22fc1d441415d4b",
       "version_major": 2,
       "version_minor": 0
      },
      "text/plain": [
       "Writing issue 1446725478 batch files:   0%|          | 0/25 [00:00<?, ?it/s]"
      ]
     },
     "metadata": {},
     "output_type": "display_data"
    },
    {
     "data": {
      "application/vnd.jupyter.widget-view+json": {
       "model_id": "0419a66bffb2403badefb77490286521",
       "version_major": 2,
       "version_minor": 0
      },
      "text/plain": [
       "Gathering CWE requests for issue 2808249150:   0%|          | 0/881 [00:00<?, ?it/s]"
      ]
     },
     "metadata": {},
     "output_type": "display_data"
    },
    {
     "data": {
      "application/vnd.jupyter.widget-view+json": {
       "model_id": "ecde00f466f643acb0f95e6d9aa7786a",
       "version_major": 2,
       "version_minor": 0
      },
      "text/plain": [
       "Writing issue 2808249150 batch files:   0%|          | 0/25 [00:00<?, ?it/s]"
      ]
     },
     "metadata": {},
     "output_type": "display_data"
    },
    {
     "data": {
      "application/vnd.jupyter.widget-view+json": {
       "model_id": "1d4c495aa2094495a9677e1c017d2f8d",
       "version_major": 2,
       "version_minor": 0
      },
      "text/plain": [
       "Gathering CWE requests for issue 2839506809:   0%|          | 0/881 [00:00<?, ?it/s]"
      ]
     },
     "metadata": {},
     "output_type": "display_data"
    },
    {
     "data": {
      "application/vnd.jupyter.widget-view+json": {
       "model_id": "4a6672869d53467f81c071aa5a4c25da",
       "version_major": 2,
       "version_minor": 0
      },
      "text/plain": [
       "Writing issue 2839506809 batch files:   0%|          | 0/25 [00:00<?, ?it/s]"
      ]
     },
     "metadata": {},
     "output_type": "display_data"
    },
    {
     "data": {
      "application/vnd.jupyter.widget-view+json": {
       "model_id": "d6615619c03b4ec680509d139a2faa1d",
       "version_major": 2,
       "version_minor": 0
      },
      "text/plain": [
       "Gathering CWE requests for issue 1902565722:   0%|          | 0/881 [00:00<?, ?it/s]"
      ]
     },
     "metadata": {},
     "output_type": "display_data"
    },
    {
     "data": {
      "application/vnd.jupyter.widget-view+json": {
       "model_id": "756d010a69a94a3496f351d3d9b4113e",
       "version_major": 2,
       "version_minor": 0
      },
      "text/plain": [
       "Writing issue 1902565722 batch files:   0%|          | 0/25 [00:00<?, ?it/s]"
      ]
     },
     "metadata": {},
     "output_type": "display_data"
    },
    {
     "data": {
      "application/vnd.jupyter.widget-view+json": {
       "model_id": "bbbba5606e0f4056ab0bbd9da7b5e739",
       "version_major": 2,
       "version_minor": 0
      },
      "text/plain": [
       "Gathering CWE requests for issue 454462914:   0%|          | 0/881 [00:00<?, ?it/s]"
      ]
     },
     "metadata": {},
     "output_type": "display_data"
    },
    {
     "data": {
      "application/vnd.jupyter.widget-view+json": {
       "model_id": "ced377aea2fb4a39b7fe396f224cc100",
       "version_major": 2,
       "version_minor": 0
      },
      "text/plain": [
       "Writing issue 454462914 batch files:   0%|          | 0/25 [00:00<?, ?it/s]"
      ]
     },
     "metadata": {},
     "output_type": "display_data"
    },
    {
     "data": {
      "application/vnd.jupyter.widget-view+json": {
       "model_id": "64e8500156e8457087301f59a029003b",
       "version_major": 2,
       "version_minor": 0
      },
      "text/plain": [
       "Gathering CWE requests for issue 683904034:   0%|          | 0/881 [00:00<?, ?it/s]"
      ]
     },
     "metadata": {},
     "output_type": "display_data"
    },
    {
     "data": {
      "application/vnd.jupyter.widget-view+json": {
       "model_id": "34a857f97d6d4e5188aa35e914a896f8",
       "version_major": 2,
       "version_minor": 0
      },
      "text/plain": [
       "Writing issue 683904034 batch files:   0%|          | 0/25 [00:00<?, ?it/s]"
      ]
     },
     "metadata": {},
     "output_type": "display_data"
    },
    {
     "data": {
      "application/vnd.jupyter.widget-view+json": {
       "model_id": "95696f1f7b2743519607556a5ad0e919",
       "version_major": 2,
       "version_minor": 0
      },
      "text/plain": [
       "Gathering CWE requests for issue 1094139713:   0%|          | 0/881 [00:00<?, ?it/s]"
      ]
     },
     "metadata": {},
     "output_type": "display_data"
    },
    {
     "data": {
      "application/vnd.jupyter.widget-view+json": {
       "model_id": "e24fd4d7d9984263b24de256774e8b2e",
       "version_major": 2,
       "version_minor": 0
      },
      "text/plain": [
       "Writing issue 1094139713 batch files:   0%|          | 0/25 [00:00<?, ?it/s]"
      ]
     },
     "metadata": {},
     "output_type": "display_data"
    },
    {
     "data": {
      "application/vnd.jupyter.widget-view+json": {
       "model_id": "57fbfaf8f2124d439350e42106a1fe48",
       "version_major": 2,
       "version_minor": 0
      },
      "text/plain": [
       "Gathering CWE requests for issue 1680088441:   0%|          | 0/881 [00:00<?, ?it/s]"
      ]
     },
     "metadata": {},
     "output_type": "display_data"
    },
    {
     "data": {
      "application/vnd.jupyter.widget-view+json": {
       "model_id": "83a406112f6c45d09e79fffd75fbf39c",
       "version_major": 2,
       "version_minor": 0
      },
      "text/plain": [
       "Writing issue 1680088441 batch files:   0%|          | 0/25 [00:00<?, ?it/s]"
      ]
     },
     "metadata": {},
     "output_type": "display_data"
    },
    {
     "data": {
      "application/vnd.jupyter.widget-view+json": {
       "model_id": "f49a03e33d9a4160b12c9857530d8fc8",
       "version_major": 2,
       "version_minor": 0
      },
      "text/plain": [
       "Gathering CWE requests for issue 1488336138:   0%|          | 0/881 [00:00<?, ?it/s]"
      ]
     },
     "metadata": {},
     "output_type": "display_data"
    },
    {
     "data": {
      "application/vnd.jupyter.widget-view+json": {
       "model_id": "d3989bd56abb424db0d3d153d1a74d0f",
       "version_major": 2,
       "version_minor": 0
      },
      "text/plain": [
       "Writing issue 1488336138 batch files:   0%|          | 0/25 [00:00<?, ?it/s]"
      ]
     },
     "metadata": {},
     "output_type": "display_data"
    },
    {
     "data": {
      "application/vnd.jupyter.widget-view+json": {
       "model_id": "2d2a744307d44e9897b414e1cc644503",
       "version_major": 2,
       "version_minor": 0
      },
      "text/plain": [
       "Gathering CWE requests for issue 1772536756:   0%|          | 0/881 [00:00<?, ?it/s]"
      ]
     },
     "metadata": {},
     "output_type": "display_data"
    },
    {
     "data": {
      "application/vnd.jupyter.widget-view+json": {
       "model_id": "c72b5b08231146cfaec6ba23c63ae027",
       "version_major": 2,
       "version_minor": 0
      },
      "text/plain": [
       "Writing issue 1772536756 batch files:   0%|          | 0/25 [00:00<?, ?it/s]"
      ]
     },
     "metadata": {},
     "output_type": "display_data"
    },
    {
     "data": {
      "application/vnd.jupyter.widget-view+json": {
       "model_id": "4dffde5759b446a687d8caad60bfb9cd",
       "version_major": 2,
       "version_minor": 0
      },
      "text/plain": [
       "Gathering CWE requests for issue 1638084172:   0%|          | 0/881 [00:00<?, ?it/s]"
      ]
     },
     "metadata": {},
     "output_type": "display_data"
    },
    {
     "data": {
      "application/vnd.jupyter.widget-view+json": {
       "model_id": "b8f77a057aef45c98150aa0c86acd0c9",
       "version_major": 2,
       "version_minor": 0
      },
      "text/plain": [
       "Writing issue 1638084172 batch files:   0%|          | 0/25 [00:00<?, ?it/s]"
      ]
     },
     "metadata": {},
     "output_type": "display_data"
    },
    {
     "data": {
      "application/vnd.jupyter.widget-view+json": {
       "model_id": "b60ed8ec98b44dbdbd4a98d6fb89e633",
       "version_major": 2,
       "version_minor": 0
      },
      "text/plain": [
       "Gathering CWE requests for issue 977647480:   0%|          | 0/881 [00:00<?, ?it/s]"
      ]
     },
     "metadata": {},
     "output_type": "display_data"
    },
    {
     "data": {
      "application/vnd.jupyter.widget-view+json": {
       "model_id": "b5f4e03836dc4b24b771a1d7475e44b6",
       "version_major": 2,
       "version_minor": 0
      },
      "text/plain": [
       "Writing issue 977647480 batch files:   0%|          | 0/25 [00:00<?, ?it/s]"
      ]
     },
     "metadata": {},
     "output_type": "display_data"
    },
    {
     "data": {
      "application/vnd.jupyter.widget-view+json": {
       "model_id": "4b90fbfbce0f4c74bdc5feaa833c00b4",
       "version_major": 2,
       "version_minor": 0
      },
      "text/plain": [
       "Gathering CWE requests for issue 1347081081:   0%|          | 0/881 [00:00<?, ?it/s]"
      ]
     },
     "metadata": {},
     "output_type": "display_data"
    },
    {
     "data": {
      "application/vnd.jupyter.widget-view+json": {
       "model_id": "372e5a9325704d76a04589da210fcae7",
       "version_major": 2,
       "version_minor": 0
      },
      "text/plain": [
       "Writing issue 1347081081 batch files:   0%|          | 0/25 [00:00<?, ?it/s]"
      ]
     },
     "metadata": {},
     "output_type": "display_data"
    },
    {
     "data": {
      "application/vnd.jupyter.widget-view+json": {
       "model_id": "668d201831964f91843f3bdfbefe06bd",
       "version_major": 2,
       "version_minor": 0
      },
      "text/plain": [
       "Gathering CWE requests for issue 669581382:   0%|          | 0/881 [00:00<?, ?it/s]"
      ]
     },
     "metadata": {},
     "output_type": "display_data"
    },
    {
     "data": {
      "application/vnd.jupyter.widget-view+json": {
       "model_id": "e8e15a6790e24f5f8991e155f55911ee",
       "version_major": 2,
       "version_minor": 0
      },
      "text/plain": [
       "Writing issue 669581382 batch files:   0%|          | 0/25 [00:00<?, ?it/s]"
      ]
     },
     "metadata": {},
     "output_type": "display_data"
    },
    {
     "data": {
      "application/vnd.jupyter.widget-view+json": {
       "model_id": "96e17600d21e47e7ae0f68e8df902817",
       "version_major": 2,
       "version_minor": 0
      },
      "text/plain": [
       "Gathering CWE requests for issue 2192008538:   0%|          | 0/881 [00:00<?, ?it/s]"
      ]
     },
     "metadata": {},
     "output_type": "display_data"
    },
    {
     "data": {
      "application/vnd.jupyter.widget-view+json": {
       "model_id": "28aae604a86a4429ab20e0a900f865fe",
       "version_major": 2,
       "version_minor": 0
      },
      "text/plain": [
       "Writing issue 2192008538 batch files:   0%|          | 0/25 [00:00<?, ?it/s]"
      ]
     },
     "metadata": {},
     "output_type": "display_data"
    },
    {
     "data": {
      "application/vnd.jupyter.widget-view+json": {
       "model_id": "b52e2e1b2cfe47e9bd8d6c97218b1607",
       "version_major": 2,
       "version_minor": 0
      },
      "text/plain": [
       "Gathering CWE requests for issue 2441406116:   0%|          | 0/881 [00:00<?, ?it/s]"
      ]
     },
     "metadata": {},
     "output_type": "display_data"
    },
    {
     "data": {
      "application/vnd.jupyter.widget-view+json": {
       "model_id": "ad2ea951a6394a4fa1feff171b33198c",
       "version_major": 2,
       "version_minor": 0
      },
      "text/plain": [
       "Writing issue 2441406116 batch files:   0%|          | 0/25 [00:00<?, ?it/s]"
      ]
     },
     "metadata": {},
     "output_type": "display_data"
    },
    {
     "data": {
      "application/vnd.jupyter.widget-view+json": {
       "model_id": "f490b1e12dba4584abc7c120d26a9a93",
       "version_major": 2,
       "version_minor": 0
      },
      "text/plain": [
       "Gathering CWE requests for issue 1728631651:   0%|          | 0/881 [00:00<?, ?it/s]"
      ]
     },
     "metadata": {},
     "output_type": "display_data"
    },
    {
     "data": {
      "application/vnd.jupyter.widget-view+json": {
       "model_id": "8f9c89a51aad42dd8e17821a665751e6",
       "version_major": 2,
       "version_minor": 0
      },
      "text/plain": [
       "Writing issue 1728631651 batch files:   0%|          | 0/25 [00:00<?, ?it/s]"
      ]
     },
     "metadata": {},
     "output_type": "display_data"
    },
    {
     "data": {
      "application/vnd.jupyter.widget-view+json": {
       "model_id": "ce33dfb104054a0fbcc3e66af151481d",
       "version_major": 2,
       "version_minor": 0
      },
      "text/plain": [
       "Gathering CWE requests for issue 901835279:   0%|          | 0/881 [00:00<?, ?it/s]"
      ]
     },
     "metadata": {},
     "output_type": "display_data"
    },
    {
     "data": {
      "application/vnd.jupyter.widget-view+json": {
       "model_id": "c083c9ee408f40368bd021f195fbaa78",
       "version_major": 2,
       "version_minor": 0
      },
      "text/plain": [
       "Writing issue 901835279 batch files:   0%|          | 0/25 [00:00<?, ?it/s]"
      ]
     },
     "metadata": {},
     "output_type": "display_data"
    },
    {
     "data": {
      "application/vnd.jupyter.widget-view+json": {
       "model_id": "fa0d5e4084d54bc3b7803f1a6207358d",
       "version_major": 2,
       "version_minor": 0
      },
      "text/plain": [
       "Gathering CWE requests for issue 1087071987:   0%|          | 0/881 [00:00<?, ?it/s]"
      ]
     },
     "metadata": {},
     "output_type": "display_data"
    },
    {
     "data": {
      "application/vnd.jupyter.widget-view+json": {
       "model_id": "f1dbed4c38e0419cafa3d8d7de54a4b1",
       "version_major": 2,
       "version_minor": 0
      },
      "text/plain": [
       "Writing issue 1087071987 batch files:   0%|          | 0/25 [00:00<?, ?it/s]"
      ]
     },
     "metadata": {},
     "output_type": "display_data"
    },
    {
     "data": {
      "application/vnd.jupyter.widget-view+json": {
       "model_id": "639002df876549cdbb5be859b2ce53d7",
       "version_major": 2,
       "version_minor": 0
      },
      "text/plain": [
       "Gathering CWE requests for issue 1167821884:   0%|          | 0/881 [00:00<?, ?it/s]"
      ]
     },
     "metadata": {},
     "output_type": "display_data"
    },
    {
     "data": {
      "application/vnd.jupyter.widget-view+json": {
       "model_id": "7611809fdc4449d886289f07c8ecd57a",
       "version_major": 2,
       "version_minor": 0
      },
      "text/plain": [
       "Writing issue 1167821884 batch files:   0%|          | 0/25 [00:00<?, ?it/s]"
      ]
     },
     "metadata": {},
     "output_type": "display_data"
    },
    {
     "data": {
      "application/vnd.jupyter.widget-view+json": {
       "model_id": "d5b260e0d7484d069c918c2fe727e656",
       "version_major": 2,
       "version_minor": 0
      },
      "text/plain": [
       "Gathering CWE requests for issue 520395160:   0%|          | 0/881 [00:00<?, ?it/s]"
      ]
     },
     "metadata": {},
     "output_type": "display_data"
    },
    {
     "data": {
      "application/vnd.jupyter.widget-view+json": {
       "model_id": "a69ae621d4d74f4fbc1d12994d641ad4",
       "version_major": 2,
       "version_minor": 0
      },
      "text/plain": [
       "Writing issue 520395160 batch files:   0%|          | 0/25 [00:00<?, ?it/s]"
      ]
     },
     "metadata": {},
     "output_type": "display_data"
    },
    {
     "data": {
      "application/vnd.jupyter.widget-view+json": {
       "model_id": "b17abab8c96e48f5bab06f58f4a3f075",
       "version_major": 2,
       "version_minor": 0
      },
      "text/plain": [
       "Gathering CWE requests for issue 1383231551:   0%|          | 0/881 [00:00<?, ?it/s]"
      ]
     },
     "metadata": {},
     "output_type": "display_data"
    },
    {
     "data": {
      "application/vnd.jupyter.widget-view+json": {
       "model_id": "72db82548de140558905257af52b6115",
       "version_major": 2,
       "version_minor": 0
      },
      "text/plain": [
       "Writing issue 1383231551 batch files:   0%|          | 0/25 [00:00<?, ?it/s]"
      ]
     },
     "metadata": {},
     "output_type": "display_data"
    },
    {
     "data": {
      "application/vnd.jupyter.widget-view+json": {
       "model_id": "b279d81627774340972f271d34abab29",
       "version_major": 2,
       "version_minor": 0
      },
      "text/plain": [
       "Gathering CWE requests for issue 1581504292:   0%|          | 0/881 [00:00<?, ?it/s]"
      ]
     },
     "metadata": {},
     "output_type": "display_data"
    },
    {
     "data": {
      "application/vnd.jupyter.widget-view+json": {
       "model_id": "e37ae7618ffd401d9a4b4c9d3c7b80a2",
       "version_major": 2,
       "version_minor": 0
      },
      "text/plain": [
       "Writing issue 1581504292 batch files:   0%|          | 0/25 [00:00<?, ?it/s]"
      ]
     },
     "metadata": {},
     "output_type": "display_data"
    },
    {
     "data": {
      "application/vnd.jupyter.widget-view+json": {
       "model_id": "d71bdd4b4220470ebe80cb8d1d920ddb",
       "version_major": 2,
       "version_minor": 0
      },
      "text/plain": [
       "Gathering CWE requests for issue 2197040325:   0%|          | 0/881 [00:00<?, ?it/s]"
      ]
     },
     "metadata": {},
     "output_type": "display_data"
    },
    {
     "data": {
      "application/vnd.jupyter.widget-view+json": {
       "model_id": "e7461f68c0c1433685099f5e7e86fb1c",
       "version_major": 2,
       "version_minor": 0
      },
      "text/plain": [
       "Writing issue 2197040325 batch files:   0%|          | 0/25 [00:00<?, ?it/s]"
      ]
     },
     "metadata": {},
     "output_type": "display_data"
    },
    {
     "data": {
      "application/vnd.jupyter.widget-view+json": {
       "model_id": "729e0d0454104519a5d06ab1f4b35456",
       "version_major": 2,
       "version_minor": 0
      },
      "text/plain": [
       "Gathering CWE requests for issue 1361905751:   0%|          | 0/881 [00:00<?, ?it/s]"
      ]
     },
     "metadata": {},
     "output_type": "display_data"
    },
    {
     "data": {
      "application/vnd.jupyter.widget-view+json": {
       "model_id": "eed4b5aef1af434b9f5eaee9e711c9c5",
       "version_major": 2,
       "version_minor": 0
      },
      "text/plain": [
       "Writing issue 1361905751 batch files:   0%|          | 0/25 [00:00<?, ?it/s]"
      ]
     },
     "metadata": {},
     "output_type": "display_data"
    },
    {
     "data": {
      "application/vnd.jupyter.widget-view+json": {
       "model_id": "042e13c7124b45edbcccf1b5e4607211",
       "version_major": 2,
       "version_minor": 0
      },
      "text/plain": [
       "Gathering CWE requests for issue 1752483191:   0%|          | 0/881 [00:00<?, ?it/s]"
      ]
     },
     "metadata": {},
     "output_type": "display_data"
    },
    {
     "data": {
      "application/vnd.jupyter.widget-view+json": {
       "model_id": "d275c480638c47af86460184bd83e19a",
       "version_major": 2,
       "version_minor": 0
      },
      "text/plain": [
       "Writing issue 1752483191 batch files:   0%|          | 0/25 [00:00<?, ?it/s]"
      ]
     },
     "metadata": {},
     "output_type": "display_data"
    },
    {
     "data": {
      "application/vnd.jupyter.widget-view+json": {
       "model_id": "049f7e1f58b34c87869c68809a220a06",
       "version_major": 2,
       "version_minor": 0
      },
      "text/plain": [
       "Gathering CWE requests for issue 2620304677:   0%|          | 0/881 [00:00<?, ?it/s]"
      ]
     },
     "metadata": {},
     "output_type": "display_data"
    },
    {
     "data": {
      "application/vnd.jupyter.widget-view+json": {
       "model_id": "75c01a4c489b43aabb1850c9a3716be6",
       "version_major": 2,
       "version_minor": 0
      },
      "text/plain": [
       "Writing issue 2620304677 batch files:   0%|          | 0/25 [00:00<?, ?it/s]"
      ]
     },
     "metadata": {},
     "output_type": "display_data"
    },
    {
     "data": {
      "application/vnd.jupyter.widget-view+json": {
       "model_id": "06c5648af1114550a3656faeb4105bdf",
       "version_major": 2,
       "version_minor": 0
      },
      "text/plain": [
       "Gathering CWE requests for issue 1349239716:   0%|          | 0/881 [00:00<?, ?it/s]"
      ]
     },
     "metadata": {},
     "output_type": "display_data"
    },
    {
     "data": {
      "application/vnd.jupyter.widget-view+json": {
       "model_id": "5e19824ec9cd42bb9ef03f9fb2003827",
       "version_major": 2,
       "version_minor": 0
      },
      "text/plain": [
       "Writing issue 1349239716 batch files:   0%|          | 0/25 [00:00<?, ?it/s]"
      ]
     },
     "metadata": {},
     "output_type": "display_data"
    },
    {
     "data": {
      "application/vnd.jupyter.widget-view+json": {
       "model_id": "72a0d2f7a4ce4c2abf93be331bf3d15f",
       "version_major": 2,
       "version_minor": 0
      },
      "text/plain": [
       "Gathering CWE requests for issue 982110519:   0%|          | 0/881 [00:00<?, ?it/s]"
      ]
     },
     "metadata": {},
     "output_type": "display_data"
    },
    {
     "data": {
      "application/vnd.jupyter.widget-view+json": {
       "model_id": "1f5fb3b0aa6e4ddcbf2ab22ed25a3a88",
       "version_major": 2,
       "version_minor": 0
      },
      "text/plain": [
       "Writing issue 982110519 batch files:   0%|          | 0/25 [00:00<?, ?it/s]"
      ]
     },
     "metadata": {},
     "output_type": "display_data"
    },
    {
     "data": {
      "application/vnd.jupyter.widget-view+json": {
       "model_id": "d0f69b28b2794c6fb306a5ec5bf353d4",
       "version_major": 2,
       "version_minor": 0
      },
      "text/plain": [
       "Gathering CWE requests for issue 1076623517:   0%|          | 0/881 [00:00<?, ?it/s]"
      ]
     },
     "metadata": {},
     "output_type": "display_data"
    },
    {
     "data": {
      "application/vnd.jupyter.widget-view+json": {
       "model_id": "98f0c22ceb1f44098c0e4e4aaef2f2dd",
       "version_major": 2,
       "version_minor": 0
      },
      "text/plain": [
       "Writing issue 1076623517 batch files:   0%|          | 0/25 [00:00<?, ?it/s]"
      ]
     },
     "metadata": {},
     "output_type": "display_data"
    },
    {
     "data": {
      "application/vnd.jupyter.widget-view+json": {
       "model_id": "276268c1945e4a2c8aef2b3d345b3762",
       "version_major": 2,
       "version_minor": 0
      },
      "text/plain": [
       "Gathering CWE requests for issue 1794933459:   0%|          | 0/881 [00:00<?, ?it/s]"
      ]
     },
     "metadata": {},
     "output_type": "display_data"
    },
    {
     "data": {
      "application/vnd.jupyter.widget-view+json": {
       "model_id": "142bc256122543cc8aa3c7ec3f49243c",
       "version_major": 2,
       "version_minor": 0
      },
      "text/plain": [
       "Writing issue 1794933459 batch files:   0%|          | 0/25 [00:00<?, ?it/s]"
      ]
     },
     "metadata": {},
     "output_type": "display_data"
    },
    {
     "data": {
      "application/vnd.jupyter.widget-view+json": {
       "model_id": "a094f6f0c43e409f92a8e6339afda059",
       "version_major": 2,
       "version_minor": 0
      },
      "text/plain": [
       "Gathering CWE requests for issue 949282198:   0%|          | 0/881 [00:00<?, ?it/s]"
      ]
     },
     "metadata": {},
     "output_type": "display_data"
    },
    {
     "data": {
      "application/vnd.jupyter.widget-view+json": {
       "model_id": "df480724473941a2a9879e6daefc179f",
       "version_major": 2,
       "version_minor": 0
      },
      "text/plain": [
       "Writing issue 949282198 batch files:   0%|          | 0/25 [00:00<?, ?it/s]"
      ]
     },
     "metadata": {},
     "output_type": "display_data"
    },
    {
     "data": {
      "application/vnd.jupyter.widget-view+json": {
       "model_id": "850f99cb3f41429cb97f5e5d9d66e34a",
       "version_major": 2,
       "version_minor": 0
      },
      "text/plain": [
       "Gathering CWE requests for issue 1091424729:   0%|          | 0/881 [00:00<?, ?it/s]"
      ]
     },
     "metadata": {},
     "output_type": "display_data"
    },
    {
     "data": {
      "application/vnd.jupyter.widget-view+json": {
       "model_id": "53fd092c36274f9a8342f376b01f6647",
       "version_major": 2,
       "version_minor": 0
      },
      "text/plain": [
       "Writing issue 1091424729 batch files:   0%|          | 0/25 [00:00<?, ?it/s]"
      ]
     },
     "metadata": {},
     "output_type": "display_data"
    },
    {
     "data": {
      "application/vnd.jupyter.widget-view+json": {
       "model_id": "31217752d3c04febb499faea897ea671",
       "version_major": 2,
       "version_minor": 0
      },
      "text/plain": [
       "Gathering CWE requests for issue 1931883357:   0%|          | 0/881 [00:00<?, ?it/s]"
      ]
     },
     "metadata": {},
     "output_type": "display_data"
    },
    {
     "data": {
      "application/vnd.jupyter.widget-view+json": {
       "model_id": "341932bc729540e683854b0633dcecee",
       "version_major": 2,
       "version_minor": 0
      },
      "text/plain": [
       "Writing issue 1931883357 batch files:   0%|          | 0/25 [00:00<?, ?it/s]"
      ]
     },
     "metadata": {},
     "output_type": "display_data"
    },
    {
     "data": {
      "application/vnd.jupyter.widget-view+json": {
       "model_id": "5e165e59d85b48bd9c48fef751693990",
       "version_major": 2,
       "version_minor": 0
      },
      "text/plain": [
       "Gathering CWE requests for issue 1674802543:   0%|          | 0/881 [00:00<?, ?it/s]"
      ]
     },
     "metadata": {},
     "output_type": "display_data"
    },
    {
     "data": {
      "application/vnd.jupyter.widget-view+json": {
       "model_id": "fef56df2af224a54a116c8d483a13639",
       "version_major": 2,
       "version_minor": 0
      },
      "text/plain": [
       "Writing issue 1674802543 batch files:   0%|          | 0/25 [00:00<?, ?it/s]"
      ]
     },
     "metadata": {},
     "output_type": "display_data"
    },
    {
     "data": {
      "application/vnd.jupyter.widget-view+json": {
       "model_id": "a96cf9d2f7b14372857b2286020785bf",
       "version_major": 2,
       "version_minor": 0
      },
      "text/plain": [
       "Gathering CWE requests for issue 2069049530:   0%|          | 0/881 [00:00<?, ?it/s]"
      ]
     },
     "metadata": {},
     "output_type": "display_data"
    },
    {
     "data": {
      "application/vnd.jupyter.widget-view+json": {
       "model_id": "8d4f2f19d34846bb80312425bf5e25e8",
       "version_major": 2,
       "version_minor": 0
      },
      "text/plain": [
       "Writing issue 2069049530 batch files:   0%|          | 0/25 [00:00<?, ?it/s]"
      ]
     },
     "metadata": {},
     "output_type": "display_data"
    },
    {
     "data": {
      "application/vnd.jupyter.widget-view+json": {
       "model_id": "0d3d3abd5ee3406bb8076e145078a061",
       "version_major": 2,
       "version_minor": 0
      },
      "text/plain": [
       "Gathering CWE requests for issue 1822676744:   0%|          | 0/881 [00:00<?, ?it/s]"
      ]
     },
     "metadata": {},
     "output_type": "display_data"
    },
    {
     "data": {
      "application/vnd.jupyter.widget-view+json": {
       "model_id": "cc80a6acc08b4e5f9ac2e83881a0d8b4",
       "version_major": 2,
       "version_minor": 0
      },
      "text/plain": [
       "Writing issue 1822676744 batch files:   0%|          | 0/25 [00:00<?, ?it/s]"
      ]
     },
     "metadata": {},
     "output_type": "display_data"
    },
    {
     "data": {
      "application/vnd.jupyter.widget-view+json": {
       "model_id": "8cb7568551804506afc194425a973551",
       "version_major": 2,
       "version_minor": 0
      },
      "text/plain": [
       "Gathering CWE requests for issue 780977268:   0%|          | 0/881 [00:00<?, ?it/s]"
      ]
     },
     "metadata": {},
     "output_type": "display_data"
    },
    {
     "data": {
      "application/vnd.jupyter.widget-view+json": {
       "model_id": "22c442efc93d45b8996f204218ce0d1e",
       "version_major": 2,
       "version_minor": 0
      },
      "text/plain": [
       "Writing issue 780977268 batch files:   0%|          | 0/25 [00:00<?, ?it/s]"
      ]
     },
     "metadata": {},
     "output_type": "display_data"
    },
    {
     "data": {
      "application/vnd.jupyter.widget-view+json": {
       "model_id": "bda95ebbedc34c7b8c2c880d61fb5bda",
       "version_major": 2,
       "version_minor": 0
      },
      "text/plain": [
       "Gathering CWE requests for issue 1941560024:   0%|          | 0/881 [00:00<?, ?it/s]"
      ]
     },
     "metadata": {},
     "output_type": "display_data"
    },
    {
     "data": {
      "application/vnd.jupyter.widget-view+json": {
       "model_id": "876f6ce0b541473a955887bc6072ecb2",
       "version_major": 2,
       "version_minor": 0
      },
      "text/plain": [
       "Writing issue 1941560024 batch files:   0%|          | 0/25 [00:00<?, ?it/s]"
      ]
     },
     "metadata": {},
     "output_type": "display_data"
    },
    {
     "data": {
      "application/vnd.jupyter.widget-view+json": {
       "model_id": "87c87c0a829e4a69b050b434512bc074",
       "version_major": 2,
       "version_minor": 0
      },
      "text/plain": [
       "Gathering CWE requests for issue 1531754487:   0%|          | 0/881 [00:00<?, ?it/s]"
      ]
     },
     "metadata": {},
     "output_type": "display_data"
    },
    {
     "data": {
      "application/vnd.jupyter.widget-view+json": {
       "model_id": "f16aa43f4c834e8ab8f01cb1b0fc1377",
       "version_major": 2,
       "version_minor": 0
      },
      "text/plain": [
       "Writing issue 1531754487 batch files:   0%|          | 0/25 [00:00<?, ?it/s]"
      ]
     },
     "metadata": {},
     "output_type": "display_data"
    },
    {
     "data": {
      "application/vnd.jupyter.widget-view+json": {
       "model_id": "8ddd0219a98a4aaea55028c6af28d9a5",
       "version_major": 2,
       "version_minor": 0
      },
      "text/plain": [
       "Gathering CWE requests for issue 1492780269:   0%|          | 0/881 [00:00<?, ?it/s]"
      ]
     },
     "metadata": {},
     "output_type": "display_data"
    },
    {
     "data": {
      "application/vnd.jupyter.widget-view+json": {
       "model_id": "89bb18a99f024e3e96990fd8a2e225b8",
       "version_major": 2,
       "version_minor": 0
      },
      "text/plain": [
       "Writing issue 1492780269 batch files:   0%|          | 0/25 [00:00<?, ?it/s]"
      ]
     },
     "metadata": {},
     "output_type": "display_data"
    },
    {
     "data": {
      "application/vnd.jupyter.widget-view+json": {
       "model_id": "9a3fe761be824dee85fdd4d8ab355066",
       "version_major": 2,
       "version_minor": 0
      },
      "text/plain": [
       "Gathering CWE requests for issue 2620247543:   0%|          | 0/881 [00:00<?, ?it/s]"
      ]
     },
     "metadata": {},
     "output_type": "display_data"
    },
    {
     "data": {
      "application/vnd.jupyter.widget-view+json": {
       "model_id": "a87cd154f5734223a84371d36bce8941",
       "version_major": 2,
       "version_minor": 0
      },
      "text/plain": [
       "Writing issue 2620247543 batch files:   0%|          | 0/25 [00:00<?, ?it/s]"
      ]
     },
     "metadata": {},
     "output_type": "display_data"
    },
    {
     "data": {
      "application/vnd.jupyter.widget-view+json": {
       "model_id": "df2b1c3e684f42a7aea75174fd117a58",
       "version_major": 2,
       "version_minor": 0
      },
      "text/plain": [
       "Gathering CWE requests for issue 1686632921:   0%|          | 0/881 [00:00<?, ?it/s]"
      ]
     },
     "metadata": {},
     "output_type": "display_data"
    },
    {
     "data": {
      "application/vnd.jupyter.widget-view+json": {
       "model_id": "342664ddae254b56a973904ed8c5a40e",
       "version_major": 2,
       "version_minor": 0
      },
      "text/plain": [
       "Writing issue 1686632921 batch files:   0%|          | 0/25 [00:00<?, ?it/s]"
      ]
     },
     "metadata": {},
     "output_type": "display_data"
    },
    {
     "data": {
      "application/vnd.jupyter.widget-view+json": {
       "model_id": "da3d1f8604bd45229105455f4607dcd0",
       "version_major": 2,
       "version_minor": 0
      },
      "text/plain": [
       "Gathering CWE requests for issue 1889961293:   0%|          | 0/881 [00:00<?, ?it/s]"
      ]
     },
     "metadata": {},
     "output_type": "display_data"
    },
    {
     "data": {
      "application/vnd.jupyter.widget-view+json": {
       "model_id": "960c50a95d2548a7ba28a7bf2bc4e642",
       "version_major": 2,
       "version_minor": 0
      },
      "text/plain": [
       "Writing issue 1889961293 batch files:   0%|          | 0/25 [00:00<?, ?it/s]"
      ]
     },
     "metadata": {},
     "output_type": "display_data"
    },
    {
     "data": {
      "application/vnd.jupyter.widget-view+json": {
       "model_id": "c95bc0df7db34bf8b3bf75b1dbe7ceb1",
       "version_major": 2,
       "version_minor": 0
      },
      "text/plain": [
       "Gathering CWE requests for issue 895161153:   0%|          | 0/881 [00:00<?, ?it/s]"
      ]
     },
     "metadata": {},
     "output_type": "display_data"
    },
    {
     "data": {
      "application/vnd.jupyter.widget-view+json": {
       "model_id": "c0b4176fdbbb498d98bcc1e29c68ecfe",
       "version_major": 2,
       "version_minor": 0
      },
      "text/plain": [
       "Writing issue 895161153 batch files:   0%|          | 0/25 [00:00<?, ?it/s]"
      ]
     },
     "metadata": {},
     "output_type": "display_data"
    },
    {
     "data": {
      "application/vnd.jupyter.widget-view+json": {
       "model_id": "d090a791541e4f8e8f889ca2dbb79f8a",
       "version_major": 2,
       "version_minor": 0
      },
      "text/plain": [
       "Gathering CWE requests for issue 1761134477:   0%|          | 0/881 [00:00<?, ?it/s]"
      ]
     },
     "metadata": {},
     "output_type": "display_data"
    },
    {
     "data": {
      "application/vnd.jupyter.widget-view+json": {
       "model_id": "eac2dc5d2680487e8220df19cdf989ee",
       "version_major": 2,
       "version_minor": 0
      },
      "text/plain": [
       "Writing issue 1761134477 batch files:   0%|          | 0/25 [00:00<?, ?it/s]"
      ]
     },
     "metadata": {},
     "output_type": "display_data"
    },
    {
     "data": {
      "application/vnd.jupyter.widget-view+json": {
       "model_id": "1e8e8a85594b4eec8f09925c925a7c08",
       "version_major": 2,
       "version_minor": 0
      },
      "text/plain": [
       "Gathering CWE requests for issue 2034983336:   0%|          | 0/881 [00:00<?, ?it/s]"
      ]
     },
     "metadata": {},
     "output_type": "display_data"
    },
    {
     "data": {
      "application/vnd.jupyter.widget-view+json": {
       "model_id": "6f2dccaf035949bfb2e68d8d77bfc136",
       "version_major": 2,
       "version_minor": 0
      },
      "text/plain": [
       "Writing issue 2034983336 batch files:   0%|          | 0/25 [00:00<?, ?it/s]"
      ]
     },
     "metadata": {},
     "output_type": "display_data"
    },
    {
     "data": {
      "application/vnd.jupyter.widget-view+json": {
       "model_id": "ed067f1b1b9c401d96d533b2656fe76b",
       "version_major": 2,
       "version_minor": 0
      },
      "text/plain": [
       "Gathering CWE requests for issue 783388613:   0%|          | 0/881 [00:00<?, ?it/s]"
      ]
     },
     "metadata": {},
     "output_type": "display_data"
    },
    {
     "data": {
      "application/vnd.jupyter.widget-view+json": {
       "model_id": "69ee7d10a12c4c838b439b61b1c6e377",
       "version_major": 2,
       "version_minor": 0
      },
      "text/plain": [
       "Writing issue 783388613 batch files:   0%|          | 0/25 [00:00<?, ?it/s]"
      ]
     },
     "metadata": {},
     "output_type": "display_data"
    },
    {
     "data": {
      "application/vnd.jupyter.widget-view+json": {
       "model_id": "116264b2fe8d4fc6a363b8b88a789c3d",
       "version_major": 2,
       "version_minor": 0
      },
      "text/plain": [
       "Gathering CWE requests for issue 1377456877:   0%|          | 0/881 [00:00<?, ?it/s]"
      ]
     },
     "metadata": {},
     "output_type": "display_data"
    },
    {
     "data": {
      "application/vnd.jupyter.widget-view+json": {
       "model_id": "03f795c272f449e6896f37e48b96c711",
       "version_major": 2,
       "version_minor": 0
      },
      "text/plain": [
       "Writing issue 1377456877 batch files:   0%|          | 0/25 [00:00<?, ?it/s]"
      ]
     },
     "metadata": {},
     "output_type": "display_data"
    },
    {
     "data": {
      "application/vnd.jupyter.widget-view+json": {
       "model_id": "54b60184e0a944e09bbc7eb7e55b8ef9",
       "version_major": 2,
       "version_minor": 0
      },
      "text/plain": [
       "Gathering CWE requests for issue 503095531:   0%|          | 0/881 [00:00<?, ?it/s]"
      ]
     },
     "metadata": {},
     "output_type": "display_data"
    },
    {
     "data": {
      "application/vnd.jupyter.widget-view+json": {
       "model_id": "a8727723f29f4fe1955881944c50c771",
       "version_major": 2,
       "version_minor": 0
      },
      "text/plain": [
       "Writing issue 503095531 batch files:   0%|          | 0/25 [00:00<?, ?it/s]"
      ]
     },
     "metadata": {},
     "output_type": "display_data"
    },
    {
     "data": {
      "application/vnd.jupyter.widget-view+json": {
       "model_id": "225a5c37915849adad6cb9d650716065",
       "version_major": 2,
       "version_minor": 0
      },
      "text/plain": [
       "Gathering CWE requests for issue 854055702:   0%|          | 0/881 [00:00<?, ?it/s]"
      ]
     },
     "metadata": {},
     "output_type": "display_data"
    },
    {
     "data": {
      "application/vnd.jupyter.widget-view+json": {
       "model_id": "595823ec1a41456dbe58eb327ecd6291",
       "version_major": 2,
       "version_minor": 0
      },
      "text/plain": [
       "Writing issue 854055702 batch files:   0%|          | 0/25 [00:00<?, ?it/s]"
      ]
     },
     "metadata": {},
     "output_type": "display_data"
    },
    {
     "data": {
      "application/vnd.jupyter.widget-view+json": {
       "model_id": "08f97422ab8942c38665af60a3511d46",
       "version_major": 2,
       "version_minor": 0
      },
      "text/plain": [
       "Gathering CWE requests for issue 479003776:   0%|          | 0/881 [00:00<?, ?it/s]"
      ]
     },
     "metadata": {},
     "output_type": "display_data"
    },
    {
     "data": {
      "application/vnd.jupyter.widget-view+json": {
       "model_id": "cdb74f80a44747d3869888e6435da59e",
       "version_major": 2,
       "version_minor": 0
      },
      "text/plain": [
       "Writing issue 479003776 batch files:   0%|          | 0/25 [00:00<?, ?it/s]"
      ]
     },
     "metadata": {},
     "output_type": "display_data"
    },
    {
     "data": {
      "application/vnd.jupyter.widget-view+json": {
       "model_id": "0798a10c74ad47f29ca7f5584c2d0044",
       "version_major": 2,
       "version_minor": 0
      },
      "text/plain": [
       "Gathering CWE requests for issue 628146890:   0%|          | 0/881 [00:00<?, ?it/s]"
      ]
     },
     "metadata": {},
     "output_type": "display_data"
    },
    {
     "data": {
      "application/vnd.jupyter.widget-view+json": {
       "model_id": "8ab09a4149a14ef0897e91b7b76a9b4a",
       "version_major": 2,
       "version_minor": 0
      },
      "text/plain": [
       "Writing issue 628146890 batch files:   0%|          | 0/25 [00:00<?, ?it/s]"
      ]
     },
     "metadata": {},
     "output_type": "display_data"
    },
    {
     "data": {
      "application/vnd.jupyter.widget-view+json": {
       "model_id": "a829a6f7c60849099da9ff48c637fcf1",
       "version_major": 2,
       "version_minor": 0
      },
      "text/plain": [
       "Gathering CWE requests for issue 2004741539:   0%|          | 0/881 [00:00<?, ?it/s]"
      ]
     },
     "metadata": {},
     "output_type": "display_data"
    },
    {
     "data": {
      "application/vnd.jupyter.widget-view+json": {
       "model_id": "95aa26f7eb2e4bfab05dda8aedb15dc5",
       "version_major": 2,
       "version_minor": 0
      },
      "text/plain": [
       "Writing issue 2004741539 batch files:   0%|          | 0/25 [00:00<?, ?it/s]"
      ]
     },
     "metadata": {},
     "output_type": "display_data"
    },
    {
     "data": {
      "application/vnd.jupyter.widget-view+json": {
       "model_id": "65aed87b5121450bb022e1cbf5cd296e",
       "version_major": 2,
       "version_minor": 0
      },
      "text/plain": [
       "Gathering CWE requests for issue 2448123691:   0%|          | 0/881 [00:00<?, ?it/s]"
      ]
     },
     "metadata": {},
     "output_type": "display_data"
    },
    {
     "data": {
      "application/vnd.jupyter.widget-view+json": {
       "model_id": "bfd63a11f5c54a9997aaa7e466de0e25",
       "version_major": 2,
       "version_minor": 0
      },
      "text/plain": [
       "Writing issue 2448123691 batch files:   0%|          | 0/25 [00:00<?, ?it/s]"
      ]
     },
     "metadata": {},
     "output_type": "display_data"
    },
    {
     "data": {
      "application/vnd.jupyter.widget-view+json": {
       "model_id": "994bccb5d6ae40f3af14b637b7ec9c0c",
       "version_major": 2,
       "version_minor": 0
      },
      "text/plain": [
       "Gathering CWE requests for issue 1129589949:   0%|          | 0/881 [00:00<?, ?it/s]"
      ]
     },
     "metadata": {},
     "output_type": "display_data"
    },
    {
     "data": {
      "application/vnd.jupyter.widget-view+json": {
       "model_id": "341bc82cce0a450a99e434d3608b010e",
       "version_major": 2,
       "version_minor": 0
      },
      "text/plain": [
       "Writing issue 1129589949 batch files:   0%|          | 0/25 [00:00<?, ?it/s]"
      ]
     },
     "metadata": {},
     "output_type": "display_data"
    },
    {
     "data": {
      "application/vnd.jupyter.widget-view+json": {
       "model_id": "f205928796ad432ea94916f27af341fe",
       "version_major": 2,
       "version_minor": 0
      },
      "text/plain": [
       "Gathering CWE requests for issue 1091461538:   0%|          | 0/881 [00:00<?, ?it/s]"
      ]
     },
     "metadata": {},
     "output_type": "display_data"
    },
    {
     "data": {
      "application/vnd.jupyter.widget-view+json": {
       "model_id": "ae03ef6b5d4d4a1d8daea705c0012cd3",
       "version_major": 2,
       "version_minor": 0
      },
      "text/plain": [
       "Writing issue 1091461538 batch files:   0%|          | 0/25 [00:00<?, ?it/s]"
      ]
     },
     "metadata": {},
     "output_type": "display_data"
    },
    {
     "data": {
      "application/vnd.jupyter.widget-view+json": {
       "model_id": "28c8f17db4e249c58301662e7a24f2ae",
       "version_major": 2,
       "version_minor": 0
      },
      "text/plain": [
       "Gathering CWE requests for issue 786903936:   0%|          | 0/881 [00:00<?, ?it/s]"
      ]
     },
     "metadata": {},
     "output_type": "display_data"
    },
    {
     "data": {
      "application/vnd.jupyter.widget-view+json": {
       "model_id": "eff8913a81184003a77a578a3a158836",
       "version_major": 2,
       "version_minor": 0
      },
      "text/plain": [
       "Writing issue 786903936 batch files:   0%|          | 0/25 [00:00<?, ?it/s]"
      ]
     },
     "metadata": {},
     "output_type": "display_data"
    },
    {
     "data": {
      "application/vnd.jupyter.widget-view+json": {
       "model_id": "a0c7e2d18e084d099327212e381e32b8",
       "version_major": 2,
       "version_minor": 0
      },
      "text/plain": [
       "Gathering CWE requests for issue 2505723934:   0%|          | 0/881 [00:00<?, ?it/s]"
      ]
     },
     "metadata": {},
     "output_type": "display_data"
    },
    {
     "data": {
      "application/vnd.jupyter.widget-view+json": {
       "model_id": "6674682dac7b43f09c4778aabad072a4",
       "version_major": 2,
       "version_minor": 0
      },
      "text/plain": [
       "Writing issue 2505723934 batch files:   0%|          | 0/25 [00:00<?, ?it/s]"
      ]
     },
     "metadata": {},
     "output_type": "display_data"
    },
    {
     "data": {
      "application/vnd.jupyter.widget-view+json": {
       "model_id": "a6a377acb68146108ea7d7a63d9834f8",
       "version_major": 2,
       "version_minor": 0
      },
      "text/plain": [
       "Gathering CWE requests for issue 1371299019:   0%|          | 0/881 [00:00<?, ?it/s]"
      ]
     },
     "metadata": {},
     "output_type": "display_data"
    },
    {
     "data": {
      "application/vnd.jupyter.widget-view+json": {
       "model_id": "402b05f6a634401c83e229b8641de5e2",
       "version_major": 2,
       "version_minor": 0
      },
      "text/plain": [
       "Writing issue 1371299019 batch files:   0%|          | 0/25 [00:00<?, ?it/s]"
      ]
     },
     "metadata": {},
     "output_type": "display_data"
    },
    {
     "data": {
      "application/vnd.jupyter.widget-view+json": {
       "model_id": "b5bf5a54973c4958a9b498638394781a",
       "version_major": 2,
       "version_minor": 0
      },
      "text/plain": [
       "Gathering CWE requests for issue 2269396268:   0%|          | 0/881 [00:00<?, ?it/s]"
      ]
     },
     "metadata": {},
     "output_type": "display_data"
    },
    {
     "data": {
      "application/vnd.jupyter.widget-view+json": {
       "model_id": "742743dac0a448ec830fdd128efa1b37",
       "version_major": 2,
       "version_minor": 0
      },
      "text/plain": [
       "Writing issue 2269396268 batch files:   0%|          | 0/25 [00:00<?, ?it/s]"
      ]
     },
     "metadata": {},
     "output_type": "display_data"
    },
    {
     "data": {
      "application/vnd.jupyter.widget-view+json": {
       "model_id": "e2dac0cef4714518b70964c995b496cb",
       "version_major": 2,
       "version_minor": 0
      },
      "text/plain": [
       "Gathering CWE requests for issue 2403699086:   0%|          | 0/881 [00:00<?, ?it/s]"
      ]
     },
     "metadata": {},
     "output_type": "display_data"
    },
    {
     "data": {
      "application/vnd.jupyter.widget-view+json": {
       "model_id": "c04b27b7eb40483c94ed7aea02d20050",
       "version_major": 2,
       "version_minor": 0
      },
      "text/plain": [
       "Writing issue 2403699086 batch files:   0%|          | 0/25 [00:00<?, ?it/s]"
      ]
     },
     "metadata": {},
     "output_type": "display_data"
    },
    {
     "data": {
      "application/vnd.jupyter.widget-view+json": {
       "model_id": "150eb8ccb7cd408885b120f04affb6b1",
       "version_major": 2,
       "version_minor": 0
      },
      "text/plain": [
       "Gathering CWE requests for issue 2037031983:   0%|          | 0/881 [00:00<?, ?it/s]"
      ]
     },
     "metadata": {},
     "output_type": "display_data"
    },
    {
     "data": {
      "application/vnd.jupyter.widget-view+json": {
       "model_id": "39542093348943ebbf11d3875756b57b",
       "version_major": 2,
       "version_minor": 0
      },
      "text/plain": [
       "Writing issue 2037031983 batch files:   0%|          | 0/25 [00:00<?, ?it/s]"
      ]
     },
     "metadata": {},
     "output_type": "display_data"
    },
    {
     "data": {
      "application/vnd.jupyter.widget-view+json": {
       "model_id": "35e4182f8c154f00a417c7384657cf1c",
       "version_major": 2,
       "version_minor": 0
      },
      "text/plain": [
       "Gathering CWE requests for issue 2269396813:   0%|          | 0/881 [00:00<?, ?it/s]"
      ]
     },
     "metadata": {},
     "output_type": "display_data"
    },
    {
     "data": {
      "application/vnd.jupyter.widget-view+json": {
       "model_id": "327c9c269bc94cf49d0b152e40cb5f98",
       "version_major": 2,
       "version_minor": 0
      },
      "text/plain": [
       "Writing issue 2269396813 batch files:   0%|          | 0/25 [00:00<?, ?it/s]"
      ]
     },
     "metadata": {},
     "output_type": "display_data"
    },
    {
     "data": {
      "application/vnd.jupyter.widget-view+json": {
       "model_id": "e0ed9bd4f5c24511a1ed671d41096110",
       "version_major": 2,
       "version_minor": 0
      },
      "text/plain": [
       "Gathering CWE requests for issue 2834995728:   0%|          | 0/881 [00:00<?, ?it/s]"
      ]
     },
     "metadata": {},
     "output_type": "display_data"
    },
    {
     "data": {
      "application/vnd.jupyter.widget-view+json": {
       "model_id": "95bf78caf18343f9bae173767e9faaaf",
       "version_major": 2,
       "version_minor": 0
      },
      "text/plain": [
       "Writing issue 2834995728 batch files:   0%|          | 0/25 [00:00<?, ?it/s]"
      ]
     },
     "metadata": {},
     "output_type": "display_data"
    },
    {
     "data": {
      "application/vnd.jupyter.widget-view+json": {
       "model_id": "e8af7fcf75514799b04d16b90f81d284",
       "version_major": 2,
       "version_minor": 0
      },
      "text/plain": [
       "Gathering CWE requests for issue 1120364312:   0%|          | 0/881 [00:00<?, ?it/s]"
      ]
     },
     "metadata": {},
     "output_type": "display_data"
    },
    {
     "data": {
      "application/vnd.jupyter.widget-view+json": {
       "model_id": "e98b2877b76647e9adb2583c68309d6e",
       "version_major": 2,
       "version_minor": 0
      },
      "text/plain": [
       "Writing issue 1120364312 batch files:   0%|          | 0/25 [00:00<?, ?it/s]"
      ]
     },
     "metadata": {},
     "output_type": "display_data"
    },
    {
     "data": {
      "application/vnd.jupyter.widget-view+json": {
       "model_id": "d61d86e00739443c907aa23b9c87a308",
       "version_major": 2,
       "version_minor": 0
      },
      "text/plain": [
       "Gathering CWE requests for issue 628139379:   0%|          | 0/881 [00:00<?, ?it/s]"
      ]
     },
     "metadata": {},
     "output_type": "display_data"
    },
    {
     "data": {
      "application/vnd.jupyter.widget-view+json": {
       "model_id": "f1edc9a96bde47d39c9afab4df5b1718",
       "version_major": 2,
       "version_minor": 0
      },
      "text/plain": [
       "Writing issue 628139379 batch files:   0%|          | 0/25 [00:00<?, ?it/s]"
      ]
     },
     "metadata": {},
     "output_type": "display_data"
    },
    {
     "data": {
      "application/vnd.jupyter.widget-view+json": {
       "model_id": "b9419efa983c4c72a79640bf2e2de11a",
       "version_major": 2,
       "version_minor": 0
      },
      "text/plain": [
       "Gathering CWE requests for issue 521967985:   0%|          | 0/881 [00:00<?, ?it/s]"
      ]
     },
     "metadata": {},
     "output_type": "display_data"
    },
    {
     "data": {
      "application/vnd.jupyter.widget-view+json": {
       "model_id": "0d38ee80692b4cb6aae005f1de575b49",
       "version_major": 2,
       "version_minor": 0
      },
      "text/plain": [
       "Writing issue 521967985 batch files:   0%|          | 0/25 [00:00<?, ?it/s]"
      ]
     },
     "metadata": {},
     "output_type": "display_data"
    },
    {
     "data": {
      "application/vnd.jupyter.widget-view+json": {
       "model_id": "ec26b0afe23646d0b3d835efc4ba1c99",
       "version_major": 2,
       "version_minor": 0
      },
      "text/plain": [
       "Gathering CWE requests for issue 2038189894:   0%|          | 0/881 [00:00<?, ?it/s]"
      ]
     },
     "metadata": {},
     "output_type": "display_data"
    },
    {
     "data": {
      "application/vnd.jupyter.widget-view+json": {
       "model_id": "bc020ca46416498ca2d4332df4d47668",
       "version_major": 2,
       "version_minor": 0
      },
      "text/plain": [
       "Writing issue 2038189894 batch files:   0%|          | 0/25 [00:00<?, ?it/s]"
      ]
     },
     "metadata": {},
     "output_type": "display_data"
    },
    {
     "data": {
      "application/vnd.jupyter.widget-view+json": {
       "model_id": "45043250f08f4f01942062045af016b1",
       "version_major": 2,
       "version_minor": 0
      },
      "text/plain": [
       "Gathering CWE requests for issue 2267027621:   0%|          | 0/881 [00:00<?, ?it/s]"
      ]
     },
     "metadata": {},
     "output_type": "display_data"
    },
    {
     "data": {
      "application/vnd.jupyter.widget-view+json": {
       "model_id": "a4651541f90f422abbe73e21541957ef",
       "version_major": 2,
       "version_minor": 0
      },
      "text/plain": [
       "Writing issue 2267027621 batch files:   0%|          | 0/25 [00:00<?, ?it/s]"
      ]
     },
     "metadata": {},
     "output_type": "display_data"
    },
    {
     "data": {
      "application/vnd.jupyter.widget-view+json": {
       "model_id": "835987783e7f42d18e7d5a0670c5db7d",
       "version_major": 2,
       "version_minor": 0
      },
      "text/plain": [
       "Gathering CWE requests for issue 1290844410:   0%|          | 0/881 [00:00<?, ?it/s]"
      ]
     },
     "metadata": {},
     "output_type": "display_data"
    },
    {
     "data": {
      "application/vnd.jupyter.widget-view+json": {
       "model_id": "115d36acfb334f5d897119819cc10896",
       "version_major": 2,
       "version_minor": 0
      },
      "text/plain": [
       "Writing issue 1290844410 batch files:   0%|          | 0/25 [00:00<?, ?it/s]"
      ]
     },
     "metadata": {},
     "output_type": "display_data"
    },
    {
     "data": {
      "application/vnd.jupyter.widget-view+json": {
       "model_id": "21882bf479fb4a21b4a960b4131bddd7",
       "version_major": 2,
       "version_minor": 0
      },
      "text/plain": [
       "Gathering CWE requests for issue 2599665441:   0%|          | 0/881 [00:00<?, ?it/s]"
      ]
     },
     "metadata": {},
     "output_type": "display_data"
    },
    {
     "data": {
      "application/vnd.jupyter.widget-view+json": {
       "model_id": "e237d0f32eff4b8c98a746489f0f3191",
       "version_major": 2,
       "version_minor": 0
      },
      "text/plain": [
       "Writing issue 2599665441 batch files:   0%|          | 0/25 [00:00<?, ?it/s]"
      ]
     },
     "metadata": {},
     "output_type": "display_data"
    },
    {
     "data": {
      "application/vnd.jupyter.widget-view+json": {
       "model_id": "4a4af8c0316549e3afe418e70a2feb60",
       "version_major": 2,
       "version_minor": 0
      },
      "text/plain": [
       "Gathering CWE requests for issue 1459040705:   0%|          | 0/881 [00:00<?, ?it/s]"
      ]
     },
     "metadata": {},
     "output_type": "display_data"
    },
    {
     "data": {
      "application/vnd.jupyter.widget-view+json": {
       "model_id": "c5e3aa78b69c475288fca4d2124c287f",
       "version_major": 2,
       "version_minor": 0
      },
      "text/plain": [
       "Writing issue 1459040705 batch files:   0%|          | 0/25 [00:00<?, ?it/s]"
      ]
     },
     "metadata": {},
     "output_type": "display_data"
    },
    {
     "data": {
      "application/vnd.jupyter.widget-view+json": {
       "model_id": "dbfa1b13e12a41e79ab2dab839758956",
       "version_major": 2,
       "version_minor": 0
      },
      "text/plain": [
       "Gathering CWE requests for issue 1488308020:   0%|          | 0/881 [00:00<?, ?it/s]"
      ]
     },
     "metadata": {},
     "output_type": "display_data"
    },
    {
     "data": {
      "application/vnd.jupyter.widget-view+json": {
       "model_id": "7247da2c680b46b0908444b9bda5e0a9",
       "version_major": 2,
       "version_minor": 0
      },
      "text/plain": [
       "Writing issue 1488308020 batch files:   0%|          | 0/25 [00:00<?, ?it/s]"
      ]
     },
     "metadata": {},
     "output_type": "display_data"
    },
    {
     "data": {
      "application/vnd.jupyter.widget-view+json": {
       "model_id": "53cee912a11f4b9993a9218c387cdf38",
       "version_major": 2,
       "version_minor": 0
      },
      "text/plain": [
       "Gathering CWE requests for issue 1414357245:   0%|          | 0/881 [00:00<?, ?it/s]"
      ]
     },
     "metadata": {},
     "output_type": "display_data"
    },
    {
     "data": {
      "application/vnd.jupyter.widget-view+json": {
       "model_id": "9799d5044b334684b9a95cb55463cecf",
       "version_major": 2,
       "version_minor": 0
      },
      "text/plain": [
       "Writing issue 1414357245 batch files:   0%|          | 0/25 [00:00<?, ?it/s]"
      ]
     },
     "metadata": {},
     "output_type": "display_data"
    },
    {
     "data": {
      "application/vnd.jupyter.widget-view+json": {
       "model_id": "763485e5e3a942a9bd9c9ffaf6ff2b85",
       "version_major": 2,
       "version_minor": 0
      },
      "text/plain": [
       "Gathering CWE requests for issue 1492772918:   0%|          | 0/881 [00:00<?, ?it/s]"
      ]
     },
     "metadata": {},
     "output_type": "display_data"
    },
    {
     "data": {
      "application/vnd.jupyter.widget-view+json": {
       "model_id": "fe06b2df1a7741a6b2f8a0d22fe63327",
       "version_major": 2,
       "version_minor": 0
      },
      "text/plain": [
       "Writing issue 1492772918 batch files:   0%|          | 0/25 [00:00<?, ?it/s]"
      ]
     },
     "metadata": {},
     "output_type": "display_data"
    },
    {
     "data": {
      "application/vnd.jupyter.widget-view+json": {
       "model_id": "c75b6e60ac764a2cb7c237fa5661eaf1",
       "version_major": 2,
       "version_minor": 0
      },
      "text/plain": [
       "Gathering CWE requests for issue 625973443:   0%|          | 0/881 [00:00<?, ?it/s]"
      ]
     },
     "metadata": {},
     "output_type": "display_data"
    },
    {
     "data": {
      "application/vnd.jupyter.widget-view+json": {
       "model_id": "b1c0850331f5416c909e764cc5e23fb4",
       "version_major": 2,
       "version_minor": 0
      },
      "text/plain": [
       "Writing issue 625973443 batch files:   0%|          | 0/25 [00:00<?, ?it/s]"
      ]
     },
     "metadata": {},
     "output_type": "display_data"
    },
    {
     "data": {
      "application/vnd.jupyter.widget-view+json": {
       "model_id": "6ced53296afd4ea1987a231740f35802",
       "version_major": 2,
       "version_minor": 0
      },
      "text/plain": [
       "Gathering CWE requests for issue 1680076342:   0%|          | 0/881 [00:00<?, ?it/s]"
      ]
     },
     "metadata": {},
     "output_type": "display_data"
    },
    {
     "data": {
      "application/vnd.jupyter.widget-view+json": {
       "model_id": "9bba42eac6234624b8799fbc5b1160c9",
       "version_major": 2,
       "version_minor": 0
      },
      "text/plain": [
       "Writing issue 1680076342 batch files:   0%|          | 0/25 [00:00<?, ?it/s]"
      ]
     },
     "metadata": {},
     "output_type": "display_data"
    },
    {
     "data": {
      "application/vnd.jupyter.widget-view+json": {
       "model_id": "87b85768bdad4bc3b7e93e53ce31efec",
       "version_major": 2,
       "version_minor": 0
      },
      "text/plain": [
       "Gathering CWE requests for issue 2269391954:   0%|          | 0/881 [00:00<?, ?it/s]"
      ]
     },
     "metadata": {},
     "output_type": "display_data"
    },
    {
     "data": {
      "application/vnd.jupyter.widget-view+json": {
       "model_id": "e2e1f807f1684cc79ecb8f4d5db687b2",
       "version_major": 2,
       "version_minor": 0
      },
      "text/plain": [
       "Writing issue 2269391954 batch files:   0%|          | 0/25 [00:00<?, ?it/s]"
      ]
     },
     "metadata": {},
     "output_type": "display_data"
    },
    {
     "data": {
      "application/vnd.jupyter.widget-view+json": {
       "model_id": "9bf3105a41254c98a5c6d3190c9afdf1",
       "version_major": 2,
       "version_minor": 0
      },
      "text/plain": [
       "Gathering CWE requests for issue 1609599815:   0%|          | 0/881 [00:00<?, ?it/s]"
      ]
     },
     "metadata": {},
     "output_type": "display_data"
    },
    {
     "data": {
      "application/vnd.jupyter.widget-view+json": {
       "model_id": "be9d25a57e3f48da8c0a1480a920eb07",
       "version_major": 2,
       "version_minor": 0
      },
      "text/plain": [
       "Writing issue 1609599815 batch files:   0%|          | 0/25 [00:00<?, ?it/s]"
      ]
     },
     "metadata": {},
     "output_type": "display_data"
    },
    {
     "data": {
      "application/vnd.jupyter.widget-view+json": {
       "model_id": "9b3e8d01d75b440298de61f2de437a71",
       "version_major": 2,
       "version_minor": 0
      },
      "text/plain": [
       "Gathering CWE requests for issue 767519058:   0%|          | 0/881 [00:00<?, ?it/s]"
      ]
     },
     "metadata": {},
     "output_type": "display_data"
    },
    {
     "data": {
      "application/vnd.jupyter.widget-view+json": {
       "model_id": "7434247b8abb4868b4062eb4909d6ee6",
       "version_major": 2,
       "version_minor": 0
      },
      "text/plain": [
       "Writing issue 767519058 batch files:   0%|          | 0/25 [00:00<?, ?it/s]"
      ]
     },
     "metadata": {},
     "output_type": "display_data"
    },
    {
     "data": {
      "application/vnd.jupyter.widget-view+json": {
       "model_id": "e48a5057b84245bea0e01890c0f7448c",
       "version_major": 2,
       "version_minor": 0
      },
      "text/plain": [
       "Gathering CWE requests for issue 1335611389:   0%|          | 0/881 [00:00<?, ?it/s]"
      ]
     },
     "metadata": {},
     "output_type": "display_data"
    },
    {
     "data": {
      "application/vnd.jupyter.widget-view+json": {
       "model_id": "338e273959804dffa7513744b6347a38",
       "version_major": 2,
       "version_minor": 0
      },
      "text/plain": [
       "Writing issue 1335611389 batch files:   0%|          | 0/25 [00:00<?, ?it/s]"
      ]
     },
     "metadata": {},
     "output_type": "display_data"
    },
    {
     "data": {
      "application/vnd.jupyter.widget-view+json": {
       "model_id": "a61544bb4338460aae600df93a5ffdb9",
       "version_major": 2,
       "version_minor": 0
      },
      "text/plain": [
       "Gathering CWE requests for issue 2834872594:   0%|          | 0/881 [00:00<?, ?it/s]"
      ]
     },
     "metadata": {},
     "output_type": "display_data"
    },
    {
     "data": {
      "application/vnd.jupyter.widget-view+json": {
       "model_id": "3ca9caef2e1643e787ba83c643eb14a7",
       "version_major": 2,
       "version_minor": 0
      },
      "text/plain": [
       "Writing issue 2834872594 batch files:   0%|          | 0/25 [00:00<?, ?it/s]"
      ]
     },
     "metadata": {},
     "output_type": "display_data"
    },
    {
     "data": {
      "application/vnd.jupyter.widget-view+json": {
       "model_id": "7c581146186248f493ea963169542b70",
       "version_major": 2,
       "version_minor": 0
      },
      "text/plain": [
       "Gathering CWE requests for issue 1908102486:   0%|          | 0/881 [00:00<?, ?it/s]"
      ]
     },
     "metadata": {},
     "output_type": "display_data"
    },
    {
     "data": {
      "application/vnd.jupyter.widget-view+json": {
       "model_id": "42719e6d5b254464aaa3038523ca23c6",
       "version_major": 2,
       "version_minor": 0
      },
      "text/plain": [
       "Writing issue 1908102486 batch files:   0%|          | 0/25 [00:00<?, ?it/s]"
      ]
     },
     "metadata": {},
     "output_type": "display_data"
    },
    {
     "data": {
      "application/vnd.jupyter.widget-view+json": {
       "model_id": "a97a700419674547b0b929ee3e137efd",
       "version_major": 2,
       "version_minor": 0
      },
      "text/plain": [
       "Gathering CWE requests for issue 499963127:   0%|          | 0/881 [00:00<?, ?it/s]"
      ]
     },
     "metadata": {},
     "output_type": "display_data"
    },
    {
     "data": {
      "application/vnd.jupyter.widget-view+json": {
       "model_id": "ca5da8e4581e4c1db5f7f38730b52678",
       "version_major": 2,
       "version_minor": 0
      },
      "text/plain": [
       "Writing issue 499963127 batch files:   0%|          | 0/25 [00:00<?, ?it/s]"
      ]
     },
     "metadata": {},
     "output_type": "display_data"
    },
    {
     "data": {
      "application/vnd.jupyter.widget-view+json": {
       "model_id": "b583c0094813476b90ad991fa211242f",
       "version_major": 2,
       "version_minor": 0
      },
      "text/plain": [
       "Gathering CWE requests for issue 2017703288:   0%|          | 0/881 [00:00<?, ?it/s]"
      ]
     },
     "metadata": {},
     "output_type": "display_data"
    },
    {
     "data": {
      "application/vnd.jupyter.widget-view+json": {
       "model_id": "57568c584f2b4f44b147b2baeb008a26",
       "version_major": 2,
       "version_minor": 0
      },
      "text/plain": [
       "Writing issue 2017703288 batch files:   0%|          | 0/25 [00:00<?, ?it/s]"
      ]
     },
     "metadata": {},
     "output_type": "display_data"
    },
    {
     "data": {
      "application/vnd.jupyter.widget-view+json": {
       "model_id": "4b24a8e24556461d93225cb6c7e2ef4d",
       "version_major": 2,
       "version_minor": 0
      },
      "text/plain": [
       "Gathering CWE requests for issue 2628754824:   0%|          | 0/881 [00:00<?, ?it/s]"
      ]
     },
     "metadata": {},
     "output_type": "display_data"
    },
    {
     "data": {
      "application/vnd.jupyter.widget-view+json": {
       "model_id": "6dbc39969f1146aba14ddd3df9ff6c60",
       "version_major": 2,
       "version_minor": 0
      },
      "text/plain": [
       "Writing issue 2628754824 batch files:   0%|          | 0/25 [00:00<?, ?it/s]"
      ]
     },
     "metadata": {},
     "output_type": "display_data"
    },
    {
     "data": {
      "application/vnd.jupyter.widget-view+json": {
       "model_id": "8f211cd9957a415f8a58a56b8d67bcb6",
       "version_major": 2,
       "version_minor": 0
      },
      "text/plain": [
       "Gathering CWE requests for issue 2039038848:   0%|          | 0/881 [00:00<?, ?it/s]"
      ]
     },
     "metadata": {},
     "output_type": "display_data"
    },
    {
     "data": {
      "application/vnd.jupyter.widget-view+json": {
       "model_id": "32b06565d7a446438d7f267196e2421d",
       "version_major": 2,
       "version_minor": 0
      },
      "text/plain": [
       "Writing issue 2039038848 batch files:   0%|          | 0/25 [00:00<?, ?it/s]"
      ]
     },
     "metadata": {},
     "output_type": "display_data"
    },
    {
     "data": {
      "application/vnd.jupyter.widget-view+json": {
       "model_id": "2086fd360b694862ad6dd7c680ebaf61",
       "version_major": 2,
       "version_minor": 0
      },
      "text/plain": [
       "Gathering CWE requests for issue 2872888299:   0%|          | 0/881 [00:00<?, ?it/s]"
      ]
     },
     "metadata": {},
     "output_type": "display_data"
    },
    {
     "data": {
      "application/vnd.jupyter.widget-view+json": {
       "model_id": "a278e3fb74334287bfd35d6dcae7556e",
       "version_major": 2,
       "version_minor": 0
      },
      "text/plain": [
       "Writing issue 2872888299 batch files:   0%|          | 0/25 [00:00<?, ?it/s]"
      ]
     },
     "metadata": {},
     "output_type": "display_data"
    },
    {
     "data": {
      "application/vnd.jupyter.widget-view+json": {
       "model_id": "abeec10236c54ae68c5d5b3365b7cecb",
       "version_major": 2,
       "version_minor": 0
      },
      "text/plain": [
       "Gathering CWE requests for issue 1902619338:   0%|          | 0/881 [00:00<?, ?it/s]"
      ]
     },
     "metadata": {},
     "output_type": "display_data"
    },
    {
     "data": {
      "application/vnd.jupyter.widget-view+json": {
       "model_id": "1897f8f2baac45e4bd3203d283af6de8",
       "version_major": 2,
       "version_minor": 0
      },
      "text/plain": [
       "Writing issue 1902619338 batch files:   0%|          | 0/25 [00:00<?, ?it/s]"
      ]
     },
     "metadata": {},
     "output_type": "display_data"
    },
    {
     "data": {
      "application/vnd.jupyter.widget-view+json": {
       "model_id": "de27ff0abd9842abb315ef3b7403bed0",
       "version_major": 2,
       "version_minor": 0
      },
      "text/plain": [
       "Gathering CWE requests for issue 2269395765:   0%|          | 0/881 [00:00<?, ?it/s]"
      ]
     },
     "metadata": {},
     "output_type": "display_data"
    },
    {
     "data": {
      "application/vnd.jupyter.widget-view+json": {
       "model_id": "0af9e4455f0e43eeb2eaae3e2de30292",
       "version_major": 2,
       "version_minor": 0
      },
      "text/plain": [
       "Writing issue 2269395765 batch files:   0%|          | 0/25 [00:00<?, ?it/s]"
      ]
     },
     "metadata": {},
     "output_type": "display_data"
    },
    {
     "data": {
      "application/vnd.jupyter.widget-view+json": {
       "model_id": "f596d3500cbf47c7a848f8a31c2609c9",
       "version_major": 2,
       "version_minor": 0
      },
      "text/plain": [
       "Gathering CWE requests for issue 977667116:   0%|          | 0/881 [00:00<?, ?it/s]"
      ]
     },
     "metadata": {},
     "output_type": "display_data"
    },
    {
     "data": {
      "application/vnd.jupyter.widget-view+json": {
       "model_id": "ee286855753147d19d507dc62a8f55a0",
       "version_major": 2,
       "version_minor": 0
      },
      "text/plain": [
       "Writing issue 977667116 batch files:   0%|          | 0/25 [00:00<?, ?it/s]"
      ]
     },
     "metadata": {},
     "output_type": "display_data"
    },
    {
     "data": {
      "application/vnd.jupyter.widget-view+json": {
       "model_id": "d46fbec7ce9142f5972da9c752f72a28",
       "version_major": 2,
       "version_minor": 0
      },
      "text/plain": [
       "Gathering CWE requests for issue 1982605023:   0%|          | 0/881 [00:00<?, ?it/s]"
      ]
     },
     "metadata": {},
     "output_type": "display_data"
    },
    {
     "data": {
      "application/vnd.jupyter.widget-view+json": {
       "model_id": "3a045a4c9cb744a0a1583c487b6d40bb",
       "version_major": 2,
       "version_minor": 0
      },
      "text/plain": [
       "Writing issue 1982605023 batch files:   0%|          | 0/25 [00:00<?, ?it/s]"
      ]
     },
     "metadata": {},
     "output_type": "display_data"
    },
    {
     "data": {
      "application/vnd.jupyter.widget-view+json": {
       "model_id": "d8e5d2b964374ce4bf3dbf6b12c442d2",
       "version_major": 2,
       "version_minor": 0
      },
      "text/plain": [
       "Gathering CWE requests for issue 1610494409:   0%|          | 0/881 [00:00<?, ?it/s]"
      ]
     },
     "metadata": {},
     "output_type": "display_data"
    },
    {
     "data": {
      "application/vnd.jupyter.widget-view+json": {
       "model_id": "ea37d390812a4b2db8faace8b91801a3",
       "version_major": 2,
       "version_minor": 0
      },
      "text/plain": [
       "Writing issue 1610494409 batch files:   0%|          | 0/25 [00:00<?, ?it/s]"
      ]
     },
     "metadata": {},
     "output_type": "display_data"
    },
    {
     "data": {
      "application/vnd.jupyter.widget-view+json": {
       "model_id": "afcc273d6b144be2a79ac44de0c5d03b",
       "version_major": 2,
       "version_minor": 0
      },
      "text/plain": [
       "Gathering CWE requests for issue 2201761538:   0%|          | 0/881 [00:00<?, ?it/s]"
      ]
     },
     "metadata": {},
     "output_type": "display_data"
    },
    {
     "data": {
      "application/vnd.jupyter.widget-view+json": {
       "model_id": "e69eb36146c244b0a9a4f078e1d5b38d",
       "version_major": 2,
       "version_minor": 0
      },
      "text/plain": [
       "Writing issue 2201761538 batch files:   0%|          | 0/25 [00:00<?, ?it/s]"
      ]
     },
     "metadata": {},
     "output_type": "display_data"
    },
    {
     "data": {
      "application/vnd.jupyter.widget-view+json": {
       "model_id": "3e756ee1f13f44868b2f983c898ecb7e",
       "version_major": 2,
       "version_minor": 0
      },
      "text/plain": [
       "Gathering CWE requests for issue 1668648319:   0%|          | 0/881 [00:00<?, ?it/s]"
      ]
     },
     "metadata": {},
     "output_type": "display_data"
    },
    {
     "data": {
      "application/vnd.jupyter.widget-view+json": {
       "model_id": "7f6f7a8ef8c444ec9e11c94b4e5df315",
       "version_major": 2,
       "version_minor": 0
      },
      "text/plain": [
       "Writing issue 1668648319 batch files:   0%|          | 0/25 [00:00<?, ?it/s]"
      ]
     },
     "metadata": {},
     "output_type": "display_data"
    },
    {
     "data": {
      "application/vnd.jupyter.widget-view+json": {
       "model_id": "493c1f7ac6b7494aafb71d04d2a96f74",
       "version_major": 2,
       "version_minor": 0
      },
      "text/plain": [
       "Gathering CWE requests for issue 1971994862:   0%|          | 0/881 [00:00<?, ?it/s]"
      ]
     },
     "metadata": {},
     "output_type": "display_data"
    },
    {
     "data": {
      "application/vnd.jupyter.widget-view+json": {
       "model_id": "6677c6f54bc948f5ab61efbd41c8bcef",
       "version_major": 2,
       "version_minor": 0
      },
      "text/plain": [
       "Writing issue 1971994862 batch files:   0%|          | 0/25 [00:00<?, ?it/s]"
      ]
     },
     "metadata": {},
     "output_type": "display_data"
    },
    {
     "data": {
      "application/vnd.jupyter.widget-view+json": {
       "model_id": "5c56caa0eb06497e817c6fcdb127ce3d",
       "version_major": 2,
       "version_minor": 0
      },
      "text/plain": [
       "Gathering CWE requests for issue 977975107:   0%|          | 0/881 [00:00<?, ?it/s]"
      ]
     },
     "metadata": {},
     "output_type": "display_data"
    },
    {
     "data": {
      "application/vnd.jupyter.widget-view+json": {
       "model_id": "9d5130a72d614a229f5112472622efb0",
       "version_major": 2,
       "version_minor": 0
      },
      "text/plain": [
       "Writing issue 977975107 batch files:   0%|          | 0/25 [00:00<?, ?it/s]"
      ]
     },
     "metadata": {},
     "output_type": "display_data"
    },
    {
     "data": {
      "application/vnd.jupyter.widget-view+json": {
       "model_id": "1dcac6e2e5554082aa059784a915f4e2",
       "version_major": 2,
       "version_minor": 0
      },
      "text/plain": [
       "Gathering CWE requests for issue 1088201752:   0%|          | 0/881 [00:00<?, ?it/s]"
      ]
     },
     "metadata": {},
     "output_type": "display_data"
    },
    {
     "data": {
      "application/vnd.jupyter.widget-view+json": {
       "model_id": "dc28703a41ef4cc58c87af236bdb2ae3",
       "version_major": 2,
       "version_minor": 0
      },
      "text/plain": [
       "Writing issue 1088201752 batch files:   0%|          | 0/25 [00:00<?, ?it/s]"
      ]
     },
     "metadata": {},
     "output_type": "display_data"
    },
    {
     "data": {
      "application/vnd.jupyter.widget-view+json": {
       "model_id": "7411e9ca2d7a4e57a7b5edcefcd5df5f",
       "version_major": 2,
       "version_minor": 0
      },
      "text/plain": [
       "Gathering CWE requests for issue 1323351878:   0%|          | 0/881 [00:00<?, ?it/s]"
      ]
     },
     "metadata": {},
     "output_type": "display_data"
    },
    {
     "data": {
      "application/vnd.jupyter.widget-view+json": {
       "model_id": "f5b9dfc73ff940d595c4971988e02c25",
       "version_major": 2,
       "version_minor": 0
      },
      "text/plain": [
       "Writing issue 1323351878 batch files:   0%|          | 0/25 [00:00<?, ?it/s]"
      ]
     },
     "metadata": {},
     "output_type": "display_data"
    },
    {
     "data": {
      "application/vnd.jupyter.widget-view+json": {
       "model_id": "691d1fb90be94baeb3e7dd200777c975",
       "version_major": 2,
       "version_minor": 0
      },
      "text/plain": [
       "Gathering CWE requests for issue 1951682886:   0%|          | 0/881 [00:00<?, ?it/s]"
      ]
     },
     "metadata": {},
     "output_type": "display_data"
    },
    {
     "data": {
      "application/vnd.jupyter.widget-view+json": {
       "model_id": "334ba8ad200a49d595bfdcc9f608d002",
       "version_major": 2,
       "version_minor": 0
      },
      "text/plain": [
       "Writing issue 1951682886 batch files:   0%|          | 0/25 [00:00<?, ?it/s]"
      ]
     },
     "metadata": {},
     "output_type": "display_data"
    },
    {
     "data": {
      "application/vnd.jupyter.widget-view+json": {
       "model_id": "d6ea6c1ccd744f69878f95a4f47710f5",
       "version_major": 2,
       "version_minor": 0
      },
      "text/plain": [
       "Gathering CWE requests for issue 872144270:   0%|          | 0/881 [00:00<?, ?it/s]"
      ]
     },
     "metadata": {},
     "output_type": "display_data"
    },
    {
     "data": {
      "application/vnd.jupyter.widget-view+json": {
       "model_id": "35a20177695a4785aa737c47eadb2344",
       "version_major": 2,
       "version_minor": 0
      },
      "text/plain": [
       "Writing issue 872144270 batch files:   0%|          | 0/25 [00:00<?, ?it/s]"
      ]
     },
     "metadata": {},
     "output_type": "display_data"
    },
    {
     "data": {
      "application/vnd.jupyter.widget-view+json": {
       "model_id": "e57fc80a7e154148940d7b229b872c7c",
       "version_major": 2,
       "version_minor": 0
      },
      "text/plain": [
       "Gathering CWE requests for issue 1075710248:   0%|          | 0/881 [00:00<?, ?it/s]"
      ]
     },
     "metadata": {},
     "output_type": "display_data"
    },
    {
     "data": {
      "application/vnd.jupyter.widget-view+json": {
       "model_id": "e19ef2fc61de48d1a1b10351e1e28580",
       "version_major": 2,
       "version_minor": 0
      },
      "text/plain": [
       "Writing issue 1075710248 batch files:   0%|          | 0/25 [00:00<?, ?it/s]"
      ]
     },
     "metadata": {},
     "output_type": "display_data"
    },
    {
     "data": {
      "application/vnd.jupyter.widget-view+json": {
       "model_id": "c0c10af166f947068d4664a88db21a24",
       "version_major": 2,
       "version_minor": 0
      },
      "text/plain": [
       "Gathering CWE requests for issue 2031418685:   0%|          | 0/881 [00:00<?, ?it/s]"
      ]
     },
     "metadata": {},
     "output_type": "display_data"
    },
    {
     "data": {
      "application/vnd.jupyter.widget-view+json": {
       "model_id": "b66b9b2dab6747d98e3bd73c1863ffb6",
       "version_major": 2,
       "version_minor": 0
      },
      "text/plain": [
       "Writing issue 2031418685 batch files:   0%|          | 0/25 [00:00<?, ?it/s]"
      ]
     },
     "metadata": {},
     "output_type": "display_data"
    },
    {
     "data": {
      "application/vnd.jupyter.widget-view+json": {
       "model_id": "bf09b4eb607844e3baee1df1fd3085ff",
       "version_major": 2,
       "version_minor": 0
      },
      "text/plain": [
       "Gathering CWE requests for issue 2261505837:   0%|          | 0/881 [00:00<?, ?it/s]"
      ]
     },
     "metadata": {},
     "output_type": "display_data"
    },
    {
     "data": {
      "application/vnd.jupyter.widget-view+json": {
       "model_id": "a8b2c351f1904645a0ade1264b0656ef",
       "version_major": 2,
       "version_minor": 0
      },
      "text/plain": [
       "Writing issue 2261505837 batch files:   0%|          | 0/25 [00:00<?, ?it/s]"
      ]
     },
     "metadata": {},
     "output_type": "display_data"
    },
    {
     "data": {
      "application/vnd.jupyter.widget-view+json": {
       "model_id": "1bcf229abd34486f8158454f4fc26980",
       "version_major": 2,
       "version_minor": 0
      },
      "text/plain": [
       "Gathering CWE requests for issue 893015886:   0%|          | 0/881 [00:00<?, ?it/s]"
      ]
     },
     "metadata": {},
     "output_type": "display_data"
    },
    {
     "data": {
      "application/vnd.jupyter.widget-view+json": {
       "model_id": "612d350c0d424cea95e57faea297067c",
       "version_major": 2,
       "version_minor": 0
      },
      "text/plain": [
       "Writing issue 893015886 batch files:   0%|          | 0/25 [00:00<?, ?it/s]"
      ]
     },
     "metadata": {},
     "output_type": "display_data"
    },
    {
     "data": {
      "application/vnd.jupyter.widget-view+json": {
       "model_id": "8b27fbf319264224b01012f57c8ebe78",
       "version_major": 2,
       "version_minor": 0
      },
      "text/plain": [
       "Gathering CWE requests for issue 1665064064:   0%|          | 0/881 [00:00<?, ?it/s]"
      ]
     },
     "metadata": {},
     "output_type": "display_data"
    },
    {
     "data": {
      "application/vnd.jupyter.widget-view+json": {
       "model_id": "f5be239da22449e1b66033fc5660df9d",
       "version_major": 2,
       "version_minor": 0
      },
      "text/plain": [
       "Writing issue 1665064064 batch files:   0%|          | 0/25 [00:00<?, ?it/s]"
      ]
     },
     "metadata": {},
     "output_type": "display_data"
    },
    {
     "data": {
      "application/vnd.jupyter.widget-view+json": {
       "model_id": "5b5e572e59014fc1ae9f83da07f54c7b",
       "version_major": 2,
       "version_minor": 0
      },
      "text/plain": [
       "Gathering CWE requests for issue 1867152632:   0%|          | 0/881 [00:00<?, ?it/s]"
      ]
     },
     "metadata": {},
     "output_type": "display_data"
    },
    {
     "data": {
      "application/vnd.jupyter.widget-view+json": {
       "model_id": "ad99ce0d290c4e8bb1062bc91559b549",
       "version_major": 2,
       "version_minor": 0
      },
      "text/plain": [
       "Writing issue 1867152632 batch files:   0%|          | 0/25 [00:00<?, ?it/s]"
      ]
     },
     "metadata": {},
     "output_type": "display_data"
    },
    {
     "data": {
      "application/vnd.jupyter.widget-view+json": {
       "model_id": "a6c9d71f6cdf4fbfa2e560eea55ea95d",
       "version_major": 2,
       "version_minor": 0
      },
      "text/plain": [
       "Gathering CWE requests for issue 1091426355:   0%|          | 0/881 [00:00<?, ?it/s]"
      ]
     },
     "metadata": {},
     "output_type": "display_data"
    },
    {
     "data": {
      "application/vnd.jupyter.widget-view+json": {
       "model_id": "abf5cb07e0b3401a9b4cabfb1ad08d6d",
       "version_major": 2,
       "version_minor": 0
      },
      "text/plain": [
       "Writing issue 1091426355 batch files:   0%|          | 0/25 [00:00<?, ?it/s]"
      ]
     },
     "metadata": {},
     "output_type": "display_data"
    },
    {
     "data": {
      "application/vnd.jupyter.widget-view+json": {
       "model_id": "02b8b441edf6447fa8b9f25f652bfde2",
       "version_major": 2,
       "version_minor": 0
      },
      "text/plain": [
       "Gathering CWE requests for issue 1126773705:   0%|          | 0/881 [00:00<?, ?it/s]"
      ]
     },
     "metadata": {},
     "output_type": "display_data"
    },
    {
     "data": {
      "application/vnd.jupyter.widget-view+json": {
       "model_id": "860fc1b1967642d6b7f2d14c76dd014d",
       "version_major": 2,
       "version_minor": 0
      },
      "text/plain": [
       "Writing issue 1126773705 batch files:   0%|          | 0/25 [00:00<?, ?it/s]"
      ]
     },
     "metadata": {},
     "output_type": "display_data"
    },
    {
     "data": {
      "application/vnd.jupyter.widget-view+json": {
       "model_id": "a19d7f8af8474305baf79ff14ffb4899",
       "version_major": 2,
       "version_minor": 0
      },
      "text/plain": [
       "Gathering CWE requests for issue 544417280:   0%|          | 0/881 [00:00<?, ?it/s]"
      ]
     },
     "metadata": {},
     "output_type": "display_data"
    },
    {
     "data": {
      "application/vnd.jupyter.widget-view+json": {
       "model_id": "947ac1c8c17a4ec787421b65fd4756ce",
       "version_major": 2,
       "version_minor": 0
      },
      "text/plain": [
       "Writing issue 544417280 batch files:   0%|          | 0/25 [00:00<?, ?it/s]"
      ]
     },
     "metadata": {},
     "output_type": "display_data"
    },
    {
     "data": {
      "application/vnd.jupyter.widget-view+json": {
       "model_id": "34d003fa4f7347c2937825d2d2c33fd3",
       "version_major": 2,
       "version_minor": 0
      },
      "text/plain": [
       "Gathering CWE requests for issue 2035010246:   0%|          | 0/881 [00:00<?, ?it/s]"
      ]
     },
     "metadata": {},
     "output_type": "display_data"
    },
    {
     "data": {
      "application/vnd.jupyter.widget-view+json": {
       "model_id": "3cce65dae06d4afab8648128251ea507",
       "version_major": 2,
       "version_minor": 0
      },
      "text/plain": [
       "Writing issue 2035010246 batch files:   0%|          | 0/25 [00:00<?, ?it/s]"
      ]
     },
     "metadata": {},
     "output_type": "display_data"
    },
    {
     "data": {
      "application/vnd.jupyter.widget-view+json": {
       "model_id": "80fa744bbc584639a99ebd9d90be7367",
       "version_major": 2,
       "version_minor": 0
      },
      "text/plain": [
       "Gathering CWE requests for issue 1928148117:   0%|          | 0/881 [00:00<?, ?it/s]"
      ]
     },
     "metadata": {},
     "output_type": "display_data"
    },
    {
     "data": {
      "application/vnd.jupyter.widget-view+json": {
       "model_id": "1fb3782d10fd4240a460965bc2284b50",
       "version_major": 2,
       "version_minor": 0
      },
      "text/plain": [
       "Writing issue 1928148117 batch files:   0%|          | 0/25 [00:00<?, ?it/s]"
      ]
     },
     "metadata": {},
     "output_type": "display_data"
    },
    {
     "data": {
      "application/vnd.jupyter.widget-view+json": {
       "model_id": "11201cafe08f47b3807be8cc1346303e",
       "version_major": 2,
       "version_minor": 0
      },
      "text/plain": [
       "Gathering CWE requests for issue 853037887:   0%|          | 0/881 [00:00<?, ?it/s]"
      ]
     },
     "metadata": {},
     "output_type": "display_data"
    },
    {
     "data": {
      "application/vnd.jupyter.widget-view+json": {
       "model_id": "8467b6b382ac45a2b56c5a61041fb74f",
       "version_major": 2,
       "version_minor": 0
      },
      "text/plain": [
       "Writing issue 853037887 batch files:   0%|          | 0/25 [00:00<?, ?it/s]"
      ]
     },
     "metadata": {},
     "output_type": "display_data"
    },
    {
     "data": {
      "application/vnd.jupyter.widget-view+json": {
       "model_id": "c8b3acaf10344c3c9f47f7eefa12c2ec",
       "version_major": 2,
       "version_minor": 0
      },
      "text/plain": [
       "Gathering CWE requests for issue 2673211184:   0%|          | 0/881 [00:00<?, ?it/s]"
      ]
     },
     "metadata": {},
     "output_type": "display_data"
    },
    {
     "data": {
      "application/vnd.jupyter.widget-view+json": {
       "model_id": "31a1aece4fb44897807b8eedc4e2a634",
       "version_major": 2,
       "version_minor": 0
      },
      "text/plain": [
       "Writing issue 2673211184 batch files:   0%|          | 0/25 [00:00<?, ?it/s]"
      ]
     },
     "metadata": {},
     "output_type": "display_data"
    },
    {
     "data": {
      "application/vnd.jupyter.widget-view+json": {
       "model_id": "ccd713d5a78b412b85301346f43445b2",
       "version_major": 2,
       "version_minor": 0
      },
      "text/plain": [
       "Gathering CWE requests for issue 2192199552:   0%|          | 0/881 [00:00<?, ?it/s]"
      ]
     },
     "metadata": {},
     "output_type": "display_data"
    },
    {
     "data": {
      "application/vnd.jupyter.widget-view+json": {
       "model_id": "2b668d19e0a34521a7b92ca951eb74c3",
       "version_major": 2,
       "version_minor": 0
      },
      "text/plain": [
       "Writing issue 2192199552 batch files:   0%|          | 0/25 [00:00<?, ?it/s]"
      ]
     },
     "metadata": {},
     "output_type": "display_data"
    },
    {
     "data": {
      "application/vnd.jupyter.widget-view+json": {
       "model_id": "4fead91b990a4e9e8d5994afe6e2ea68",
       "version_major": 2,
       "version_minor": 0
      },
      "text/plain": [
       "Gathering CWE requests for issue 2268736942:   0%|          | 0/881 [00:00<?, ?it/s]"
      ]
     },
     "metadata": {},
     "output_type": "display_data"
    },
    {
     "data": {
      "application/vnd.jupyter.widget-view+json": {
       "model_id": "6829921215a244b8ae8057a198951638",
       "version_major": 2,
       "version_minor": 0
      },
      "text/plain": [
       "Writing issue 2268736942 batch files:   0%|          | 0/25 [00:00<?, ?it/s]"
      ]
     },
     "metadata": {},
     "output_type": "display_data"
    },
    {
     "data": {
      "application/vnd.jupyter.widget-view+json": {
       "model_id": "8918520f730347fb880e2d6d2d4d3d00",
       "version_major": 2,
       "version_minor": 0
      },
      "text/plain": [
       "Gathering CWE requests for issue 2105795595:   0%|          | 0/881 [00:00<?, ?it/s]"
      ]
     },
     "metadata": {},
     "output_type": "display_data"
    },
    {
     "data": {
      "application/vnd.jupyter.widget-view+json": {
       "model_id": "43aed3fa1d5943e78ad82c56db953726",
       "version_major": 2,
       "version_minor": 0
      },
      "text/plain": [
       "Writing issue 2105795595 batch files:   0%|          | 0/25 [00:00<?, ?it/s]"
      ]
     },
     "metadata": {},
     "output_type": "display_data"
    },
    {
     "data": {
      "application/vnd.jupyter.widget-view+json": {
       "model_id": "caee26e9e85f482ea2de64442492cd4d",
       "version_major": 2,
       "version_minor": 0
      },
      "text/plain": [
       "Gathering CWE requests for issue 1395738652:   0%|          | 0/881 [00:00<?, ?it/s]"
      ]
     },
     "metadata": {},
     "output_type": "display_data"
    },
    {
     "data": {
      "application/vnd.jupyter.widget-view+json": {
       "model_id": "73becfd4a6fb46799a96ffd75284db4e",
       "version_major": 2,
       "version_minor": 0
      },
      "text/plain": [
       "Writing issue 1395738652 batch files:   0%|          | 0/25 [00:00<?, ?it/s]"
      ]
     },
     "metadata": {},
     "output_type": "display_data"
    },
    {
     "data": {
      "application/vnd.jupyter.widget-view+json": {
       "model_id": "fc99e554355f40e09b32d9cf2ea92496",
       "version_major": 2,
       "version_minor": 0
      },
      "text/plain": [
       "Gathering CWE requests for issue 1670181746:   0%|          | 0/881 [00:00<?, ?it/s]"
      ]
     },
     "metadata": {},
     "output_type": "display_data"
    },
    {
     "data": {
      "application/vnd.jupyter.widget-view+json": {
       "model_id": "42a6c8a94083401295fcc13f7ed72936",
       "version_major": 2,
       "version_minor": 0
      },
      "text/plain": [
       "Writing issue 1670181746 batch files:   0%|          | 0/25 [00:00<?, ?it/s]"
      ]
     },
     "metadata": {},
     "output_type": "display_data"
    },
    {
     "data": {
      "application/vnd.jupyter.widget-view+json": {
       "model_id": "39edb648248142a888b84d2ee0781c6e",
       "version_major": 2,
       "version_minor": 0
      },
      "text/plain": [
       "Gathering CWE requests for issue 684668891:   0%|          | 0/881 [00:00<?, ?it/s]"
      ]
     },
     "metadata": {},
     "output_type": "display_data"
    },
    {
     "data": {
      "application/vnd.jupyter.widget-view+json": {
       "model_id": "502f7fbcd60f4a09bf1e8c371b0fa8b3",
       "version_major": 2,
       "version_minor": 0
      },
      "text/plain": [
       "Writing issue 684668891 batch files:   0%|          | 0/25 [00:00<?, ?it/s]"
      ]
     },
     "metadata": {},
     "output_type": "display_data"
    },
    {
     "data": {
      "application/vnd.jupyter.widget-view+json": {
       "model_id": "ea2778108b1e4d0882f80fae4bb064a3",
       "version_major": 2,
       "version_minor": 0
      },
      "text/plain": [
       "Gathering CWE requests for issue 1943619176:   0%|          | 0/881 [00:00<?, ?it/s]"
      ]
     },
     "metadata": {},
     "output_type": "display_data"
    },
    {
     "data": {
      "application/vnd.jupyter.widget-view+json": {
       "model_id": "8e3b0f5a4d424159b8aeb0fa8be0423a",
       "version_major": 2,
       "version_minor": 0
      },
      "text/plain": [
       "Writing issue 1943619176 batch files:   0%|          | 0/25 [00:00<?, ?it/s]"
      ]
     },
     "metadata": {},
     "output_type": "display_data"
    },
    {
     "data": {
      "application/vnd.jupyter.widget-view+json": {
       "model_id": "02093d203a7d448698f87ad258f44981",
       "version_major": 2,
       "version_minor": 0
      },
      "text/plain": [
       "Gathering CWE requests for issue 872155736:   0%|          | 0/881 [00:00<?, ?it/s]"
      ]
     },
     "metadata": {},
     "output_type": "display_data"
    },
    {
     "data": {
      "application/vnd.jupyter.widget-view+json": {
       "model_id": "2388792afafa44b6ae1da2605dba7635",
       "version_major": 2,
       "version_minor": 0
      },
      "text/plain": [
       "Writing issue 872155736 batch files:   0%|          | 0/25 [00:00<?, ?it/s]"
      ]
     },
     "metadata": {},
     "output_type": "display_data"
    },
    {
     "data": {
      "application/vnd.jupyter.widget-view+json": {
       "model_id": "35f923bccf47449b9aed1c961a4f7e34",
       "version_major": 2,
       "version_minor": 0
      },
      "text/plain": [
       "Gathering CWE requests for issue 1665089526:   0%|          | 0/881 [00:00<?, ?it/s]"
      ]
     },
     "metadata": {},
     "output_type": "display_data"
    },
    {
     "data": {
      "application/vnd.jupyter.widget-view+json": {
       "model_id": "8810483a219b4ce194afcebda7537d06",
       "version_major": 2,
       "version_minor": 0
      },
      "text/plain": [
       "Writing issue 1665089526 batch files:   0%|          | 0/25 [00:00<?, ?it/s]"
      ]
     },
     "metadata": {},
     "output_type": "display_data"
    },
    {
     "data": {
      "application/vnd.jupyter.widget-view+json": {
       "model_id": "ec57493533654ef19359fe476321b35c",
       "version_major": 2,
       "version_minor": 0
      },
      "text/plain": [
       "Gathering CWE requests for issue 2348155759:   0%|          | 0/881 [00:00<?, ?it/s]"
      ]
     },
     "metadata": {},
     "output_type": "display_data"
    },
    {
     "data": {
      "application/vnd.jupyter.widget-view+json": {
       "model_id": "0235c23f73284e189095039ebddd7caa",
       "version_major": 2,
       "version_minor": 0
      },
      "text/plain": [
       "Writing issue 2348155759 batch files:   0%|          | 0/25 [00:00<?, ?it/s]"
      ]
     },
     "metadata": {},
     "output_type": "display_data"
    },
    {
     "data": {
      "application/vnd.jupyter.widget-view+json": {
       "model_id": "bde5b108fc484c65a7d0bc0d1adc7417",
       "version_major": 2,
       "version_minor": 0
      },
      "text/plain": [
       "Gathering CWE requests for issue 1665070884:   0%|          | 0/881 [00:00<?, ?it/s]"
      ]
     },
     "metadata": {},
     "output_type": "display_data"
    },
    {
     "data": {
      "application/vnd.jupyter.widget-view+json": {
       "model_id": "a6bba39b813047509f7d8c2b368eb9ce",
       "version_major": 2,
       "version_minor": 0
      },
      "text/plain": [
       "Writing issue 1665070884 batch files:   0%|          | 0/25 [00:00<?, ?it/s]"
      ]
     },
     "metadata": {},
     "output_type": "display_data"
    },
    {
     "data": {
      "application/vnd.jupyter.widget-view+json": {
       "model_id": "6b0b239e22de4a378abec1dbbff788ff",
       "version_major": 2,
       "version_minor": 0
      },
      "text/plain": [
       "Gathering CWE requests for issue 976075255:   0%|          | 0/881 [00:00<?, ?it/s]"
      ]
     },
     "metadata": {},
     "output_type": "display_data"
    },
    {
     "data": {
      "application/vnd.jupyter.widget-view+json": {
       "model_id": "f929172d6bb644eb8986a24c4dcb9bae",
       "version_major": 2,
       "version_minor": 0
      },
      "text/plain": [
       "Writing issue 976075255 batch files:   0%|          | 0/25 [00:00<?, ?it/s]"
      ]
     },
     "metadata": {},
     "output_type": "display_data"
    },
    {
     "data": {
      "application/vnd.jupyter.widget-view+json": {
       "model_id": "00c6aae9be634873ae13f13bc2e37ea3",
       "version_major": 2,
       "version_minor": 0
      },
      "text/plain": [
       "Gathering CWE requests for issue 1228840395:   0%|          | 0/881 [00:00<?, ?it/s]"
      ]
     },
     "metadata": {},
     "output_type": "display_data"
    },
    {
     "data": {
      "application/vnd.jupyter.widget-view+json": {
       "model_id": "c5b2c094ea1744f2bf61000449d0cf52",
       "version_major": 2,
       "version_minor": 0
      },
      "text/plain": [
       "Writing issue 1228840395 batch files:   0%|          | 0/25 [00:00<?, ?it/s]"
      ]
     },
     "metadata": {},
     "output_type": "display_data"
    },
    {
     "data": {
      "application/vnd.jupyter.widget-view+json": {
       "model_id": "a0ebc5dc306341b192effdf4b73f63d1",
       "version_major": 2,
       "version_minor": 0
      },
      "text/plain": [
       "Gathering CWE requests for issue 1664162150:   0%|          | 0/881 [00:00<?, ?it/s]"
      ]
     },
     "metadata": {},
     "output_type": "display_data"
    },
    {
     "data": {
      "application/vnd.jupyter.widget-view+json": {
       "model_id": "7513a3c81af442f69ec355b02e09e7de",
       "version_major": 2,
       "version_minor": 0
      },
      "text/plain": [
       "Writing issue 1664162150 batch files:   0%|          | 0/25 [00:00<?, ?it/s]"
      ]
     },
     "metadata": {},
     "output_type": "display_data"
    },
    {
     "data": {
      "application/vnd.jupyter.widget-view+json": {
       "model_id": "2c285f4b87a244db9b1dcd568d81db07",
       "version_major": 2,
       "version_minor": 0
      },
      "text/plain": [
       "Gathering CWE requests for issue 409659238:   0%|          | 0/881 [00:00<?, ?it/s]"
      ]
     },
     "metadata": {},
     "output_type": "display_data"
    },
    {
     "data": {
      "application/vnd.jupyter.widget-view+json": {
       "model_id": "4c45eb6944f043d8970acdbe903bc2e6",
       "version_major": 2,
       "version_minor": 0
      },
      "text/plain": [
       "Writing issue 409659238 batch files:   0%|          | 0/25 [00:00<?, ?it/s]"
      ]
     },
     "metadata": {},
     "output_type": "display_data"
    },
    {
     "data": {
      "application/vnd.jupyter.widget-view+json": {
       "model_id": "e22b50ab8431424f9e718eada9b136ee",
       "version_major": 2,
       "version_minor": 0
      },
      "text/plain": [
       "Gathering CWE requests for issue 1815107354:   0%|          | 0/881 [00:00<?, ?it/s]"
      ]
     },
     "metadata": {},
     "output_type": "display_data"
    },
    {
     "data": {
      "application/vnd.jupyter.widget-view+json": {
       "model_id": "11f25389df1b4c29a3abc02ba89dda04",
       "version_major": 2,
       "version_minor": 0
      },
      "text/plain": [
       "Writing issue 1815107354 batch files:   0%|          | 0/25 [00:00<?, ?it/s]"
      ]
     },
     "metadata": {},
     "output_type": "display_data"
    },
    {
     "data": {
      "application/vnd.jupyter.widget-view+json": {
       "model_id": "4eca7d4104844f2c81d54e3e7901fa29",
       "version_major": 2,
       "version_minor": 0
      },
      "text/plain": [
       "Gathering CWE requests for issue 1618118032:   0%|          | 0/881 [00:00<?, ?it/s]"
      ]
     },
     "metadata": {},
     "output_type": "display_data"
    },
    {
     "data": {
      "application/vnd.jupyter.widget-view+json": {
       "model_id": "3a3f36cb791b4478beaa226b161fdf62",
       "version_major": 2,
       "version_minor": 0
      },
      "text/plain": [
       "Writing issue 1618118032 batch files:   0%|          | 0/25 [00:00<?, ?it/s]"
      ]
     },
     "metadata": {},
     "output_type": "display_data"
    },
    {
     "data": {
      "application/vnd.jupyter.widget-view+json": {
       "model_id": "4e254200300f4f2abfc512be0f6791e4",
       "version_major": 2,
       "version_minor": 0
      },
      "text/plain": [
       "Gathering CWE requests for issue 757368290:   0%|          | 0/881 [00:00<?, ?it/s]"
      ]
     },
     "metadata": {},
     "output_type": "display_data"
    },
    {
     "data": {
      "application/vnd.jupyter.widget-view+json": {
       "model_id": "e3ad2a87f75d4c9aafff753fe11f8490",
       "version_major": 2,
       "version_minor": 0
      },
      "text/plain": [
       "Writing issue 757368290 batch files:   0%|          | 0/25 [00:00<?, ?it/s]"
      ]
     },
     "metadata": {},
     "output_type": "display_data"
    },
    {
     "data": {
      "application/vnd.jupyter.widget-view+json": {
       "model_id": "bcca2f28d0224ca884b0f0d8768e5242",
       "version_major": 2,
       "version_minor": 0
      },
      "text/plain": [
       "Gathering CWE requests for issue 2431003805:   0%|          | 0/881 [00:00<?, ?it/s]"
      ]
     },
     "metadata": {},
     "output_type": "display_data"
    },
    {
     "data": {
      "application/vnd.jupyter.widget-view+json": {
       "model_id": "fdb9e39a5e8f4768a7d20c4875f105b1",
       "version_major": 2,
       "version_minor": 0
      },
      "text/plain": [
       "Writing issue 2431003805 batch files:   0%|          | 0/25 [00:00<?, ?it/s]"
      ]
     },
     "metadata": {},
     "output_type": "display_data"
    },
    {
     "data": {
      "application/vnd.jupyter.widget-view+json": {
       "model_id": "40d1a528d1c44849928b105f2c429928",
       "version_major": 2,
       "version_minor": 0
      },
      "text/plain": [
       "Gathering CWE requests for issue 2729023876:   0%|          | 0/881 [00:00<?, ?it/s]"
      ]
     },
     "metadata": {},
     "output_type": "display_data"
    },
    {
     "data": {
      "application/vnd.jupyter.widget-view+json": {
       "model_id": "c509934380064aa79beac028373b0443",
       "version_major": 2,
       "version_minor": 0
      },
      "text/plain": [
       "Writing issue 2729023876 batch files:   0%|          | 0/25 [00:00<?, ?it/s]"
      ]
     },
     "metadata": {},
     "output_type": "display_data"
    },
    {
     "data": {
      "application/vnd.jupyter.widget-view+json": {
       "model_id": "f8a36a570d284f4493fe14c0f12d7d9c",
       "version_major": 2,
       "version_minor": 0
      },
      "text/plain": [
       "Gathering CWE requests for issue 1469159440:   0%|          | 0/881 [00:00<?, ?it/s]"
      ]
     },
     "metadata": {},
     "output_type": "display_data"
    },
    {
     "data": {
      "application/vnd.jupyter.widget-view+json": {
       "model_id": "5839bfc452314733b1b07177c69a72f4",
       "version_major": 2,
       "version_minor": 0
      },
      "text/plain": [
       "Writing issue 1469159440 batch files:   0%|          | 0/25 [00:00<?, ?it/s]"
      ]
     },
     "metadata": {},
     "output_type": "display_data"
    },
    {
     "data": {
      "application/vnd.jupyter.widget-view+json": {
       "model_id": "49baf7151d744037bdf4907c3c5ec274",
       "version_major": 2,
       "version_minor": 0
      },
      "text/plain": [
       "Gathering CWE requests for issue 1887485959:   0%|          | 0/881 [00:00<?, ?it/s]"
      ]
     },
     "metadata": {},
     "output_type": "display_data"
    },
    {
     "data": {
      "application/vnd.jupyter.widget-view+json": {
       "model_id": "22ac3b2bf59f4dc384d60504c82b47d9",
       "version_major": 2,
       "version_minor": 0
      },
      "text/plain": [
       "Writing issue 1887485959 batch files:   0%|          | 0/25 [00:00<?, ?it/s]"
      ]
     },
     "metadata": {},
     "output_type": "display_data"
    },
    {
     "data": {
      "application/vnd.jupyter.widget-view+json": {
       "model_id": "ea1b0dd0eaab43f38355e8b31dfebfec",
       "version_major": 2,
       "version_minor": 0
      },
      "text/plain": [
       "Gathering CWE requests for issue 1262604647:   0%|          | 0/881 [00:00<?, ?it/s]"
      ]
     },
     "metadata": {},
     "output_type": "display_data"
    },
    {
     "data": {
      "application/vnd.jupyter.widget-view+json": {
       "model_id": "3295ad30a18c46e99fb2ed37a71a95ed",
       "version_major": 2,
       "version_minor": 0
      },
      "text/plain": [
       "Writing issue 1262604647 batch files:   0%|          | 0/25 [00:00<?, ?it/s]"
      ]
     },
     "metadata": {},
     "output_type": "display_data"
    },
    {
     "data": {
      "application/vnd.jupyter.widget-view+json": {
       "model_id": "a0cd5b4b0c374b00955bcecdf17802ee",
       "version_major": 2,
       "version_minor": 0
      },
      "text/plain": [
       "Gathering CWE requests for issue 2441229405:   0%|          | 0/881 [00:00<?, ?it/s]"
      ]
     },
     "metadata": {},
     "output_type": "display_data"
    },
    {
     "data": {
      "application/vnd.jupyter.widget-view+json": {
       "model_id": "e82b3fc789fe4f21a8c6884545712efe",
       "version_major": 2,
       "version_minor": 0
      },
      "text/plain": [
       "Writing issue 2441229405 batch files:   0%|          | 0/25 [00:00<?, ?it/s]"
      ]
     },
     "metadata": {},
     "output_type": "display_data"
    },
    {
     "data": {
      "application/vnd.jupyter.widget-view+json": {
       "model_id": "02827b917f764937ab5465936a93a6f9",
       "version_major": 2,
       "version_minor": 0
      },
      "text/plain": [
       "Gathering CWE requests for issue 1907505799:   0%|          | 0/881 [00:00<?, ?it/s]"
      ]
     },
     "metadata": {},
     "output_type": "display_data"
    },
    {
     "data": {
      "application/vnd.jupyter.widget-view+json": {
       "model_id": "1ce8a0e214ea4af39d8eff52347c9b36",
       "version_major": 2,
       "version_minor": 0
      },
      "text/plain": [
       "Writing issue 1907505799 batch files:   0%|          | 0/25 [00:00<?, ?it/s]"
      ]
     },
     "metadata": {},
     "output_type": "display_data"
    },
    {
     "data": {
      "application/vnd.jupyter.widget-view+json": {
       "model_id": "c76f6d641c784ee792d79c13fc580d0c",
       "version_major": 2,
       "version_minor": 0
      },
      "text/plain": [
       "Gathering CWE requests for issue 1789129297:   0%|          | 0/881 [00:00<?, ?it/s]"
      ]
     },
     "metadata": {},
     "output_type": "display_data"
    },
    {
     "data": {
      "application/vnd.jupyter.widget-view+json": {
       "model_id": "676bfc35faaf49c994f8e3203272407d",
       "version_major": 2,
       "version_minor": 0
      },
      "text/plain": [
       "Writing issue 1789129297 batch files:   0%|          | 0/25 [00:00<?, ?it/s]"
      ]
     },
     "metadata": {},
     "output_type": "display_data"
    },
    {
     "data": {
      "application/vnd.jupyter.widget-view+json": {
       "model_id": "802ad98689ce4262bc6980440eb2027e",
       "version_major": 2,
       "version_minor": 0
      },
      "text/plain": [
       "Gathering CWE requests for issue 1335610650:   0%|          | 0/881 [00:00<?, ?it/s]"
      ]
     },
     "metadata": {},
     "output_type": "display_data"
    },
    {
     "data": {
      "application/vnd.jupyter.widget-view+json": {
       "model_id": "4a846b77f182442a8e6f372b304c0436",
       "version_major": 2,
       "version_minor": 0
      },
      "text/plain": [
       "Writing issue 1335610650 batch files:   0%|          | 0/25 [00:00<?, ?it/s]"
      ]
     },
     "metadata": {},
     "output_type": "display_data"
    },
    {
     "data": {
      "application/vnd.jupyter.widget-view+json": {
       "model_id": "ba0588fffc3e4c4798fd3e40788c6ba4",
       "version_major": 2,
       "version_minor": 0
      },
      "text/plain": [
       "Gathering CWE requests for issue 1998710063:   0%|          | 0/881 [00:00<?, ?it/s]"
      ]
     },
     "metadata": {},
     "output_type": "display_data"
    },
    {
     "data": {
      "application/vnd.jupyter.widget-view+json": {
       "model_id": "ed30c64ace7249298a74620537a1066a",
       "version_major": 2,
       "version_minor": 0
      },
      "text/plain": [
       "Writing issue 1998710063 batch files:   0%|          | 0/25 [00:00<?, ?it/s]"
      ]
     },
     "metadata": {},
     "output_type": "display_data"
    },
    {
     "data": {
      "application/vnd.jupyter.widget-view+json": {
       "model_id": "3eaa84a30eb94f4398b57980a1b83d2d",
       "version_major": 2,
       "version_minor": 0
      },
      "text/plain": [
       "Gathering CWE requests for issue 2770812827:   0%|          | 0/881 [00:00<?, ?it/s]"
      ]
     },
     "metadata": {},
     "output_type": "display_data"
    },
    {
     "data": {
      "application/vnd.jupyter.widget-view+json": {
       "model_id": "4afe353c6c2f4397b150dcf64cb6d342",
       "version_major": 2,
       "version_minor": 0
      },
      "text/plain": [
       "Writing issue 2770812827 batch files:   0%|          | 0/25 [00:00<?, ?it/s]"
      ]
     },
     "metadata": {},
     "output_type": "display_data"
    },
    {
     "data": {
      "application/vnd.jupyter.widget-view+json": {
       "model_id": "da6404cf007045dca688eff6d02328ff",
       "version_major": 2,
       "version_minor": 0
      },
      "text/plain": [
       "Gathering CWE requests for issue 1504586409:   0%|          | 0/881 [00:00<?, ?it/s]"
      ]
     },
     "metadata": {},
     "output_type": "display_data"
    },
    {
     "data": {
      "application/vnd.jupyter.widget-view+json": {
       "model_id": "add8cf3dd5ba4100a77a4b1a1afa71a3",
       "version_major": 2,
       "version_minor": 0
      },
      "text/plain": [
       "Writing issue 1504586409 batch files:   0%|          | 0/25 [00:00<?, ?it/s]"
      ]
     },
     "metadata": {},
     "output_type": "display_data"
    },
    {
     "data": {
      "application/vnd.jupyter.widget-view+json": {
       "model_id": "a203804e0d304a72a53e59486ceeb3c4",
       "version_major": 2,
       "version_minor": 0
      },
      "text/plain": [
       "Gathering CWE requests for issue 2287269819:   0%|          | 0/881 [00:00<?, ?it/s]"
      ]
     },
     "metadata": {},
     "output_type": "display_data"
    },
    {
     "data": {
      "application/vnd.jupyter.widget-view+json": {
       "model_id": "ed5ab4ef80ef46899abac8e4cffdf387",
       "version_major": 2,
       "version_minor": 0
      },
      "text/plain": [
       "Writing issue 2287269819 batch files:   0%|          | 0/25 [00:00<?, ?it/s]"
      ]
     },
     "metadata": {},
     "output_type": "display_data"
    },
    {
     "data": {
      "application/vnd.jupyter.widget-view+json": {
       "model_id": "bb9ff01adac54b6dba8e4dc2ee11bd4f",
       "version_major": 2,
       "version_minor": 0
      },
      "text/plain": [
       "Gathering CWE requests for issue 2348745904:   0%|          | 0/881 [00:00<?, ?it/s]"
      ]
     },
     "metadata": {},
     "output_type": "display_data"
    },
    {
     "data": {
      "application/vnd.jupyter.widget-view+json": {
       "model_id": "181f6e7414864c5999f87c2575cf0a9a",
       "version_major": 2,
       "version_minor": 0
      },
      "text/plain": [
       "Writing issue 2348745904 batch files:   0%|          | 0/25 [00:00<?, ?it/s]"
      ]
     },
     "metadata": {},
     "output_type": "display_data"
    },
    {
     "data": {
      "application/vnd.jupyter.widget-view+json": {
       "model_id": "edfc3262bd0f4bf3b5f6a865cbf612ea",
       "version_major": 2,
       "version_minor": 0
      },
      "text/plain": [
       "Gathering CWE requests for issue 1114639129:   0%|          | 0/881 [00:00<?, ?it/s]"
      ]
     },
     "metadata": {},
     "output_type": "display_data"
    },
    {
     "data": {
      "application/vnd.jupyter.widget-view+json": {
       "model_id": "2f1749b5741e4e41a4454900638eaf1e",
       "version_major": 2,
       "version_minor": 0
      },
      "text/plain": [
       "Writing issue 1114639129 batch files:   0%|          | 0/25 [00:00<?, ?it/s]"
      ]
     },
     "metadata": {},
     "output_type": "display_data"
    },
    {
     "data": {
      "application/vnd.jupyter.widget-view+json": {
       "model_id": "bba0009ee6134260908d62a9f3cea3d5",
       "version_major": 2,
       "version_minor": 0
      },
      "text/plain": [
       "Gathering CWE requests for issue 437941914:   0%|          | 0/881 [00:00<?, ?it/s]"
      ]
     },
     "metadata": {},
     "output_type": "display_data"
    },
    {
     "data": {
      "application/vnd.jupyter.widget-view+json": {
       "model_id": "60647cafb879437f9d6ee12c4806f722",
       "version_major": 2,
       "version_minor": 0
      },
      "text/plain": [
       "Writing issue 437941914 batch files:   0%|          | 0/25 [00:00<?, ?it/s]"
      ]
     },
     "metadata": {},
     "output_type": "display_data"
    },
    {
     "data": {
      "application/vnd.jupyter.widget-view+json": {
       "model_id": "aa3bd177439342d9b5f4826bb86682f3",
       "version_major": 2,
       "version_minor": 0
      },
      "text/plain": [
       "Gathering CWE requests for issue 588652998:   0%|          | 0/881 [00:00<?, ?it/s]"
      ]
     },
     "metadata": {},
     "output_type": "display_data"
    },
    {
     "data": {
      "application/vnd.jupyter.widget-view+json": {
       "model_id": "229a59762dd14ac2a0a58dd68f6a2c6d",
       "version_major": 2,
       "version_minor": 0
      },
      "text/plain": [
       "Writing issue 588652998 batch files:   0%|          | 0/25 [00:00<?, ?it/s]"
      ]
     },
     "metadata": {},
     "output_type": "display_data"
    },
    {
     "data": {
      "application/vnd.jupyter.widget-view+json": {
       "model_id": "0eb695b611fa4a07a6f2a51127664195",
       "version_major": 2,
       "version_minor": 0
      },
      "text/plain": [
       "Gathering CWE requests for issue 2348161533:   0%|          | 0/881 [00:00<?, ?it/s]"
      ]
     },
     "metadata": {},
     "output_type": "display_data"
    },
    {
     "data": {
      "application/vnd.jupyter.widget-view+json": {
       "model_id": "62dafda486fc424a861eb607c0c64732",
       "version_major": 2,
       "version_minor": 0
      },
      "text/plain": [
       "Writing issue 2348161533 batch files:   0%|          | 0/25 [00:00<?, ?it/s]"
      ]
     },
     "metadata": {},
     "output_type": "display_data"
    },
    {
     "data": {
      "application/vnd.jupyter.widget-view+json": {
       "model_id": "f459ea4875ae4458af4b07cec53a0fb6",
       "version_major": 2,
       "version_minor": 0
      },
      "text/plain": [
       "Gathering CWE requests for issue 2267100015:   0%|          | 0/881 [00:00<?, ?it/s]"
      ]
     },
     "metadata": {},
     "output_type": "display_data"
    },
    {
     "data": {
      "application/vnd.jupyter.widget-view+json": {
       "model_id": "2685e5a041c44985b934576a6c45a659",
       "version_major": 2,
       "version_minor": 0
      },
      "text/plain": [
       "Writing issue 2267100015 batch files:   0%|          | 0/25 [00:00<?, ?it/s]"
      ]
     },
     "metadata": {},
     "output_type": "display_data"
    },
    {
     "data": {
      "application/vnd.jupyter.widget-view+json": {
       "model_id": "4c2a5c4324044f1286edc1b9ae6136c1",
       "version_major": 2,
       "version_minor": 0
      },
      "text/plain": [
       "Gathering CWE requests for issue 1168075634:   0%|          | 0/881 [00:00<?, ?it/s]"
      ]
     },
     "metadata": {},
     "output_type": "display_data"
    },
    {
     "data": {
      "application/vnd.jupyter.widget-view+json": {
       "model_id": "1194cff323b64a499e808247e784ca18",
       "version_major": 2,
       "version_minor": 0
      },
      "text/plain": [
       "Writing issue 1168075634 batch files:   0%|          | 0/25 [00:00<?, ?it/s]"
      ]
     },
     "metadata": {},
     "output_type": "display_data"
    },
    {
     "data": {
      "application/vnd.jupyter.widget-view+json": {
       "model_id": "fb0f55e13f814ff5b51df4e5b4b828dd",
       "version_major": 2,
       "version_minor": 0
      },
      "text/plain": [
       "Gathering CWE requests for issue 586429123:   0%|          | 0/881 [00:00<?, ?it/s]"
      ]
     },
     "metadata": {},
     "output_type": "display_data"
    },
    {
     "data": {
      "application/vnd.jupyter.widget-view+json": {
       "model_id": "38d1e74128154b19a9b079a83ef33436",
       "version_major": 2,
       "version_minor": 0
      },
      "text/plain": [
       "Writing issue 586429123 batch files:   0%|          | 0/25 [00:00<?, ?it/s]"
      ]
     },
     "metadata": {},
     "output_type": "display_data"
    },
    {
     "data": {
      "application/vnd.jupyter.widget-view+json": {
       "model_id": "d6b9992863544a0299c25fa28b21613a",
       "version_major": 2,
       "version_minor": 0
      },
      "text/plain": [
       "Gathering CWE requests for issue 1505749285:   0%|          | 0/881 [00:00<?, ?it/s]"
      ]
     },
     "metadata": {},
     "output_type": "display_data"
    },
    {
     "data": {
      "application/vnd.jupyter.widget-view+json": {
       "model_id": "05d72893d4c5483a9ebc07974805d551",
       "version_major": 2,
       "version_minor": 0
      },
      "text/plain": [
       "Writing issue 1505749285 batch files:   0%|          | 0/25 [00:00<?, ?it/s]"
      ]
     },
     "metadata": {},
     "output_type": "display_data"
    },
    {
     "data": {
      "application/vnd.jupyter.widget-view+json": {
       "model_id": "25db172522dc4ec4a9d88b9aec0d0f9a",
       "version_major": 2,
       "version_minor": 0
      },
      "text/plain": [
       "Gathering CWE requests for issue 1665120116:   0%|          | 0/881 [00:00<?, ?it/s]"
      ]
     },
     "metadata": {},
     "output_type": "display_data"
    },
    {
     "data": {
      "application/vnd.jupyter.widget-view+json": {
       "model_id": "9cb60410779540d6964ab88dc165ad1c",
       "version_major": 2,
       "version_minor": 0
      },
      "text/plain": [
       "Writing issue 1665120116 batch files:   0%|          | 0/25 [00:00<?, ?it/s]"
      ]
     },
     "metadata": {},
     "output_type": "display_data"
    },
    {
     "data": {
      "application/vnd.jupyter.widget-view+json": {
       "model_id": "d7804085ce124e0da748c78dad0d0a4d",
       "version_major": 2,
       "version_minor": 0
      },
      "text/plain": [
       "Gathering CWE requests for issue 2716553525:   0%|          | 0/881 [00:00<?, ?it/s]"
      ]
     },
     "metadata": {},
     "output_type": "display_data"
    },
    {
     "data": {
      "application/vnd.jupyter.widget-view+json": {
       "model_id": "ea429af13c164a47b824256bb33d7904",
       "version_major": 2,
       "version_minor": 0
      },
      "text/plain": [
       "Writing issue 2716553525 batch files:   0%|          | 0/25 [00:00<?, ?it/s]"
      ]
     },
     "metadata": {},
     "output_type": "display_data"
    },
    {
     "data": {
      "application/vnd.jupyter.widget-view+json": {
       "model_id": "89dba3fac22548288f0de96c08cc3f99",
       "version_major": 2,
       "version_minor": 0
      },
      "text/plain": [
       "Gathering CWE requests for issue 917109426:   0%|          | 0/881 [00:00<?, ?it/s]"
      ]
     },
     "metadata": {},
     "output_type": "display_data"
    },
    {
     "data": {
      "application/vnd.jupyter.widget-view+json": {
       "model_id": "20c130bacd4a4e1fb1fedd955107a4a5",
       "version_major": 2,
       "version_minor": 0
      },
      "text/plain": [
       "Writing issue 917109426 batch files:   0%|          | 0/25 [00:00<?, ?it/s]"
      ]
     },
     "metadata": {},
     "output_type": "display_data"
    },
    {
     "data": {
      "application/vnd.jupyter.widget-view+json": {
       "model_id": "19f65f06b2574032808cbda5b9d3641f",
       "version_major": 2,
       "version_minor": 0
      },
      "text/plain": [
       "Gathering CWE requests for issue 2278258846:   0%|          | 0/881 [00:00<?, ?it/s]"
      ]
     },
     "metadata": {},
     "output_type": "display_data"
    },
    {
     "data": {
      "application/vnd.jupyter.widget-view+json": {
       "model_id": "eb2b4a1f45b4458c9dba45445a1c88a0",
       "version_major": 2,
       "version_minor": 0
      },
      "text/plain": [
       "Writing issue 2278258846 batch files:   0%|          | 0/25 [00:00<?, ?it/s]"
      ]
     },
     "metadata": {},
     "output_type": "display_data"
    },
    {
     "data": {
      "application/vnd.jupyter.widget-view+json": {
       "model_id": "3cbbda459f884ede9ef57725dfd20359",
       "version_major": 2,
       "version_minor": 0
      },
      "text/plain": [
       "Gathering CWE requests for issue 2424937358:   0%|          | 0/881 [00:00<?, ?it/s]"
      ]
     },
     "metadata": {},
     "output_type": "display_data"
    },
    {
     "data": {
      "application/vnd.jupyter.widget-view+json": {
       "model_id": "4e62a932e04b4d0a9fb4b7a28d312956",
       "version_major": 2,
       "version_minor": 0
      },
      "text/plain": [
       "Writing issue 2424937358 batch files:   0%|          | 0/25 [00:00<?, ?it/s]"
      ]
     },
     "metadata": {},
     "output_type": "display_data"
    },
    {
     "data": {
      "application/vnd.jupyter.widget-view+json": {
       "model_id": "06505674d0b04792a622ec7ba77d6d3d",
       "version_major": 2,
       "version_minor": 0
      },
      "text/plain": [
       "Gathering CWE requests for issue 1674755105:   0%|          | 0/881 [00:00<?, ?it/s]"
      ]
     },
     "metadata": {},
     "output_type": "display_data"
    },
    {
     "data": {
      "application/vnd.jupyter.widget-view+json": {
       "model_id": "3a90540e2c9b45d6aa8118520e7e0355",
       "version_major": 2,
       "version_minor": 0
      },
      "text/plain": [
       "Writing issue 1674755105 batch files:   0%|          | 0/25 [00:00<?, ?it/s]"
      ]
     },
     "metadata": {},
     "output_type": "display_data"
    },
    {
     "data": {
      "application/vnd.jupyter.widget-view+json": {
       "model_id": "55fbec2ab7e84233836adf8ddcb9a907",
       "version_major": 2,
       "version_minor": 0
      },
      "text/plain": [
       "Gathering CWE requests for issue 1515991461:   0%|          | 0/881 [00:00<?, ?it/s]"
      ]
     },
     "metadata": {},
     "output_type": "display_data"
    },
    {
     "data": {
      "application/vnd.jupyter.widget-view+json": {
       "model_id": "c2377345a42346c7993d848f53ecc245",
       "version_major": 2,
       "version_minor": 0
      },
      "text/plain": [
       "Writing issue 1515991461 batch files:   0%|          | 0/25 [00:00<?, ?it/s]"
      ]
     },
     "metadata": {},
     "output_type": "display_data"
    },
    {
     "data": {
      "application/vnd.jupyter.widget-view+json": {
       "model_id": "1977ef1f3042471ea16709e055992bdc",
       "version_major": 2,
       "version_minor": 0
      },
      "text/plain": [
       "Gathering CWE requests for issue 1569071533:   0%|          | 0/881 [00:00<?, ?it/s]"
      ]
     },
     "metadata": {},
     "output_type": "display_data"
    },
    {
     "data": {
      "application/vnd.jupyter.widget-view+json": {
       "model_id": "7db9a3d116ce4d269d94a62ca585afb5",
       "version_major": 2,
       "version_minor": 0
      },
      "text/plain": [
       "Writing issue 1569071533 batch files:   0%|          | 0/25 [00:00<?, ?it/s]"
      ]
     },
     "metadata": {},
     "output_type": "display_data"
    },
    {
     "data": {
      "application/vnd.jupyter.widget-view+json": {
       "model_id": "87a603628df34a7ca400cd46ce008ced",
       "version_major": 2,
       "version_minor": 0
      },
      "text/plain": [
       "Gathering CWE requests for issue 2514369913:   0%|          | 0/881 [00:00<?, ?it/s]"
      ]
     },
     "metadata": {},
     "output_type": "display_data"
    },
    {
     "data": {
      "application/vnd.jupyter.widget-view+json": {
       "model_id": "6cc84f487dfc44779014d71f24b57765",
       "version_major": 2,
       "version_minor": 0
      },
      "text/plain": [
       "Writing issue 2514369913 batch files:   0%|          | 0/25 [00:00<?, ?it/s]"
      ]
     },
     "metadata": {},
     "output_type": "display_data"
    },
    {
     "data": {
      "application/vnd.jupyter.widget-view+json": {
       "model_id": "f1e59bdfbe6d4812a8509ea8e783e63a",
       "version_major": 2,
       "version_minor": 0
      },
      "text/plain": [
       "Gathering CWE requests for issue 930599297:   0%|          | 0/881 [00:00<?, ?it/s]"
      ]
     },
     "metadata": {},
     "output_type": "display_data"
    },
    {
     "data": {
      "application/vnd.jupyter.widget-view+json": {
       "model_id": "589486d4d4734cbb9541f3fa8903e28e",
       "version_major": 2,
       "version_minor": 0
      },
      "text/plain": [
       "Writing issue 930599297 batch files:   0%|          | 0/25 [00:00<?, ?it/s]"
      ]
     },
     "metadata": {},
     "output_type": "display_data"
    },
    {
     "data": {
      "application/vnd.jupyter.widget-view+json": {
       "model_id": "ecfaf5dcb5764aacbaaed5bccf2ad881",
       "version_major": 2,
       "version_minor": 0
      },
      "text/plain": [
       "Gathering CWE requests for issue 1393662899:   0%|          | 0/881 [00:00<?, ?it/s]"
      ]
     },
     "metadata": {},
     "output_type": "display_data"
    },
    {
     "data": {
      "application/vnd.jupyter.widget-view+json": {
       "model_id": "5204fcfb9843433aa3dd24addb9ee1e0",
       "version_major": 2,
       "version_minor": 0
      },
      "text/plain": [
       "Writing issue 1393662899 batch files:   0%|          | 0/25 [00:00<?, ?it/s]"
      ]
     },
     "metadata": {},
     "output_type": "display_data"
    },
    {
     "data": {
      "application/vnd.jupyter.widget-view+json": {
       "model_id": "260497cc86ef426c84b718d78523615a",
       "version_major": 2,
       "version_minor": 0
      },
      "text/plain": [
       "Gathering CWE requests for issue 2191983234:   0%|          | 0/881 [00:00<?, ?it/s]"
      ]
     },
     "metadata": {},
     "output_type": "display_data"
    },
    {
     "data": {
      "application/vnd.jupyter.widget-view+json": {
       "model_id": "aa52b0e6327a437ba7a2eebf7b8deb98",
       "version_major": 2,
       "version_minor": 0
      },
      "text/plain": [
       "Writing issue 2191983234 batch files:   0%|          | 0/25 [00:00<?, ?it/s]"
      ]
     },
     "metadata": {},
     "output_type": "display_data"
    },
    {
     "data": {
      "application/vnd.jupyter.widget-view+json": {
       "model_id": "4fb8d5aa60e44977a0f13b06567226c2",
       "version_major": 2,
       "version_minor": 0
      },
      "text/plain": [
       "Gathering CWE requests for issue 1622623759:   0%|          | 0/881 [00:00<?, ?it/s]"
      ]
     },
     "metadata": {},
     "output_type": "display_data"
    },
    {
     "data": {
      "application/vnd.jupyter.widget-view+json": {
       "model_id": "92a44c4a295949fd979bb376668084c7",
       "version_major": 2,
       "version_minor": 0
      },
      "text/plain": [
       "Writing issue 1622623759 batch files:   0%|          | 0/25 [00:00<?, ?it/s]"
      ]
     },
     "metadata": {},
     "output_type": "display_data"
    },
    {
     "data": {
      "application/vnd.jupyter.widget-view+json": {
       "model_id": "d495f2b6cd764139a723e50725d265f5",
       "version_major": 2,
       "version_minor": 0
      },
      "text/plain": [
       "Gathering CWE requests for issue 1093046263:   0%|          | 0/881 [00:00<?, ?it/s]"
      ]
     },
     "metadata": {},
     "output_type": "display_data"
    },
    {
     "data": {
      "application/vnd.jupyter.widget-view+json": {
       "model_id": "19d1b3d3308c428daf7856bb2edf0b5d",
       "version_major": 2,
       "version_minor": 0
      },
      "text/plain": [
       "Writing issue 1093046263 batch files:   0%|          | 0/25 [00:00<?, ?it/s]"
      ]
     },
     "metadata": {},
     "output_type": "display_data"
    },
    {
     "data": {
      "application/vnd.jupyter.widget-view+json": {
       "model_id": "7af86c546739485abef9530130ad067e",
       "version_major": 2,
       "version_minor": 0
      },
      "text/plain": [
       "Gathering CWE requests for issue 1081791618:   0%|          | 0/881 [00:00<?, ?it/s]"
      ]
     },
     "metadata": {},
     "output_type": "display_data"
    },
    {
     "data": {
      "application/vnd.jupyter.widget-view+json": {
       "model_id": "98975da3d7274c0082b352eabcfeb64c",
       "version_major": 2,
       "version_minor": 0
      },
      "text/plain": [
       "Writing issue 1081791618 batch files:   0%|          | 0/25 [00:00<?, ?it/s]"
      ]
     },
     "metadata": {},
     "output_type": "display_data"
    },
    {
     "data": {
      "application/vnd.jupyter.widget-view+json": {
       "model_id": "83aa9444750d433eb12453e5a405db42",
       "version_major": 2,
       "version_minor": 0
      },
      "text/plain": [
       "Gathering CWE requests for issue 880294671:   0%|          | 0/881 [00:00<?, ?it/s]"
      ]
     },
     "metadata": {},
     "output_type": "display_data"
    },
    {
     "data": {
      "application/vnd.jupyter.widget-view+json": {
       "model_id": "91b29435eb934e87b4fbad72c880d6a2",
       "version_major": 2,
       "version_minor": 0
      },
      "text/plain": [
       "Writing issue 880294671 batch files:   0%|          | 0/25 [00:00<?, ?it/s]"
      ]
     },
     "metadata": {},
     "output_type": "display_data"
    },
    {
     "data": {
      "application/vnd.jupyter.widget-view+json": {
       "model_id": "621d8e6f276e42efa78086795d7071f7",
       "version_major": 2,
       "version_minor": 0
      },
      "text/plain": [
       "Gathering CWE requests for issue 1489970920:   0%|          | 0/881 [00:00<?, ?it/s]"
      ]
     },
     "metadata": {},
     "output_type": "display_data"
    },
    {
     "data": {
      "application/vnd.jupyter.widget-view+json": {
       "model_id": "b06411be3e4b438b96e259a9e60fb9eb",
       "version_major": 2,
       "version_minor": 0
      },
      "text/plain": [
       "Writing issue 1489970920 batch files:   0%|          | 0/25 [00:00<?, ?it/s]"
      ]
     },
     "metadata": {},
     "output_type": "display_data"
    },
    {
     "data": {
      "application/vnd.jupyter.widget-view+json": {
       "model_id": "e72c8b1d88ef4c469ed8631ca29be293",
       "version_major": 2,
       "version_minor": 0
      },
      "text/plain": [
       "Gathering CWE requests for issue 2581923723:   0%|          | 0/881 [00:00<?, ?it/s]"
      ]
     },
     "metadata": {},
     "output_type": "display_data"
    },
    {
     "data": {
      "application/vnd.jupyter.widget-view+json": {
       "model_id": "96c241b3d555401ca8246ad349bd9553",
       "version_major": 2,
       "version_minor": 0
      },
      "text/plain": [
       "Writing issue 2581923723 batch files:   0%|          | 0/25 [00:00<?, ?it/s]"
      ]
     },
     "metadata": {},
     "output_type": "display_data"
    },
    {
     "data": {
      "application/vnd.jupyter.widget-view+json": {
       "model_id": "5bac97faeec94149865e3e826ee530b1",
       "version_major": 2,
       "version_minor": 0
      },
      "text/plain": [
       "Gathering CWE requests for issue 2057585750:   0%|          | 0/881 [00:00<?, ?it/s]"
      ]
     },
     "metadata": {},
     "output_type": "display_data"
    },
    {
     "data": {
      "application/vnd.jupyter.widget-view+json": {
       "model_id": "6c73ca5eaa054a56ad0d55f3cbbe341f",
       "version_major": 2,
       "version_minor": 0
      },
      "text/plain": [
       "Writing issue 2057585750 batch files:   0%|          | 0/25 [00:00<?, ?it/s]"
      ]
     },
     "metadata": {},
     "output_type": "display_data"
    },
    {
     "data": {
      "application/vnd.jupyter.widget-view+json": {
       "model_id": "c56367dcf7d047cf9ae39c291dbe41ad",
       "version_major": 2,
       "version_minor": 0
      },
      "text/plain": [
       "Gathering CWE requests for issue 546016991:   0%|          | 0/881 [00:00<?, ?it/s]"
      ]
     },
     "metadata": {},
     "output_type": "display_data"
    },
    {
     "data": {
      "application/vnd.jupyter.widget-view+json": {
       "model_id": "92e2ea39631d408fbbf21540de9f247b",
       "version_major": 2,
       "version_minor": 0
      },
      "text/plain": [
       "Writing issue 546016991 batch files:   0%|          | 0/25 [00:00<?, ?it/s]"
      ]
     },
     "metadata": {},
     "output_type": "display_data"
    },
    {
     "data": {
      "application/vnd.jupyter.widget-view+json": {
       "model_id": "d6de13ab2dac476da3723e81289ce2a9",
       "version_major": 2,
       "version_minor": 0
      },
      "text/plain": [
       "Gathering CWE requests for issue 988691714:   0%|          | 0/881 [00:00<?, ?it/s]"
      ]
     },
     "metadata": {},
     "output_type": "display_data"
    },
    {
     "data": {
      "application/vnd.jupyter.widget-view+json": {
       "model_id": "305c84ba92b540178f7e9499f6d3e1aa",
       "version_major": 2,
       "version_minor": 0
      },
      "text/plain": [
       "Writing issue 988691714 batch files:   0%|          | 0/25 [00:00<?, ?it/s]"
      ]
     },
     "metadata": {},
     "output_type": "display_data"
    },
    {
     "data": {
      "application/vnd.jupyter.widget-view+json": {
       "model_id": "c859cc07c85e4fb8bb41c71d11b5b82c",
       "version_major": 2,
       "version_minor": 0
      },
      "text/plain": [
       "Gathering CWE requests for issue 889709478:   0%|          | 0/881 [00:00<?, ?it/s]"
      ]
     },
     "metadata": {},
     "output_type": "display_data"
    },
    {
     "data": {
      "application/vnd.jupyter.widget-view+json": {
       "model_id": "0efc73d28a38485e834077b7f2a82342",
       "version_major": 2,
       "version_minor": 0
      },
      "text/plain": [
       "Writing issue 889709478 batch files:   0%|          | 0/25 [00:00<?, ?it/s]"
      ]
     },
     "metadata": {},
     "output_type": "display_data"
    },
    {
     "data": {
      "application/vnd.jupyter.widget-view+json": {
       "model_id": "01f599cb48fa4bc78470043ab3171564",
       "version_major": 2,
       "version_minor": 0
      },
      "text/plain": [
       "Gathering CWE requests for issue 1622631441:   0%|          | 0/881 [00:00<?, ?it/s]"
      ]
     },
     "metadata": {},
     "output_type": "display_data"
    },
    {
     "data": {
      "application/vnd.jupyter.widget-view+json": {
       "model_id": "322f434c92b44971ade373173b068ddb",
       "version_major": 2,
       "version_minor": 0
      },
      "text/plain": [
       "Writing issue 1622631441 batch files:   0%|          | 0/25 [00:00<?, ?it/s]"
      ]
     },
     "metadata": {},
     "output_type": "display_data"
    },
    {
     "data": {
      "application/vnd.jupyter.widget-view+json": {
       "model_id": "9ccb4e1dbd834ebf9a3bc5a6559e1fa9",
       "version_major": 2,
       "version_minor": 0
      },
      "text/plain": [
       "Gathering CWE requests for issue 1214770024:   0%|          | 0/881 [00:00<?, ?it/s]"
      ]
     },
     "metadata": {},
     "output_type": "display_data"
    },
    {
     "data": {
      "application/vnd.jupyter.widget-view+json": {
       "model_id": "8b827842872b4eefa098bbf0bd3bd0f1",
       "version_major": 2,
       "version_minor": 0
      },
      "text/plain": [
       "Writing issue 1214770024 batch files:   0%|          | 0/25 [00:00<?, ?it/s]"
      ]
     },
     "metadata": {},
     "output_type": "display_data"
    },
    {
     "data": {
      "application/vnd.jupyter.widget-view+json": {
       "model_id": "5b687b2687d24a7bae4551d46550660f",
       "version_major": 2,
       "version_minor": 0
      },
      "text/plain": [
       "Gathering CWE requests for issue 1120666256:   0%|          | 0/881 [00:00<?, ?it/s]"
      ]
     },
     "metadata": {},
     "output_type": "display_data"
    },
    {
     "data": {
      "application/vnd.jupyter.widget-view+json": {
       "model_id": "34079de3cd1745b9987f1dcdfe48a430",
       "version_major": 2,
       "version_minor": 0
      },
      "text/plain": [
       "Writing issue 1120666256 batch files:   0%|          | 0/25 [00:00<?, ?it/s]"
      ]
     },
     "metadata": {},
     "output_type": "display_data"
    },
    {
     "data": {
      "application/vnd.jupyter.widget-view+json": {
       "model_id": "5e6549aef598425784377d582bf360c5",
       "version_major": 2,
       "version_minor": 0
      },
      "text/plain": [
       "Gathering CWE requests for issue 1928159860:   0%|          | 0/881 [00:00<?, ?it/s]"
      ]
     },
     "metadata": {},
     "output_type": "display_data"
    },
    {
     "data": {
      "application/vnd.jupyter.widget-view+json": {
       "model_id": "a9907ea19df247b1894db763072b196b",
       "version_major": 2,
       "version_minor": 0
      },
      "text/plain": [
       "Writing issue 1928159860 batch files:   0%|          | 0/25 [00:00<?, ?it/s]"
      ]
     },
     "metadata": {},
     "output_type": "display_data"
    },
    {
     "data": {
      "application/vnd.jupyter.widget-view+json": {
       "model_id": "dafd530aa63740c38b09ffa5c70d212b",
       "version_major": 2,
       "version_minor": 0
      },
      "text/plain": [
       "Gathering CWE requests for issue 1665092932:   0%|          | 0/881 [00:00<?, ?it/s]"
      ]
     },
     "metadata": {},
     "output_type": "display_data"
    },
    {
     "data": {
      "application/vnd.jupyter.widget-view+json": {
       "model_id": "0bff10df7cdb4e8d8eb9b15e5364278b",
       "version_major": 2,
       "version_minor": 0
      },
      "text/plain": [
       "Writing issue 1665092932 batch files:   0%|          | 0/25 [00:00<?, ?it/s]"
      ]
     },
     "metadata": {},
     "output_type": "display_data"
    },
    {
     "data": {
      "application/vnd.jupyter.widget-view+json": {
       "model_id": "c81b390d31c54592b9c2e784eb53bdeb",
       "version_major": 2,
       "version_minor": 0
      },
      "text/plain": [
       "Gathering CWE requests for issue 2733648513:   0%|          | 0/881 [00:00<?, ?it/s]"
      ]
     },
     "metadata": {},
     "output_type": "display_data"
    },
    {
     "data": {
      "application/vnd.jupyter.widget-view+json": {
       "model_id": "10a35b7a47d347f6a5e8db900692855c",
       "version_major": 2,
       "version_minor": 0
      },
      "text/plain": [
       "Writing issue 2733648513 batch files:   0%|          | 0/25 [00:00<?, ?it/s]"
      ]
     },
     "metadata": {},
     "output_type": "display_data"
    },
    {
     "data": {
      "application/vnd.jupyter.widget-view+json": {
       "model_id": "a1f65545325e4009b3c77fe911cd129d",
       "version_major": 2,
       "version_minor": 0
      },
      "text/plain": [
       "Gathering CWE requests for issue 890626395:   0%|          | 0/881 [00:00<?, ?it/s]"
      ]
     },
     "metadata": {},
     "output_type": "display_data"
    },
    {
     "data": {
      "application/vnd.jupyter.widget-view+json": {
       "model_id": "539346b2bfd242be98fbe14821533148",
       "version_major": 2,
       "version_minor": 0
      },
      "text/plain": [
       "Writing issue 890626395 batch files:   0%|          | 0/25 [00:00<?, ?it/s]"
      ]
     },
     "metadata": {},
     "output_type": "display_data"
    },
    {
     "data": {
      "application/vnd.jupyter.widget-view+json": {
       "model_id": "cd49234daf494c92b6031ae4ab2dd255",
       "version_major": 2,
       "version_minor": 0
      },
      "text/plain": [
       "Gathering CWE requests for issue 2441254921:   0%|          | 0/881 [00:00<?, ?it/s]"
      ]
     },
     "metadata": {},
     "output_type": "display_data"
    },
    {
     "data": {
      "application/vnd.jupyter.widget-view+json": {
       "model_id": "4b50aa3738484fcb847160caa8ec4fba",
       "version_major": 2,
       "version_minor": 0
      },
      "text/plain": [
       "Writing issue 2441254921 batch files:   0%|          | 0/25 [00:00<?, ?it/s]"
      ]
     },
     "metadata": {},
     "output_type": "display_data"
    },
    {
     "data": {
      "application/vnd.jupyter.widget-view+json": {
       "model_id": "1a48b69f40c44251a943aa8dbfab4dd4",
       "version_major": 2,
       "version_minor": 0
      },
      "text/plain": [
       "Gathering CWE requests for issue 2286819431:   0%|          | 0/881 [00:00<?, ?it/s]"
      ]
     },
     "metadata": {},
     "output_type": "display_data"
    },
    {
     "data": {
      "application/vnd.jupyter.widget-view+json": {
       "model_id": "b649783401c84974ba36931bb8030a92",
       "version_major": 2,
       "version_minor": 0
      },
      "text/plain": [
       "Writing issue 2286819431 batch files:   0%|          | 0/25 [00:00<?, ?it/s]"
      ]
     },
     "metadata": {},
     "output_type": "display_data"
    },
    {
     "data": {
      "application/vnd.jupyter.widget-view+json": {
       "model_id": "fc46401d503e44e3ab55ba599db81485",
       "version_major": 2,
       "version_minor": 0
      },
      "text/plain": [
       "Gathering CWE requests for issue 2068418306:   0%|          | 0/881 [00:00<?, ?it/s]"
      ]
     },
     "metadata": {},
     "output_type": "display_data"
    },
    {
     "data": {
      "application/vnd.jupyter.widget-view+json": {
       "model_id": "b86ba944640e4673a4aff809e6233aa4",
       "version_major": 2,
       "version_minor": 0
      },
      "text/plain": [
       "Writing issue 2068418306 batch files:   0%|          | 0/25 [00:00<?, ?it/s]"
      ]
     },
     "metadata": {},
     "output_type": "display_data"
    },
    {
     "data": {
      "application/vnd.jupyter.widget-view+json": {
       "model_id": "8907d23b83d541e1967fbeac6c4f2c47",
       "version_major": 2,
       "version_minor": 0
      },
      "text/plain": [
       "Gathering CWE requests for issue 1090357318:   0%|          | 0/881 [00:00<?, ?it/s]"
      ]
     },
     "metadata": {},
     "output_type": "display_data"
    },
    {
     "data": {
      "application/vnd.jupyter.widget-view+json": {
       "model_id": "62041c29f4d84f80b2e5707795a8aed4",
       "version_major": 2,
       "version_minor": 0
      },
      "text/plain": [
       "Writing issue 1090357318 batch files:   0%|          | 0/25 [00:00<?, ?it/s]"
      ]
     },
     "metadata": {},
     "output_type": "display_data"
    },
    {
     "data": {
      "application/vnd.jupyter.widget-view+json": {
       "model_id": "31747e6c6a334effbf659a08e93ef3da",
       "version_major": 2,
       "version_minor": 0
      },
      "text/plain": [
       "Gathering CWE requests for issue 1076617776:   0%|          | 0/881 [00:00<?, ?it/s]"
      ]
     },
     "metadata": {},
     "output_type": "display_data"
    },
    {
     "data": {
      "application/vnd.jupyter.widget-view+json": {
       "model_id": "b338022ac377483694b419b564e06284",
       "version_major": 2,
       "version_minor": 0
      },
      "text/plain": [
       "Writing issue 1076617776 batch files:   0%|          | 0/25 [00:00<?, ?it/s]"
      ]
     },
     "metadata": {},
     "output_type": "display_data"
    },
    {
     "data": {
      "application/vnd.jupyter.widget-view+json": {
       "model_id": "bc2ce9b61a904a4e95fd8d3b3ff56d3f",
       "version_major": 2,
       "version_minor": 0
      },
      "text/plain": [
       "Gathering CWE requests for issue 1682372017:   0%|          | 0/881 [00:00<?, ?it/s]"
      ]
     },
     "metadata": {},
     "output_type": "display_data"
    },
    {
     "data": {
      "application/vnd.jupyter.widget-view+json": {
       "model_id": "0fd0d64712764ce8b66f41efcacdd1aa",
       "version_major": 2,
       "version_minor": 0
      },
      "text/plain": [
       "Writing issue 1682372017 batch files:   0%|          | 0/25 [00:00<?, ?it/s]"
      ]
     },
     "metadata": {},
     "output_type": "display_data"
    },
    {
     "data": {
      "application/vnd.jupyter.widget-view+json": {
       "model_id": "dc22f6117f5c4b80930b387a0bbebc80",
       "version_major": 2,
       "version_minor": 0
      },
      "text/plain": [
       "Gathering CWE requests for issue 2068177956:   0%|          | 0/881 [00:00<?, ?it/s]"
      ]
     },
     "metadata": {},
     "output_type": "display_data"
    },
    {
     "data": {
      "application/vnd.jupyter.widget-view+json": {
       "model_id": "ad6b0f23370e466385e56938b8c05e2c",
       "version_major": 2,
       "version_minor": 0
      },
      "text/plain": [
       "Writing issue 2068177956 batch files:   0%|          | 0/25 [00:00<?, ?it/s]"
      ]
     },
     "metadata": {},
     "output_type": "display_data"
    },
    {
     "data": {
      "application/vnd.jupyter.widget-view+json": {
       "model_id": "6c4a719ea5e74073b900c93145b6c8fd",
       "version_major": 2,
       "version_minor": 0
      },
      "text/plain": [
       "Gathering CWE requests for issue 977665470:   0%|          | 0/881 [00:00<?, ?it/s]"
      ]
     },
     "metadata": {},
     "output_type": "display_data"
    },
    {
     "data": {
      "application/vnd.jupyter.widget-view+json": {
       "model_id": "3fcdac31801541969a76265668900ff1",
       "version_major": 2,
       "version_minor": 0
      },
      "text/plain": [
       "Writing issue 977665470 batch files:   0%|          | 0/25 [00:00<?, ?it/s]"
      ]
     },
     "metadata": {},
     "output_type": "display_data"
    },
    {
     "data": {
      "application/vnd.jupyter.widget-view+json": {
       "model_id": "39ef070325bb47cb946f7a04397c050d",
       "version_major": 2,
       "version_minor": 0
      },
      "text/plain": [
       "Gathering CWE requests for issue 895160290:   0%|          | 0/881 [00:00<?, ?it/s]"
      ]
     },
     "metadata": {},
     "output_type": "display_data"
    },
    {
     "data": {
      "application/vnd.jupyter.widget-view+json": {
       "model_id": "c7b712eef8f0414b940f6f3518850ea6",
       "version_major": 2,
       "version_minor": 0
      },
      "text/plain": [
       "Writing issue 895160290 batch files:   0%|          | 0/25 [00:00<?, ?it/s]"
      ]
     },
     "metadata": {},
     "output_type": "display_data"
    },
    {
     "data": {
      "application/vnd.jupyter.widget-view+json": {
       "model_id": "f0e6bba4a79a47c09b47181e9a085063",
       "version_major": 2,
       "version_minor": 0
      },
      "text/plain": [
       "Gathering CWE requests for issue 2620384948:   0%|          | 0/881 [00:00<?, ?it/s]"
      ]
     },
     "metadata": {},
     "output_type": "display_data"
    },
    {
     "data": {
      "application/vnd.jupyter.widget-view+json": {
       "model_id": "f5a008564fda442892b3bddbe30dafef",
       "version_major": 2,
       "version_minor": 0
      },
      "text/plain": [
       "Writing issue 2620384948 batch files:   0%|          | 0/25 [00:00<?, ?it/s]"
      ]
     },
     "metadata": {},
     "output_type": "display_data"
    },
    {
     "data": {
      "application/vnd.jupyter.widget-view+json": {
       "model_id": "bd10b5379a434426afc0f094a2d2fb8a",
       "version_major": 2,
       "version_minor": 0
      },
      "text/plain": [
       "Gathering CWE requests for issue 1931692043:   0%|          | 0/881 [00:00<?, ?it/s]"
      ]
     },
     "metadata": {},
     "output_type": "display_data"
    },
    {
     "data": {
      "application/vnd.jupyter.widget-view+json": {
       "model_id": "fb81cae461034ffebbfc8d27d865cc28",
       "version_major": 2,
       "version_minor": 0
      },
      "text/plain": [
       "Writing issue 1931692043 batch files:   0%|          | 0/25 [00:00<?, ?it/s]"
      ]
     },
     "metadata": {},
     "output_type": "display_data"
    },
    {
     "data": {
      "application/vnd.jupyter.widget-view+json": {
       "model_id": "aefbca0238e9483f98d5129ea4873327",
       "version_major": 2,
       "version_minor": 0
      },
      "text/plain": [
       "Gathering CWE requests for issue 2269393396:   0%|          | 0/881 [00:00<?, ?it/s]"
      ]
     },
     "metadata": {},
     "output_type": "display_data"
    },
    {
     "data": {
      "application/vnd.jupyter.widget-view+json": {
       "model_id": "a2d271446fad4b118eb613cd9406ca07",
       "version_major": 2,
       "version_minor": 0
      },
      "text/plain": [
       "Writing issue 2269393396 batch files:   0%|          | 0/25 [00:00<?, ?it/s]"
      ]
     },
     "metadata": {},
     "output_type": "display_data"
    },
    {
     "data": {
      "application/vnd.jupyter.widget-view+json": {
       "model_id": "d7e1637d802a4183b7e0db56dc93b2e2",
       "version_major": 2,
       "version_minor": 0
      },
      "text/plain": [
       "Gathering CWE requests for issue 1835648219:   0%|          | 0/881 [00:00<?, ?it/s]"
      ]
     },
     "metadata": {},
     "output_type": "display_data"
    },
    {
     "data": {
      "application/vnd.jupyter.widget-view+json": {
       "model_id": "dcb111075166496497e4e5b8e5a166c0",
       "version_major": 2,
       "version_minor": 0
      },
      "text/plain": [
       "Writing issue 1835648219 batch files:   0%|          | 0/25 [00:00<?, ?it/s]"
      ]
     },
     "metadata": {},
     "output_type": "display_data"
    },
    {
     "data": {
      "application/vnd.jupyter.widget-view+json": {
       "model_id": "51cedafd25a3407d8f2a9922c1511312",
       "version_major": 2,
       "version_minor": 0
      },
      "text/plain": [
       "Gathering CWE requests for issue 981044009:   0%|          | 0/881 [00:00<?, ?it/s]"
      ]
     },
     "metadata": {},
     "output_type": "display_data"
    },
    {
     "data": {
      "application/vnd.jupyter.widget-view+json": {
       "model_id": "e1c5ea57eb064fdf8d315abd43ec0da5",
       "version_major": 2,
       "version_minor": 0
      },
      "text/plain": [
       "Writing issue 981044009 batch files:   0%|          | 0/25 [00:00<?, ?it/s]"
      ]
     },
     "metadata": {},
     "output_type": "display_data"
    },
    {
     "data": {
      "application/vnd.jupyter.widget-view+json": {
       "model_id": "119dba5e533644f4a173181b63d8fb17",
       "version_major": 2,
       "version_minor": 0
      },
      "text/plain": [
       "Gathering CWE requests for issue 873925774:   0%|          | 0/881 [00:00<?, ?it/s]"
      ]
     },
     "metadata": {},
     "output_type": "display_data"
    },
    {
     "data": {
      "application/vnd.jupyter.widget-view+json": {
       "model_id": "239d45f1068440d597ba77461fda2416",
       "version_major": 2,
       "version_minor": 0
      },
      "text/plain": [
       "Writing issue 873925774 batch files:   0%|          | 0/25 [00:00<?, ?it/s]"
      ]
     },
     "metadata": {},
     "output_type": "display_data"
    },
    {
     "data": {
      "application/vnd.jupyter.widget-view+json": {
       "model_id": "717f8ea3f8344103ac34c28e029ce86c",
       "version_major": 2,
       "version_minor": 0
      },
      "text/plain": [
       "Gathering CWE requests for issue 464797091:   0%|          | 0/881 [00:00<?, ?it/s]"
      ]
     },
     "metadata": {},
     "output_type": "display_data"
    },
    {
     "data": {
      "application/vnd.jupyter.widget-view+json": {
       "model_id": "b43999803c584d43b07147edb27b759f",
       "version_major": 2,
       "version_minor": 0
      },
      "text/plain": [
       "Writing issue 464797091 batch files:   0%|          | 0/25 [00:00<?, ?it/s]"
      ]
     },
     "metadata": {},
     "output_type": "display_data"
    },
    {
     "data": {
      "application/vnd.jupyter.widget-view+json": {
       "model_id": "2334c569d4934cedbe9636228bf9d468",
       "version_major": 2,
       "version_minor": 0
      },
      "text/plain": [
       "Gathering CWE requests for issue 2037028499:   0%|          | 0/881 [00:00<?, ?it/s]"
      ]
     },
     "metadata": {},
     "output_type": "display_data"
    },
    {
     "data": {
      "application/vnd.jupyter.widget-view+json": {
       "model_id": "e1883fe2c9174feca146c0e8f29fdbd1",
       "version_major": 2,
       "version_minor": 0
      },
      "text/plain": [
       "Writing issue 2037028499 batch files:   0%|          | 0/25 [00:00<?, ?it/s]"
      ]
     },
     "metadata": {},
     "output_type": "display_data"
    },
    {
     "data": {
      "application/vnd.jupyter.widget-view+json": {
       "model_id": "874a8850d2d746f0ab1ba8bb18378598",
       "version_major": 2,
       "version_minor": 0
      },
      "text/plain": [
       "Gathering CWE requests for issue 431795900:   0%|          | 0/881 [00:00<?, ?it/s]"
      ]
     },
     "metadata": {},
     "output_type": "display_data"
    },
    {
     "data": {
      "application/vnd.jupyter.widget-view+json": {
       "model_id": "a66ad27bb8854ae794c24adf96a31ab4",
       "version_major": 2,
       "version_minor": 0
      },
      "text/plain": [
       "Writing issue 431795900 batch files:   0%|          | 0/25 [00:00<?, ?it/s]"
      ]
     },
     "metadata": {},
     "output_type": "display_data"
    },
    {
     "data": {
      "application/vnd.jupyter.widget-view+json": {
       "model_id": "40ae92a2c0e04dd98211c44d02b58bfd",
       "version_major": 2,
       "version_minor": 0
      },
      "text/plain": [
       "Gathering CWE requests for issue 1123894991:   0%|          | 0/881 [00:00<?, ?it/s]"
      ]
     },
     "metadata": {},
     "output_type": "display_data"
    },
    {
     "data": {
      "application/vnd.jupyter.widget-view+json": {
       "model_id": "1ec4e07a99a2446a99407452d8eb795f",
       "version_major": 2,
       "version_minor": 0
      },
      "text/plain": [
       "Writing issue 1123894991 batch files:   0%|          | 0/25 [00:00<?, ?it/s]"
      ]
     },
     "metadata": {},
     "output_type": "display_data"
    },
    {
     "data": {
      "application/vnd.jupyter.widget-view+json": {
       "model_id": "42434b4a7e9e46d79b76e1051c2273ea",
       "version_major": 2,
       "version_minor": 0
      },
      "text/plain": [
       "Gathering CWE requests for issue 1024703352:   0%|          | 0/881 [00:00<?, ?it/s]"
      ]
     },
     "metadata": {},
     "output_type": "display_data"
    },
    {
     "data": {
      "application/vnd.jupyter.widget-view+json": {
       "model_id": "7d26e5b0eab343369a4bf9f713748a63",
       "version_major": 2,
       "version_minor": 0
      },
      "text/plain": [
       "Writing issue 1024703352 batch files:   0%|          | 0/25 [00:00<?, ?it/s]"
      ]
     },
     "metadata": {},
     "output_type": "display_data"
    },
    {
     "data": {
      "application/vnd.jupyter.widget-view+json": {
       "model_id": "ef79ba027bae4c2994afa9d468c03af7",
       "version_major": 2,
       "version_minor": 0
      },
      "text/plain": [
       "Gathering CWE requests for issue 1091427319:   0%|          | 0/881 [00:00<?, ?it/s]"
      ]
     },
     "metadata": {},
     "output_type": "display_data"
    },
    {
     "data": {
      "application/vnd.jupyter.widget-view+json": {
       "model_id": "b50842a6c2f146cd91e666db37392a44",
       "version_major": 2,
       "version_minor": 0
      },
      "text/plain": [
       "Writing issue 1091427319 batch files:   0%|          | 0/25 [00:00<?, ?it/s]"
      ]
     },
     "metadata": {},
     "output_type": "display_data"
    },
    {
     "data": {
      "application/vnd.jupyter.widget-view+json": {
       "model_id": "b73a4f75d792421aadaf3a9cdbb8b699",
       "version_major": 2,
       "version_minor": 0
      },
      "text/plain": [
       "Gathering CWE requests for issue 459035202:   0%|          | 0/881 [00:00<?, ?it/s]"
      ]
     },
     "metadata": {},
     "output_type": "display_data"
    },
    {
     "data": {
      "application/vnd.jupyter.widget-view+json": {
       "model_id": "094cb75dfdf143b1a837e7e21a6f9f46",
       "version_major": 2,
       "version_minor": 0
      },
      "text/plain": [
       "Writing issue 459035202 batch files:   0%|          | 0/25 [00:00<?, ?it/s]"
      ]
     },
     "metadata": {},
     "output_type": "display_data"
    },
    {
     "data": {
      "application/vnd.jupyter.widget-view+json": {
       "model_id": "53eae1030e294dc2a4b2b991edc6781d",
       "version_major": 2,
       "version_minor": 0
      },
      "text/plain": [
       "Gathering CWE requests for issue 2267099620:   0%|          | 0/881 [00:00<?, ?it/s]"
      ]
     },
     "metadata": {},
     "output_type": "display_data"
    },
    {
     "data": {
      "application/vnd.jupyter.widget-view+json": {
       "model_id": "d44befa10e304de79d26ca58e7064f23",
       "version_major": 2,
       "version_minor": 0
      },
      "text/plain": [
       "Writing issue 2267099620 batch files:   0%|          | 0/25 [00:00<?, ?it/s]"
      ]
     },
     "metadata": {},
     "output_type": "display_data"
    },
    {
     "data": {
      "application/vnd.jupyter.widget-view+json": {
       "model_id": "d3a02d5a51884187b7d14935c75a3fae",
       "version_major": 2,
       "version_minor": 0
      },
      "text/plain": [
       "Gathering CWE requests for issue 2069052969:   0%|          | 0/881 [00:00<?, ?it/s]"
      ]
     },
     "metadata": {},
     "output_type": "display_data"
    },
    {
     "data": {
      "application/vnd.jupyter.widget-view+json": {
       "model_id": "642090b42623430281c042cb65f865d1",
       "version_major": 2,
       "version_minor": 0
      },
      "text/plain": [
       "Writing issue 2069052969 batch files:   0%|          | 0/25 [00:00<?, ?it/s]"
      ]
     },
     "metadata": {},
     "output_type": "display_data"
    },
    {
     "data": {
      "application/vnd.jupyter.widget-view+json": {
       "model_id": "f5b0164399864ce2bfc7b351c6b85763",
       "version_major": 2,
       "version_minor": 0
      },
      "text/plain": [
       "Gathering CWE requests for issue 1214957940:   0%|          | 0/881 [00:00<?, ?it/s]"
      ]
     },
     "metadata": {},
     "output_type": "display_data"
    },
    {
     "data": {
      "application/vnd.jupyter.widget-view+json": {
       "model_id": "a38220ac56b147a4b4a90dd8dd1211a4",
       "version_major": 2,
       "version_minor": 0
      },
      "text/plain": [
       "Writing issue 1214957940 batch files:   0%|          | 0/25 [00:00<?, ?it/s]"
      ]
     },
     "metadata": {},
     "output_type": "display_data"
    },
    {
     "data": {
      "application/vnd.jupyter.widget-view+json": {
       "model_id": "3cc588b4558a471f99c3351b209ccee5",
       "version_major": 2,
       "version_minor": 0
      },
      "text/plain": [
       "Gathering CWE requests for issue 1091466154:   0%|          | 0/881 [00:00<?, ?it/s]"
      ]
     },
     "metadata": {},
     "output_type": "display_data"
    },
    {
     "data": {
      "application/vnd.jupyter.widget-view+json": {
       "model_id": "edc9240e72314679aa57198d3877f0cc",
       "version_major": 2,
       "version_minor": 0
      },
      "text/plain": [
       "Writing issue 1091466154 batch files:   0%|          | 0/25 [00:00<?, ?it/s]"
      ]
     },
     "metadata": {},
     "output_type": "display_data"
    },
    {
     "data": {
      "application/vnd.jupyter.widget-view+json": {
       "model_id": "6ff0ff3575ea483ab71d45d678aa4ea6",
       "version_major": 2,
       "version_minor": 0
      },
      "text/plain": [
       "Gathering CWE requests for issue 400226040:   0%|          | 0/881 [00:00<?, ?it/s]"
      ]
     },
     "metadata": {},
     "output_type": "display_data"
    },
    {
     "data": {
      "application/vnd.jupyter.widget-view+json": {
       "model_id": "94fffbcba22d43fcb9669cc5687c5325",
       "version_major": 2,
       "version_minor": 0
      },
      "text/plain": [
       "Writing issue 400226040 batch files:   0%|          | 0/25 [00:00<?, ?it/s]"
      ]
     },
     "metadata": {},
     "output_type": "display_data"
    },
    {
     "data": {
      "application/vnd.jupyter.widget-view+json": {
       "model_id": "63fa9ad1bafb4901836cc836bc6cd761",
       "version_major": 2,
       "version_minor": 0
      },
      "text/plain": [
       "Gathering CWE requests for issue 1653447436:   0%|          | 0/881 [00:00<?, ?it/s]"
      ]
     },
     "metadata": {},
     "output_type": "display_data"
    },
    {
     "data": {
      "application/vnd.jupyter.widget-view+json": {
       "model_id": "192ebe8757cf4b4a99026069fb76d552",
       "version_major": 2,
       "version_minor": 0
      },
      "text/plain": [
       "Writing issue 1653447436 batch files:   0%|          | 0/25 [00:00<?, ?it/s]"
      ]
     },
     "metadata": {},
     "output_type": "display_data"
    },
    {
     "data": {
      "application/vnd.jupyter.widget-view+json": {
       "model_id": "ffc4364042734d71bec666916b413714",
       "version_major": 2,
       "version_minor": 0
      },
      "text/plain": [
       "Gathering CWE requests for issue 2079890770:   0%|          | 0/881 [00:00<?, ?it/s]"
      ]
     },
     "metadata": {},
     "output_type": "display_data"
    },
    {
     "data": {
      "application/vnd.jupyter.widget-view+json": {
       "model_id": "45653e16ca074a8ab3c05c05942494c0",
       "version_major": 2,
       "version_minor": 0
      },
      "text/plain": [
       "Writing issue 2079890770 batch files:   0%|          | 0/25 [00:00<?, ?it/s]"
      ]
     },
     "metadata": {},
     "output_type": "display_data"
    },
    {
     "data": {
      "application/vnd.jupyter.widget-view+json": {
       "model_id": "c0ff1f0137884a4b8d3d204bc373f68c",
       "version_major": 2,
       "version_minor": 0
      },
      "text/plain": [
       "Gathering CWE requests for issue 1665074357:   0%|          | 0/881 [00:00<?, ?it/s]"
      ]
     },
     "metadata": {},
     "output_type": "display_data"
    },
    {
     "data": {
      "application/vnd.jupyter.widget-view+json": {
       "model_id": "800547c7d4a74bbf9d34997c07faed26",
       "version_major": 2,
       "version_minor": 0
      },
      "text/plain": [
       "Writing issue 1665074357 batch files:   0%|          | 0/25 [00:00<?, ?it/s]"
      ]
     },
     "metadata": {},
     "output_type": "display_data"
    },
    {
     "data": {
      "application/vnd.jupyter.widget-view+json": {
       "model_id": "4974370707f143649fd80eb01e776939",
       "version_major": 2,
       "version_minor": 0
      },
      "text/plain": [
       "Gathering CWE requests for issue 1582015060:   0%|          | 0/881 [00:00<?, ?it/s]"
      ]
     },
     "metadata": {},
     "output_type": "display_data"
    },
    {
     "data": {
      "application/vnd.jupyter.widget-view+json": {
       "model_id": "d34a66d2301e45a4bdc00c5a329ec07a",
       "version_major": 2,
       "version_minor": 0
      },
      "text/plain": [
       "Writing issue 1582015060 batch files:   0%|          | 0/25 [00:00<?, ?it/s]"
      ]
     },
     "metadata": {},
     "output_type": "display_data"
    },
    {
     "data": {
      "application/vnd.jupyter.widget-view+json": {
       "model_id": "b6f460c4a4734597ac69c815e44477af",
       "version_major": 2,
       "version_minor": 0
      },
      "text/plain": [
       "Gathering CWE requests for issue 1393638825:   0%|          | 0/881 [00:00<?, ?it/s]"
      ]
     },
     "metadata": {},
     "output_type": "display_data"
    },
    {
     "data": {
      "application/vnd.jupyter.widget-view+json": {
       "model_id": "9d8384ce2f7b42f7ae87d3da022e5320",
       "version_major": 2,
       "version_minor": 0
      },
      "text/plain": [
       "Writing issue 1393638825 batch files:   0%|          | 0/25 [00:00<?, ?it/s]"
      ]
     },
     "metadata": {},
     "output_type": "display_data"
    },
    {
     "data": {
      "application/vnd.jupyter.widget-view+json": {
       "model_id": "334b0bd2f3c948d3aec319baf5260657",
       "version_major": 2,
       "version_minor": 0
      },
      "text/plain": [
       "Gathering CWE requests for issue 1638080339:   0%|          | 0/881 [00:00<?, ?it/s]"
      ]
     },
     "metadata": {},
     "output_type": "display_data"
    },
    {
     "data": {
      "application/vnd.jupyter.widget-view+json": {
       "model_id": "822cad91fb214988af688b382ed06c77",
       "version_major": 2,
       "version_minor": 0
      },
      "text/plain": [
       "Writing issue 1638080339 batch files:   0%|          | 0/25 [00:00<?, ?it/s]"
      ]
     },
     "metadata": {},
     "output_type": "display_data"
    },
    {
     "data": {
      "application/vnd.jupyter.widget-view+json": {
       "model_id": "e1d21b455bae476694a835cfb66bce35",
       "version_major": 2,
       "version_minor": 0
      },
      "text/plain": [
       "Gathering CWE requests for issue 2530239021:   0%|          | 0/881 [00:00<?, ?it/s]"
      ]
     },
     "metadata": {},
     "output_type": "display_data"
    },
    {
     "data": {
      "application/vnd.jupyter.widget-view+json": {
       "model_id": "94a37c4741fa45e69540b40e7d34b295",
       "version_major": 2,
       "version_minor": 0
      },
      "text/plain": [
       "Writing issue 2530239021 batch files:   0%|          | 0/25 [00:00<?, ?it/s]"
      ]
     },
     "metadata": {},
     "output_type": "display_data"
    },
    {
     "data": {
      "application/vnd.jupyter.widget-view+json": {
       "model_id": "53233789db51478699d0015a22dfa5e0",
       "version_major": 2,
       "version_minor": 0
      },
      "text/plain": [
       "Gathering CWE requests for issue 780977246:   0%|          | 0/881 [00:00<?, ?it/s]"
      ]
     },
     "metadata": {},
     "output_type": "display_data"
    },
    {
     "data": {
      "application/vnd.jupyter.widget-view+json": {
       "model_id": "4132a72919d545479b7b8cd0b6cd382f",
       "version_major": 2,
       "version_minor": 0
      },
      "text/plain": [
       "Writing issue 780977246 batch files:   0%|          | 0/25 [00:00<?, ?it/s]"
      ]
     },
     "metadata": {},
     "output_type": "display_data"
    },
    {
     "data": {
      "application/vnd.jupyter.widget-view+json": {
       "model_id": "e669c2a5e0ae439cae50543ef880a80e",
       "version_major": 2,
       "version_minor": 0
      },
      "text/plain": [
       "Gathering CWE requests for issue 1873333053:   0%|          | 0/881 [00:00<?, ?it/s]"
      ]
     },
     "metadata": {},
     "output_type": "display_data"
    },
    {
     "data": {
      "application/vnd.jupyter.widget-view+json": {
       "model_id": "b8683eee2c914683b6c190281f088bc8",
       "version_major": 2,
       "version_minor": 0
      },
      "text/plain": [
       "Writing issue 1873333053 batch files:   0%|          | 0/25 [00:00<?, ?it/s]"
      ]
     },
     "metadata": {},
     "output_type": "display_data"
    },
    {
     "data": {
      "application/vnd.jupyter.widget-view+json": {
       "model_id": "dcde465aedcb4bb9b66fc6e9be8c41ac",
       "version_major": 2,
       "version_minor": 0
      },
      "text/plain": [
       "Gathering CWE requests for issue 628117790:   0%|          | 0/881 [00:00<?, ?it/s]"
      ]
     },
     "metadata": {},
     "output_type": "display_data"
    },
    {
     "data": {
      "application/vnd.jupyter.widget-view+json": {
       "model_id": "3c383dc9c1494f33a58f85e32f27184e",
       "version_major": 2,
       "version_minor": 0
      },
      "text/plain": [
       "Writing issue 628117790 batch files:   0%|          | 0/25 [00:00<?, ?it/s]"
      ]
     },
     "metadata": {},
     "output_type": "display_data"
    },
    {
     "data": {
      "application/vnd.jupyter.widget-view+json": {
       "model_id": "4ed29b5595fc4733bd3f2b47adfe5ff6",
       "version_major": 2,
       "version_minor": 0
      },
      "text/plain": [
       "Gathering CWE requests for issue 2069050748:   0%|          | 0/881 [00:00<?, ?it/s]"
      ]
     },
     "metadata": {},
     "output_type": "display_data"
    },
    {
     "data": {
      "application/vnd.jupyter.widget-view+json": {
       "model_id": "0d94c3e597a64e85b235b2c2a15831df",
       "version_major": 2,
       "version_minor": 0
      },
      "text/plain": [
       "Writing issue 2069050748 batch files:   0%|          | 0/25 [00:00<?, ?it/s]"
      ]
     },
     "metadata": {},
     "output_type": "display_data"
    },
    {
     "data": {
      "application/vnd.jupyter.widget-view+json": {
       "model_id": "12cf1889088b4e9f9e5c54199005c046",
       "version_major": 2,
       "version_minor": 0
      },
      "text/plain": [
       "Gathering CWE requests for issue 2366653976:   0%|          | 0/881 [00:00<?, ?it/s]"
      ]
     },
     "metadata": {},
     "output_type": "display_data"
    },
    {
     "data": {
      "application/vnd.jupyter.widget-view+json": {
       "model_id": "512b872f4c804e6db641bd19bb9f6179",
       "version_major": 2,
       "version_minor": 0
      },
      "text/plain": [
       "Writing issue 2366653976 batch files:   0%|          | 0/25 [00:00<?, ?it/s]"
      ]
     },
     "metadata": {},
     "output_type": "display_data"
    },
    {
     "data": {
      "application/vnd.jupyter.widget-view+json": {
       "model_id": "fce87436508749059dbb336b1784b735",
       "version_major": 2,
       "version_minor": 0
      },
      "text/plain": [
       "Gathering CWE requests for issue 767517846:   0%|          | 0/881 [00:00<?, ?it/s]"
      ]
     },
     "metadata": {},
     "output_type": "display_data"
    },
    {
     "data": {
      "application/vnd.jupyter.widget-view+json": {
       "model_id": "7c1c516fdce8498890616194cd5e4d25",
       "version_major": 2,
       "version_minor": 0
      },
      "text/plain": [
       "Writing issue 767517846 batch files:   0%|          | 0/25 [00:00<?, ?it/s]"
      ]
     },
     "metadata": {},
     "output_type": "display_data"
    },
    {
     "data": {
      "application/vnd.jupyter.widget-view+json": {
       "model_id": "f98bda6043144d2aa6bd5b6d702c84ed",
       "version_major": 2,
       "version_minor": 0
      },
      "text/plain": [
       "Gathering CWE requests for issue 2020374504:   0%|          | 0/881 [00:00<?, ?it/s]"
      ]
     },
     "metadata": {},
     "output_type": "display_data"
    },
    {
     "data": {
      "application/vnd.jupyter.widget-view+json": {
       "model_id": "e3666b7e19ee4091a06e3801f5b03c21",
       "version_major": 2,
       "version_minor": 0
      },
      "text/plain": [
       "Writing issue 2020374504 batch files:   0%|          | 0/25 [00:00<?, ?it/s]"
      ]
     },
     "metadata": {},
     "output_type": "display_data"
    },
    {
     "data": {
      "application/vnd.jupyter.widget-view+json": {
       "model_id": "04a0cf7e1c11411fb745f9f92cc1c8b0",
       "version_major": 2,
       "version_minor": 0
      },
      "text/plain": [
       "Gathering CWE requests for issue 481961506:   0%|          | 0/881 [00:00<?, ?it/s]"
      ]
     },
     "metadata": {},
     "output_type": "display_data"
    },
    {
     "data": {
      "application/vnd.jupyter.widget-view+json": {
       "model_id": "36af85c7461a4e939f194b96e22421ac",
       "version_major": 2,
       "version_minor": 0
      },
      "text/plain": [
       "Writing issue 481961506 batch files:   0%|          | 0/25 [00:00<?, ?it/s]"
      ]
     },
     "metadata": {},
     "output_type": "display_data"
    },
    {
     "data": {
      "application/vnd.jupyter.widget-view+json": {
       "model_id": "4df8bc1f8f3c405992c82ebc52720e9e",
       "version_major": 2,
       "version_minor": 0
      },
      "text/plain": [
       "Gathering CWE requests for issue 1665108794:   0%|          | 0/881 [00:00<?, ?it/s]"
      ]
     },
     "metadata": {},
     "output_type": "display_data"
    },
    {
     "data": {
      "application/vnd.jupyter.widget-view+json": {
       "model_id": "e9c4bade6d6f43a898c9614be654f8c7",
       "version_major": 2,
       "version_minor": 0
      },
      "text/plain": [
       "Writing issue 1665108794 batch files:   0%|          | 0/25 [00:00<?, ?it/s]"
      ]
     },
     "metadata": {},
     "output_type": "display_data"
    },
    {
     "data": {
      "application/vnd.jupyter.widget-view+json": {
       "model_id": "ac42db717e3143d49247a8278650d9c5",
       "version_major": 2,
       "version_minor": 0
      },
      "text/plain": [
       "Gathering CWE requests for issue 1088763905:   0%|          | 0/881 [00:00<?, ?it/s]"
      ]
     },
     "metadata": {},
     "output_type": "display_data"
    },
    {
     "data": {
      "application/vnd.jupyter.widget-view+json": {
       "model_id": "a4abfef1cf7147488fcc316a833655f5",
       "version_major": 2,
       "version_minor": 0
      },
      "text/plain": [
       "Writing issue 1088763905 batch files:   0%|          | 0/25 [00:00<?, ?it/s]"
      ]
     },
     "metadata": {},
     "output_type": "display_data"
    },
    {
     "data": {
      "application/vnd.jupyter.widget-view+json": {
       "model_id": "bdf7f8fbdef04831bcdf4557c171587d",
       "version_major": 2,
       "version_minor": 0
      },
      "text/plain": [
       "Gathering CWE requests for issue 1091468269:   0%|          | 0/881 [00:00<?, ?it/s]"
      ]
     },
     "metadata": {},
     "output_type": "display_data"
    },
    {
     "data": {
      "application/vnd.jupyter.widget-view+json": {
       "model_id": "0aad40d568b7438cabc40cb374c3228e",
       "version_major": 2,
       "version_minor": 0
      },
      "text/plain": [
       "Writing issue 1091468269 batch files:   0%|          | 0/25 [00:00<?, ?it/s]"
      ]
     },
     "metadata": {},
     "output_type": "display_data"
    },
    {
     "data": {
      "application/vnd.jupyter.widget-view+json": {
       "model_id": "13253685b4104153bcccf8b7efb094df",
       "version_major": 2,
       "version_minor": 0
      },
      "text/plain": [
       "Gathering CWE requests for issue 1551262845:   0%|          | 0/881 [00:00<?, ?it/s]"
      ]
     },
     "metadata": {},
     "output_type": "display_data"
    },
    {
     "data": {
      "application/vnd.jupyter.widget-view+json": {
       "model_id": "8d1c94a380b84854887db560a1386b7a",
       "version_major": 2,
       "version_minor": 0
      },
      "text/plain": [
       "Writing issue 1551262845 batch files:   0%|          | 0/25 [00:00<?, ?it/s]"
      ]
     },
     "metadata": {},
     "output_type": "display_data"
    },
    {
     "data": {
      "application/vnd.jupyter.widget-view+json": {
       "model_id": "e345a69b70f7455a9bca0663fd5f839d",
       "version_major": 2,
       "version_minor": 0
      },
      "text/plain": [
       "Gathering CWE requests for issue 1262615064:   0%|          | 0/881 [00:00<?, ?it/s]"
      ]
     },
     "metadata": {},
     "output_type": "display_data"
    },
    {
     "data": {
      "application/vnd.jupyter.widget-view+json": {
       "model_id": "91eefcfbfb3c48c9923d9a38f1ce7e1b",
       "version_major": 2,
       "version_minor": 0
      },
      "text/plain": [
       "Writing issue 1262615064 batch files:   0%|          | 0/25 [00:00<?, ?it/s]"
      ]
     },
     "metadata": {},
     "output_type": "display_data"
    },
    {
     "data": {
      "application/vnd.jupyter.widget-view+json": {
       "model_id": "b0206782c2b34b4887eda088acd7f615",
       "version_major": 2,
       "version_minor": 0
      },
      "text/plain": [
       "Gathering CWE requests for issue 1622715249:   0%|          | 0/881 [00:00<?, ?it/s]"
      ]
     },
     "metadata": {},
     "output_type": "display_data"
    },
    {
     "data": {
      "application/vnd.jupyter.widget-view+json": {
       "model_id": "e46a4cd797c64cedac1758248c2a521f",
       "version_major": 2,
       "version_minor": 0
      },
      "text/plain": [
       "Writing issue 1622715249 batch files:   0%|          | 0/25 [00:00<?, ?it/s]"
      ]
     },
     "metadata": {},
     "output_type": "display_data"
    },
    {
     "data": {
      "application/vnd.jupyter.widget-view+json": {
       "model_id": "86571b4ea842472fb05e4af30b7149ae",
       "version_major": 2,
       "version_minor": 0
      },
      "text/plain": [
       "Gathering CWE requests for issue 128365381:   0%|          | 0/881 [00:00<?, ?it/s]"
      ]
     },
     "metadata": {},
     "output_type": "display_data"
    },
    {
     "data": {
      "application/vnd.jupyter.widget-view+json": {
       "model_id": "33b2969e111d4bcc865d1a5a76213ed0",
       "version_major": 2,
       "version_minor": 0
      },
      "text/plain": [
       "Writing issue 128365381 batch files:   0%|          | 0/25 [00:00<?, ?it/s]"
      ]
     },
     "metadata": {},
     "output_type": "display_data"
    },
    {
     "data": {
      "application/vnd.jupyter.widget-view+json": {
       "model_id": "cb9cd148b55740d9b73905dcb1072dab",
       "version_major": 2,
       "version_minor": 0
      },
      "text/plain": [
       "Gathering CWE requests for issue 2269392686:   0%|          | 0/881 [00:00<?, ?it/s]"
      ]
     },
     "metadata": {},
     "output_type": "display_data"
    },
    {
     "data": {
      "application/vnd.jupyter.widget-view+json": {
       "model_id": "28b72b9f77914b20b01c1efc0f97e50a",
       "version_major": 2,
       "version_minor": 0
      },
      "text/plain": [
       "Writing issue 2269392686 batch files:   0%|          | 0/25 [00:00<?, ?it/s]"
      ]
     },
     "metadata": {},
     "output_type": "display_data"
    },
    {
     "data": {
      "application/vnd.jupyter.widget-view+json": {
       "model_id": "7d126c46e37c49c1816663f22490d0be",
       "version_major": 2,
       "version_minor": 0
      },
      "text/plain": [
       "Gathering CWE requests for issue 1504470753:   0%|          | 0/881 [00:00<?, ?it/s]"
      ]
     },
     "metadata": {},
     "output_type": "display_data"
    },
    {
     "data": {
      "application/vnd.jupyter.widget-view+json": {
       "model_id": "fb802442bde748b58d64f17153a657b4",
       "version_major": 2,
       "version_minor": 0
      },
      "text/plain": [
       "Writing issue 1504470753 batch files:   0%|          | 0/25 [00:00<?, ?it/s]"
      ]
     },
     "metadata": {},
     "output_type": "display_data"
    },
    {
     "data": {
      "application/vnd.jupyter.widget-view+json": {
       "model_id": "30b76b7423de471db7883d69b3fca016",
       "version_major": 2,
       "version_minor": 0
      },
      "text/plain": [
       "Gathering CWE requests for issue 1958731162:   0%|          | 0/881 [00:00<?, ?it/s]"
      ]
     },
     "metadata": {},
     "output_type": "display_data"
    },
    {
     "data": {
      "application/vnd.jupyter.widget-view+json": {
       "model_id": "68aac42a31144547b18ebba713cbeb72",
       "version_major": 2,
       "version_minor": 0
      },
      "text/plain": [
       "Writing issue 1958731162 batch files:   0%|          | 0/25 [00:00<?, ?it/s]"
      ]
     },
     "metadata": {},
     "output_type": "display_data"
    },
    {
     "data": {
      "application/vnd.jupyter.widget-view+json": {
       "model_id": "38b00c1de8d24557a8c97f206c7d5ff6",
       "version_major": 2,
       "version_minor": 0
      },
      "text/plain": [
       "Gathering CWE requests for issue 1092488021:   0%|          | 0/881 [00:00<?, ?it/s]"
      ]
     },
     "metadata": {},
     "output_type": "display_data"
    },
    {
     "data": {
      "application/vnd.jupyter.widget-view+json": {
       "model_id": "11d73f247eff44d3a33d610ff5ed6107",
       "version_major": 2,
       "version_minor": 0
      },
      "text/plain": [
       "Writing issue 1092488021 batch files:   0%|          | 0/25 [00:00<?, ?it/s]"
      ]
     },
     "metadata": {},
     "output_type": "display_data"
    },
    {
     "data": {
      "application/vnd.jupyter.widget-view+json": {
       "model_id": "05a29d8ac7fc44a891004be57de56b77",
       "version_major": 2,
       "version_minor": 0
      },
      "text/plain": [
       "Gathering CWE requests for issue 2087766795:   0%|          | 0/881 [00:00<?, ?it/s]"
      ]
     },
     "metadata": {},
     "output_type": "display_data"
    },
    {
     "data": {
      "application/vnd.jupyter.widget-view+json": {
       "model_id": "25b8e8ca9bb740979e7704834da6c56b",
       "version_major": 2,
       "version_minor": 0
      },
      "text/plain": [
       "Writing issue 2087766795 batch files:   0%|          | 0/25 [00:00<?, ?it/s]"
      ]
     },
     "metadata": {},
     "output_type": "display_data"
    },
    {
     "data": {
      "application/vnd.jupyter.widget-view+json": {
       "model_id": "4aa971b9830743f490ede31926974886",
       "version_major": 2,
       "version_minor": 0
      },
      "text/plain": [
       "Gathering CWE requests for issue 989818036:   0%|          | 0/881 [00:00<?, ?it/s]"
      ]
     },
     "metadata": {},
     "output_type": "display_data"
    },
    {
     "data": {
      "application/vnd.jupyter.widget-view+json": {
       "model_id": "be66acacf2d8471b92f671b9ed356954",
       "version_major": 2,
       "version_minor": 0
      },
      "text/plain": [
       "Writing issue 989818036 batch files:   0%|          | 0/25 [00:00<?, ?it/s]"
      ]
     },
     "metadata": {},
     "output_type": "display_data"
    },
    {
     "data": {
      "application/vnd.jupyter.widget-view+json": {
       "model_id": "b12cc8c10f834b408beaf1a51985d987",
       "version_major": 2,
       "version_minor": 0
      },
      "text/plain": [
       "Gathering CWE requests for issue 1067997303:   0%|          | 0/881 [00:00<?, ?it/s]"
      ]
     },
     "metadata": {},
     "output_type": "display_data"
    },
    {
     "data": {
      "application/vnd.jupyter.widget-view+json": {
       "model_id": "f2637066efd04282ba469c6d48ea6d86",
       "version_major": 2,
       "version_minor": 0
      },
      "text/plain": [
       "Writing issue 1067997303 batch files:   0%|          | 0/25 [00:00<?, ?it/s]"
      ]
     },
     "metadata": {},
     "output_type": "display_data"
    },
    {
     "data": {
      "application/vnd.jupyter.widget-view+json": {
       "model_id": "76126308fa504379b3a3775c9f2eabd8",
       "version_major": 2,
       "version_minor": 0
      },
      "text/plain": [
       "Gathering CWE requests for issue 2757053536:   0%|          | 0/881 [00:00<?, ?it/s]"
      ]
     },
     "metadata": {},
     "output_type": "display_data"
    },
    {
     "data": {
      "application/vnd.jupyter.widget-view+json": {
       "model_id": "6605b3a12ac14d14a783bc5633d269b3",
       "version_major": 2,
       "version_minor": 0
      },
      "text/plain": [
       "Writing issue 2757053536 batch files:   0%|          | 0/25 [00:00<?, ?it/s]"
      ]
     },
     "metadata": {},
     "output_type": "display_data"
    },
    {
     "data": {
      "application/vnd.jupyter.widget-view+json": {
       "model_id": "2bbaac7cf32c4ce09073a0f09b93d324",
       "version_major": 2,
       "version_minor": 0
      },
      "text/plain": [
       "Gathering CWE requests for issue 890930565:   0%|          | 0/881 [00:00<?, ?it/s]"
      ]
     },
     "metadata": {},
     "output_type": "display_data"
    },
    {
     "data": {
      "application/vnd.jupyter.widget-view+json": {
       "model_id": "fe46739902754fe5ad415e8d54f0f7e4",
       "version_major": 2,
       "version_minor": 0
      },
      "text/plain": [
       "Writing issue 890930565 batch files:   0%|          | 0/25 [00:00<?, ?it/s]"
      ]
     },
     "metadata": {},
     "output_type": "display_data"
    },
    {
     "data": {
      "application/vnd.jupyter.widget-view+json": {
       "model_id": "c52aca2009ff4b8e99dcbfccfbf12d11",
       "version_major": 2,
       "version_minor": 0
      },
      "text/plain": [
       "Gathering CWE requests for issue 1283331255:   0%|          | 0/881 [00:00<?, ?it/s]"
      ]
     },
     "metadata": {},
     "output_type": "display_data"
    },
    {
     "data": {
      "application/vnd.jupyter.widget-view+json": {
       "model_id": "76cf394f20c340a7a22106454265cf0b",
       "version_major": 2,
       "version_minor": 0
      },
      "text/plain": [
       "Writing issue 1283331255 batch files:   0%|          | 0/25 [00:00<?, ?it/s]"
      ]
     },
     "metadata": {},
     "output_type": "display_data"
    },
    {
     "data": {
      "application/vnd.jupyter.widget-view+json": {
       "model_id": "a3853aa2a04046caaaddc02860d968e5",
       "version_major": 2,
       "version_minor": 0
      },
      "text/plain": [
       "Gathering CWE requests for issue 457401228:   0%|          | 0/881 [00:00<?, ?it/s]"
      ]
     },
     "metadata": {},
     "output_type": "display_data"
    },
    {
     "data": {
      "application/vnd.jupyter.widget-view+json": {
       "model_id": "e607281d5edd49d088ff5b9080d35b46",
       "version_major": 2,
       "version_minor": 0
      },
      "text/plain": [
       "Writing issue 457401228 batch files:   0%|          | 0/25 [00:00<?, ?it/s]"
      ]
     },
     "metadata": {},
     "output_type": "display_data"
    },
    {
     "data": {
      "application/vnd.jupyter.widget-view+json": {
       "model_id": "7237c0f9255a4788865f16779f6c5bc7",
       "version_major": 2,
       "version_minor": 0
      },
      "text/plain": [
       "Gathering CWE requests for issue 1075634585:   0%|          | 0/881 [00:00<?, ?it/s]"
      ]
     },
     "metadata": {},
     "output_type": "display_data"
    },
    {
     "data": {
      "application/vnd.jupyter.widget-view+json": {
       "model_id": "d528806f97204e91aa34521cbb7241da",
       "version_major": 2,
       "version_minor": 0
      },
      "text/plain": [
       "Writing issue 1075634585 batch files:   0%|          | 0/25 [00:00<?, ?it/s]"
      ]
     },
     "metadata": {},
     "output_type": "display_data"
    },
    {
     "data": {
      "application/vnd.jupyter.widget-view+json": {
       "model_id": "381490ddffee4f98a48c5647e0d3c22a",
       "version_major": 2,
       "version_minor": 0
      },
      "text/plain": [
       "Gathering CWE requests for issue 2402773382:   0%|          | 0/881 [00:00<?, ?it/s]"
      ]
     },
     "metadata": {},
     "output_type": "display_data"
    },
    {
     "data": {
      "application/vnd.jupyter.widget-view+json": {
       "model_id": "42be59231ada44868dbb63af91ca75dc",
       "version_major": 2,
       "version_minor": 0
      },
      "text/plain": [
       "Writing issue 2402773382 batch files:   0%|          | 0/25 [00:00<?, ?it/s]"
      ]
     },
     "metadata": {},
     "output_type": "display_data"
    },
    {
     "data": {
      "application/vnd.jupyter.widget-view+json": {
       "model_id": "84385bb758774dcdb5853525fd5963b6",
       "version_major": 2,
       "version_minor": 0
      },
      "text/plain": [
       "Gathering CWE requests for issue 1591349265:   0%|          | 0/881 [00:00<?, ?it/s]"
      ]
     },
     "metadata": {},
     "output_type": "display_data"
    },
    {
     "data": {
      "application/vnd.jupyter.widget-view+json": {
       "model_id": "63c29a0f09e34c1ebaed084464c274e3",
       "version_major": 2,
       "version_minor": 0
      },
      "text/plain": [
       "Writing issue 1591349265 batch files:   0%|          | 0/25 [00:00<?, ?it/s]"
      ]
     },
     "metadata": {},
     "output_type": "display_data"
    },
    {
     "data": {
      "application/vnd.jupyter.widget-view+json": {
       "model_id": "fda74c09ca844ed7ace3c058707f3756",
       "version_major": 2,
       "version_minor": 0
      },
      "text/plain": [
       "Gathering CWE requests for issue 2470000425:   0%|          | 0/881 [00:00<?, ?it/s]"
      ]
     },
     "metadata": {},
     "output_type": "display_data"
    },
    {
     "data": {
      "application/vnd.jupyter.widget-view+json": {
       "model_id": "71877a566020480e93ed5ce4030d80f7",
       "version_major": 2,
       "version_minor": 0
      },
      "text/plain": [
       "Writing issue 2470000425 batch files:   0%|          | 0/25 [00:00<?, ?it/s]"
      ]
     },
     "metadata": {},
     "output_type": "display_data"
    },
    {
     "data": {
      "application/vnd.jupyter.widget-view+json": {
       "model_id": "34c72fdb8ccd43f9b7bd01b695e7065c",
       "version_major": 2,
       "version_minor": 0
      },
      "text/plain": [
       "Gathering CWE requests for issue 1678132423:   0%|          | 0/881 [00:00<?, ?it/s]"
      ]
     },
     "metadata": {},
     "output_type": "display_data"
    },
    {
     "data": {
      "application/vnd.jupyter.widget-view+json": {
       "model_id": "34fe9b29ba724592b2c3b622423834d4",
       "version_major": 2,
       "version_minor": 0
      },
      "text/plain": [
       "Writing issue 1678132423 batch files:   0%|          | 0/25 [00:00<?, ?it/s]"
      ]
     },
     "metadata": {},
     "output_type": "display_data"
    },
    {
     "data": {
      "application/vnd.jupyter.widget-view+json": {
       "model_id": "a1ccf9291e3949d8b6a9eaa9231f29b7",
       "version_major": 2,
       "version_minor": 0
      },
      "text/plain": [
       "Gathering CWE requests for issue 521966021:   0%|          | 0/881 [00:00<?, ?it/s]"
      ]
     },
     "metadata": {},
     "output_type": "display_data"
    },
    {
     "data": {
      "application/vnd.jupyter.widget-view+json": {
       "model_id": "7204eb69a1c74989ac02f44a34f42c01",
       "version_major": 2,
       "version_minor": 0
      },
      "text/plain": [
       "Writing issue 521966021 batch files:   0%|          | 0/25 [00:00<?, ?it/s]"
      ]
     },
     "metadata": {},
     "output_type": "display_data"
    },
    {
     "data": {
      "application/vnd.jupyter.widget-view+json": {
       "model_id": "9a91c53f5f764d3ab15f47233cf52e81",
       "version_major": 2,
       "version_minor": 0
      },
      "text/plain": [
       "Gathering CWE requests for issue 390618242:   0%|          | 0/881 [00:00<?, ?it/s]"
      ]
     },
     "metadata": {},
     "output_type": "display_data"
    },
    {
     "data": {
      "application/vnd.jupyter.widget-view+json": {
       "model_id": "ee3c88cb9de9463c8ab29bac0071ba0f",
       "version_major": 2,
       "version_minor": 0
      },
      "text/plain": [
       "Writing issue 390618242 batch files:   0%|          | 0/25 [00:00<?, ?it/s]"
      ]
     },
     "metadata": {},
     "output_type": "display_data"
    },
    {
     "data": {
      "application/vnd.jupyter.widget-view+json": {
       "model_id": "b00617a0ba2a4126b30b5cc4b2d1dc6f",
       "version_major": 2,
       "version_minor": 0
      },
      "text/plain": [
       "Gathering CWE requests for issue 443731009:   0%|          | 0/881 [00:00<?, ?it/s]"
      ]
     },
     "metadata": {},
     "output_type": "display_data"
    },
    {
     "data": {
      "application/vnd.jupyter.widget-view+json": {
       "model_id": "d43984c8708947c3be8568545df41b5d",
       "version_major": 2,
       "version_minor": 0
      },
      "text/plain": [
       "Writing issue 443731009 batch files:   0%|          | 0/25 [00:00<?, ?it/s]"
      ]
     },
     "metadata": {},
     "output_type": "display_data"
    },
    {
     "data": {
      "application/vnd.jupyter.widget-view+json": {
       "model_id": "0f216ef39da24968953ff4578ec00fe3",
       "version_major": 2,
       "version_minor": 0
      },
      "text/plain": [
       "Gathering CWE requests for issue 2013657456:   0%|          | 0/881 [00:00<?, ?it/s]"
      ]
     },
     "metadata": {},
     "output_type": "display_data"
    },
    {
     "data": {
      "application/vnd.jupyter.widget-view+json": {
       "model_id": "a81ec54cac9c467aaaa09b05ab677f44",
       "version_major": 2,
       "version_minor": 0
      },
      "text/plain": [
       "Writing issue 2013657456 batch files:   0%|          | 0/25 [00:00<?, ?it/s]"
      ]
     },
     "metadata": {},
     "output_type": "display_data"
    },
    {
     "data": {
      "application/vnd.jupyter.widget-view+json": {
       "model_id": "10b4763f61aa4ab2972873d40c7c772c",
       "version_major": 2,
       "version_minor": 0
      },
      "text/plain": [
       "Gathering CWE requests for issue 1091461914:   0%|          | 0/881 [00:00<?, ?it/s]"
      ]
     },
     "metadata": {},
     "output_type": "display_data"
    },
    {
     "data": {
      "application/vnd.jupyter.widget-view+json": {
       "model_id": "a67b52dad08d4508a157c4f359d60dbb",
       "version_major": 2,
       "version_minor": 0
      },
      "text/plain": [
       "Writing issue 1091461914 batch files:   0%|          | 0/25 [00:00<?, ?it/s]"
      ]
     },
     "metadata": {},
     "output_type": "display_data"
    },
    {
     "data": {
      "application/vnd.jupyter.widget-view+json": {
       "model_id": "6cfeb09d544641d88e69d129b6036718",
       "version_major": 2,
       "version_minor": 0
      },
      "text/plain": [
       "Gathering CWE requests for issue 2446029424:   0%|          | 0/881 [00:00<?, ?it/s]"
      ]
     },
     "metadata": {},
     "output_type": "display_data"
    },
    {
     "data": {
      "application/vnd.jupyter.widget-view+json": {
       "model_id": "8f622042dd2a468ead3bae741e0cdaf2",
       "version_major": 2,
       "version_minor": 0
      },
      "text/plain": [
       "Writing issue 2446029424 batch files:   0%|          | 0/25 [00:00<?, ?it/s]"
      ]
     },
     "metadata": {},
     "output_type": "display_data"
    },
    {
     "data": {
      "application/vnd.jupyter.widget-view+json": {
       "model_id": "8444807c522c4ee68f1829ba1655ebc9",
       "version_major": 2,
       "version_minor": 0
      },
      "text/plain": [
       "Gathering CWE requests for issue 2766906438:   0%|          | 0/881 [00:00<?, ?it/s]"
      ]
     },
     "metadata": {},
     "output_type": "display_data"
    },
    {
     "data": {
      "application/vnd.jupyter.widget-view+json": {
       "model_id": "1475b97e741748bd9478618569b83115",
       "version_major": 2,
       "version_minor": 0
      },
      "text/plain": [
       "Writing issue 2766906438 batch files:   0%|          | 0/25 [00:00<?, ?it/s]"
      ]
     },
     "metadata": {},
     "output_type": "display_data"
    },
    {
     "data": {
      "application/vnd.jupyter.widget-view+json": {
       "model_id": "006212e1876c4bbeb355aaaf0b355347",
       "version_major": 2,
       "version_minor": 0
      },
      "text/plain": [
       "Gathering CWE requests for issue 1638082166:   0%|          | 0/881 [00:00<?, ?it/s]"
      ]
     },
     "metadata": {},
     "output_type": "display_data"
    },
    {
     "data": {
      "application/vnd.jupyter.widget-view+json": {
       "model_id": "980d1fe347e24a65b29cc41243f424d7",
       "version_major": 2,
       "version_minor": 0
      },
      "text/plain": [
       "Writing issue 1638082166 batch files:   0%|          | 0/25 [00:00<?, ?it/s]"
      ]
     },
     "metadata": {},
     "output_type": "display_data"
    },
    {
     "data": {
      "application/vnd.jupyter.widget-view+json": {
       "model_id": "e9e80070037e436eabee4b2d807f41b9",
       "version_major": 2,
       "version_minor": 0
      },
      "text/plain": [
       "Gathering CWE requests for issue 1877041344:   0%|          | 0/881 [00:00<?, ?it/s]"
      ]
     },
     "metadata": {},
     "output_type": "display_data"
    },
    {
     "data": {
      "application/vnd.jupyter.widget-view+json": {
       "model_id": "d5aad6a0478341489563c4e94bea4c3c",
       "version_major": 2,
       "version_minor": 0
      },
      "text/plain": [
       "Writing issue 1877041344 batch files:   0%|          | 0/25 [00:00<?, ?it/s]"
      ]
     },
     "metadata": {},
     "output_type": "display_data"
    },
    {
     "data": {
      "application/vnd.jupyter.widget-view+json": {
       "model_id": "808921ecd7434f299469201c92ab88ee",
       "version_major": 2,
       "version_minor": 0
      },
      "text/plain": [
       "Gathering CWE requests for issue 2038181017:   0%|          | 0/881 [00:00<?, ?it/s]"
      ]
     },
     "metadata": {},
     "output_type": "display_data"
    },
    {
     "data": {
      "application/vnd.jupyter.widget-view+json": {
       "model_id": "33335cccca8244e1bd32c3957f126972",
       "version_major": 2,
       "version_minor": 0
      },
      "text/plain": [
       "Writing issue 2038181017 batch files:   0%|          | 0/25 [00:00<?, ?it/s]"
      ]
     },
     "metadata": {},
     "output_type": "display_data"
    },
    {
     "data": {
      "application/vnd.jupyter.widget-view+json": {
       "model_id": "9a43c8f5e6204910bb731f717717e8d3",
       "version_major": 2,
       "version_minor": 0
      },
      "text/plain": [
       "Gathering CWE requests for issue 1490026124:   0%|          | 0/881 [00:00<?, ?it/s]"
      ]
     },
     "metadata": {},
     "output_type": "display_data"
    },
    {
     "data": {
      "application/vnd.jupyter.widget-view+json": {
       "model_id": "db6c653b878947efaccaf108b32a1768",
       "version_major": 2,
       "version_minor": 0
      },
      "text/plain": [
       "Writing issue 1490026124 batch files:   0%|          | 0/25 [00:00<?, ?it/s]"
      ]
     },
     "metadata": {},
     "output_type": "display_data"
    },
    {
     "data": {
      "application/vnd.jupyter.widget-view+json": {
       "model_id": "dcd2a3d680cd49f58082caff486c5b5b",
       "version_major": 2,
       "version_minor": 0
      },
      "text/plain": [
       "Gathering CWE requests for issue 2849815301:   0%|          | 0/881 [00:00<?, ?it/s]"
      ]
     },
     "metadata": {},
     "output_type": "display_data"
    },
    {
     "data": {
      "application/vnd.jupyter.widget-view+json": {
       "model_id": "38a0e1e192f7498d9491d5e56f04f364",
       "version_major": 2,
       "version_minor": 0
      },
      "text/plain": [
       "Writing issue 2849815301 batch files:   0%|          | 0/25 [00:00<?, ?it/s]"
      ]
     },
     "metadata": {},
     "output_type": "display_data"
    },
    {
     "data": {
      "application/vnd.jupyter.widget-view+json": {
       "model_id": "8e7c1207131f49c5959ae90b843023ae",
       "version_major": 2,
       "version_minor": 0
      },
      "text/plain": [
       "Gathering CWE requests for issue 2623878087:   0%|          | 0/881 [00:00<?, ?it/s]"
      ]
     },
     "metadata": {},
     "output_type": "display_data"
    },
    {
     "data": {
      "application/vnd.jupyter.widget-view+json": {
       "model_id": "6ccfbbf80ed6431f8776d5e8205f68db",
       "version_major": 2,
       "version_minor": 0
      },
      "text/plain": [
       "Writing issue 2623878087 batch files:   0%|          | 0/25 [00:00<?, ?it/s]"
      ]
     },
     "metadata": {},
     "output_type": "display_data"
    },
    {
     "data": {
      "application/vnd.jupyter.widget-view+json": {
       "model_id": "4681ba1cfde84f4f94032e536477c174",
       "version_major": 2,
       "version_minor": 0
      },
      "text/plain": [
       "Gathering CWE requests for issue 416830460:   0%|          | 0/881 [00:00<?, ?it/s]"
      ]
     },
     "metadata": {},
     "output_type": "display_data"
    },
    {
     "data": {
      "application/vnd.jupyter.widget-view+json": {
       "model_id": "111122c085e34929b3f3e159dfb81f60",
       "version_major": 2,
       "version_minor": 0
      },
      "text/plain": [
       "Writing issue 416830460 batch files:   0%|          | 0/25 [00:00<?, ?it/s]"
      ]
     },
     "metadata": {},
     "output_type": "display_data"
    },
    {
     "data": {
      "application/vnd.jupyter.widget-view+json": {
       "model_id": "dde6bcb835424519b1a444419d5de22b",
       "version_major": 2,
       "version_minor": 0
      },
      "text/plain": [
       "Gathering CWE requests for issue 1958731817:   0%|          | 0/881 [00:00<?, ?it/s]"
      ]
     },
     "metadata": {},
     "output_type": "display_data"
    },
    {
     "data": {
      "application/vnd.jupyter.widget-view+json": {
       "model_id": "3d0aab11e26d469ea01bcea0b73ee91e",
       "version_major": 2,
       "version_minor": 0
      },
      "text/plain": [
       "Writing issue 1958731817 batch files:   0%|          | 0/25 [00:00<?, ?it/s]"
      ]
     },
     "metadata": {},
     "output_type": "display_data"
    },
    {
     "data": {
      "application/vnd.jupyter.widget-view+json": {
       "model_id": "09eb571933e84fe88f29c22ea0d39a94",
       "version_major": 2,
       "version_minor": 0
      },
      "text/plain": [
       "Gathering CWE requests for issue 1091464835:   0%|          | 0/881 [00:00<?, ?it/s]"
      ]
     },
     "metadata": {},
     "output_type": "display_data"
    },
    {
     "data": {
      "application/vnd.jupyter.widget-view+json": {
       "model_id": "334dd097483244d5a3d97343c6af0146",
       "version_major": 2,
       "version_minor": 0
      },
      "text/plain": [
       "Writing issue 1091464835 batch files:   0%|          | 0/25 [00:00<?, ?it/s]"
      ]
     },
     "metadata": {},
     "output_type": "display_data"
    },
    {
     "data": {
      "application/vnd.jupyter.widget-view+json": {
       "model_id": "fea2f70f997641d0b197fa26a20292f3",
       "version_major": 2,
       "version_minor": 0
      },
      "text/plain": [
       "Gathering CWE requests for issue 1877040379:   0%|          | 0/881 [00:00<?, ?it/s]"
      ]
     },
     "metadata": {},
     "output_type": "display_data"
    },
    {
     "data": {
      "application/vnd.jupyter.widget-view+json": {
       "model_id": "95ccac9b86554b2fa67707f71c8d952b",
       "version_major": 2,
       "version_minor": 0
      },
      "text/plain": [
       "Writing issue 1877040379 batch files:   0%|          | 0/25 [00:00<?, ?it/s]"
      ]
     },
     "metadata": {},
     "output_type": "display_data"
    },
    {
     "data": {
      "application/vnd.jupyter.widget-view+json": {
       "model_id": "27e7dd1367cb4c2383f50097fb33201b",
       "version_major": 2,
       "version_minor": 0
      },
      "text/plain": [
       "Gathering CWE requests for issue 843020967:   0%|          | 0/881 [00:00<?, ?it/s]"
      ]
     },
     "metadata": {},
     "output_type": "display_data"
    },
    {
     "data": {
      "application/vnd.jupyter.widget-view+json": {
       "model_id": "2df3296ba6c04f85a2e593c94010c2bf",
       "version_major": 2,
       "version_minor": 0
      },
      "text/plain": [
       "Writing issue 843020967 batch files:   0%|          | 0/25 [00:00<?, ?it/s]"
      ]
     },
     "metadata": {},
     "output_type": "display_data"
    },
    {
     "data": {
      "application/vnd.jupyter.widget-view+json": {
       "model_id": "ab2e0cc44d9245ee9dbd6ad127710f0b",
       "version_major": 2,
       "version_minor": 0
      },
      "text/plain": [
       "Gathering CWE requests for issue 464791707:   0%|          | 0/881 [00:00<?, ?it/s]"
      ]
     },
     "metadata": {},
     "output_type": "display_data"
    },
    {
     "data": {
      "application/vnd.jupyter.widget-view+json": {
       "model_id": "91bc133c00e84faaaf147fba5269f0d2",
       "version_major": 2,
       "version_minor": 0
      },
      "text/plain": [
       "Writing issue 464791707 batch files:   0%|          | 0/25 [00:00<?, ?it/s]"
      ]
     },
     "metadata": {},
     "output_type": "display_data"
    },
    {
     "data": {
      "application/vnd.jupyter.widget-view+json": {
       "model_id": "39290a7820054332bca8093daf7c2a06",
       "version_major": 2,
       "version_minor": 0
      },
      "text/plain": [
       "Gathering CWE requests for issue 978737969:   0%|          | 0/881 [00:00<?, ?it/s]"
      ]
     },
     "metadata": {},
     "output_type": "display_data"
    },
    {
     "data": {
      "application/vnd.jupyter.widget-view+json": {
       "model_id": "2536fde9a0af41bbad52fbbfd987e6ab",
       "version_major": 2,
       "version_minor": 0
      },
      "text/plain": [
       "Writing issue 978737969 batch files:   0%|          | 0/25 [00:00<?, ?it/s]"
      ]
     },
     "metadata": {},
     "output_type": "display_data"
    },
    {
     "data": {
      "application/vnd.jupyter.widget-view+json": {
       "model_id": "8d4693f0822c4466b7321e05ec835248",
       "version_major": 2,
       "version_minor": 0
      },
      "text/plain": [
       "Gathering CWE requests for issue 2505703359:   0%|          | 0/881 [00:00<?, ?it/s]"
      ]
     },
     "metadata": {},
     "output_type": "display_data"
    },
    {
     "data": {
      "application/vnd.jupyter.widget-view+json": {
       "model_id": "deba847fa91d4f0d8586d9530ae74a62",
       "version_major": 2,
       "version_minor": 0
      },
      "text/plain": [
       "Writing issue 2505703359 batch files:   0%|          | 0/25 [00:00<?, ?it/s]"
      ]
     },
     "metadata": {},
     "output_type": "display_data"
    },
    {
     "data": {
      "application/vnd.jupyter.widget-view+json": {
       "model_id": "42a2da27862f4c1fbccda5c66338097c",
       "version_major": 2,
       "version_minor": 0
      },
      "text/plain": [
       "Gathering CWE requests for issue 777468703:   0%|          | 0/881 [00:00<?, ?it/s]"
      ]
     },
     "metadata": {},
     "output_type": "display_data"
    },
    {
     "data": {
      "application/vnd.jupyter.widget-view+json": {
       "model_id": "3906713aa4324283ac68cd59a97c7f2a",
       "version_major": 2,
       "version_minor": 0
      },
      "text/plain": [
       "Writing issue 777468703 batch files:   0%|          | 0/25 [00:00<?, ?it/s]"
      ]
     },
     "metadata": {},
     "output_type": "display_data"
    },
    {
     "data": {
      "application/vnd.jupyter.widget-view+json": {
       "model_id": "8d0a90d6af8549c080586cfa6f17b2bb",
       "version_major": 2,
       "version_minor": 0
      },
      "text/plain": [
       "Gathering CWE requests for issue 2191992352:   0%|          | 0/881 [00:00<?, ?it/s]"
      ]
     },
     "metadata": {},
     "output_type": "display_data"
    },
    {
     "data": {
      "application/vnd.jupyter.widget-view+json": {
       "model_id": "b0827436031840509185cdb881c482a1",
       "version_major": 2,
       "version_minor": 0
      },
      "text/plain": [
       "Writing issue 2191992352 batch files:   0%|          | 0/25 [00:00<?, ?it/s]"
      ]
     },
     "metadata": {},
     "output_type": "display_data"
    },
    {
     "data": {
      "application/vnd.jupyter.widget-view+json": {
       "model_id": "59c7eaaf787f40e3ba0bfcc805973691",
       "version_major": 2,
       "version_minor": 0
      },
      "text/plain": [
       "Gathering CWE requests for issue 1091460498:   0%|          | 0/881 [00:00<?, ?it/s]"
      ]
     },
     "metadata": {},
     "output_type": "display_data"
    },
    {
     "data": {
      "application/vnd.jupyter.widget-view+json": {
       "model_id": "ce2129cd9cda4e7196015f73d9f90f60",
       "version_major": 2,
       "version_minor": 0
      },
      "text/plain": [
       "Writing issue 1091460498 batch files:   0%|          | 0/25 [00:00<?, ?it/s]"
      ]
     },
     "metadata": {},
     "output_type": "display_data"
    },
    {
     "data": {
      "application/vnd.jupyter.widget-view+json": {
       "model_id": "f11c636367774db58b9ecd4dbd2fb54a",
       "version_major": 2,
       "version_minor": 0
      },
      "text/plain": [
       "Gathering CWE requests for issue 973344583:   0%|          | 0/881 [00:00<?, ?it/s]"
      ]
     },
     "metadata": {},
     "output_type": "display_data"
    },
    {
     "data": {
      "application/vnd.jupyter.widget-view+json": {
       "model_id": "adf9120a9ebc4b05955bcd073febf99b",
       "version_major": 2,
       "version_minor": 0
      },
      "text/plain": [
       "Writing issue 973344583 batch files:   0%|          | 0/25 [00:00<?, ?it/s]"
      ]
     },
     "metadata": {},
     "output_type": "display_data"
    },
    {
     "data": {
      "application/vnd.jupyter.widget-view+json": {
       "model_id": "fa3ec86ffdd2444592050c4eab73bfe8",
       "version_major": 2,
       "version_minor": 0
      },
      "text/plain": [
       "Gathering CWE requests for issue 1088318016:   0%|          | 0/881 [00:00<?, ?it/s]"
      ]
     },
     "metadata": {},
     "output_type": "display_data"
    },
    {
     "data": {
      "application/vnd.jupyter.widget-view+json": {
       "model_id": "ceed126f760b453b9e56f101358dda01",
       "version_major": 2,
       "version_minor": 0
      },
      "text/plain": [
       "Writing issue 1088318016 batch files:   0%|          | 0/25 [00:00<?, ?it/s]"
      ]
     },
     "metadata": {},
     "output_type": "display_data"
    },
    {
     "data": {
      "application/vnd.jupyter.widget-view+json": {
       "model_id": "9de79507c0974055b5766f964543d5cc",
       "version_major": 2,
       "version_minor": 0
      },
      "text/plain": [
       "Gathering CWE requests for issue 1075648914:   0%|          | 0/881 [00:00<?, ?it/s]"
      ]
     },
     "metadata": {},
     "output_type": "display_data"
    },
    {
     "data": {
      "application/vnd.jupyter.widget-view+json": {
       "model_id": "a448cafb654d4d898564f246730b798a",
       "version_major": 2,
       "version_minor": 0
      },
      "text/plain": [
       "Writing issue 1075648914 batch files:   0%|          | 0/25 [00:00<?, ?it/s]"
      ]
     },
     "metadata": {},
     "output_type": "display_data"
    },
    {
     "data": {
      "application/vnd.jupyter.widget-view+json": {
       "model_id": "36f677a123264122b863b7e8693ef01b",
       "version_major": 2,
       "version_minor": 0
      },
      "text/plain": [
       "Gathering CWE requests for issue 2837280188:   0%|          | 0/881 [00:00<?, ?it/s]"
      ]
     },
     "metadata": {},
     "output_type": "display_data"
    },
    {
     "data": {
      "application/vnd.jupyter.widget-view+json": {
       "model_id": "240987e232344c079f61f0f332a3e5e6",
       "version_major": 2,
       "version_minor": 0
      },
      "text/plain": [
       "Writing issue 2837280188 batch files:   0%|          | 0/25 [00:00<?, ?it/s]"
      ]
     },
     "metadata": {},
     "output_type": "display_data"
    },
    {
     "data": {
      "application/vnd.jupyter.widget-view+json": {
       "model_id": "422226bd90e345318ec2d51a48b9d237",
       "version_major": 2,
       "version_minor": 0
      },
      "text/plain": [
       "Gathering CWE requests for issue 2403698799:   0%|          | 0/881 [00:00<?, ?it/s]"
      ]
     },
     "metadata": {},
     "output_type": "display_data"
    },
    {
     "data": {
      "application/vnd.jupyter.widget-view+json": {
       "model_id": "99ed13fd6e3f4386966a54fcbf8456fc",
       "version_major": 2,
       "version_minor": 0
      },
      "text/plain": [
       "Writing issue 2403698799 batch files:   0%|          | 0/25 [00:00<?, ?it/s]"
      ]
     },
     "metadata": {},
     "output_type": "display_data"
    },
    {
     "data": {
      "application/vnd.jupyter.widget-view+json": {
       "model_id": "cb8fe90b158945c283270cc7e574e9f2",
       "version_major": 2,
       "version_minor": 0
      },
      "text/plain": [
       "Gathering CWE requests for issue 780977211:   0%|          | 0/881 [00:00<?, ?it/s]"
      ]
     },
     "metadata": {},
     "output_type": "display_data"
    },
    {
     "data": {
      "application/vnd.jupyter.widget-view+json": {
       "model_id": "939117d250b94278a65549df49a3b931",
       "version_major": 2,
       "version_minor": 0
      },
      "text/plain": [
       "Writing issue 780977211 batch files:   0%|          | 0/25 [00:00<?, ?it/s]"
      ]
     },
     "metadata": {},
     "output_type": "display_data"
    },
    {
     "data": {
      "application/vnd.jupyter.widget-view+json": {
       "model_id": "b00aab6e01194fd6a67517dd37f59ba6",
       "version_major": 2,
       "version_minor": 0
      },
      "text/plain": [
       "Gathering CWE requests for issue 1075608151:   0%|          | 0/881 [00:00<?, ?it/s]"
      ]
     },
     "metadata": {},
     "output_type": "display_data"
    },
    {
     "data": {
      "application/vnd.jupyter.widget-view+json": {
       "model_id": "b1c38584233942229ab7fae78210bd7a",
       "version_major": 2,
       "version_minor": 0
      },
      "text/plain": [
       "Writing issue 1075608151 batch files:   0%|          | 0/25 [00:00<?, ?it/s]"
      ]
     },
     "metadata": {},
     "output_type": "display_data"
    },
    {
     "data": {
      "application/vnd.jupyter.widget-view+json": {
       "model_id": "433b21f71d294353ad0588e539274e73",
       "version_major": 2,
       "version_minor": 0
      },
      "text/plain": [
       "Gathering CWE requests for issue 2221191378:   0%|          | 0/881 [00:00<?, ?it/s]"
      ]
     },
     "metadata": {},
     "output_type": "display_data"
    },
    {
     "data": {
      "application/vnd.jupyter.widget-view+json": {
       "model_id": "3d66ddbc299e47e698dc609050304bf7",
       "version_major": 2,
       "version_minor": 0
      },
      "text/plain": [
       "Writing issue 2221191378 batch files:   0%|          | 0/25 [00:00<?, ?it/s]"
      ]
     },
     "metadata": {},
     "output_type": "display_data"
    },
    {
     "data": {
      "application/vnd.jupyter.widget-view+json": {
       "model_id": "95fd8a6b87bc482b927b9e52c07d6e0b",
       "version_major": 2,
       "version_minor": 0
      },
      "text/plain": [
       "Gathering CWE requests for issue 1086989862:   0%|          | 0/881 [00:00<?, ?it/s]"
      ]
     },
     "metadata": {},
     "output_type": "display_data"
    },
    {
     "data": {
      "application/vnd.jupyter.widget-view+json": {
       "model_id": "73400a6822194e828b846d1ba87f8f1c",
       "version_major": 2,
       "version_minor": 0
      },
      "text/plain": [
       "Writing issue 1086989862 batch files:   0%|          | 0/25 [00:00<?, ?it/s]"
      ]
     },
     "metadata": {},
     "output_type": "display_data"
    },
    {
     "data": {
      "application/vnd.jupyter.widget-view+json": {
       "model_id": "88fdcfb763d84d7e9a4aa3293f679b61",
       "version_major": 2,
       "version_minor": 0
      },
      "text/plain": [
       "Gathering CWE requests for issue 895166227:   0%|          | 0/881 [00:00<?, ?it/s]"
      ]
     },
     "metadata": {},
     "output_type": "display_data"
    },
    {
     "data": {
      "application/vnd.jupyter.widget-view+json": {
       "model_id": "fcc73417e1754ade86954b1f41ed7ae5",
       "version_major": 2,
       "version_minor": 0
      },
      "text/plain": [
       "Writing issue 895166227 batch files:   0%|          | 0/25 [00:00<?, ?it/s]"
      ]
     },
     "metadata": {},
     "output_type": "display_data"
    },
    {
     "data": {
      "application/vnd.jupyter.widget-view+json": {
       "model_id": "e4ac6981f1d1436e87d718f8830435b9",
       "version_major": 2,
       "version_minor": 0
      },
      "text/plain": [
       "Gathering CWE requests for issue 2054769328:   0%|          | 0/881 [00:00<?, ?it/s]"
      ]
     },
     "metadata": {},
     "output_type": "display_data"
    },
    {
     "data": {
      "application/vnd.jupyter.widget-view+json": {
       "model_id": "a36b029650314301b3ade464c34d2982",
       "version_major": 2,
       "version_minor": 0
      },
      "text/plain": [
       "Writing issue 2054769328 batch files:   0%|          | 0/25 [00:00<?, ?it/s]"
      ]
     },
     "metadata": {},
     "output_type": "display_data"
    },
    {
     "data": {
      "application/vnd.jupyter.widget-view+json": {
       "model_id": "3d6dcf69a64d4c20aa863fc5d69b78e0",
       "version_major": 2,
       "version_minor": 0
      },
      "text/plain": [
       "Gathering CWE requests for issue 1761007588:   0%|          | 0/881 [00:00<?, ?it/s]"
      ]
     },
     "metadata": {},
     "output_type": "display_data"
    },
    {
     "data": {
      "application/vnd.jupyter.widget-view+json": {
       "model_id": "9fc35d14c53943678d095b10e8f6c800",
       "version_major": 2,
       "version_minor": 0
      },
      "text/plain": [
       "Writing issue 1761007588 batch files:   0%|          | 0/25 [00:00<?, ?it/s]"
      ]
     },
     "metadata": {},
     "output_type": "display_data"
    },
    {
     "data": {
      "application/vnd.jupyter.widget-view+json": {
       "model_id": "4f8fe795fcdf4c83b1b16af302fd350d",
       "version_major": 2,
       "version_minor": 0
      },
      "text/plain": [
       "Gathering CWE requests for issue 1427850588:   0%|          | 0/881 [00:00<?, ?it/s]"
      ]
     },
     "metadata": {},
     "output_type": "display_data"
    },
    {
     "data": {
      "application/vnd.jupyter.widget-view+json": {
       "model_id": "f4d038752bc14d5f8788198cc2f275b3",
       "version_major": 2,
       "version_minor": 0
      },
      "text/plain": [
       "Writing issue 1427850588 batch files:   0%|          | 0/25 [00:00<?, ?it/s]"
      ]
     },
     "metadata": {},
     "output_type": "display_data"
    },
    {
     "data": {
      "application/vnd.jupyter.widget-view+json": {
       "model_id": "b9edaa0fb499421ebfe0eb8588a72b5b",
       "version_major": 2,
       "version_minor": 0
      },
      "text/plain": [
       "Gathering CWE requests for issue 2191877306:   0%|          | 0/881 [00:00<?, ?it/s]"
      ]
     },
     "metadata": {},
     "output_type": "display_data"
    },
    {
     "data": {
      "application/vnd.jupyter.widget-view+json": {
       "model_id": "4057fc6140de4a22aad2607380e9c289",
       "version_major": 2,
       "version_minor": 0
      },
      "text/plain": [
       "Writing issue 2191877306 batch files:   0%|          | 0/25 [00:00<?, ?it/s]"
      ]
     },
     "metadata": {},
     "output_type": "display_data"
    },
    {
     "data": {
      "application/vnd.jupyter.widget-view+json": {
       "model_id": "eb857e0c51514307acf6a31b173963d6",
       "version_major": 2,
       "version_minor": 0
      },
      "text/plain": [
       "Gathering CWE requests for issue 2245929415:   0%|          | 0/881 [00:00<?, ?it/s]"
      ]
     },
     "metadata": {},
     "output_type": "display_data"
    },
    {
     "data": {
      "application/vnd.jupyter.widget-view+json": {
       "model_id": "3123ae03863e440b8f12ef3dc75f5140",
       "version_major": 2,
       "version_minor": 0
      },
      "text/plain": [
       "Writing issue 2245929415 batch files:   0%|          | 0/25 [00:00<?, ?it/s]"
      ]
     },
     "metadata": {},
     "output_type": "display_data"
    },
    {
     "data": {
      "application/vnd.jupyter.widget-view+json": {
       "model_id": "aec4cf8f41be46c4b5dfc620ffdf0a07",
       "version_major": 2,
       "version_minor": 0
      },
      "text/plain": [
       "Gathering CWE requests for issue 1093038523:   0%|          | 0/881 [00:00<?, ?it/s]"
      ]
     },
     "metadata": {},
     "output_type": "display_data"
    },
    {
     "data": {
      "application/vnd.jupyter.widget-view+json": {
       "model_id": "ed2a45cd85aa4253a572b7556a7bf426",
       "version_major": 2,
       "version_minor": 0
      },
      "text/plain": [
       "Writing issue 1093038523 batch files:   0%|          | 0/25 [00:00<?, ?it/s]"
      ]
     },
     "metadata": {},
     "output_type": "display_data"
    },
    {
     "data": {
      "application/vnd.jupyter.widget-view+json": {
       "model_id": "eafd012839584459a76fd3eb6b9232ad",
       "version_major": 2,
       "version_minor": 0
      },
      "text/plain": [
       "Gathering CWE requests for issue 1537344132:   0%|          | 0/881 [00:00<?, ?it/s]"
      ]
     },
     "metadata": {},
     "output_type": "display_data"
    },
    {
     "data": {
      "application/vnd.jupyter.widget-view+json": {
       "model_id": "dfe751b648b040ba84d029f04dd074d5",
       "version_major": 2,
       "version_minor": 0
      },
      "text/plain": [
       "Writing issue 1537344132 batch files:   0%|          | 0/25 [00:00<?, ?it/s]"
      ]
     },
     "metadata": {},
     "output_type": "display_data"
    },
    {
     "data": {
      "application/vnd.jupyter.widget-view+json": {
       "model_id": "0ce6c96337c74dfea2052632578eca62",
       "version_major": 2,
       "version_minor": 0
      },
      "text/plain": [
       "Gathering CWE requests for issue 1077478008:   0%|          | 0/881 [00:00<?, ?it/s]"
      ]
     },
     "metadata": {},
     "output_type": "display_data"
    },
    {
     "data": {
      "application/vnd.jupyter.widget-view+json": {
       "model_id": "1bbd323b1bd04d1795bfd1bc79d53623",
       "version_major": 2,
       "version_minor": 0
      },
      "text/plain": [
       "Writing issue 1077478008 batch files:   0%|          | 0/25 [00:00<?, ?it/s]"
      ]
     },
     "metadata": {},
     "output_type": "display_data"
    },
    {
     "data": {
      "application/vnd.jupyter.widget-view+json": {
       "model_id": "4938871d1d504e5291a4401e81f7f69d",
       "version_major": 2,
       "version_minor": 0
      },
      "text/plain": [
       "Gathering CWE requests for issue 619604019:   0%|          | 0/881 [00:00<?, ?it/s]"
      ]
     },
     "metadata": {},
     "output_type": "display_data"
    },
    {
     "data": {
      "application/vnd.jupyter.widget-view+json": {
       "model_id": "5ed3ecf2b6974b2e849e3c885ef2245b",
       "version_major": 2,
       "version_minor": 0
      },
      "text/plain": [
       "Writing issue 619604019 batch files:   0%|          | 0/25 [00:00<?, ?it/s]"
      ]
     },
     "metadata": {},
     "output_type": "display_data"
    },
    {
     "data": {
      "application/vnd.jupyter.widget-view+json": {
       "model_id": "f9bba2c4314f4f2fa21983b6a4d95079",
       "version_major": 2,
       "version_minor": 0
      },
      "text/plain": [
       "Gathering CWE requests for issue 982112750:   0%|          | 0/881 [00:00<?, ?it/s]"
      ]
     },
     "metadata": {},
     "output_type": "display_data"
    },
    {
     "data": {
      "application/vnd.jupyter.widget-view+json": {
       "model_id": "763015f421954186b9691ec840d74f99",
       "version_major": 2,
       "version_minor": 0
      },
      "text/plain": [
       "Writing issue 982112750 batch files:   0%|          | 0/25 [00:00<?, ?it/s]"
      ]
     },
     "metadata": {},
     "output_type": "display_data"
    },
    {
     "data": {
      "application/vnd.jupyter.widget-view+json": {
       "model_id": "9115a1d97e5e465a902c8435f8ed50a7",
       "version_major": 2,
       "version_minor": 0
      },
      "text/plain": [
       "Gathering CWE requests for issue 651247064:   0%|          | 0/881 [00:00<?, ?it/s]"
      ]
     },
     "metadata": {},
     "output_type": "display_data"
    },
    {
     "data": {
      "application/vnd.jupyter.widget-view+json": {
       "model_id": "1997f112af5844189c79eb23ab127cb6",
       "version_major": 2,
       "version_minor": 0
      },
      "text/plain": [
       "Writing issue 651247064 batch files:   0%|          | 0/25 [00:00<?, ?it/s]"
      ]
     },
     "metadata": {},
     "output_type": "display_data"
    },
    {
     "data": {
      "application/vnd.jupyter.widget-view+json": {
       "model_id": "f0a7ed303cd54e43bc4b96a687f594a7",
       "version_major": 2,
       "version_minor": 0
      },
      "text/plain": [
       "Gathering CWE requests for issue 895166975:   0%|          | 0/881 [00:00<?, ?it/s]"
      ]
     },
     "metadata": {},
     "output_type": "display_data"
    },
    {
     "data": {
      "application/vnd.jupyter.widget-view+json": {
       "model_id": "e286c503135e4625a894594c89c61f42",
       "version_major": 2,
       "version_minor": 0
      },
      "text/plain": [
       "Writing issue 895166975 batch files:   0%|          | 0/25 [00:00<?, ?it/s]"
      ]
     },
     "metadata": {},
     "output_type": "display_data"
    },
    {
     "data": {
      "application/vnd.jupyter.widget-view+json": {
       "model_id": "7479ba6952414b3fb5febc6402152def",
       "version_major": 2,
       "version_minor": 0
      },
      "text/plain": [
       "Gathering CWE requests for issue 1128487015:   0%|          | 0/881 [00:00<?, ?it/s]"
      ]
     },
     "metadata": {},
     "output_type": "display_data"
    },
    {
     "data": {
      "application/vnd.jupyter.widget-view+json": {
       "model_id": "778aeec1cc4d4df7869e60d8e929441d",
       "version_major": 2,
       "version_minor": 0
      },
      "text/plain": [
       "Writing issue 1128487015 batch files:   0%|          | 0/25 [00:00<?, ?it/s]"
      ]
     },
     "metadata": {},
     "output_type": "display_data"
    },
    {
     "data": {
      "application/vnd.jupyter.widget-view+json": {
       "model_id": "c247a88aa704419e9da70b5144da8943",
       "version_major": 2,
       "version_minor": 0
      },
      "text/plain": [
       "Gathering CWE requests for issue 2672759158:   0%|          | 0/881 [00:00<?, ?it/s]"
      ]
     },
     "metadata": {},
     "output_type": "display_data"
    },
    {
     "data": {
      "application/vnd.jupyter.widget-view+json": {
       "model_id": "6d3aab57fb1d4d8eab8f02c0c303b9b9",
       "version_major": 2,
       "version_minor": 0
      },
      "text/plain": [
       "Writing issue 2672759158 batch files:   0%|          | 0/25 [00:00<?, ?it/s]"
      ]
     },
     "metadata": {},
     "output_type": "display_data"
    },
    {
     "data": {
      "application/vnd.jupyter.widget-view+json": {
       "model_id": "a6146036085a405c84d1d39f9d436137",
       "version_major": 2,
       "version_minor": 0
      },
      "text/plain": [
       "Gathering CWE requests for issue 2470285353:   0%|          | 0/881 [00:00<?, ?it/s]"
      ]
     },
     "metadata": {},
     "output_type": "display_data"
    },
    {
     "data": {
      "application/vnd.jupyter.widget-view+json": {
       "model_id": "e92d5f651f734718bfdaa1a985414d6d",
       "version_major": 2,
       "version_minor": 0
      },
      "text/plain": [
       "Writing issue 2470285353 batch files:   0%|          | 0/25 [00:00<?, ?it/s]"
      ]
     },
     "metadata": {},
     "output_type": "display_data"
    },
    {
     "data": {
      "application/vnd.jupyter.widget-view+json": {
       "model_id": "885a4079ff3b4d0389081278219fa44c",
       "version_major": 2,
       "version_minor": 0
      },
      "text/plain": [
       "Gathering CWE requests for issue 1913517983:   0%|          | 0/881 [00:00<?, ?it/s]"
      ]
     },
     "metadata": {},
     "output_type": "display_data"
    },
    {
     "data": {
      "application/vnd.jupyter.widget-view+json": {
       "model_id": "192f4ef2611d4e318cf43b918b7847b1",
       "version_major": 2,
       "version_minor": 0
      },
      "text/plain": [
       "Writing issue 1913517983 batch files:   0%|          | 0/25 [00:00<?, ?it/s]"
      ]
     },
     "metadata": {},
     "output_type": "display_data"
    },
    {
     "data": {
      "application/vnd.jupyter.widget-view+json": {
       "model_id": "3f768f4fe3834688a425b8484bf081b9",
       "version_major": 2,
       "version_minor": 0
      },
      "text/plain": [
       "Gathering CWE requests for issue 902417837:   0%|          | 0/881 [00:00<?, ?it/s]"
      ]
     },
     "metadata": {},
     "output_type": "display_data"
    },
    {
     "data": {
      "application/vnd.jupyter.widget-view+json": {
       "model_id": "ce7fa878606f4b0c96274dcd84608c3e",
       "version_major": 2,
       "version_minor": 0
      },
      "text/plain": [
       "Writing issue 902417837 batch files:   0%|          | 0/25 [00:00<?, ?it/s]"
      ]
     },
     "metadata": {},
     "output_type": "display_data"
    },
    {
     "data": {
      "application/vnd.jupyter.widget-view+json": {
       "model_id": "7228e322f19840ca841b3c50b2245570",
       "version_major": 2,
       "version_minor": 0
      },
      "text/plain": [
       "Gathering CWE requests for issue 563700554:   0%|          | 0/881 [00:00<?, ?it/s]"
      ]
     },
     "metadata": {},
     "output_type": "display_data"
    },
    {
     "data": {
      "application/vnd.jupyter.widget-view+json": {
       "model_id": "d7b4c71c3c414d92b102827c8a9750ec",
       "version_major": 2,
       "version_minor": 0
      },
      "text/plain": [
       "Writing issue 563700554 batch files:   0%|          | 0/25 [00:00<?, ?it/s]"
      ]
     },
     "metadata": {},
     "output_type": "display_data"
    },
    {
     "data": {
      "application/vnd.jupyter.widget-view+json": {
       "model_id": "70065a0c870e4cb28843c97ec6d9ff1a",
       "version_major": 2,
       "version_minor": 0
      },
      "text/plain": [
       "Gathering CWE requests for issue 1648637134:   0%|          | 0/881 [00:00<?, ?it/s]"
      ]
     },
     "metadata": {},
     "output_type": "display_data"
    },
    {
     "data": {
      "application/vnd.jupyter.widget-view+json": {
       "model_id": "4446075bd7c44a5198ecf4c17b76fbf5",
       "version_major": 2,
       "version_minor": 0
      },
      "text/plain": [
       "Writing issue 1648637134 batch files:   0%|          | 0/25 [00:00<?, ?it/s]"
      ]
     },
     "metadata": {},
     "output_type": "display_data"
    },
    {
     "data": {
      "application/vnd.jupyter.widget-view+json": {
       "model_id": "b137a4072f9345059d6f6a23658fa56c",
       "version_major": 2,
       "version_minor": 0
      },
      "text/plain": [
       "Gathering CWE requests for issue 1853393069:   0%|          | 0/881 [00:00<?, ?it/s]"
      ]
     },
     "metadata": {},
     "output_type": "display_data"
    },
    {
     "data": {
      "application/vnd.jupyter.widget-view+json": {
       "model_id": "5a3d03d01c734ac3b0004e9852ae6bb6",
       "version_major": 2,
       "version_minor": 0
      },
      "text/plain": [
       "Writing issue 1853393069 batch files:   0%|          | 0/25 [00:00<?, ?it/s]"
      ]
     },
     "metadata": {},
     "output_type": "display_data"
    },
    {
     "data": {
      "application/vnd.jupyter.widget-view+json": {
       "model_id": "b9ac82e1d3e3465084d35135bc8df485",
       "version_major": 2,
       "version_minor": 0
      },
      "text/plain": [
       "Gathering CWE requests for issue 424808689:   0%|          | 0/881 [00:00<?, ?it/s]"
      ]
     },
     "metadata": {},
     "output_type": "display_data"
    },
    {
     "data": {
      "application/vnd.jupyter.widget-view+json": {
       "model_id": "9271379f576241928b3cee11e53f60cf",
       "version_major": 2,
       "version_minor": 0
      },
      "text/plain": [
       "Writing issue 424808689 batch files:   0%|          | 0/25 [00:00<?, ?it/s]"
      ]
     },
     "metadata": {},
     "output_type": "display_data"
    },
    {
     "data": {
      "application/vnd.jupyter.widget-view+json": {
       "model_id": "dc9d60649e154620b4851ce04a671e30",
       "version_major": 2,
       "version_minor": 0
      },
      "text/plain": [
       "Gathering CWE requests for issue 1262607558:   0%|          | 0/881 [00:00<?, ?it/s]"
      ]
     },
     "metadata": {},
     "output_type": "display_data"
    },
    {
     "data": {
      "application/vnd.jupyter.widget-view+json": {
       "model_id": "14337c68f1ee461c8a34d5f91643f17b",
       "version_major": 2,
       "version_minor": 0
      },
      "text/plain": [
       "Writing issue 1262607558 batch files:   0%|          | 0/25 [00:00<?, ?it/s]"
      ]
     },
     "metadata": {},
     "output_type": "display_data"
    },
    {
     "data": {
      "application/vnd.jupyter.widget-view+json": {
       "model_id": "cd9d7d64430141d18ad9ea9576e2d225",
       "version_major": 2,
       "version_minor": 0
      },
      "text/plain": [
       "Gathering CWE requests for issue 1665110745:   0%|          | 0/881 [00:00<?, ?it/s]"
      ]
     },
     "metadata": {},
     "output_type": "display_data"
    },
    {
     "data": {
      "application/vnd.jupyter.widget-view+json": {
       "model_id": "52273e9b7d9e4c0faafd3f49f1ce0e5e",
       "version_major": 2,
       "version_minor": 0
      },
      "text/plain": [
       "Writing issue 1665110745 batch files:   0%|          | 0/25 [00:00<?, ?it/s]"
      ]
     },
     "metadata": {},
     "output_type": "display_data"
    },
    {
     "data": {
      "application/vnd.jupyter.widget-view+json": {
       "model_id": "5e61682e63c84b56bc9e9661c14db183",
       "version_major": 2,
       "version_minor": 0
      },
      "text/plain": [
       "Gathering CWE requests for issue 1206053267:   0%|          | 0/881 [00:00<?, ?it/s]"
      ]
     },
     "metadata": {},
     "output_type": "display_data"
    },
    {
     "data": {
      "application/vnd.jupyter.widget-view+json": {
       "model_id": "ffa57fea391f4b0c88223b74e1f0bd42",
       "version_major": 2,
       "version_minor": 0
      },
      "text/plain": [
       "Writing issue 1206053267 batch files:   0%|          | 0/25 [00:00<?, ?it/s]"
      ]
     },
     "metadata": {},
     "output_type": "display_data"
    },
    {
     "data": {
      "application/vnd.jupyter.widget-view+json": {
       "model_id": "1f6652114dd44452a62a779d3563c396",
       "version_major": 2,
       "version_minor": 0
      },
      "text/plain": [
       "Gathering CWE requests for issue 1402200347:   0%|          | 0/881 [00:00<?, ?it/s]"
      ]
     },
     "metadata": {},
     "output_type": "display_data"
    },
    {
     "data": {
      "application/vnd.jupyter.widget-view+json": {
       "model_id": "64f55b6c20344520b18fc322d895953a",
       "version_major": 2,
       "version_minor": 0
      },
      "text/plain": [
       "Writing issue 1402200347 batch files:   0%|          | 0/25 [00:00<?, ?it/s]"
      ]
     },
     "metadata": {},
     "output_type": "display_data"
    },
    {
     "data": {
      "application/vnd.jupyter.widget-view+json": {
       "model_id": "bf81685c44104ab9a09902625336fb40",
       "version_major": 2,
       "version_minor": 0
      },
      "text/plain": [
       "Gathering CWE requests for issue 895161871:   0%|          | 0/881 [00:00<?, ?it/s]"
      ]
     },
     "metadata": {},
     "output_type": "display_data"
    },
    {
     "data": {
      "application/vnd.jupyter.widget-view+json": {
       "model_id": "6f8c3ab854214605ac29da25a9d4db21",
       "version_major": 2,
       "version_minor": 0
      },
      "text/plain": [
       "Writing issue 895161871 batch files:   0%|          | 0/25 [00:00<?, ?it/s]"
      ]
     },
     "metadata": {},
     "output_type": "display_data"
    },
    {
     "data": {
      "application/vnd.jupyter.widget-view+json": {
       "model_id": "dc28636a48fe4a5bbffa74119a0311ea",
       "version_major": 2,
       "version_minor": 0
      },
      "text/plain": [
       "Gathering CWE requests for issue 395072870:   0%|          | 0/881 [00:00<?, ?it/s]"
      ]
     },
     "metadata": {},
     "output_type": "display_data"
    },
    {
     "data": {
      "application/vnd.jupyter.widget-view+json": {
       "model_id": "1fc6fecd67a042bbbfb165a91529d003",
       "version_major": 2,
       "version_minor": 0
      },
      "text/plain": [
       "Writing issue 395072870 batch files:   0%|          | 0/25 [00:00<?, ?it/s]"
      ]
     },
     "metadata": {},
     "output_type": "display_data"
    },
    {
     "data": {
      "application/vnd.jupyter.widget-view+json": {
       "model_id": "d66ea6f8737c4fffab1f9c990484ddb7",
       "version_major": 2,
       "version_minor": 0
      },
      "text/plain": [
       "Gathering CWE requests for issue 2056023542:   0%|          | 0/881 [00:00<?, ?it/s]"
      ]
     },
     "metadata": {},
     "output_type": "display_data"
    },
    {
     "data": {
      "application/vnd.jupyter.widget-view+json": {
       "model_id": "78ed48e65b174f01b3763828380fa48b",
       "version_major": 2,
       "version_minor": 0
      },
      "text/plain": [
       "Writing issue 2056023542 batch files:   0%|          | 0/25 [00:00<?, ?it/s]"
      ]
     },
     "metadata": {},
     "output_type": "display_data"
    },
    {
     "data": {
      "application/vnd.jupyter.widget-view+json": {
       "model_id": "d005382c1efa40e0a701c9af9379fd82",
       "version_major": 2,
       "version_minor": 0
      },
      "text/plain": [
       "Gathering CWE requests for issue 2011721509:   0%|          | 0/881 [00:00<?, ?it/s]"
      ]
     },
     "metadata": {},
     "output_type": "display_data"
    },
    {
     "data": {
      "application/vnd.jupyter.widget-view+json": {
       "model_id": "8621710c430d48e8b4a03c81b8a4fe62",
       "version_major": 2,
       "version_minor": 0
      },
      "text/plain": [
       "Writing issue 2011721509 batch files:   0%|          | 0/25 [00:00<?, ?it/s]"
      ]
     },
     "metadata": {},
     "output_type": "display_data"
    },
    {
     "data": {
      "application/vnd.jupyter.widget-view+json": {
       "model_id": "9c74ed05d42543c1a70a160747bff843",
       "version_major": 2,
       "version_minor": 0
      },
      "text/plain": [
       "Gathering CWE requests for issue 2122910614:   0%|          | 0/881 [00:00<?, ?it/s]"
      ]
     },
     "metadata": {},
     "output_type": "display_data"
    },
    {
     "data": {
      "application/vnd.jupyter.widget-view+json": {
       "model_id": "9fd057a0824a4bc5a1a81f98a9732b86",
       "version_major": 2,
       "version_minor": 0
      },
      "text/plain": [
       "Writing issue 2122910614 batch files:   0%|          | 0/25 [00:00<?, ?it/s]"
      ]
     },
     "metadata": {},
     "output_type": "display_data"
    },
    {
     "data": {
      "application/vnd.jupyter.widget-view+json": {
       "model_id": "9318c207be1e4507b396593b5763841c",
       "version_major": 2,
       "version_minor": 0
      },
      "text/plain": [
       "Gathering CWE requests for issue 2854091478:   0%|          | 0/881 [00:00<?, ?it/s]"
      ]
     },
     "metadata": {},
     "output_type": "display_data"
    },
    {
     "data": {
      "application/vnd.jupyter.widget-view+json": {
       "model_id": "440b20a95d094e98837726cb3cddf797",
       "version_major": 2,
       "version_minor": 0
      },
      "text/plain": [
       "Writing issue 2854091478 batch files:   0%|          | 0/25 [00:00<?, ?it/s]"
      ]
     },
     "metadata": {},
     "output_type": "display_data"
    },
    {
     "data": {
      "application/vnd.jupyter.widget-view+json": {
       "model_id": "6380409c809d4ca597f8e7e47e31d045",
       "version_major": 2,
       "version_minor": 0
      },
      "text/plain": [
       "Gathering CWE requests for issue 478997749:   0%|          | 0/881 [00:00<?, ?it/s]"
      ]
     },
     "metadata": {},
     "output_type": "display_data"
    },
    {
     "data": {
      "application/vnd.jupyter.widget-view+json": {
       "model_id": "52ea503d1ded4e40bd5849bbdb4c07f1",
       "version_major": 2,
       "version_minor": 0
      },
      "text/plain": [
       "Writing issue 478997749 batch files:   0%|          | 0/25 [00:00<?, ?it/s]"
      ]
     },
     "metadata": {},
     "output_type": "display_data"
    },
    {
     "data": {
      "application/vnd.jupyter.widget-view+json": {
       "model_id": "00328c9e35f442348ca5a70580701999",
       "version_major": 2,
       "version_minor": 0
      },
      "text/plain": [
       "Gathering CWE requests for issue 1760900711:   0%|          | 0/881 [00:00<?, ?it/s]"
      ]
     },
     "metadata": {},
     "output_type": "display_data"
    },
    {
     "data": {
      "application/vnd.jupyter.widget-view+json": {
       "model_id": "de1431811fa54903bfdcbd52f00a686e",
       "version_major": 2,
       "version_minor": 0
      },
      "text/plain": [
       "Writing issue 1760900711 batch files:   0%|          | 0/25 [00:00<?, ?it/s]"
      ]
     },
     "metadata": {},
     "output_type": "display_data"
    },
    {
     "data": {
      "application/vnd.jupyter.widget-view+json": {
       "model_id": "e269cba3d7ba4c799d172dcaf171ef14",
       "version_major": 2,
       "version_minor": 0
      },
      "text/plain": [
       "Gathering CWE requests for issue 1822677454:   0%|          | 0/881 [00:00<?, ?it/s]"
      ]
     },
     "metadata": {},
     "output_type": "display_data"
    },
    {
     "data": {
      "application/vnd.jupyter.widget-view+json": {
       "model_id": "9b609aa3b71b4adeaff0fffc1b8d62f0",
       "version_major": 2,
       "version_minor": 0
      },
      "text/plain": [
       "Writing issue 1822677454 batch files:   0%|          | 0/25 [00:00<?, ?it/s]"
      ]
     },
     "metadata": {},
     "output_type": "display_data"
    },
    {
     "data": {
      "application/vnd.jupyter.widget-view+json": {
       "model_id": "4620efe36b8648d0a659c7fb10e0a0a1",
       "version_major": 2,
       "version_minor": 0
      },
      "text/plain": [
       "Gathering CWE requests for issue 828149421:   0%|          | 0/881 [00:00<?, ?it/s]"
      ]
     },
     "metadata": {},
     "output_type": "display_data"
    },
    {
     "data": {
      "application/vnd.jupyter.widget-view+json": {
       "model_id": "a457b8e6cde446d9a23ebbe32dd085fc",
       "version_major": 2,
       "version_minor": 0
      },
      "text/plain": [
       "Writing issue 828149421 batch files:   0%|          | 0/25 [00:00<?, ?it/s]"
      ]
     },
     "metadata": {},
     "output_type": "display_data"
    },
    {
     "data": {
      "application/vnd.jupyter.widget-view+json": {
       "model_id": "17c845d90c5f46a68e644dc9f4c937b3",
       "version_major": 2,
       "version_minor": 0
      },
      "text/plain": [
       "Gathering CWE requests for issue 1931901762:   0%|          | 0/881 [00:00<?, ?it/s]"
      ]
     },
     "metadata": {},
     "output_type": "display_data"
    },
    {
     "data": {
      "application/vnd.jupyter.widget-view+json": {
       "model_id": "715263796db443e798ca3ccdec608c53",
       "version_major": 2,
       "version_minor": 0
      },
      "text/plain": [
       "Writing issue 1931901762 batch files:   0%|          | 0/25 [00:00<?, ?it/s]"
      ]
     },
     "metadata": {},
     "output_type": "display_data"
    },
    {
     "data": {
      "application/vnd.jupyter.widget-view+json": {
       "model_id": "536fc21046a94df2a3ad8bc5bf67cc28",
       "version_major": 2,
       "version_minor": 0
      },
      "text/plain": [
       "Gathering CWE requests for issue 732315548:   0%|          | 0/881 [00:00<?, ?it/s]"
      ]
     },
     "metadata": {},
     "output_type": "display_data"
    },
    {
     "data": {
      "application/vnd.jupyter.widget-view+json": {
       "model_id": "a144cf06d74f4eb6bfd564f19b96d70f",
       "version_major": 2,
       "version_minor": 0
      },
      "text/plain": [
       "Writing issue 732315548 batch files:   0%|          | 0/25 [00:00<?, ?it/s]"
      ]
     },
     "metadata": {},
     "output_type": "display_data"
    },
    {
     "data": {
      "application/vnd.jupyter.widget-view+json": {
       "model_id": "fd2dae5301e44cb2ab6f02bf7fa18224",
       "version_major": 2,
       "version_minor": 0
      },
      "text/plain": [
       "Gathering CWE requests for issue 2214651046:   0%|          | 0/881 [00:00<?, ?it/s]"
      ]
     },
     "metadata": {},
     "output_type": "display_data"
    },
    {
     "data": {
      "application/vnd.jupyter.widget-view+json": {
       "model_id": "b04a492e5a294bff823365c6daf18253",
       "version_major": 2,
       "version_minor": 0
      },
      "text/plain": [
       "Writing issue 2214651046 batch files:   0%|          | 0/25 [00:00<?, ?it/s]"
      ]
     },
     "metadata": {},
     "output_type": "display_data"
    },
    {
     "data": {
      "application/vnd.jupyter.widget-view+json": {
       "model_id": "97e920f1bc0c4363bd5f536c237dcd32",
       "version_major": 2,
       "version_minor": 0
      },
      "text/plain": [
       "Gathering CWE requests for issue 2060973518:   0%|          | 0/881 [00:00<?, ?it/s]"
      ]
     },
     "metadata": {},
     "output_type": "display_data"
    },
    {
     "data": {
      "application/vnd.jupyter.widget-view+json": {
       "model_id": "0a4b61d6847443f0af80808f2ea6551e",
       "version_major": 2,
       "version_minor": 0
      },
      "text/plain": [
       "Writing issue 2060973518 batch files:   0%|          | 0/25 [00:00<?, ?it/s]"
      ]
     },
     "metadata": {},
     "output_type": "display_data"
    }
   ],
   "source": [
    "generate_batch_post_files(cwes, all_true_few, 100000, max_size_mb=190)\n",
    "# classify_issues(cwes, true_pos_few, 100000, True)"
   ]
  },
  {
   "cell_type": "code",
   "execution_count": null,
   "id": "a77692db",
   "metadata": {},
   "outputs": [],
   "source": [
    "{\n",
    "    \"custom_id\": \"request-1\",\n",
    "    \"method\": \"POST\",\n",
    "    \"url\": \"/v1/chat/completions\",\n",
    "    \"body\": {\n",
    "        \"model\": \"gpt-3.5-turbo-0125\",\n",
    "        \"messages\": [\n",
    "            {\"role\": \"system\", \"content\": \"You are a helpful assistant.\"},\n",
    "            {\"role\": \"user\", \"content\": \"Hello world!\"},\n",
    "        ],\n",
    "        \"max_tokens\": 1000,\n",
    "    },\n",
    "}\n",
    "{\n",
    "    \"custom_id\": \"request-2\",\n",
    "    \"method\": \"POST\",\n",
    "    \"url\": \"/v1/chat/completions\",\n",
    "    \"body\": {\n",
    "        \"model\": \"gpt-3.5-turbo-0125\",\n",
    "        \"messages\": [\n",
    "            {\"role\": \"system\", \"content\": \"You are an unhelpful assistant.\"},\n",
    "            {\"role\": \"user\", \"content\": \"Hello world!\"},\n",
    "        ],\n",
    "        \"max_tokens\": 1000,\n",
    "    },\n",
    "}"
   ]
  },
  {
   "cell_type": "code",
   "execution_count": null,
   "id": "6b0a7748",
   "metadata": {},
   "outputs": [],
   "source": [
    "formatted_system_prompt = prompts_dict[\"baseline_system_setup\"].format(cwe_entries=\"\")\n",
    "messages = [\n",
    "    {\"role\": \"system\", \"content\": formatted_system_prompt},\n",
    "    {\"role\": \"user\", \"content\": \"\"},\n",
    "]\n",
    "msg_tc = count_chat_tokens(messages)\n",
    "cwe_chunk, end_ind, size = find_cwe_list(\n",
    "    len(cwes[186:]), 0, cwes[186:], 100000, cwe_token_counts[186:], msg_tc\n",
    ")"
   ]
  },
  {
   "cell_type": "code",
   "execution_count": null,
   "id": "abffbdc9",
   "metadata": {},
   "outputs": [],
   "source": [
    "formatted_system_prompt = prompts_dict[\"baseline_system_setup\"].format(\n",
    "    cwe_entries=cwe_list_to_json(cwe_chunk)\n",
    ")\n",
    "msgs = [\n",
    "    {\"role\": \"system\", \"content\": formatted_system_prompt},\n",
    "    {\"role\": \"user\", \"content\": true_pos_few.iloc[0].gpt_description},\n",
    "]\n",
    "print(\"end_ind:\\t\", end_ind)\n",
    "print(\"true size:\\t\", count_chat_tokens(msgs))\n",
    "print(\"size:\\t\", size)\n",
    "print(\"len(cwe_chunk):\\t\", len(cwe_chunk))\n",
    "print(\"cwe_chunk:\\t\", cwe_list_to_json(cwe_chunk))\n",
    "# display(cwe_list_to_json(cwe_chunk, 4))\n",
    "\n",
    "formatted_system_prompt = prompts_dict[\"baseline_system_setup\"].format(\n",
    "    cwe_entries=cwe_list_to_json(cwe_chunk)\n",
    ")\n",
    "display(formatted_system_prompt)"
   ]
  },
  {
   "cell_type": "code",
   "execution_count": null,
   "id": "26941647",
   "metadata": {},
   "outputs": [],
   "source": [
    "len(cwes)"
   ]
  },
  {
   "cell_type": "code",
   "execution_count": null,
   "id": "e731b0ba",
   "metadata": {},
   "outputs": [],
   "source": [
    "maxr_size = 100000\n",
    "resp = get_gpt_cwe(cwes, true_pos_few.iloc[0].gpt_description, maxr_size, echo=True)"
   ]
  },
  {
   "cell_type": "code",
   "execution_count": null,
   "id": "9b29295d",
   "metadata": {},
   "outputs": [],
   "source": [
    "print(type(resp))\n",
    "print(resp)"
   ]
  }
 ],
 "metadata": {
  "kernelspec": {
   "display_name": "mthesis_pyenv",
   "language": "python",
   "name": "python3"
  },
  "language_info": {
   "codemirror_mode": {
    "name": "ipython",
    "version": 3
   },
   "file_extension": ".py",
   "mimetype": "text/x-python",
   "name": "python",
   "nbconvert_exporter": "python",
   "pygments_lexer": "ipython3",
   "version": "3.12.3"
  }
 },
 "nbformat": 4,
 "nbformat_minor": 5
}
