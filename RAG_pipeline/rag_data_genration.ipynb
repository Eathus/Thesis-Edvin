{
 "cells": [
  {
   "cell_type": "code",
   "execution_count": 2,
   "id": "2caa7b1a",
   "metadata": {},
   "outputs": [],
   "source": [
    "import sys\n",
    "from pathlib import Path\n",
    "\n",
    "# Get parent directory (Thesis-Edvin)\n",
    "sys.path.append(str(Path.cwd().parent))"
   ]
  },
  {
   "cell_type": "code",
   "execution_count": 3,
   "id": "519b74f6",
   "metadata": {},
   "outputs": [],
   "source": [
    "from utils import *\n",
    "from rag import *"
   ]
  },
  {
   "cell_type": "code",
   "execution_count": 4,
   "id": "92a5f430",
   "metadata": {},
   "outputs": [],
   "source": [
    "import pandas as pd\n",
    "import json\n",
    "\n",
    "with open(\"tmp/view_CWE-1000_all_weaknesses.json\", \"r\") as file:\n",
    "    data = json.load(file)"
   ]
  },
  {
   "cell_type": "code",
   "execution_count": 5,
   "id": "f29ba0a9",
   "metadata": {},
   "outputs": [
    {
     "name": "stderr",
     "output_type": "stream",
     "text": [
      "Using the latest cached version of the dataset since Eathus/cwe_view1000_raw_list couldn't be found on the Hugging Face Hub\n",
      "Found the latest cached dataset configuration 'default' at /home/edvinn/.cache/huggingface/datasets/Eathus___cwe_view1000_raw_list/default/0.0.0/2c8d79ed3c8c5b99885a627f055d60b440763da5 (last modified on Wed May 28 16:05:27 2025).\n"
     ]
    }
   ],
   "source": [
    "from datasets import load_dataset\n",
    "\n",
    "cwes = load_dataset(\"Eathus/cwe_view1000_raw_list\", split=\"train\")\n",
    "cwes_df = cwes.to_pandas()"
   ]
  },
  {
   "cell_type": "code",
   "execution_count": 6,
   "id": "d1d9c7a9",
   "metadata": {},
   "outputs": [
    {
     "data": {
      "text/plain": [
       "Index(['ID', 'Name', 'Abstraction', 'Structure', 'Status', 'Description',\n",
       "       'ExtendedDescription', 'ApplicablePlatforms', 'AlternateTerms',\n",
       "       'ModesOfIntroduction', 'CommonConsequences', 'PotentialMitigations',\n",
       "       'ObservedExamples', 'AffectedResources', 'TaxonomyMappings',\n",
       "       'RelatedAttackPatterns', 'References', 'Notes', 'ContentHistory',\n",
       "       'MappingNotes_Usage', 'MappingNotes_Rationale', 'MappingNotes_Comments',\n",
       "       'MappingNotes_Reasons', 'MappingNotes_Suggestions', 'RelatedWeaknesses',\n",
       "       'WeaknessOrdinalities', 'DetectionMethods', 'DemonstrativeExamples',\n",
       "       'FunctionalAreas', 'Diagram', 'LikelihoodOfExploit',\n",
       "       'BackgroundDetails', 'NumPaths', 'Paths', 'Children'],\n",
       "      dtype='object')"
      ]
     },
     "execution_count": 6,
     "metadata": {},
     "output_type": "execute_result"
    }
   ],
   "source": [
    "cwes_df.columns"
   ]
  },
  {
   "cell_type": "code",
   "execution_count": 7,
   "id": "4ddb68a8",
   "metadata": {},
   "outputs": [
    {
     "name": "stdout",
     "output_type": "stream",
     "text": [
      "[262, 499, 743, 579, 577, 565, 676, 340, 367, 747, 736, 690, 223, 122, 289, 874, 1436, 661, 349, 426, 431, 303, 962, 783, 197, 690, 439, 345, 971, 358, 166, 433, 507, 416, 341, 423, 139, 232, 377, 78, 553, 186, 78, 233, 260, 76, 295, 38, 297, 89, 232, 40, 232, 134, 129, 53, 333, 162, 121, 172, 528, 426, 344, 264, 107, 242, 44, 143, 49, 95, 104, 181, 52, 299, 314, 28, 34, 44, 43, 45, 184, 226, 516, 109, 119, 36, 431, 292, 380, 110, 514, 376, 373, 212, 478, 441, 471, 50, 82, 367, 182, 347, 224, 232, 91, 130, 242, 409, 552, 174, 192, 198, 54, 130, 338, 212, 471, 118, 383, 141, 52, 62, 45, 160, 320, 229, 173, 228, 206, 152, 203, 127, 223, 40, 34, 289, 214, 201, 427, 183, 259, 505, 404, 221, 221, 269, 200, 251, 297, 592, 216, 293, 181, 191, 238, 310, 310, 124, 146, 303, 346, 303, 34, 294, 61, 56, 559, 188, 54, 52, 470, 547, 326, 58, 157, 668, 37, 107, 767, 167, 287, 119, 45, 125, 49, 329, 290, 305, 331, 442, 97, 39, 373, 370, 154, 161, 180, 407, 329, 339, 223, 275, 218, 165, 242, 273, 298, 160, 338, 438, 319, 453, 615, 894, 368, 227, 254, 211, 47, 189, 352, 269, 113, 279, 213, 631, 538, 114, 58, 439, 334, 315, 279, 106, 92, 133, 121, 125, 125, 110, 111, 123, 142, 100, 90, 332, 233, 338, 197, 212, 227, 325, 381, 88, 196, 79, 72, 122, 213, 286, 165, 156, 428, 284, 315, 160, 557, 486, 311, 254, 102, 288, 424, 326, 286, 299, 86, 203, 103, 229, 159, 289, 50, 88, 132, 123, 124, 273, 212, 341, 188, 785, 623, 56, 628, 184, 299, 251, 399, 353, 96, 210, 383, 212, 257, 434, 498, 336, 239, 240, 32, 285, 172, 123, 69, 35, 339, 108, 290, 520, 84, 93, 485, 164, 404, 169, 244, 885, 86, 92, 305, 228, 907, 193, 253, 169, 260, 173, 274, 207, 301, 331, 154, 231, 157, 75, 167, 200, 341, 350, 278, 264, 437, 266, 811, 277, 431, 336, 70, 106, 404, 337, 471, 362, 111, 166, 212, 402, 167, 352, 281, 172, 59, 147, 433, 69, 218, 182, 208, 316, 229, 70, 114, 87, 214, 99, 166, 168, 285, 520, 161, 146, 106, 128, 153, 127, 150, 153, 166, 159, 162, 165, 189, 210, 61, 61, 47, 54, 210, 239, 230, 307, 420, 42, 112, 88, 668, 142, 377, 148, 225, 226, 193, 301, 207, 119, 46, 172, 290, 260, 298, 402, 233, 193, 147, 189, 616, 693, 753, 621, 963, 383, 327, 372, 187, 503, 141, 548, 455, 201, 181, 654, 121, 113, 379, 468, 299, 132, 318, 673, 47, 228, 40, 109, 63, 67, 65, 67, 63, 62, 67, 63, 67, 67, 69, 69, 67, 65, 64, 79, 136, 52, 239, 141, 139, 99, 147, 119, 173, 107, 176, 146, 114, 190, 264, 298, 87, 218, 283, 502, 307, 590, 296, 59, 80, 244, 303, 75, 159, 150, 95, 92, 120, 174, 257, 209, 363, 200, 460, 588, 325, 257, 212, 185, 365, 216, 205, 309, 194, 564, 332, 592, 614, 420, 1253, 112, 1027, 341, 135, 245, 331, 114, 55, 74, 200, 300, 224, 273, 127, 301, 238, 295, 180, 197, 318, 239, 173, 117, 296, 277, 270, 130, 141, 203, 178, 169, 102, 631, 328, 158, 275, 221, 214, 392, 453, 133, 227, 270, 357, 430, 303, 499, 605, 410, 493, 419, 43, 154, 111, 227, 438, 55, 114, 72, 638, 697, 402, 228, 478, 864, 236, 192, 366, 392, 257, 148, 46, 212, 311, 367, 398, 205, 185, 263, 272, 142, 154, 31, 182, 170, 202, 193, 160, 195, 127, 362, 53, 34, 594, 307, 185, 247, 248, 263, 240, 93, 42, 37, 47, 445, 157, 101, 129, 288, 170, 244, 259, 251, 571, 325, 505, 154, 274, 257, 271, 160, 73, 209, 156, 244, 355, 87, 208, 294, 374, 290, 325, 325, 224, 41, 42, 69, 46, 235, 31, 152, 225, 212, 42, 42, 31, 35, 30, 389, 506, 56, 196, 324, 319, 172, 196, 170, 44, 102, 120, 62, 224, 120, 97, 262, 135, 221, 232, 261, 324, 292, 259, 484, 140, 29, 86, 82, 82, 82, 113, 86, 88, 49, 57, 92, 55, 53, 54, 92, 80, 65, 104, 123, 54, 83, 86, 84, 87, 83, 86, 340, 240, 238, 292, 268, 291, 343, 279, 298, 79, 292, 27, 43, 42, 34, 447, 36, 942, 169, 234, 610, 408, 54, 140, 36, 31, 260, 126, 496, 132, 111, 261, 190, 124, 118, 147, 95, 250, 450, 245, 39, 161, 435, 535, 91, 687, 624, 153, 1259, 259, 105, 57, 103, 41, 35, 160, 94, 311, 216, 316, 549, 160, 108, 172, 297, 179, 188, 182, 42, 365, 114, 140, 278, 61, 56, 34, 68, 76, 452, 124, 104, 71, 136, 94, 85, 226, 90, 109, 87, 84, 102, 123, 192, 125, 125, 85, 96, 132, 89, 86, 154, 338, 97, 149, 274, 77, 85, 77, 116, 73, 107, 146, 412, 85, 81, 118, 77, 120, 106, 82, 109, 131, 105, 113, 126, 94, 112, 90, 81, 78, 100, 77, 81, 132, 90, 89, 192, 653, 274, 237, 220, 327, 153, 125, 274, 203, 164, 484, 331, 131, 387, 303, 209, 316, 344, 91, 389, 328, 402, 33, 449, 510, 227, 172, 174, 50, 88, 218, 40, 173, 186, 658, 642, 694, 346, 287, 235, 566, 510, 190, 249, 200, 173, 264, 48, 168, 525, 717, 136, 28, 29, 158, 191, 46, 46, 49, 42, 167, 158, 228, 103, 87, 162, 97, 196]\n",
      "Mean token count:\t 240.97659574468085\n",
      "Median token count:\t 200.0\n",
      "Max token count:\t 1436\n",
      "Min token count:\t 27\n"
     ]
    }
   ],
   "source": [
    "from IPython.display import display, Markdown, Latex\n",
    "import pickle\n",
    "from pathlib import Path\n",
    "import statistics as stat\n",
    "\n",
    "file_path = \"tmp/light_doc_cont_count.pkl\"\n",
    "\n",
    "cwe_dict = {cwe[\"ID\"]: cwe for cwe in data[\"Weaknesses\"]}\n",
    "cwes_df[\"Summary\"] = cwes_df[\"ID\"].apply(\n",
    "    lambda x: create_ordered_cwe_document(cwe_dict[x], old=True).page_content\n",
    ")\n",
    "\n",
    "documents = [\n",
    "    create_ordered_cwe_document(weakness, old=True) for weakness in data[\"Weaknesses\"]\n",
    "]\n",
    "path = Path(file_path)\n",
    "if path.exists():\n",
    "    with open(path, \"rb\") as file:\n",
    "        content_token_counts = pickle.load(file)\n",
    "else:\n",
    "    content_token_counts = [\n",
    "        count_tokens(doc.page_content, \"text-embedding-3-large\") for doc in documents\n",
    "    ]\n",
    "    with open(file_path, \"wb\") as file:\n",
    "        pickle.dump(content_token_counts, file)\n",
    "\n",
    "print(content_token_counts)\n",
    "print(\"Mean token count:\\t\", stat.mean(content_token_counts))\n",
    "print(\"Median token count:\\t\", stat.median(content_token_counts))\n",
    "print(\"Max token count:\\t\", max(content_token_counts))\n",
    "print(\"Min token count:\\t\", min(content_token_counts))"
   ]
  },
  {
   "cell_type": "code",
   "execution_count": 8,
   "id": "16123fe8",
   "metadata": {},
   "outputs": [
    {
     "name": "stdout",
     "output_type": "stream",
     "text": [
      "Number of complete descriptions:\t 436\n"
     ]
    },
    {
     "data": {
      "text/html": [
       "<div>\n",
       "<style scoped>\n",
       "    .dataframe tbody tr th:only-of-type {\n",
       "        vertical-align: middle;\n",
       "    }\n",
       "\n",
       "    .dataframe tbody tr th {\n",
       "        vertical-align: top;\n",
       "    }\n",
       "\n",
       "    .dataframe thead th {\n",
       "        text-align: right;\n",
       "    }\n",
       "</style>\n",
       "<table border=\"1\" class=\"dataframe\">\n",
       "  <thead>\n",
       "    <tr style=\"text-align: right;\">\n",
       "      <th></th>\n",
       "      <th>Summary</th>\n",
       "    </tr>\n",
       "  </thead>\n",
       "  <tbody>\n",
       "    <tr>\n",
       "      <th>192</th>\n",
       "      <td># CWE-786: Access of Memory Location Before St...</td>\n",
       "    </tr>\n",
       "    <tr>\n",
       "      <th>872</th>\n",
       "      <td># CWE-107: Struts: Unused Validation Form\\n\\n#...</td>\n",
       "    </tr>\n",
       "    <tr>\n",
       "      <th>290</th>\n",
       "      <td># CWE-15: External Control of System or Config...</td>\n",
       "    </tr>\n",
       "  </tbody>\n",
       "</table>\n",
       "</div>"
      ],
      "text/plain": [
       "                                               Summary\n",
       "192  # CWE-786: Access of Memory Location Before St...\n",
       "872  # CWE-107: Struts: Unused Validation Form\\n\\n#...\n",
       "290  # CWE-15: External Control of System or Config..."
      ]
     },
     "metadata": {},
     "output_type": "display_data"
    }
   ],
   "source": [
    "sample = cwes_df.dropna(subset=[\"ExtendedDescription\", \"DemonstrativeExamples\"])\n",
    "print(\"Number of complete descriptions:\\t\", len(sample))\n",
    "sample = sample[sample[\"MappingNotes_Usage\"] != \"Prohibited\"].sample(3)\n",
    "display(sample[[\"Summary\"]])"
   ]
  },
  {
   "cell_type": "code",
   "execution_count": 9,
   "id": "de265212",
   "metadata": {},
   "outputs": [
    {
     "name": "stdout",
     "output_type": "stream",
     "text": [
      "# CWE-786: Access of Memory Location Before Start of Buffer\n",
      "\n",
      "## Description\n",
      "The product reads or writes to a buffer using an index or pointer that references a memory location prior to the beginning of the buffer.\n",
      "\n",
      "## Extended Description\n",
      "This typically occurs when a pointer or its index is decremented to a position before the buffer, when pointer arithmetic results in a position before the beginning of the valid memory location, or when a negative index is used.\n",
      "\n",
      "## Demonstrative Scenario\n",
      "\n",
      "### Scenario\n",
      "\n",
      "In the following C/C++ example, a utility function is used to trim trailing whitespace from a character string. The function copies the input string to a local character string and uses a while statement to remove the trailing whitespace by moving backward through the string and overwriting whitespace with a NUL character.\n",
      "\n",
      "### Vulnerable C Code\n",
      "```c\n",
      "char* trimTrailingWhitespace(char *strMessage, int length) {\n",
      "\t\t\tchar *retMessage;\n",
      "\t\t\tchar *message = malloc(sizeof(char)*(length+1));\n",
      "\n",
      "// copy input string to a temporary string* \n",
      "\t\t\tchar message[length+1];\n",
      "\t\t\tint index;\n",
      "\t\t\tfor (index = 0; index < length; index++) {\n",
      "\t\t\t\n",
      "\t\t\t\tmessage[index] = strMessage[index];\n",
      "\t\t\t}\n",
      "\t\t\tmessage[index] = '\\0';\n",
      "\n",
      "// trim trailing whitespace* \n",
      "\t\t\tint len = index-1;\n",
      "\t\t\twhile (isspace(message[len])) {\n",
      "\t\t\t\n",
      "\t\t\t\tmessage[len] = '\\0';\n",
      "\t\t\t\tlen--;\n",
      "\t\t\t}\n",
      "\n",
      "// return string without trailing whitespace* \n",
      "\t\t\tretMessage = message;\n",
      "\t\t\treturn retMessage;}\n",
      "```\n",
      "\n",
      "### Analysis\n",
      "\n",
      "However, this function can cause a buffer underwrite if the input character string contains all whitespace. On some systems the while statement will move backwards past the beginning of a character string and will call the isspace() function on an address outside of the bounds of the local buffer.\n"
     ]
    },
    {
     "data": {
      "text/markdown": [
       "# CWE-786: Access of Memory Location Before Start of Buffer\n",
       "\n",
       "## Description\n",
       "The product reads or writes to a buffer using an index or pointer that references a memory location prior to the beginning of the buffer.\n",
       "\n",
       "## Extended Description\n",
       "This typically occurs when a pointer or its index is decremented to a position before the buffer, when pointer arithmetic results in a position before the beginning of the valid memory location, or when a negative index is used.\n",
       "\n",
       "## Demonstrative Scenario\n",
       "\n",
       "### Scenario\n",
       "\n",
       "In the following C/C++ example, a utility function is used to trim trailing whitespace from a character string. The function copies the input string to a local character string and uses a while statement to remove the trailing whitespace by moving backward through the string and overwriting whitespace with a NUL character.\n",
       "\n",
       "### Vulnerable C Code\n",
       "```c\n",
       "char* trimTrailingWhitespace(char *strMessage, int length) {\n",
       "\t\t\tchar *retMessage;\n",
       "\t\t\tchar *message = malloc(sizeof(char)*(length+1));\n",
       "\n",
       "// copy input string to a temporary string* \n",
       "\t\t\tchar message[length+1];\n",
       "\t\t\tint index;\n",
       "\t\t\tfor (index = 0; index < length; index++) {\n",
       "\t\t\t\n",
       "\t\t\t\tmessage[index] = strMessage[index];\n",
       "\t\t\t}\n",
       "\t\t\tmessage[index] = '\\0';\n",
       "\n",
       "// trim trailing whitespace* \n",
       "\t\t\tint len = index-1;\n",
       "\t\t\twhile (isspace(message[len])) {\n",
       "\t\t\t\n",
       "\t\t\t\tmessage[len] = '\\0';\n",
       "\t\t\t\tlen--;\n",
       "\t\t\t}\n",
       "\n",
       "// return string without trailing whitespace* \n",
       "\t\t\tretMessage = message;\n",
       "\t\t\treturn retMessage;}\n",
       "```\n",
       "\n",
       "### Analysis\n",
       "\n",
       "However, this function can cause a buffer underwrite if the input character string contains all whitespace. On some systems the while statement will move backwards past the beginning of a character string and will call the isspace() function on an address outside of the bounds of the local buffer."
      ],
      "text/plain": [
       "<IPython.core.display.Markdown object>"
      ]
     },
     "metadata": {},
     "output_type": "display_data"
    }
   ],
   "source": [
    "print(sample[[\"Summary\"]].values[0][0])\n",
    "display(Markdown(sample[[\"Summary\"]].values[0][0]))"
   ]
  },
  {
   "cell_type": "code",
   "execution_count": 20,
   "id": "e9f1a6bb",
   "metadata": {},
   "outputs": [],
   "source": [
    "from utils import *\n",
    "from langchain_openai import ChatOpenAI\n",
    "from langchain_core.prompts import ChatPromptTemplate\n",
    "from pydantic import BaseModel, Field\n",
    "\n",
    "\n",
    "class ReplySchema(BaseModel):\n",
    "    gpt_cwe_description: str = Field(\n",
    "        description=\"complete CWE vulnerability description\"\n",
    "    )\n",
    "\n",
    "\n",
    "llm = ChatOpenAI(\n",
    "    model=\"gpt-4o-mini\",\n",
    "    temperature=0.0,\n",
    "    max_retries=2,\n",
    "    api_key=OPENAI_API_KEY_KTH,\n",
    "    max_tokens=10000,\n",
    ")  #\n",
    "\n",
    "prompts_dict = load_prompts(os.getcwd() + \"/../utils/prompts\")\n",
    "\n",
    "prompt = ChatPromptTemplate.from_messages(\n",
    "    [\n",
    "        (\"system\", prompts_dict[\"vul_desc_comp_final\"]),\n",
    "        (\n",
    "            \"human\",\n",
    "            \"\"\"\n",
    "            # CWE-1422: Exposure of Sensitive Information caused by Incorrect Data Forwarding during Transient Execution\\n\\n## Description\\nA processor event or prediction may allow incorrect or stale data to\\n\\t\\t be forwarded to transient operations, potentially exposing data over a\\n\\t\\t covert channel.\n",
    "            \"\"\",\n",
    "        ),\n",
    "        (\n",
    "            \"ai\",\n",
    "            \"\"\"\n",
    "            # CWE-1422: Exposure of Sensitive Information caused by Incorrect Data Forwarding during Transient Execution\\n\\n## Description\\nA processor event or prediction may allow incorrect or stale data to\\n\\t\\t be forwarded to transient operations, potentially exposing data over a\\n\\t\\t covert channel.\\n\\n## Extended Description\\n\\n\\nSoftware may use a variety of techniques to preserve the confidentiality of private data that is accessible within the current processor context. For example, the memory safety and type safety properties of some high-level programming languages help to prevent software written in those languages from exposing private data. As a second example, software sandboxes may co-locate multiple users' software within a single process. The processor's Instruction Set Architecture (ISA) may permit one user's software to access another user's data (because the software shares the same address space), but the sandbox prevents these accesses by using software techniques such as bounds checking.\\n\\n\\nIf incorrect or stale data can be forwarded (for example, from a cache) to transient operations, then the operations' microarchitectural side effects may correspond to the data. If an attacker can trigger these transient operations and observe their side effects through a covert channel, then the attacker may be able to infer the data. For example, an attacker process may induce transient execution in a victim process that causes the victim to inadvertently access and then expose its private data via a covert channel. In the software sandbox example, an attacker sandbox may induce transient execution in its own code, allowing it to transiently access and expose data in a victim sandbox that shares the same address space.\\n\\n\\nConsequently, weaknesses that arise from incorrect/stale data forwarding might violate users' expectations of software-based memory safety and isolation techniques. If the data forwarding behavior is not properly documented by the hardware vendor, this might violate the software vendor's expectation of how the hardware should behave.\\n\\n\\n## Demonstrative Scenario\\n\\n### Scenario\\n\\nFaulting loads in a victim domain may trigger incorrect transient forwarding, which leaves secret-dependent traces in the microarchitectural state. Consider this code sequence example from [REF-1391].\\n\\n### Vulnerable C Code\\n```c\\nvoid call_victim(size_t untrusted_arg) {{\\n\\n\\n\\t *arg_copy = untrusted_arg;\\n\\t array[**trusted_ptr * 4096];\\n }}\\n```\\n\\n### Analysis\\n\\nA processor with this weakness will store the value of untrusted_arg (which may be provided by an attacker) to the stack, which is trusted memory. Additionally, this store operation will save this value in some microarchitectural buffer, for example, the store buffer.\\n\\n\\nIn this code sequence, trusted_ptr is dereferenced while the attacker forces a page fault. The faulting load causes the processor to mis-speculate by forwarding untrusted_arg as the (transient) load result. The processor then uses untrusted_arg for the pointer dereference. After the fault has been handled and the load has been re-issued with the correct argument, secret-dependent information stored at the address of trusted_ptr remains in microarchitectural state and can be extracted by an attacker using a vulnerable code sequence.\n",
    "            \"\"\",\n",
    "        ),\n",
    "        (\n",
    "           \"human\",\n",
    "           \"\"\"\n",
    "           # CWE-291: Reliance on IP Address for Authentication\\n\\n## Description\\nThe product uses an IP address for authentication.\\n\\n## Extended Description\\nIP addresses can be easily spoofed. Attackers can forge the source IP address of the packets they send, but response packets will return to the forged IP address. To see the response packets, the attacker has to sniff the traffic between the victim machine and the forged IP address. In order to accomplish the required sniffing, attackers typically attempt to locate themselves on the same subnet as the victim machine. Attackers may be able to circumvent this requirement by using source routing, but source routing is disabled across much of the Internet today. In summary, IP address verification can be a useful part of an authentication scheme, but it should not be the single factor required for authentication.\n",
    "           \"\"\",\n",
    "        ),\n",
    "        (\n",
    "           \"ai\",\n",
    "           \"\"\"\n",
    "           # CWE-291: Reliance on IP Address for Authentication\\n\\n## Description\\nThe product uses an IP address for authentication.\\n\\n## Extended Description\\nIP addresses can be easily spoofed. Attackers can forge the source IP address of the packets they send, but response packets will return to the forged IP address. To see the response packets, the attacker has to sniff the traffic between the victim machine and the forged IP address. In order to accomplish the required sniffing, attackers typically attempt to locate themselves on the same subnet as the victim machine. Attackers may be able to circumvent this requirement by using source routing, but source routing is disabled across much of the Internet today. In summary, IP address verification can be a useful part of an authentication scheme, but it should not be the single factor required for authentication.\\n\\n## Demonstrative Scenario\\n\\n### Scenario\\n\\nBoth of these examples check if a request is from a trusted address before responding to the request.\\n\\n### Vulnerable Java Code\\n```java\\nwhile(true) {{\\n\\t\\t\\tDatagramPacket rp=new DatagramPacket(rData,rData.length);\\n\\t\\t\\toutSock.receive(rp);\\n\\t\\t\\tString in = new String(p.getData(),0, rp.getLength());\\n\\t\\t\\tInetAddress clientIPAddress = rp.getAddress();\\n\\t\\t\\tint port = rp.getPort();\\n\\t\\t\\tif (isTrustedAddress(clientIPAddress) & secretKey.equals(in)) {{\\n\\t\\t\\t\\tout = secret.getBytes();\\n\\t\\t\\t\\tDatagramPacket sp =new DatagramPacket(out,out.length, IPAddress, port); outSock.send(sp);\\n\\t\\t\\t}}\\n\\t}}\\n```\\n\\n### Analysis\\n\\nThe code only verifies the address as stored in the request packet. An attacker can spoof this address, thus impersonating a trusted client.\n",
    "                   \"\"\",\n",
    "        ),\n",
    "        #(\n",
    "        #   \"human\",\n",
    "        #   \"\"\"\n",
    "        #    CWE-319: Cleartext Transmission of Sensitive Information\\n\\n## Description\\nThe product transmits sensitive or security-critical data in cleartext in a communication channel that can be sniffed by unauthorized actors.\\n\\n## Demonstrative Example\\n\\n### Intro\\n\\nThe following code attempts to establish a connection to a site to communicate sensitive information.\\n\\n### Vulnerable Code\\n```java\\ntry {{\\n\\t\\tURL u = new URL(\"http://www.secret.example.org/\");\\n\\t\\tHttpURLConnection hu = (HttpURLConnection) u.openConnection();\\n\\t\\thu.setRequestMethod(\"PUT\");\\n\\t\\thu.connect();\\n\\t\\tOutputStream os = hu.getOutputStream();\\n\\t\\thu.disconnect();\\n\\t}}\\n\\tcatch (IOException e) {{\\n\\n//...* \\n\\t\\t}}\\n```\\n\\n### Analysis\\n\\nThough a connection is successfully made, the connection is unencrypted and it is possible that all sensitive data sent to or received from the server will be read by unintended actors.\n",
    "        #   \"\"\",\n",
    "        #),\n",
    "        #(\n",
    "        #   \"ai\",\n",
    "        #   \"\"\"\n",
    "        #   # CWE-319: Cleartext Transmission of Sensitive Information\\n\\n## Description\\nThe product transmits sensitive or security-critical data in cleartext in a communication channel that can be sniffed by unauthorized actors.\\n\\n## Extended Description\\n\\n\\nMany communication channels can be \"sniffed\" (monitored) by adversaries during data transmission. For example, in networking, packets can traverse many intermediary nodes from the source to the destination, whether across the internet, an internal network, the cloud, etc. Some actors might have privileged access to a network interface or any link along the channel, such as a router, but they might not be authorized to collect the underlying data. As a result, network traffic could be sniffed by adversaries, spilling security-critical data.\\n\\n\\nApplicable communication channels are not limited to software products. Applicable channels include hardware-specific technologies such as internal hardware networks and external debug channels, supporting remote JTAG debugging. When mitigations are not applied to combat adversaries within the product's threat model, this weakness significantly lowers the difficulty of exploitation by such adversaries.\\n\\n\\nWhen full communications are recorded or logged, such as with a packet dump, an adversary could attempt to obtain the dump long after the transmission has occurred and try to \"sniff\" the cleartext from the recorded communications in the dump itself. Even if the information is encoded in a way that is not human-readable, certain techniques could determine which encoding is being used, then decode the information. \\n\\n\\n## Demonstrative Scenario\\n\\n### Scenario\\n\\nThe following code attempts to establish a connection to a site to communicate sensitive information.\\n\\n### Vulnerable Java Code\\n```java\\ntry {{\\n\\t\\tURL u = new URL(\"http://www.secret.example.org/\");\\n\\t\\tHttpURLConnection hu = (HttpURLConnection) u.openConnection();\\n\\t\\thu.setRequestMethod(\"PUT\");\\n\\t\\thu.connect();\\n\\t\\tOutputStream os = hu.getOutputStream();\\n\\t\\thu.disconnect();\\n\\t}}\\n\\tcatch (IOException e) {{\\n\\n//...* \\n\\t\\t}}\\n```\\n\\n### Analysis\\n\\nThough a connection is successfully made, the connection is unencrypted and it is possible that all sensitive data sent to or received from the server will be read by unintended actors.\n",
    "        #   \"\"\",\n",
    "        #),\n",
    "        (\"human\", \"{msg}\"),\n",
    "    ]\n",
    ")\n",
    "\n",
    "\n",
    "def parser(message: ReplySchema):\n",
    "    return message.model_dump_json()\n",
    "\n",
    "\n",
    "llm = llm.with_structured_output(ReplySchema)\n",
    "chain = prompt | llm | parser"
   ]
  },
  {
   "cell_type": "code",
   "execution_count": 15,
   "id": "5a896538",
   "metadata": {},
   "outputs": [
    {
     "name": "stdout",
     "output_type": "stream",
     "text": [
      "INFO: Pandarallel will run on 15 workers.\n",
      "INFO: Pandarallel will use Memory file system to transfer data between the main process and workers.\n"
     ]
    }
   ],
   "source": [
    "from utils import *\n",
    "from pandarallel import pandarallel\n",
    "from tenacity import (\n",
    "    retry,\n",
    "    stop_after_attempt,\n",
    "    wait_exponential,\n",
    "    retry_if_exception_type,\n",
    ")\n",
    "from openai import OpenAIError, RateLimitError  # Explicitly import errors\n",
    "\n",
    "pandarallel.initialize(progress_bar=True, nb_workers=15)\n",
    "\n",
    "\"\"\"\n",
    "@retry(\n",
    "    stop=stop_after_attempt(5),  # Retry up to 5 times\n",
    "    wait=wait_exponential(multiplier=2, min=0.25, max=10),  # Exponential backoff\n",
    "    retry=retry_if_exception_type(RateLimitError),  # Retry only on rate limit errors\n",
    ")\n",
    "\"\"\"\n",
    "\n",
    "\n",
    "def _gpt_classify(msg):\n",
    "    if not msg or not isinstance(msg, str):  # Check for empty/invalid messages\n",
    "        return None\n",
    "    return chain.invoke({\"msg\": msg})  # Adjusted for OpenAI API format\n",
    "\n",
    "\n",
    "def gpt_classify(msg):\n",
    "    try:\n",
    "        return _gpt_classify(msg)\n",
    "    except OpenAIError as e:  # Catch all OpenAI-specific errors\n",
    "        print(f\"OpenAI API error: {e}\")\n",
    "    except Exception as e:\n",
    "        print(f\"General error processing message: {e}\")\n",
    "    return None"
   ]
  },
  {
   "cell_type": "code",
   "execution_count": 16,
   "id": "dcc472dd",
   "metadata": {},
   "outputs": [
    {
     "name": "stdout",
     "output_type": "stream",
     "text": [
      "The file at tmp/gpt_cwe_desc_few_df.pkl does not exist. Setting gpt_response to 'None'\n"
     ]
    }
   ],
   "source": [
    "import pickle\n",
    "import os\n",
    "\n",
    "file_path = \"tmp/gpt_cwe_desc_few_df.pkl\"\n",
    "\n",
    "# Define the path to your pickle file\n",
    "\n",
    "# Check if the file exists\n",
    "if os.path.exists(file_path):\n",
    "    with open(file_path, \"rb\") as file:\n",
    "        cwes_df = pickle.load(file)\n",
    "    print(\"Pickle file loaded successfully!\")\n",
    "else:\n",
    "    print(f\"The file at {file_path} does not exist. Setting gpt_response to 'None'\")\n",
    "    cwes_df[\"gpt_cwe_description\"] = cwes_df.Summary\n",
    "    cwes_df.loc[\n",
    "        cwes_df.ExtendedDescription.isna() | cwes_df.DemonstrativeExamples.isna(),\n",
    "        \"gpt_cwe_description\",\n",
    "    ] = None"
   ]
  },
  {
   "cell_type": "code",
   "execution_count": 12,
   "id": "81dd2366",
   "metadata": {},
   "outputs": [
    {
     "data": {
      "text/plain": [
       "Index(['ID', 'Name', 'Abstraction', 'Structure', 'Status', 'Description',\n",
       "       'ExtendedDescription', 'ApplicablePlatforms', 'AlternateTerms',\n",
       "       'ModesOfIntroduction', 'CommonConsequences', 'PotentialMitigations',\n",
       "       'ObservedExamples', 'AffectedResources', 'TaxonomyMappings',\n",
       "       'RelatedAttackPatterns', 'References', 'Notes', 'ContentHistory',\n",
       "       'MappingNotes_Usage', 'MappingNotes_Rationale', 'MappingNotes_Comments',\n",
       "       'MappingNotes_Reasons', 'MappingNotes_Suggestions', 'RelatedWeaknesses',\n",
       "       'WeaknessOrdinalities', 'DetectionMethods', 'DemonstrativeExamples',\n",
       "       'FunctionalAreas', 'Diagram', 'LikelihoodOfExploit',\n",
       "       'BackgroundDetails', 'NumPaths', 'Paths', 'Children', 'Summary',\n",
       "       'gpt_cwe_description'],\n",
       "      dtype='object')"
      ]
     },
     "execution_count": 12,
     "metadata": {},
     "output_type": "execute_result"
    }
   ],
   "source": [
    "cwes_df.columns"
   ]
  },
  {
   "cell_type": "code",
   "execution_count": 21,
   "id": "31a79ba1",
   "metadata": {},
   "outputs": [
    {
     "data": {
      "application/vnd.jupyter.widget-view+json": {
       "model_id": "91880278e7964a34b70b31c58aa58ffa",
       "version_major": 2,
       "version_minor": 0
      },
      "text/plain": [
       "VBox(children=(HBox(children=(IntProgress(value=0, description='0.00%', max=1), Label(value='0 / 1'))),))"
      ]
     },
     "metadata": {},
     "output_type": "display_data"
    },
    {
     "name": "stdout",
     "output_type": "stream",
     "text": [
      "OpenAI API error: Could not parse response content as the length limit was reached - CompletionUsage(completion_tokens=10000, prompt_tokens=1615, total_tokens=11615, completion_tokens_details=CompletionTokensDetails(accepted_prediction_tokens=0, audio_tokens=0, reasoning_tokens=0, rejected_prediction_tokens=0), prompt_tokens_details=PromptTokensDetails(audio_tokens=0, cached_tokens=1408))\n",
      "Retry 1: Processed 1 rows\n"
     ]
    },
    {
     "data": {
      "application/vnd.jupyter.widget-view+json": {
       "model_id": "9fe2899b52eb45c1b6c5a7b809f503e2",
       "version_major": 2,
       "version_minor": 0
      },
      "text/plain": [
       "VBox(children=(HBox(children=(IntProgress(value=0, description='0.00%', max=1), Label(value='0 / 1'))),))"
      ]
     },
     "metadata": {},
     "output_type": "display_data"
    },
    {
     "name": "stdout",
     "output_type": "stream",
     "text": [
      "OpenAI API error: Could not parse response content as the length limit was reached - CompletionUsage(completion_tokens=10000, prompt_tokens=1615, total_tokens=11615, completion_tokens_details=CompletionTokensDetails(accepted_prediction_tokens=0, audio_tokens=0, reasoning_tokens=0, rejected_prediction_tokens=0), prompt_tokens_details=PromptTokensDetails(audio_tokens=0, cached_tokens=1408))\n",
      "Retry 2: Processed 1 rows\n"
     ]
    },
    {
     "data": {
      "application/vnd.jupyter.widget-view+json": {
       "model_id": "573c9454494f4cfe92014a46c13dabc0",
       "version_major": 2,
       "version_minor": 0
      },
      "text/plain": [
       "VBox(children=(HBox(children=(IntProgress(value=0, description='0.00%', max=1), Label(value='0 / 1'))),))"
      ]
     },
     "metadata": {},
     "output_type": "display_data"
    },
    {
     "name": "stdout",
     "output_type": "stream",
     "text": [
      "Retry 3: Processed 1 rows\n"
     ]
    }
   ],
   "source": [
    "import pickle\n",
    "import time\n",
    "\n",
    "retries = 0\n",
    "max_retries = 10\n",
    "file_path = \"tmp/gpt_cwe_desc_few_df.pkl\"\n",
    "DELAY = 1\n",
    "# test_df['gpt_response'] = None\n",
    "while not cwes_df[cwes_df.gpt_cwe_description.isna()].empty and retries < max_retries:\n",
    "    # Get indices of rows needing processing\n",
    "    na_indices = cwes_df[cwes_df.gpt_cwe_description.isna()].index\n",
    "\n",
    "    if len(na_indices) == 0:\n",
    "        break\n",
    "\n",
    "    # Process ONLY those rows and assign directly to original DF\n",
    "    cwes_df.loc[na_indices, \"gpt_cwe_description\"] = cwes_df.loc[\n",
    "        na_indices, \"Summary\"\n",
    "    ].parallel_apply(gpt_classify)\n",
    "\n",
    "    with open(file_path, \"wb\") as file:  # 'wb' mode writes in binary format\n",
    "        pickle.dump(cwes_df, file)\n",
    "    retries += 1\n",
    "    print(f\"Retry {retries}: Processed {len(na_indices)} rows\")\n",
    "    time.sleep(DELAY)"
   ]
  },
  {
   "cell_type": "code",
   "execution_count": 22,
   "id": "ed6903a6",
   "metadata": {},
   "outputs": [],
   "source": [
    "import json\n",
    "\n",
    "mask = cwes_df[\"gpt_cwe_description\"].str.contains(\n",
    "    r\"^\\{\\\"gpt_cwe_description\\\":\", na=False\n",
    ")\n",
    "cwes_df.loc[mask, \"gpt_cwe_description\"] = cwes_df.loc[\n",
    "    mask, \"gpt_cwe_description\"\n",
    "].apply(lambda x: json.loads(x)[\"gpt_cwe_description\"])"
   ]
  },
  {
   "cell_type": "code",
   "execution_count": 20,
   "id": "649f114f",
   "metadata": {},
   "outputs": [
    {
     "data": {
      "text/markdown": [
       "# CWE-623: Unsafe ActiveX Control Marked Safe For Scripting\n",
       "\n",
       "## Description\n",
       "An ActiveX control is intended for restricted use, but it has been marked as safe-for-scripting.\n",
       "\n",
       "## Extended Description\n",
       "This might allow attackers to use dangerous functionality via a web page that accesses the control, which can lead to different resultant vulnerabilities, depending on the control's behavior.\n",
       "\n",
       "## Demonstrative Scenario\n",
       "\n",
       "### Scenario\n",
       "An attacker creates a malicious web page that utilizes an ActiveX control marked as safe-for-scripting. When a user visits this page, the control executes potentially harmful actions on the user's system without their consent.\n",
       "\n",
       "### Vulnerable HTML Code\n",
       "```html\n",
       "<html>\n",
       "<head>\n",
       "<title>Malicious Page</title>\n",
       "</head>\n",
       "<body>\n",
       "<script>\n",
       "  var obj = new ActiveXObject('UnsafeControl');\n",
       "  obj.dangerousMethod(); // This method could perform harmful actions\n",
       "</script>\n",
       "</body>\n",
       "</html>\n",
       "```\n",
       "\n",
       "### Analysis\n",
       "In this scenario, the ActiveX control 'UnsafeControl' is marked as safe-for-scripting, allowing it to be instantiated and used in a web page. The method 'dangerousMethod()' could perform actions such as accessing the file system, modifying system settings, or executing arbitrary code. Since the control is intended for restricted use, marking it as safe-for-scripting exposes users to significant security risks, as attackers can exploit this functionality to execute malicious actions on the user's machine."
      ],
      "text/plain": [
       "<IPython.core.display.Markdown object>"
      ]
     },
     "metadata": {},
     "output_type": "display_data"
    }
   ],
   "source": [
    "from IPython.display import display, Markdown\n",
    "\n",
    "display(\n",
    "    Markdown(\n",
    "        cwes_df[cwes_df.gpt_cwe_description != cwes_df.Summary][\n",
    "            \"gpt_cwe_description\"\n",
    "        ].iloc[10]\n",
    "    )\n",
    ")"
   ]
  },
  {
   "cell_type": "code",
   "execution_count": 36,
   "id": "e18507bd",
   "metadata": {},
   "outputs": [
    {
     "name": "stderr",
     "output_type": "stream",
     "text": [
      "Using the latest cached version of the dataset since Eathus/cwe_view1000_list_gpt_few_cwe_desc couldn't be found on the Hugging Face Hub\n",
      "Found the latest cached dataset configuration 'default' at /home/edvinn/.cache/huggingface/datasets/Eathus___cwe_view1000_list_gpt_few_cwe_desc/default/0.0.0/f514e2a15842a43c203e9e39aeab346e1d9050fd (last modified on Wed May 28 16:33:41 2025).\n",
      "Using the latest cached version of the dataset since Eathus/cwe_view1000_raw_list couldn't be found on the Hugging Face Hub\n",
      "Found the latest cached dataset configuration 'default' at /home/edvinn/.cache/huggingface/datasets/Eathus___cwe_view1000_raw_list/default/0.0.0/2c8d79ed3c8c5b99885a627f055d60b440763da5 (last modified on Wed May 28 16:05:27 2025).\n"
     ]
    },
    {
     "name": "stdout",
     "output_type": "stream",
     "text": [
      "Index(['ID', 'Name', 'Abstraction', 'Structure', 'Status', 'Description',\n",
      "       'ExtendedDescription', 'ApplicablePlatforms', 'AlternateTerms',\n",
      "       'ModesOfIntroduction', 'CommonConsequences', 'PotentialMitigations',\n",
      "       'ObservedExamples', 'AffectedResources', 'TaxonomyMappings',\n",
      "       'RelatedAttackPatterns', 'References', 'Notes', 'ContentHistory',\n",
      "       'MappingNotes_Usage', 'MappingNotes_Rationale', 'MappingNotes_Comments',\n",
      "       'MappingNotes_Reasons', 'MappingNotes_Suggestions', 'RelatedWeaknesses',\n",
      "       'WeaknessOrdinalities', 'DetectionMethods', 'DemonstrativeExamples',\n",
      "       'FunctionalAreas', 'Diagram', 'LikelihoodOfExploit',\n",
      "       'BackgroundDetails', 'NumPaths', 'Paths', 'Children', 'Summary',\n",
      "       'gpt_cwe_description'],\n",
      "      dtype='object')\n",
      "Index(['ID', 'Name', 'Abstraction', 'Structure', 'Status', 'Description',\n",
      "       'ExtendedDescription', 'ApplicablePlatforms', 'AlternateTerms',\n",
      "       'ModesOfIntroduction', 'CommonConsequences', 'PotentialMitigations',\n",
      "       'ObservedExamples', 'AffectedResources', 'TaxonomyMappings',\n",
      "       'RelatedAttackPatterns', 'References', 'Notes', 'ContentHistory',\n",
      "       'MappingNotes_Usage', 'MappingNotes_Rationale', 'MappingNotes_Comments',\n",
      "       'MappingNotes_Reasons', 'MappingNotes_Suggestions', 'RelatedWeaknesses',\n",
      "       'WeaknessOrdinalities', 'DetectionMethods', 'DemonstrativeExamples',\n",
      "       'FunctionalAreas', 'Diagram', 'LikelihoodOfExploit',\n",
      "       'BackgroundDetails', 'NumPaths', 'Paths', 'Children'],\n",
      "      dtype='object')\n"
     ]
    }
   ],
   "source": [
    "from datasets import load_dataset\n",
    "import pandas as pd\n",
    "\n",
    "gpt_cwes = load_dataset(\"Eathus/cwe_view1000_list_gpt_few_cwe_desc\", split=\"train\")\n",
    "gpt_cwes_df = gpt_cwes.to_pandas()\n",
    "\n",
    "cwes_raw = load_dataset(\"Eathus/cwe_view1000_raw_list\", split=\"train\")\n",
    "cwes_raw_df = cwes_raw.to_pandas()\n",
    "\n",
    "print(gpt_cwes_df.columns)\n",
    "print(cwes_raw_df.columns)"
   ]
  },
  {
   "cell_type": "code",
   "execution_count": null,
   "id": "3437b3e1",
   "metadata": {},
   "outputs": [],
   "source": [
    "print(len(gpt_cwes_df))\n",
    "print(len(cwes_raw_df))"
   ]
  },
  {
   "cell_type": "code",
   "execution_count": 38,
   "id": "eda6e267",
   "metadata": {},
   "outputs": [
    {
     "name": "stdout",
     "output_type": "stream",
     "text": [
      "940\n",
      "Index(['ID', 'Name', 'Abstraction', 'Structure', 'Status', 'Description',\n",
      "       'ExtendedDescription', 'ApplicablePlatforms', 'AlternateTerms',\n",
      "       'ModesOfIntroduction', 'CommonConsequences', 'PotentialMitigations',\n",
      "       'ObservedExamples', 'AffectedResources', 'TaxonomyMappings',\n",
      "       'RelatedAttackPatterns', 'References', 'Notes', 'ContentHistory',\n",
      "       'MappingNotes_Usage', 'MappingNotes_Rationale', 'MappingNotes_Comments',\n",
      "       'MappingNotes_Reasons', 'MappingNotes_Suggestions', 'RelatedWeaknesses',\n",
      "       'WeaknessOrdinalities', 'DetectionMethods', 'DemonstrativeExamples',\n",
      "       'FunctionalAreas', 'Diagram', 'LikelihoodOfExploit',\n",
      "       'BackgroundDetails', 'NumPaths', 'Paths', 'Children', 'Summary',\n",
      "       'gpt_cwe_description'],\n",
      "      dtype='object')\n"
     ]
    }
   ],
   "source": [
    "import pandas as pd\n",
    "\n",
    "cwes_df = pd.merge(\n",
    "    cwes_raw_df, gpt_cwes_df[[\"ID\", \"Summary\", \"gpt_cwe_description\"]], on=\"ID\"\n",
    ")\n",
    "print(len(cwes_df))\n",
    "print(cwes_df.columns)"
   ]
  },
  {
   "cell_type": "code",
   "execution_count": 57,
   "id": "082c223a",
   "metadata": {},
   "outputs": [
    {
     "data": {
      "text/plain": [
       "Index(['ID', 'Name', 'Abstraction', 'Structure', 'Status', 'Description',\n",
       "       'ExtendedDescription', 'ApplicablePlatforms', 'AlternateTerms',\n",
       "       'ModesOfIntroduction', 'CommonConsequences', 'PotentialMitigations',\n",
       "       'ObservedExamples', 'AffectedResources', 'TaxonomyMappings',\n",
       "       'RelatedAttackPatterns', 'References', 'Notes', 'ContentHistory',\n",
       "       'MappingNotes_Usage', 'MappingNotes_Rationale', 'MappingNotes_Comments',\n",
       "       'MappingNotes_Reasons', 'MappingNotes_Suggestions', 'RelatedWeaknesses',\n",
       "       'WeaknessOrdinalities', 'DetectionMethods', 'DemonstrativeExamples',\n",
       "       'FunctionalAreas', 'Diagram', 'LikelihoodOfExploit',\n",
       "       'BackgroundDetails', 'NumPaths', 'Paths', 'Children', 'Summary',\n",
       "       'gpt_cwe_description'],\n",
       "      dtype='object')"
      ]
     },
     "execution_count": 57,
     "metadata": {},
     "output_type": "execute_result"
    }
   ],
   "source": [
    "cwes_df.columns"
   ]
  },
  {
   "cell_type": "code",
   "execution_count": 41,
   "id": "9c06ff7f",
   "metadata": {},
   "outputs": [
    {
     "data": {
      "application/vnd.jupyter.widget-view+json": {
       "model_id": "5d12cd0496444b77932c5ee88d1e6c1d",
       "version_major": 2,
       "version_minor": 0
      },
      "text/plain": [
       "Uploading the dataset shards:   0%|          | 0/1 [00:00<?, ?it/s]"
      ]
     },
     "metadata": {},
     "output_type": "display_data"
    },
    {
     "data": {
      "application/vnd.jupyter.widget-view+json": {
       "model_id": "b44f8bd517fd45f3adee723a8b7bc78f",
       "version_major": 2,
       "version_minor": 0
      },
      "text/plain": [
       "Creating parquet from Arrow format:   0%|          | 0/1 [00:00<?, ?ba/s]"
      ]
     },
     "metadata": {},
     "output_type": "display_data"
    },
    {
     "data": {
      "application/vnd.jupyter.widget-view+json": {
       "model_id": "faa9f4ff6e864a9b9cf3e5599abea548",
       "version_major": 2,
       "version_minor": 0
      },
      "text/plain": [
       "README.md:   0%|          | 0.00/5.43k [00:00<?, ?B/s]"
      ]
     },
     "metadata": {},
     "output_type": "display_data"
    },
    {
     "name": "stderr",
     "output_type": "stream",
     "text": [
      "No files have been modified since last commit. Skipping to prevent empty commit.\n"
     ]
    },
    {
     "data": {
      "text/plain": [
       "CommitInfo(commit_url='https://huggingface.co/datasets/Eathus/cwe_view1000_list_gpt_few_cwe_desc_final/commit/85e1ad6c587331a8c6290de59eb065656c8803c5', commit_message='Upload dataset', commit_description='', oid='85e1ad6c587331a8c6290de59eb065656c8803c5', pr_url=None, repo_url=RepoUrl('https://huggingface.co/datasets/Eathus/cwe_view1000_list_gpt_few_cwe_desc_final', endpoint='https://huggingface.co', repo_type='dataset', repo_id='Eathus/cwe_view1000_list_gpt_few_cwe_desc_final'), pr_revision=None, pr_num=None)"
      ]
     },
     "execution_count": 41,
     "metadata": {},
     "output_type": "execute_result"
    }
   ],
   "source": [
    "from datasets import Dataset\n",
    "\n",
    "ds_view1000_complete = Dataset.from_pandas(cwes_df)\n",
    "ds_view1000_complete.push_to_hub(\"Eathus/cwe_view1000_list_gpt_few_cwe_desc_final\")"
   ]
  }
 ],
 "metadata": {
  "kernelspec": {
   "display_name": "mthesis_cpyenv",
   "language": "python",
   "name": "python3"
  },
  "language_info": {
   "codemirror_mode": {
    "name": "ipython",
    "version": 3
   },
   "file_extension": ".py",
   "mimetype": "text/x-python",
   "name": "python",
   "nbconvert_exporter": "python",
   "pygments_lexer": "ipython3",
   "version": "3.10.16"
  }
 },
 "nbformat": 4,
 "nbformat_minor": 5
}
